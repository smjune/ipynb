{
 "cells": [
  {
   "attachments": {},
   "cell_type": "markdown",
   "metadata": {},
   "source": [
    "### EDA을 위한 다양한 pandas function 연습  \n",
    "---\n",
    "참고링크 : https://pandas.pydata.org/docs/user_guide/10min.html  "
   ]
  },
  {
   "cell_type": "code",
   "execution_count": 2,
   "metadata": {},
   "outputs": [
    {
     "name": "stderr",
     "output_type": "stream",
     "text": [
      "/Users/myoungjunesung/.pyenv/versions/3.7.6/lib/python3.7/site-packages/pandas/compat/__init__.py:124: UserWarning: Could not import the lzma module. Your installed Python is incomplete. Attempting to use lzma compression will result in a RuntimeError.\n",
      "  warnings.warn(msg)\n"
     ]
    }
   ],
   "source": [
    "import numpy as np\n",
    "import pandas as pd"
   ]
  },
  {
   "attachments": {},
   "cell_type": "markdown",
   "metadata": {},
   "source": [
    "series and dataFrame 을 만들어 보고, 차이점을 기억해 두자\n",
    "series 1차 배열\n",
    "dataFrame 2차 배열"
   ]
  },
  {
   "cell_type": "code",
   "execution_count": 3,
   "metadata": {},
   "outputs": [
    {
     "data": {
      "text/plain": [
       "0    1.0\n",
       "1    3.0\n",
       "2    5.0\n",
       "3    NaN\n",
       "4    6.0\n",
       "5    8.0\n",
       "dtype: float64"
      ]
     },
     "execution_count": 3,
     "metadata": {},
     "output_type": "execute_result"
    }
   ],
   "source": [
    "s = pd.Series([1, 3, 5, np.nan, 6, 8])\n",
    "s"
   ]
  },
  {
   "cell_type": "code",
   "execution_count": 4,
   "metadata": {},
   "outputs": [
    {
     "data": {
      "text/plain": [
       "DatetimeIndex(['2013-01-01', '2013-01-02', '2013-01-03', '2013-01-04',\n",
       "               '2013-01-05', '2013-01-06'],\n",
       "              dtype='datetime64[ns]', freq='D')"
      ]
     },
     "execution_count": 4,
     "metadata": {},
     "output_type": "execute_result"
    }
   ],
   "source": [
    "dates = pd.date_range(\"20130101\", periods=6)\n",
    "dates"
   ]
  },
  {
   "cell_type": "code",
   "execution_count": 5,
   "metadata": {},
   "outputs": [
    {
     "data": {
      "text/html": [
       "<div>\n",
       "<style scoped>\n",
       "    .dataframe tbody tr th:only-of-type {\n",
       "        vertical-align: middle;\n",
       "    }\n",
       "\n",
       "    .dataframe tbody tr th {\n",
       "        vertical-align: top;\n",
       "    }\n",
       "\n",
       "    .dataframe thead th {\n",
       "        text-align: right;\n",
       "    }\n",
       "</style>\n",
       "<table border=\"1\" class=\"dataframe\">\n",
       "  <thead>\n",
       "    <tr style=\"text-align: right;\">\n",
       "      <th></th>\n",
       "      <th>A</th>\n",
       "      <th>B</th>\n",
       "      <th>C</th>\n",
       "      <th>D</th>\n",
       "    </tr>\n",
       "  </thead>\n",
       "  <tbody>\n",
       "    <tr>\n",
       "      <th>2013-01-01</th>\n",
       "      <td>-0.724787</td>\n",
       "      <td>-1.571578</td>\n",
       "      <td>-0.790210</td>\n",
       "      <td>-1.593020</td>\n",
       "    </tr>\n",
       "    <tr>\n",
       "      <th>2013-01-02</th>\n",
       "      <td>0.628278</td>\n",
       "      <td>-0.008546</td>\n",
       "      <td>2.157422</td>\n",
       "      <td>1.173839</td>\n",
       "    </tr>\n",
       "    <tr>\n",
       "      <th>2013-01-03</th>\n",
       "      <td>-2.634815</td>\n",
       "      <td>0.319209</td>\n",
       "      <td>0.449520</td>\n",
       "      <td>2.025052</td>\n",
       "    </tr>\n",
       "    <tr>\n",
       "      <th>2013-01-04</th>\n",
       "      <td>1.375928</td>\n",
       "      <td>-0.022579</td>\n",
       "      <td>-0.274962</td>\n",
       "      <td>0.800235</td>\n",
       "    </tr>\n",
       "    <tr>\n",
       "      <th>2013-01-05</th>\n",
       "      <td>2.213788</td>\n",
       "      <td>-1.187252</td>\n",
       "      <td>-0.664868</td>\n",
       "      <td>-0.007087</td>\n",
       "    </tr>\n",
       "    <tr>\n",
       "      <th>2013-01-06</th>\n",
       "      <td>-0.713271</td>\n",
       "      <td>-0.177195</td>\n",
       "      <td>-0.844971</td>\n",
       "      <td>1.057297</td>\n",
       "    </tr>\n",
       "  </tbody>\n",
       "</table>\n",
       "</div>"
      ],
      "text/plain": [
       "                   A         B         C         D\n",
       "2013-01-01 -0.724787 -1.571578 -0.790210 -1.593020\n",
       "2013-01-02  0.628278 -0.008546  2.157422  1.173839\n",
       "2013-01-03 -2.634815  0.319209  0.449520  2.025052\n",
       "2013-01-04  1.375928 -0.022579 -0.274962  0.800235\n",
       "2013-01-05  2.213788 -1.187252 -0.664868 -0.007087\n",
       "2013-01-06 -0.713271 -0.177195 -0.844971  1.057297"
      ]
     },
     "execution_count": 5,
     "metadata": {},
     "output_type": "execute_result"
    }
   ],
   "source": [
    "df = pd.DataFrame(np.random.randn(6, 4), index=dates, columns=list(\"ABCD\"))\n",
    "df"
   ]
  },
  {
   "cell_type": "markdown",
   "metadata": {},
   "source": [
    "dataFrame : DataFrame은 2차원 배열 데이터라고 이해하는 것보다 공통 인덱스를 가진 column series를 딕셔너리로 묶어놓은 것"
   ]
  },
  {
   "cell_type": "code",
   "execution_count": 6,
   "metadata": {},
   "outputs": [
    {
     "data": {
      "text/html": [
       "<div>\n",
       "<style scoped>\n",
       "    .dataframe tbody tr th:only-of-type {\n",
       "        vertical-align: middle;\n",
       "    }\n",
       "\n",
       "    .dataframe tbody tr th {\n",
       "        vertical-align: top;\n",
       "    }\n",
       "\n",
       "    .dataframe thead th {\n",
       "        text-align: right;\n",
       "    }\n",
       "</style>\n",
       "<table border=\"1\" class=\"dataframe\">\n",
       "  <thead>\n",
       "    <tr style=\"text-align: right;\">\n",
       "      <th></th>\n",
       "      <th>A</th>\n",
       "      <th>B</th>\n",
       "      <th>C</th>\n",
       "      <th>D</th>\n",
       "      <th>E</th>\n",
       "      <th>F</th>\n",
       "    </tr>\n",
       "  </thead>\n",
       "  <tbody>\n",
       "    <tr>\n",
       "      <th>0</th>\n",
       "      <td>1.0</td>\n",
       "      <td>2013-01-02</td>\n",
       "      <td>1.0</td>\n",
       "      <td>3</td>\n",
       "      <td>test</td>\n",
       "      <td>foo</td>\n",
       "    </tr>\n",
       "    <tr>\n",
       "      <th>1</th>\n",
       "      <td>1.0</td>\n",
       "      <td>2013-01-02</td>\n",
       "      <td>1.0</td>\n",
       "      <td>3</td>\n",
       "      <td>train</td>\n",
       "      <td>foo</td>\n",
       "    </tr>\n",
       "    <tr>\n",
       "      <th>2</th>\n",
       "      <td>1.0</td>\n",
       "      <td>2013-01-02</td>\n",
       "      <td>1.0</td>\n",
       "      <td>3</td>\n",
       "      <td>test</td>\n",
       "      <td>foo</td>\n",
       "    </tr>\n",
       "    <tr>\n",
       "      <th>3</th>\n",
       "      <td>1.0</td>\n",
       "      <td>2013-01-02</td>\n",
       "      <td>1.0</td>\n",
       "      <td>3</td>\n",
       "      <td>train</td>\n",
       "      <td>foo</td>\n",
       "    </tr>\n",
       "  </tbody>\n",
       "</table>\n",
       "</div>"
      ],
      "text/plain": [
       "     A          B    C  D      E    F\n",
       "0  1.0 2013-01-02  1.0  3   test  foo\n",
       "1  1.0 2013-01-02  1.0  3  train  foo\n",
       "2  1.0 2013-01-02  1.0  3   test  foo\n",
       "3  1.0 2013-01-02  1.0  3  train  foo"
      ]
     },
     "execution_count": 6,
     "metadata": {},
     "output_type": "execute_result"
    }
   ],
   "source": [
    "df2 = pd.DataFrame(\n",
    "    {\n",
    "        \"A\": 1.0,\n",
    "        \"B\": pd.Timestamp(\"20130102\"),\n",
    "        \"C\": pd.Series(1, index=list(range(4)), dtype=\"float32\"),\n",
    "        \"D\": np.array([3] * 4, dtype=\"int32\"),\n",
    "        \"E\": pd.Categorical([\"test\", \"train\", \"test\", \"train\"]),\n",
    "        \"F\": \"foo\",\n",
    "    }\n",
    ")\n",
    "\n",
    "df2 \n",
    "# df2[:]\n",
    "# df2[:][:]\n",
    "# df2.loc[:,:]"
   ]
  },
  {
   "cell_type": "code",
   "execution_count": 7,
   "metadata": {},
   "outputs": [
    {
     "data": {
      "text/plain": [
       "A           float64\n",
       "B    datetime64[ns]\n",
       "C           float32\n",
       "D             int32\n",
       "E          category\n",
       "F            object\n",
       "dtype: object"
      ]
     },
     "execution_count": 7,
     "metadata": {},
     "output_type": "execute_result"
    }
   ],
   "source": [
    "df2.dtypes"
   ]
  },
  {
   "cell_type": "code",
   "execution_count": 8,
   "metadata": {},
   "outputs": [
    {
     "name": "stdout",
     "output_type": "stream",
     "text": [
      "                   A         B         C         D\n",
      "2013-01-01 -0.724787 -1.571578 -0.790210 -1.593020\n",
      "2013-01-02  0.628278 -0.008546  2.157422  1.173839 \n",
      "\n",
      "                   A         B         C         D\n",
      "2013-01-05  2.213788 -1.187252 -0.664868 -0.007087\n",
      "2013-01-06 -0.713271 -0.177195 -0.844971  1.057297 \n",
      "\n",
      "DatetimeIndex(['2013-01-01', '2013-01-02', '2013-01-03', '2013-01-04',\n",
      "               '2013-01-05', '2013-01-06'],\n",
      "              dtype='datetime64[ns]', freq='D') \n",
      "\n",
      "Index(['A', 'B', 'C', 'D'], dtype='object') \n",
      "\n"
     ]
    },
    {
     "data": {
      "text/html": [
       "<div>\n",
       "<style scoped>\n",
       "    .dataframe tbody tr th:only-of-type {\n",
       "        vertical-align: middle;\n",
       "    }\n",
       "\n",
       "    .dataframe tbody tr th {\n",
       "        vertical-align: top;\n",
       "    }\n",
       "\n",
       "    .dataframe thead th {\n",
       "        text-align: right;\n",
       "    }\n",
       "</style>\n",
       "<table border=\"1\" class=\"dataframe\">\n",
       "  <thead>\n",
       "    <tr style=\"text-align: right;\">\n",
       "      <th></th>\n",
       "      <th>A</th>\n",
       "      <th>B</th>\n",
       "      <th>C</th>\n",
       "      <th>D</th>\n",
       "    </tr>\n",
       "  </thead>\n",
       "  <tbody>\n",
       "    <tr>\n",
       "      <th>count</th>\n",
       "      <td>6.000000</td>\n",
       "      <td>6.000000</td>\n",
       "      <td>6.000000</td>\n",
       "      <td>6.000000</td>\n",
       "    </tr>\n",
       "    <tr>\n",
       "      <th>mean</th>\n",
       "      <td>0.024187</td>\n",
       "      <td>-0.441324</td>\n",
       "      <td>0.005322</td>\n",
       "      <td>0.576053</td>\n",
       "    </tr>\n",
       "    <tr>\n",
       "      <th>std</th>\n",
       "      <td>1.741355</td>\n",
       "      <td>0.754281</td>\n",
       "      <td>1.158657</td>\n",
       "      <td>1.247696</td>\n",
       "    </tr>\n",
       "    <tr>\n",
       "      <th>min</th>\n",
       "      <td>-2.634815</td>\n",
       "      <td>-1.571578</td>\n",
       "      <td>-0.844971</td>\n",
       "      <td>-1.593020</td>\n",
       "    </tr>\n",
       "    <tr>\n",
       "      <th>25%</th>\n",
       "      <td>-0.721908</td>\n",
       "      <td>-0.934738</td>\n",
       "      <td>-0.758874</td>\n",
       "      <td>0.194743</td>\n",
       "    </tr>\n",
       "    <tr>\n",
       "      <th>50%</th>\n",
       "      <td>-0.042497</td>\n",
       "      <td>-0.099887</td>\n",
       "      <td>-0.469915</td>\n",
       "      <td>0.928766</td>\n",
       "    </tr>\n",
       "    <tr>\n",
       "      <th>75%</th>\n",
       "      <td>1.189016</td>\n",
       "      <td>-0.012054</td>\n",
       "      <td>0.268400</td>\n",
       "      <td>1.144704</td>\n",
       "    </tr>\n",
       "    <tr>\n",
       "      <th>max</th>\n",
       "      <td>2.213788</td>\n",
       "      <td>0.319209</td>\n",
       "      <td>2.157422</td>\n",
       "      <td>2.025052</td>\n",
       "    </tr>\n",
       "  </tbody>\n",
       "</table>\n",
       "</div>"
      ],
      "text/plain": [
       "              A         B         C         D\n",
       "count  6.000000  6.000000  6.000000  6.000000\n",
       "mean   0.024187 -0.441324  0.005322  0.576053\n",
       "std    1.741355  0.754281  1.158657  1.247696\n",
       "min   -2.634815 -1.571578 -0.844971 -1.593020\n",
       "25%   -0.721908 -0.934738 -0.758874  0.194743\n",
       "50%   -0.042497 -0.099887 -0.469915  0.928766\n",
       "75%    1.189016 -0.012054  0.268400  1.144704\n",
       "max    2.213788  0.319209  2.157422  2.025052"
      ]
     },
     "execution_count": 8,
     "metadata": {},
     "output_type": "execute_result"
    }
   ],
   "source": [
    "print(df.head(2),'\\n')\n",
    "\n",
    "print(df.tail(2), '\\n')\n",
    "\n",
    "print(df.index, '\\n')\n",
    "\n",
    "print(df.columns, '\\n')\n",
    "\n",
    "df.describe()\n"
   ]
  },
  {
   "cell_type": "code",
   "execution_count": 9,
   "metadata": {},
   "outputs": [
    {
     "data": {
      "text/html": [
       "<div>\n",
       "<style scoped>\n",
       "    .dataframe tbody tr th:only-of-type {\n",
       "        vertical-align: middle;\n",
       "    }\n",
       "\n",
       "    .dataframe tbody tr th {\n",
       "        vertical-align: top;\n",
       "    }\n",
       "\n",
       "    .dataframe thead th {\n",
       "        text-align: right;\n",
       "    }\n",
       "</style>\n",
       "<table border=\"1\" class=\"dataframe\">\n",
       "  <thead>\n",
       "    <tr style=\"text-align: right;\">\n",
       "      <th></th>\n",
       "      <th>2013-01-01</th>\n",
       "      <th>2013-01-02</th>\n",
       "      <th>2013-01-03</th>\n",
       "      <th>2013-01-04</th>\n",
       "      <th>2013-01-05</th>\n",
       "      <th>2013-01-06</th>\n",
       "    </tr>\n",
       "  </thead>\n",
       "  <tbody>\n",
       "    <tr>\n",
       "      <th>A</th>\n",
       "      <td>-0.724787</td>\n",
       "      <td>0.628278</td>\n",
       "      <td>-2.634815</td>\n",
       "      <td>1.375928</td>\n",
       "      <td>2.213788</td>\n",
       "      <td>-0.713271</td>\n",
       "    </tr>\n",
       "    <tr>\n",
       "      <th>B</th>\n",
       "      <td>-1.571578</td>\n",
       "      <td>-0.008546</td>\n",
       "      <td>0.319209</td>\n",
       "      <td>-0.022579</td>\n",
       "      <td>-1.187252</td>\n",
       "      <td>-0.177195</td>\n",
       "    </tr>\n",
       "    <tr>\n",
       "      <th>C</th>\n",
       "      <td>-0.790210</td>\n",
       "      <td>2.157422</td>\n",
       "      <td>0.449520</td>\n",
       "      <td>-0.274962</td>\n",
       "      <td>-0.664868</td>\n",
       "      <td>-0.844971</td>\n",
       "    </tr>\n",
       "    <tr>\n",
       "      <th>D</th>\n",
       "      <td>-1.593020</td>\n",
       "      <td>1.173839</td>\n",
       "      <td>2.025052</td>\n",
       "      <td>0.800235</td>\n",
       "      <td>-0.007087</td>\n",
       "      <td>1.057297</td>\n",
       "    </tr>\n",
       "  </tbody>\n",
       "</table>\n",
       "</div>"
      ],
      "text/plain": [
       "   2013-01-01  2013-01-02  2013-01-03  2013-01-04  2013-01-05  2013-01-06\n",
       "A   -0.724787    0.628278   -2.634815    1.375928    2.213788   -0.713271\n",
       "B   -1.571578   -0.008546    0.319209   -0.022579   -1.187252   -0.177195\n",
       "C   -0.790210    2.157422    0.449520   -0.274962   -0.664868   -0.844971\n",
       "D   -1.593020    1.173839    2.025052    0.800235   -0.007087    1.057297"
      ]
     },
     "execution_count": 9,
     "metadata": {},
     "output_type": "execute_result"
    }
   ],
   "source": [
    "# 행, 열을 바꾼다. \n",
    "\n",
    "df.T"
   ]
  },
  {
   "cell_type": "code",
   "execution_count": 10,
   "metadata": {},
   "outputs": [
    {
     "data": {
      "text/plain": [
       "array([[-0.72478662, -1.57157845, -0.79020989, -1.59302026],\n",
       "       [ 0.62827783, -0.00854609,  2.15742221,  1.17383898],\n",
       "       [-2.63481527,  0.31920921,  0.4495203 ,  2.02505177],\n",
       "       [ 1.37592826, -0.02257933, -0.27496191,  0.8002348 ],\n",
       "       [ 2.2137885 , -1.18725168, -0.66486767, -0.0070875 ],\n",
       "       [-0.71327084, -0.17719534, -0.84497072,  1.05729733]])"
      ]
     },
     "execution_count": 10,
     "metadata": {},
     "output_type": "execute_result"
    }
   ],
   "source": [
    "df.to_numpy()"
   ]
  },
  {
   "attachments": {},
   "cell_type": "markdown",
   "metadata": {},
   "source": [
    "### Selection\n",
    "---\n",
    "[]  \n",
    "loc (or at)  \n",
    "iloc (or iat)  "
   ]
  },
  {
   "cell_type": "code",
   "execution_count": 13,
   "metadata": {},
   "outputs": [
    {
     "name": "stdout",
     "output_type": "stream",
     "text": [
      "2013-01-01   -0.724787\n",
      "2013-01-02    0.628278\n",
      "2013-01-03   -2.634815\n",
      "2013-01-04    1.375928\n",
      "2013-01-05    2.213788\n",
      "2013-01-06   -0.713271\n",
      "Freq: D, Name: A, dtype: float64 \n",
      "\n",
      "2013-01-01   -0.724787\n",
      "2013-01-02    0.628278\n",
      "2013-01-03   -2.634815\n",
      "2013-01-04    1.375928\n",
      "2013-01-05    2.213788\n",
      "2013-01-06   -0.713271\n",
      "Freq: D, Name: A, dtype: float64 \n",
      "\n",
      "                   A\n",
      "2013-01-01 -0.724787\n",
      "2013-01-02  0.628278\n",
      "2013-01-03 -2.634815\n",
      "2013-01-04  1.375928\n",
      "2013-01-05  2.213788\n",
      "2013-01-06 -0.713271 \n",
      "\n"
     ]
    },
    {
     "data": {
      "text/html": [
       "<div>\n",
       "<style scoped>\n",
       "    .dataframe tbody tr th:only-of-type {\n",
       "        vertical-align: middle;\n",
       "    }\n",
       "\n",
       "    .dataframe tbody tr th {\n",
       "        vertical-align: top;\n",
       "    }\n",
       "\n",
       "    .dataframe thead th {\n",
       "        text-align: right;\n",
       "    }\n",
       "</style>\n",
       "<table border=\"1\" class=\"dataframe\">\n",
       "  <thead>\n",
       "    <tr style=\"text-align: right;\">\n",
       "      <th></th>\n",
       "      <th>A</th>\n",
       "      <th>C</th>\n",
       "    </tr>\n",
       "  </thead>\n",
       "  <tbody>\n",
       "    <tr>\n",
       "      <th>2013-01-01</th>\n",
       "      <td>-0.724787</td>\n",
       "      <td>-0.790210</td>\n",
       "    </tr>\n",
       "    <tr>\n",
       "      <th>2013-01-02</th>\n",
       "      <td>0.628278</td>\n",
       "      <td>2.157422</td>\n",
       "    </tr>\n",
       "    <tr>\n",
       "      <th>2013-01-03</th>\n",
       "      <td>-2.634815</td>\n",
       "      <td>0.449520</td>\n",
       "    </tr>\n",
       "    <tr>\n",
       "      <th>2013-01-04</th>\n",
       "      <td>1.375928</td>\n",
       "      <td>-0.274962</td>\n",
       "    </tr>\n",
       "    <tr>\n",
       "      <th>2013-01-05</th>\n",
       "      <td>2.213788</td>\n",
       "      <td>-0.664868</td>\n",
       "    </tr>\n",
       "    <tr>\n",
       "      <th>2013-01-06</th>\n",
       "      <td>-0.713271</td>\n",
       "      <td>-0.844971</td>\n",
       "    </tr>\n",
       "  </tbody>\n",
       "</table>\n",
       "</div>"
      ],
      "text/plain": [
       "                   A         C\n",
       "2013-01-01 -0.724787 -0.790210\n",
       "2013-01-02  0.628278  2.157422\n",
       "2013-01-03 -2.634815  0.449520\n",
       "2013-01-04  1.375928 -0.274962\n",
       "2013-01-05  2.213788 -0.664868\n",
       "2013-01-06 -0.713271 -0.844971"
      ]
     },
     "execution_count": 13,
     "metadata": {},
     "output_type": "execute_result"
    }
   ],
   "source": [
    "print(df['A'],'\\n')\n",
    "print(df[:]['A'],'\\n')              #df.loc[:,'A']\n",
    "# df['2013-01-01':]['A']            # chained indexing ?\n",
    "# df.A\n",
    "\n",
    "## column 을 선택하게 되며 series 로 리턴된다.\n",
    "\n",
    "\n",
    "print(df[['A']],'\\n')               # df 으로 리턴 \n",
    "df[['A','C']]                       # dataFrame 리턴\n",
    "\n",
    "## 2개 이사, 이거나 [[ 'col' ]] 으로 1개 col 을 df 로 리터\n"
   ]
  },
  {
   "cell_type": "code",
   "execution_count": null,
   "metadata": {},
   "outputs": [],
   "source": [
    "# 오류 \n",
    "\n",
    "print(df[0],'\\n')\n",
    "print(df['2013-01-01'],'\\n')"
   ]
  },
  {
   "cell_type": "code",
   "execution_count": null,
   "metadata": {},
   "outputs": [
    {
     "name": "stdout",
     "output_type": "stream",
     "text": [
      "                   A         B         C         D\n",
      "2013-01-04  1.172455 -0.848995 -0.408783  1.283429\n",
      "2013-01-05 -1.323479 -0.351281 -0.094185  1.492026\n",
      "2013-01-06  0.146790  0.712378 -1.464708  0.742792 \n",
      "\n",
      "                   A         B         C         D\n",
      "2013-01-04  1.172455 -0.848995 -0.408783  1.283429 \n",
      "\n",
      "                   A         B         C         D\n",
      "2013-01-04  1.172455 -0.848995 -0.408783  1.283429 \n",
      "\n"
     ]
    },
    {
     "data": {
      "text/html": [
       "<div>\n",
       "<style scoped>\n",
       "    .dataframe tbody tr th:only-of-type {\n",
       "        vertical-align: middle;\n",
       "    }\n",
       "\n",
       "    .dataframe tbody tr th {\n",
       "        vertical-align: top;\n",
       "    }\n",
       "\n",
       "    .dataframe thead th {\n",
       "        text-align: right;\n",
       "    }\n",
       "</style>\n",
       "<table border=\"1\" class=\"dataframe\">\n",
       "  <thead>\n",
       "    <tr style=\"text-align: right;\">\n",
       "      <th></th>\n",
       "      <th>A</th>\n",
       "      <th>B</th>\n",
       "      <th>C</th>\n",
       "      <th>D</th>\n",
       "    </tr>\n",
       "  </thead>\n",
       "  <tbody>\n",
       "    <tr>\n",
       "      <th>2013-01-04</th>\n",
       "      <td>1.172455</td>\n",
       "      <td>-0.848995</td>\n",
       "      <td>-0.408783</td>\n",
       "      <td>1.283429</td>\n",
       "    </tr>\n",
       "    <tr>\n",
       "      <th>2013-01-05</th>\n",
       "      <td>-1.323479</td>\n",
       "      <td>-0.351281</td>\n",
       "      <td>-0.094185</td>\n",
       "      <td>1.492026</td>\n",
       "    </tr>\n",
       "    <tr>\n",
       "      <th>2013-01-06</th>\n",
       "      <td>0.146790</td>\n",
       "      <td>0.712378</td>\n",
       "      <td>-1.464708</td>\n",
       "      <td>0.742792</td>\n",
       "    </tr>\n",
       "  </tbody>\n",
       "</table>\n",
       "</div>"
      ],
      "text/plain": [
       "                   A         B         C         D\n",
       "2013-01-04  1.172455 -0.848995 -0.408783  1.283429\n",
       "2013-01-05 -1.323479 -0.351281 -0.094185  1.492026\n",
       "2013-01-06  0.146790  0.712378 -1.464708  0.742792"
      ]
     },
     "execution_count": 96,
     "metadata": {},
     "output_type": "execute_result"
    }
   ],
   "source": [
    "# df[0:3]\n",
    "# df['2013-01-01':'2013-01-03']\n",
    "print(df['2013-01-04':], '\\n')\n",
    "print(df['2013-01-04':'2013-01-04'], '\\n')     # 3, 4 열, label 은 끝 포함\n",
    "print(df[3:4], '\\n')                           # 3열만, index 은 -1 까지\n",
    "df[3:]\n",
    "\n",
    "# row 을 선택하게 되며, dataFrame 으로 리턴된다"
   ]
  },
  {
   "cell_type": "code",
   "execution_count": null,
   "metadata": {},
   "outputs": [
    {
     "name": "stdout",
     "output_type": "stream",
     "text": [
      "2    1.0\n",
      "3    1.0\n",
      "Name: A, dtype: float64 \n",
      "\n",
      "                   A         B         C         D\n",
      "2013-01-03 -1.491181  1.049826 -0.386138 -0.212055\n",
      "2013-01-04  1.172455 -0.848995 -0.408783  1.283429 \n",
      "\n"
     ]
    },
    {
     "data": {
      "text/html": [
       "<div>\n",
       "<style scoped>\n",
       "    .dataframe tbody tr th:only-of-type {\n",
       "        vertical-align: middle;\n",
       "    }\n",
       "\n",
       "    .dataframe tbody tr th {\n",
       "        vertical-align: top;\n",
       "    }\n",
       "\n",
       "    .dataframe thead th {\n",
       "        text-align: right;\n",
       "    }\n",
       "</style>\n",
       "<table border=\"1\" class=\"dataframe\">\n",
       "  <thead>\n",
       "    <tr style=\"text-align: right;\">\n",
       "      <th></th>\n",
       "      <th>A</th>\n",
       "      <th>B</th>\n",
       "      <th>C</th>\n",
       "      <th>D</th>\n",
       "      <th>E</th>\n",
       "      <th>F</th>\n",
       "    </tr>\n",
       "  </thead>\n",
       "  <tbody>\n",
       "    <tr>\n",
       "      <th>2</th>\n",
       "      <td>1.0</td>\n",
       "      <td>2013-01-02</td>\n",
       "      <td>1.0</td>\n",
       "      <td>3</td>\n",
       "      <td>test</td>\n",
       "      <td>foo</td>\n",
       "    </tr>\n",
       "  </tbody>\n",
       "</table>\n",
       "</div>"
      ],
      "text/plain": [
       "     A          B    C  D     E    F\n",
       "2  1.0 2013-01-02  1.0  3  test  foo"
      ]
     },
     "execution_count": 41,
     "metadata": {},
     "output_type": "execute_result"
    }
   ],
   "source": [
    "#chained indexing?\n",
    "print(df2[2:4]['A'],'\\n')\n",
    "print(df[2:4][0:4], '\\n')\n",
    "df2[2:4][0:1]"
   ]
  },
  {
   "attachments": {},
   "cell_type": "markdown",
   "metadata": {},
   "source": [
    "---"
   ]
  },
  {
   "cell_type": "markdown",
   "metadata": {},
   "source": [
    "Row"
   ]
  },
  {
   "cell_type": "code",
   "execution_count": 35,
   "metadata": {},
   "outputs": [
    {
     "name": "stdout",
     "output_type": "stream",
     "text": [
      "A   -0.724787\n",
      "B   -1.571578\n",
      "C   -0.790210\n",
      "D   -1.593020\n",
      "Name: 2013-01-01 00:00:00, dtype: float64 \n",
      "\n",
      "                   A         B         C         D\n",
      "2013-01-01 -0.724787 -1.571578 -0.790210 -1.593020\n",
      "2013-01-02  0.628278 -0.008546  2.157422  1.173839 \n",
      "\n",
      "                   A         B         C         D\n",
      "2013-01-01 -0.724787 -1.571578 -0.790210 -1.593020\n",
      "2013-01-02  0.628278 -0.008546  2.157422  1.173839 \n",
      "\n",
      "A   -0.724787\n",
      "B   -1.571578\n",
      "C   -0.790210\n",
      "D   -1.593020\n",
      "Name: 2013-01-01 00:00:00, dtype: float64 \n",
      "\n",
      "                   A         B        C        D\n",
      "2013-01-01 -0.724787 -1.571578 -0.79021 -1.59302 \n",
      "\n",
      "                   A         B         C         D\n",
      "2013-01-01 -0.724787 -1.571578 -0.790210 -1.593020\n",
      "2013-01-02  0.628278 -0.008546  2.157422  1.173839 \n",
      "\n"
     ]
    }
   ],
   "source": [
    "# row label 을 이용해서 row 을 인덱싱\n",
    "print(df.loc['20130101'],'\\n')              # series\n",
    "print(df.loc['20130101':'20130102'],'\\n')   # dataFrame\n",
    "print(df.loc[['20130101','20130102']],'\\n')\n",
    "\n",
    "# row index 을 이용해서 row 인덱싱\n",
    "print(df.iloc[0],'\\n')                      # series\n",
    "print(df.iloc[0:1],'\\n')                    #dataFrame\n",
    "print(df.iloc[[0,1]],'\\n')\n",
    "\n"
   ]
  },
  {
   "cell_type": "markdown",
   "metadata": {},
   "source": [
    "Column"
   ]
  },
  {
   "cell_type": "code",
   "execution_count": 67,
   "metadata": {},
   "outputs": [
    {
     "name": "stdout",
     "output_type": "stream",
     "text": [
      "2013-01-01   -0.724787\n",
      "2013-01-02    0.628278\n",
      "2013-01-03   -2.634815\n",
      "2013-01-04    1.375928\n",
      "2013-01-05    2.213788\n",
      "2013-01-06   -0.713271\n",
      "Freq: D, Name: A, dtype: float64 \n",
      "\n",
      "                   A\n",
      "2013-01-01 -0.724787\n",
      "2013-01-02  0.628278\n",
      "2013-01-03 -2.634815\n",
      "2013-01-04  1.375928\n",
      "2013-01-05  2.213788\n",
      "2013-01-06 -0.713271 \n",
      "\n",
      "                   A         B\n",
      "2013-01-01 -0.724787 -1.571578\n",
      "2013-01-02  0.628278 -0.008546\n",
      "2013-01-03 -2.634815  0.319209\n",
      "2013-01-04  1.375928 -0.022579\n",
      "2013-01-05  2.213788 -1.187252\n",
      "2013-01-06 -0.713271 -0.177195 \n",
      "\n",
      "                   A         B\n",
      "2013-01-01 -0.724787 -1.571578\n",
      "2013-01-02  0.628278 -0.008546\n",
      "2013-01-03 -2.634815  0.319209\n",
      "2013-01-04  1.375928 -0.022579\n",
      "2013-01-05  2.213788 -1.187252\n",
      "2013-01-06 -0.713271 -0.177195 \n",
      "\n"
     ]
    }
   ],
   "source": [
    "\n",
    "# column lable 을 이용해서 column 인덱싱\n",
    "# print(df.loc['A'],'\\n')      # 'A' 을 row 인텍싱으로 생각해서 \n",
    "print(df.loc[:,'A'],'\\n')\n",
    "print(df.loc[:, ['A']],'\\n')\n",
    "print(df.loc[:,'A':'B'],'\\n')\n",
    "print(df.loc[:,['A','B']],'\\n')\n"
   ]
  },
  {
   "cell_type": "code",
   "execution_count": 65,
   "metadata": {},
   "outputs": [
    {
     "name": "stdout",
     "output_type": "stream",
     "text": [
      "2013-01-01   -0.724787\n",
      "2013-01-02    0.628278\n",
      "2013-01-03   -2.634815\n",
      "2013-01-04    1.375928\n",
      "2013-01-05    2.213788\n",
      "2013-01-06   -0.713271\n",
      "Freq: D, Name: A, dtype: float64 \n",
      "\n",
      "                   A\n",
      "2013-01-01 -0.724787\n",
      "2013-01-02  0.628278\n",
      "2013-01-03 -2.634815\n",
      "2013-01-04  1.375928\n",
      "2013-01-05  2.213788\n",
      "2013-01-06 -0.713271\n"
     ]
    }
   ],
   "source": [
    "\n",
    "# column  index 을 이용해서 column 인덱싱\n",
    "# print(df.iloc[0],'\\n')        # 0 을 row 인텍싱으로 생각해서 row 인텍싱\n",
    "print(df.iloc[:,0],'\\n')        # series 리턴\n",
    "print(df.iloc[:,[0]])           # df 리턴\n"
   ]
  },
  {
   "cell_type": "code",
   "execution_count": 57,
   "metadata": {},
   "outputs": [
    {
     "name": "stdout",
     "output_type": "stream",
     "text": [
      "                   A         B\n",
      "2013-01-01 -0.724787 -1.571578\n",
      "2013-01-02  0.628278 -0.008546\n",
      "2013-01-03 -2.634815  0.319209\n",
      "2013-01-04  1.375928 -0.022579\n",
      "2013-01-05  2.213788 -1.187252\n",
      "2013-01-06 -0.713271 -0.177195 \n",
      "\n"
     ]
    }
   ],
   "source": [
    "print(df.iloc[:,0:2],'\\n')\n"
   ]
  },
  {
   "cell_type": "code",
   "execution_count": 63,
   "metadata": {},
   "outputs": [
    {
     "name": "stdout",
     "output_type": "stream",
     "text": [
      "                   A         B         D\n",
      "2013-01-01 -0.724787 -1.571578 -1.593020\n",
      "2013-01-02  0.628278 -0.008546  1.173839\n",
      "2013-01-03 -2.634815  0.319209  2.025052\n",
      "2013-01-04  1.375928 -0.022579  0.800235\n",
      "2013-01-05  2.213788 -1.187252 -0.007087\n",
      "2013-01-06 -0.713271 -0.177195  1.057297 \n",
      "\n"
     ]
    }
   ],
   "source": [
    "print(df.iloc[:,[0,1,3]],'\\n')"
   ]
  },
  {
   "cell_type": "markdown",
   "metadata": {},
   "source": [
    "Multi-indxing"
   ]
  },
  {
   "cell_type": "code",
   "execution_count": 76,
   "metadata": {},
   "outputs": [
    {
     "data": {
      "text/html": [
       "<div>\n",
       "<style scoped>\n",
       "    .dataframe tbody tr th:only-of-type {\n",
       "        vertical-align: middle;\n",
       "    }\n",
       "\n",
       "    .dataframe tbody tr th {\n",
       "        vertical-align: top;\n",
       "    }\n",
       "\n",
       "    .dataframe thead th {\n",
       "        text-align: right;\n",
       "    }\n",
       "</style>\n",
       "<table border=\"1\" class=\"dataframe\">\n",
       "  <thead>\n",
       "    <tr style=\"text-align: right;\">\n",
       "      <th></th>\n",
       "      <th>A</th>\n",
       "      <th>B</th>\n",
       "      <th>C</th>\n",
       "      <th>D</th>\n",
       "      <th>E</th>\n",
       "      <th>F</th>\n",
       "    </tr>\n",
       "  </thead>\n",
       "  <tbody>\n",
       "    <tr>\n",
       "      <th>0</th>\n",
       "      <td>1.0</td>\n",
       "      <td>2013-01-02</td>\n",
       "      <td>1.0</td>\n",
       "      <td>3</td>\n",
       "      <td>test</td>\n",
       "      <td>foo</td>\n",
       "    </tr>\n",
       "    <tr>\n",
       "      <th>1</th>\n",
       "      <td>1.0</td>\n",
       "      <td>2013-01-02</td>\n",
       "      <td>1.0</td>\n",
       "      <td>3</td>\n",
       "      <td>train</td>\n",
       "      <td>foo</td>\n",
       "    </tr>\n",
       "    <tr>\n",
       "      <th>2</th>\n",
       "      <td>1.0</td>\n",
       "      <td>2013-01-02</td>\n",
       "      <td>1.0</td>\n",
       "      <td>3</td>\n",
       "      <td>test</td>\n",
       "      <td>foo</td>\n",
       "    </tr>\n",
       "    <tr>\n",
       "      <th>3</th>\n",
       "      <td>1.0</td>\n",
       "      <td>2013-01-02</td>\n",
       "      <td>1.0</td>\n",
       "      <td>3</td>\n",
       "      <td>train</td>\n",
       "      <td>foo</td>\n",
       "    </tr>\n",
       "  </tbody>\n",
       "</table>\n",
       "</div>"
      ],
      "text/plain": [
       "     A          B    C  D      E    F\n",
       "0  1.0 2013-01-02  1.0  3   test  foo\n",
       "1  1.0 2013-01-02  1.0  3  train  foo\n",
       "2  1.0 2013-01-02  1.0  3   test  foo\n",
       "3  1.0 2013-01-02  1.0  3  train  foo"
      ]
     },
     "execution_count": 76,
     "metadata": {},
     "output_type": "execute_result"
    }
   ],
   "source": [
    "df2"
   ]
  },
  {
   "cell_type": "code",
   "execution_count": 80,
   "metadata": {},
   "outputs": [
    {
     "name": "stdout",
     "output_type": "stream",
     "text": [
      "     A          B\n",
      "0  1.0 2013-01-02\n",
      "1  1.0 2013-01-02\n",
      "     A          B\n",
      "0  1.0 2013-01-02\n",
      "1  1.0 2013-01-02\n"
     ]
    }
   ],
   "source": [
    "print(df2.loc[[0,1],['A','B']])    # 숫자가 lable 이다\n",
    "print(df2.iloc[[0,1],[0,1]])"
   ]
  },
  {
   "attachments": {},
   "cell_type": "markdown",
   "metadata": {},
   "source": [
    "sort & sum"
   ]
  },
  {
   "cell_type": "code",
   "execution_count": 106,
   "metadata": {},
   "outputs": [
    {
     "name": "stdout",
     "output_type": "stream",
     "text": [
      "                   A         B         C         D\n",
      "2013-01-01 -0.724787 -1.571578 -0.790210 -1.593020\n",
      "2013-01-02  0.628278 -0.008546  2.157422  1.173839\n",
      "2013-01-03 -2.634815  0.319209  0.449520  2.025052\n",
      "2013-01-04  1.375928 -0.022579 -0.274962  0.800235\n",
      "2013-01-05  2.213788 -1.187252 -0.664868 -0.007087\n",
      "2013-01-06 -0.713271 -0.177195 -0.844971  1.057297\n",
      "                   A         B         C         D\n",
      "2013-01-03 -2.634815  0.319209  0.449520  2.025052\n",
      "2013-01-01 -0.724787 -1.571578 -0.790210 -1.593020\n",
      "2013-01-06 -0.713271 -0.177195 -0.844971  1.057297\n",
      "2013-01-02  0.628278 -0.008546  2.157422  1.173839\n",
      "2013-01-04  1.375928 -0.022579 -0.274962  0.800235\n",
      "2013-01-05  2.213788 -1.187252 -0.664868 -0.007087 \n",
      "\n",
      "                   A         B         C         D\n",
      "2013-01-05  2.213788 -1.187252 -0.664868 -0.007087\n",
      "2013-01-04  1.375928 -0.022579 -0.274962  0.800235\n",
      "2013-01-02  0.628278 -0.008546  2.157422  1.173839\n",
      "2013-01-06 -0.713271 -0.177195 -0.844971  1.057297\n",
      "2013-01-01 -0.724787 -1.571578 -0.790210 -1.593020\n",
      "2013-01-03 -2.634815  0.319209  0.449520  2.025052\n"
     ]
    }
   ],
   "source": [
    "print(df.sort_index())\n",
    "print(df.sort_values('A'),'\\n')\n",
    "# df.sort_values(by='A')\n",
    "print(df.sort_values(by= ['A','B'],ascending=False))\n"
   ]
  },
  {
   "cell_type": "code",
   "execution_count": 108,
   "metadata": {},
   "outputs": [
    {
     "name": "stdout",
     "output_type": "stream",
     "text": [
      "A    0.145122\n",
      "B   -2.647942\n",
      "C    0.031932\n",
      "D    3.456315\n",
      "dtype: float64\n",
      "2013-01-01   -4.679595\n",
      "2013-01-02    3.950993\n",
      "2013-01-03    0.158966\n",
      "2013-01-04    1.878622\n",
      "2013-01-05    0.354582\n",
      "2013-01-06   -0.678140\n",
      "Freq: D, dtype: float64\n"
     ]
    }
   ],
   "source": [
    "print(df.sum())          # row 들을 의 합 (col 합) axis=0 디폴트\n",
    "print(df.sum(axis=1))    # column 들의 함 (row 합) axis=1"
   ]
  }
 ],
 "metadata": {
  "kernelspec": {
   "display_name": "Python 3",
   "language": "python",
   "name": "python3"
  },
  "language_info": {
   "codemirror_mode": {
    "name": "ipython",
    "version": 3
   },
   "file_extension": ".py",
   "mimetype": "text/x-python",
   "name": "python",
   "nbconvert_exporter": "python",
   "pygments_lexer": "ipython3",
   "version": "3.7.6"
  },
  "orig_nbformat": 4,
  "vscode": {
   "interpreter": {
    "hash": "162ceaf09f938773ad028a3a2ad644135fdbb6560e1ade87eeac244d09a7763d"
   }
  }
 },
 "nbformat": 4,
 "nbformat_minor": 2
}
