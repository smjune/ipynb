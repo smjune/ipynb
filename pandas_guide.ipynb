{
 "cells": [
  {
   "attachments": {},
   "cell_type": "markdown",
   "metadata": {},
   "source": [
    "## EDA을 위한 다양한 pandas function 연습  \n",
    "---\n",
    "참고링크 : https://pandas.pydata.org/docs/user_guide/10min.html  \n",
    "한글 : https://dandyrilla.github.io/2017-08-12/pandas-10min/\n",
    "\n",
    "API ref : https://pandas.pydata.org/docs/reference/index.html"
   ]
  },
  {
   "cell_type": "code",
   "execution_count": 63,
   "metadata": {},
   "outputs": [],
   "source": [
    "import numpy as np\n",
    "import pandas as pd"
   ]
  },
  {
   "attachments": {},
   "cell_type": "markdown",
   "metadata": {},
   "source": [
    "### series and dataFrame \n",
    "\n",
    "차이점을 기억해 두자  \n",
    "series 1차 배열  \n",
    "dataFrame 2차 배열  \n",
    "\n",
    "실제 data 특성에 맞는 샘플 데이터를 만들수 있어야 한다.   \n",
    "해당 샘플 데이터로 각 연산 결과를 미리 확인 할 수 있어야 한다.   \n",
    "print(type()) 을 이용하여 object 의 타입을 정확히 파악해야 한다.  \n",
    "( series[index_label] vs dataframe[column_label] )  \n",
    "answer.ipynb 와 test.ipynb, sample.ipynb 으로 운영한다. \n",
    "\n",
    "```\n",
    "pd.DataFrame( Serise, \n",
    "              columns = ['',''])\n",
    "              index = lsit\n",
    "            )\n",
    "\n",
    "pd.DataFrame(\n",
    "    { \n",
    "      'A': list\n",
    "      'B': ['', '']\n",
    "    },\n",
    "    index=['','']\n",
    "    )\n",
    "```"
   ]
  },
  {
   "cell_type": "code",
   "execution_count": 64,
   "metadata": {},
   "outputs": [
    {
     "data": {
      "text/html": [
       "<div>\n",
       "<style scoped>\n",
       "    .dataframe tbody tr th:only-of-type {\n",
       "        vertical-align: middle;\n",
       "    }\n",
       "\n",
       "    .dataframe tbody tr th {\n",
       "        vertical-align: top;\n",
       "    }\n",
       "\n",
       "    .dataframe thead th {\n",
       "        text-align: right;\n",
       "    }\n",
       "</style>\n",
       "<table border=\"1\" class=\"dataframe\">\n",
       "  <thead>\n",
       "    <tr style=\"text-align: right;\">\n",
       "      <th></th>\n",
       "      <th>B</th>\n",
       "    </tr>\n",
       "  </thead>\n",
       "  <tbody>\n",
       "    <tr>\n",
       "      <th>1</th>\n",
       "      <td>B</td>\n",
       "    </tr>\n",
       "    <tr>\n",
       "      <th>2</th>\n",
       "      <td>C</td>\n",
       "    </tr>\n",
       "  </tbody>\n",
       "</table>\n",
       "</div>"
      ],
      "text/plain": [
       "   B\n",
       "1  B\n",
       "2  C"
      ]
     },
     "execution_count": 64,
     "metadata": {},
     "output_type": "execute_result"
    }
   ],
   "source": [
    "pd.DataFrame({ \n",
    "    'B': ['B', 'C'],\n",
    "}, index= [1,2])"
   ]
  },
  {
   "cell_type": "code",
   "execution_count": 65,
   "metadata": {},
   "outputs": [
    {
     "data": {
      "text/plain": [
       "0    1.0\n",
       "1    3.0\n",
       "2    5.0\n",
       "3    NaN\n",
       "4    6.0\n",
       "5    8.0\n",
       "dtype: float64"
      ]
     },
     "execution_count": 65,
     "metadata": {},
     "output_type": "execute_result"
    }
   ],
   "source": [
    "s = pd.Series([1, 3, 5, np.nan, 6, 8])\n",
    "s"
   ]
  },
  {
   "cell_type": "code",
   "execution_count": 66,
   "metadata": {},
   "outputs": [
    {
     "data": {
      "text/plain": [
       "DatetimeIndex(['2013-01-01', '2013-01-02', '2013-01-03', '2013-01-04',\n",
       "               '2013-01-05', '2013-01-06'],\n",
       "              dtype='datetime64[ns]', freq='D')"
      ]
     },
     "execution_count": 66,
     "metadata": {},
     "output_type": "execute_result"
    }
   ],
   "source": [
    "dates = pd.date_range(\"20130101\", periods=6)\n",
    "dates"
   ]
  },
  {
   "cell_type": "code",
   "execution_count": 67,
   "metadata": {},
   "outputs": [
    {
     "data": {
      "text/html": [
       "<div>\n",
       "<style scoped>\n",
       "    .dataframe tbody tr th:only-of-type {\n",
       "        vertical-align: middle;\n",
       "    }\n",
       "\n",
       "    .dataframe tbody tr th {\n",
       "        vertical-align: top;\n",
       "    }\n",
       "\n",
       "    .dataframe thead th {\n",
       "        text-align: right;\n",
       "    }\n",
       "</style>\n",
       "<table border=\"1\" class=\"dataframe\">\n",
       "  <thead>\n",
       "    <tr style=\"text-align: right;\">\n",
       "      <th></th>\n",
       "      <th>A</th>\n",
       "      <th>B</th>\n",
       "      <th>C</th>\n",
       "      <th>D</th>\n",
       "    </tr>\n",
       "  </thead>\n",
       "  <tbody>\n",
       "    <tr>\n",
       "      <th>2013-01-01</th>\n",
       "      <td>-1.019998</td>\n",
       "      <td>0.274947</td>\n",
       "      <td>0.546842</td>\n",
       "      <td>0.723578</td>\n",
       "    </tr>\n",
       "    <tr>\n",
       "      <th>2013-01-02</th>\n",
       "      <td>-1.402076</td>\n",
       "      <td>1.245495</td>\n",
       "      <td>-0.070383</td>\n",
       "      <td>-0.285383</td>\n",
       "    </tr>\n",
       "    <tr>\n",
       "      <th>2013-01-03</th>\n",
       "      <td>0.396147</td>\n",
       "      <td>-0.538197</td>\n",
       "      <td>-1.434322</td>\n",
       "      <td>2.079102</td>\n",
       "    </tr>\n",
       "    <tr>\n",
       "      <th>2013-01-04</th>\n",
       "      <td>0.052522</td>\n",
       "      <td>0.500269</td>\n",
       "      <td>0.034893</td>\n",
       "      <td>0.219367</td>\n",
       "    </tr>\n",
       "    <tr>\n",
       "      <th>2013-01-05</th>\n",
       "      <td>-1.492344</td>\n",
       "      <td>1.145290</td>\n",
       "      <td>1.691469</td>\n",
       "      <td>0.318339</td>\n",
       "    </tr>\n",
       "    <tr>\n",
       "      <th>2013-01-06</th>\n",
       "      <td>-2.932764</td>\n",
       "      <td>1.671967</td>\n",
       "      <td>0.586408</td>\n",
       "      <td>1.673250</td>\n",
       "    </tr>\n",
       "  </tbody>\n",
       "</table>\n",
       "</div>"
      ],
      "text/plain": [
       "                   A         B         C         D\n",
       "2013-01-01 -1.019998  0.274947  0.546842  0.723578\n",
       "2013-01-02 -1.402076  1.245495 -0.070383 -0.285383\n",
       "2013-01-03  0.396147 -0.538197 -1.434322  2.079102\n",
       "2013-01-04  0.052522  0.500269  0.034893  0.219367\n",
       "2013-01-05 -1.492344  1.145290  1.691469  0.318339\n",
       "2013-01-06 -2.932764  1.671967  0.586408  1.673250"
      ]
     },
     "execution_count": 67,
     "metadata": {},
     "output_type": "execute_result"
    }
   ],
   "source": [
    "# df 만드든 방법 1\n",
    "\n",
    "df = pd.DataFrame(np.random.randn(6, 4),\n",
    "                   index=dates, \n",
    "                   columns=list(\"ABCD\"))\n",
    "df"
   ]
  },
  {
   "cell_type": "code",
   "execution_count": 68,
   "metadata": {},
   "outputs": [
    {
     "data": {
      "text/plain": [
       "Series([], Freq: D, Name: A, dtype: float64)"
      ]
     },
     "execution_count": 68,
     "metadata": {},
     "output_type": "execute_result"
    }
   ],
   "source": [
    "S = df.A\n",
    "S[1:]   # silicing\n",
    "\n",
    "S[1]  # serise indexiting\n",
    "S[S>1] # serise masking\n"
   ]
  },
  {
   "cell_type": "code",
   "execution_count": 69,
   "metadata": {},
   "outputs": [
    {
     "data": {
      "text/html": [
       "<div>\n",
       "<style scoped>\n",
       "    .dataframe tbody tr th:only-of-type {\n",
       "        vertical-align: middle;\n",
       "    }\n",
       "\n",
       "    .dataframe tbody tr th {\n",
       "        vertical-align: top;\n",
       "    }\n",
       "\n",
       "    .dataframe thead th {\n",
       "        text-align: right;\n",
       "    }\n",
       "</style>\n",
       "<table border=\"1\" class=\"dataframe\">\n",
       "  <thead>\n",
       "    <tr style=\"text-align: right;\">\n",
       "      <th></th>\n",
       "      <th>A</th>\n",
       "      <th>B</th>\n",
       "    </tr>\n",
       "  </thead>\n",
       "  <tbody>\n",
       "    <tr>\n",
       "      <th>2013-01-01</th>\n",
       "      <td>NaN</td>\n",
       "      <td>NaN</td>\n",
       "    </tr>\n",
       "    <tr>\n",
       "      <th>2013-01-02</th>\n",
       "      <td>NaN</td>\n",
       "      <td>1.245495</td>\n",
       "    </tr>\n",
       "    <tr>\n",
       "      <th>2013-01-03</th>\n",
       "      <td>NaN</td>\n",
       "      <td>NaN</td>\n",
       "    </tr>\n",
       "    <tr>\n",
       "      <th>2013-01-04</th>\n",
       "      <td>NaN</td>\n",
       "      <td>NaN</td>\n",
       "    </tr>\n",
       "    <tr>\n",
       "      <th>2013-01-05</th>\n",
       "      <td>NaN</td>\n",
       "      <td>1.145290</td>\n",
       "    </tr>\n",
       "    <tr>\n",
       "      <th>2013-01-06</th>\n",
       "      <td>NaN</td>\n",
       "      <td>1.671967</td>\n",
       "    </tr>\n",
       "  </tbody>\n",
       "</table>\n",
       "</div>"
      ],
      "text/plain": [
       "             A         B\n",
       "2013-01-01 NaN       NaN\n",
       "2013-01-02 NaN  1.245495\n",
       "2013-01-03 NaN       NaN\n",
       "2013-01-04 NaN       NaN\n",
       "2013-01-05 NaN  1.145290\n",
       "2013-01-06 NaN  1.671967"
      ]
     },
     "execution_count": 69,
     "metadata": {},
     "output_type": "execute_result"
    }
   ],
   "source": [
    "\n",
    "D = df[['A','B']]\n",
    "\n",
    "D[1:]   # df slicing\n",
    "# D[1]    # indexing 은 오류\n",
    "D[D>1]"
   ]
  },
  {
   "attachments": {},
   "cell_type": "markdown",
   "metadata": {},
   "source": [
    "dataFrame :   \n",
    "DataFrame은 2차원 배열 데이터라고 이해하는 것보다 공통 인덱스를 가진 column series를 딕셔너리로 묶어놓은 것"
   ]
  },
  {
   "cell_type": "code",
   "execution_count": 70,
   "metadata": {},
   "outputs": [
    {
     "data": {
      "text/html": [
       "<div>\n",
       "<style scoped>\n",
       "    .dataframe tbody tr th:only-of-type {\n",
       "        vertical-align: middle;\n",
       "    }\n",
       "\n",
       "    .dataframe tbody tr th {\n",
       "        vertical-align: top;\n",
       "    }\n",
       "\n",
       "    .dataframe thead th {\n",
       "        text-align: right;\n",
       "    }\n",
       "</style>\n",
       "<table border=\"1\" class=\"dataframe\">\n",
       "  <thead>\n",
       "    <tr style=\"text-align: right;\">\n",
       "      <th></th>\n",
       "      <th>A</th>\n",
       "      <th>B</th>\n",
       "      <th>C</th>\n",
       "      <th>D</th>\n",
       "      <th>E</th>\n",
       "      <th>F</th>\n",
       "    </tr>\n",
       "  </thead>\n",
       "  <tbody>\n",
       "    <tr>\n",
       "      <th>0</th>\n",
       "      <td>1.0</td>\n",
       "      <td>2013-01-02</td>\n",
       "      <td>1.0</td>\n",
       "      <td>3</td>\n",
       "      <td>test</td>\n",
       "      <td>foo</td>\n",
       "    </tr>\n",
       "    <tr>\n",
       "      <th>1</th>\n",
       "      <td>1.0</td>\n",
       "      <td>2013-01-02</td>\n",
       "      <td>1.0</td>\n",
       "      <td>3</td>\n",
       "      <td>train</td>\n",
       "      <td>foo</td>\n",
       "    </tr>\n",
       "    <tr>\n",
       "      <th>2</th>\n",
       "      <td>1.0</td>\n",
       "      <td>2013-01-02</td>\n",
       "      <td>1.0</td>\n",
       "      <td>3</td>\n",
       "      <td>test</td>\n",
       "      <td>foo</td>\n",
       "    </tr>\n",
       "    <tr>\n",
       "      <th>3</th>\n",
       "      <td>1.0</td>\n",
       "      <td>2013-01-02</td>\n",
       "      <td>1.0</td>\n",
       "      <td>3</td>\n",
       "      <td>train</td>\n",
       "      <td>foo</td>\n",
       "    </tr>\n",
       "  </tbody>\n",
       "</table>\n",
       "</div>"
      ],
      "text/plain": [
       "     A          B    C  D      E    F\n",
       "0  1.0 2013-01-02  1.0  3   test  foo\n",
       "1  1.0 2013-01-02  1.0  3  train  foo\n",
       "2  1.0 2013-01-02  1.0  3   test  foo\n",
       "3  1.0 2013-01-02  1.0  3  train  foo"
      ]
     },
     "execution_count": 70,
     "metadata": {},
     "output_type": "execute_result"
    }
   ],
   "source": [
    "# df 만드는 방법 2 \n",
    "\n",
    "df2 = pd.DataFrame(\n",
    "    {\n",
    "        \"A\": 1.0,\n",
    "        \"B\": pd.Timestamp(\"20130102\"),\n",
    "        \"C\": pd.Series(1, index=list(range(4)), dtype=\"float32\"),\n",
    "        \"D\": np.array([3] * 4, dtype=\"int32\"),\n",
    "        \"E\": pd.Categorical([\"test\", \"train\", \"test\", \"train\"]),\n",
    "        \"F\": \"foo\",\n",
    "    }\n",
    ")\n",
    "\n",
    "df2 \n",
    "# df2[:]\n",
    "# df2[:][:]\n",
    "# df2.loc[:,:]"
   ]
  },
  {
   "attachments": {},
   "cell_type": "markdown",
   "metadata": {},
   "source": [
    "### 2. Viewing Data"
   ]
  },
  {
   "cell_type": "code",
   "execution_count": 71,
   "metadata": {},
   "outputs": [
    {
     "data": {
      "text/plain": [
       "A           float64\n",
       "B    datetime64[ns]\n",
       "C           float32\n",
       "D             int32\n",
       "E          category\n",
       "F            object\n",
       "dtype: object"
      ]
     },
     "execution_count": 71,
     "metadata": {},
     "output_type": "execute_result"
    }
   ],
   "source": [
    "df2.dtypes"
   ]
  },
  {
   "cell_type": "code",
   "execution_count": 72,
   "metadata": {},
   "outputs": [
    {
     "name": "stdout",
     "output_type": "stream",
     "text": [
      "                   A         B         C         D\n",
      "2013-01-01 -1.019998  0.274947  0.546842  0.723578\n",
      "2013-01-02 -1.402076  1.245495 -0.070383 -0.285383 \n",
      "\n",
      "                   A         B         C         D\n",
      "2013-01-05 -1.492344  1.145290  1.691469  0.318339\n",
      "2013-01-06 -2.932764  1.671967  0.586408  1.673250 \n",
      "\n",
      "DatetimeIndex(['2013-01-01', '2013-01-02', '2013-01-03', '2013-01-04',\n",
      "               '2013-01-05', '2013-01-06'],\n",
      "              dtype='datetime64[ns]', freq='D') \n",
      "\n",
      "Index(['A', 'B', 'C', 'D'], dtype='object') \n",
      "\n"
     ]
    },
    {
     "data": {
      "text/html": [
       "<div>\n",
       "<style scoped>\n",
       "    .dataframe tbody tr th:only-of-type {\n",
       "        vertical-align: middle;\n",
       "    }\n",
       "\n",
       "    .dataframe tbody tr th {\n",
       "        vertical-align: top;\n",
       "    }\n",
       "\n",
       "    .dataframe thead th {\n",
       "        text-align: right;\n",
       "    }\n",
       "</style>\n",
       "<table border=\"1\" class=\"dataframe\">\n",
       "  <thead>\n",
       "    <tr style=\"text-align: right;\">\n",
       "      <th></th>\n",
       "      <th>A</th>\n",
       "      <th>B</th>\n",
       "      <th>C</th>\n",
       "      <th>D</th>\n",
       "    </tr>\n",
       "  </thead>\n",
       "  <tbody>\n",
       "    <tr>\n",
       "      <th>count</th>\n",
       "      <td>6.000000</td>\n",
       "      <td>6.000000</td>\n",
       "      <td>6.000000</td>\n",
       "      <td>6.000000</td>\n",
       "    </tr>\n",
       "    <tr>\n",
       "      <th>mean</th>\n",
       "      <td>-1.066419</td>\n",
       "      <td>0.716628</td>\n",
       "      <td>0.225818</td>\n",
       "      <td>0.788042</td>\n",
       "    </tr>\n",
       "    <tr>\n",
       "      <th>std</th>\n",
       "      <td>1.197548</td>\n",
       "      <td>0.799075</td>\n",
       "      <td>1.025813</td>\n",
       "      <td>0.911136</td>\n",
       "    </tr>\n",
       "    <tr>\n",
       "      <th>min</th>\n",
       "      <td>-2.932764</td>\n",
       "      <td>-0.538197</td>\n",
       "      <td>-1.434322</td>\n",
       "      <td>-0.285383</td>\n",
       "    </tr>\n",
       "    <tr>\n",
       "      <th>25%</th>\n",
       "      <td>-1.469777</td>\n",
       "      <td>0.331277</td>\n",
       "      <td>-0.044064</td>\n",
       "      <td>0.244110</td>\n",
       "    </tr>\n",
       "    <tr>\n",
       "      <th>50%</th>\n",
       "      <td>-1.211037</td>\n",
       "      <td>0.822779</td>\n",
       "      <td>0.290867</td>\n",
       "      <td>0.520958</td>\n",
       "    </tr>\n",
       "    <tr>\n",
       "      <th>75%</th>\n",
       "      <td>-0.215608</td>\n",
       "      <td>1.220443</td>\n",
       "      <td>0.576517</td>\n",
       "      <td>1.435832</td>\n",
       "    </tr>\n",
       "    <tr>\n",
       "      <th>max</th>\n",
       "      <td>0.396147</td>\n",
       "      <td>1.671967</td>\n",
       "      <td>1.691469</td>\n",
       "      <td>2.079102</td>\n",
       "    </tr>\n",
       "  </tbody>\n",
       "</table>\n",
       "</div>"
      ],
      "text/plain": [
       "              A         B         C         D\n",
       "count  6.000000  6.000000  6.000000  6.000000\n",
       "mean  -1.066419  0.716628  0.225818  0.788042\n",
       "std    1.197548  0.799075  1.025813  0.911136\n",
       "min   -2.932764 -0.538197 -1.434322 -0.285383\n",
       "25%   -1.469777  0.331277 -0.044064  0.244110\n",
       "50%   -1.211037  0.822779  0.290867  0.520958\n",
       "75%   -0.215608  1.220443  0.576517  1.435832\n",
       "max    0.396147  1.671967  1.691469  2.079102"
      ]
     },
     "execution_count": 72,
     "metadata": {},
     "output_type": "execute_result"
    }
   ],
   "source": [
    "print(df.head(2),'\\n')\n",
    "\n",
    "print(df.tail(2), '\\n')\n",
    "\n",
    "print(df.index, '\\n')\n",
    "\n",
    "print(df.columns, '\\n')\n",
    "\n",
    "df.describe()\n"
   ]
  },
  {
   "cell_type": "code",
   "execution_count": 73,
   "metadata": {},
   "outputs": [
    {
     "data": {
      "text/html": [
       "<div>\n",
       "<style scoped>\n",
       "    .dataframe tbody tr th:only-of-type {\n",
       "        vertical-align: middle;\n",
       "    }\n",
       "\n",
       "    .dataframe tbody tr th {\n",
       "        vertical-align: top;\n",
       "    }\n",
       "\n",
       "    .dataframe thead th {\n",
       "        text-align: right;\n",
       "    }\n",
       "</style>\n",
       "<table border=\"1\" class=\"dataframe\">\n",
       "  <thead>\n",
       "    <tr style=\"text-align: right;\">\n",
       "      <th></th>\n",
       "      <th>2013-01-01</th>\n",
       "      <th>2013-01-02</th>\n",
       "      <th>2013-01-03</th>\n",
       "      <th>2013-01-04</th>\n",
       "      <th>2013-01-05</th>\n",
       "      <th>2013-01-06</th>\n",
       "    </tr>\n",
       "  </thead>\n",
       "  <tbody>\n",
       "    <tr>\n",
       "      <th>A</th>\n",
       "      <td>-1.019998</td>\n",
       "      <td>-1.402076</td>\n",
       "      <td>0.396147</td>\n",
       "      <td>0.052522</td>\n",
       "      <td>-1.492344</td>\n",
       "      <td>-2.932764</td>\n",
       "    </tr>\n",
       "    <tr>\n",
       "      <th>B</th>\n",
       "      <td>0.274947</td>\n",
       "      <td>1.245495</td>\n",
       "      <td>-0.538197</td>\n",
       "      <td>0.500269</td>\n",
       "      <td>1.145290</td>\n",
       "      <td>1.671967</td>\n",
       "    </tr>\n",
       "    <tr>\n",
       "      <th>C</th>\n",
       "      <td>0.546842</td>\n",
       "      <td>-0.070383</td>\n",
       "      <td>-1.434322</td>\n",
       "      <td>0.034893</td>\n",
       "      <td>1.691469</td>\n",
       "      <td>0.586408</td>\n",
       "    </tr>\n",
       "    <tr>\n",
       "      <th>D</th>\n",
       "      <td>0.723578</td>\n",
       "      <td>-0.285383</td>\n",
       "      <td>2.079102</td>\n",
       "      <td>0.219367</td>\n",
       "      <td>0.318339</td>\n",
       "      <td>1.673250</td>\n",
       "    </tr>\n",
       "  </tbody>\n",
       "</table>\n",
       "</div>"
      ],
      "text/plain": [
       "   2013-01-01  2013-01-02  2013-01-03  2013-01-04  2013-01-05  2013-01-06\n",
       "A   -1.019998   -1.402076    0.396147    0.052522   -1.492344   -2.932764\n",
       "B    0.274947    1.245495   -0.538197    0.500269    1.145290    1.671967\n",
       "C    0.546842   -0.070383   -1.434322    0.034893    1.691469    0.586408\n",
       "D    0.723578   -0.285383    2.079102    0.219367    0.318339    1.673250"
      ]
     },
     "execution_count": 73,
     "metadata": {},
     "output_type": "execute_result"
    }
   ],
   "source": [
    "# 행, 열을 바꾼다. \n",
    "\n",
    "df.T"
   ]
  },
  {
   "cell_type": "code",
   "execution_count": 74,
   "metadata": {},
   "outputs": [
    {
     "data": {
      "text/plain": [
       "array([[-1.01999812,  0.27494691,  0.54684158,  0.7235776 ],\n",
       "       [-1.40207647,  1.24549459, -0.07038335, -0.28538332],\n",
       "       [ 0.39614657, -0.53819744, -1.43432153,  2.07910219],\n",
       "       [ 0.0525225 ,  0.50026891,  0.03489281,  0.21936667],\n",
       "       [-1.49234404,  1.14528952,  1.69146907,  0.31833899],\n",
       "       [-2.93276361,  1.67196703,  0.58640814,  1.67325001]])"
      ]
     },
     "execution_count": 74,
     "metadata": {},
     "output_type": "execute_result"
    }
   ],
   "source": [
    "df.to_numpy()"
   ]
  },
  {
   "cell_type": "code",
   "execution_count": 75,
   "metadata": {},
   "outputs": [
    {
     "data": {
      "text/html": [
       "<div>\n",
       "<style scoped>\n",
       "    .dataframe tbody tr th:only-of-type {\n",
       "        vertical-align: middle;\n",
       "    }\n",
       "\n",
       "    .dataframe tbody tr th {\n",
       "        vertical-align: top;\n",
       "    }\n",
       "\n",
       "    .dataframe thead th {\n",
       "        text-align: right;\n",
       "    }\n",
       "</style>\n",
       "<table border=\"1\" class=\"dataframe\">\n",
       "  <thead>\n",
       "    <tr style=\"text-align: right;\">\n",
       "      <th></th>\n",
       "    </tr>\n",
       "  </thead>\n",
       "  <tbody>\n",
       "    <tr>\n",
       "      <th>2013-01-01</th>\n",
       "    </tr>\n",
       "    <tr>\n",
       "      <th>2013-01-02</th>\n",
       "    </tr>\n",
       "    <tr>\n",
       "      <th>2013-01-03</th>\n",
       "    </tr>\n",
       "    <tr>\n",
       "      <th>2013-01-04</th>\n",
       "    </tr>\n",
       "    <tr>\n",
       "      <th>2013-01-05</th>\n",
       "    </tr>\n",
       "    <tr>\n",
       "      <th>2013-01-06</th>\n",
       "    </tr>\n",
       "  </tbody>\n",
       "</table>\n",
       "</div>"
      ],
      "text/plain": [
       "Empty DataFrame\n",
       "Columns: []\n",
       "Index: [2013-01-01 00:00:00, 2013-01-02 00:00:00, 2013-01-03 00:00:00, 2013-01-04 00:00:00, 2013-01-05 00:00:00, 2013-01-06 00:00:00]"
      ]
     },
     "execution_count": 75,
     "metadata": {},
     "output_type": "execute_result"
    }
   ],
   "source": [
    "df.select_dtypes(include='int64')"
   ]
  },
  {
   "cell_type": "code",
   "execution_count": 76,
   "metadata": {},
   "outputs": [
    {
     "data": {
      "text/html": [
       "<div>\n",
       "<style scoped>\n",
       "    .dataframe tbody tr th:only-of-type {\n",
       "        vertical-align: middle;\n",
       "    }\n",
       "\n",
       "    .dataframe tbody tr th {\n",
       "        vertical-align: top;\n",
       "    }\n",
       "\n",
       "    .dataframe thead th {\n",
       "        text-align: right;\n",
       "    }\n",
       "</style>\n",
       "<table border=\"1\" class=\"dataframe\">\n",
       "  <thead>\n",
       "    <tr style=\"text-align: right;\">\n",
       "      <th></th>\n",
       "      <th>A</th>\n",
       "      <th>B</th>\n",
       "      <th>C</th>\n",
       "      <th>D</th>\n",
       "    </tr>\n",
       "  </thead>\n",
       "  <tbody>\n",
       "    <tr>\n",
       "      <th>2013-01-01</th>\n",
       "      <td>-1.019998</td>\n",
       "      <td>0.274947</td>\n",
       "      <td>0.546842</td>\n",
       "      <td>0.723578</td>\n",
       "    </tr>\n",
       "    <tr>\n",
       "      <th>2013-01-02</th>\n",
       "      <td>-1.402076</td>\n",
       "      <td>1.245495</td>\n",
       "      <td>-0.070383</td>\n",
       "      <td>-0.285383</td>\n",
       "    </tr>\n",
       "    <tr>\n",
       "      <th>2013-01-03</th>\n",
       "      <td>0.396147</td>\n",
       "      <td>-0.538197</td>\n",
       "      <td>-1.434322</td>\n",
       "      <td>2.079102</td>\n",
       "    </tr>\n",
       "    <tr>\n",
       "      <th>2013-01-04</th>\n",
       "      <td>0.052522</td>\n",
       "      <td>0.500269</td>\n",
       "      <td>0.034893</td>\n",
       "      <td>0.219367</td>\n",
       "    </tr>\n",
       "    <tr>\n",
       "      <th>2013-01-05</th>\n",
       "      <td>-1.492344</td>\n",
       "      <td>1.145290</td>\n",
       "      <td>1.691469</td>\n",
       "      <td>0.318339</td>\n",
       "    </tr>\n",
       "    <tr>\n",
       "      <th>2013-01-06</th>\n",
       "      <td>-2.932764</td>\n",
       "      <td>1.671967</td>\n",
       "      <td>0.586408</td>\n",
       "      <td>1.673250</td>\n",
       "    </tr>\n",
       "  </tbody>\n",
       "</table>\n",
       "</div>"
      ],
      "text/plain": [
       "                   A         B         C         D\n",
       "2013-01-01 -1.019998  0.274947  0.546842  0.723578\n",
       "2013-01-02 -1.402076  1.245495 -0.070383 -0.285383\n",
       "2013-01-03  0.396147 -0.538197 -1.434322  2.079102\n",
       "2013-01-04  0.052522  0.500269  0.034893  0.219367\n",
       "2013-01-05 -1.492344  1.145290  1.691469  0.318339\n",
       "2013-01-06 -2.932764  1.671967  0.586408  1.673250"
      ]
     },
     "execution_count": 76,
     "metadata": {},
     "output_type": "execute_result"
    }
   ],
   "source": [
    "df.select_dtypes(include='number')"
   ]
  },
  {
   "attachments": {},
   "cell_type": "markdown",
   "metadata": {},
   "source": [
    "value_counts()\n",
    "\n",
    "df.value_counts()   : 1 이상이면 동일한 row 존재  (전부 1이면, 다 값이 다르고, 실재 row 갯수 만큼 나온다.)  \n",
    "series.value_counts() : 1 이상이면 동일한 값 존재"
   ]
  },
  {
   "attachments": {},
   "cell_type": "markdown",
   "metadata": {},
   "source": [
    "### 3. Selection \n",
    "\n",
    "df[1] : 인텍싱  '정수일때만 가능 (df[df.index == 1] 가 같음), 주로 df 'column' 선택에 사용  \n",
    "df[2:4] : 슬라이싱  \n",
    "df[df>1] : 마스킹  \n",
    "\n",
    "=> 주로 Serise 을 사용할때 사용한다고 생각하자. series[1] / series[2:4] / serise[serise>1]\n",
    "\n",
    ".             : ```df.col```  \n",
    "[]            : ```df[column]```         , * df[row_lable: ] 은 사용하지 말자.  \n",
    "loc (or at)   : df.loc[index_lable,] 은 조건일때만 사용     , ```df.loc[ : , col_label]```    \n",
    "iloc (or iat) : ```df.iloc[몇번째 row]``` , df.iloc[ : , 몇번째 col]     \n"
   ]
  },
  {
   "cell_type": "code",
   "execution_count": 77,
   "metadata": {},
   "outputs": [
    {
     "name": "stdout",
     "output_type": "stream",
     "text": [
      "2013-01-01   -1.019998\n",
      "2013-01-02   -1.402076\n",
      "2013-01-03    0.396147\n",
      "2013-01-04    0.052522\n",
      "2013-01-05   -1.492344\n",
      "2013-01-06   -2.932764\n",
      "Freq: D, Name: A, dtype: float64 \n",
      "\n",
      "2013-01-01   -1.019998\n",
      "2013-01-02   -1.402076\n",
      "2013-01-03    0.396147\n",
      "2013-01-04    0.052522\n",
      "2013-01-05   -1.492344\n",
      "2013-01-06   -2.932764\n",
      "Freq: D, Name: A, dtype: float64 \n",
      "\n",
      "                   A\n",
      "2013-01-01 -1.019998\n",
      "2013-01-02 -1.402076\n",
      "2013-01-03  0.396147\n",
      "2013-01-04  0.052522\n",
      "2013-01-05 -1.492344\n",
      "2013-01-06 -2.932764 \n",
      "\n"
     ]
    },
    {
     "data": {
      "text/html": [
       "<div>\n",
       "<style scoped>\n",
       "    .dataframe tbody tr th:only-of-type {\n",
       "        vertical-align: middle;\n",
       "    }\n",
       "\n",
       "    .dataframe tbody tr th {\n",
       "        vertical-align: top;\n",
       "    }\n",
       "\n",
       "    .dataframe thead th {\n",
       "        text-align: right;\n",
       "    }\n",
       "</style>\n",
       "<table border=\"1\" class=\"dataframe\">\n",
       "  <thead>\n",
       "    <tr style=\"text-align: right;\">\n",
       "      <th></th>\n",
       "      <th>A</th>\n",
       "      <th>C</th>\n",
       "    </tr>\n",
       "  </thead>\n",
       "  <tbody>\n",
       "    <tr>\n",
       "      <th>2013-01-01</th>\n",
       "      <td>-1.019998</td>\n",
       "      <td>0.546842</td>\n",
       "    </tr>\n",
       "    <tr>\n",
       "      <th>2013-01-02</th>\n",
       "      <td>-1.402076</td>\n",
       "      <td>-0.070383</td>\n",
       "    </tr>\n",
       "    <tr>\n",
       "      <th>2013-01-03</th>\n",
       "      <td>0.396147</td>\n",
       "      <td>-1.434322</td>\n",
       "    </tr>\n",
       "    <tr>\n",
       "      <th>2013-01-04</th>\n",
       "      <td>0.052522</td>\n",
       "      <td>0.034893</td>\n",
       "    </tr>\n",
       "    <tr>\n",
       "      <th>2013-01-05</th>\n",
       "      <td>-1.492344</td>\n",
       "      <td>1.691469</td>\n",
       "    </tr>\n",
       "    <tr>\n",
       "      <th>2013-01-06</th>\n",
       "      <td>-2.932764</td>\n",
       "      <td>0.586408</td>\n",
       "    </tr>\n",
       "  </tbody>\n",
       "</table>\n",
       "</div>"
      ],
      "text/plain": [
       "                   A         C\n",
       "2013-01-01 -1.019998  0.546842\n",
       "2013-01-02 -1.402076 -0.070383\n",
       "2013-01-03  0.396147 -1.434322\n",
       "2013-01-04  0.052522  0.034893\n",
       "2013-01-05 -1.492344  1.691469\n",
       "2013-01-06 -2.932764  0.586408"
      ]
     },
     "execution_count": 77,
     "metadata": {},
     "output_type": "execute_result"
    }
   ],
   "source": [
    "print(df['A'],'\\n')\n",
    "print(df[:]['A'],'\\n')              #df.loc[:,'A']\n",
    "# df['2013-01-01':]['A']            # chained indexing ?\n",
    "# df.A\n",
    "\n",
    "## column 을 선택하게 되며 series 로 리턴된다.\n",
    "\n",
    "\n",
    "print(df[['A']],'\\n')               # df 으로 리턴 \n",
    "df[['A','C']]                       # dataFrame 리턴\n",
    "\n",
    "## 2개 이상, 이거나 [[ 'col' ]] 으로 1개 col 을 df 로 리턴\n"
   ]
  },
  {
   "cell_type": "code",
   "execution_count": 78,
   "metadata": {},
   "outputs": [
    {
     "name": "stdout",
     "output_type": "stream",
     "text": [
      "                   A         B         C         D\n",
      "2013-01-01 -1.019998  0.274947  0.546842  0.723578\n",
      "2013-01-02 -1.402076  1.245495 -0.070383 -0.285383 \n",
      "\n",
      "                   A         B         C         D\n",
      "2013-01-01 -1.019998  0.274947  0.546842  0.723578\n",
      "2013-01-02 -1.402076  1.245495 -0.070383 -0.285383 \n",
      "\n"
     ]
    }
   ],
   "source": [
    "# 오류 \n",
    "\n",
    "# print(df[0],'\\n')                # 명시적 인덱스 0 을 찾기때문에 오류\n",
    "# print(df['2013-01-01'],'\\n')     # column 에서 찾기 때문에 오류 \n",
    "print(df['2013-01-01':'2013-01-02'],'\\n')  # 근데 이건 됨... 헐.\n",
    "print(df[:'2013-01-02'],'\\n') "
   ]
  },
  {
   "cell_type": "code",
   "execution_count": 79,
   "metadata": {},
   "outputs": [
    {
     "name": "stdout",
     "output_type": "stream",
     "text": [
      "                   A         B         C         D\n",
      "2013-01-04  0.052522  0.500269  0.034893  0.219367\n",
      "2013-01-05 -1.492344  1.145290  1.691469  0.318339\n",
      "2013-01-06 -2.932764  1.671967  0.586408  1.673250 \n",
      "\n",
      "                   A         B         C         D\n",
      "2013-01-04  0.052522  0.500269  0.034893  0.219367 \n",
      "\n",
      "                   A         B         C         D\n",
      "2013-01-04  0.052522  0.500269  0.034893  0.219367 \n",
      "\n"
     ]
    },
    {
     "data": {
      "text/html": [
       "<div>\n",
       "<style scoped>\n",
       "    .dataframe tbody tr th:only-of-type {\n",
       "        vertical-align: middle;\n",
       "    }\n",
       "\n",
       "    .dataframe tbody tr th {\n",
       "        vertical-align: top;\n",
       "    }\n",
       "\n",
       "    .dataframe thead th {\n",
       "        text-align: right;\n",
       "    }\n",
       "</style>\n",
       "<table border=\"1\" class=\"dataframe\">\n",
       "  <thead>\n",
       "    <tr style=\"text-align: right;\">\n",
       "      <th></th>\n",
       "      <th>A</th>\n",
       "      <th>B</th>\n",
       "      <th>C</th>\n",
       "      <th>D</th>\n",
       "    </tr>\n",
       "  </thead>\n",
       "  <tbody>\n",
       "    <tr>\n",
       "      <th>2013-01-04</th>\n",
       "      <td>0.052522</td>\n",
       "      <td>0.500269</td>\n",
       "      <td>0.034893</td>\n",
       "      <td>0.219367</td>\n",
       "    </tr>\n",
       "    <tr>\n",
       "      <th>2013-01-05</th>\n",
       "      <td>-1.492344</td>\n",
       "      <td>1.145290</td>\n",
       "      <td>1.691469</td>\n",
       "      <td>0.318339</td>\n",
       "    </tr>\n",
       "    <tr>\n",
       "      <th>2013-01-06</th>\n",
       "      <td>-2.932764</td>\n",
       "      <td>1.671967</td>\n",
       "      <td>0.586408</td>\n",
       "      <td>1.673250</td>\n",
       "    </tr>\n",
       "  </tbody>\n",
       "</table>\n",
       "</div>"
      ],
      "text/plain": [
       "                   A         B         C         D\n",
       "2013-01-04  0.052522  0.500269  0.034893  0.219367\n",
       "2013-01-05 -1.492344  1.145290  1.691469  0.318339\n",
       "2013-01-06 -2.932764  1.671967  0.586408  1.673250"
      ]
     },
     "execution_count": 79,
     "metadata": {},
     "output_type": "execute_result"
    }
   ],
   "source": [
    "# df[0:3]\n",
    "# df['2013-01-01':'2013-01-03']\n",
    "print(df['2013-01-04':], '\\n')\n",
    "print(df['2013-01-04':'2013-01-04'], '\\n')     # 3, 4 열, label 은 끝 포함\n",
    "print(df[3:4], '\\n')                           # 3열만, index 은 -1 까지\n",
    "df[3:]\n",
    "\n",
    "# row 을 선택하게 되며, dataFrame 으로 리턴된다"
   ]
  },
  {
   "cell_type": "code",
   "execution_count": 80,
   "metadata": {},
   "outputs": [
    {
     "data": {
      "text/html": [
       "<div>\n",
       "<style scoped>\n",
       "    .dataframe tbody tr th:only-of-type {\n",
       "        vertical-align: middle;\n",
       "    }\n",
       "\n",
       "    .dataframe tbody tr th {\n",
       "        vertical-align: top;\n",
       "    }\n",
       "\n",
       "    .dataframe thead th {\n",
       "        text-align: right;\n",
       "    }\n",
       "</style>\n",
       "<table border=\"1\" class=\"dataframe\">\n",
       "  <thead>\n",
       "    <tr style=\"text-align: right;\">\n",
       "      <th></th>\n",
       "      <th>A</th>\n",
       "      <th>B</th>\n",
       "      <th>C</th>\n",
       "      <th>D</th>\n",
       "      <th>E</th>\n",
       "      <th>F</th>\n",
       "    </tr>\n",
       "  </thead>\n",
       "  <tbody>\n",
       "    <tr>\n",
       "      <th>0</th>\n",
       "      <td>1.0</td>\n",
       "      <td>2013-01-02</td>\n",
       "      <td>1.0</td>\n",
       "      <td>3</td>\n",
       "      <td>test</td>\n",
       "      <td>foo</td>\n",
       "    </tr>\n",
       "    <tr>\n",
       "      <th>1</th>\n",
       "      <td>1.0</td>\n",
       "      <td>2013-01-02</td>\n",
       "      <td>1.0</td>\n",
       "      <td>3</td>\n",
       "      <td>train</td>\n",
       "      <td>foo</td>\n",
       "    </tr>\n",
       "    <tr>\n",
       "      <th>2</th>\n",
       "      <td>1.0</td>\n",
       "      <td>2013-01-02</td>\n",
       "      <td>1.0</td>\n",
       "      <td>3</td>\n",
       "      <td>test</td>\n",
       "      <td>foo</td>\n",
       "    </tr>\n",
       "    <tr>\n",
       "      <th>3</th>\n",
       "      <td>1.0</td>\n",
       "      <td>2013-01-02</td>\n",
       "      <td>1.0</td>\n",
       "      <td>3</td>\n",
       "      <td>train</td>\n",
       "      <td>foo</td>\n",
       "    </tr>\n",
       "  </tbody>\n",
       "</table>\n",
       "</div>"
      ],
      "text/plain": [
       "     A          B    C  D      E    F\n",
       "0  1.0 2013-01-02  1.0  3   test  foo\n",
       "1  1.0 2013-01-02  1.0  3  train  foo\n",
       "2  1.0 2013-01-02  1.0  3   test  foo\n",
       "3  1.0 2013-01-02  1.0  3  train  foo"
      ]
     },
     "execution_count": 80,
     "metadata": {},
     "output_type": "execute_result"
    }
   ],
   "source": [
    "df2"
   ]
  },
  {
   "cell_type": "code",
   "execution_count": 81,
   "metadata": {},
   "outputs": [
    {
     "name": "stdout",
     "output_type": "stream",
     "text": [
      "     A          B    C  D      E    F\n",
      "0  1.0 2013-01-02  1.0  3   test  foo\n",
      "1  1.0 2013-01-02  1.0  3  train  foo\n",
      "2  1.0 2013-01-02  1.0  3   test  foo\n",
      "     A          B    C  D      E    F\n",
      "0  1.0 2013-01-02  1.0  3   test  foo\n",
      "1  1.0 2013-01-02  1.0  3  train  foo\n",
      "2  1.0 2013-01-02  1.0  3   test  foo\n",
      "3  1.0 2013-01-02  1.0  3  train  foo\n"
     ]
    },
    {
     "data": {
      "text/html": [
       "<div>\n",
       "<style scoped>\n",
       "    .dataframe tbody tr th:only-of-type {\n",
       "        vertical-align: middle;\n",
       "    }\n",
       "\n",
       "    .dataframe tbody tr th {\n",
       "        vertical-align: top;\n",
       "    }\n",
       "\n",
       "    .dataframe thead th {\n",
       "        text-align: right;\n",
       "    }\n",
       "</style>\n",
       "<table border=\"1\" class=\"dataframe\">\n",
       "  <thead>\n",
       "    <tr style=\"text-align: right;\">\n",
       "      <th></th>\n",
       "      <th>A</th>\n",
       "      <th>B</th>\n",
       "      <th>C</th>\n",
       "      <th>D</th>\n",
       "      <th>E</th>\n",
       "      <th>F</th>\n",
       "    </tr>\n",
       "  </thead>\n",
       "  <tbody>\n",
       "    <tr>\n",
       "      <th>0</th>\n",
       "      <td>1.0</td>\n",
       "      <td>2013-01-02</td>\n",
       "      <td>1.0</td>\n",
       "      <td>3</td>\n",
       "      <td>test</td>\n",
       "      <td>foo</td>\n",
       "    </tr>\n",
       "    <tr>\n",
       "      <th>1</th>\n",
       "      <td>1.0</td>\n",
       "      <td>2013-01-02</td>\n",
       "      <td>1.0</td>\n",
       "      <td>3</td>\n",
       "      <td>train</td>\n",
       "      <td>foo</td>\n",
       "    </tr>\n",
       "    <tr>\n",
       "      <th>2</th>\n",
       "      <td>1.0</td>\n",
       "      <td>2013-01-02</td>\n",
       "      <td>1.0</td>\n",
       "      <td>3</td>\n",
       "      <td>test</td>\n",
       "      <td>foo</td>\n",
       "    </tr>\n",
       "  </tbody>\n",
       "</table>\n",
       "</div>"
      ],
      "text/plain": [
       "     A          B    C  D      E    F\n",
       "0  1.0 2013-01-02  1.0  3   test  foo\n",
       "1  1.0 2013-01-02  1.0  3  train  foo\n",
       "2  1.0 2013-01-02  1.0  3   test  foo"
      ]
     },
     "execution_count": 81,
     "metadata": {},
     "output_type": "execute_result"
    }
   ],
   "source": [
    "print(df2[:3])  # 이런 형태는 사용하지 말자.  3번째 까지, column 이랑 혼동된다.\n",
    "# df2.iloc[,:3] 3번째 columns 까지 인건지, df2.iloc[:3,] 3번째 row 인건지??\n",
    "\n",
    "print(df2.loc[:3,])  # 이것도 사용하지 말자.  3번 까지 , 3번이 어디있을줄 알고... \n",
    "# 정수형이 아니면 df.loc[:'서울',] 이건 괜찬을듯.\n",
    "\n",
    "df2.iloc[:3,]   # 이걸 사용하자. 3번째 까지"
   ]
  },
  {
   "cell_type": "code",
   "execution_count": 82,
   "metadata": {},
   "outputs": [
    {
     "name": "stdout",
     "output_type": "stream",
     "text": [
      "2    1.0\n",
      "3    1.0\n",
      "Name: A, dtype: float64 \n",
      "\n",
      "     A          B    C  D      E    F\n",
      "2  1.0 2013-01-02  1.0  3   test  foo\n",
      "3  1.0 2013-01-02  1.0  3  train  foo \n",
      "\n"
     ]
    },
    {
     "data": {
      "text/html": [
       "<div>\n",
       "<style scoped>\n",
       "    .dataframe tbody tr th:only-of-type {\n",
       "        vertical-align: middle;\n",
       "    }\n",
       "\n",
       "    .dataframe tbody tr th {\n",
       "        vertical-align: top;\n",
       "    }\n",
       "\n",
       "    .dataframe thead th {\n",
       "        text-align: right;\n",
       "    }\n",
       "</style>\n",
       "<table border=\"1\" class=\"dataframe\">\n",
       "  <thead>\n",
       "    <tr style=\"text-align: right;\">\n",
       "      <th></th>\n",
       "      <th>A</th>\n",
       "      <th>B</th>\n",
       "      <th>C</th>\n",
       "      <th>D</th>\n",
       "      <th>E</th>\n",
       "      <th>F</th>\n",
       "    </tr>\n",
       "  </thead>\n",
       "  <tbody>\n",
       "    <tr>\n",
       "      <th>2</th>\n",
       "      <td>1.0</td>\n",
       "      <td>2013-01-02</td>\n",
       "      <td>1.0</td>\n",
       "      <td>3</td>\n",
       "      <td>test</td>\n",
       "      <td>foo</td>\n",
       "    </tr>\n",
       "  </tbody>\n",
       "</table>\n",
       "</div>"
      ],
      "text/plain": [
       "     A          B    C  D     E    F\n",
       "2  1.0 2013-01-02  1.0  3  test  foo"
      ]
     },
     "execution_count": 82,
     "metadata": {},
     "output_type": "execute_result"
    }
   ],
   "source": [
    "#chained indexing?\n",
    "print(df2[2:4]['A'],'\\n')     # row / col\n",
    "print(df2[2:4][0:4], '\\n')     # row seriese 의 row serise\n",
    "df2[2:4][0:1]                 # 2,3 row 로 만들어진 것에서 다시 0,1 row 첫번째 "
   ]
  },
  {
   "cell_type": "code",
   "execution_count": 83,
   "metadata": {},
   "outputs": [
    {
     "data": {
      "text/plain": [
       "A                    1.0\n",
       "B    2013-01-02 00:00:00\n",
       "C                    1.0\n",
       "D                      3\n",
       "E                   test\n",
       "F                    foo\n",
       "Name: 0, dtype: object"
      ]
     },
     "execution_count": 83,
     "metadata": {},
     "output_type": "execute_result"
    }
   ],
   "source": [
    "df2.iloc[0]     # 암묵적 인덱스 0 번째 선택"
   ]
  },
  {
   "cell_type": "code",
   "execution_count": 84,
   "metadata": {},
   "outputs": [
    {
     "data": {
      "text/plain": [
       "A                    1.0\n",
       "B    2013-01-02 00:00:00\n",
       "C                    1.0\n",
       "D                      3\n",
       "E                   test\n",
       "F                    foo\n",
       "Name: 2, dtype: object"
      ]
     },
     "execution_count": 84,
     "metadata": {},
     "output_type": "execute_result"
    }
   ],
   "source": [
    "df2.loc[2]        # 명시적 인덱스 2 선택"
   ]
  },
  {
   "attachments": {},
   "cell_type": "markdown",
   "metadata": {},
   "source": [
    "Row\n",
    "\n",
    "df.shape[0] = row 행갯수\n",
    "\n",
    "df.iloc[몇번째 row,]  \n",
    "df.loc[row_label,]  ```---> row_label 대신 조건절이 들어가면 조건절은 해당 row 의 index label 을 리턴한다.```\n",
    "\n",
    "으로만 사용\n"
   ]
  },
  {
   "cell_type": "code",
   "execution_count": 85,
   "metadata": {},
   "outputs": [
    {
     "data": {
      "text/plain": [
       "((4, 6), 4, 6)"
      ]
     },
     "execution_count": 85,
     "metadata": {},
     "output_type": "execute_result"
    }
   ],
   "source": [
    "df2.shape, df2.shape[0], df2.shape[1]"
   ]
  },
  {
   "cell_type": "code",
   "execution_count": 86,
   "metadata": {},
   "outputs": [
    {
     "name": "stdout",
     "output_type": "stream",
     "text": [
      "A   -1.019998\n",
      "B    0.274947\n",
      "C    0.546842\n",
      "D    0.723578\n",
      "Name: 2013-01-01 00:00:00, dtype: float64 \n",
      "\n",
      "                   A         B         C         D\n",
      "2013-01-01 -1.019998  0.274947  0.546842  0.723578\n",
      "2013-01-02 -1.402076  1.245495 -0.070383 -0.285383 \n",
      "\n",
      "                   A         B         C         D\n",
      "2013-01-01 -1.019998  0.274947  0.546842  0.723578\n",
      "2013-01-02 -1.402076  1.245495 -0.070383 -0.285383 \n",
      "\n",
      "A   -1.019998\n",
      "B    0.274947\n",
      "C    0.546842\n",
      "D    0.723578\n",
      "Name: 2013-01-01 00:00:00, dtype: float64 \n",
      "\n",
      "                   A         B         C         D\n",
      "2013-01-01 -1.019998  0.274947  0.546842  0.723578 \n",
      "\n",
      "                   A         B         C         D\n",
      "2013-01-01 -1.019998  0.274947  0.546842  0.723578\n",
      "2013-01-02 -1.402076  1.245495 -0.070383 -0.285383 \n",
      "\n"
     ]
    }
   ],
   "source": [
    "# row label (명시적, 몇번) 을 이용해서 row 을 인덱싱\n",
    "# index 가 int 인 경우 df.loc[index_int] 도 가능, \n",
    "print(df.loc['20130101'],'\\n')              # series\n",
    "print(df.loc['20130101':'20130102'],'\\n')   # dataFrame\n",
    "print(df.loc[['20130101','20130102']],'\\n')\n",
    "\n",
    "# row location (암묵적 , 몇번째) index 을 이용해서 row 인덱싱\n",
    "print(df.iloc[0],'\\n')                      # series\n",
    "print(df.iloc[0:1],'\\n')                    #dataFrame\n",
    "print(df.iloc[[0,1]],'\\n')\n",
    "\n"
   ]
  },
  {
   "attachments": {},
   "cell_type": "markdown",
   "metadata": {},
   "source": [
    "Column\n",
    "\n",
    "df.shape[1] = columns 열갯수\n",
    "\n",
    "특정 column 은 몇번째 column 인가? 는 어떻게 찾지?\n",
    "\n",
    "```\n",
    "columns 을 추가할때는 인덱스가 없는 list 형태로 입력해야 한다. \n",
    "그렇지 않으면, 인덱스가 서로 다를때 입력이 안될수 있다. \n",
    "```"
   ]
  },
  {
   "cell_type": "code",
   "execution_count": 87,
   "metadata": {},
   "outputs": [
    {
     "name": "stdout",
     "output_type": "stream",
     "text": [
      "2013-01-01   -1.019998\n",
      "2013-01-02   -1.402076\n",
      "2013-01-03    0.396147\n",
      "2013-01-04    0.052522\n",
      "2013-01-05   -1.492344\n",
      "2013-01-06   -2.932764\n",
      "Freq: D, Name: A, dtype: float64 \n",
      "\n",
      "                   A\n",
      "2013-01-01 -1.019998\n",
      "2013-01-02 -1.402076\n",
      "2013-01-03  0.396147\n",
      "2013-01-04  0.052522\n",
      "2013-01-05 -1.492344\n",
      "2013-01-06 -2.932764 \n",
      "\n",
      "                   A         B\n",
      "2013-01-01 -1.019998  0.274947\n",
      "2013-01-02 -1.402076  1.245495\n",
      "2013-01-03  0.396147 -0.538197\n",
      "2013-01-04  0.052522  0.500269\n",
      "2013-01-05 -1.492344  1.145290\n",
      "2013-01-06 -2.932764  1.671967 \n",
      "\n",
      "                   A         B\n",
      "2013-01-01 -1.019998  0.274947\n",
      "2013-01-02 -1.402076  1.245495\n",
      "2013-01-03  0.396147 -0.538197\n",
      "2013-01-04  0.052522  0.500269\n",
      "2013-01-05 -1.492344  1.145290\n",
      "2013-01-06 -2.932764  1.671967 \n",
      "\n"
     ]
    }
   ],
   "source": [
    "\n",
    "# column lable 을 이용해서 column 인덱싱\n",
    "# print(df.loc['A'],'\\n')      # 'A' 을 row 인텍싱으로 생각해서 \n",
    "print(df.loc[:,'A'],'\\n')\n",
    "print(df.loc[:, ['A']],'\\n')\n",
    "print(df.loc[:,'A':'B'],'\\n')\n",
    "print(df.loc[:,['A','B']],'\\n')\n"
   ]
  },
  {
   "cell_type": "code",
   "execution_count": 88,
   "metadata": {},
   "outputs": [
    {
     "data": {
      "text/html": [
       "<div>\n",
       "<style scoped>\n",
       "    .dataframe tbody tr th:only-of-type {\n",
       "        vertical-align: middle;\n",
       "    }\n",
       "\n",
       "    .dataframe tbody tr th {\n",
       "        vertical-align: top;\n",
       "    }\n",
       "\n",
       "    .dataframe thead th {\n",
       "        text-align: right;\n",
       "    }\n",
       "</style>\n",
       "<table border=\"1\" class=\"dataframe\">\n",
       "  <thead>\n",
       "    <tr style=\"text-align: right;\">\n",
       "      <th></th>\n",
       "      <th>A</th>\n",
       "      <th>B</th>\n",
       "      <th>C</th>\n",
       "      <th>D</th>\n",
       "    </tr>\n",
       "  </thead>\n",
       "  <tbody>\n",
       "    <tr>\n",
       "      <th>2013-01-01</th>\n",
       "      <td>-1.019998</td>\n",
       "      <td>0.274947</td>\n",
       "      <td>0.546842</td>\n",
       "      <td>0.723578</td>\n",
       "    </tr>\n",
       "    <tr>\n",
       "      <th>2013-01-02</th>\n",
       "      <td>-1.402076</td>\n",
       "      <td>1.245495</td>\n",
       "      <td>-0.070383</td>\n",
       "      <td>-0.285383</td>\n",
       "    </tr>\n",
       "    <tr>\n",
       "      <th>2013-01-03</th>\n",
       "      <td>0.396147</td>\n",
       "      <td>-0.538197</td>\n",
       "      <td>-1.434322</td>\n",
       "      <td>2.079102</td>\n",
       "    </tr>\n",
       "    <tr>\n",
       "      <th>2013-01-04</th>\n",
       "      <td>0.052522</td>\n",
       "      <td>0.500269</td>\n",
       "      <td>0.034893</td>\n",
       "      <td>0.219367</td>\n",
       "    </tr>\n",
       "    <tr>\n",
       "      <th>2013-01-05</th>\n",
       "      <td>-1.492344</td>\n",
       "      <td>1.145290</td>\n",
       "      <td>1.691469</td>\n",
       "      <td>0.318339</td>\n",
       "    </tr>\n",
       "  </tbody>\n",
       "</table>\n",
       "</div>"
      ],
      "text/plain": [
       "                   A         B         C         D\n",
       "2013-01-01 -1.019998  0.274947  0.546842  0.723578\n",
       "2013-01-02 -1.402076  1.245495 -0.070383 -0.285383\n",
       "2013-01-03  0.396147 -0.538197 -1.434322  2.079102\n",
       "2013-01-04  0.052522  0.500269  0.034893  0.219367\n",
       "2013-01-05 -1.492344  1.145290  1.691469  0.318339"
      ]
     },
     "execution_count": 88,
     "metadata": {},
     "output_type": "execute_result"
    }
   ],
   "source": [
    "df.head()"
   ]
  },
  {
   "cell_type": "code",
   "execution_count": 89,
   "metadata": {},
   "outputs": [
    {
     "name": "stdout",
     "output_type": "stream",
     "text": [
      "A   -1.019998\n",
      "B    0.274947\n",
      "C    0.546842\n",
      "D    0.723578\n",
      "Name: 2013-01-01 00:00:00, dtype: float64 \n",
      "\n",
      "2013-01-01   -1.019998\n",
      "2013-01-02   -1.402076\n",
      "2013-01-03    0.396147\n",
      "2013-01-04    0.052522\n",
      "2013-01-05   -1.492344\n",
      "2013-01-06   -2.932764\n",
      "Freq: D, Name: A, dtype: float64 \n",
      "\n",
      "                   A\n",
      "2013-01-01 -1.019998\n",
      "2013-01-02 -1.402076\n",
      "2013-01-03  0.396147\n",
      "2013-01-04  0.052522\n",
      "2013-01-05 -1.492344\n",
      "2013-01-06 -2.932764\n"
     ]
    }
   ],
   "source": [
    "\n",
    "# column locatin (몇번째) index 을 이용해서 column 인덱싱\n",
    "print(df.iloc[0],'\\n')          # 0 을 row 인텍싱으로 생각해서 0번째 location row 을 인텍싱\n",
    "print(df.iloc[:,0],'\\n')        # 0 번째 column series 리턴\n",
    "print(df.iloc[:,[0]])           # 0 번째 column df 리턴\n"
   ]
  },
  {
   "cell_type": "code",
   "execution_count": 90,
   "metadata": {},
   "outputs": [
    {
     "name": "stdout",
     "output_type": "stream",
     "text": [
      "                   A         B\n",
      "2013-01-01 -1.019998  0.274947\n",
      "2013-01-02 -1.402076  1.245495\n",
      "2013-01-03  0.396147 -0.538197\n",
      "2013-01-04  0.052522  0.500269\n",
      "2013-01-05 -1.492344  1.145290\n",
      "2013-01-06 -2.932764  1.671967 \n",
      "\n"
     ]
    }
   ],
   "source": [
    "print(df.iloc[:,0:2],'\\n')\n"
   ]
  },
  {
   "cell_type": "code",
   "execution_count": 91,
   "metadata": {},
   "outputs": [
    {
     "name": "stdout",
     "output_type": "stream",
     "text": [
      "                   A         B         D\n",
      "2013-01-01 -1.019998  0.274947  0.723578\n",
      "2013-01-02 -1.402076  1.245495 -0.285383\n",
      "2013-01-03  0.396147 -0.538197  2.079102\n",
      "2013-01-04  0.052522  0.500269  0.219367\n",
      "2013-01-05 -1.492344  1.145290  0.318339\n",
      "2013-01-06 -2.932764  1.671967  1.673250 \n",
      "\n"
     ]
    }
   ],
   "source": [
    "print(df.iloc[:,[0,1,3]],'\\n')"
   ]
  },
  {
   "cell_type": "code",
   "execution_count": 92,
   "metadata": {},
   "outputs": [
    {
     "data": {
      "text/html": [
       "<div>\n",
       "<style scoped>\n",
       "    .dataframe tbody tr th:only-of-type {\n",
       "        vertical-align: middle;\n",
       "    }\n",
       "\n",
       "    .dataframe tbody tr th {\n",
       "        vertical-align: top;\n",
       "    }\n",
       "\n",
       "    .dataframe thead th {\n",
       "        text-align: right;\n",
       "    }\n",
       "</style>\n",
       "<table border=\"1\" class=\"dataframe\">\n",
       "  <thead>\n",
       "    <tr style=\"text-align: right;\">\n",
       "      <th></th>\n",
       "      <th>a</th>\n",
       "      <th>B</th>\n",
       "      <th>C</th>\n",
       "      <th>D</th>\n",
       "    </tr>\n",
       "  </thead>\n",
       "  <tbody>\n",
       "    <tr>\n",
       "      <th>2013-01-01</th>\n",
       "      <td>-1.019998</td>\n",
       "      <td>0.274947</td>\n",
       "      <td>0.546842</td>\n",
       "      <td>0.723578</td>\n",
       "    </tr>\n",
       "    <tr>\n",
       "      <th>2013-01-02</th>\n",
       "      <td>-1.402076</td>\n",
       "      <td>1.245495</td>\n",
       "      <td>-0.070383</td>\n",
       "      <td>-0.285383</td>\n",
       "    </tr>\n",
       "    <tr>\n",
       "      <th>2013-01-03</th>\n",
       "      <td>0.396147</td>\n",
       "      <td>-0.538197</td>\n",
       "      <td>-1.434322</td>\n",
       "      <td>2.079102</td>\n",
       "    </tr>\n",
       "    <tr>\n",
       "      <th>2013-01-04</th>\n",
       "      <td>0.052522</td>\n",
       "      <td>0.500269</td>\n",
       "      <td>0.034893</td>\n",
       "      <td>0.219367</td>\n",
       "    </tr>\n",
       "    <tr>\n",
       "      <th>2013-01-05</th>\n",
       "      <td>-1.492344</td>\n",
       "      <td>1.145290</td>\n",
       "      <td>1.691469</td>\n",
       "      <td>0.318339</td>\n",
       "    </tr>\n",
       "    <tr>\n",
       "      <th>2013-01-06</th>\n",
       "      <td>-2.932764</td>\n",
       "      <td>1.671967</td>\n",
       "      <td>0.586408</td>\n",
       "      <td>1.673250</td>\n",
       "    </tr>\n",
       "  </tbody>\n",
       "</table>\n",
       "</div>"
      ],
      "text/plain": [
       "                   a         B         C         D\n",
       "2013-01-01 -1.019998  0.274947  0.546842  0.723578\n",
       "2013-01-02 -1.402076  1.245495 -0.070383 -0.285383\n",
       "2013-01-03  0.396147 -0.538197 -1.434322  2.079102\n",
       "2013-01-04  0.052522  0.500269  0.034893  0.219367\n",
       "2013-01-05 -1.492344  1.145290  1.691469  0.318339\n",
       "2013-01-06 -2.932764  1.671967  0.586408  1.673250"
      ]
     },
     "execution_count": 92,
     "metadata": {},
     "output_type": "execute_result"
    }
   ],
   "source": [
    "df.rename({'A':'a'},axis=1)"
   ]
  },
  {
   "cell_type": "code",
   "execution_count": 93,
   "metadata": {},
   "outputs": [
    {
     "data": {
      "text/html": [
       "<div>\n",
       "<style scoped>\n",
       "    .dataframe tbody tr th:only-of-type {\n",
       "        vertical-align: middle;\n",
       "    }\n",
       "\n",
       "    .dataframe tbody tr th {\n",
       "        vertical-align: top;\n",
       "    }\n",
       "\n",
       "    .dataframe thead th {\n",
       "        text-align: right;\n",
       "    }\n",
       "</style>\n",
       "<table border=\"1\" class=\"dataframe\">\n",
       "  <thead>\n",
       "    <tr style=\"text-align: right;\">\n",
       "      <th></th>\n",
       "      <th>A_S</th>\n",
       "      <th>B_S</th>\n",
       "      <th>C_S</th>\n",
       "      <th>D_S</th>\n",
       "    </tr>\n",
       "  </thead>\n",
       "  <tbody>\n",
       "    <tr>\n",
       "      <th>2013-01-01</th>\n",
       "      <td>-1.019998</td>\n",
       "      <td>0.274947</td>\n",
       "      <td>0.546842</td>\n",
       "      <td>0.723578</td>\n",
       "    </tr>\n",
       "    <tr>\n",
       "      <th>2013-01-02</th>\n",
       "      <td>-1.402076</td>\n",
       "      <td>1.245495</td>\n",
       "      <td>-0.070383</td>\n",
       "      <td>-0.285383</td>\n",
       "    </tr>\n",
       "    <tr>\n",
       "      <th>2013-01-03</th>\n",
       "      <td>0.396147</td>\n",
       "      <td>-0.538197</td>\n",
       "      <td>-1.434322</td>\n",
       "      <td>2.079102</td>\n",
       "    </tr>\n",
       "    <tr>\n",
       "      <th>2013-01-04</th>\n",
       "      <td>0.052522</td>\n",
       "      <td>0.500269</td>\n",
       "      <td>0.034893</td>\n",
       "      <td>0.219367</td>\n",
       "    </tr>\n",
       "    <tr>\n",
       "      <th>2013-01-05</th>\n",
       "      <td>-1.492344</td>\n",
       "      <td>1.145290</td>\n",
       "      <td>1.691469</td>\n",
       "      <td>0.318339</td>\n",
       "    </tr>\n",
       "    <tr>\n",
       "      <th>2013-01-06</th>\n",
       "      <td>-2.932764</td>\n",
       "      <td>1.671967</td>\n",
       "      <td>0.586408</td>\n",
       "      <td>1.673250</td>\n",
       "    </tr>\n",
       "  </tbody>\n",
       "</table>\n",
       "</div>"
      ],
      "text/plain": [
       "                 A_S       B_S       C_S       D_S\n",
       "2013-01-01 -1.019998  0.274947  0.546842  0.723578\n",
       "2013-01-02 -1.402076  1.245495 -0.070383 -0.285383\n",
       "2013-01-03  0.396147 -0.538197 -1.434322  2.079102\n",
       "2013-01-04  0.052522  0.500269  0.034893  0.219367\n",
       "2013-01-05 -1.492344  1.145290  1.691469  0.318339\n",
       "2013-01-06 -2.932764  1.671967  0.586408  1.673250"
      ]
     },
     "execution_count": 93,
     "metadata": {},
     "output_type": "execute_result"
    }
   ],
   "source": [
    "df.add_suffix('_S')"
   ]
  },
  {
   "cell_type": "code",
   "execution_count": 94,
   "metadata": {},
   "outputs": [
    {
     "data": {
      "text/html": [
       "<div>\n",
       "<style scoped>\n",
       "    .dataframe tbody tr th:only-of-type {\n",
       "        vertical-align: middle;\n",
       "    }\n",
       "\n",
       "    .dataframe tbody tr th {\n",
       "        vertical-align: top;\n",
       "    }\n",
       "\n",
       "    .dataframe thead th {\n",
       "        text-align: right;\n",
       "    }\n",
       "</style>\n",
       "<table border=\"1\" class=\"dataframe\">\n",
       "  <thead>\n",
       "    <tr style=\"text-align: right;\">\n",
       "      <th></th>\n",
       "      <th>A</th>\n",
       "      <th>B</th>\n",
       "      <th>C</th>\n",
       "      <th>D</th>\n",
       "    </tr>\n",
       "  </thead>\n",
       "  <tbody>\n",
       "    <tr>\n",
       "      <th>2013-01-06</th>\n",
       "      <td>-2.932764</td>\n",
       "      <td>1.671967</td>\n",
       "      <td>0.586408</td>\n",
       "      <td>1.673250</td>\n",
       "    </tr>\n",
       "    <tr>\n",
       "      <th>2013-01-05</th>\n",
       "      <td>-1.492344</td>\n",
       "      <td>1.145290</td>\n",
       "      <td>1.691469</td>\n",
       "      <td>0.318339</td>\n",
       "    </tr>\n",
       "    <tr>\n",
       "      <th>2013-01-04</th>\n",
       "      <td>0.052522</td>\n",
       "      <td>0.500269</td>\n",
       "      <td>0.034893</td>\n",
       "      <td>0.219367</td>\n",
       "    </tr>\n",
       "    <tr>\n",
       "      <th>2013-01-03</th>\n",
       "      <td>0.396147</td>\n",
       "      <td>-0.538197</td>\n",
       "      <td>-1.434322</td>\n",
       "      <td>2.079102</td>\n",
       "    </tr>\n",
       "    <tr>\n",
       "      <th>2013-01-02</th>\n",
       "      <td>-1.402076</td>\n",
       "      <td>1.245495</td>\n",
       "      <td>-0.070383</td>\n",
       "      <td>-0.285383</td>\n",
       "    </tr>\n",
       "    <tr>\n",
       "      <th>2013-01-01</th>\n",
       "      <td>-1.019998</td>\n",
       "      <td>0.274947</td>\n",
       "      <td>0.546842</td>\n",
       "      <td>0.723578</td>\n",
       "    </tr>\n",
       "  </tbody>\n",
       "</table>\n",
       "</div>"
      ],
      "text/plain": [
       "                   A         B         C         D\n",
       "2013-01-06 -2.932764  1.671967  0.586408  1.673250\n",
       "2013-01-05 -1.492344  1.145290  1.691469  0.318339\n",
       "2013-01-04  0.052522  0.500269  0.034893  0.219367\n",
       "2013-01-03  0.396147 -0.538197 -1.434322  2.079102\n",
       "2013-01-02 -1.402076  1.245495 -0.070383 -0.285383\n",
       "2013-01-01 -1.019998  0.274947  0.546842  0.723578"
      ]
     },
     "execution_count": 94,
     "metadata": {},
     "output_type": "execute_result"
    }
   ],
   "source": [
    "df.loc[::-1]   # row 순서 역순"
   ]
  },
  {
   "cell_type": "code",
   "execution_count": 95,
   "metadata": {},
   "outputs": [
    {
     "data": {
      "text/html": [
       "<div>\n",
       "<style scoped>\n",
       "    .dataframe tbody tr th:only-of-type {\n",
       "        vertical-align: middle;\n",
       "    }\n",
       "\n",
       "    .dataframe tbody tr th {\n",
       "        vertical-align: top;\n",
       "    }\n",
       "\n",
       "    .dataframe thead th {\n",
       "        text-align: right;\n",
       "    }\n",
       "</style>\n",
       "<table border=\"1\" class=\"dataframe\">\n",
       "  <thead>\n",
       "    <tr style=\"text-align: right;\">\n",
       "      <th></th>\n",
       "      <th>D</th>\n",
       "      <th>C</th>\n",
       "      <th>B</th>\n",
       "      <th>A</th>\n",
       "    </tr>\n",
       "  </thead>\n",
       "  <tbody>\n",
       "    <tr>\n",
       "      <th>2013-01-01</th>\n",
       "      <td>0.723578</td>\n",
       "      <td>0.546842</td>\n",
       "      <td>0.274947</td>\n",
       "      <td>-1.019998</td>\n",
       "    </tr>\n",
       "    <tr>\n",
       "      <th>2013-01-02</th>\n",
       "      <td>-0.285383</td>\n",
       "      <td>-0.070383</td>\n",
       "      <td>1.245495</td>\n",
       "      <td>-1.402076</td>\n",
       "    </tr>\n",
       "    <tr>\n",
       "      <th>2013-01-03</th>\n",
       "      <td>2.079102</td>\n",
       "      <td>-1.434322</td>\n",
       "      <td>-0.538197</td>\n",
       "      <td>0.396147</td>\n",
       "    </tr>\n",
       "    <tr>\n",
       "      <th>2013-01-04</th>\n",
       "      <td>0.219367</td>\n",
       "      <td>0.034893</td>\n",
       "      <td>0.500269</td>\n",
       "      <td>0.052522</td>\n",
       "    </tr>\n",
       "    <tr>\n",
       "      <th>2013-01-05</th>\n",
       "      <td>0.318339</td>\n",
       "      <td>1.691469</td>\n",
       "      <td>1.145290</td>\n",
       "      <td>-1.492344</td>\n",
       "    </tr>\n",
       "    <tr>\n",
       "      <th>2013-01-06</th>\n",
       "      <td>1.673250</td>\n",
       "      <td>0.586408</td>\n",
       "      <td>1.671967</td>\n",
       "      <td>-2.932764</td>\n",
       "    </tr>\n",
       "  </tbody>\n",
       "</table>\n",
       "</div>"
      ],
      "text/plain": [
       "                   D         C         B         A\n",
       "2013-01-01  0.723578  0.546842  0.274947 -1.019998\n",
       "2013-01-02 -0.285383 -0.070383  1.245495 -1.402076\n",
       "2013-01-03  2.079102 -1.434322 -0.538197  0.396147\n",
       "2013-01-04  0.219367  0.034893  0.500269  0.052522\n",
       "2013-01-05  0.318339  1.691469  1.145290 -1.492344\n",
       "2013-01-06  1.673250  0.586408  1.671967 -2.932764"
      ]
     },
     "execution_count": 95,
     "metadata": {},
     "output_type": "execute_result"
    }
   ],
   "source": [
    "df.loc[:,::-1]  # column 역순"
   ]
  },
  {
   "attachments": {},
   "cell_type": "markdown",
   "metadata": {},
   "source": [
    "Multi-indxing"
   ]
  },
  {
   "cell_type": "code",
   "execution_count": 96,
   "metadata": {},
   "outputs": [
    {
     "data": {
      "text/html": [
       "<div>\n",
       "<style scoped>\n",
       "    .dataframe tbody tr th:only-of-type {\n",
       "        vertical-align: middle;\n",
       "    }\n",
       "\n",
       "    .dataframe tbody tr th {\n",
       "        vertical-align: top;\n",
       "    }\n",
       "\n",
       "    .dataframe thead th {\n",
       "        text-align: right;\n",
       "    }\n",
       "</style>\n",
       "<table border=\"1\" class=\"dataframe\">\n",
       "  <thead>\n",
       "    <tr style=\"text-align: right;\">\n",
       "      <th></th>\n",
       "      <th>A</th>\n",
       "      <th>B</th>\n",
       "      <th>C</th>\n",
       "      <th>D</th>\n",
       "      <th>E</th>\n",
       "      <th>F</th>\n",
       "    </tr>\n",
       "  </thead>\n",
       "  <tbody>\n",
       "    <tr>\n",
       "      <th>0</th>\n",
       "      <td>1.0</td>\n",
       "      <td>2013-01-02</td>\n",
       "      <td>1.0</td>\n",
       "      <td>3</td>\n",
       "      <td>test</td>\n",
       "      <td>foo</td>\n",
       "    </tr>\n",
       "    <tr>\n",
       "      <th>1</th>\n",
       "      <td>1.0</td>\n",
       "      <td>2013-01-02</td>\n",
       "      <td>1.0</td>\n",
       "      <td>3</td>\n",
       "      <td>train</td>\n",
       "      <td>foo</td>\n",
       "    </tr>\n",
       "    <tr>\n",
       "      <th>2</th>\n",
       "      <td>1.0</td>\n",
       "      <td>2013-01-02</td>\n",
       "      <td>1.0</td>\n",
       "      <td>3</td>\n",
       "      <td>test</td>\n",
       "      <td>foo</td>\n",
       "    </tr>\n",
       "    <tr>\n",
       "      <th>3</th>\n",
       "      <td>1.0</td>\n",
       "      <td>2013-01-02</td>\n",
       "      <td>1.0</td>\n",
       "      <td>3</td>\n",
       "      <td>train</td>\n",
       "      <td>foo</td>\n",
       "    </tr>\n",
       "  </tbody>\n",
       "</table>\n",
       "</div>"
      ],
      "text/plain": [
       "     A          B    C  D      E    F\n",
       "0  1.0 2013-01-02  1.0  3   test  foo\n",
       "1  1.0 2013-01-02  1.0  3  train  foo\n",
       "2  1.0 2013-01-02  1.0  3   test  foo\n",
       "3  1.0 2013-01-02  1.0  3  train  foo"
      ]
     },
     "execution_count": 96,
     "metadata": {},
     "output_type": "execute_result"
    }
   ],
   "source": [
    "df2"
   ]
  },
  {
   "cell_type": "code",
   "execution_count": 97,
   "metadata": {},
   "outputs": [
    {
     "data": {
      "text/plain": [
       "0    1.0\n",
       "1    1.0\n",
       "2    1.0\n",
       "Name: A, dtype: float64"
      ]
     },
     "execution_count": 97,
     "metadata": {},
     "output_type": "execute_result"
    }
   ],
   "source": [
    "df2.loc[0:2,'A']"
   ]
  },
  {
   "cell_type": "code",
   "execution_count": 98,
   "metadata": {},
   "outputs": [
    {
     "name": "stdout",
     "output_type": "stream",
     "text": [
      "     A          B\n",
      "0  1.0 2013-01-02\n",
      "1  1.0 2013-01-02\n",
      "     A          B\n",
      "0  1.0 2013-01-02\n",
      "1  1.0 2013-01-02\n"
     ]
    }
   ],
   "source": [
    "print(df2.loc[[0,1],['A','B']])    # 숫자가 lable 이다 df[[0,1]] 은 오류\n",
    "print(df2.iloc[[0,1],[0,1]])"
   ]
  },
  {
   "cell_type": "code",
   "execution_count": 99,
   "metadata": {},
   "outputs": [
    {
     "data": {
      "text/html": [
       "<div>\n",
       "<style scoped>\n",
       "    .dataframe tbody tr th:only-of-type {\n",
       "        vertical-align: middle;\n",
       "    }\n",
       "\n",
       "    .dataframe tbody tr th {\n",
       "        vertical-align: top;\n",
       "    }\n",
       "\n",
       "    .dataframe thead th {\n",
       "        text-align: right;\n",
       "    }\n",
       "</style>\n",
       "<table border=\"1\" class=\"dataframe\">\n",
       "  <thead>\n",
       "    <tr style=\"text-align: right;\">\n",
       "      <th></th>\n",
       "      <th>A</th>\n",
       "      <th>B</th>\n",
       "      <th>C</th>\n",
       "      <th>D</th>\n",
       "    </tr>\n",
       "  </thead>\n",
       "  <tbody>\n",
       "    <tr>\n",
       "      <th>2013-01-01</th>\n",
       "      <td>-1.019998</td>\n",
       "      <td>0.274947</td>\n",
       "      <td>0.546842</td>\n",
       "      <td>0.723578</td>\n",
       "    </tr>\n",
       "    <tr>\n",
       "      <th>2013-01-02</th>\n",
       "      <td>-1.402076</td>\n",
       "      <td>1.245495</td>\n",
       "      <td>-0.070383</td>\n",
       "      <td>-0.285383</td>\n",
       "    </tr>\n",
       "    <tr>\n",
       "      <th>2013-01-03</th>\n",
       "      <td>0.396147</td>\n",
       "      <td>-0.538197</td>\n",
       "      <td>-1.434322</td>\n",
       "      <td>2.079102</td>\n",
       "    </tr>\n",
       "    <tr>\n",
       "      <th>2013-01-04</th>\n",
       "      <td>0.052522</td>\n",
       "      <td>0.500269</td>\n",
       "      <td>0.034893</td>\n",
       "      <td>0.219367</td>\n",
       "    </tr>\n",
       "    <tr>\n",
       "      <th>2013-01-05</th>\n",
       "      <td>-1.492344</td>\n",
       "      <td>1.145290</td>\n",
       "      <td>1.691469</td>\n",
       "      <td>0.318339</td>\n",
       "    </tr>\n",
       "    <tr>\n",
       "      <th>2013-01-06</th>\n",
       "      <td>-2.932764</td>\n",
       "      <td>1.671967</td>\n",
       "      <td>0.586408</td>\n",
       "      <td>1.673250</td>\n",
       "    </tr>\n",
       "  </tbody>\n",
       "</table>\n",
       "</div>"
      ],
      "text/plain": [
       "                   A         B         C         D\n",
       "2013-01-01 -1.019998  0.274947  0.546842  0.723578\n",
       "2013-01-02 -1.402076  1.245495 -0.070383 -0.285383\n",
       "2013-01-03  0.396147 -0.538197 -1.434322  2.079102\n",
       "2013-01-04  0.052522  0.500269  0.034893  0.219367\n",
       "2013-01-05 -1.492344  1.145290  1.691469  0.318339\n",
       "2013-01-06 -2.932764  1.671967  0.586408  1.673250"
      ]
     },
     "execution_count": 99,
     "metadata": {},
     "output_type": "execute_result"
    }
   ],
   "source": [
    "df"
   ]
  },
  {
   "cell_type": "code",
   "execution_count": 100,
   "metadata": {},
   "outputs": [
    {
     "data": {
      "text/html": [
       "<div>\n",
       "<style scoped>\n",
       "    .dataframe tbody tr th:only-of-type {\n",
       "        vertical-align: middle;\n",
       "    }\n",
       "\n",
       "    .dataframe tbody tr th {\n",
       "        vertical-align: top;\n",
       "    }\n",
       "\n",
       "    .dataframe thead th {\n",
       "        text-align: right;\n",
       "    }\n",
       "</style>\n",
       "<table border=\"1\" class=\"dataframe\">\n",
       "  <thead>\n",
       "    <tr style=\"text-align: right;\">\n",
       "      <th></th>\n",
       "      <th>A</th>\n",
       "      <th>B</th>\n",
       "      <th>C</th>\n",
       "      <th>D</th>\n",
       "    </tr>\n",
       "  </thead>\n",
       "  <tbody>\n",
       "    <tr>\n",
       "      <th>2013-01-06</th>\n",
       "      <td>-2.932764</td>\n",
       "      <td>1.671967</td>\n",
       "      <td>0.586408</td>\n",
       "      <td>1.67325</td>\n",
       "    </tr>\n",
       "  </tbody>\n",
       "</table>\n",
       "</div>"
      ],
      "text/plain": [
       "                   A         B         C        D\n",
       "2013-01-06 -2.932764  1.671967  0.586408  1.67325"
      ]
     },
     "execution_count": 100,
     "metadata": {},
     "output_type": "execute_result"
    }
   ],
   "source": [
    "df[2:6][df[2:6].A < 0][1:2]\n",
    "\n",
    "# df 의 2부터 6 row 중 A column  값이 0 보다 작은 두번재 row "
   ]
  },
  {
   "cell_type": "code",
   "execution_count": 101,
   "metadata": {},
   "outputs": [
    {
     "name": "stdout",
     "output_type": "stream",
     "text": [
      "                   A         B         C         D\n",
      "2013-01-03  0.396147 -0.538197 -1.434322  2.079102\n",
      "2013-01-04  0.052522  0.500269  0.034893  0.219367\n",
      "2013-01-05 -1.492344  1.145290  1.691469  0.318339\n",
      "2013-01-06 -2.932764  1.671967  0.586408  1.673250\n",
      "2013-01-03    False\n",
      "2013-01-04    False\n",
      "2013-01-05     True\n",
      "2013-01-06     True\n",
      "Freq: D, Name: A, dtype: bool\n"
     ]
    }
   ],
   "source": [
    "print(df[2:6])\n",
    "print(df[2:6].A<0)\n",
    "\n",
    "# 2개의 index가 같아야 한다. \n",
    "# IndexingError: Unalignable boolean Series provided as indexer (index of the boolean Series and of the indexed object do not match)."
   ]
  },
  {
   "attachments": {},
   "cell_type": "markdown",
   "metadata": {},
   "source": [
    "Boolean indexing\n",
    "\n",
    "```(df[])[(df[]) 조건][column]```  \n",
    "```(df[]).loc[ (df[]) 조건 , column ]```\n",
    "\n",
    "iloc 는 boolean index 을 사용할 수 없다.  \n",
    "iLocation based boolean indexing on an integer type is not available"
   ]
  },
  {
   "cell_type": "code",
   "execution_count": 102,
   "metadata": {},
   "outputs": [
    {
     "data": {
      "text/plain": [
       "2013-01-03   -0.538197\n",
       "2013-01-04    0.500269\n",
       "Freq: D, Name: B, dtype: float64"
      ]
     },
     "execution_count": 102,
     "metadata": {},
     "output_type": "execute_result"
    }
   ],
   "source": [
    "df[df['A']>0]['B']"
   ]
  },
  {
   "cell_type": "code",
   "execution_count": 103,
   "metadata": {},
   "outputs": [
    {
     "data": {
      "text/plain": [
       "2013-01-03   -0.538197\n",
       "2013-01-04    0.500269\n",
       "Freq: D, Name: B, dtype: float64"
      ]
     },
     "execution_count": 103,
     "metadata": {},
     "output_type": "execute_result"
    }
   ],
   "source": [
    "df.loc[df['A']>0,'B']\n"
   ]
  },
  {
   "cell_type": "code",
   "execution_count": 104,
   "metadata": {},
   "outputs": [
    {
     "name": "stdout",
     "output_type": "stream",
     "text": [
      "2013-01-02    False\n",
      "2013-01-03     True\n",
      "Freq: D, Name: A, dtype: bool\n"
     ]
    },
    {
     "data": {
      "text/plain": [
       "2013-01-02    False\n",
       "2013-01-03     True\n",
       "Freq: D, Name: A, dtype: bool"
      ]
     },
     "execution_count": 104,
     "metadata": {},
     "output_type": "execute_result"
    }
   ],
   "source": [
    "print(df[1:3].A > 0)  # 이거 대신\n",
    "df.iloc[1:3].A > 0   # 이걸 사용하자"
   ]
  },
  {
   "cell_type": "code",
   "execution_count": 105,
   "metadata": {},
   "outputs": [
    {
     "data": {
      "text/html": [
       "<div>\n",
       "<style scoped>\n",
       "    .dataframe tbody tr th:only-of-type {\n",
       "        vertical-align: middle;\n",
       "    }\n",
       "\n",
       "    .dataframe tbody tr th {\n",
       "        vertical-align: top;\n",
       "    }\n",
       "\n",
       "    .dataframe thead th {\n",
       "        text-align: right;\n",
       "    }\n",
       "</style>\n",
       "<table border=\"1\" class=\"dataframe\">\n",
       "  <thead>\n",
       "    <tr style=\"text-align: right;\">\n",
       "      <th></th>\n",
       "      <th>A</th>\n",
       "      <th>B</th>\n",
       "      <th>C</th>\n",
       "      <th>D</th>\n",
       "    </tr>\n",
       "  </thead>\n",
       "  <tbody>\n",
       "    <tr>\n",
       "      <th>2013-01-03</th>\n",
       "      <td>0.396147</td>\n",
       "      <td>-0.538197</td>\n",
       "      <td>-1.434322</td>\n",
       "      <td>2.079102</td>\n",
       "    </tr>\n",
       "  </tbody>\n",
       "</table>\n",
       "</div>"
      ],
      "text/plain": [
       "                   A         B         C         D\n",
       "2013-01-03  0.396147 -0.538197 -1.434322  2.079102"
      ]
     },
     "execution_count": 105,
     "metadata": {},
     "output_type": "execute_result"
    }
   ],
   "source": [
    "df.iloc[1:3][df.iloc[1:3].A >0]"
   ]
  },
  {
   "cell_type": "code",
   "execution_count": 106,
   "metadata": {},
   "outputs": [
    {
     "data": {
      "text/html": [
       "<div>\n",
       "<style scoped>\n",
       "    .dataframe tbody tr th:only-of-type {\n",
       "        vertical-align: middle;\n",
       "    }\n",
       "\n",
       "    .dataframe tbody tr th {\n",
       "        vertical-align: top;\n",
       "    }\n",
       "\n",
       "    .dataframe thead th {\n",
       "        text-align: right;\n",
       "    }\n",
       "</style>\n",
       "<table border=\"1\" class=\"dataframe\">\n",
       "  <thead>\n",
       "    <tr style=\"text-align: right;\">\n",
       "      <th></th>\n",
       "      <th>A</th>\n",
       "      <th>B</th>\n",
       "      <th>C</th>\n",
       "      <th>D</th>\n",
       "    </tr>\n",
       "  </thead>\n",
       "  <tbody>\n",
       "    <tr>\n",
       "      <th>2013-01-03</th>\n",
       "      <td>0.396147</td>\n",
       "      <td>-0.538197</td>\n",
       "      <td>-1.434322</td>\n",
       "      <td>2.079102</td>\n",
       "    </tr>\n",
       "  </tbody>\n",
       "</table>\n",
       "</div>"
      ],
      "text/plain": [
       "                   A         B         C         D\n",
       "2013-01-03  0.396147 -0.538197 -1.434322  2.079102"
      ]
     },
     "execution_count": 106,
     "metadata": {},
     "output_type": "execute_result"
    }
   ],
   "source": [
    "df[1:3][df[1:3].A > 0]   # chained indexing ???"
   ]
  },
  {
   "cell_type": "code",
   "execution_count": 107,
   "metadata": {},
   "outputs": [
    {
     "data": {
      "text/plain": [
       "2013-01-02    False\n",
       "2013-01-03     True\n",
       "Freq: D, Name: A, dtype: bool"
      ]
     },
     "execution_count": 107,
     "metadata": {},
     "output_type": "execute_result"
    }
   ],
   "source": [
    "# df[df[1:3].A > 0]  은 오류가 난다.  df 의 index 와 df[1:3] 의 index 가 서로 맞지않다.\n",
    "# 조건에 대한 true 값의 index label '2013-01-02' 을 리턴한다.\n",
    "# 따라서 df['2013-01-02'] 가 오류\n",
    "\n",
    "df[1:3].A > 0"
   ]
  },
  {
   "cell_type": "code",
   "execution_count": 108,
   "metadata": {},
   "outputs": [
    {
     "data": {
      "text/html": [
       "<div>\n",
       "<style scoped>\n",
       "    .dataframe tbody tr th:only-of-type {\n",
       "        vertical-align: middle;\n",
       "    }\n",
       "\n",
       "    .dataframe tbody tr th {\n",
       "        vertical-align: top;\n",
       "    }\n",
       "\n",
       "    .dataframe thead th {\n",
       "        text-align: right;\n",
       "    }\n",
       "</style>\n",
       "<table border=\"1\" class=\"dataframe\">\n",
       "  <thead>\n",
       "    <tr style=\"text-align: right;\">\n",
       "      <th></th>\n",
       "      <th>A</th>\n",
       "      <th>B</th>\n",
       "      <th>C</th>\n",
       "      <th>D</th>\n",
       "    </tr>\n",
       "  </thead>\n",
       "  <tbody>\n",
       "    <tr>\n",
       "      <th>2013-01-03</th>\n",
       "      <td>0.396147</td>\n",
       "      <td>-0.538197</td>\n",
       "      <td>-1.434322</td>\n",
       "      <td>2.079102</td>\n",
       "    </tr>\n",
       "  </tbody>\n",
       "</table>\n",
       "</div>"
      ],
      "text/plain": [
       "                   A         B         C         D\n",
       "2013-01-03  0.396147 -0.538197 -1.434322  2.079102"
      ]
     },
     "execution_count": 108,
     "metadata": {},
     "output_type": "execute_result"
    }
   ],
   "source": [
    "# Unalignable boolean Series provided as indexer (index of the boolean Series and of the indexed object do not match).\n",
    "\n",
    "# df.loc[df[1:3].A > 0] \n",
    "df[1:3].loc[df[1:3].A >0]"
   ]
  },
  {
   "cell_type": "code",
   "execution_count": 109,
   "metadata": {},
   "outputs": [
    {
     "name": "stderr",
     "output_type": "stream",
     "text": [
      "/var/folders/yn/xbyfmttd1tdc740qcs27ft9m0000gn/T/ipykernel_9246/1907405889.py:1: UserWarning: Boolean Series key will be reindexed to match DataFrame index.\n",
      "  df[1:3][df[0:4].A  > 0]['B']\n"
     ]
    },
    {
     "data": {
      "text/plain": [
       "2013-01-03   -0.538197\n",
       "Freq: D, Name: B, dtype: float64"
      ]
     },
     "execution_count": 109,
     "metadata": {},
     "output_type": "execute_result"
    }
   ],
   "source": [
    "df[1:3][df[0:4].A  > 0]['B']"
   ]
  },
  {
   "cell_type": "code",
   "execution_count": 110,
   "metadata": {},
   "outputs": [
    {
     "data": {
      "text/plain": [
       "2013-01-03   -0.538197\n",
       "Freq: D, Name: B, dtype: float64"
      ]
     },
     "execution_count": 110,
     "metadata": {},
     "output_type": "execute_result"
    }
   ],
   "source": [
    "#  UserWarning: Boolean Series key will be reindexed to match DataFrame index. 해결방법 \n",
    "\n",
    "X = df[1:3]\n",
    "X[X[0:4].A > 0]['B']"
   ]
  },
  {
   "cell_type": "code",
   "execution_count": 111,
   "metadata": {},
   "outputs": [
    {
     "data": {
      "text/plain": [
       "2013-01-03   -0.538197\n",
       "Freq: D, Name: B, dtype: float64"
      ]
     },
     "execution_count": 111,
     "metadata": {},
     "output_type": "execute_result"
    }
   ],
   "source": [
    "df[1:3][df[1:3].A > 0]['B']\n",
    "# df1 = df[1:3]\n",
    "# df1.A > 0\n",
    "# df1['B']"
   ]
  },
  {
   "attachments": {},
   "cell_type": "markdown",
   "metadata": {},
   "source": [
    "funtion indexing\n",
    "\n",
    "```\n",
    "pipe()  : Tablewise Function Application\n",
    "apply() : Row or Column-wise Function Application (df 적용, 행/열 전달 )\n",
    "agg() and transform() : Aggregation API\n",
    "map() : Series 에서 값에 적용한다. (Series 적용, 값 전달)\n",
    "applymap() : Applying Elementwise Functions  (df 적용, 값을 전달)\n",
    "\n",
    "pd.cut()    : 조건에 따른 구간별 label\n",
    "np.where()  : 조건에 따른 값표시 (아닌값은 NaN)\n",
    "```"
   ]
  },
  {
   "cell_type": "code",
   "execution_count": 112,
   "metadata": {},
   "outputs": [
    {
     "data": {
      "text/html": [
       "<div>\n",
       "<style scoped>\n",
       "    .dataframe tbody tr th:only-of-type {\n",
       "        vertical-align: middle;\n",
       "    }\n",
       "\n",
       "    .dataframe tbody tr th {\n",
       "        vertical-align: top;\n",
       "    }\n",
       "\n",
       "    .dataframe thead th {\n",
       "        text-align: right;\n",
       "    }\n",
       "</style>\n",
       "<table border=\"1\" class=\"dataframe\">\n",
       "  <thead>\n",
       "    <tr style=\"text-align: right;\">\n",
       "      <th></th>\n",
       "      <th>A</th>\n",
       "      <th>B</th>\n",
       "      <th>C</th>\n",
       "      <th>D</th>\n",
       "    </tr>\n",
       "  </thead>\n",
       "  <tbody>\n",
       "    <tr>\n",
       "      <th>2013-01-01</th>\n",
       "      <td>-1.019998</td>\n",
       "      <td>0.274947</td>\n",
       "      <td>0.546842</td>\n",
       "      <td>0.723578</td>\n",
       "    </tr>\n",
       "    <tr>\n",
       "      <th>2013-01-02</th>\n",
       "      <td>-1.402076</td>\n",
       "      <td>1.245495</td>\n",
       "      <td>-0.070383</td>\n",
       "      <td>-0.285383</td>\n",
       "    </tr>\n",
       "    <tr>\n",
       "      <th>2013-01-03</th>\n",
       "      <td>0.396147</td>\n",
       "      <td>-0.538197</td>\n",
       "      <td>-1.434322</td>\n",
       "      <td>2.079102</td>\n",
       "    </tr>\n",
       "    <tr>\n",
       "      <th>2013-01-04</th>\n",
       "      <td>0.052522</td>\n",
       "      <td>0.500269</td>\n",
       "      <td>0.034893</td>\n",
       "      <td>0.219367</td>\n",
       "    </tr>\n",
       "    <tr>\n",
       "      <th>2013-01-05</th>\n",
       "      <td>-1.492344</td>\n",
       "      <td>1.145290</td>\n",
       "      <td>1.691469</td>\n",
       "      <td>0.318339</td>\n",
       "    </tr>\n",
       "    <tr>\n",
       "      <th>2013-01-06</th>\n",
       "      <td>-2.932764</td>\n",
       "      <td>1.671967</td>\n",
       "      <td>0.586408</td>\n",
       "      <td>1.673250</td>\n",
       "    </tr>\n",
       "  </tbody>\n",
       "</table>\n",
       "</div>"
      ],
      "text/plain": [
       "                   A         B         C         D\n",
       "2013-01-01 -1.019998  0.274947  0.546842  0.723578\n",
       "2013-01-02 -1.402076  1.245495 -0.070383 -0.285383\n",
       "2013-01-03  0.396147 -0.538197 -1.434322  2.079102\n",
       "2013-01-04  0.052522  0.500269  0.034893  0.219367\n",
       "2013-01-05 -1.492344  1.145290  1.691469  0.318339\n",
       "2013-01-06 -2.932764  1.671967  0.586408  1.673250"
      ]
     },
     "execution_count": 112,
     "metadata": {},
     "output_type": "execute_result"
    }
   ],
   "source": [
    "df"
   ]
  },
  {
   "cell_type": "code",
   "execution_count": 113,
   "metadata": {},
   "outputs": [
    {
     "data": {
      "text/html": [
       "<div>\n",
       "<style scoped>\n",
       "    .dataframe tbody tr th:only-of-type {\n",
       "        vertical-align: middle;\n",
       "    }\n",
       "\n",
       "    .dataframe tbody tr th {\n",
       "        vertical-align: top;\n",
       "    }\n",
       "\n",
       "    .dataframe thead th {\n",
       "        text-align: right;\n",
       "    }\n",
       "</style>\n",
       "<table border=\"1\" class=\"dataframe\">\n",
       "  <thead>\n",
       "    <tr style=\"text-align: right;\">\n",
       "      <th></th>\n",
       "      <th>A</th>\n",
       "      <th>B</th>\n",
       "      <th>C</th>\n",
       "      <th>D</th>\n",
       "      <th>sum_row</th>\n",
       "    </tr>\n",
       "  </thead>\n",
       "  <tbody>\n",
       "    <tr>\n",
       "      <th>2013-01-01</th>\n",
       "      <td>-1.019998</td>\n",
       "      <td>0.274947</td>\n",
       "      <td>0.546842</td>\n",
       "      <td>0.723578</td>\n",
       "      <td>0.525368</td>\n",
       "    </tr>\n",
       "    <tr>\n",
       "      <th>2013-01-02</th>\n",
       "      <td>-1.402076</td>\n",
       "      <td>1.245495</td>\n",
       "      <td>-0.070383</td>\n",
       "      <td>-0.285383</td>\n",
       "      <td>-0.512349</td>\n",
       "    </tr>\n",
       "    <tr>\n",
       "      <th>2013-01-03</th>\n",
       "      <td>0.396147</td>\n",
       "      <td>-0.538197</td>\n",
       "      <td>-1.434322</td>\n",
       "      <td>2.079102</td>\n",
       "      <td>0.502730</td>\n",
       "    </tr>\n",
       "    <tr>\n",
       "      <th>2013-01-04</th>\n",
       "      <td>0.052522</td>\n",
       "      <td>0.500269</td>\n",
       "      <td>0.034893</td>\n",
       "      <td>0.219367</td>\n",
       "      <td>0.807051</td>\n",
       "    </tr>\n",
       "    <tr>\n",
       "      <th>2013-01-05</th>\n",
       "      <td>-1.492344</td>\n",
       "      <td>1.145290</td>\n",
       "      <td>1.691469</td>\n",
       "      <td>0.318339</td>\n",
       "      <td>1.662754</td>\n",
       "    </tr>\n",
       "    <tr>\n",
       "      <th>2013-01-06</th>\n",
       "      <td>-2.932764</td>\n",
       "      <td>1.671967</td>\n",
       "      <td>0.586408</td>\n",
       "      <td>1.673250</td>\n",
       "      <td>0.998862</td>\n",
       "    </tr>\n",
       "  </tbody>\n",
       "</table>\n",
       "</div>"
      ],
      "text/plain": [
       "                   A         B         C         D   sum_row\n",
       "2013-01-01 -1.019998  0.274947  0.546842  0.723578  0.525368\n",
       "2013-01-02 -1.402076  1.245495 -0.070383 -0.285383 -0.512349\n",
       "2013-01-03  0.396147 -0.538197 -1.434322  2.079102  0.502730\n",
       "2013-01-04  0.052522  0.500269  0.034893  0.219367  0.807051\n",
       "2013-01-05 -1.492344  1.145290  1.691469  0.318339  1.662754\n",
       "2013-01-06 -2.932764  1.671967  0.586408  1.673250  0.998862"
      ]
     },
     "execution_count": 113,
     "metadata": {},
     "output_type": "execute_result"
    }
   ],
   "source": [
    "df3 = df.copy()\n",
    "df3['sum_row'] = df3.apply(np.sum,axis=1)    # df3.sum(axis=1) 과 같다.\n",
    "df3"
   ]
  },
  {
   "cell_type": "code",
   "execution_count": 114,
   "metadata": {},
   "outputs": [
    {
     "data": {
      "text/html": [
       "<div>\n",
       "<style scoped>\n",
       "    .dataframe tbody tr th:only-of-type {\n",
       "        vertical-align: middle;\n",
       "    }\n",
       "\n",
       "    .dataframe tbody tr th {\n",
       "        vertical-align: top;\n",
       "    }\n",
       "\n",
       "    .dataframe thead th {\n",
       "        text-align: right;\n",
       "    }\n",
       "</style>\n",
       "<table border=\"1\" class=\"dataframe\">\n",
       "  <thead>\n",
       "    <tr style=\"text-align: right;\">\n",
       "      <th></th>\n",
       "      <th>A</th>\n",
       "      <th>B</th>\n",
       "      <th>C</th>\n",
       "      <th>D</th>\n",
       "      <th>sum_row</th>\n",
       "      <th>result</th>\n",
       "    </tr>\n",
       "  </thead>\n",
       "  <tbody>\n",
       "    <tr>\n",
       "      <th>2013-01-01</th>\n",
       "      <td>-1.019998</td>\n",
       "      <td>0.274947</td>\n",
       "      <td>0.546842</td>\n",
       "      <td>0.723578</td>\n",
       "      <td>0.525368</td>\n",
       "      <td>Over</td>\n",
       "    </tr>\n",
       "    <tr>\n",
       "      <th>2013-01-02</th>\n",
       "      <td>-1.402076</td>\n",
       "      <td>1.245495</td>\n",
       "      <td>-0.070383</td>\n",
       "      <td>-0.285383</td>\n",
       "      <td>-0.512349</td>\n",
       "      <td>Under</td>\n",
       "    </tr>\n",
       "    <tr>\n",
       "      <th>2013-01-03</th>\n",
       "      <td>0.396147</td>\n",
       "      <td>-0.538197</td>\n",
       "      <td>-1.434322</td>\n",
       "      <td>2.079102</td>\n",
       "      <td>0.502730</td>\n",
       "      <td>Over</td>\n",
       "    </tr>\n",
       "    <tr>\n",
       "      <th>2013-01-04</th>\n",
       "      <td>0.052522</td>\n",
       "      <td>0.500269</td>\n",
       "      <td>0.034893</td>\n",
       "      <td>0.219367</td>\n",
       "      <td>0.807051</td>\n",
       "      <td>Over</td>\n",
       "    </tr>\n",
       "    <tr>\n",
       "      <th>2013-01-05</th>\n",
       "      <td>-1.492344</td>\n",
       "      <td>1.145290</td>\n",
       "      <td>1.691469</td>\n",
       "      <td>0.318339</td>\n",
       "      <td>1.662754</td>\n",
       "      <td>Over</td>\n",
       "    </tr>\n",
       "    <tr>\n",
       "      <th>2013-01-06</th>\n",
       "      <td>-2.932764</td>\n",
       "      <td>1.671967</td>\n",
       "      <td>0.586408</td>\n",
       "      <td>1.673250</td>\n",
       "      <td>0.998862</td>\n",
       "      <td>Over</td>\n",
       "    </tr>\n",
       "  </tbody>\n",
       "</table>\n",
       "</div>"
      ],
      "text/plain": [
       "                   A         B         C         D   sum_row result\n",
       "2013-01-01 -1.019998  0.274947  0.546842  0.723578  0.525368   Over\n",
       "2013-01-02 -1.402076  1.245495 -0.070383 -0.285383 -0.512349  Under\n",
       "2013-01-03  0.396147 -0.538197 -1.434322  2.079102  0.502730   Over\n",
       "2013-01-04  0.052522  0.500269  0.034893  0.219367  0.807051   Over\n",
       "2013-01-05 -1.492344  1.145290  1.691469  0.318339  1.662754   Over\n",
       "2013-01-06 -2.932764  1.671967  0.586408  1.673250  0.998862   Over"
      ]
     },
     "execution_count": 114,
     "metadata": {},
     "output_type": "execute_result"
    }
   ],
   "source": [
    "df3[\"result\"] = df3.apply(lambda r: \"Over\" if r.sum_row > 0 else \"Under\", axis=1)\n",
    "df3"
   ]
  },
  {
   "cell_type": "code",
   "execution_count": 115,
   "metadata": {},
   "outputs": [
    {
     "data": {
      "text/plain": [
       "2013-01-01     over\n",
       "2013-01-02    under\n",
       "2013-01-03     over\n",
       "2013-01-04     over\n",
       "2013-01-05     over\n",
       "2013-01-06     over\n",
       "Freq: D, Name: sum_row, dtype: category\n",
       "Categories (2, object): ['under' < 'over']"
      ]
     },
     "execution_count": 115,
     "metadata": {},
     "output_type": "execute_result"
    }
   ],
   "source": [
    "# bins=[-100,0,100]\n",
    "# labels =['under','over']      # bins 보다 하나 적은 갯수 (사이값) 이어야 한다.\n",
    "pd.cut(df3.sum_row, bins=[-100,0,100], labels=['under','over'] )"
   ]
  },
  {
   "cell_type": "code",
   "execution_count": 116,
   "metadata": {},
   "outputs": [
    {
     "data": {
      "text/html": [
       "<div>\n",
       "<style scoped>\n",
       "    .dataframe tbody tr th:only-of-type {\n",
       "        vertical-align: middle;\n",
       "    }\n",
       "\n",
       "    .dataframe tbody tr th {\n",
       "        vertical-align: top;\n",
       "    }\n",
       "\n",
       "    .dataframe thead th {\n",
       "        text-align: right;\n",
       "    }\n",
       "</style>\n",
       "<table border=\"1\" class=\"dataframe\">\n",
       "  <thead>\n",
       "    <tr style=\"text-align: right;\">\n",
       "      <th></th>\n",
       "      <th>A</th>\n",
       "      <th>B</th>\n",
       "      <th>C</th>\n",
       "      <th>D</th>\n",
       "      <th>sum_row</th>\n",
       "    </tr>\n",
       "  </thead>\n",
       "  <tbody>\n",
       "    <tr>\n",
       "      <th>2013-01-01</th>\n",
       "      <td>-1.019998</td>\n",
       "      <td>0.274947</td>\n",
       "      <td>0.546842</td>\n",
       "      <td>0.723578</td>\n",
       "      <td>0.525368</td>\n",
       "    </tr>\n",
       "    <tr>\n",
       "      <th>2013-01-02</th>\n",
       "      <td>-1.402076</td>\n",
       "      <td>1.245495</td>\n",
       "      <td>-0.070383</td>\n",
       "      <td>-0.285383</td>\n",
       "      <td>-0.512349</td>\n",
       "    </tr>\n",
       "    <tr>\n",
       "      <th>2013-01-03</th>\n",
       "      <td>0.396147</td>\n",
       "      <td>-0.538197</td>\n",
       "      <td>-1.434322</td>\n",
       "      <td>2.079102</td>\n",
       "      <td>0.502730</td>\n",
       "    </tr>\n",
       "    <tr>\n",
       "      <th>2013-01-04</th>\n",
       "      <td>0.052522</td>\n",
       "      <td>0.500269</td>\n",
       "      <td>0.034893</td>\n",
       "      <td>0.219367</td>\n",
       "      <td>0.807051</td>\n",
       "    </tr>\n",
       "    <tr>\n",
       "      <th>2013-01-05</th>\n",
       "      <td>-1.492344</td>\n",
       "      <td>1.145290</td>\n",
       "      <td>1.691469</td>\n",
       "      <td>0.318339</td>\n",
       "      <td>1.662754</td>\n",
       "    </tr>\n",
       "    <tr>\n",
       "      <th>2013-01-06</th>\n",
       "      <td>-2.932764</td>\n",
       "      <td>1.671967</td>\n",
       "      <td>0.586408</td>\n",
       "      <td>1.673250</td>\n",
       "      <td>0.998862</td>\n",
       "    </tr>\n",
       "  </tbody>\n",
       "</table>\n",
       "</div>"
      ],
      "text/plain": [
       "                   A         B         C         D   sum_row\n",
       "2013-01-01 -1.019998  0.274947  0.546842  0.723578  0.525368\n",
       "2013-01-02 -1.402076  1.245495 -0.070383 -0.285383 -0.512349\n",
       "2013-01-03  0.396147 -0.538197 -1.434322  2.079102  0.502730\n",
       "2013-01-04  0.052522  0.500269  0.034893  0.219367  0.807051\n",
       "2013-01-05 -1.492344  1.145290  1.691469  0.318339  1.662754\n",
       "2013-01-06 -2.932764  1.671967  0.586408  1.673250  0.998862"
      ]
     },
     "execution_count": 116,
     "metadata": {},
     "output_type": "execute_result"
    }
   ],
   "source": [
    "df3 = df3.drop(columns='result')\n",
    "df3"
   ]
  },
  {
   "cell_type": "code",
   "execution_count": 117,
   "metadata": {},
   "outputs": [
    {
     "data": {
      "text/html": [
       "<div>\n",
       "<style scoped>\n",
       "    .dataframe tbody tr th:only-of-type {\n",
       "        vertical-align: middle;\n",
       "    }\n",
       "\n",
       "    .dataframe tbody tr th {\n",
       "        vertical-align: top;\n",
       "    }\n",
       "\n",
       "    .dataframe thead th {\n",
       "        text-align: right;\n",
       "    }\n",
       "</style>\n",
       "<table border=\"1\" class=\"dataframe\">\n",
       "  <thead>\n",
       "    <tr style=\"text-align: right;\">\n",
       "      <th></th>\n",
       "      <th>A</th>\n",
       "      <th>B</th>\n",
       "      <th>C</th>\n",
       "      <th>D</th>\n",
       "      <th>sum_row</th>\n",
       "    </tr>\n",
       "  </thead>\n",
       "  <tbody>\n",
       "    <tr>\n",
       "      <th>2013-01-01</th>\n",
       "      <td>-1.019998</td>\n",
       "      <td>0.274947</td>\n",
       "      <td>0.546842</td>\n",
       "      <td>0.723578</td>\n",
       "      <td>0.525368</td>\n",
       "    </tr>\n",
       "    <tr>\n",
       "      <th>2013-01-02</th>\n",
       "      <td>NaN</td>\n",
       "      <td>NaN</td>\n",
       "      <td>NaN</td>\n",
       "      <td>NaN</td>\n",
       "      <td>NaN</td>\n",
       "    </tr>\n",
       "    <tr>\n",
       "      <th>2013-01-03</th>\n",
       "      <td>NaN</td>\n",
       "      <td>NaN</td>\n",
       "      <td>NaN</td>\n",
       "      <td>NaN</td>\n",
       "      <td>NaN</td>\n",
       "    </tr>\n",
       "    <tr>\n",
       "      <th>2013-01-04</th>\n",
       "      <td>0.052522</td>\n",
       "      <td>0.500269</td>\n",
       "      <td>0.034893</td>\n",
       "      <td>0.219367</td>\n",
       "      <td>0.807051</td>\n",
       "    </tr>\n",
       "    <tr>\n",
       "      <th>2013-01-05</th>\n",
       "      <td>-1.492344</td>\n",
       "      <td>1.145290</td>\n",
       "      <td>1.691469</td>\n",
       "      <td>0.318339</td>\n",
       "      <td>1.662754</td>\n",
       "    </tr>\n",
       "    <tr>\n",
       "      <th>2013-01-06</th>\n",
       "      <td>-2.932764</td>\n",
       "      <td>1.671967</td>\n",
       "      <td>0.586408</td>\n",
       "      <td>1.673250</td>\n",
       "      <td>0.998862</td>\n",
       "    </tr>\n",
       "  </tbody>\n",
       "</table>\n",
       "</div>"
      ],
      "text/plain": [
       "                   A         B         C         D   sum_row\n",
       "2013-01-01 -1.019998  0.274947  0.546842  0.723578  0.525368\n",
       "2013-01-02       NaN       NaN       NaN       NaN       NaN\n",
       "2013-01-03       NaN       NaN       NaN       NaN       NaN\n",
       "2013-01-04  0.052522  0.500269  0.034893  0.219367  0.807051\n",
       "2013-01-05 -1.492344  1.145290  1.691469  0.318339  1.662754\n",
       "2013-01-06 -2.932764  1.671967  0.586408  1.673250  0.998862"
      ]
     },
     "execution_count": 117,
     "metadata": {},
     "output_type": "execute_result"
    }
   ],
   "source": [
    "df3.where((df3.sum_row>0) & (df3.B>0))    # boolean 으로 리턴하지 않고, 값을 리턴 하다. dropna() 을 붙일수 있다."
   ]
  },
  {
   "cell_type": "code",
   "execution_count": 118,
   "metadata": {},
   "outputs": [
    {
     "data": {
      "text/html": [
       "<div>\n",
       "<style scoped>\n",
       "    .dataframe tbody tr th:only-of-type {\n",
       "        vertical-align: middle;\n",
       "    }\n",
       "\n",
       "    .dataframe tbody tr th {\n",
       "        vertical-align: top;\n",
       "    }\n",
       "\n",
       "    .dataframe thead th {\n",
       "        text-align: right;\n",
       "    }\n",
       "</style>\n",
       "<table border=\"1\" class=\"dataframe\">\n",
       "  <thead>\n",
       "    <tr style=\"text-align: right;\">\n",
       "      <th></th>\n",
       "      <th>A</th>\n",
       "      <th>B</th>\n",
       "      <th>C</th>\n",
       "      <th>D</th>\n",
       "      <th>sum_row</th>\n",
       "    </tr>\n",
       "  </thead>\n",
       "  <tbody>\n",
       "    <tr>\n",
       "      <th>2013-01-01</th>\n",
       "      <td>-1.019998</td>\n",
       "      <td>0.274947</td>\n",
       "      <td>0.546842</td>\n",
       "      <td>0.723578</td>\n",
       "      <td>0.525368</td>\n",
       "    </tr>\n",
       "    <tr>\n",
       "      <th>2013-01-04</th>\n",
       "      <td>0.052522</td>\n",
       "      <td>0.500269</td>\n",
       "      <td>0.034893</td>\n",
       "      <td>0.219367</td>\n",
       "      <td>0.807051</td>\n",
       "    </tr>\n",
       "    <tr>\n",
       "      <th>2013-01-05</th>\n",
       "      <td>-1.492344</td>\n",
       "      <td>1.145290</td>\n",
       "      <td>1.691469</td>\n",
       "      <td>0.318339</td>\n",
       "      <td>1.662754</td>\n",
       "    </tr>\n",
       "    <tr>\n",
       "      <th>2013-01-06</th>\n",
       "      <td>-2.932764</td>\n",
       "      <td>1.671967</td>\n",
       "      <td>0.586408</td>\n",
       "      <td>1.673250</td>\n",
       "      <td>0.998862</td>\n",
       "    </tr>\n",
       "  </tbody>\n",
       "</table>\n",
       "</div>"
      ],
      "text/plain": [
       "                   A         B         C         D   sum_row\n",
       "2013-01-01 -1.019998  0.274947  0.546842  0.723578  0.525368\n",
       "2013-01-04  0.052522  0.500269  0.034893  0.219367  0.807051\n",
       "2013-01-05 -1.492344  1.145290  1.691469  0.318339  1.662754\n",
       "2013-01-06 -2.932764  1.671967  0.586408  1.673250  0.998862"
      ]
     },
     "execution_count": 118,
     "metadata": {},
     "output_type": "execute_result"
    }
   ],
   "source": [
    "df3[(df3.sum_row>0) & (df3.B>0)]\n",
    "\n",
    "# dropna() 까지 한 결과"
   ]
  },
  {
   "attachments": {},
   "cell_type": "markdown",
   "metadata": {},
   "source": [
    "### 4. Missing \n",
    "\n",
    "``` \n",
    "dropna()\n",
    "fillna()\n",
    "notnull()\n",
    "notna()   \n",
    "isnull()\n",
    "isna() \n",
    "```"
   ]
  },
  {
   "cell_type": "code",
   "execution_count": 119,
   "metadata": {},
   "outputs": [
    {
     "data": {
      "text/html": [
       "<div>\n",
       "<style scoped>\n",
       "    .dataframe tbody tr th:only-of-type {\n",
       "        vertical-align: middle;\n",
       "    }\n",
       "\n",
       "    .dataframe tbody tr th {\n",
       "        vertical-align: top;\n",
       "    }\n",
       "\n",
       "    .dataframe thead th {\n",
       "        text-align: right;\n",
       "    }\n",
       "</style>\n",
       "<table border=\"1\" class=\"dataframe\">\n",
       "  <thead>\n",
       "    <tr style=\"text-align: right;\">\n",
       "      <th></th>\n",
       "      <th>A</th>\n",
       "      <th>B</th>\n",
       "      <th>C</th>\n",
       "      <th>D</th>\n",
       "      <th>sum_row</th>\n",
       "    </tr>\n",
       "  </thead>\n",
       "  <tbody>\n",
       "    <tr>\n",
       "      <th>2013-01-01</th>\n",
       "      <td>-1.019998</td>\n",
       "      <td>0.274947</td>\n",
       "      <td>0.546842</td>\n",
       "      <td>0.723578</td>\n",
       "      <td>0.525368</td>\n",
       "    </tr>\n",
       "    <tr>\n",
       "      <th>2013-01-02</th>\n",
       "      <td>0.000000</td>\n",
       "      <td>0.000000</td>\n",
       "      <td>0.000000</td>\n",
       "      <td>0.000000</td>\n",
       "      <td>0.000000</td>\n",
       "    </tr>\n",
       "    <tr>\n",
       "      <th>2013-01-03</th>\n",
       "      <td>0.000000</td>\n",
       "      <td>0.000000</td>\n",
       "      <td>0.000000</td>\n",
       "      <td>0.000000</td>\n",
       "      <td>0.000000</td>\n",
       "    </tr>\n",
       "    <tr>\n",
       "      <th>2013-01-04</th>\n",
       "      <td>0.052522</td>\n",
       "      <td>0.500269</td>\n",
       "      <td>0.034893</td>\n",
       "      <td>0.219367</td>\n",
       "      <td>0.807051</td>\n",
       "    </tr>\n",
       "    <tr>\n",
       "      <th>2013-01-05</th>\n",
       "      <td>-1.492344</td>\n",
       "      <td>1.145290</td>\n",
       "      <td>1.691469</td>\n",
       "      <td>0.318339</td>\n",
       "      <td>1.662754</td>\n",
       "    </tr>\n",
       "    <tr>\n",
       "      <th>2013-01-06</th>\n",
       "      <td>-2.932764</td>\n",
       "      <td>1.671967</td>\n",
       "      <td>0.586408</td>\n",
       "      <td>1.673250</td>\n",
       "      <td>0.998862</td>\n",
       "    </tr>\n",
       "  </tbody>\n",
       "</table>\n",
       "</div>"
      ],
      "text/plain": [
       "                   A         B         C         D   sum_row\n",
       "2013-01-01 -1.019998  0.274947  0.546842  0.723578  0.525368\n",
       "2013-01-02  0.000000  0.000000  0.000000  0.000000  0.000000\n",
       "2013-01-03  0.000000  0.000000  0.000000  0.000000  0.000000\n",
       "2013-01-04  0.052522  0.500269  0.034893  0.219367  0.807051\n",
       "2013-01-05 -1.492344  1.145290  1.691469  0.318339  1.662754\n",
       "2013-01-06 -2.932764  1.671967  0.586408  1.673250  0.998862"
      ]
     },
     "execution_count": 119,
     "metadata": {},
     "output_type": "execute_result"
    }
   ],
   "source": [
    "df3.where((df3.sum_row>0) & (df3.B>0)).fillna(0)\n"
   ]
  },
  {
   "attachments": {},
   "cell_type": "markdown",
   "metadata": {},
   "source": [
    "### 5. Operations\n",
    "\n",
    "```\n",
    "sum, mean, std, var\n",
    "sort, count\n",
    "apply\n",
    "str\n",
    "```"
   ]
  },
  {
   "cell_type": "code",
   "execution_count": 120,
   "metadata": {},
   "outputs": [
    {
     "name": "stdout",
     "output_type": "stream",
     "text": [
      "                   A         B         C         D\n",
      "2013-01-01 -1.019998  0.274947  0.546842  0.723578\n",
      "2013-01-02 -1.402076  1.245495 -0.070383 -0.285383\n",
      "2013-01-03  0.396147 -0.538197 -1.434322  2.079102\n",
      "2013-01-04  0.052522  0.500269  0.034893  0.219367\n",
      "2013-01-05 -1.492344  1.145290  1.691469  0.318339\n",
      "2013-01-06 -2.932764  1.671967  0.586408  1.673250\n",
      "                   A         B         C         D\n",
      "2013-01-06 -2.932764  1.671967  0.586408  1.673250\n",
      "2013-01-05 -1.492344  1.145290  1.691469  0.318339\n",
      "2013-01-02 -1.402076  1.245495 -0.070383 -0.285383\n",
      "2013-01-01 -1.019998  0.274947  0.546842  0.723578\n",
      "2013-01-04  0.052522  0.500269  0.034893  0.219367\n",
      "2013-01-03  0.396147 -0.538197 -1.434322  2.079102 \n",
      "\n",
      "                   A         B         C         D\n",
      "2013-01-03  0.396147 -0.538197 -1.434322  2.079102\n",
      "2013-01-04  0.052522  0.500269  0.034893  0.219367\n",
      "2013-01-01 -1.019998  0.274947  0.546842  0.723578\n",
      "2013-01-02 -1.402076  1.245495 -0.070383 -0.285383\n",
      "2013-01-05 -1.492344  1.145290  1.691469  0.318339\n",
      "2013-01-06 -2.932764  1.671967  0.586408  1.673250\n"
     ]
    }
   ],
   "source": [
    "print(df.sort_index())\n",
    "print(df.sort_values('A'),'\\n')\n",
    "# df.sort_values(by='A')\n",
    "print(df.sort_values(by= ['A','B'],ascending=False))"
   ]
  },
  {
   "cell_type": "code",
   "execution_count": 121,
   "metadata": {},
   "outputs": [
    {
     "name": "stdout",
     "output_type": "stream",
     "text": [
      "A   -6.398513\n",
      "B    4.299770\n",
      "C    1.354907\n",
      "D    4.728252\n",
      "dtype: float64\n",
      "2013-01-01    0.525368\n",
      "2013-01-02   -0.512349\n",
      "2013-01-03    0.502730\n",
      "2013-01-04    0.807051\n",
      "2013-01-05    1.662754\n",
      "2013-01-06    0.998862\n",
      "Freq: D, dtype: float64\n"
     ]
    }
   ],
   "source": [
    "print(df.sum())          # row 들의 합 (col : 합) axis=0 디폴트\n",
    "print(df.sum(axis=1))    # column 들의 함 (row : 합) axis=1"
   ]
  },
  {
   "attachments": {},
   "cell_type": "markdown",
   "metadata": {},
   "source": [
    "### 6. Merging\n",
    "\n",
    "```\n",
    "concat\n",
    "join\n",
    "merge\n",
    "```"
   ]
  },
  {
   "attachments": {},
   "cell_type": "markdown",
   "metadata": {},
   "source": [
    "### 7. Grouping\n",
    "\n",
    "```\n",
    "Splitting the data into groups based on some criteria\n",
    "Applying a function to each group independently\n",
    "Combining the results into a data structure\n",
    "\n",
    "```"
   ]
  },
  {
   "cell_type": "code",
   "execution_count": 122,
   "metadata": {},
   "outputs": [
    {
     "data": {
      "text/html": [
       "<div>\n",
       "<style scoped>\n",
       "    .dataframe tbody tr th:only-of-type {\n",
       "        vertical-align: middle;\n",
       "    }\n",
       "\n",
       "    .dataframe tbody tr th {\n",
       "        vertical-align: top;\n",
       "    }\n",
       "\n",
       "    .dataframe thead th {\n",
       "        text-align: right;\n",
       "    }\n",
       "</style>\n",
       "<table border=\"1\" class=\"dataframe\">\n",
       "  <thead>\n",
       "    <tr style=\"text-align: right;\">\n",
       "      <th></th>\n",
       "      <th>A</th>\n",
       "      <th>B</th>\n",
       "      <th>C</th>\n",
       "      <th>D</th>\n",
       "    </tr>\n",
       "  </thead>\n",
       "  <tbody>\n",
       "    <tr>\n",
       "      <th>0</th>\n",
       "      <td>foo</td>\n",
       "      <td>one</td>\n",
       "      <td>1.144410</td>\n",
       "      <td>-0.436985</td>\n",
       "    </tr>\n",
       "    <tr>\n",
       "      <th>1</th>\n",
       "      <td>bar</td>\n",
       "      <td>one</td>\n",
       "      <td>-0.072159</td>\n",
       "      <td>-0.388618</td>\n",
       "    </tr>\n",
       "    <tr>\n",
       "      <th>2</th>\n",
       "      <td>foo</td>\n",
       "      <td>two</td>\n",
       "      <td>-0.146244</td>\n",
       "      <td>0.055403</td>\n",
       "    </tr>\n",
       "    <tr>\n",
       "      <th>3</th>\n",
       "      <td>bar</td>\n",
       "      <td>three</td>\n",
       "      <td>0.030107</td>\n",
       "      <td>-1.165722</td>\n",
       "    </tr>\n",
       "    <tr>\n",
       "      <th>4</th>\n",
       "      <td>foo</td>\n",
       "      <td>two</td>\n",
       "      <td>-1.603447</td>\n",
       "      <td>-0.697050</td>\n",
       "    </tr>\n",
       "    <tr>\n",
       "      <th>5</th>\n",
       "      <td>bar</td>\n",
       "      <td>two</td>\n",
       "      <td>-1.398144</td>\n",
       "      <td>-1.242526</td>\n",
       "    </tr>\n",
       "    <tr>\n",
       "      <th>6</th>\n",
       "      <td>foo</td>\n",
       "      <td>one</td>\n",
       "      <td>-0.244829</td>\n",
       "      <td>0.939537</td>\n",
       "    </tr>\n",
       "    <tr>\n",
       "      <th>7</th>\n",
       "      <td>foo</td>\n",
       "      <td>three</td>\n",
       "      <td>-1.455120</td>\n",
       "      <td>0.558759</td>\n",
       "    </tr>\n",
       "  </tbody>\n",
       "</table>\n",
       "</div>"
      ],
      "text/plain": [
       "     A      B         C         D\n",
       "0  foo    one  1.144410 -0.436985\n",
       "1  bar    one -0.072159 -0.388618\n",
       "2  foo    two -0.146244  0.055403\n",
       "3  bar  three  0.030107 -1.165722\n",
       "4  foo    two -1.603447 -0.697050\n",
       "5  bar    two -1.398144 -1.242526\n",
       "6  foo    one -0.244829  0.939537\n",
       "7  foo  three -1.455120  0.558759"
      ]
     },
     "execution_count": 122,
     "metadata": {},
     "output_type": "execute_result"
    }
   ],
   "source": [
    "df_g = pd.DataFrame(\n",
    "    {\n",
    "        \"A\": [\"foo\", \"bar\", \"foo\", \"bar\", \"foo\", \"bar\", \"foo\", \"foo\"],\n",
    "        \"B\": [\"one\", \"one\", \"two\", \"three\", \"two\", \"two\", \"one\", \"three\"],\n",
    "        \"C\": np.random.randn(8),\n",
    "        \"D\": np.random.randn(8),\n",
    "    }\n",
    ")\n",
    "\n",
    "df_g"
   ]
  },
  {
   "attachments": {},
   "cell_type": "markdown",
   "metadata": {},
   "source": [
    "df.groupby().groups"
   ]
  },
  {
   "cell_type": "code",
   "execution_count": 123,
   "metadata": {},
   "outputs": [
    {
     "data": {
      "text/plain": [
       "{('bar', 'one'): [1], ('bar', 'three'): [3], ('bar', 'two'): [5], ('foo', 'one'): [0, 6], ('foo', 'three'): [7], ('foo', 'two'): [2, 4]}"
      ]
     },
     "execution_count": 123,
     "metadata": {},
     "output_type": "execute_result"
    }
   ],
   "source": [
    "df_g.groupby(['A','B']).groups"
   ]
  },
  {
   "attachments": {},
   "cell_type": "markdown",
   "metadata": {},
   "source": [
    "[].reset_index / [[]].reset_index"
   ]
  },
  {
   "cell_type": "code",
   "execution_count": 124,
   "metadata": {},
   "outputs": [
    {
     "data": {
      "text/plain": [
       "A    B      C        \n",
       "bar  one    -0.072159    1\n",
       "     three   0.030107    1\n",
       "     two    -1.398144    1\n",
       "foo  one    -0.244829    1\n",
       "             1.144410    1\n",
       "     three  -1.455120    1\n",
       "     two    -1.603447    1\n",
       "            -0.146244    1\n",
       "Name: count, dtype: int64"
      ]
     },
     "execution_count": 124,
     "metadata": {},
     "output_type": "execute_result"
    }
   ],
   "source": [
    "df_g.groupby(['A','B'])['C'].value_counts()\n",
    "\n",
    "# df_g.groupby(['A','B'])['C'].value_counts().reset_index() 는 오류발생. ('C' 가 중복된다. )\n",
    "# new_df_g = df_g.groupby(['A','B'])['C'].value_counts()\n",
    "# new_df_g.name = C_count\n",
    "# new_df_g.reset_index()\n"
   ]
  },
  {
   "cell_type": "code",
   "execution_count": 128,
   "metadata": {},
   "outputs": [
    {
     "data": {
      "text/html": [
       "<div>\n",
       "<style scoped>\n",
       "    .dataframe tbody tr th:only-of-type {\n",
       "        vertical-align: middle;\n",
       "    }\n",
       "\n",
       "    .dataframe tbody tr th {\n",
       "        vertical-align: top;\n",
       "    }\n",
       "\n",
       "    .dataframe thead th {\n",
       "        text-align: right;\n",
       "    }\n",
       "</style>\n",
       "<table border=\"1\" class=\"dataframe\">\n",
       "  <thead>\n",
       "    <tr style=\"text-align: right;\">\n",
       "      <th></th>\n",
       "      <th>A</th>\n",
       "      <th>B</th>\n",
       "      <th>C</th>\n",
       "    </tr>\n",
       "  </thead>\n",
       "  <tbody>\n",
       "    <tr>\n",
       "      <th>0</th>\n",
       "      <td>bar</td>\n",
       "      <td>one</td>\n",
       "      <td>-0.072159</td>\n",
       "    </tr>\n",
       "    <tr>\n",
       "      <th>1</th>\n",
       "      <td>bar</td>\n",
       "      <td>three</td>\n",
       "      <td>0.030107</td>\n",
       "    </tr>\n",
       "    <tr>\n",
       "      <th>2</th>\n",
       "      <td>bar</td>\n",
       "      <td>two</td>\n",
       "      <td>-1.398144</td>\n",
       "    </tr>\n",
       "    <tr>\n",
       "      <th>3</th>\n",
       "      <td>foo</td>\n",
       "      <td>one</td>\n",
       "      <td>0.899581</td>\n",
       "    </tr>\n",
       "    <tr>\n",
       "      <th>4</th>\n",
       "      <td>foo</td>\n",
       "      <td>three</td>\n",
       "      <td>-1.455120</td>\n",
       "    </tr>\n",
       "    <tr>\n",
       "      <th>5</th>\n",
       "      <td>foo</td>\n",
       "      <td>two</td>\n",
       "      <td>-1.749691</td>\n",
       "    </tr>\n",
       "  </tbody>\n",
       "</table>\n",
       "</div>"
      ],
      "text/plain": [
       "     A      B         C\n",
       "0  bar    one -0.072159\n",
       "1  bar  three  0.030107\n",
       "2  bar    two -1.398144\n",
       "3  foo    one  0.899581\n",
       "4  foo  three -1.455120\n",
       "5  foo    two -1.749691"
      ]
     },
     "execution_count": 128,
     "metadata": {},
     "output_type": "execute_result"
    }
   ],
   "source": [
    "# [[C]] 은 데이터 프레임이라서 reset_index 가 가능하다. \n",
    "\n",
    "df_g2 = df_g.groupby(['A','B'])[['C']].sum().reset_index()\n",
    "df_g2"
   ]
  },
  {
   "attachments": {},
   "cell_type": "markdown",
   "metadata": {},
   "source": [
    "groupby().apply()"
   ]
  },
  {
   "cell_type": "code",
   "execution_count": 130,
   "metadata": {},
   "outputs": [
    {
     "data": {
      "text/html": [
       "<div>\n",
       "<style scoped>\n",
       "    .dataframe tbody tr th:only-of-type {\n",
       "        vertical-align: middle;\n",
       "    }\n",
       "\n",
       "    .dataframe tbody tr th {\n",
       "        vertical-align: top;\n",
       "    }\n",
       "\n",
       "    .dataframe thead th {\n",
       "        text-align: right;\n",
       "    }\n",
       "</style>\n",
       "<table border=\"1\" class=\"dataframe\">\n",
       "  <thead>\n",
       "    <tr style=\"text-align: right;\">\n",
       "      <th></th>\n",
       "      <th></th>\n",
       "      <th>C</th>\n",
       "    </tr>\n",
       "    <tr>\n",
       "      <th>A</th>\n",
       "      <th>B</th>\n",
       "      <th></th>\n",
       "    </tr>\n",
       "  </thead>\n",
       "  <tbody>\n",
       "    <tr>\n",
       "      <th rowspan=\"3\" valign=\"top\">bar</th>\n",
       "      <th>one</th>\n",
       "      <td>-0.072159</td>\n",
       "    </tr>\n",
       "    <tr>\n",
       "      <th>three</th>\n",
       "      <td>0.030107</td>\n",
       "    </tr>\n",
       "    <tr>\n",
       "      <th>two</th>\n",
       "      <td>-1.398144</td>\n",
       "    </tr>\n",
       "    <tr>\n",
       "      <th rowspan=\"3\" valign=\"top\">foo</th>\n",
       "      <th>one</th>\n",
       "      <td>0.899581</td>\n",
       "    </tr>\n",
       "    <tr>\n",
       "      <th>three</th>\n",
       "      <td>-1.455120</td>\n",
       "    </tr>\n",
       "    <tr>\n",
       "      <th>two</th>\n",
       "      <td>-1.749691</td>\n",
       "    </tr>\n",
       "  </tbody>\n",
       "</table>\n",
       "</div>"
      ],
      "text/plain": [
       "                  C\n",
       "A   B              \n",
       "bar one   -0.072159\n",
       "    three  0.030107\n",
       "    two   -1.398144\n",
       "foo one    0.899581\n",
       "    three -1.455120\n",
       "    two   -1.749691"
      ]
     },
     "execution_count": 130,
     "metadata": {},
     "output_type": "execute_result"
    }
   ],
   "source": [
    "# groupby 의 구룹 key 값이 전달된다. \n",
    "# 6개 그룹이 전달됨 (bar,one) 부터 (foo,two)까지\n",
    " \n",
    "def funX(groupbyKey):\n",
    "    return groupbyKey.sum()\n",
    "\n",
    "df_g.groupby(['A','B'])[['C']].apply(funX)"
   ]
  },
  {
   "cell_type": "code",
   "execution_count": 133,
   "metadata": {},
   "outputs": [
    {
     "data": {
      "text/html": [
       "<div>\n",
       "<style scoped>\n",
       "    .dataframe tbody tr th:only-of-type {\n",
       "        vertical-align: middle;\n",
       "    }\n",
       "\n",
       "    .dataframe tbody tr th {\n",
       "        vertical-align: top;\n",
       "    }\n",
       "\n",
       "    .dataframe thead tr th {\n",
       "        text-align: left;\n",
       "    }\n",
       "\n",
       "    .dataframe thead tr:last-of-type th {\n",
       "        text-align: right;\n",
       "    }\n",
       "</style>\n",
       "<table border=\"1\" class=\"dataframe\">\n",
       "  <thead>\n",
       "    <tr>\n",
       "      <th></th>\n",
       "      <th colspan=\"2\" halign=\"left\">C</th>\n",
       "    </tr>\n",
       "    <tr>\n",
       "      <th>A</th>\n",
       "      <th>bar</th>\n",
       "      <th>foo</th>\n",
       "    </tr>\n",
       "    <tr>\n",
       "      <th>B</th>\n",
       "      <th></th>\n",
       "      <th></th>\n",
       "    </tr>\n",
       "  </thead>\n",
       "  <tbody>\n",
       "    <tr>\n",
       "      <th>one</th>\n",
       "      <td>-0.891268</td>\n",
       "      <td>0.045768</td>\n",
       "    </tr>\n",
       "    <tr>\n",
       "      <th>three</th>\n",
       "      <td>-0.249629</td>\n",
       "      <td>-1.119219</td>\n",
       "    </tr>\n",
       "    <tr>\n",
       "      <th>two</th>\n",
       "      <td>-0.200127</td>\n",
       "      <td>-0.632051</td>\n",
       "    </tr>\n",
       "  </tbody>\n",
       "</table>\n",
       "</div>"
      ],
      "text/plain": [
       "              C          \n",
       "A           bar       foo\n",
       "B                        \n",
       "one   -0.891268  0.045768\n",
       "three -0.249629 -1.119219\n",
       "two   -0.200127 -0.632051"
      ]
     },
     "execution_count": 133,
     "metadata": {},
     "output_type": "execute_result"
    }
   ],
   "source": [
    "df_g.groupby(['A','B'])[['C']].sum().unstack(level=0)  # B 을 는 levle = 1"
   ]
  },
  {
   "attachments": {},
   "cell_type": "markdown",
   "metadata": {},
   "source": [
    "### 8. Reshaping\n",
    "\n",
    "```\n",
    "reshpae(-1)\n",
    "stack    : index <--- columns  \n",
    "unstack  : index ---> columns  \n",
    "pivot table\n",
    "```"
   ]
  },
  {
   "cell_type": "code",
   "execution_count": 134,
   "metadata": {},
   "outputs": [
    {
     "data": {
      "text/html": [
       "<div>\n",
       "<style scoped>\n",
       "    .dataframe tbody tr th:only-of-type {\n",
       "        vertical-align: middle;\n",
       "    }\n",
       "\n",
       "    .dataframe tbody tr th {\n",
       "        vertical-align: top;\n",
       "    }\n",
       "\n",
       "    .dataframe thead th {\n",
       "        text-align: right;\n",
       "    }\n",
       "</style>\n",
       "<table border=\"1\" class=\"dataframe\">\n",
       "  <thead>\n",
       "    <tr style=\"text-align: right;\">\n",
       "      <th></th>\n",
       "      <th></th>\n",
       "      <th>C</th>\n",
       "    </tr>\n",
       "    <tr>\n",
       "      <th>A</th>\n",
       "      <th>B</th>\n",
       "      <th></th>\n",
       "    </tr>\n",
       "  </thead>\n",
       "  <tbody>\n",
       "    <tr>\n",
       "      <th>foo</th>\n",
       "      <th>one</th>\n",
       "      <td>-0.135403</td>\n",
       "    </tr>\n",
       "    <tr>\n",
       "      <th>bar</th>\n",
       "      <th>one</th>\n",
       "      <td>1.041721</td>\n",
       "    </tr>\n",
       "    <tr>\n",
       "      <th>foo</th>\n",
       "      <th>two</th>\n",
       "      <td>-1.058521</td>\n",
       "    </tr>\n",
       "    <tr>\n",
       "      <th>bar</th>\n",
       "      <th>three</th>\n",
       "      <td>0.350203</td>\n",
       "    </tr>\n",
       "    <tr>\n",
       "      <th>foo</th>\n",
       "      <th>two</th>\n",
       "      <td>-1.507742</td>\n",
       "    </tr>\n",
       "    <tr>\n",
       "      <th>bar</th>\n",
       "      <th>two</th>\n",
       "      <td>-1.220942</td>\n",
       "    </tr>\n",
       "    <tr>\n",
       "      <th rowspan=\"2\" valign=\"top\">foo</th>\n",
       "      <th>one</th>\n",
       "      <td>-0.129807</td>\n",
       "    </tr>\n",
       "    <tr>\n",
       "      <th>three</th>\n",
       "      <td>-0.043958</td>\n",
       "    </tr>\n",
       "  </tbody>\n",
       "</table>\n",
       "</div>"
      ],
      "text/plain": [
       "                  C\n",
       "A   B              \n",
       "foo one   -0.135403\n",
       "bar one    1.041721\n",
       "foo two   -1.058521\n",
       "bar three  0.350203\n",
       "foo two   -1.507742\n",
       "bar two   -1.220942\n",
       "foo one   -0.129807\n",
       "    three -0.043958"
      ]
     },
     "execution_count": 134,
     "metadata": {},
     "output_type": "execute_result"
    }
   ],
   "source": [
    "df_g.set_index(['A','B'])[['C']]#.unstack()\n",
    "\n",
    "# Index contains duplicate entries, cannot reshape : 'foo one' 이 중복된다. \n",
    "# df.drop_duplicates(subset=['index','column']) 으로 해결"
   ]
  },
  {
   "attachments": {},
   "cell_type": "markdown",
   "metadata": {},
   "source": [
    "drop_duplicates\n",
    "\n",
    "subset : 중복을 검사할 column \n",
    "keep: 중복값중 남길 행\n",
    "\n",
    "df.drop ()\n",
    "axis = 0/1 (행/열)     조건이 있는 경우 slicing 을 이용하자 "
   ]
  },
  {
   "cell_type": "code",
   "execution_count": 135,
   "metadata": {},
   "outputs": [
    {
     "data": {
      "text/html": [
       "<div>\n",
       "<style scoped>\n",
       "    .dataframe tbody tr th:only-of-type {\n",
       "        vertical-align: middle;\n",
       "    }\n",
       "\n",
       "    .dataframe tbody tr th {\n",
       "        vertical-align: top;\n",
       "    }\n",
       "\n",
       "    .dataframe thead th {\n",
       "        text-align: right;\n",
       "    }\n",
       "</style>\n",
       "<table border=\"1\" class=\"dataframe\">\n",
       "  <thead>\n",
       "    <tr style=\"text-align: right;\">\n",
       "      <th></th>\n",
       "      <th>A</th>\n",
       "      <th>B</th>\n",
       "      <th>C</th>\n",
       "      <th>D</th>\n",
       "    </tr>\n",
       "  </thead>\n",
       "  <tbody>\n",
       "    <tr>\n",
       "      <th>0</th>\n",
       "      <td>foo</td>\n",
       "      <td>one</td>\n",
       "      <td>-0.135403</td>\n",
       "      <td>1.466320</td>\n",
       "    </tr>\n",
       "    <tr>\n",
       "      <th>1</th>\n",
       "      <td>bar</td>\n",
       "      <td>one</td>\n",
       "      <td>1.041721</td>\n",
       "      <td>-0.426356</td>\n",
       "    </tr>\n",
       "    <tr>\n",
       "      <th>2</th>\n",
       "      <td>foo</td>\n",
       "      <td>two</td>\n",
       "      <td>-1.058521</td>\n",
       "      <td>0.307807</td>\n",
       "    </tr>\n",
       "    <tr>\n",
       "      <th>3</th>\n",
       "      <td>bar</td>\n",
       "      <td>three</td>\n",
       "      <td>0.350203</td>\n",
       "      <td>0.071552</td>\n",
       "    </tr>\n",
       "    <tr>\n",
       "      <th>4</th>\n",
       "      <td>bar</td>\n",
       "      <td>two</td>\n",
       "      <td>-1.220942</td>\n",
       "      <td>-0.497981</td>\n",
       "    </tr>\n",
       "    <tr>\n",
       "      <th>5</th>\n",
       "      <td>foo</td>\n",
       "      <td>three</td>\n",
       "      <td>-0.043958</td>\n",
       "      <td>-1.271253</td>\n",
       "    </tr>\n",
       "  </tbody>\n",
       "</table>\n",
       "</div>"
      ],
      "text/plain": [
       "     A      B         C         D\n",
       "0  foo    one -0.135403  1.466320\n",
       "1  bar    one  1.041721 -0.426356\n",
       "2  foo    two -1.058521  0.307807\n",
       "3  bar  three  0.350203  0.071552\n",
       "4  bar    two -1.220942 -0.497981\n",
       "5  foo  three -0.043958 -1.271253"
      ]
     },
     "execution_count": 135,
     "metadata": {},
     "output_type": "execute_result"
    }
   ],
   "source": [
    "# df_g2 = df_g.drop([6,2]).reset_index(drop=True) \n",
    "# A,B 열 값이 중복되는 2, 6 row을 삭제\n",
    "\n",
    "df_g2 = df_g.drop_duplicates(subset=['A','B'],keep='first', ignore_index=True).copy()  # inplace = True 으로 원본 적용\n",
    "\n",
    "df_g2"
   ]
  },
  {
   "cell_type": "code",
   "execution_count": 136,
   "metadata": {},
   "outputs": [
    {
     "data": {
      "text/html": [
       "<div>\n",
       "<style scoped>\n",
       "    .dataframe tbody tr th:only-of-type {\n",
       "        vertical-align: middle;\n",
       "    }\n",
       "\n",
       "    .dataframe tbody tr th {\n",
       "        vertical-align: top;\n",
       "    }\n",
       "\n",
       "    .dataframe thead tr th {\n",
       "        text-align: left;\n",
       "    }\n",
       "\n",
       "    .dataframe thead tr:last-of-type th {\n",
       "        text-align: right;\n",
       "    }\n",
       "</style>\n",
       "<table border=\"1\" class=\"dataframe\">\n",
       "  <thead>\n",
       "    <tr>\n",
       "      <th></th>\n",
       "      <th colspan=\"3\" halign=\"left\">C</th>\n",
       "    </tr>\n",
       "    <tr>\n",
       "      <th>B</th>\n",
       "      <th>one</th>\n",
       "      <th>three</th>\n",
       "      <th>two</th>\n",
       "    </tr>\n",
       "    <tr>\n",
       "      <th>A</th>\n",
       "      <th></th>\n",
       "      <th></th>\n",
       "      <th></th>\n",
       "    </tr>\n",
       "  </thead>\n",
       "  <tbody>\n",
       "    <tr>\n",
       "      <th>bar</th>\n",
       "      <td>1.041721</td>\n",
       "      <td>0.350203</td>\n",
       "      <td>-1.220942</td>\n",
       "    </tr>\n",
       "    <tr>\n",
       "      <th>foo</th>\n",
       "      <td>-0.135403</td>\n",
       "      <td>-0.043958</td>\n",
       "      <td>-1.058521</td>\n",
       "    </tr>\n",
       "  </tbody>\n",
       "</table>\n",
       "</div>"
      ],
      "text/plain": [
       "            C                    \n",
       "B         one     three       two\n",
       "A                                \n",
       "bar  1.041721  0.350203 -1.220942\n",
       "foo -0.135403 -0.043958 -1.058521"
      ]
     },
     "execution_count": 136,
     "metadata": {},
     "output_type": "execute_result"
    }
   ],
   "source": [
    "df_g2.set_index(['A','B'])[['C']].unstack()"
   ]
  },
  {
   "cell_type": "code",
   "execution_count": 137,
   "metadata": {},
   "outputs": [
    {
     "data": {
      "text/html": [
       "<div>\n",
       "<style scoped>\n",
       "    .dataframe tbody tr th:only-of-type {\n",
       "        vertical-align: middle;\n",
       "    }\n",
       "\n",
       "    .dataframe tbody tr th {\n",
       "        vertical-align: top;\n",
       "    }\n",
       "\n",
       "    .dataframe thead th {\n",
       "        text-align: right;\n",
       "    }\n",
       "</style>\n",
       "<table border=\"1\" class=\"dataframe\">\n",
       "  <thead>\n",
       "    <tr style=\"text-align: right;\">\n",
       "      <th>B</th>\n",
       "      <th>one</th>\n",
       "      <th>three</th>\n",
       "      <th>two</th>\n",
       "    </tr>\n",
       "    <tr>\n",
       "      <th>A</th>\n",
       "      <th></th>\n",
       "      <th></th>\n",
       "      <th></th>\n",
       "    </tr>\n",
       "  </thead>\n",
       "  <tbody>\n",
       "    <tr>\n",
       "      <th>bar</th>\n",
       "      <td>1.041721</td>\n",
       "      <td>0.350203</td>\n",
       "      <td>-1.220942</td>\n",
       "    </tr>\n",
       "    <tr>\n",
       "      <th>foo</th>\n",
       "      <td>-0.135403</td>\n",
       "      <td>-0.043958</td>\n",
       "      <td>-1.058521</td>\n",
       "    </tr>\n",
       "  </tbody>\n",
       "</table>\n",
       "</div>"
      ],
      "text/plain": [
       "B         one     three       two\n",
       "A                                \n",
       "bar  1.041721  0.350203 -1.220942\n",
       "foo -0.135403 -0.043958 -1.058521"
      ]
     },
     "execution_count": 137,
     "metadata": {},
     "output_type": "execute_result"
    }
   ],
   "source": [
    "df_g2.pivot(index='A',columns='B',values='C')"
   ]
  },
  {
   "attachments": {},
   "cell_type": "markdown",
   "metadata": {},
   "source": [
    "pivot_table()"
   ]
  },
  {
   "cell_type": "code",
   "execution_count": 138,
   "metadata": {},
   "outputs": [
    {
     "data": {
      "text/html": [
       "<div>\n",
       "<style scoped>\n",
       "    .dataframe tbody tr th:only-of-type {\n",
       "        vertical-align: middle;\n",
       "    }\n",
       "\n",
       "    .dataframe tbody tr th {\n",
       "        vertical-align: top;\n",
       "    }\n",
       "\n",
       "    .dataframe thead th {\n",
       "        text-align: right;\n",
       "    }\n",
       "</style>\n",
       "<table border=\"1\" class=\"dataframe\">\n",
       "  <thead>\n",
       "    <tr style=\"text-align: right;\">\n",
       "      <th>B</th>\n",
       "      <th>one</th>\n",
       "      <th>three</th>\n",
       "      <th>two</th>\n",
       "    </tr>\n",
       "    <tr>\n",
       "      <th>A</th>\n",
       "      <th></th>\n",
       "      <th></th>\n",
       "      <th></th>\n",
       "    </tr>\n",
       "  </thead>\n",
       "  <tbody>\n",
       "    <tr>\n",
       "      <th>bar</th>\n",
       "      <td>1.041721</td>\n",
       "      <td>0.350203</td>\n",
       "      <td>-1.220942</td>\n",
       "    </tr>\n",
       "    <tr>\n",
       "      <th>foo</th>\n",
       "      <td>-0.135403</td>\n",
       "      <td>-0.043958</td>\n",
       "      <td>-1.058521</td>\n",
       "    </tr>\n",
       "  </tbody>\n",
       "</table>\n",
       "</div>"
      ],
      "text/plain": [
       "B         one     three       two\n",
       "A                                \n",
       "bar  1.041721  0.350203 -1.220942\n",
       "foo -0.135403 -0.043958 -1.058521"
      ]
     },
     "execution_count": 138,
     "metadata": {},
     "output_type": "execute_result"
    }
   ],
   "source": [
    "df_g2.pivot_table(index ='A',columns='B',values='C')\n",
    "\n",
    "# pd.pivot_table(df_g2, index ='A',columns='B',values='C')"
   ]
  },
  {
   "attachments": {},
   "cell_type": "markdown",
   "metadata": {},
   "source": [
    "### 9. Time Series"
   ]
  },
  {
   "cell_type": "code",
   "execution_count": 139,
   "metadata": {},
   "outputs": [
    {
     "data": {
      "text/plain": [
       "2012-01-01    23845\n",
       "Freq: 5T, dtype: int64"
      ]
     },
     "execution_count": 139,
     "metadata": {},
     "output_type": "execute_result"
    }
   ],
   "source": [
    "rng = pd.date_range(\"1/1/2012\", periods=100, freq=\"S\")\n",
    "\n",
    "ts = pd.Series(np.random.randint(0, 500, len(rng)), index=rng)\n",
    "\n",
    "ts.resample(\"5Min\").sum()"
   ]
  },
  {
   "cell_type": "code",
   "execution_count": 140,
   "metadata": {},
   "outputs": [
    {
     "data": {
      "text/plain": [
       "2012-01-01 00:00:00    248\n",
       "2012-01-01 00:00:01    141\n",
       "2012-01-01 00:00:02    158\n",
       "2012-01-01 00:00:03    392\n",
       "2012-01-01 00:00:04    484\n",
       "                      ... \n",
       "2012-01-01 00:01:35    327\n",
       "2012-01-01 00:01:36     84\n",
       "2012-01-01 00:01:37     91\n",
       "2012-01-01 00:01:38    313\n",
       "2012-01-01 00:01:39    203\n",
       "Freq: S, Length: 100, dtype: int64"
      ]
     },
     "execution_count": 140,
     "metadata": {},
     "output_type": "execute_result"
    }
   ],
   "source": [
    "ts"
   ]
  },
  {
   "attachments": {},
   "cell_type": "markdown",
   "metadata": {},
   "source": [
    "### 10. Categroicals"
   ]
  },
  {
   "attachments": {},
   "cell_type": "markdown",
   "metadata": {},
   "source": [
    "### 11. Plotting"
   ]
  }
 ],
 "metadata": {
  "kernelspec": {
   "display_name": "Python 3 (ipykernel)",
   "language": "python",
   "name": "python3"
  },
  "language_info": {
   "codemirror_mode": {
    "name": "ipython",
    "version": 3
   },
   "file_extension": ".py",
   "mimetype": "text/x-python",
   "name": "python",
   "nbconvert_exporter": "python",
   "pygments_lexer": "ipython3",
   "version": "3.9.10"
  },
  "vscode": {
   "interpreter": {
    "hash": "162ceaf09f938773ad028a3a2ad644135fdbb6560e1ade87eeac244d09a7763d"
   }
  }
 },
 "nbformat": 4,
 "nbformat_minor": 2
}
