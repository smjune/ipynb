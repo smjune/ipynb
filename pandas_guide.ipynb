{
 "cells": [
  {
   "attachments": {},
   "cell_type": "markdown",
   "metadata": {},
   "source": [
    "## EDA을 위한 다양한 pandas function 연습  \n",
    "---\n",
    "참고링크 : https://pandas.pydata.org/docs/user_guide/10min.html  \n",
    "한글 : https://dandyrilla.github.io/2017-08-12/pandas-10min/\n",
    "\n",
    "API ref : https://pandas.pydata.org/docs/reference/index.html"
   ]
  },
  {
   "cell_type": "code",
   "execution_count": 1,
   "metadata": {},
   "outputs": [],
   "source": [
    "import numpy as np\n",
    "import pandas as pd"
   ]
  },
  {
   "attachments": {},
   "cell_type": "markdown",
   "metadata": {},
   "source": [
    "### series and dataFrame \n",
    "\n",
    "차이점을 기억해 두자  \n",
    "series 1차 배열  \n",
    "dataFrame 2차 배열  \n",
    "\n",
    "실제 data 특성에 맞는 샘플 데이터를 만들수 있어야 한다.   \n",
    "해당 샘플 데이터로 각 연산 결과를 미리 확인 할 수 있어야 한다.   \n",
    "print(type()) 을 이용하여 object 의 타입을 정확히 파악해야 한다.  \n",
    "( series[index_label] vs dataframe[column_label] )  \n",
    "answer.ipynb 와 test.ipynb, sample.ipynb 으로 운영한다.  "
   ]
  },
  {
   "cell_type": "code",
   "execution_count": 2,
   "metadata": {},
   "outputs": [
    {
     "data": {
      "text/plain": [
       "0    1.0\n",
       "1    3.0\n",
       "2    5.0\n",
       "3    NaN\n",
       "4    6.0\n",
       "5    8.0\n",
       "dtype: float64"
      ]
     },
     "execution_count": 2,
     "metadata": {},
     "output_type": "execute_result"
    }
   ],
   "source": [
    "s = pd.Series([1, 3, 5, np.nan, 6, 8])\n",
    "s"
   ]
  },
  {
   "cell_type": "code",
   "execution_count": 3,
   "metadata": {},
   "outputs": [
    {
     "data": {
      "text/plain": [
       "DatetimeIndex(['2013-01-01', '2013-01-02', '2013-01-03', '2013-01-04',\n",
       "               '2013-01-05', '2013-01-06'],\n",
       "              dtype='datetime64[ns]', freq='D')"
      ]
     },
     "execution_count": 3,
     "metadata": {},
     "output_type": "execute_result"
    }
   ],
   "source": [
    "dates = pd.date_range(\"20130101\", periods=6)\n",
    "dates"
   ]
  },
  {
   "cell_type": "code",
   "execution_count": 4,
   "metadata": {},
   "outputs": [
    {
     "data": {
      "text/html": [
       "<div>\n",
       "<style scoped>\n",
       "    .dataframe tbody tr th:only-of-type {\n",
       "        vertical-align: middle;\n",
       "    }\n",
       "\n",
       "    .dataframe tbody tr th {\n",
       "        vertical-align: top;\n",
       "    }\n",
       "\n",
       "    .dataframe thead th {\n",
       "        text-align: right;\n",
       "    }\n",
       "</style>\n",
       "<table border=\"1\" class=\"dataframe\">\n",
       "  <thead>\n",
       "    <tr style=\"text-align: right;\">\n",
       "      <th></th>\n",
       "      <th>A</th>\n",
       "      <th>B</th>\n",
       "      <th>C</th>\n",
       "      <th>D</th>\n",
       "    </tr>\n",
       "  </thead>\n",
       "  <tbody>\n",
       "    <tr>\n",
       "      <th>2013-01-01</th>\n",
       "      <td>0.147133</td>\n",
       "      <td>-0.817674</td>\n",
       "      <td>-0.344967</td>\n",
       "      <td>-0.955441</td>\n",
       "    </tr>\n",
       "    <tr>\n",
       "      <th>2013-01-02</th>\n",
       "      <td>0.104730</td>\n",
       "      <td>-1.154512</td>\n",
       "      <td>0.499380</td>\n",
       "      <td>1.010028</td>\n",
       "    </tr>\n",
       "    <tr>\n",
       "      <th>2013-01-03</th>\n",
       "      <td>-0.730373</td>\n",
       "      <td>-0.164331</td>\n",
       "      <td>0.847347</td>\n",
       "      <td>0.180180</td>\n",
       "    </tr>\n",
       "    <tr>\n",
       "      <th>2013-01-04</th>\n",
       "      <td>-0.700296</td>\n",
       "      <td>-0.587400</td>\n",
       "      <td>0.216813</td>\n",
       "      <td>-0.823385</td>\n",
       "    </tr>\n",
       "    <tr>\n",
       "      <th>2013-01-05</th>\n",
       "      <td>-0.426451</td>\n",
       "      <td>1.337920</td>\n",
       "      <td>-1.047702</td>\n",
       "      <td>1.114010</td>\n",
       "    </tr>\n",
       "    <tr>\n",
       "      <th>2013-01-06</th>\n",
       "      <td>-0.543087</td>\n",
       "      <td>-0.399717</td>\n",
       "      <td>0.234636</td>\n",
       "      <td>-0.395774</td>\n",
       "    </tr>\n",
       "  </tbody>\n",
       "</table>\n",
       "</div>"
      ],
      "text/plain": [
       "                   A         B         C         D\n",
       "2013-01-01  0.147133 -0.817674 -0.344967 -0.955441\n",
       "2013-01-02  0.104730 -1.154512  0.499380  1.010028\n",
       "2013-01-03 -0.730373 -0.164331  0.847347  0.180180\n",
       "2013-01-04 -0.700296 -0.587400  0.216813 -0.823385\n",
       "2013-01-05 -0.426451  1.337920 -1.047702  1.114010\n",
       "2013-01-06 -0.543087 -0.399717  0.234636 -0.395774"
      ]
     },
     "execution_count": 4,
     "metadata": {},
     "output_type": "execute_result"
    }
   ],
   "source": [
    "df = pd.DataFrame(np.random.randn(6, 4),\n",
    "                   index=dates, \n",
    "                   columns=list(\"ABCD\"))\n",
    "df"
   ]
  },
  {
   "attachments": {},
   "cell_type": "markdown",
   "metadata": {},
   "source": [
    "dataFrame :   \n",
    "DataFrame은 2차원 배열 데이터라고 이해하는 것보다 공통 인덱스를 가진 column series를 딕셔너리로 묶어놓은 것"
   ]
  },
  {
   "cell_type": "code",
   "execution_count": 5,
   "metadata": {},
   "outputs": [
    {
     "data": {
      "text/html": [
       "<div>\n",
       "<style scoped>\n",
       "    .dataframe tbody tr th:only-of-type {\n",
       "        vertical-align: middle;\n",
       "    }\n",
       "\n",
       "    .dataframe tbody tr th {\n",
       "        vertical-align: top;\n",
       "    }\n",
       "\n",
       "    .dataframe thead th {\n",
       "        text-align: right;\n",
       "    }\n",
       "</style>\n",
       "<table border=\"1\" class=\"dataframe\">\n",
       "  <thead>\n",
       "    <tr style=\"text-align: right;\">\n",
       "      <th></th>\n",
       "      <th>A</th>\n",
       "      <th>B</th>\n",
       "      <th>C</th>\n",
       "      <th>D</th>\n",
       "      <th>E</th>\n",
       "      <th>F</th>\n",
       "    </tr>\n",
       "  </thead>\n",
       "  <tbody>\n",
       "    <tr>\n",
       "      <th>0</th>\n",
       "      <td>1.0</td>\n",
       "      <td>2013-01-02</td>\n",
       "      <td>1.0</td>\n",
       "      <td>3</td>\n",
       "      <td>test</td>\n",
       "      <td>foo</td>\n",
       "    </tr>\n",
       "    <tr>\n",
       "      <th>1</th>\n",
       "      <td>1.0</td>\n",
       "      <td>2013-01-02</td>\n",
       "      <td>1.0</td>\n",
       "      <td>3</td>\n",
       "      <td>train</td>\n",
       "      <td>foo</td>\n",
       "    </tr>\n",
       "    <tr>\n",
       "      <th>2</th>\n",
       "      <td>1.0</td>\n",
       "      <td>2013-01-02</td>\n",
       "      <td>1.0</td>\n",
       "      <td>3</td>\n",
       "      <td>test</td>\n",
       "      <td>foo</td>\n",
       "    </tr>\n",
       "    <tr>\n",
       "      <th>3</th>\n",
       "      <td>1.0</td>\n",
       "      <td>2013-01-02</td>\n",
       "      <td>1.0</td>\n",
       "      <td>3</td>\n",
       "      <td>train</td>\n",
       "      <td>foo</td>\n",
       "    </tr>\n",
       "  </tbody>\n",
       "</table>\n",
       "</div>"
      ],
      "text/plain": [
       "     A          B    C  D      E    F\n",
       "0  1.0 2013-01-02  1.0  3   test  foo\n",
       "1  1.0 2013-01-02  1.0  3  train  foo\n",
       "2  1.0 2013-01-02  1.0  3   test  foo\n",
       "3  1.0 2013-01-02  1.0  3  train  foo"
      ]
     },
     "execution_count": 5,
     "metadata": {},
     "output_type": "execute_result"
    }
   ],
   "source": [
    "df2 = pd.DataFrame(\n",
    "    {\n",
    "        \"A\": 1.0,\n",
    "        \"B\": pd.Timestamp(\"20130102\"),\n",
    "        \"C\": pd.Series(1, index=list(range(4)), dtype=\"float32\"),\n",
    "        \"D\": np.array([3] * 4, dtype=\"int32\"),\n",
    "        \"E\": pd.Categorical([\"test\", \"train\", \"test\", \"train\"]),\n",
    "        \"F\": \"foo\",\n",
    "    }\n",
    ")\n",
    "\n",
    "df2 \n",
    "# df2[:]\n",
    "# df2[:][:]\n",
    "# df2.loc[:,:]"
   ]
  },
  {
   "attachments": {},
   "cell_type": "markdown",
   "metadata": {},
   "source": [
    "### 2. Viewing Data"
   ]
  },
  {
   "cell_type": "code",
   "execution_count": 6,
   "metadata": {},
   "outputs": [
    {
     "data": {
      "text/plain": [
       "A           float64\n",
       "B    datetime64[ns]\n",
       "C           float32\n",
       "D             int32\n",
       "E          category\n",
       "F            object\n",
       "dtype: object"
      ]
     },
     "execution_count": 6,
     "metadata": {},
     "output_type": "execute_result"
    }
   ],
   "source": [
    "df2.dtypes"
   ]
  },
  {
   "cell_type": "code",
   "execution_count": 7,
   "metadata": {},
   "outputs": [
    {
     "name": "stdout",
     "output_type": "stream",
     "text": [
      "                   A         B         C         D\n",
      "2013-01-01  0.147133 -0.817674 -0.344967 -0.955441\n",
      "2013-01-02  0.104730 -1.154512  0.499380  1.010028 \n",
      "\n",
      "                   A         B         C         D\n",
      "2013-01-05 -0.426451  1.337920 -1.047702  1.114010\n",
      "2013-01-06 -0.543087 -0.399717  0.234636 -0.395774 \n",
      "\n",
      "DatetimeIndex(['2013-01-01', '2013-01-02', '2013-01-03', '2013-01-04',\n",
      "               '2013-01-05', '2013-01-06'],\n",
      "              dtype='datetime64[ns]', freq='D') \n",
      "\n",
      "Index(['A', 'B', 'C', 'D'], dtype='object') \n",
      "\n"
     ]
    },
    {
     "data": {
      "text/html": [
       "<div>\n",
       "<style scoped>\n",
       "    .dataframe tbody tr th:only-of-type {\n",
       "        vertical-align: middle;\n",
       "    }\n",
       "\n",
       "    .dataframe tbody tr th {\n",
       "        vertical-align: top;\n",
       "    }\n",
       "\n",
       "    .dataframe thead th {\n",
       "        text-align: right;\n",
       "    }\n",
       "</style>\n",
       "<table border=\"1\" class=\"dataframe\">\n",
       "  <thead>\n",
       "    <tr style=\"text-align: right;\">\n",
       "      <th></th>\n",
       "      <th>A</th>\n",
       "      <th>B</th>\n",
       "      <th>C</th>\n",
       "      <th>D</th>\n",
       "    </tr>\n",
       "  </thead>\n",
       "  <tbody>\n",
       "    <tr>\n",
       "      <th>count</th>\n",
       "      <td>6.000000</td>\n",
       "      <td>6.000000</td>\n",
       "      <td>6.000000</td>\n",
       "      <td>6.000000</td>\n",
       "    </tr>\n",
       "    <tr>\n",
       "      <th>mean</th>\n",
       "      <td>-0.358057</td>\n",
       "      <td>-0.297619</td>\n",
       "      <td>0.067584</td>\n",
       "      <td>0.021603</td>\n",
       "    </tr>\n",
       "    <tr>\n",
       "      <th>std</th>\n",
       "      <td>0.390909</td>\n",
       "      <td>0.870847</td>\n",
       "      <td>0.672118</td>\n",
       "      <td>0.898700</td>\n",
       "    </tr>\n",
       "    <tr>\n",
       "      <th>min</th>\n",
       "      <td>-0.730373</td>\n",
       "      <td>-1.154512</td>\n",
       "      <td>-1.047702</td>\n",
       "      <td>-0.955441</td>\n",
       "    </tr>\n",
       "    <tr>\n",
       "      <th>25%</th>\n",
       "      <td>-0.660994</td>\n",
       "      <td>-0.760105</td>\n",
       "      <td>-0.204522</td>\n",
       "      <td>-0.716482</td>\n",
       "    </tr>\n",
       "    <tr>\n",
       "      <th>50%</th>\n",
       "      <td>-0.484769</td>\n",
       "      <td>-0.493558</td>\n",
       "      <td>0.225724</td>\n",
       "      <td>-0.107797</td>\n",
       "    </tr>\n",
       "    <tr>\n",
       "      <th>75%</th>\n",
       "      <td>-0.028065</td>\n",
       "      <td>-0.223177</td>\n",
       "      <td>0.433194</td>\n",
       "      <td>0.802566</td>\n",
       "    </tr>\n",
       "    <tr>\n",
       "      <th>max</th>\n",
       "      <td>0.147133</td>\n",
       "      <td>1.337920</td>\n",
       "      <td>0.847347</td>\n",
       "      <td>1.114010</td>\n",
       "    </tr>\n",
       "  </tbody>\n",
       "</table>\n",
       "</div>"
      ],
      "text/plain": [
       "              A         B         C         D\n",
       "count  6.000000  6.000000  6.000000  6.000000\n",
       "mean  -0.358057 -0.297619  0.067584  0.021603\n",
       "std    0.390909  0.870847  0.672118  0.898700\n",
       "min   -0.730373 -1.154512 -1.047702 -0.955441\n",
       "25%   -0.660994 -0.760105 -0.204522 -0.716482\n",
       "50%   -0.484769 -0.493558  0.225724 -0.107797\n",
       "75%   -0.028065 -0.223177  0.433194  0.802566\n",
       "max    0.147133  1.337920  0.847347  1.114010"
      ]
     },
     "execution_count": 7,
     "metadata": {},
     "output_type": "execute_result"
    }
   ],
   "source": [
    "print(df.head(2),'\\n')\n",
    "\n",
    "print(df.tail(2), '\\n')\n",
    "\n",
    "print(df.index, '\\n')\n",
    "\n",
    "print(df.columns, '\\n')\n",
    "\n",
    "df.describe()\n"
   ]
  },
  {
   "cell_type": "code",
   "execution_count": 8,
   "metadata": {},
   "outputs": [
    {
     "data": {
      "text/html": [
       "<div>\n",
       "<style scoped>\n",
       "    .dataframe tbody tr th:only-of-type {\n",
       "        vertical-align: middle;\n",
       "    }\n",
       "\n",
       "    .dataframe tbody tr th {\n",
       "        vertical-align: top;\n",
       "    }\n",
       "\n",
       "    .dataframe thead th {\n",
       "        text-align: right;\n",
       "    }\n",
       "</style>\n",
       "<table border=\"1\" class=\"dataframe\">\n",
       "  <thead>\n",
       "    <tr style=\"text-align: right;\">\n",
       "      <th></th>\n",
       "      <th>2013-01-01</th>\n",
       "      <th>2013-01-02</th>\n",
       "      <th>2013-01-03</th>\n",
       "      <th>2013-01-04</th>\n",
       "      <th>2013-01-05</th>\n",
       "      <th>2013-01-06</th>\n",
       "    </tr>\n",
       "  </thead>\n",
       "  <tbody>\n",
       "    <tr>\n",
       "      <th>A</th>\n",
       "      <td>0.147133</td>\n",
       "      <td>0.104730</td>\n",
       "      <td>-0.730373</td>\n",
       "      <td>-0.700296</td>\n",
       "      <td>-0.426451</td>\n",
       "      <td>-0.543087</td>\n",
       "    </tr>\n",
       "    <tr>\n",
       "      <th>B</th>\n",
       "      <td>-0.817674</td>\n",
       "      <td>-1.154512</td>\n",
       "      <td>-0.164331</td>\n",
       "      <td>-0.587400</td>\n",
       "      <td>1.337920</td>\n",
       "      <td>-0.399717</td>\n",
       "    </tr>\n",
       "    <tr>\n",
       "      <th>C</th>\n",
       "      <td>-0.344967</td>\n",
       "      <td>0.499380</td>\n",
       "      <td>0.847347</td>\n",
       "      <td>0.216813</td>\n",
       "      <td>-1.047702</td>\n",
       "      <td>0.234636</td>\n",
       "    </tr>\n",
       "    <tr>\n",
       "      <th>D</th>\n",
       "      <td>-0.955441</td>\n",
       "      <td>1.010028</td>\n",
       "      <td>0.180180</td>\n",
       "      <td>-0.823385</td>\n",
       "      <td>1.114010</td>\n",
       "      <td>-0.395774</td>\n",
       "    </tr>\n",
       "  </tbody>\n",
       "</table>\n",
       "</div>"
      ],
      "text/plain": [
       "   2013-01-01  2013-01-02  2013-01-03  2013-01-04  2013-01-05  2013-01-06\n",
       "A    0.147133    0.104730   -0.730373   -0.700296   -0.426451   -0.543087\n",
       "B   -0.817674   -1.154512   -0.164331   -0.587400    1.337920   -0.399717\n",
       "C   -0.344967    0.499380    0.847347    0.216813   -1.047702    0.234636\n",
       "D   -0.955441    1.010028    0.180180   -0.823385    1.114010   -0.395774"
      ]
     },
     "execution_count": 8,
     "metadata": {},
     "output_type": "execute_result"
    }
   ],
   "source": [
    "# 행, 열을 바꾼다. \n",
    "\n",
    "df.T"
   ]
  },
  {
   "cell_type": "code",
   "execution_count": 9,
   "metadata": {},
   "outputs": [
    {
     "data": {
      "text/plain": [
       "array([[ 0.14713273, -0.81767368, -0.34496697, -0.95544058],\n",
       "       [ 0.1047299 , -1.15451249,  0.49937985,  1.0100282 ],\n",
       "       [-0.73037276, -0.16433068,  0.84734669,  0.1801797 ],\n",
       "       [-0.70029631, -0.58739966,  0.21681258, -0.82338522],\n",
       "       [-0.42645097,  1.33791978, -1.04770226,  1.11400961],\n",
       "       [-0.54308684, -0.3997169 ,  0.2346362 , -0.39577431]])"
      ]
     },
     "execution_count": 9,
     "metadata": {},
     "output_type": "execute_result"
    }
   ],
   "source": [
    "df.to_numpy()"
   ]
  },
  {
   "cell_type": "code",
   "execution_count": 10,
   "metadata": {},
   "outputs": [
    {
     "data": {
      "text/html": [
       "<div>\n",
       "<style scoped>\n",
       "    .dataframe tbody tr th:only-of-type {\n",
       "        vertical-align: middle;\n",
       "    }\n",
       "\n",
       "    .dataframe tbody tr th {\n",
       "        vertical-align: top;\n",
       "    }\n",
       "\n",
       "    .dataframe thead th {\n",
       "        text-align: right;\n",
       "    }\n",
       "</style>\n",
       "<table border=\"1\" class=\"dataframe\">\n",
       "  <thead>\n",
       "    <tr style=\"text-align: right;\">\n",
       "      <th></th>\n",
       "    </tr>\n",
       "  </thead>\n",
       "  <tbody>\n",
       "    <tr>\n",
       "      <th>2013-01-01</th>\n",
       "    </tr>\n",
       "    <tr>\n",
       "      <th>2013-01-02</th>\n",
       "    </tr>\n",
       "    <tr>\n",
       "      <th>2013-01-03</th>\n",
       "    </tr>\n",
       "    <tr>\n",
       "      <th>2013-01-04</th>\n",
       "    </tr>\n",
       "    <tr>\n",
       "      <th>2013-01-05</th>\n",
       "    </tr>\n",
       "    <tr>\n",
       "      <th>2013-01-06</th>\n",
       "    </tr>\n",
       "  </tbody>\n",
       "</table>\n",
       "</div>"
      ],
      "text/plain": [
       "Empty DataFrame\n",
       "Columns: []\n",
       "Index: [2013-01-01 00:00:00, 2013-01-02 00:00:00, 2013-01-03 00:00:00, 2013-01-04 00:00:00, 2013-01-05 00:00:00, 2013-01-06 00:00:00]"
      ]
     },
     "execution_count": 10,
     "metadata": {},
     "output_type": "execute_result"
    }
   ],
   "source": [
    "df.select_dtypes(include='int64')"
   ]
  },
  {
   "attachments": {},
   "cell_type": "markdown",
   "metadata": {},
   "source": [
    "value_counts()\n",
    "\n",
    "df.value_counts()   : 1 이상이면 동일한 row 존재  (전부 1이면, 다 값이 다르고, 실재 row 갯수 만큼 나온다.)  \n",
    "series.value_counts() : 1 이상이면 동일한 값 존재"
   ]
  },
  {
   "attachments": {},
   "cell_type": "markdown",
   "metadata": {},
   "source": [
    "### 3. Selection \n",
    "\n",
    ".             : ```df.col```  \n",
    "[]            : ```df[column]```         , * df[row_lable: ] 은 사용하지 말자.  \n",
    "loc (or at)   : df.loc[index_lable,] 은 조건일때만 사용     , ```df.loc[ : , col_label]```    \n",
    "iloc (or iat) : ```df.iloc[몇번째 row]``` , df.iloc[ : , 몇번째 col]     \n"
   ]
  },
  {
   "cell_type": "code",
   "execution_count": 11,
   "metadata": {},
   "outputs": [
    {
     "name": "stdout",
     "output_type": "stream",
     "text": [
      "2013-01-01    0.147133\n",
      "2013-01-02    0.104730\n",
      "2013-01-03   -0.730373\n",
      "2013-01-04   -0.700296\n",
      "2013-01-05   -0.426451\n",
      "2013-01-06   -0.543087\n",
      "Freq: D, Name: A, dtype: float64 \n",
      "\n",
      "2013-01-01    0.147133\n",
      "2013-01-02    0.104730\n",
      "2013-01-03   -0.730373\n",
      "2013-01-04   -0.700296\n",
      "2013-01-05   -0.426451\n",
      "2013-01-06   -0.543087\n",
      "Freq: D, Name: A, dtype: float64 \n",
      "\n",
      "                   A\n",
      "2013-01-01  0.147133\n",
      "2013-01-02  0.104730\n",
      "2013-01-03 -0.730373\n",
      "2013-01-04 -0.700296\n",
      "2013-01-05 -0.426451\n",
      "2013-01-06 -0.543087 \n",
      "\n"
     ]
    },
    {
     "data": {
      "text/html": [
       "<div>\n",
       "<style scoped>\n",
       "    .dataframe tbody tr th:only-of-type {\n",
       "        vertical-align: middle;\n",
       "    }\n",
       "\n",
       "    .dataframe tbody tr th {\n",
       "        vertical-align: top;\n",
       "    }\n",
       "\n",
       "    .dataframe thead th {\n",
       "        text-align: right;\n",
       "    }\n",
       "</style>\n",
       "<table border=\"1\" class=\"dataframe\">\n",
       "  <thead>\n",
       "    <tr style=\"text-align: right;\">\n",
       "      <th></th>\n",
       "      <th>A</th>\n",
       "      <th>C</th>\n",
       "    </tr>\n",
       "  </thead>\n",
       "  <tbody>\n",
       "    <tr>\n",
       "      <th>2013-01-01</th>\n",
       "      <td>0.147133</td>\n",
       "      <td>-0.344967</td>\n",
       "    </tr>\n",
       "    <tr>\n",
       "      <th>2013-01-02</th>\n",
       "      <td>0.104730</td>\n",
       "      <td>0.499380</td>\n",
       "    </tr>\n",
       "    <tr>\n",
       "      <th>2013-01-03</th>\n",
       "      <td>-0.730373</td>\n",
       "      <td>0.847347</td>\n",
       "    </tr>\n",
       "    <tr>\n",
       "      <th>2013-01-04</th>\n",
       "      <td>-0.700296</td>\n",
       "      <td>0.216813</td>\n",
       "    </tr>\n",
       "    <tr>\n",
       "      <th>2013-01-05</th>\n",
       "      <td>-0.426451</td>\n",
       "      <td>-1.047702</td>\n",
       "    </tr>\n",
       "    <tr>\n",
       "      <th>2013-01-06</th>\n",
       "      <td>-0.543087</td>\n",
       "      <td>0.234636</td>\n",
       "    </tr>\n",
       "  </tbody>\n",
       "</table>\n",
       "</div>"
      ],
      "text/plain": [
       "                   A         C\n",
       "2013-01-01  0.147133 -0.344967\n",
       "2013-01-02  0.104730  0.499380\n",
       "2013-01-03 -0.730373  0.847347\n",
       "2013-01-04 -0.700296  0.216813\n",
       "2013-01-05 -0.426451 -1.047702\n",
       "2013-01-06 -0.543087  0.234636"
      ]
     },
     "execution_count": 11,
     "metadata": {},
     "output_type": "execute_result"
    }
   ],
   "source": [
    "print(df['A'],'\\n')\n",
    "print(df[:]['A'],'\\n')              #df.loc[:,'A']\n",
    "# df['2013-01-01':]['A']            # chained indexing ?\n",
    "# df.A\n",
    "\n",
    "## column 을 선택하게 되며 series 로 리턴된다.\n",
    "\n",
    "\n",
    "print(df[['A']],'\\n')               # df 으로 리턴 \n",
    "df[['A','C']]                       # dataFrame 리턴\n",
    "\n",
    "## 2개 이상, 이거나 [[ 'col' ]] 으로 1개 col 을 df 로 리턴\n"
   ]
  },
  {
   "cell_type": "code",
   "execution_count": 39,
   "metadata": {},
   "outputs": [
    {
     "name": "stdout",
     "output_type": "stream",
     "text": [
      "                   A         B         C         D\n",
      "2013-01-01  0.147133 -0.817674 -0.344967 -0.955441\n",
      "2013-01-02  0.104730 -1.154512  0.499380  1.010028 \n",
      "\n",
      "                   A         B         C         D\n",
      "2013-01-01  0.147133 -0.817674 -0.344967 -0.955441\n",
      "2013-01-02  0.104730 -1.154512  0.499380  1.010028 \n",
      "\n"
     ]
    }
   ],
   "source": [
    "# 오류 \n",
    "\n",
    "# print(df[0],'\\n')                # 명시적 인덱스 0 을 찾기때문에 오류\n",
    "# print(df['2013-01-01'],'\\n')     # column 에서 찾기 때문에 오류 \n",
    "print(df['2013-01-01':'2013-01-02'],'\\n')  # 근데 이건 됨... 헐.\n",
    "print(df[:'2013-01-02'],'\\n') "
   ]
  },
  {
   "cell_type": "code",
   "execution_count": 13,
   "metadata": {},
   "outputs": [
    {
     "name": "stdout",
     "output_type": "stream",
     "text": [
      "                   A         B         C         D\n",
      "2013-01-04 -0.700296 -0.587400  0.216813 -0.823385\n",
      "2013-01-05 -0.426451  1.337920 -1.047702  1.114010\n",
      "2013-01-06 -0.543087 -0.399717  0.234636 -0.395774 \n",
      "\n",
      "                   A       B         C         D\n",
      "2013-01-04 -0.700296 -0.5874  0.216813 -0.823385 \n",
      "\n",
      "                   A       B         C         D\n",
      "2013-01-04 -0.700296 -0.5874  0.216813 -0.823385 \n",
      "\n"
     ]
    },
    {
     "data": {
      "text/html": [
       "<div>\n",
       "<style scoped>\n",
       "    .dataframe tbody tr th:only-of-type {\n",
       "        vertical-align: middle;\n",
       "    }\n",
       "\n",
       "    .dataframe tbody tr th {\n",
       "        vertical-align: top;\n",
       "    }\n",
       "\n",
       "    .dataframe thead th {\n",
       "        text-align: right;\n",
       "    }\n",
       "</style>\n",
       "<table border=\"1\" class=\"dataframe\">\n",
       "  <thead>\n",
       "    <tr style=\"text-align: right;\">\n",
       "      <th></th>\n",
       "      <th>A</th>\n",
       "      <th>B</th>\n",
       "      <th>C</th>\n",
       "      <th>D</th>\n",
       "    </tr>\n",
       "  </thead>\n",
       "  <tbody>\n",
       "    <tr>\n",
       "      <th>2013-01-04</th>\n",
       "      <td>-0.700296</td>\n",
       "      <td>-0.587400</td>\n",
       "      <td>0.216813</td>\n",
       "      <td>-0.823385</td>\n",
       "    </tr>\n",
       "    <tr>\n",
       "      <th>2013-01-05</th>\n",
       "      <td>-0.426451</td>\n",
       "      <td>1.337920</td>\n",
       "      <td>-1.047702</td>\n",
       "      <td>1.114010</td>\n",
       "    </tr>\n",
       "    <tr>\n",
       "      <th>2013-01-06</th>\n",
       "      <td>-0.543087</td>\n",
       "      <td>-0.399717</td>\n",
       "      <td>0.234636</td>\n",
       "      <td>-0.395774</td>\n",
       "    </tr>\n",
       "  </tbody>\n",
       "</table>\n",
       "</div>"
      ],
      "text/plain": [
       "                   A         B         C         D\n",
       "2013-01-04 -0.700296 -0.587400  0.216813 -0.823385\n",
       "2013-01-05 -0.426451  1.337920 -1.047702  1.114010\n",
       "2013-01-06 -0.543087 -0.399717  0.234636 -0.395774"
      ]
     },
     "execution_count": 13,
     "metadata": {},
     "output_type": "execute_result"
    }
   ],
   "source": [
    "# df[0:3]\n",
    "# df['2013-01-01':'2013-01-03']\n",
    "print(df['2013-01-04':], '\\n')\n",
    "print(df['2013-01-04':'2013-01-04'], '\\n')     # 3, 4 열, label 은 끝 포함\n",
    "print(df[3:4], '\\n')                           # 3열만, index 은 -1 까지\n",
    "df[3:]\n",
    "\n",
    "# row 을 선택하게 되며, dataFrame 으로 리턴된다"
   ]
  },
  {
   "cell_type": "code",
   "execution_count": 21,
   "metadata": {},
   "outputs": [
    {
     "data": {
      "text/html": [
       "<div>\n",
       "<style scoped>\n",
       "    .dataframe tbody tr th:only-of-type {\n",
       "        vertical-align: middle;\n",
       "    }\n",
       "\n",
       "    .dataframe tbody tr th {\n",
       "        vertical-align: top;\n",
       "    }\n",
       "\n",
       "    .dataframe thead th {\n",
       "        text-align: right;\n",
       "    }\n",
       "</style>\n",
       "<table border=\"1\" class=\"dataframe\">\n",
       "  <thead>\n",
       "    <tr style=\"text-align: right;\">\n",
       "      <th></th>\n",
       "      <th>A</th>\n",
       "      <th>B</th>\n",
       "      <th>C</th>\n",
       "      <th>D</th>\n",
       "      <th>E</th>\n",
       "      <th>F</th>\n",
       "    </tr>\n",
       "  </thead>\n",
       "  <tbody>\n",
       "    <tr>\n",
       "      <th>0</th>\n",
       "      <td>1.0</td>\n",
       "      <td>2013-01-02</td>\n",
       "      <td>1.0</td>\n",
       "      <td>3</td>\n",
       "      <td>test</td>\n",
       "      <td>foo</td>\n",
       "    </tr>\n",
       "    <tr>\n",
       "      <th>1</th>\n",
       "      <td>1.0</td>\n",
       "      <td>2013-01-02</td>\n",
       "      <td>1.0</td>\n",
       "      <td>3</td>\n",
       "      <td>train</td>\n",
       "      <td>foo</td>\n",
       "    </tr>\n",
       "    <tr>\n",
       "      <th>2</th>\n",
       "      <td>1.0</td>\n",
       "      <td>2013-01-02</td>\n",
       "      <td>1.0</td>\n",
       "      <td>3</td>\n",
       "      <td>test</td>\n",
       "      <td>foo</td>\n",
       "    </tr>\n",
       "    <tr>\n",
       "      <th>3</th>\n",
       "      <td>1.0</td>\n",
       "      <td>2013-01-02</td>\n",
       "      <td>1.0</td>\n",
       "      <td>3</td>\n",
       "      <td>train</td>\n",
       "      <td>foo</td>\n",
       "    </tr>\n",
       "  </tbody>\n",
       "</table>\n",
       "</div>"
      ],
      "text/plain": [
       "     A          B    C  D      E    F\n",
       "0  1.0 2013-01-02  1.0  3   test  foo\n",
       "1  1.0 2013-01-02  1.0  3  train  foo\n",
       "2  1.0 2013-01-02  1.0  3   test  foo\n",
       "3  1.0 2013-01-02  1.0  3  train  foo"
      ]
     },
     "execution_count": 21,
     "metadata": {},
     "output_type": "execute_result"
    }
   ],
   "source": [
    "df2"
   ]
  },
  {
   "cell_type": "code",
   "execution_count": 43,
   "metadata": {},
   "outputs": [
    {
     "name": "stdout",
     "output_type": "stream",
     "text": [
      "     A          B    C  D      E    F\n",
      "0  1.0 2013-01-02  1.0  3   test  foo\n",
      "1  1.0 2013-01-02  1.0  3  train  foo\n",
      "2  1.0 2013-01-02  1.0  3   test  foo\n",
      "     A          B    C  D      E    F\n",
      "0  1.0 2013-01-02  1.0  3   test  foo\n",
      "1  1.0 2013-01-02  1.0  3  train  foo\n",
      "2  1.0 2013-01-02  1.0  3   test  foo\n",
      "3  1.0 2013-01-02  1.0  3  train  foo\n"
     ]
    },
    {
     "data": {
      "text/html": [
       "<div>\n",
       "<style scoped>\n",
       "    .dataframe tbody tr th:only-of-type {\n",
       "        vertical-align: middle;\n",
       "    }\n",
       "\n",
       "    .dataframe tbody tr th {\n",
       "        vertical-align: top;\n",
       "    }\n",
       "\n",
       "    .dataframe thead th {\n",
       "        text-align: right;\n",
       "    }\n",
       "</style>\n",
       "<table border=\"1\" class=\"dataframe\">\n",
       "  <thead>\n",
       "    <tr style=\"text-align: right;\">\n",
       "      <th></th>\n",
       "      <th>A</th>\n",
       "      <th>B</th>\n",
       "      <th>C</th>\n",
       "      <th>D</th>\n",
       "      <th>E</th>\n",
       "      <th>F</th>\n",
       "    </tr>\n",
       "  </thead>\n",
       "  <tbody>\n",
       "    <tr>\n",
       "      <th>0</th>\n",
       "      <td>1.0</td>\n",
       "      <td>2013-01-02</td>\n",
       "      <td>1.0</td>\n",
       "      <td>3</td>\n",
       "      <td>test</td>\n",
       "      <td>foo</td>\n",
       "    </tr>\n",
       "    <tr>\n",
       "      <th>1</th>\n",
       "      <td>1.0</td>\n",
       "      <td>2013-01-02</td>\n",
       "      <td>1.0</td>\n",
       "      <td>3</td>\n",
       "      <td>train</td>\n",
       "      <td>foo</td>\n",
       "    </tr>\n",
       "    <tr>\n",
       "      <th>2</th>\n",
       "      <td>1.0</td>\n",
       "      <td>2013-01-02</td>\n",
       "      <td>1.0</td>\n",
       "      <td>3</td>\n",
       "      <td>test</td>\n",
       "      <td>foo</td>\n",
       "    </tr>\n",
       "  </tbody>\n",
       "</table>\n",
       "</div>"
      ],
      "text/plain": [
       "     A          B    C  D      E    F\n",
       "0  1.0 2013-01-02  1.0  3   test  foo\n",
       "1  1.0 2013-01-02  1.0  3  train  foo\n",
       "2  1.0 2013-01-02  1.0  3   test  foo"
      ]
     },
     "execution_count": 43,
     "metadata": {},
     "output_type": "execute_result"
    }
   ],
   "source": [
    "print(df2[:3])  # 이런 형태는 사용하지 말자.  3번째 까지, column 이랑 혼동된다.\n",
    "# df2.iloc[,:3] 3번째 columns 까지 인건지, df2.iloc[:3,] 3번째 row 인건지??\n",
    "\n",
    "print(df2.loc[:3,])  # 이것도 사용하지 말자.  3번 까지 , 3번이 어디있을줄 알고... \n",
    "# 정수형이 아니면 df.loc[:'서울',] 이건 괜찬을듯.\n",
    "\n",
    "df2.iloc[:3,]   # 이걸 사용하자. 3번째 까지"
   ]
  },
  {
   "cell_type": "code",
   "execution_count": 49,
   "metadata": {},
   "outputs": [
    {
     "name": "stdout",
     "output_type": "stream",
     "text": [
      "2    1.0\n",
      "3    1.0\n",
      "Name: A, dtype: float64 \n",
      "\n",
      "     A          B    C  D      E    F\n",
      "2  1.0 2013-01-02  1.0  3   test  foo\n",
      "3  1.0 2013-01-02  1.0  3  train  foo \n",
      "\n"
     ]
    },
    {
     "data": {
      "text/html": [
       "<div>\n",
       "<style scoped>\n",
       "    .dataframe tbody tr th:only-of-type {\n",
       "        vertical-align: middle;\n",
       "    }\n",
       "\n",
       "    .dataframe tbody tr th {\n",
       "        vertical-align: top;\n",
       "    }\n",
       "\n",
       "    .dataframe thead th {\n",
       "        text-align: right;\n",
       "    }\n",
       "</style>\n",
       "<table border=\"1\" class=\"dataframe\">\n",
       "  <thead>\n",
       "    <tr style=\"text-align: right;\">\n",
       "      <th></th>\n",
       "      <th>A</th>\n",
       "      <th>B</th>\n",
       "      <th>C</th>\n",
       "      <th>D</th>\n",
       "      <th>E</th>\n",
       "      <th>F</th>\n",
       "    </tr>\n",
       "  </thead>\n",
       "  <tbody>\n",
       "    <tr>\n",
       "      <th>2</th>\n",
       "      <td>1.0</td>\n",
       "      <td>2013-01-02</td>\n",
       "      <td>1.0</td>\n",
       "      <td>3</td>\n",
       "      <td>test</td>\n",
       "      <td>foo</td>\n",
       "    </tr>\n",
       "  </tbody>\n",
       "</table>\n",
       "</div>"
      ],
      "text/plain": [
       "     A          B    C  D     E    F\n",
       "2  1.0 2013-01-02  1.0  3  test  foo"
      ]
     },
     "execution_count": 49,
     "metadata": {},
     "output_type": "execute_result"
    }
   ],
   "source": [
    "#chained indexing?\n",
    "print(df2[2:4]['A'],'\\n')     # row / col\n",
    "print(df2[2:4][0:4], '\\n')     # row seriese 의 row serise\n",
    "df2[2:4][0:1]                 # 2,3 row 로 만들어진 것에서 다시 0,1 row 첫번째 "
   ]
  },
  {
   "cell_type": "code",
   "execution_count": 50,
   "metadata": {},
   "outputs": [
    {
     "data": {
      "text/plain": [
       "A                    1.0\n",
       "B    2013-01-02 00:00:00\n",
       "C                    1.0\n",
       "D                      3\n",
       "E                   test\n",
       "F                    foo\n",
       "Name: 0, dtype: object"
      ]
     },
     "execution_count": 50,
     "metadata": {},
     "output_type": "execute_result"
    }
   ],
   "source": [
    "df2.iloc[0]     # 암묵적 인덱스 0 번째 선택"
   ]
  },
  {
   "cell_type": "code",
   "execution_count": 51,
   "metadata": {},
   "outputs": [
    {
     "data": {
      "text/plain": [
       "A                    1.0\n",
       "B    2013-01-02 00:00:00\n",
       "C                    1.0\n",
       "D                      3\n",
       "E                   test\n",
       "F                    foo\n",
       "Name: 2, dtype: object"
      ]
     },
     "execution_count": 51,
     "metadata": {},
     "output_type": "execute_result"
    }
   ],
   "source": [
    "df2.loc[2]        # 명시적 인덱스 2 선택"
   ]
  },
  {
   "attachments": {},
   "cell_type": "markdown",
   "metadata": {},
   "source": [
    "Row\n",
    "\n",
    "df.shape[0] = row 행갯수\n",
    "\n",
    "df.iloc[몇번째 row,]  \n",
    "df.loc[row_label,]  ```---> row_label 대신 조건절이 들어가면 조건절은 해당 row 의 index label 을 리턴한다.```\n",
    "\n",
    "으로만 사용\n"
   ]
  },
  {
   "cell_type": "code",
   "execution_count": 52,
   "metadata": {},
   "outputs": [
    {
     "data": {
      "text/plain": [
       "((4, 6), 4, 6)"
      ]
     },
     "execution_count": 52,
     "metadata": {},
     "output_type": "execute_result"
    }
   ],
   "source": [
    "df2.shape, df2.shape[0], df2.shape[1]"
   ]
  },
  {
   "cell_type": "code",
   "execution_count": 53,
   "metadata": {},
   "outputs": [
    {
     "name": "stdout",
     "output_type": "stream",
     "text": [
      "A   -0.259156\n",
      "B    0.750137\n",
      "C    1.109735\n",
      "D   -0.300223\n",
      "Name: 2013-01-01 00:00:00, dtype: float64 \n",
      "\n",
      "                   A         B         C         D\n",
      "2013-01-01 -0.259156  0.750137  1.109735 -0.300223\n",
      "2013-01-02  1.915858  1.213006  0.308316 -0.323373 \n",
      "\n",
      "                   A         B         C         D\n",
      "2013-01-01 -0.259156  0.750137  1.109735 -0.300223\n",
      "2013-01-02  1.915858  1.213006  0.308316 -0.323373 \n",
      "\n",
      "A   -0.259156\n",
      "B    0.750137\n",
      "C    1.109735\n",
      "D   -0.300223\n",
      "Name: 2013-01-01 00:00:00, dtype: float64 \n",
      "\n",
      "                   A         B         C         D\n",
      "2013-01-01 -0.259156  0.750137  1.109735 -0.300223 \n",
      "\n",
      "                   A         B         C         D\n",
      "2013-01-01 -0.259156  0.750137  1.109735 -0.300223\n",
      "2013-01-02  1.915858  1.213006  0.308316 -0.323373 \n",
      "\n"
     ]
    }
   ],
   "source": [
    "# row label (명시적, 몇번) 을 이용해서 row 을 인덱싱\n",
    "# index 가 int 인 경우 df.loc[index_int] 도 가능, \n",
    "print(df.loc['20130101'],'\\n')              # series\n",
    "print(df.loc['20130101':'20130102'],'\\n')   # dataFrame\n",
    "print(df.loc[['20130101','20130102']],'\\n')\n",
    "\n",
    "# row location (암묵적 , 몇번째) index 을 이용해서 row 인덱싱\n",
    "print(df.iloc[0],'\\n')                      # series\n",
    "print(df.iloc[0:1],'\\n')                    #dataFrame\n",
    "print(df.iloc[[0,1]],'\\n')\n",
    "\n"
   ]
  },
  {
   "attachments": {},
   "cell_type": "markdown",
   "metadata": {},
   "source": [
    "Column\n",
    "\n",
    "df.shape[1] = columns 열갯수\n",
    "\n",
    "특정 column 은 몇번째 column 인가? 는 어떻게 찾지?"
   ]
  },
  {
   "cell_type": "code",
   "execution_count": 54,
   "metadata": {},
   "outputs": [
    {
     "name": "stdout",
     "output_type": "stream",
     "text": [
      "2013-01-01   -0.259156\n",
      "2013-01-02    1.915858\n",
      "2013-01-03    1.158846\n",
      "2013-01-04    1.329077\n",
      "2013-01-05   -0.907403\n",
      "2013-01-06    0.499070\n",
      "Freq: D, Name: A, dtype: float64 \n",
      "\n",
      "                   A\n",
      "2013-01-01 -0.259156\n",
      "2013-01-02  1.915858\n",
      "2013-01-03  1.158846\n",
      "2013-01-04  1.329077\n",
      "2013-01-05 -0.907403\n",
      "2013-01-06  0.499070 \n",
      "\n",
      "                   A         B\n",
      "2013-01-01 -0.259156  0.750137\n",
      "2013-01-02  1.915858  1.213006\n",
      "2013-01-03  1.158846  0.584409\n",
      "2013-01-04  1.329077 -0.213619\n",
      "2013-01-05 -0.907403  1.293912\n",
      "2013-01-06  0.499070 -1.455961 \n",
      "\n",
      "                   A         B\n",
      "2013-01-01 -0.259156  0.750137\n",
      "2013-01-02  1.915858  1.213006\n",
      "2013-01-03  1.158846  0.584409\n",
      "2013-01-04  1.329077 -0.213619\n",
      "2013-01-05 -0.907403  1.293912\n",
      "2013-01-06  0.499070 -1.455961 \n",
      "\n"
     ]
    }
   ],
   "source": [
    "\n",
    "# column lable 을 이용해서 column 인덱싱\n",
    "# print(df.loc['A'],'\\n')      # 'A' 을 row 인텍싱으로 생각해서 \n",
    "print(df.loc[:,'A'],'\\n')\n",
    "print(df.loc[:, ['A']],'\\n')\n",
    "print(df.loc[:,'A':'B'],'\\n')\n",
    "print(df.loc[:,['A','B']],'\\n')\n"
   ]
  },
  {
   "cell_type": "code",
   "execution_count": 55,
   "metadata": {},
   "outputs": [
    {
     "data": {
      "text/html": [
       "<div>\n",
       "<style scoped>\n",
       "    .dataframe tbody tr th:only-of-type {\n",
       "        vertical-align: middle;\n",
       "    }\n",
       "\n",
       "    .dataframe tbody tr th {\n",
       "        vertical-align: top;\n",
       "    }\n",
       "\n",
       "    .dataframe thead th {\n",
       "        text-align: right;\n",
       "    }\n",
       "</style>\n",
       "<table border=\"1\" class=\"dataframe\">\n",
       "  <thead>\n",
       "    <tr style=\"text-align: right;\">\n",
       "      <th></th>\n",
       "      <th>A</th>\n",
       "      <th>B</th>\n",
       "      <th>C</th>\n",
       "      <th>D</th>\n",
       "    </tr>\n",
       "  </thead>\n",
       "  <tbody>\n",
       "    <tr>\n",
       "      <th>2013-01-01</th>\n",
       "      <td>-0.259156</td>\n",
       "      <td>0.750137</td>\n",
       "      <td>1.109735</td>\n",
       "      <td>-0.300223</td>\n",
       "    </tr>\n",
       "    <tr>\n",
       "      <th>2013-01-02</th>\n",
       "      <td>1.915858</td>\n",
       "      <td>1.213006</td>\n",
       "      <td>0.308316</td>\n",
       "      <td>-0.323373</td>\n",
       "    </tr>\n",
       "    <tr>\n",
       "      <th>2013-01-03</th>\n",
       "      <td>1.158846</td>\n",
       "      <td>0.584409</td>\n",
       "      <td>-0.131491</td>\n",
       "      <td>-1.040146</td>\n",
       "    </tr>\n",
       "    <tr>\n",
       "      <th>2013-01-04</th>\n",
       "      <td>1.329077</td>\n",
       "      <td>-0.213619</td>\n",
       "      <td>-0.297080</td>\n",
       "      <td>0.573898</td>\n",
       "    </tr>\n",
       "    <tr>\n",
       "      <th>2013-01-05</th>\n",
       "      <td>-0.907403</td>\n",
       "      <td>1.293912</td>\n",
       "      <td>1.334146</td>\n",
       "      <td>1.802053</td>\n",
       "    </tr>\n",
       "  </tbody>\n",
       "</table>\n",
       "</div>"
      ],
      "text/plain": [
       "                   A         B         C         D\n",
       "2013-01-01 -0.259156  0.750137  1.109735 -0.300223\n",
       "2013-01-02  1.915858  1.213006  0.308316 -0.323373\n",
       "2013-01-03  1.158846  0.584409 -0.131491 -1.040146\n",
       "2013-01-04  1.329077 -0.213619 -0.297080  0.573898\n",
       "2013-01-05 -0.907403  1.293912  1.334146  1.802053"
      ]
     },
     "execution_count": 55,
     "metadata": {},
     "output_type": "execute_result"
    }
   ],
   "source": [
    "df.head()"
   ]
  },
  {
   "cell_type": "code",
   "execution_count": 56,
   "metadata": {},
   "outputs": [
    {
     "name": "stdout",
     "output_type": "stream",
     "text": [
      "A   -0.259156\n",
      "B    0.750137\n",
      "C    1.109735\n",
      "D   -0.300223\n",
      "Name: 2013-01-01 00:00:00, dtype: float64 \n",
      "\n",
      "2013-01-01   -0.259156\n",
      "2013-01-02    1.915858\n",
      "2013-01-03    1.158846\n",
      "2013-01-04    1.329077\n",
      "2013-01-05   -0.907403\n",
      "2013-01-06    0.499070\n",
      "Freq: D, Name: A, dtype: float64 \n",
      "\n",
      "                   A\n",
      "2013-01-01 -0.259156\n",
      "2013-01-02  1.915858\n",
      "2013-01-03  1.158846\n",
      "2013-01-04  1.329077\n",
      "2013-01-05 -0.907403\n",
      "2013-01-06  0.499070\n"
     ]
    }
   ],
   "source": [
    "\n",
    "# column locatin (몇번째) index 을 이용해서 column 인덱싱\n",
    "print(df.iloc[0],'\\n')          # 0 을 row 인텍싱으로 생각해서 0번째 location row 을 인텍싱\n",
    "print(df.iloc[:,0],'\\n')        # 0 번째 column series 리턴\n",
    "print(df.iloc[:,[0]])           # 0 번째 column df 리턴\n"
   ]
  },
  {
   "cell_type": "code",
   "execution_count": 57,
   "metadata": {},
   "outputs": [
    {
     "name": "stdout",
     "output_type": "stream",
     "text": [
      "                   A         B\n",
      "2013-01-01 -0.259156  0.750137\n",
      "2013-01-02  1.915858  1.213006\n",
      "2013-01-03  1.158846  0.584409\n",
      "2013-01-04  1.329077 -0.213619\n",
      "2013-01-05 -0.907403  1.293912\n",
      "2013-01-06  0.499070 -1.455961 \n",
      "\n"
     ]
    }
   ],
   "source": [
    "print(df.iloc[:,0:2],'\\n')\n"
   ]
  },
  {
   "cell_type": "code",
   "execution_count": 58,
   "metadata": {},
   "outputs": [
    {
     "name": "stdout",
     "output_type": "stream",
     "text": [
      "                   A         B         D\n",
      "2013-01-01 -0.259156  0.750137 -0.300223\n",
      "2013-01-02  1.915858  1.213006 -0.323373\n",
      "2013-01-03  1.158846  0.584409 -1.040146\n",
      "2013-01-04  1.329077 -0.213619  0.573898\n",
      "2013-01-05 -0.907403  1.293912  1.802053\n",
      "2013-01-06  0.499070 -1.455961  1.120325 \n",
      "\n"
     ]
    }
   ],
   "source": [
    "print(df.iloc[:,[0,1,3]],'\\n')"
   ]
  },
  {
   "attachments": {},
   "cell_type": "markdown",
   "metadata": {},
   "source": [
    "Multi-indxing"
   ]
  },
  {
   "cell_type": "code",
   "execution_count": 59,
   "metadata": {},
   "outputs": [
    {
     "data": {
      "text/html": [
       "<div>\n",
       "<style scoped>\n",
       "    .dataframe tbody tr th:only-of-type {\n",
       "        vertical-align: middle;\n",
       "    }\n",
       "\n",
       "    .dataframe tbody tr th {\n",
       "        vertical-align: top;\n",
       "    }\n",
       "\n",
       "    .dataframe thead th {\n",
       "        text-align: right;\n",
       "    }\n",
       "</style>\n",
       "<table border=\"1\" class=\"dataframe\">\n",
       "  <thead>\n",
       "    <tr style=\"text-align: right;\">\n",
       "      <th></th>\n",
       "      <th>A</th>\n",
       "      <th>B</th>\n",
       "      <th>C</th>\n",
       "      <th>D</th>\n",
       "      <th>E</th>\n",
       "      <th>F</th>\n",
       "    </tr>\n",
       "  </thead>\n",
       "  <tbody>\n",
       "    <tr>\n",
       "      <th>0</th>\n",
       "      <td>1.0</td>\n",
       "      <td>2013-01-02</td>\n",
       "      <td>1.0</td>\n",
       "      <td>3</td>\n",
       "      <td>test</td>\n",
       "      <td>foo</td>\n",
       "    </tr>\n",
       "    <tr>\n",
       "      <th>1</th>\n",
       "      <td>1.0</td>\n",
       "      <td>2013-01-02</td>\n",
       "      <td>1.0</td>\n",
       "      <td>3</td>\n",
       "      <td>train</td>\n",
       "      <td>foo</td>\n",
       "    </tr>\n",
       "    <tr>\n",
       "      <th>2</th>\n",
       "      <td>1.0</td>\n",
       "      <td>2013-01-02</td>\n",
       "      <td>1.0</td>\n",
       "      <td>3</td>\n",
       "      <td>test</td>\n",
       "      <td>foo</td>\n",
       "    </tr>\n",
       "    <tr>\n",
       "      <th>3</th>\n",
       "      <td>1.0</td>\n",
       "      <td>2013-01-02</td>\n",
       "      <td>1.0</td>\n",
       "      <td>3</td>\n",
       "      <td>train</td>\n",
       "      <td>foo</td>\n",
       "    </tr>\n",
       "  </tbody>\n",
       "</table>\n",
       "</div>"
      ],
      "text/plain": [
       "     A          B    C  D      E    F\n",
       "0  1.0 2013-01-02  1.0  3   test  foo\n",
       "1  1.0 2013-01-02  1.0  3  train  foo\n",
       "2  1.0 2013-01-02  1.0  3   test  foo\n",
       "3  1.0 2013-01-02  1.0  3  train  foo"
      ]
     },
     "execution_count": 59,
     "metadata": {},
     "output_type": "execute_result"
    }
   ],
   "source": [
    "df2"
   ]
  },
  {
   "cell_type": "code",
   "execution_count": 146,
   "metadata": {},
   "outputs": [
    {
     "data": {
      "text/plain": [
       "0    1.0\n",
       "1    1.0\n",
       "2    1.0\n",
       "Name: A, dtype: float64"
      ]
     },
     "execution_count": 146,
     "metadata": {},
     "output_type": "execute_result"
    }
   ],
   "source": [
    "df2.loc[0:2,'A']"
   ]
  },
  {
   "cell_type": "code",
   "execution_count": 147,
   "metadata": {},
   "outputs": [
    {
     "name": "stdout",
     "output_type": "stream",
     "text": [
      "     A          B\n",
      "0  1.0 2013-01-02\n",
      "1  1.0 2013-01-02\n",
      "     A          B\n",
      "0  1.0 2013-01-02\n",
      "1  1.0 2013-01-02\n"
     ]
    }
   ],
   "source": [
    "print(df2.loc[[0,1],['A','B']])    # 숫자가 lable 이다 df[[0,1]] 은 오류\n",
    "print(df2.iloc[[0,1],[0,1]])"
   ]
  },
  {
   "cell_type": "code",
   "execution_count": 148,
   "metadata": {},
   "outputs": [
    {
     "data": {
      "text/html": [
       "<div>\n",
       "<style scoped>\n",
       "    .dataframe tbody tr th:only-of-type {\n",
       "        vertical-align: middle;\n",
       "    }\n",
       "\n",
       "    .dataframe tbody tr th {\n",
       "        vertical-align: top;\n",
       "    }\n",
       "\n",
       "    .dataframe thead th {\n",
       "        text-align: right;\n",
       "    }\n",
       "</style>\n",
       "<table border=\"1\" class=\"dataframe\">\n",
       "  <thead>\n",
       "    <tr style=\"text-align: right;\">\n",
       "      <th></th>\n",
       "      <th>A</th>\n",
       "      <th>B</th>\n",
       "      <th>C</th>\n",
       "      <th>D</th>\n",
       "    </tr>\n",
       "  </thead>\n",
       "  <tbody>\n",
       "    <tr>\n",
       "      <th>2013-01-01</th>\n",
       "      <td>0.027218</td>\n",
       "      <td>0.134867</td>\n",
       "      <td>1.290976</td>\n",
       "      <td>-0.587499</td>\n",
       "    </tr>\n",
       "    <tr>\n",
       "      <th>2013-01-02</th>\n",
       "      <td>1.077611</td>\n",
       "      <td>0.406736</td>\n",
       "      <td>0.699013</td>\n",
       "      <td>0.638519</td>\n",
       "    </tr>\n",
       "    <tr>\n",
       "      <th>2013-01-03</th>\n",
       "      <td>0.369045</td>\n",
       "      <td>1.369056</td>\n",
       "      <td>-0.297095</td>\n",
       "      <td>-1.189735</td>\n",
       "    </tr>\n",
       "    <tr>\n",
       "      <th>2013-01-04</th>\n",
       "      <td>-1.109311</td>\n",
       "      <td>0.979234</td>\n",
       "      <td>-1.690049</td>\n",
       "      <td>0.369267</td>\n",
       "    </tr>\n",
       "    <tr>\n",
       "      <th>2013-01-05</th>\n",
       "      <td>0.283622</td>\n",
       "      <td>0.754991</td>\n",
       "      <td>2.050510</td>\n",
       "      <td>-0.092561</td>\n",
       "    </tr>\n",
       "    <tr>\n",
       "      <th>2013-01-06</th>\n",
       "      <td>-0.775822</td>\n",
       "      <td>0.029235</td>\n",
       "      <td>1.319602</td>\n",
       "      <td>-0.497490</td>\n",
       "    </tr>\n",
       "  </tbody>\n",
       "</table>\n",
       "</div>"
      ],
      "text/plain": [
       "                   A         B         C         D\n",
       "2013-01-01  0.027218  0.134867  1.290976 -0.587499\n",
       "2013-01-02  1.077611  0.406736  0.699013  0.638519\n",
       "2013-01-03  0.369045  1.369056 -0.297095 -1.189735\n",
       "2013-01-04 -1.109311  0.979234 -1.690049  0.369267\n",
       "2013-01-05  0.283622  0.754991  2.050510 -0.092561\n",
       "2013-01-06 -0.775822  0.029235  1.319602 -0.497490"
      ]
     },
     "execution_count": 148,
     "metadata": {},
     "output_type": "execute_result"
    }
   ],
   "source": [
    "df"
   ]
  },
  {
   "cell_type": "code",
   "execution_count": 149,
   "metadata": {},
   "outputs": [
    {
     "data": {
      "text/html": [
       "<div>\n",
       "<style scoped>\n",
       "    .dataframe tbody tr th:only-of-type {\n",
       "        vertical-align: middle;\n",
       "    }\n",
       "\n",
       "    .dataframe tbody tr th {\n",
       "        vertical-align: top;\n",
       "    }\n",
       "\n",
       "    .dataframe thead th {\n",
       "        text-align: right;\n",
       "    }\n",
       "</style>\n",
       "<table border=\"1\" class=\"dataframe\">\n",
       "  <thead>\n",
       "    <tr style=\"text-align: right;\">\n",
       "      <th></th>\n",
       "      <th>A</th>\n",
       "      <th>B</th>\n",
       "      <th>C</th>\n",
       "      <th>D</th>\n",
       "    </tr>\n",
       "  </thead>\n",
       "  <tbody>\n",
       "    <tr>\n",
       "      <th>2013-01-06</th>\n",
       "      <td>-0.775822</td>\n",
       "      <td>0.029235</td>\n",
       "      <td>1.319602</td>\n",
       "      <td>-0.49749</td>\n",
       "    </tr>\n",
       "  </tbody>\n",
       "</table>\n",
       "</div>"
      ],
      "text/plain": [
       "                   A         B         C        D\n",
       "2013-01-06 -0.775822  0.029235  1.319602 -0.49749"
      ]
     },
     "execution_count": 149,
     "metadata": {},
     "output_type": "execute_result"
    }
   ],
   "source": [
    "df[2:6][df[2:6].A < 0][1:2]\n",
    "\n",
    "# df 의 2부터 6 row 중 A column  값이 0 보다 작은 두번재 row "
   ]
  },
  {
   "cell_type": "code",
   "execution_count": 150,
   "metadata": {},
   "outputs": [
    {
     "name": "stdout",
     "output_type": "stream",
     "text": [
      "                   A         B         C         D\n",
      "2013-01-03  0.369045  1.369056 -0.297095 -1.189735\n",
      "2013-01-04 -1.109311  0.979234 -1.690049  0.369267\n",
      "2013-01-05  0.283622  0.754991  2.050510 -0.092561\n",
      "2013-01-06 -0.775822  0.029235  1.319602 -0.497490\n",
      "2013-01-03    False\n",
      "2013-01-04     True\n",
      "2013-01-05    False\n",
      "2013-01-06     True\n",
      "Freq: D, Name: A, dtype: bool\n"
     ]
    }
   ],
   "source": [
    "print(df[2:6])\n",
    "print(df[2:6].A<0)\n",
    "\n",
    "# 2개의 index가 같아야 한다. \n",
    "# IndexingError: Unalignable boolean Series provided as indexer (index of the boolean Series and of the indexed object do not match)."
   ]
  },
  {
   "attachments": {},
   "cell_type": "markdown",
   "metadata": {},
   "source": [
    "Boolean indexing\n",
    "\n",
    "```(df[])[(df[]) 조건][column]```  \n",
    "```(df[]).loc[ (df[]) 조건 , column ]```\n",
    "\n",
    "iloc 는 boolean index 을 사용할 수 없다.  \n",
    "iLocation based boolean indexing on an integer type is not available"
   ]
  },
  {
   "cell_type": "code",
   "execution_count": 151,
   "metadata": {},
   "outputs": [
    {
     "data": {
      "text/plain": [
       "2013-01-01    0.134867\n",
       "2013-01-02    0.406736\n",
       "2013-01-03    1.369056\n",
       "2013-01-05    0.754991\n",
       "Name: B, dtype: float64"
      ]
     },
     "execution_count": 151,
     "metadata": {},
     "output_type": "execute_result"
    }
   ],
   "source": [
    "df[df['A']>0]['B']"
   ]
  },
  {
   "cell_type": "code",
   "execution_count": 152,
   "metadata": {},
   "outputs": [
    {
     "data": {
      "text/plain": [
       "2013-01-01    0.134867\n",
       "2013-01-02    0.406736\n",
       "2013-01-03    1.369056\n",
       "2013-01-05    0.754991\n",
       "Name: B, dtype: float64"
      ]
     },
     "execution_count": 152,
     "metadata": {},
     "output_type": "execute_result"
    }
   ],
   "source": [
    "df.loc[df['A']>0,'B']\n"
   ]
  },
  {
   "cell_type": "code",
   "execution_count": 50,
   "metadata": {},
   "outputs": [
    {
     "name": "stdout",
     "output_type": "stream",
     "text": [
      "2013-01-02     True\n",
      "2013-01-03    False\n",
      "Freq: D, Name: A, dtype: bool\n"
     ]
    },
    {
     "data": {
      "text/plain": [
       "2013-01-02     True\n",
       "2013-01-03    False\n",
       "Freq: D, Name: A, dtype: bool"
      ]
     },
     "execution_count": 50,
     "metadata": {},
     "output_type": "execute_result"
    }
   ],
   "source": [
    "print(df[1:3].A > 0)  # 이거 대신\n",
    "df.iloc[1:3].A > 0   # 이걸 사용하자"
   ]
  },
  {
   "cell_type": "code",
   "execution_count": 81,
   "metadata": {},
   "outputs": [
    {
     "data": {
      "text/html": [
       "<div>\n",
       "<style scoped>\n",
       "    .dataframe tbody tr th:only-of-type {\n",
       "        vertical-align: middle;\n",
       "    }\n",
       "\n",
       "    .dataframe tbody tr th {\n",
       "        vertical-align: top;\n",
       "    }\n",
       "\n",
       "    .dataframe thead th {\n",
       "        text-align: right;\n",
       "    }\n",
       "</style>\n",
       "<table border=\"1\" class=\"dataframe\">\n",
       "  <thead>\n",
       "    <tr style=\"text-align: right;\">\n",
       "      <th></th>\n",
       "      <th>A</th>\n",
       "      <th>B</th>\n",
       "      <th>C</th>\n",
       "      <th>D</th>\n",
       "    </tr>\n",
       "  </thead>\n",
       "  <tbody>\n",
       "    <tr>\n",
       "      <th>2013-01-02</th>\n",
       "      <td>0.10473</td>\n",
       "      <td>-1.154512</td>\n",
       "      <td>0.49938</td>\n",
       "      <td>1.010028</td>\n",
       "    </tr>\n",
       "  </tbody>\n",
       "</table>\n",
       "</div>"
      ],
      "text/plain": [
       "                  A         B        C         D\n",
       "2013-01-02  0.10473 -1.154512  0.49938  1.010028"
      ]
     },
     "execution_count": 81,
     "metadata": {},
     "output_type": "execute_result"
    }
   ],
   "source": [
    "df.iloc[1:3][df.iloc[1:3].A >0]"
   ]
  },
  {
   "cell_type": "code",
   "execution_count": 72,
   "metadata": {},
   "outputs": [
    {
     "data": {
      "text/html": [
       "<div>\n",
       "<style scoped>\n",
       "    .dataframe tbody tr th:only-of-type {\n",
       "        vertical-align: middle;\n",
       "    }\n",
       "\n",
       "    .dataframe tbody tr th {\n",
       "        vertical-align: top;\n",
       "    }\n",
       "\n",
       "    .dataframe thead th {\n",
       "        text-align: right;\n",
       "    }\n",
       "</style>\n",
       "<table border=\"1\" class=\"dataframe\">\n",
       "  <thead>\n",
       "    <tr style=\"text-align: right;\">\n",
       "      <th></th>\n",
       "      <th>A</th>\n",
       "      <th>B</th>\n",
       "      <th>C</th>\n",
       "      <th>D</th>\n",
       "    </tr>\n",
       "  </thead>\n",
       "  <tbody>\n",
       "    <tr>\n",
       "      <th>2013-01-02</th>\n",
       "      <td>0.10473</td>\n",
       "      <td>-1.154512</td>\n",
       "      <td>0.49938</td>\n",
       "      <td>1.010028</td>\n",
       "    </tr>\n",
       "  </tbody>\n",
       "</table>\n",
       "</div>"
      ],
      "text/plain": [
       "                  A         B        C         D\n",
       "2013-01-02  0.10473 -1.154512  0.49938  1.010028"
      ]
     },
     "execution_count": 72,
     "metadata": {},
     "output_type": "execute_result"
    }
   ],
   "source": [
    "df[1:3][df[1:3].A > 0]   # chained indexing ???"
   ]
  },
  {
   "cell_type": "code",
   "execution_count": 54,
   "metadata": {},
   "outputs": [
    {
     "data": {
      "text/plain": [
       "2013-01-02     True\n",
       "2013-01-03    False\n",
       "Freq: D, Name: A, dtype: bool"
      ]
     },
     "execution_count": 54,
     "metadata": {},
     "output_type": "execute_result"
    }
   ],
   "source": [
    "# df[df[1:3].A > 0]  은 오류가 난다.  df 의 index 와 df[1:3] 의 index 가 서로 맞지않다.\n",
    "# 조건에 대한 true 값의 index label '2013-01-02' 을 리턴한다.\n",
    "# 따라서 df['2013-01-02'] 가 오류\n",
    "\n",
    "df[1:3].A > 0"
   ]
  },
  {
   "cell_type": "code",
   "execution_count": 101,
   "metadata": {},
   "outputs": [
    {
     "data": {
      "text/plain": [
       "A    0.104730\n",
       "B   -1.154512\n",
       "C    0.499380\n",
       "D    1.010028\n",
       "Name: 2013-01-02 00:00:00, dtype: float64"
      ]
     },
     "execution_count": 101,
     "metadata": {},
     "output_type": "execute_result"
    }
   ],
   "source": [
    "# Unalignable boolean Series provided as indexer (index of the boolean Series and of the indexed object do not match).\n",
    "\n",
    "# df.loc[df[1:3].A > 0] \n",
    "df[1:3].loc[df[1:3].A >0]"
   ]
  },
  {
   "cell_type": "code",
   "execution_count": 86,
   "metadata": {},
   "outputs": [
    {
     "name": "stderr",
     "output_type": "stream",
     "text": [
      "/Users/myoungjunesung/.pyenv/versions/3.7.6/lib/python3.7/site-packages/ipykernel_launcher.py:2: UserWarning: Boolean Series key will be reindexed to match DataFrame index.\n",
      "  \n"
     ]
    },
    {
     "data": {
      "text/plain": [
       "2013-01-02   -1.154512\n",
       "Freq: D, Name: B, dtype: float64"
      ]
     },
     "execution_count": 86,
     "metadata": {},
     "output_type": "execute_result"
    }
   ],
   "source": [
    "df[1:3][df[0:4].A  > 0]['B']"
   ]
  },
  {
   "cell_type": "code",
   "execution_count": 87,
   "metadata": {},
   "outputs": [
    {
     "data": {
      "text/plain": [
       "2013-01-02   -1.154512\n",
       "Freq: D, Name: B, dtype: float64"
      ]
     },
     "execution_count": 87,
     "metadata": {},
     "output_type": "execute_result"
    }
   ],
   "source": [
    "#  UserWarning: Boolean Series key will be reindexed to match DataFrame index. 해결방법 \n",
    "\n",
    "X = df[1:3]\n",
    "X[X[0:4].A > 0]['B']"
   ]
  },
  {
   "cell_type": "code",
   "execution_count": 89,
   "metadata": {},
   "outputs": [
    {
     "data": {
      "text/plain": [
       "2013-01-02   -1.154512\n",
       "Freq: D, Name: B, dtype: float64"
      ]
     },
     "execution_count": 89,
     "metadata": {},
     "output_type": "execute_result"
    }
   ],
   "source": [
    "df[1:3][df[1:3].A > 0]['B']\n",
    "# df1 = df[1:3]\n",
    "# df1.A > 0\n",
    "# df1['B']"
   ]
  },
  {
   "attachments": {},
   "cell_type": "markdown",
   "metadata": {},
   "source": [
    "funtion indexing\n",
    "\n",
    "```\n",
    "pipe()  : Tablewise Function Application\n",
    "apply() : Row or Column-wise Function Application (df 적용, 행/열 전달 )\n",
    "agg() and transform() : Aggregation API\n",
    "map() : Series 에서 값에 적용한다. (Series 적용, 값 전달)\n",
    "applymap() : Applying Elementwise Functions  (df 적용, 값을 전달)\n",
    "\n",
    "cut()    : 조건에 따른 구간별 label\n",
    "where()  : 조건에 따른 값표시 (아닌값은 NaN)\n",
    "```"
   ]
  },
  {
   "cell_type": "code",
   "execution_count": 156,
   "metadata": {},
   "outputs": [
    {
     "data": {
      "text/html": [
       "<div>\n",
       "<style scoped>\n",
       "    .dataframe tbody tr th:only-of-type {\n",
       "        vertical-align: middle;\n",
       "    }\n",
       "\n",
       "    .dataframe tbody tr th {\n",
       "        vertical-align: top;\n",
       "    }\n",
       "\n",
       "    .dataframe thead th {\n",
       "        text-align: right;\n",
       "    }\n",
       "</style>\n",
       "<table border=\"1\" class=\"dataframe\">\n",
       "  <thead>\n",
       "    <tr style=\"text-align: right;\">\n",
       "      <th></th>\n",
       "      <th>A</th>\n",
       "      <th>B</th>\n",
       "      <th>C</th>\n",
       "      <th>D</th>\n",
       "    </tr>\n",
       "  </thead>\n",
       "  <tbody>\n",
       "    <tr>\n",
       "      <th>2013-01-01</th>\n",
       "      <td>0.027218</td>\n",
       "      <td>0.134867</td>\n",
       "      <td>1.290976</td>\n",
       "      <td>-0.587499</td>\n",
       "    </tr>\n",
       "    <tr>\n",
       "      <th>2013-01-02</th>\n",
       "      <td>1.077611</td>\n",
       "      <td>0.406736</td>\n",
       "      <td>0.699013</td>\n",
       "      <td>0.638519</td>\n",
       "    </tr>\n",
       "    <tr>\n",
       "      <th>2013-01-03</th>\n",
       "      <td>0.369045</td>\n",
       "      <td>1.369056</td>\n",
       "      <td>-0.297095</td>\n",
       "      <td>-1.189735</td>\n",
       "    </tr>\n",
       "    <tr>\n",
       "      <th>2013-01-04</th>\n",
       "      <td>-1.109311</td>\n",
       "      <td>0.979234</td>\n",
       "      <td>-1.690049</td>\n",
       "      <td>0.369267</td>\n",
       "    </tr>\n",
       "    <tr>\n",
       "      <th>2013-01-05</th>\n",
       "      <td>0.283622</td>\n",
       "      <td>0.754991</td>\n",
       "      <td>2.050510</td>\n",
       "      <td>-0.092561</td>\n",
       "    </tr>\n",
       "    <tr>\n",
       "      <th>2013-01-06</th>\n",
       "      <td>-0.775822</td>\n",
       "      <td>0.029235</td>\n",
       "      <td>1.319602</td>\n",
       "      <td>-0.497490</td>\n",
       "    </tr>\n",
       "  </tbody>\n",
       "</table>\n",
       "</div>"
      ],
      "text/plain": [
       "                   A         B         C         D\n",
       "2013-01-01  0.027218  0.134867  1.290976 -0.587499\n",
       "2013-01-02  1.077611  0.406736  0.699013  0.638519\n",
       "2013-01-03  0.369045  1.369056 -0.297095 -1.189735\n",
       "2013-01-04 -1.109311  0.979234 -1.690049  0.369267\n",
       "2013-01-05  0.283622  0.754991  2.050510 -0.092561\n",
       "2013-01-06 -0.775822  0.029235  1.319602 -0.497490"
      ]
     },
     "execution_count": 156,
     "metadata": {},
     "output_type": "execute_result"
    }
   ],
   "source": [
    "df"
   ]
  },
  {
   "cell_type": "code",
   "execution_count": 157,
   "metadata": {},
   "outputs": [
    {
     "data": {
      "text/html": [
       "<div>\n",
       "<style scoped>\n",
       "    .dataframe tbody tr th:only-of-type {\n",
       "        vertical-align: middle;\n",
       "    }\n",
       "\n",
       "    .dataframe tbody tr th {\n",
       "        vertical-align: top;\n",
       "    }\n",
       "\n",
       "    .dataframe thead th {\n",
       "        text-align: right;\n",
       "    }\n",
       "</style>\n",
       "<table border=\"1\" class=\"dataframe\">\n",
       "  <thead>\n",
       "    <tr style=\"text-align: right;\">\n",
       "      <th></th>\n",
       "      <th>A</th>\n",
       "      <th>B</th>\n",
       "      <th>C</th>\n",
       "      <th>D</th>\n",
       "      <th>sum_row</th>\n",
       "    </tr>\n",
       "  </thead>\n",
       "  <tbody>\n",
       "    <tr>\n",
       "      <th>2013-01-01</th>\n",
       "      <td>0.027218</td>\n",
       "      <td>0.134867</td>\n",
       "      <td>1.290976</td>\n",
       "      <td>-0.587499</td>\n",
       "      <td>0.865561</td>\n",
       "    </tr>\n",
       "    <tr>\n",
       "      <th>2013-01-02</th>\n",
       "      <td>1.077611</td>\n",
       "      <td>0.406736</td>\n",
       "      <td>0.699013</td>\n",
       "      <td>0.638519</td>\n",
       "      <td>2.821879</td>\n",
       "    </tr>\n",
       "    <tr>\n",
       "      <th>2013-01-03</th>\n",
       "      <td>0.369045</td>\n",
       "      <td>1.369056</td>\n",
       "      <td>-0.297095</td>\n",
       "      <td>-1.189735</td>\n",
       "      <td>0.251272</td>\n",
       "    </tr>\n",
       "    <tr>\n",
       "      <th>2013-01-04</th>\n",
       "      <td>-1.109311</td>\n",
       "      <td>0.979234</td>\n",
       "      <td>-1.690049</td>\n",
       "      <td>0.369267</td>\n",
       "      <td>-1.450859</td>\n",
       "    </tr>\n",
       "    <tr>\n",
       "      <th>2013-01-05</th>\n",
       "      <td>0.283622</td>\n",
       "      <td>0.754991</td>\n",
       "      <td>2.050510</td>\n",
       "      <td>-0.092561</td>\n",
       "      <td>2.996562</td>\n",
       "    </tr>\n",
       "    <tr>\n",
       "      <th>2013-01-06</th>\n",
       "      <td>-0.775822</td>\n",
       "      <td>0.029235</td>\n",
       "      <td>1.319602</td>\n",
       "      <td>-0.497490</td>\n",
       "      <td>0.075525</td>\n",
       "    </tr>\n",
       "  </tbody>\n",
       "</table>\n",
       "</div>"
      ],
      "text/plain": [
       "                   A         B         C         D   sum_row\n",
       "2013-01-01  0.027218  0.134867  1.290976 -0.587499  0.865561\n",
       "2013-01-02  1.077611  0.406736  0.699013  0.638519  2.821879\n",
       "2013-01-03  0.369045  1.369056 -0.297095 -1.189735  0.251272\n",
       "2013-01-04 -1.109311  0.979234 -1.690049  0.369267 -1.450859\n",
       "2013-01-05  0.283622  0.754991  2.050510 -0.092561  2.996562\n",
       "2013-01-06 -0.775822  0.029235  1.319602 -0.497490  0.075525"
      ]
     },
     "execution_count": 157,
     "metadata": {},
     "output_type": "execute_result"
    }
   ],
   "source": [
    "df3 = df.copy()\n",
    "df3['sum_row'] = df3.apply(np.sum,axis=1)    # df3.sum(axis=1) 과 같다.\n",
    "df3"
   ]
  },
  {
   "cell_type": "code",
   "execution_count": 158,
   "metadata": {},
   "outputs": [
    {
     "data": {
      "text/html": [
       "<div>\n",
       "<style scoped>\n",
       "    .dataframe tbody tr th:only-of-type {\n",
       "        vertical-align: middle;\n",
       "    }\n",
       "\n",
       "    .dataframe tbody tr th {\n",
       "        vertical-align: top;\n",
       "    }\n",
       "\n",
       "    .dataframe thead th {\n",
       "        text-align: right;\n",
       "    }\n",
       "</style>\n",
       "<table border=\"1\" class=\"dataframe\">\n",
       "  <thead>\n",
       "    <tr style=\"text-align: right;\">\n",
       "      <th></th>\n",
       "      <th>A</th>\n",
       "      <th>B</th>\n",
       "      <th>C</th>\n",
       "      <th>D</th>\n",
       "      <th>sum_row</th>\n",
       "      <th>result</th>\n",
       "    </tr>\n",
       "  </thead>\n",
       "  <tbody>\n",
       "    <tr>\n",
       "      <th>2013-01-01</th>\n",
       "      <td>0.027218</td>\n",
       "      <td>0.134867</td>\n",
       "      <td>1.290976</td>\n",
       "      <td>-0.587499</td>\n",
       "      <td>0.865561</td>\n",
       "      <td>Over</td>\n",
       "    </tr>\n",
       "    <tr>\n",
       "      <th>2013-01-02</th>\n",
       "      <td>1.077611</td>\n",
       "      <td>0.406736</td>\n",
       "      <td>0.699013</td>\n",
       "      <td>0.638519</td>\n",
       "      <td>2.821879</td>\n",
       "      <td>Over</td>\n",
       "    </tr>\n",
       "    <tr>\n",
       "      <th>2013-01-03</th>\n",
       "      <td>0.369045</td>\n",
       "      <td>1.369056</td>\n",
       "      <td>-0.297095</td>\n",
       "      <td>-1.189735</td>\n",
       "      <td>0.251272</td>\n",
       "      <td>Over</td>\n",
       "    </tr>\n",
       "    <tr>\n",
       "      <th>2013-01-04</th>\n",
       "      <td>-1.109311</td>\n",
       "      <td>0.979234</td>\n",
       "      <td>-1.690049</td>\n",
       "      <td>0.369267</td>\n",
       "      <td>-1.450859</td>\n",
       "      <td>Under</td>\n",
       "    </tr>\n",
       "    <tr>\n",
       "      <th>2013-01-05</th>\n",
       "      <td>0.283622</td>\n",
       "      <td>0.754991</td>\n",
       "      <td>2.050510</td>\n",
       "      <td>-0.092561</td>\n",
       "      <td>2.996562</td>\n",
       "      <td>Over</td>\n",
       "    </tr>\n",
       "    <tr>\n",
       "      <th>2013-01-06</th>\n",
       "      <td>-0.775822</td>\n",
       "      <td>0.029235</td>\n",
       "      <td>1.319602</td>\n",
       "      <td>-0.497490</td>\n",
       "      <td>0.075525</td>\n",
       "      <td>Over</td>\n",
       "    </tr>\n",
       "  </tbody>\n",
       "</table>\n",
       "</div>"
      ],
      "text/plain": [
       "                   A         B         C         D   sum_row result\n",
       "2013-01-01  0.027218  0.134867  1.290976 -0.587499  0.865561   Over\n",
       "2013-01-02  1.077611  0.406736  0.699013  0.638519  2.821879   Over\n",
       "2013-01-03  0.369045  1.369056 -0.297095 -1.189735  0.251272   Over\n",
       "2013-01-04 -1.109311  0.979234 -1.690049  0.369267 -1.450859  Under\n",
       "2013-01-05  0.283622  0.754991  2.050510 -0.092561  2.996562   Over\n",
       "2013-01-06 -0.775822  0.029235  1.319602 -0.497490  0.075525   Over"
      ]
     },
     "execution_count": 158,
     "metadata": {},
     "output_type": "execute_result"
    }
   ],
   "source": [
    "df3[\"result\"] = df3.apply(lambda r: \"Over\" if r.sum_row > 0 else \"Under\", axis=1)\n",
    "df3"
   ]
  },
  {
   "cell_type": "code",
   "execution_count": 159,
   "metadata": {},
   "outputs": [
    {
     "data": {
      "text/plain": [
       "2013-01-01     over\n",
       "2013-01-02     over\n",
       "2013-01-03     over\n",
       "2013-01-04    under\n",
       "2013-01-05     over\n",
       "2013-01-06     over\n",
       "Freq: D, Name: sum_row, dtype: category\n",
       "Categories (2, object): ['under' < 'over']"
      ]
     },
     "execution_count": 159,
     "metadata": {},
     "output_type": "execute_result"
    }
   ],
   "source": [
    "# bins=[-100,0,100]\n",
    "# labels =['under','over']      # bins 보다 하나 적은 갯수 (사이값) 이어야 한다.\n",
    "pd.cut(df3.sum_row, bins=[-100,0,100], labels=['under','over'] )"
   ]
  },
  {
   "cell_type": "code",
   "execution_count": 160,
   "metadata": {},
   "outputs": [
    {
     "data": {
      "text/html": [
       "<div>\n",
       "<style scoped>\n",
       "    .dataframe tbody tr th:only-of-type {\n",
       "        vertical-align: middle;\n",
       "    }\n",
       "\n",
       "    .dataframe tbody tr th {\n",
       "        vertical-align: top;\n",
       "    }\n",
       "\n",
       "    .dataframe thead th {\n",
       "        text-align: right;\n",
       "    }\n",
       "</style>\n",
       "<table border=\"1\" class=\"dataframe\">\n",
       "  <thead>\n",
       "    <tr style=\"text-align: right;\">\n",
       "      <th></th>\n",
       "      <th>A</th>\n",
       "      <th>B</th>\n",
       "      <th>C</th>\n",
       "      <th>D</th>\n",
       "      <th>sum_row</th>\n",
       "    </tr>\n",
       "  </thead>\n",
       "  <tbody>\n",
       "    <tr>\n",
       "      <th>2013-01-01</th>\n",
       "      <td>0.027218</td>\n",
       "      <td>0.134867</td>\n",
       "      <td>1.290976</td>\n",
       "      <td>-0.587499</td>\n",
       "      <td>0.865561</td>\n",
       "    </tr>\n",
       "    <tr>\n",
       "      <th>2013-01-02</th>\n",
       "      <td>1.077611</td>\n",
       "      <td>0.406736</td>\n",
       "      <td>0.699013</td>\n",
       "      <td>0.638519</td>\n",
       "      <td>2.821879</td>\n",
       "    </tr>\n",
       "    <tr>\n",
       "      <th>2013-01-03</th>\n",
       "      <td>0.369045</td>\n",
       "      <td>1.369056</td>\n",
       "      <td>-0.297095</td>\n",
       "      <td>-1.189735</td>\n",
       "      <td>0.251272</td>\n",
       "    </tr>\n",
       "    <tr>\n",
       "      <th>2013-01-04</th>\n",
       "      <td>-1.109311</td>\n",
       "      <td>0.979234</td>\n",
       "      <td>-1.690049</td>\n",
       "      <td>0.369267</td>\n",
       "      <td>-1.450859</td>\n",
       "    </tr>\n",
       "    <tr>\n",
       "      <th>2013-01-05</th>\n",
       "      <td>0.283622</td>\n",
       "      <td>0.754991</td>\n",
       "      <td>2.050510</td>\n",
       "      <td>-0.092561</td>\n",
       "      <td>2.996562</td>\n",
       "    </tr>\n",
       "    <tr>\n",
       "      <th>2013-01-06</th>\n",
       "      <td>-0.775822</td>\n",
       "      <td>0.029235</td>\n",
       "      <td>1.319602</td>\n",
       "      <td>-0.497490</td>\n",
       "      <td>0.075525</td>\n",
       "    </tr>\n",
       "  </tbody>\n",
       "</table>\n",
       "</div>"
      ],
      "text/plain": [
       "                   A         B         C         D   sum_row\n",
       "2013-01-01  0.027218  0.134867  1.290976 -0.587499  0.865561\n",
       "2013-01-02  1.077611  0.406736  0.699013  0.638519  2.821879\n",
       "2013-01-03  0.369045  1.369056 -0.297095 -1.189735  0.251272\n",
       "2013-01-04 -1.109311  0.979234 -1.690049  0.369267 -1.450859\n",
       "2013-01-05  0.283622  0.754991  2.050510 -0.092561  2.996562\n",
       "2013-01-06 -0.775822  0.029235  1.319602 -0.497490  0.075525"
      ]
     },
     "execution_count": 160,
     "metadata": {},
     "output_type": "execute_result"
    }
   ],
   "source": [
    "df3 = df3.drop(columns='result')\n",
    "df3"
   ]
  },
  {
   "cell_type": "code",
   "execution_count": 161,
   "metadata": {},
   "outputs": [
    {
     "data": {
      "text/html": [
       "<div>\n",
       "<style scoped>\n",
       "    .dataframe tbody tr th:only-of-type {\n",
       "        vertical-align: middle;\n",
       "    }\n",
       "\n",
       "    .dataframe tbody tr th {\n",
       "        vertical-align: top;\n",
       "    }\n",
       "\n",
       "    .dataframe thead th {\n",
       "        text-align: right;\n",
       "    }\n",
       "</style>\n",
       "<table border=\"1\" class=\"dataframe\">\n",
       "  <thead>\n",
       "    <tr style=\"text-align: right;\">\n",
       "      <th></th>\n",
       "      <th>A</th>\n",
       "      <th>B</th>\n",
       "      <th>C</th>\n",
       "      <th>D</th>\n",
       "      <th>sum_row</th>\n",
       "    </tr>\n",
       "  </thead>\n",
       "  <tbody>\n",
       "    <tr>\n",
       "      <th>2013-01-01</th>\n",
       "      <td>0.027218</td>\n",
       "      <td>0.134867</td>\n",
       "      <td>1.290976</td>\n",
       "      <td>-0.587499</td>\n",
       "      <td>0.865561</td>\n",
       "    </tr>\n",
       "    <tr>\n",
       "      <th>2013-01-02</th>\n",
       "      <td>1.077611</td>\n",
       "      <td>0.406736</td>\n",
       "      <td>0.699013</td>\n",
       "      <td>0.638519</td>\n",
       "      <td>2.821879</td>\n",
       "    </tr>\n",
       "    <tr>\n",
       "      <th>2013-01-03</th>\n",
       "      <td>0.369045</td>\n",
       "      <td>1.369056</td>\n",
       "      <td>-0.297095</td>\n",
       "      <td>-1.189735</td>\n",
       "      <td>0.251272</td>\n",
       "    </tr>\n",
       "    <tr>\n",
       "      <th>2013-01-04</th>\n",
       "      <td>NaN</td>\n",
       "      <td>NaN</td>\n",
       "      <td>NaN</td>\n",
       "      <td>NaN</td>\n",
       "      <td>NaN</td>\n",
       "    </tr>\n",
       "    <tr>\n",
       "      <th>2013-01-05</th>\n",
       "      <td>0.283622</td>\n",
       "      <td>0.754991</td>\n",
       "      <td>2.050510</td>\n",
       "      <td>-0.092561</td>\n",
       "      <td>2.996562</td>\n",
       "    </tr>\n",
       "    <tr>\n",
       "      <th>2013-01-06</th>\n",
       "      <td>-0.775822</td>\n",
       "      <td>0.029235</td>\n",
       "      <td>1.319602</td>\n",
       "      <td>-0.497490</td>\n",
       "      <td>0.075525</td>\n",
       "    </tr>\n",
       "  </tbody>\n",
       "</table>\n",
       "</div>"
      ],
      "text/plain": [
       "                   A         B         C         D   sum_row\n",
       "2013-01-01  0.027218  0.134867  1.290976 -0.587499  0.865561\n",
       "2013-01-02  1.077611  0.406736  0.699013  0.638519  2.821879\n",
       "2013-01-03  0.369045  1.369056 -0.297095 -1.189735  0.251272\n",
       "2013-01-04       NaN       NaN       NaN       NaN       NaN\n",
       "2013-01-05  0.283622  0.754991  2.050510 -0.092561  2.996562\n",
       "2013-01-06 -0.775822  0.029235  1.319602 -0.497490  0.075525"
      ]
     },
     "execution_count": 161,
     "metadata": {},
     "output_type": "execute_result"
    }
   ],
   "source": [
    "df3.where((df3.sum_row>0) & (df3.B>0))    # boolean 으로 리턴하지 않고, 값을 리턴 하다. dropna() 을 붙일수 있다."
   ]
  },
  {
   "cell_type": "code",
   "execution_count": 162,
   "metadata": {},
   "outputs": [
    {
     "data": {
      "text/html": [
       "<div>\n",
       "<style scoped>\n",
       "    .dataframe tbody tr th:only-of-type {\n",
       "        vertical-align: middle;\n",
       "    }\n",
       "\n",
       "    .dataframe tbody tr th {\n",
       "        vertical-align: top;\n",
       "    }\n",
       "\n",
       "    .dataframe thead th {\n",
       "        text-align: right;\n",
       "    }\n",
       "</style>\n",
       "<table border=\"1\" class=\"dataframe\">\n",
       "  <thead>\n",
       "    <tr style=\"text-align: right;\">\n",
       "      <th></th>\n",
       "      <th>A</th>\n",
       "      <th>B</th>\n",
       "      <th>C</th>\n",
       "      <th>D</th>\n",
       "      <th>sum_row</th>\n",
       "    </tr>\n",
       "  </thead>\n",
       "  <tbody>\n",
       "    <tr>\n",
       "      <th>2013-01-01</th>\n",
       "      <td>0.027218</td>\n",
       "      <td>0.134867</td>\n",
       "      <td>1.290976</td>\n",
       "      <td>-0.587499</td>\n",
       "      <td>0.865561</td>\n",
       "    </tr>\n",
       "    <tr>\n",
       "      <th>2013-01-02</th>\n",
       "      <td>1.077611</td>\n",
       "      <td>0.406736</td>\n",
       "      <td>0.699013</td>\n",
       "      <td>0.638519</td>\n",
       "      <td>2.821879</td>\n",
       "    </tr>\n",
       "    <tr>\n",
       "      <th>2013-01-03</th>\n",
       "      <td>0.369045</td>\n",
       "      <td>1.369056</td>\n",
       "      <td>-0.297095</td>\n",
       "      <td>-1.189735</td>\n",
       "      <td>0.251272</td>\n",
       "    </tr>\n",
       "    <tr>\n",
       "      <th>2013-01-05</th>\n",
       "      <td>0.283622</td>\n",
       "      <td>0.754991</td>\n",
       "      <td>2.050510</td>\n",
       "      <td>-0.092561</td>\n",
       "      <td>2.996562</td>\n",
       "    </tr>\n",
       "    <tr>\n",
       "      <th>2013-01-06</th>\n",
       "      <td>-0.775822</td>\n",
       "      <td>0.029235</td>\n",
       "      <td>1.319602</td>\n",
       "      <td>-0.497490</td>\n",
       "      <td>0.075525</td>\n",
       "    </tr>\n",
       "  </tbody>\n",
       "</table>\n",
       "</div>"
      ],
      "text/plain": [
       "                   A         B         C         D   sum_row\n",
       "2013-01-01  0.027218  0.134867  1.290976 -0.587499  0.865561\n",
       "2013-01-02  1.077611  0.406736  0.699013  0.638519  2.821879\n",
       "2013-01-03  0.369045  1.369056 -0.297095 -1.189735  0.251272\n",
       "2013-01-05  0.283622  0.754991  2.050510 -0.092561  2.996562\n",
       "2013-01-06 -0.775822  0.029235  1.319602 -0.497490  0.075525"
      ]
     },
     "execution_count": 162,
     "metadata": {},
     "output_type": "execute_result"
    }
   ],
   "source": [
    "df3[(df3.sum_row>0) & (df3.B>0)]\n",
    "\n",
    "# dropna() 까지 한 결과"
   ]
  },
  {
   "attachments": {},
   "cell_type": "markdown",
   "metadata": {},
   "source": [
    "### 4. Missing \n",
    "\n",
    "``` \n",
    "dropna()\n",
    "fillna()\n",
    "notnull()\n",
    "notna()   \n",
    "isnull()\n",
    "isna() \n",
    "```"
   ]
  },
  {
   "cell_type": "code",
   "execution_count": 163,
   "metadata": {},
   "outputs": [
    {
     "data": {
      "text/html": [
       "<div>\n",
       "<style scoped>\n",
       "    .dataframe tbody tr th:only-of-type {\n",
       "        vertical-align: middle;\n",
       "    }\n",
       "\n",
       "    .dataframe tbody tr th {\n",
       "        vertical-align: top;\n",
       "    }\n",
       "\n",
       "    .dataframe thead th {\n",
       "        text-align: right;\n",
       "    }\n",
       "</style>\n",
       "<table border=\"1\" class=\"dataframe\">\n",
       "  <thead>\n",
       "    <tr style=\"text-align: right;\">\n",
       "      <th></th>\n",
       "      <th>A</th>\n",
       "      <th>B</th>\n",
       "      <th>C</th>\n",
       "      <th>D</th>\n",
       "      <th>sum_row</th>\n",
       "    </tr>\n",
       "  </thead>\n",
       "  <tbody>\n",
       "    <tr>\n",
       "      <th>2013-01-01</th>\n",
       "      <td>0.027218</td>\n",
       "      <td>0.134867</td>\n",
       "      <td>1.290976</td>\n",
       "      <td>-0.587499</td>\n",
       "      <td>0.865561</td>\n",
       "    </tr>\n",
       "    <tr>\n",
       "      <th>2013-01-02</th>\n",
       "      <td>1.077611</td>\n",
       "      <td>0.406736</td>\n",
       "      <td>0.699013</td>\n",
       "      <td>0.638519</td>\n",
       "      <td>2.821879</td>\n",
       "    </tr>\n",
       "    <tr>\n",
       "      <th>2013-01-03</th>\n",
       "      <td>0.369045</td>\n",
       "      <td>1.369056</td>\n",
       "      <td>-0.297095</td>\n",
       "      <td>-1.189735</td>\n",
       "      <td>0.251272</td>\n",
       "    </tr>\n",
       "    <tr>\n",
       "      <th>2013-01-04</th>\n",
       "      <td>0.000000</td>\n",
       "      <td>0.000000</td>\n",
       "      <td>0.000000</td>\n",
       "      <td>0.000000</td>\n",
       "      <td>0.000000</td>\n",
       "    </tr>\n",
       "    <tr>\n",
       "      <th>2013-01-05</th>\n",
       "      <td>0.283622</td>\n",
       "      <td>0.754991</td>\n",
       "      <td>2.050510</td>\n",
       "      <td>-0.092561</td>\n",
       "      <td>2.996562</td>\n",
       "    </tr>\n",
       "    <tr>\n",
       "      <th>2013-01-06</th>\n",
       "      <td>-0.775822</td>\n",
       "      <td>0.029235</td>\n",
       "      <td>1.319602</td>\n",
       "      <td>-0.497490</td>\n",
       "      <td>0.075525</td>\n",
       "    </tr>\n",
       "  </tbody>\n",
       "</table>\n",
       "</div>"
      ],
      "text/plain": [
       "                   A         B         C         D   sum_row\n",
       "2013-01-01  0.027218  0.134867  1.290976 -0.587499  0.865561\n",
       "2013-01-02  1.077611  0.406736  0.699013  0.638519  2.821879\n",
       "2013-01-03  0.369045  1.369056 -0.297095 -1.189735  0.251272\n",
       "2013-01-04  0.000000  0.000000  0.000000  0.000000  0.000000\n",
       "2013-01-05  0.283622  0.754991  2.050510 -0.092561  2.996562\n",
       "2013-01-06 -0.775822  0.029235  1.319602 -0.497490  0.075525"
      ]
     },
     "execution_count": 163,
     "metadata": {},
     "output_type": "execute_result"
    }
   ],
   "source": [
    "df3.where((df3.sum_row>0) & (df3.B>0)).fillna(0)\n"
   ]
  },
  {
   "attachments": {},
   "cell_type": "markdown",
   "metadata": {},
   "source": [
    "### 5. Operations\n",
    "\n",
    "```\n",
    "sum, mean, std, var\n",
    "sort, count\n",
    "apply\n",
    "str\n",
    "```"
   ]
  },
  {
   "cell_type": "code",
   "execution_count": 164,
   "metadata": {},
   "outputs": [
    {
     "name": "stdout",
     "output_type": "stream",
     "text": [
      "                   A         B         C         D\n",
      "2013-01-01  0.027218  0.134867  1.290976 -0.587499\n",
      "2013-01-02  1.077611  0.406736  0.699013  0.638519\n",
      "2013-01-03  0.369045  1.369056 -0.297095 -1.189735\n",
      "2013-01-04 -1.109311  0.979234 -1.690049  0.369267\n",
      "2013-01-05  0.283622  0.754991  2.050510 -0.092561\n",
      "2013-01-06 -0.775822  0.029235  1.319602 -0.497490\n",
      "                   A         B         C         D\n",
      "2013-01-04 -1.109311  0.979234 -1.690049  0.369267\n",
      "2013-01-06 -0.775822  0.029235  1.319602 -0.497490\n",
      "2013-01-01  0.027218  0.134867  1.290976 -0.587499\n",
      "2013-01-05  0.283622  0.754991  2.050510 -0.092561\n",
      "2013-01-03  0.369045  1.369056 -0.297095 -1.189735\n",
      "2013-01-02  1.077611  0.406736  0.699013  0.638519 \n",
      "\n",
      "                   A         B         C         D\n",
      "2013-01-02  1.077611  0.406736  0.699013  0.638519\n",
      "2013-01-03  0.369045  1.369056 -0.297095 -1.189735\n",
      "2013-01-05  0.283622  0.754991  2.050510 -0.092561\n",
      "2013-01-01  0.027218  0.134867  1.290976 -0.587499\n",
      "2013-01-06 -0.775822  0.029235  1.319602 -0.497490\n",
      "2013-01-04 -1.109311  0.979234 -1.690049  0.369267\n"
     ]
    }
   ],
   "source": [
    "print(df.sort_index())\n",
    "print(df.sort_values('A'),'\\n')\n",
    "# df.sort_values(by='A')\n",
    "print(df.sort_values(by= ['A','B'],ascending=False))"
   ]
  },
  {
   "cell_type": "code",
   "execution_count": 165,
   "metadata": {},
   "outputs": [
    {
     "name": "stdout",
     "output_type": "stream",
     "text": [
      "A   -0.127638\n",
      "B    3.674119\n",
      "C    3.372957\n",
      "D   -1.359498\n",
      "dtype: float64\n",
      "2013-01-01    0.865561\n",
      "2013-01-02    2.821879\n",
      "2013-01-03    0.251272\n",
      "2013-01-04   -1.450859\n",
      "2013-01-05    2.996562\n",
      "2013-01-06    0.075525\n",
      "Freq: D, dtype: float64\n"
     ]
    }
   ],
   "source": [
    "print(df.sum())          # row 들의 합 (col : 합) axis=0 디폴트\n",
    "print(df.sum(axis=1))    # column 들의 함 (row : 합) axis=1"
   ]
  },
  {
   "attachments": {},
   "cell_type": "markdown",
   "metadata": {},
   "source": [
    "### 6. Merging\n",
    "\n",
    "```\n",
    "concat\n",
    "join\n",
    "merge\n",
    "```"
   ]
  },
  {
   "attachments": {},
   "cell_type": "markdown",
   "metadata": {},
   "source": [
    "### 7. Grouping\n",
    "\n",
    "```\n",
    "Splitting the data into groups based on some criteria\n",
    "Applying a function to each group independently\n",
    "Combining the results into a data structure\n",
    "\n",
    "```"
   ]
  },
  {
   "cell_type": "code",
   "execution_count": 108,
   "metadata": {},
   "outputs": [
    {
     "data": {
      "text/html": [
       "<div>\n",
       "<style scoped>\n",
       "    .dataframe tbody tr th:only-of-type {\n",
       "        vertical-align: middle;\n",
       "    }\n",
       "\n",
       "    .dataframe tbody tr th {\n",
       "        vertical-align: top;\n",
       "    }\n",
       "\n",
       "    .dataframe thead th {\n",
       "        text-align: right;\n",
       "    }\n",
       "</style>\n",
       "<table border=\"1\" class=\"dataframe\">\n",
       "  <thead>\n",
       "    <tr style=\"text-align: right;\">\n",
       "      <th></th>\n",
       "      <th>A</th>\n",
       "      <th>B</th>\n",
       "      <th>C</th>\n",
       "      <th>D</th>\n",
       "    </tr>\n",
       "  </thead>\n",
       "  <tbody>\n",
       "    <tr>\n",
       "      <th>0</th>\n",
       "      <td>foo</td>\n",
       "      <td>one</td>\n",
       "      <td>0.211901</td>\n",
       "      <td>1.420478</td>\n",
       "    </tr>\n",
       "    <tr>\n",
       "      <th>1</th>\n",
       "      <td>bar</td>\n",
       "      <td>one</td>\n",
       "      <td>-0.179244</td>\n",
       "      <td>-0.374105</td>\n",
       "    </tr>\n",
       "    <tr>\n",
       "      <th>2</th>\n",
       "      <td>foo</td>\n",
       "      <td>two</td>\n",
       "      <td>-0.968690</td>\n",
       "      <td>-0.252017</td>\n",
       "    </tr>\n",
       "    <tr>\n",
       "      <th>3</th>\n",
       "      <td>bar</td>\n",
       "      <td>three</td>\n",
       "      <td>1.082912</td>\n",
       "      <td>0.954083</td>\n",
       "    </tr>\n",
       "    <tr>\n",
       "      <th>4</th>\n",
       "      <td>foo</td>\n",
       "      <td>two</td>\n",
       "      <td>0.559591</td>\n",
       "      <td>0.851646</td>\n",
       "    </tr>\n",
       "    <tr>\n",
       "      <th>5</th>\n",
       "      <td>bar</td>\n",
       "      <td>two</td>\n",
       "      <td>-1.144417</td>\n",
       "      <td>0.868136</td>\n",
       "    </tr>\n",
       "    <tr>\n",
       "      <th>6</th>\n",
       "      <td>foo</td>\n",
       "      <td>one</td>\n",
       "      <td>0.090689</td>\n",
       "      <td>1.935267</td>\n",
       "    </tr>\n",
       "    <tr>\n",
       "      <th>7</th>\n",
       "      <td>foo</td>\n",
       "      <td>three</td>\n",
       "      <td>-1.586886</td>\n",
       "      <td>0.209951</td>\n",
       "    </tr>\n",
       "  </tbody>\n",
       "</table>\n",
       "</div>"
      ],
      "text/plain": [
       "     A      B         C         D\n",
       "0  foo    one  0.211901  1.420478\n",
       "1  bar    one -0.179244 -0.374105\n",
       "2  foo    two -0.968690 -0.252017\n",
       "3  bar  three  1.082912  0.954083\n",
       "4  foo    two  0.559591  0.851646\n",
       "5  bar    two -1.144417  0.868136\n",
       "6  foo    one  0.090689  1.935267\n",
       "7  foo  three -1.586886  0.209951"
      ]
     },
     "execution_count": 108,
     "metadata": {},
     "output_type": "execute_result"
    }
   ],
   "source": [
    "df_g = pd.DataFrame(\n",
    "    {\n",
    "        \"A\": [\"foo\", \"bar\", \"foo\", \"bar\", \"foo\", \"bar\", \"foo\", \"foo\"],\n",
    "        \"B\": [\"one\", \"one\", \"two\", \"three\", \"two\", \"two\", \"one\", \"three\"],\n",
    "        \"C\": np.random.randn(8),\n",
    "        \"D\": np.random.randn(8),\n",
    "    }\n",
    ")\n",
    "\n",
    "df_g"
   ]
  },
  {
   "attachments": {},
   "cell_type": "markdown",
   "metadata": {},
   "source": [
    "df.groupby().size()"
   ]
  },
  {
   "cell_type": "code",
   "execution_count": 110,
   "metadata": {},
   "outputs": [
    {
     "data": {
      "text/plain": [
       "A    B    \n",
       "bar  one      1\n",
       "     three    1\n",
       "     two      1\n",
       "foo  one      2\n",
       "     three    1\n",
       "     two      2\n",
       "dtype: int64"
      ]
     },
     "execution_count": 110,
     "metadata": {},
     "output_type": "execute_result"
    }
   ],
   "source": [
    "df_g.groupby(['A','B']).size()"
   ]
  },
  {
   "attachments": {},
   "cell_type": "markdown",
   "metadata": {},
   "source": [
    "value_counts()"
   ]
  },
  {
   "cell_type": "code",
   "execution_count": 175,
   "metadata": {},
   "outputs": [
    {
     "data": {
      "text/plain": [
       "A    B      C        \n",
       "bar  one     0.332875    1\n",
       "     three   0.269852    1\n",
       "     two     0.881340    1\n",
       "foo  one    -0.823885    1\n",
       "             0.162408    1\n",
       "     three   0.049036    1\n",
       "     two    -1.470511    1\n",
       "             1.209252    1\n",
       "Name: C, dtype: int64"
      ]
     },
     "execution_count": 175,
     "metadata": {},
     "output_type": "execute_result"
    }
   ],
   "source": [
    "df_g.groupby(['A','B'])['C'].value_counts()\n",
    "\n",
    "# df_g.groupby(['A','B'])['C'].value_counts().reset_index() 는 오류발생. ('C' 가 중복된다. )\n",
    "# new_df_g = df_g.groupby(['A','B'])['C'].value_counts()\n",
    "# new_df_g.name = C_count\n",
    "# new_df_g.reset_index()\n"
   ]
  },
  {
   "cell_type": "code",
   "execution_count": 109,
   "metadata": {},
   "outputs": [
    {
     "data": {
      "text/html": [
       "<div>\n",
       "<style scoped>\n",
       "    .dataframe tbody tr th:only-of-type {\n",
       "        vertical-align: middle;\n",
       "    }\n",
       "\n",
       "    .dataframe tbody tr th {\n",
       "        vertical-align: top;\n",
       "    }\n",
       "\n",
       "    .dataframe thead th {\n",
       "        text-align: right;\n",
       "    }\n",
       "</style>\n",
       "<table border=\"1\" class=\"dataframe\">\n",
       "  <thead>\n",
       "    <tr style=\"text-align: right;\">\n",
       "      <th></th>\n",
       "      <th>A</th>\n",
       "      <th>B</th>\n",
       "      <th>C</th>\n",
       "    </tr>\n",
       "  </thead>\n",
       "  <tbody>\n",
       "    <tr>\n",
       "      <th>0</th>\n",
       "      <td>bar</td>\n",
       "      <td>one</td>\n",
       "      <td>1.429825</td>\n",
       "    </tr>\n",
       "    <tr>\n",
       "      <th>1</th>\n",
       "      <td>bar</td>\n",
       "      <td>three</td>\n",
       "      <td>0.137487</td>\n",
       "    </tr>\n",
       "    <tr>\n",
       "      <th>2</th>\n",
       "      <td>bar</td>\n",
       "      <td>two</td>\n",
       "      <td>-0.089975</td>\n",
       "    </tr>\n",
       "    <tr>\n",
       "      <th>3</th>\n",
       "      <td>foo</td>\n",
       "      <td>one</td>\n",
       "      <td>-0.245829</td>\n",
       "    </tr>\n",
       "    <tr>\n",
       "      <th>4</th>\n",
       "      <td>foo</td>\n",
       "      <td>three</td>\n",
       "      <td>-1.093053</td>\n",
       "    </tr>\n",
       "    <tr>\n",
       "      <th>5</th>\n",
       "      <td>foo</td>\n",
       "      <td>two</td>\n",
       "      <td>2.171548</td>\n",
       "    </tr>\n",
       "  </tbody>\n",
       "</table>\n",
       "</div>"
      ],
      "text/plain": [
       "     A      B         C\n",
       "0  bar    one  1.429825\n",
       "1  bar  three  0.137487\n",
       "2  bar    two -0.089975\n",
       "3  foo    one -0.245829\n",
       "4  foo  three -1.093053\n",
       "5  foo    two  2.171548"
      ]
     },
     "execution_count": 109,
     "metadata": {},
     "output_type": "execute_result"
    }
   ],
   "source": [
    "df_g.groupby(['A','B'])[['C']].sum().reset_index()"
   ]
  },
  {
   "attachments": {},
   "cell_type": "markdown",
   "metadata": {},
   "source": [
    "### 8. Reshaping\n",
    "\n",
    "```\n",
    "reshpae(-1)\n",
    "stack / unstack \n",
    "pivot table\n",
    "```"
   ]
  },
  {
   "cell_type": "code",
   "execution_count": 48,
   "metadata": {},
   "outputs": [
    {
     "data": {
      "text/html": [
       "<div>\n",
       "<style scoped>\n",
       "    .dataframe tbody tr th:only-of-type {\n",
       "        vertical-align: middle;\n",
       "    }\n",
       "\n",
       "    .dataframe tbody tr th {\n",
       "        vertical-align: top;\n",
       "    }\n",
       "\n",
       "    .dataframe thead th {\n",
       "        text-align: right;\n",
       "    }\n",
       "</style>\n",
       "<table border=\"1\" class=\"dataframe\">\n",
       "  <thead>\n",
       "    <tr style=\"text-align: right;\">\n",
       "      <th></th>\n",
       "      <th></th>\n",
       "      <th>C</th>\n",
       "    </tr>\n",
       "    <tr>\n",
       "      <th>A</th>\n",
       "      <th>B</th>\n",
       "      <th></th>\n",
       "    </tr>\n",
       "  </thead>\n",
       "  <tbody>\n",
       "    <tr>\n",
       "      <th>foo</th>\n",
       "      <th>one</th>\n",
       "      <td>0.091632</td>\n",
       "    </tr>\n",
       "    <tr>\n",
       "      <th>bar</th>\n",
       "      <th>one</th>\n",
       "      <td>-0.821188</td>\n",
       "    </tr>\n",
       "    <tr>\n",
       "      <th>foo</th>\n",
       "      <th>two</th>\n",
       "      <td>-0.142519</td>\n",
       "    </tr>\n",
       "    <tr>\n",
       "      <th>bar</th>\n",
       "      <th>three</th>\n",
       "      <td>-2.197673</td>\n",
       "    </tr>\n",
       "    <tr>\n",
       "      <th>foo</th>\n",
       "      <th>two</th>\n",
       "      <td>1.761740</td>\n",
       "    </tr>\n",
       "    <tr>\n",
       "      <th>bar</th>\n",
       "      <th>two</th>\n",
       "      <td>0.456469</td>\n",
       "    </tr>\n",
       "    <tr>\n",
       "      <th rowspan=\"2\" valign=\"top\">foo</th>\n",
       "      <th>one</th>\n",
       "      <td>-0.480759</td>\n",
       "    </tr>\n",
       "    <tr>\n",
       "      <th>three</th>\n",
       "      <td>1.980207</td>\n",
       "    </tr>\n",
       "  </tbody>\n",
       "</table>\n",
       "</div>"
      ],
      "text/plain": [
       "                  C\n",
       "A   B              \n",
       "foo one    0.091632\n",
       "bar one   -0.821188\n",
       "foo two   -0.142519\n",
       "bar three -2.197673\n",
       "foo two    1.761740\n",
       "bar two    0.456469\n",
       "foo one   -0.480759\n",
       "    three  1.980207"
      ]
     },
     "execution_count": 48,
     "metadata": {},
     "output_type": "execute_result"
    }
   ],
   "source": [
    "df_g.set_index(['A','B'])[['C']]#.unstack()\n",
    "\n",
    "# Index contains duplicate entries, cannot reshape : 'foo one' 이 중복된다. \n",
    "# df.drop_duplicates(subset=['index','column']) 으로 해결"
   ]
  },
  {
   "attachments": {},
   "cell_type": "markdown",
   "metadata": {},
   "source": [
    "drop_duplicates\n",
    "\n",
    "subset : 중복을 검사할 column \n",
    "keep: 중복값중 남길 행\n",
    "\n",
    "df.drop ()\n",
    "axis = 0/1 (행/열)     조건이 있는 경우 slicing 을 이용하자 "
   ]
  },
  {
   "cell_type": "code",
   "execution_count": 49,
   "metadata": {},
   "outputs": [
    {
     "data": {
      "text/html": [
       "<div>\n",
       "<style scoped>\n",
       "    .dataframe tbody tr th:only-of-type {\n",
       "        vertical-align: middle;\n",
       "    }\n",
       "\n",
       "    .dataframe tbody tr th {\n",
       "        vertical-align: top;\n",
       "    }\n",
       "\n",
       "    .dataframe thead th {\n",
       "        text-align: right;\n",
       "    }\n",
       "</style>\n",
       "<table border=\"1\" class=\"dataframe\">\n",
       "  <thead>\n",
       "    <tr style=\"text-align: right;\">\n",
       "      <th></th>\n",
       "      <th>A</th>\n",
       "      <th>B</th>\n",
       "      <th>C</th>\n",
       "      <th>D</th>\n",
       "    </tr>\n",
       "  </thead>\n",
       "  <tbody>\n",
       "    <tr>\n",
       "      <th>0</th>\n",
       "      <td>foo</td>\n",
       "      <td>one</td>\n",
       "      <td>0.091632</td>\n",
       "      <td>0.294660</td>\n",
       "    </tr>\n",
       "    <tr>\n",
       "      <th>1</th>\n",
       "      <td>bar</td>\n",
       "      <td>one</td>\n",
       "      <td>-0.821188</td>\n",
       "      <td>0.711229</td>\n",
       "    </tr>\n",
       "    <tr>\n",
       "      <th>2</th>\n",
       "      <td>foo</td>\n",
       "      <td>two</td>\n",
       "      <td>-0.142519</td>\n",
       "      <td>0.714619</td>\n",
       "    </tr>\n",
       "    <tr>\n",
       "      <th>3</th>\n",
       "      <td>bar</td>\n",
       "      <td>three</td>\n",
       "      <td>-2.197673</td>\n",
       "      <td>2.046995</td>\n",
       "    </tr>\n",
       "    <tr>\n",
       "      <th>4</th>\n",
       "      <td>bar</td>\n",
       "      <td>two</td>\n",
       "      <td>0.456469</td>\n",
       "      <td>1.471471</td>\n",
       "    </tr>\n",
       "    <tr>\n",
       "      <th>5</th>\n",
       "      <td>foo</td>\n",
       "      <td>three</td>\n",
       "      <td>1.980207</td>\n",
       "      <td>0.255492</td>\n",
       "    </tr>\n",
       "  </tbody>\n",
       "</table>\n",
       "</div>"
      ],
      "text/plain": [
       "     A      B         C         D\n",
       "0  foo    one  0.091632  0.294660\n",
       "1  bar    one -0.821188  0.711229\n",
       "2  foo    two -0.142519  0.714619\n",
       "3  bar  three -2.197673  2.046995\n",
       "4  bar    two  0.456469  1.471471\n",
       "5  foo  three  1.980207  0.255492"
      ]
     },
     "execution_count": 49,
     "metadata": {},
     "output_type": "execute_result"
    }
   ],
   "source": [
    "# df_g2 = df_g.drop([6,2]).reset_index(drop=True) \n",
    "# A,B 열 값이 중복되는 2, 6 row을 삭제\n",
    "\n",
    "df_g2 = df_g.drop_duplicates(subset=['A','B'],keep='first', ignore_index=True).copy()  # inplace = True 으로 원본 적용\n",
    "\n",
    "df_g2"
   ]
  },
  {
   "cell_type": "code",
   "execution_count": 52,
   "metadata": {},
   "outputs": [
    {
     "data": {
      "text/html": [
       "<div>\n",
       "<style scoped>\n",
       "    .dataframe tbody tr th:only-of-type {\n",
       "        vertical-align: middle;\n",
       "    }\n",
       "\n",
       "    .dataframe tbody tr th {\n",
       "        vertical-align: top;\n",
       "    }\n",
       "\n",
       "    .dataframe thead tr th {\n",
       "        text-align: left;\n",
       "    }\n",
       "\n",
       "    .dataframe thead tr:last-of-type th {\n",
       "        text-align: right;\n",
       "    }\n",
       "</style>\n",
       "<table border=\"1\" class=\"dataframe\">\n",
       "  <thead>\n",
       "    <tr>\n",
       "      <th></th>\n",
       "      <th colspan=\"3\" halign=\"left\">C</th>\n",
       "    </tr>\n",
       "    <tr>\n",
       "      <th>B</th>\n",
       "      <th>one</th>\n",
       "      <th>three</th>\n",
       "      <th>two</th>\n",
       "    </tr>\n",
       "    <tr>\n",
       "      <th>A</th>\n",
       "      <th></th>\n",
       "      <th></th>\n",
       "      <th></th>\n",
       "    </tr>\n",
       "  </thead>\n",
       "  <tbody>\n",
       "    <tr>\n",
       "      <th>bar</th>\n",
       "      <td>-0.821188</td>\n",
       "      <td>-2.197673</td>\n",
       "      <td>0.456469</td>\n",
       "    </tr>\n",
       "    <tr>\n",
       "      <th>foo</th>\n",
       "      <td>0.091632</td>\n",
       "      <td>1.980207</td>\n",
       "      <td>-0.142519</td>\n",
       "    </tr>\n",
       "  </tbody>\n",
       "</table>\n",
       "</div>"
      ],
      "text/plain": [
       "            C                    \n",
       "B         one     three       two\n",
       "A                                \n",
       "bar -0.821188 -2.197673  0.456469\n",
       "foo  0.091632  1.980207 -0.142519"
      ]
     },
     "execution_count": 52,
     "metadata": {},
     "output_type": "execute_result"
    }
   ],
   "source": [
    "df_g2.set_index(['A','B'])[['C']].unstack()"
   ]
  },
  {
   "cell_type": "code",
   "execution_count": 344,
   "metadata": {},
   "outputs": [
    {
     "data": {
      "text/html": [
       "<div>\n",
       "<style scoped>\n",
       "    .dataframe tbody tr th:only-of-type {\n",
       "        vertical-align: middle;\n",
       "    }\n",
       "\n",
       "    .dataframe tbody tr th {\n",
       "        vertical-align: top;\n",
       "    }\n",
       "\n",
       "    .dataframe thead th {\n",
       "        text-align: right;\n",
       "    }\n",
       "</style>\n",
       "<table border=\"1\" class=\"dataframe\">\n",
       "  <thead>\n",
       "    <tr style=\"text-align: right;\">\n",
       "      <th>B</th>\n",
       "      <th>one</th>\n",
       "      <th>three</th>\n",
       "      <th>two</th>\n",
       "    </tr>\n",
       "    <tr>\n",
       "      <th>A</th>\n",
       "      <th></th>\n",
       "      <th></th>\n",
       "      <th></th>\n",
       "    </tr>\n",
       "  </thead>\n",
       "  <tbody>\n",
       "    <tr>\n",
       "      <th>bar</th>\n",
       "      <td>-0.955413</td>\n",
       "      <td>-0.767378</td>\n",
       "      <td>1.233851</td>\n",
       "    </tr>\n",
       "    <tr>\n",
       "      <th>foo</th>\n",
       "      <td>0.020773</td>\n",
       "      <td>-1.128363</td>\n",
       "      <td>-0.070888</td>\n",
       "    </tr>\n",
       "  </tbody>\n",
       "</table>\n",
       "</div>"
      ],
      "text/plain": [
       "B         one     three       two\n",
       "A                                \n",
       "bar -0.955413 -0.767378  1.233851\n",
       "foo  0.020773 -1.128363 -0.070888"
      ]
     },
     "execution_count": 344,
     "metadata": {},
     "output_type": "execute_result"
    }
   ],
   "source": [
    "df_g2.pivot(index='A',columns='B',values='C')"
   ]
  },
  {
   "attachments": {},
   "cell_type": "markdown",
   "metadata": {},
   "source": [
    "### 9. Time Series"
   ]
  },
  {
   "cell_type": "code",
   "execution_count": 102,
   "metadata": {},
   "outputs": [
    {
     "data": {
      "text/plain": [
       "2012-01-01    23746\n",
       "Freq: 5T, dtype: int64"
      ]
     },
     "execution_count": 102,
     "metadata": {},
     "output_type": "execute_result"
    }
   ],
   "source": [
    "rng = pd.date_range(\"1/1/2012\", periods=100, freq=\"S\")\n",
    "\n",
    "ts = pd.Series(np.random.randint(0, 500, len(rng)), index=rng)\n",
    "\n",
    "ts.resample(\"5Min\").sum()"
   ]
  },
  {
   "cell_type": "code",
   "execution_count": 105,
   "metadata": {},
   "outputs": [
    {
     "data": {
      "text/plain": [
       "2012-01-01 00:00:00    125\n",
       "2012-01-01 00:00:01    437\n",
       "2012-01-01 00:00:02    101\n",
       "2012-01-01 00:00:03    389\n",
       "2012-01-01 00:00:04    115\n",
       "                      ... \n",
       "2012-01-01 00:01:35    310\n",
       "2012-01-01 00:01:36    434\n",
       "2012-01-01 00:01:37    298\n",
       "2012-01-01 00:01:38    108\n",
       "2012-01-01 00:01:39    153\n",
       "Freq: S, Length: 100, dtype: int64"
      ]
     },
     "execution_count": 105,
     "metadata": {},
     "output_type": "execute_result"
    }
   ],
   "source": [
    "ts"
   ]
  },
  {
   "attachments": {},
   "cell_type": "markdown",
   "metadata": {},
   "source": [
    "### 10. Categroicals"
   ]
  },
  {
   "attachments": {},
   "cell_type": "markdown",
   "metadata": {},
   "source": [
    "### 11. Plotting"
   ]
  }
 ],
 "metadata": {
  "kernelspec": {
   "display_name": "Python 3 (ipykernel)",
   "language": "python",
   "name": "python3"
  },
  "language_info": {
   "codemirror_mode": {
    "name": "ipython",
    "version": 3
   },
   "file_extension": ".py",
   "mimetype": "text/x-python",
   "name": "python",
   "nbconvert_exporter": "python",
   "pygments_lexer": "ipython3",
   "version": "3.7.6"
  },
  "vscode": {
   "interpreter": {
    "hash": "162ceaf09f938773ad028a3a2ad644135fdbb6560e1ade87eeac244d09a7763d"
   }
  }
 },
 "nbformat": 4,
 "nbformat_minor": 2
}
