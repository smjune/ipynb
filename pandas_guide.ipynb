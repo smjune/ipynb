{
 "cells": [
  {
   "attachments": {},
   "cell_type": "markdown",
   "metadata": {},
   "source": [
    "## EDA을 위한 다양한 pandas function 연습  \n",
    "---\n",
    "참고링크 : https://pandas.pydata.org/docs/user_guide/10min.html  \n",
    "한글 : https://dandyrilla.github.io/2017-08-12/pandas-10min/\n",
    "\n",
    "API ref : https://pandas.pydata.org/docs/reference/index.html"
   ]
  },
  {
   "cell_type": "code",
   "execution_count": 71,
   "metadata": {},
   "outputs": [],
   "source": [
    "import numpy as np\n",
    "import pandas as pd"
   ]
  },
  {
   "attachments": {},
   "cell_type": "markdown",
   "metadata": {},
   "source": [
    "### series and dataFrame \n",
    "\n",
    "차이점을 기억해 두자  \n",
    "series 1차 배열  \n",
    "dataFrame 2차 배열  \n",
    "\n",
    "실제 data 특성에 맞는 샘플 데이터를 만들수 있어야 한다.   \n",
    "해당 샘플 데이터로 각 연산 결과를 미리 확인 할 수 있어야 한다.   \n",
    "print(type()) 을 이용하여 object 의 타입을 정확히 파악해야 한다.  \n",
    "( series[index_label] vs dataframe[column_label] )  \n",
    "answer.ipynb 와 test.ipynb, sample.ipynb 으로 운영한다. \n",
    "\n",
    "```\n",
    "pd.DataFrame( Serise, \n",
    "              columns = ['',''])\n",
    "              index = lsit\n",
    "            )\n",
    "\n",
    "pd.DataFrame(\n",
    "    { \n",
    "      'A': list\n",
    "      'B': ['', '']\n",
    "    },\n",
    "    index=['','']\n",
    "    )\n",
    "```"
   ]
  },
  {
   "cell_type": "code",
   "execution_count": 72,
   "metadata": {},
   "outputs": [
    {
     "data": {
      "text/html": [
       "<div>\n",
       "<style scoped>\n",
       "    .dataframe tbody tr th:only-of-type {\n",
       "        vertical-align: middle;\n",
       "    }\n",
       "\n",
       "    .dataframe tbody tr th {\n",
       "        vertical-align: top;\n",
       "    }\n",
       "\n",
       "    .dataframe thead th {\n",
       "        text-align: right;\n",
       "    }\n",
       "</style>\n",
       "<table border=\"1\" class=\"dataframe\">\n",
       "  <thead>\n",
       "    <tr style=\"text-align: right;\">\n",
       "      <th></th>\n",
       "      <th>B</th>\n",
       "    </tr>\n",
       "  </thead>\n",
       "  <tbody>\n",
       "    <tr>\n",
       "      <th>1</th>\n",
       "      <td>B</td>\n",
       "    </tr>\n",
       "    <tr>\n",
       "      <th>2</th>\n",
       "      <td>C</td>\n",
       "    </tr>\n",
       "  </tbody>\n",
       "</table>\n",
       "</div>"
      ],
      "text/plain": [
       "   B\n",
       "1  B\n",
       "2  C"
      ]
     },
     "execution_count": 72,
     "metadata": {},
     "output_type": "execute_result"
    }
   ],
   "source": [
    "pd.DataFrame({ \n",
    "    'B': ['B', 'C'],\n",
    "}, index= [1,2])"
   ]
  },
  {
   "cell_type": "code",
   "execution_count": 73,
   "metadata": {},
   "outputs": [
    {
     "data": {
      "text/plain": [
       "0    1.0\n",
       "1    3.0\n",
       "2    5.0\n",
       "3    NaN\n",
       "4    6.0\n",
       "5    8.0\n",
       "dtype: float64"
      ]
     },
     "execution_count": 73,
     "metadata": {},
     "output_type": "execute_result"
    }
   ],
   "source": [
    "s = pd.Series([1, 3, 5, np.nan, 6, 8])\n",
    "s"
   ]
  },
  {
   "cell_type": "code",
   "execution_count": 74,
   "metadata": {},
   "outputs": [
    {
     "data": {
      "text/plain": [
       "DatetimeIndex(['2013-01-01', '2013-01-02', '2013-01-03', '2013-01-04',\n",
       "               '2013-01-05', '2013-01-06'],\n",
       "              dtype='datetime64[ns]', freq='D')"
      ]
     },
     "execution_count": 74,
     "metadata": {},
     "output_type": "execute_result"
    }
   ],
   "source": [
    "dates = pd.date_range(\"20130101\", periods=6)\n",
    "dates"
   ]
  },
  {
   "cell_type": "code",
   "execution_count": 75,
   "metadata": {},
   "outputs": [
    {
     "data": {
      "text/html": [
       "<div>\n",
       "<style scoped>\n",
       "    .dataframe tbody tr th:only-of-type {\n",
       "        vertical-align: middle;\n",
       "    }\n",
       "\n",
       "    .dataframe tbody tr th {\n",
       "        vertical-align: top;\n",
       "    }\n",
       "\n",
       "    .dataframe thead th {\n",
       "        text-align: right;\n",
       "    }\n",
       "</style>\n",
       "<table border=\"1\" class=\"dataframe\">\n",
       "  <thead>\n",
       "    <tr style=\"text-align: right;\">\n",
       "      <th></th>\n",
       "      <th>A</th>\n",
       "      <th>B</th>\n",
       "      <th>C</th>\n",
       "      <th>D</th>\n",
       "    </tr>\n",
       "  </thead>\n",
       "  <tbody>\n",
       "    <tr>\n",
       "      <th>2013-01-01</th>\n",
       "      <td>0.530079</td>\n",
       "      <td>0.676670</td>\n",
       "      <td>0.216498</td>\n",
       "      <td>0.304434</td>\n",
       "    </tr>\n",
       "    <tr>\n",
       "      <th>2013-01-02</th>\n",
       "      <td>-0.966575</td>\n",
       "      <td>0.073820</td>\n",
       "      <td>1.850707</td>\n",
       "      <td>-0.067192</td>\n",
       "    </tr>\n",
       "    <tr>\n",
       "      <th>2013-01-03</th>\n",
       "      <td>-0.419120</td>\n",
       "      <td>-1.919785</td>\n",
       "      <td>-0.834839</td>\n",
       "      <td>0.497296</td>\n",
       "    </tr>\n",
       "    <tr>\n",
       "      <th>2013-01-04</th>\n",
       "      <td>-1.599862</td>\n",
       "      <td>2.503262</td>\n",
       "      <td>0.729267</td>\n",
       "      <td>0.909971</td>\n",
       "    </tr>\n",
       "    <tr>\n",
       "      <th>2013-01-05</th>\n",
       "      <td>-1.051489</td>\n",
       "      <td>0.857625</td>\n",
       "      <td>0.791734</td>\n",
       "      <td>-0.864913</td>\n",
       "    </tr>\n",
       "    <tr>\n",
       "      <th>2013-01-06</th>\n",
       "      <td>-0.064495</td>\n",
       "      <td>-0.494565</td>\n",
       "      <td>1.023769</td>\n",
       "      <td>1.125469</td>\n",
       "    </tr>\n",
       "  </tbody>\n",
       "</table>\n",
       "</div>"
      ],
      "text/plain": [
       "                   A         B         C         D\n",
       "2013-01-01  0.530079  0.676670  0.216498  0.304434\n",
       "2013-01-02 -0.966575  0.073820  1.850707 -0.067192\n",
       "2013-01-03 -0.419120 -1.919785 -0.834839  0.497296\n",
       "2013-01-04 -1.599862  2.503262  0.729267  0.909971\n",
       "2013-01-05 -1.051489  0.857625  0.791734 -0.864913\n",
       "2013-01-06 -0.064495 -0.494565  1.023769  1.125469"
      ]
     },
     "execution_count": 75,
     "metadata": {},
     "output_type": "execute_result"
    }
   ],
   "source": [
    "# df 만드든 방법 1\n",
    "\n",
    "df = pd.DataFrame(np.random.randn(6, 4),\n",
    "                   index=dates, \n",
    "                   columns=list(\"ABCD\"))\n",
    "df"
   ]
  },
  {
   "cell_type": "code",
   "execution_count": 76,
   "metadata": {},
   "outputs": [
    {
     "data": {
      "text/plain": [
       "Series([], Freq: D, Name: A, dtype: float64)"
      ]
     },
     "execution_count": 76,
     "metadata": {},
     "output_type": "execute_result"
    }
   ],
   "source": [
    "S = df.A\n",
    "S[1:]   # silicing\n",
    "\n",
    "S[1]  # serise indexiting\n",
    "S[S>1] # serise masking\n"
   ]
  },
  {
   "cell_type": "code",
   "execution_count": 77,
   "metadata": {},
   "outputs": [
    {
     "data": {
      "text/html": [
       "<div>\n",
       "<style scoped>\n",
       "    .dataframe tbody tr th:only-of-type {\n",
       "        vertical-align: middle;\n",
       "    }\n",
       "\n",
       "    .dataframe tbody tr th {\n",
       "        vertical-align: top;\n",
       "    }\n",
       "\n",
       "    .dataframe thead th {\n",
       "        text-align: right;\n",
       "    }\n",
       "</style>\n",
       "<table border=\"1\" class=\"dataframe\">\n",
       "  <thead>\n",
       "    <tr style=\"text-align: right;\">\n",
       "      <th></th>\n",
       "      <th>A</th>\n",
       "      <th>B</th>\n",
       "    </tr>\n",
       "  </thead>\n",
       "  <tbody>\n",
       "    <tr>\n",
       "      <th>2013-01-01</th>\n",
       "      <td>NaN</td>\n",
       "      <td>NaN</td>\n",
       "    </tr>\n",
       "    <tr>\n",
       "      <th>2013-01-02</th>\n",
       "      <td>NaN</td>\n",
       "      <td>NaN</td>\n",
       "    </tr>\n",
       "    <tr>\n",
       "      <th>2013-01-03</th>\n",
       "      <td>NaN</td>\n",
       "      <td>NaN</td>\n",
       "    </tr>\n",
       "    <tr>\n",
       "      <th>2013-01-04</th>\n",
       "      <td>NaN</td>\n",
       "      <td>2.503262</td>\n",
       "    </tr>\n",
       "    <tr>\n",
       "      <th>2013-01-05</th>\n",
       "      <td>NaN</td>\n",
       "      <td>NaN</td>\n",
       "    </tr>\n",
       "    <tr>\n",
       "      <th>2013-01-06</th>\n",
       "      <td>NaN</td>\n",
       "      <td>NaN</td>\n",
       "    </tr>\n",
       "  </tbody>\n",
       "</table>\n",
       "</div>"
      ],
      "text/plain": [
       "             A         B\n",
       "2013-01-01 NaN       NaN\n",
       "2013-01-02 NaN       NaN\n",
       "2013-01-03 NaN       NaN\n",
       "2013-01-04 NaN  2.503262\n",
       "2013-01-05 NaN       NaN\n",
       "2013-01-06 NaN       NaN"
      ]
     },
     "execution_count": 77,
     "metadata": {},
     "output_type": "execute_result"
    }
   ],
   "source": [
    "\n",
    "D = df[['A','B']]\n",
    "\n",
    "D[1:]   # df slicing\n",
    "# D[1]    # indexing 은 오류\n",
    "D[D>1]"
   ]
  },
  {
   "attachments": {},
   "cell_type": "markdown",
   "metadata": {},
   "source": [
    "dataFrame :   \n",
    "DataFrame은 2차원 배열 데이터라고 이해하는 것보다 공통 인덱스를 가진 column series를 딕셔너리로 묶어놓은 것"
   ]
  },
  {
   "cell_type": "code",
   "execution_count": 78,
   "metadata": {},
   "outputs": [
    {
     "data": {
      "text/html": [
       "<div>\n",
       "<style scoped>\n",
       "    .dataframe tbody tr th:only-of-type {\n",
       "        vertical-align: middle;\n",
       "    }\n",
       "\n",
       "    .dataframe tbody tr th {\n",
       "        vertical-align: top;\n",
       "    }\n",
       "\n",
       "    .dataframe thead th {\n",
       "        text-align: right;\n",
       "    }\n",
       "</style>\n",
       "<table border=\"1\" class=\"dataframe\">\n",
       "  <thead>\n",
       "    <tr style=\"text-align: right;\">\n",
       "      <th></th>\n",
       "      <th>A</th>\n",
       "      <th>B</th>\n",
       "      <th>C</th>\n",
       "      <th>D</th>\n",
       "      <th>E</th>\n",
       "      <th>F</th>\n",
       "    </tr>\n",
       "  </thead>\n",
       "  <tbody>\n",
       "    <tr>\n",
       "      <th>0</th>\n",
       "      <td>1.0</td>\n",
       "      <td>2013-01-02</td>\n",
       "      <td>1.0</td>\n",
       "      <td>3</td>\n",
       "      <td>test</td>\n",
       "      <td>foo</td>\n",
       "    </tr>\n",
       "    <tr>\n",
       "      <th>1</th>\n",
       "      <td>1.0</td>\n",
       "      <td>2013-01-02</td>\n",
       "      <td>1.0</td>\n",
       "      <td>3</td>\n",
       "      <td>train</td>\n",
       "      <td>foo</td>\n",
       "    </tr>\n",
       "    <tr>\n",
       "      <th>2</th>\n",
       "      <td>1.0</td>\n",
       "      <td>2013-01-02</td>\n",
       "      <td>1.0</td>\n",
       "      <td>3</td>\n",
       "      <td>test</td>\n",
       "      <td>foo</td>\n",
       "    </tr>\n",
       "    <tr>\n",
       "      <th>3</th>\n",
       "      <td>1.0</td>\n",
       "      <td>2013-01-02</td>\n",
       "      <td>1.0</td>\n",
       "      <td>3</td>\n",
       "      <td>train</td>\n",
       "      <td>foo</td>\n",
       "    </tr>\n",
       "  </tbody>\n",
       "</table>\n",
       "</div>"
      ],
      "text/plain": [
       "     A          B    C  D      E    F\n",
       "0  1.0 2013-01-02  1.0  3   test  foo\n",
       "1  1.0 2013-01-02  1.0  3  train  foo\n",
       "2  1.0 2013-01-02  1.0  3   test  foo\n",
       "3  1.0 2013-01-02  1.0  3  train  foo"
      ]
     },
     "execution_count": 78,
     "metadata": {},
     "output_type": "execute_result"
    }
   ],
   "source": [
    "# df 만드는 방법 2 \n",
    "\n",
    "df2 = pd.DataFrame(\n",
    "    {\n",
    "        \"A\": 1.0,\n",
    "        \"B\": pd.Timestamp(\"20130102\"),\n",
    "        \"C\": pd.Series(1, index=list(range(4)), dtype=\"float32\"),\n",
    "        \"D\": np.array([3] * 4, dtype=\"int32\"),\n",
    "        \"E\": pd.Categorical([\"test\", \"train\", \"test\", \"train\"]),\n",
    "        \"F\": \"foo\",\n",
    "    }\n",
    ")\n",
    "\n",
    "df2 \n",
    "# df2[:]\n",
    "# df2[:][:]\n",
    "# df2.loc[:,:]"
   ]
  },
  {
   "attachments": {},
   "cell_type": "markdown",
   "metadata": {},
   "source": [
    "### 2. Viewing Data"
   ]
  },
  {
   "cell_type": "code",
   "execution_count": 79,
   "metadata": {},
   "outputs": [
    {
     "data": {
      "text/plain": [
       "A           float64\n",
       "B    datetime64[ns]\n",
       "C           float32\n",
       "D             int32\n",
       "E          category\n",
       "F            object\n",
       "dtype: object"
      ]
     },
     "execution_count": 79,
     "metadata": {},
     "output_type": "execute_result"
    }
   ],
   "source": [
    "df2.dtypes"
   ]
  },
  {
   "cell_type": "code",
   "execution_count": 80,
   "metadata": {},
   "outputs": [
    {
     "name": "stdout",
     "output_type": "stream",
     "text": [
      "                   A        B         C         D\n",
      "2013-01-01  0.530079  0.67667  0.216498  0.304434\n",
      "2013-01-02 -0.966575  0.07382  1.850707 -0.067192 \n",
      "\n",
      "                   A         B         C         D\n",
      "2013-01-05 -1.051489  0.857625  0.791734 -0.864913\n",
      "2013-01-06 -0.064495 -0.494565  1.023769  1.125469 \n",
      "\n",
      "DatetimeIndex(['2013-01-01', '2013-01-02', '2013-01-03', '2013-01-04',\n",
      "               '2013-01-05', '2013-01-06'],\n",
      "              dtype='datetime64[ns]', freq='D') \n",
      "\n",
      "Index(['A', 'B', 'C', 'D'], dtype='object') \n",
      "\n"
     ]
    },
    {
     "data": {
      "text/html": [
       "<div>\n",
       "<style scoped>\n",
       "    .dataframe tbody tr th:only-of-type {\n",
       "        vertical-align: middle;\n",
       "    }\n",
       "\n",
       "    .dataframe tbody tr th {\n",
       "        vertical-align: top;\n",
       "    }\n",
       "\n",
       "    .dataframe thead th {\n",
       "        text-align: right;\n",
       "    }\n",
       "</style>\n",
       "<table border=\"1\" class=\"dataframe\">\n",
       "  <thead>\n",
       "    <tr style=\"text-align: right;\">\n",
       "      <th></th>\n",
       "      <th>A</th>\n",
       "      <th>B</th>\n",
       "      <th>C</th>\n",
       "      <th>D</th>\n",
       "    </tr>\n",
       "  </thead>\n",
       "  <tbody>\n",
       "    <tr>\n",
       "      <th>count</th>\n",
       "      <td>6.000000</td>\n",
       "      <td>6.000000</td>\n",
       "      <td>6.000000</td>\n",
       "      <td>6.000000</td>\n",
       "    </tr>\n",
       "    <tr>\n",
       "      <th>mean</th>\n",
       "      <td>-0.595244</td>\n",
       "      <td>0.282838</td>\n",
       "      <td>0.629523</td>\n",
       "      <td>0.317511</td>\n",
       "    </tr>\n",
       "    <tr>\n",
       "      <th>std</th>\n",
       "      <td>0.766077</td>\n",
       "      <td>1.477522</td>\n",
       "      <td>0.894195</td>\n",
       "      <td>0.718668</td>\n",
       "    </tr>\n",
       "    <tr>\n",
       "      <th>min</th>\n",
       "      <td>-1.599862</td>\n",
       "      <td>-1.919785</td>\n",
       "      <td>-0.834839</td>\n",
       "      <td>-0.864913</td>\n",
       "    </tr>\n",
       "    <tr>\n",
       "      <th>25%</th>\n",
       "      <td>-1.030261</td>\n",
       "      <td>-0.352469</td>\n",
       "      <td>0.344691</td>\n",
       "      <td>0.025715</td>\n",
       "    </tr>\n",
       "    <tr>\n",
       "      <th>50%</th>\n",
       "      <td>-0.692848</td>\n",
       "      <td>0.375245</td>\n",
       "      <td>0.760500</td>\n",
       "      <td>0.400865</td>\n",
       "    </tr>\n",
       "    <tr>\n",
       "      <th>75%</th>\n",
       "      <td>-0.153151</td>\n",
       "      <td>0.812386</td>\n",
       "      <td>0.965760</td>\n",
       "      <td>0.806802</td>\n",
       "    </tr>\n",
       "    <tr>\n",
       "      <th>max</th>\n",
       "      <td>0.530079</td>\n",
       "      <td>2.503262</td>\n",
       "      <td>1.850707</td>\n",
       "      <td>1.125469</td>\n",
       "    </tr>\n",
       "  </tbody>\n",
       "</table>\n",
       "</div>"
      ],
      "text/plain": [
       "              A         B         C         D\n",
       "count  6.000000  6.000000  6.000000  6.000000\n",
       "mean  -0.595244  0.282838  0.629523  0.317511\n",
       "std    0.766077  1.477522  0.894195  0.718668\n",
       "min   -1.599862 -1.919785 -0.834839 -0.864913\n",
       "25%   -1.030261 -0.352469  0.344691  0.025715\n",
       "50%   -0.692848  0.375245  0.760500  0.400865\n",
       "75%   -0.153151  0.812386  0.965760  0.806802\n",
       "max    0.530079  2.503262  1.850707  1.125469"
      ]
     },
     "execution_count": 80,
     "metadata": {},
     "output_type": "execute_result"
    }
   ],
   "source": [
    "print(df.head(2),'\\n')\n",
    "\n",
    "print(df.tail(2), '\\n')\n",
    "\n",
    "print(df.index, '\\n')\n",
    "\n",
    "print(df.columns, '\\n')\n",
    "\n",
    "df.describe()\n"
   ]
  },
  {
   "cell_type": "code",
   "execution_count": 81,
   "metadata": {},
   "outputs": [
    {
     "data": {
      "text/html": [
       "<div>\n",
       "<style scoped>\n",
       "    .dataframe tbody tr th:only-of-type {\n",
       "        vertical-align: middle;\n",
       "    }\n",
       "\n",
       "    .dataframe tbody tr th {\n",
       "        vertical-align: top;\n",
       "    }\n",
       "\n",
       "    .dataframe thead th {\n",
       "        text-align: right;\n",
       "    }\n",
       "</style>\n",
       "<table border=\"1\" class=\"dataframe\">\n",
       "  <thead>\n",
       "    <tr style=\"text-align: right;\">\n",
       "      <th></th>\n",
       "      <th>2013-01-01</th>\n",
       "      <th>2013-01-02</th>\n",
       "      <th>2013-01-03</th>\n",
       "      <th>2013-01-04</th>\n",
       "      <th>2013-01-05</th>\n",
       "      <th>2013-01-06</th>\n",
       "    </tr>\n",
       "  </thead>\n",
       "  <tbody>\n",
       "    <tr>\n",
       "      <th>A</th>\n",
       "      <td>0.530079</td>\n",
       "      <td>-0.966575</td>\n",
       "      <td>-0.419120</td>\n",
       "      <td>-1.599862</td>\n",
       "      <td>-1.051489</td>\n",
       "      <td>-0.064495</td>\n",
       "    </tr>\n",
       "    <tr>\n",
       "      <th>B</th>\n",
       "      <td>0.676670</td>\n",
       "      <td>0.073820</td>\n",
       "      <td>-1.919785</td>\n",
       "      <td>2.503262</td>\n",
       "      <td>0.857625</td>\n",
       "      <td>-0.494565</td>\n",
       "    </tr>\n",
       "    <tr>\n",
       "      <th>C</th>\n",
       "      <td>0.216498</td>\n",
       "      <td>1.850707</td>\n",
       "      <td>-0.834839</td>\n",
       "      <td>0.729267</td>\n",
       "      <td>0.791734</td>\n",
       "      <td>1.023769</td>\n",
       "    </tr>\n",
       "    <tr>\n",
       "      <th>D</th>\n",
       "      <td>0.304434</td>\n",
       "      <td>-0.067192</td>\n",
       "      <td>0.497296</td>\n",
       "      <td>0.909971</td>\n",
       "      <td>-0.864913</td>\n",
       "      <td>1.125469</td>\n",
       "    </tr>\n",
       "  </tbody>\n",
       "</table>\n",
       "</div>"
      ],
      "text/plain": [
       "   2013-01-01  2013-01-02  2013-01-03  2013-01-04  2013-01-05  2013-01-06\n",
       "A    0.530079   -0.966575   -0.419120   -1.599862   -1.051489   -0.064495\n",
       "B    0.676670    0.073820   -1.919785    2.503262    0.857625   -0.494565\n",
       "C    0.216498    1.850707   -0.834839    0.729267    0.791734    1.023769\n",
       "D    0.304434   -0.067192    0.497296    0.909971   -0.864913    1.125469"
      ]
     },
     "execution_count": 81,
     "metadata": {},
     "output_type": "execute_result"
    }
   ],
   "source": [
    "# 행, 열을 바꾼다. \n",
    "\n",
    "df.T"
   ]
  },
  {
   "cell_type": "code",
   "execution_count": 82,
   "metadata": {},
   "outputs": [
    {
     "data": {
      "text/plain": [
       "array([[ 0.53007871,  0.67667023,  0.2164985 ,  0.30443393],\n",
       "       [-0.96657542,  0.07381999,  1.85070726, -0.06719181],\n",
       "       [-0.41912008, -1.91978477, -0.8348391 ,  0.49729568],\n",
       "       [-1.59986154,  2.5032618 ,  0.72926668,  0.90997053],\n",
       "       [-1.0514895 ,  0.85762502,  0.79173367, -0.86491254],\n",
       "       [-0.06449503, -0.49456549,  1.02376897,  1.12546883]])"
      ]
     },
     "execution_count": 82,
     "metadata": {},
     "output_type": "execute_result"
    }
   ],
   "source": [
    "df.to_numpy()"
   ]
  },
  {
   "cell_type": "code",
   "execution_count": 83,
   "metadata": {},
   "outputs": [
    {
     "data": {
      "text/html": [
       "<div>\n",
       "<style scoped>\n",
       "    .dataframe tbody tr th:only-of-type {\n",
       "        vertical-align: middle;\n",
       "    }\n",
       "\n",
       "    .dataframe tbody tr th {\n",
       "        vertical-align: top;\n",
       "    }\n",
       "\n",
       "    .dataframe thead th {\n",
       "        text-align: right;\n",
       "    }\n",
       "</style>\n",
       "<table border=\"1\" class=\"dataframe\">\n",
       "  <thead>\n",
       "    <tr style=\"text-align: right;\">\n",
       "      <th></th>\n",
       "    </tr>\n",
       "  </thead>\n",
       "  <tbody>\n",
       "    <tr>\n",
       "      <th>2013-01-01</th>\n",
       "    </tr>\n",
       "    <tr>\n",
       "      <th>2013-01-02</th>\n",
       "    </tr>\n",
       "    <tr>\n",
       "      <th>2013-01-03</th>\n",
       "    </tr>\n",
       "    <tr>\n",
       "      <th>2013-01-04</th>\n",
       "    </tr>\n",
       "    <tr>\n",
       "      <th>2013-01-05</th>\n",
       "    </tr>\n",
       "    <tr>\n",
       "      <th>2013-01-06</th>\n",
       "    </tr>\n",
       "  </tbody>\n",
       "</table>\n",
       "</div>"
      ],
      "text/plain": [
       "Empty DataFrame\n",
       "Columns: []\n",
       "Index: [2013-01-01 00:00:00, 2013-01-02 00:00:00, 2013-01-03 00:00:00, 2013-01-04 00:00:00, 2013-01-05 00:00:00, 2013-01-06 00:00:00]"
      ]
     },
     "execution_count": 83,
     "metadata": {},
     "output_type": "execute_result"
    }
   ],
   "source": [
    "df.select_dtypes(include='int64')"
   ]
  },
  {
   "cell_type": "code",
   "execution_count": 84,
   "metadata": {},
   "outputs": [
    {
     "data": {
      "text/html": [
       "<div>\n",
       "<style scoped>\n",
       "    .dataframe tbody tr th:only-of-type {\n",
       "        vertical-align: middle;\n",
       "    }\n",
       "\n",
       "    .dataframe tbody tr th {\n",
       "        vertical-align: top;\n",
       "    }\n",
       "\n",
       "    .dataframe thead th {\n",
       "        text-align: right;\n",
       "    }\n",
       "</style>\n",
       "<table border=\"1\" class=\"dataframe\">\n",
       "  <thead>\n",
       "    <tr style=\"text-align: right;\">\n",
       "      <th></th>\n",
       "      <th>A</th>\n",
       "      <th>B</th>\n",
       "      <th>C</th>\n",
       "      <th>D</th>\n",
       "    </tr>\n",
       "  </thead>\n",
       "  <tbody>\n",
       "    <tr>\n",
       "      <th>2013-01-01</th>\n",
       "      <td>0.530079</td>\n",
       "      <td>0.676670</td>\n",
       "      <td>0.216498</td>\n",
       "      <td>0.304434</td>\n",
       "    </tr>\n",
       "    <tr>\n",
       "      <th>2013-01-02</th>\n",
       "      <td>-0.966575</td>\n",
       "      <td>0.073820</td>\n",
       "      <td>1.850707</td>\n",
       "      <td>-0.067192</td>\n",
       "    </tr>\n",
       "    <tr>\n",
       "      <th>2013-01-03</th>\n",
       "      <td>-0.419120</td>\n",
       "      <td>-1.919785</td>\n",
       "      <td>-0.834839</td>\n",
       "      <td>0.497296</td>\n",
       "    </tr>\n",
       "    <tr>\n",
       "      <th>2013-01-04</th>\n",
       "      <td>-1.599862</td>\n",
       "      <td>2.503262</td>\n",
       "      <td>0.729267</td>\n",
       "      <td>0.909971</td>\n",
       "    </tr>\n",
       "    <tr>\n",
       "      <th>2013-01-05</th>\n",
       "      <td>-1.051489</td>\n",
       "      <td>0.857625</td>\n",
       "      <td>0.791734</td>\n",
       "      <td>-0.864913</td>\n",
       "    </tr>\n",
       "    <tr>\n",
       "      <th>2013-01-06</th>\n",
       "      <td>-0.064495</td>\n",
       "      <td>-0.494565</td>\n",
       "      <td>1.023769</td>\n",
       "      <td>1.125469</td>\n",
       "    </tr>\n",
       "  </tbody>\n",
       "</table>\n",
       "</div>"
      ],
      "text/plain": [
       "                   A         B         C         D\n",
       "2013-01-01  0.530079  0.676670  0.216498  0.304434\n",
       "2013-01-02 -0.966575  0.073820  1.850707 -0.067192\n",
       "2013-01-03 -0.419120 -1.919785 -0.834839  0.497296\n",
       "2013-01-04 -1.599862  2.503262  0.729267  0.909971\n",
       "2013-01-05 -1.051489  0.857625  0.791734 -0.864913\n",
       "2013-01-06 -0.064495 -0.494565  1.023769  1.125469"
      ]
     },
     "execution_count": 84,
     "metadata": {},
     "output_type": "execute_result"
    }
   ],
   "source": [
    "df.select_dtypes(include='number')"
   ]
  },
  {
   "attachments": {},
   "cell_type": "markdown",
   "metadata": {},
   "source": [
    "value_counts()\n",
    "\n",
    "df.value_counts()   : 1 이상이면 동일한 row 존재  (전부 1이면, 다 값이 다르고, 실재 row 갯수 만큼 나온다.)  \n",
    "series.value_counts() : 1 이상이면 동일한 값 존재"
   ]
  },
  {
   "attachments": {},
   "cell_type": "markdown",
   "metadata": {},
   "source": [
    "### 3. Selection \n",
    "\n",
    "df[1] : 인텍싱  '정수일때만 가능 (df[df.index == 1] 가 같음), 주로 df 'column' 선택에 사용  \n",
    "df[2:4] : 슬라이싱  \n",
    "df[df>1] : 마스킹  \n",
    "\n",
    "=> 주로 Serise 을 사용할때 사용한다고 생각하자. series[1] / series[2:4] / serise[serise>1]\n",
    "\n",
    ".             : ```df.col```  \n",
    "[]            : ```df[column]```         , * df[row_lable: ] 은 사용하지 말자.  \n",
    "loc (or at)   : df.loc[index_lable,] 은 조건일때만 사용     , ```df.loc[ : , col_label]```    \n",
    "iloc (or iat) : ```df.iloc[몇번째 row]``` , df.iloc[ : , 몇번째 col]     \n"
   ]
  },
  {
   "cell_type": "code",
   "execution_count": 85,
   "metadata": {},
   "outputs": [
    {
     "name": "stdout",
     "output_type": "stream",
     "text": [
      "2013-01-01    0.530079\n",
      "2013-01-02   -0.966575\n",
      "2013-01-03   -0.419120\n",
      "2013-01-04   -1.599862\n",
      "2013-01-05   -1.051489\n",
      "2013-01-06   -0.064495\n",
      "Freq: D, Name: A, dtype: float64 \n",
      "\n",
      "2013-01-01    0.530079\n",
      "2013-01-02   -0.966575\n",
      "2013-01-03   -0.419120\n",
      "2013-01-04   -1.599862\n",
      "2013-01-05   -1.051489\n",
      "2013-01-06   -0.064495\n",
      "Freq: D, Name: A, dtype: float64 \n",
      "\n",
      "                   A\n",
      "2013-01-01  0.530079\n",
      "2013-01-02 -0.966575\n",
      "2013-01-03 -0.419120\n",
      "2013-01-04 -1.599862\n",
      "2013-01-05 -1.051489\n",
      "2013-01-06 -0.064495 \n",
      "\n"
     ]
    },
    {
     "data": {
      "text/html": [
       "<div>\n",
       "<style scoped>\n",
       "    .dataframe tbody tr th:only-of-type {\n",
       "        vertical-align: middle;\n",
       "    }\n",
       "\n",
       "    .dataframe tbody tr th {\n",
       "        vertical-align: top;\n",
       "    }\n",
       "\n",
       "    .dataframe thead th {\n",
       "        text-align: right;\n",
       "    }\n",
       "</style>\n",
       "<table border=\"1\" class=\"dataframe\">\n",
       "  <thead>\n",
       "    <tr style=\"text-align: right;\">\n",
       "      <th></th>\n",
       "      <th>A</th>\n",
       "      <th>C</th>\n",
       "    </tr>\n",
       "  </thead>\n",
       "  <tbody>\n",
       "    <tr>\n",
       "      <th>2013-01-01</th>\n",
       "      <td>0.530079</td>\n",
       "      <td>0.216498</td>\n",
       "    </tr>\n",
       "    <tr>\n",
       "      <th>2013-01-02</th>\n",
       "      <td>-0.966575</td>\n",
       "      <td>1.850707</td>\n",
       "    </tr>\n",
       "    <tr>\n",
       "      <th>2013-01-03</th>\n",
       "      <td>-0.419120</td>\n",
       "      <td>-0.834839</td>\n",
       "    </tr>\n",
       "    <tr>\n",
       "      <th>2013-01-04</th>\n",
       "      <td>-1.599862</td>\n",
       "      <td>0.729267</td>\n",
       "    </tr>\n",
       "    <tr>\n",
       "      <th>2013-01-05</th>\n",
       "      <td>-1.051489</td>\n",
       "      <td>0.791734</td>\n",
       "    </tr>\n",
       "    <tr>\n",
       "      <th>2013-01-06</th>\n",
       "      <td>-0.064495</td>\n",
       "      <td>1.023769</td>\n",
       "    </tr>\n",
       "  </tbody>\n",
       "</table>\n",
       "</div>"
      ],
      "text/plain": [
       "                   A         C\n",
       "2013-01-01  0.530079  0.216498\n",
       "2013-01-02 -0.966575  1.850707\n",
       "2013-01-03 -0.419120 -0.834839\n",
       "2013-01-04 -1.599862  0.729267\n",
       "2013-01-05 -1.051489  0.791734\n",
       "2013-01-06 -0.064495  1.023769"
      ]
     },
     "execution_count": 85,
     "metadata": {},
     "output_type": "execute_result"
    }
   ],
   "source": [
    "print(df['A'],'\\n')\n",
    "print(df[:]['A'],'\\n')              #df.loc[:,'A']\n",
    "# df['2013-01-01':]['A']            # chained indexing ?\n",
    "# df.A\n",
    "\n",
    "## column 을 선택하게 되며 series 로 리턴된다.\n",
    "\n",
    "\n",
    "print(df[['A']],'\\n')               # df 으로 리턴 \n",
    "df[['A','C']]                       # dataFrame 리턴\n",
    "\n",
    "## 2개 이상, 이거나 [[ 'col' ]] 으로 1개 col 을 df 로 리턴\n"
   ]
  },
  {
   "cell_type": "code",
   "execution_count": 86,
   "metadata": {},
   "outputs": [
    {
     "name": "stdout",
     "output_type": "stream",
     "text": [
      "                   A        B         C         D\n",
      "2013-01-01  0.530079  0.67667  0.216498  0.304434\n",
      "2013-01-02 -0.966575  0.07382  1.850707 -0.067192 \n",
      "\n",
      "                   A        B         C         D\n",
      "2013-01-01  0.530079  0.67667  0.216498  0.304434\n",
      "2013-01-02 -0.966575  0.07382  1.850707 -0.067192 \n",
      "\n"
     ]
    }
   ],
   "source": [
    "# 오류 \n",
    "\n",
    "# print(df[0],'\\n')                # 명시적 인덱스 0 을 찾기때문에 오류\n",
    "# print(df['2013-01-01'],'\\n')     # column 에서 찾기 때문에 오류 \n",
    "print(df['2013-01-01':'2013-01-02'],'\\n')  # 근데 이건 됨... 헐.\n",
    "print(df[:'2013-01-02'],'\\n') "
   ]
  },
  {
   "cell_type": "code",
   "execution_count": 87,
   "metadata": {},
   "outputs": [
    {
     "name": "stdout",
     "output_type": "stream",
     "text": [
      "                   A         B         C         D\n",
      "2013-01-04 -1.599862  2.503262  0.729267  0.909971\n",
      "2013-01-05 -1.051489  0.857625  0.791734 -0.864913\n",
      "2013-01-06 -0.064495 -0.494565  1.023769  1.125469 \n",
      "\n",
      "                   A         B         C         D\n",
      "2013-01-04 -1.599862  2.503262  0.729267  0.909971 \n",
      "\n",
      "                   A         B         C         D\n",
      "2013-01-04 -1.599862  2.503262  0.729267  0.909971 \n",
      "\n"
     ]
    },
    {
     "data": {
      "text/html": [
       "<div>\n",
       "<style scoped>\n",
       "    .dataframe tbody tr th:only-of-type {\n",
       "        vertical-align: middle;\n",
       "    }\n",
       "\n",
       "    .dataframe tbody tr th {\n",
       "        vertical-align: top;\n",
       "    }\n",
       "\n",
       "    .dataframe thead th {\n",
       "        text-align: right;\n",
       "    }\n",
       "</style>\n",
       "<table border=\"1\" class=\"dataframe\">\n",
       "  <thead>\n",
       "    <tr style=\"text-align: right;\">\n",
       "      <th></th>\n",
       "      <th>A</th>\n",
       "      <th>B</th>\n",
       "      <th>C</th>\n",
       "      <th>D</th>\n",
       "    </tr>\n",
       "  </thead>\n",
       "  <tbody>\n",
       "    <tr>\n",
       "      <th>2013-01-04</th>\n",
       "      <td>-1.599862</td>\n",
       "      <td>2.503262</td>\n",
       "      <td>0.729267</td>\n",
       "      <td>0.909971</td>\n",
       "    </tr>\n",
       "    <tr>\n",
       "      <th>2013-01-05</th>\n",
       "      <td>-1.051489</td>\n",
       "      <td>0.857625</td>\n",
       "      <td>0.791734</td>\n",
       "      <td>-0.864913</td>\n",
       "    </tr>\n",
       "    <tr>\n",
       "      <th>2013-01-06</th>\n",
       "      <td>-0.064495</td>\n",
       "      <td>-0.494565</td>\n",
       "      <td>1.023769</td>\n",
       "      <td>1.125469</td>\n",
       "    </tr>\n",
       "  </tbody>\n",
       "</table>\n",
       "</div>"
      ],
      "text/plain": [
       "                   A         B         C         D\n",
       "2013-01-04 -1.599862  2.503262  0.729267  0.909971\n",
       "2013-01-05 -1.051489  0.857625  0.791734 -0.864913\n",
       "2013-01-06 -0.064495 -0.494565  1.023769  1.125469"
      ]
     },
     "execution_count": 87,
     "metadata": {},
     "output_type": "execute_result"
    }
   ],
   "source": [
    "# df[0:3]\n",
    "# df['2013-01-01':'2013-01-03']\n",
    "print(df['2013-01-04':], '\\n')\n",
    "print(df['2013-01-04':'2013-01-04'], '\\n')     # 3, 4 열, label 은 끝 포함\n",
    "print(df[3:4], '\\n')                           # 3열만, index 은 -1 까지\n",
    "df[3:]\n",
    "\n",
    "# row 을 선택하게 되며, dataFrame 으로 리턴된다"
   ]
  },
  {
   "cell_type": "code",
   "execution_count": 88,
   "metadata": {},
   "outputs": [
    {
     "data": {
      "text/html": [
       "<div>\n",
       "<style scoped>\n",
       "    .dataframe tbody tr th:only-of-type {\n",
       "        vertical-align: middle;\n",
       "    }\n",
       "\n",
       "    .dataframe tbody tr th {\n",
       "        vertical-align: top;\n",
       "    }\n",
       "\n",
       "    .dataframe thead th {\n",
       "        text-align: right;\n",
       "    }\n",
       "</style>\n",
       "<table border=\"1\" class=\"dataframe\">\n",
       "  <thead>\n",
       "    <tr style=\"text-align: right;\">\n",
       "      <th></th>\n",
       "      <th>A</th>\n",
       "      <th>B</th>\n",
       "      <th>C</th>\n",
       "      <th>D</th>\n",
       "      <th>E</th>\n",
       "      <th>F</th>\n",
       "    </tr>\n",
       "  </thead>\n",
       "  <tbody>\n",
       "    <tr>\n",
       "      <th>0</th>\n",
       "      <td>1.0</td>\n",
       "      <td>2013-01-02</td>\n",
       "      <td>1.0</td>\n",
       "      <td>3</td>\n",
       "      <td>test</td>\n",
       "      <td>foo</td>\n",
       "    </tr>\n",
       "    <tr>\n",
       "      <th>1</th>\n",
       "      <td>1.0</td>\n",
       "      <td>2013-01-02</td>\n",
       "      <td>1.0</td>\n",
       "      <td>3</td>\n",
       "      <td>train</td>\n",
       "      <td>foo</td>\n",
       "    </tr>\n",
       "    <tr>\n",
       "      <th>2</th>\n",
       "      <td>1.0</td>\n",
       "      <td>2013-01-02</td>\n",
       "      <td>1.0</td>\n",
       "      <td>3</td>\n",
       "      <td>test</td>\n",
       "      <td>foo</td>\n",
       "    </tr>\n",
       "    <tr>\n",
       "      <th>3</th>\n",
       "      <td>1.0</td>\n",
       "      <td>2013-01-02</td>\n",
       "      <td>1.0</td>\n",
       "      <td>3</td>\n",
       "      <td>train</td>\n",
       "      <td>foo</td>\n",
       "    </tr>\n",
       "  </tbody>\n",
       "</table>\n",
       "</div>"
      ],
      "text/plain": [
       "     A          B    C  D      E    F\n",
       "0  1.0 2013-01-02  1.0  3   test  foo\n",
       "1  1.0 2013-01-02  1.0  3  train  foo\n",
       "2  1.0 2013-01-02  1.0  3   test  foo\n",
       "3  1.0 2013-01-02  1.0  3  train  foo"
      ]
     },
     "execution_count": 88,
     "metadata": {},
     "output_type": "execute_result"
    }
   ],
   "source": [
    "df2"
   ]
  },
  {
   "cell_type": "code",
   "execution_count": 89,
   "metadata": {},
   "outputs": [
    {
     "name": "stdout",
     "output_type": "stream",
     "text": [
      "     A          B    C  D      E    F\n",
      "0  1.0 2013-01-02  1.0  3   test  foo\n",
      "1  1.0 2013-01-02  1.0  3  train  foo\n",
      "2  1.0 2013-01-02  1.0  3   test  foo\n",
      "     A          B    C  D      E    F\n",
      "0  1.0 2013-01-02  1.0  3   test  foo\n",
      "1  1.0 2013-01-02  1.0  3  train  foo\n",
      "2  1.0 2013-01-02  1.0  3   test  foo\n",
      "3  1.0 2013-01-02  1.0  3  train  foo\n"
     ]
    },
    {
     "data": {
      "text/html": [
       "<div>\n",
       "<style scoped>\n",
       "    .dataframe tbody tr th:only-of-type {\n",
       "        vertical-align: middle;\n",
       "    }\n",
       "\n",
       "    .dataframe tbody tr th {\n",
       "        vertical-align: top;\n",
       "    }\n",
       "\n",
       "    .dataframe thead th {\n",
       "        text-align: right;\n",
       "    }\n",
       "</style>\n",
       "<table border=\"1\" class=\"dataframe\">\n",
       "  <thead>\n",
       "    <tr style=\"text-align: right;\">\n",
       "      <th></th>\n",
       "      <th>A</th>\n",
       "      <th>B</th>\n",
       "      <th>C</th>\n",
       "      <th>D</th>\n",
       "      <th>E</th>\n",
       "      <th>F</th>\n",
       "    </tr>\n",
       "  </thead>\n",
       "  <tbody>\n",
       "    <tr>\n",
       "      <th>0</th>\n",
       "      <td>1.0</td>\n",
       "      <td>2013-01-02</td>\n",
       "      <td>1.0</td>\n",
       "      <td>3</td>\n",
       "      <td>test</td>\n",
       "      <td>foo</td>\n",
       "    </tr>\n",
       "    <tr>\n",
       "      <th>1</th>\n",
       "      <td>1.0</td>\n",
       "      <td>2013-01-02</td>\n",
       "      <td>1.0</td>\n",
       "      <td>3</td>\n",
       "      <td>train</td>\n",
       "      <td>foo</td>\n",
       "    </tr>\n",
       "    <tr>\n",
       "      <th>2</th>\n",
       "      <td>1.0</td>\n",
       "      <td>2013-01-02</td>\n",
       "      <td>1.0</td>\n",
       "      <td>3</td>\n",
       "      <td>test</td>\n",
       "      <td>foo</td>\n",
       "    </tr>\n",
       "  </tbody>\n",
       "</table>\n",
       "</div>"
      ],
      "text/plain": [
       "     A          B    C  D      E    F\n",
       "0  1.0 2013-01-02  1.0  3   test  foo\n",
       "1  1.0 2013-01-02  1.0  3  train  foo\n",
       "2  1.0 2013-01-02  1.0  3   test  foo"
      ]
     },
     "execution_count": 89,
     "metadata": {},
     "output_type": "execute_result"
    }
   ],
   "source": [
    "print(df2[:3])  # 이런 형태는 사용하지 말자.  3번째 까지, column 이랑 혼동된다.\n",
    "# df2.iloc[,:3] 3번째 columns 까지 인건지, df2.iloc[:3,] 3번째 row 인건지??\n",
    "\n",
    "print(df2.loc[:3,])  # 이것도 사용하지 말자.  3번 까지 , 3번이 어디있을줄 알고... \n",
    "# 정수형이 아니면 df.loc[:'서울',] 이건 괜찬을듯.\n",
    "\n",
    "df2.iloc[:3,]   # 이걸 사용하자. 3번째 까지"
   ]
  },
  {
   "cell_type": "code",
   "execution_count": 90,
   "metadata": {},
   "outputs": [
    {
     "name": "stdout",
     "output_type": "stream",
     "text": [
      "2    1.0\n",
      "3    1.0\n",
      "Name: A, dtype: float64 \n",
      "\n",
      "     A          B    C  D      E    F\n",
      "2  1.0 2013-01-02  1.0  3   test  foo\n",
      "3  1.0 2013-01-02  1.0  3  train  foo \n",
      "\n"
     ]
    },
    {
     "data": {
      "text/html": [
       "<div>\n",
       "<style scoped>\n",
       "    .dataframe tbody tr th:only-of-type {\n",
       "        vertical-align: middle;\n",
       "    }\n",
       "\n",
       "    .dataframe tbody tr th {\n",
       "        vertical-align: top;\n",
       "    }\n",
       "\n",
       "    .dataframe thead th {\n",
       "        text-align: right;\n",
       "    }\n",
       "</style>\n",
       "<table border=\"1\" class=\"dataframe\">\n",
       "  <thead>\n",
       "    <tr style=\"text-align: right;\">\n",
       "      <th></th>\n",
       "      <th>A</th>\n",
       "      <th>B</th>\n",
       "      <th>C</th>\n",
       "      <th>D</th>\n",
       "      <th>E</th>\n",
       "      <th>F</th>\n",
       "    </tr>\n",
       "  </thead>\n",
       "  <tbody>\n",
       "    <tr>\n",
       "      <th>2</th>\n",
       "      <td>1.0</td>\n",
       "      <td>2013-01-02</td>\n",
       "      <td>1.0</td>\n",
       "      <td>3</td>\n",
       "      <td>test</td>\n",
       "      <td>foo</td>\n",
       "    </tr>\n",
       "  </tbody>\n",
       "</table>\n",
       "</div>"
      ],
      "text/plain": [
       "     A          B    C  D     E    F\n",
       "2  1.0 2013-01-02  1.0  3  test  foo"
      ]
     },
     "execution_count": 90,
     "metadata": {},
     "output_type": "execute_result"
    }
   ],
   "source": [
    "#chained indexing?\n",
    "print(df2[2:4]['A'],'\\n')     # row / col\n",
    "print(df2[2:4][0:4], '\\n')     # row seriese 의 row serise\n",
    "df2[2:4][0:1]                 # 2,3 row 로 만들어진 것에서 다시 0,1 row 첫번째 "
   ]
  },
  {
   "cell_type": "code",
   "execution_count": 91,
   "metadata": {},
   "outputs": [
    {
     "data": {
      "text/plain": [
       "A                    1.0\n",
       "B    2013-01-02 00:00:00\n",
       "C                    1.0\n",
       "D                      3\n",
       "E                   test\n",
       "F                    foo\n",
       "Name: 0, dtype: object"
      ]
     },
     "execution_count": 91,
     "metadata": {},
     "output_type": "execute_result"
    }
   ],
   "source": [
    "df2.iloc[0]     # 암묵적 인덱스 0 번째 선택"
   ]
  },
  {
   "cell_type": "code",
   "execution_count": 92,
   "metadata": {},
   "outputs": [
    {
     "data": {
      "text/plain": [
       "A                    1.0\n",
       "B    2013-01-02 00:00:00\n",
       "C                    1.0\n",
       "D                      3\n",
       "E                   test\n",
       "F                    foo\n",
       "Name: 2, dtype: object"
      ]
     },
     "execution_count": 92,
     "metadata": {},
     "output_type": "execute_result"
    }
   ],
   "source": [
    "df2.loc[2]        # 명시적 인덱스 2 선택"
   ]
  },
  {
   "attachments": {},
   "cell_type": "markdown",
   "metadata": {},
   "source": [
    "Row\n",
    "\n",
    "df.shape[0] = row 행갯수\n",
    "\n",
    "df.iloc[몇번째 row,]  \n",
    "df.loc[row_label,]  ```---> row_label 대신 조건절이 들어가면 조건절은 해당 row 의 index label 을 리턴한다.```\n",
    "\n",
    "으로만 사용\n"
   ]
  },
  {
   "cell_type": "code",
   "execution_count": 93,
   "metadata": {},
   "outputs": [
    {
     "data": {
      "text/plain": [
       "((4, 6), 4, 6)"
      ]
     },
     "execution_count": 93,
     "metadata": {},
     "output_type": "execute_result"
    }
   ],
   "source": [
    "df2.shape, df2.shape[0], df2.shape[1]"
   ]
  },
  {
   "cell_type": "code",
   "execution_count": 94,
   "metadata": {},
   "outputs": [
    {
     "name": "stdout",
     "output_type": "stream",
     "text": [
      "A    0.530079\n",
      "B    0.676670\n",
      "C    0.216498\n",
      "D    0.304434\n",
      "Name: 2013-01-01 00:00:00, dtype: float64 \n",
      "\n",
      "                   A        B         C         D\n",
      "2013-01-01  0.530079  0.67667  0.216498  0.304434\n",
      "2013-01-02 -0.966575  0.07382  1.850707 -0.067192 \n",
      "\n",
      "                   A        B         C         D\n",
      "2013-01-01  0.530079  0.67667  0.216498  0.304434\n",
      "2013-01-02 -0.966575  0.07382  1.850707 -0.067192 \n",
      "\n",
      "A    0.530079\n",
      "B    0.676670\n",
      "C    0.216498\n",
      "D    0.304434\n",
      "Name: 2013-01-01 00:00:00, dtype: float64 \n",
      "\n",
      "                   A        B         C         D\n",
      "2013-01-01  0.530079  0.67667  0.216498  0.304434 \n",
      "\n",
      "                   A        B         C         D\n",
      "2013-01-01  0.530079  0.67667  0.216498  0.304434\n",
      "2013-01-02 -0.966575  0.07382  1.850707 -0.067192 \n",
      "\n"
     ]
    }
   ],
   "source": [
    "# row label (명시적, 몇번) 을 이용해서 row 을 인덱싱\n",
    "# index 가 int 인 경우 df.loc[index_int] 도 가능, \n",
    "print(df.loc['20130101'],'\\n')              # series\n",
    "print(df.loc['20130101':'20130102'],'\\n')   # dataFrame\n",
    "print(df.loc[['20130101','20130102']],'\\n')\n",
    "\n",
    "# row location (암묵적 , 몇번째) index 을 이용해서 row 인덱싱\n",
    "print(df.iloc[0],'\\n')                      # series\n",
    "print(df.iloc[0:1],'\\n')                    #dataFrame\n",
    "print(df.iloc[[0,1]],'\\n')\n",
    "\n"
   ]
  },
  {
   "attachments": {},
   "cell_type": "markdown",
   "metadata": {},
   "source": [
    "Column\n",
    "\n",
    "df.shape[1] = columns 열갯수\n",
    "\n",
    "특정 column 은 몇번째 column 인가? 는 어떻게 찾지?"
   ]
  },
  {
   "cell_type": "code",
   "execution_count": 95,
   "metadata": {},
   "outputs": [
    {
     "name": "stdout",
     "output_type": "stream",
     "text": [
      "2013-01-01    0.530079\n",
      "2013-01-02   -0.966575\n",
      "2013-01-03   -0.419120\n",
      "2013-01-04   -1.599862\n",
      "2013-01-05   -1.051489\n",
      "2013-01-06   -0.064495\n",
      "Freq: D, Name: A, dtype: float64 \n",
      "\n",
      "                   A\n",
      "2013-01-01  0.530079\n",
      "2013-01-02 -0.966575\n",
      "2013-01-03 -0.419120\n",
      "2013-01-04 -1.599862\n",
      "2013-01-05 -1.051489\n",
      "2013-01-06 -0.064495 \n",
      "\n",
      "                   A         B\n",
      "2013-01-01  0.530079  0.676670\n",
      "2013-01-02 -0.966575  0.073820\n",
      "2013-01-03 -0.419120 -1.919785\n",
      "2013-01-04 -1.599862  2.503262\n",
      "2013-01-05 -1.051489  0.857625\n",
      "2013-01-06 -0.064495 -0.494565 \n",
      "\n",
      "                   A         B\n",
      "2013-01-01  0.530079  0.676670\n",
      "2013-01-02 -0.966575  0.073820\n",
      "2013-01-03 -0.419120 -1.919785\n",
      "2013-01-04 -1.599862  2.503262\n",
      "2013-01-05 -1.051489  0.857625\n",
      "2013-01-06 -0.064495 -0.494565 \n",
      "\n"
     ]
    }
   ],
   "source": [
    "\n",
    "# column lable 을 이용해서 column 인덱싱\n",
    "# print(df.loc['A'],'\\n')      # 'A' 을 row 인텍싱으로 생각해서 \n",
    "print(df.loc[:,'A'],'\\n')\n",
    "print(df.loc[:, ['A']],'\\n')\n",
    "print(df.loc[:,'A':'B'],'\\n')\n",
    "print(df.loc[:,['A','B']],'\\n')\n"
   ]
  },
  {
   "cell_type": "code",
   "execution_count": 96,
   "metadata": {},
   "outputs": [
    {
     "data": {
      "text/html": [
       "<div>\n",
       "<style scoped>\n",
       "    .dataframe tbody tr th:only-of-type {\n",
       "        vertical-align: middle;\n",
       "    }\n",
       "\n",
       "    .dataframe tbody tr th {\n",
       "        vertical-align: top;\n",
       "    }\n",
       "\n",
       "    .dataframe thead th {\n",
       "        text-align: right;\n",
       "    }\n",
       "</style>\n",
       "<table border=\"1\" class=\"dataframe\">\n",
       "  <thead>\n",
       "    <tr style=\"text-align: right;\">\n",
       "      <th></th>\n",
       "      <th>A</th>\n",
       "      <th>B</th>\n",
       "      <th>C</th>\n",
       "      <th>D</th>\n",
       "    </tr>\n",
       "  </thead>\n",
       "  <tbody>\n",
       "    <tr>\n",
       "      <th>2013-01-01</th>\n",
       "      <td>0.530079</td>\n",
       "      <td>0.676670</td>\n",
       "      <td>0.216498</td>\n",
       "      <td>0.304434</td>\n",
       "    </tr>\n",
       "    <tr>\n",
       "      <th>2013-01-02</th>\n",
       "      <td>-0.966575</td>\n",
       "      <td>0.073820</td>\n",
       "      <td>1.850707</td>\n",
       "      <td>-0.067192</td>\n",
       "    </tr>\n",
       "    <tr>\n",
       "      <th>2013-01-03</th>\n",
       "      <td>-0.419120</td>\n",
       "      <td>-1.919785</td>\n",
       "      <td>-0.834839</td>\n",
       "      <td>0.497296</td>\n",
       "    </tr>\n",
       "    <tr>\n",
       "      <th>2013-01-04</th>\n",
       "      <td>-1.599862</td>\n",
       "      <td>2.503262</td>\n",
       "      <td>0.729267</td>\n",
       "      <td>0.909971</td>\n",
       "    </tr>\n",
       "    <tr>\n",
       "      <th>2013-01-05</th>\n",
       "      <td>-1.051489</td>\n",
       "      <td>0.857625</td>\n",
       "      <td>0.791734</td>\n",
       "      <td>-0.864913</td>\n",
       "    </tr>\n",
       "  </tbody>\n",
       "</table>\n",
       "</div>"
      ],
      "text/plain": [
       "                   A         B         C         D\n",
       "2013-01-01  0.530079  0.676670  0.216498  0.304434\n",
       "2013-01-02 -0.966575  0.073820  1.850707 -0.067192\n",
       "2013-01-03 -0.419120 -1.919785 -0.834839  0.497296\n",
       "2013-01-04 -1.599862  2.503262  0.729267  0.909971\n",
       "2013-01-05 -1.051489  0.857625  0.791734 -0.864913"
      ]
     },
     "execution_count": 96,
     "metadata": {},
     "output_type": "execute_result"
    }
   ],
   "source": [
    "df.head()"
   ]
  },
  {
   "cell_type": "code",
   "execution_count": 97,
   "metadata": {},
   "outputs": [
    {
     "name": "stdout",
     "output_type": "stream",
     "text": [
      "A    0.530079\n",
      "B    0.676670\n",
      "C    0.216498\n",
      "D    0.304434\n",
      "Name: 2013-01-01 00:00:00, dtype: float64 \n",
      "\n",
      "2013-01-01    0.530079\n",
      "2013-01-02   -0.966575\n",
      "2013-01-03   -0.419120\n",
      "2013-01-04   -1.599862\n",
      "2013-01-05   -1.051489\n",
      "2013-01-06   -0.064495\n",
      "Freq: D, Name: A, dtype: float64 \n",
      "\n",
      "                   A\n",
      "2013-01-01  0.530079\n",
      "2013-01-02 -0.966575\n",
      "2013-01-03 -0.419120\n",
      "2013-01-04 -1.599862\n",
      "2013-01-05 -1.051489\n",
      "2013-01-06 -0.064495\n"
     ]
    }
   ],
   "source": [
    "\n",
    "# column locatin (몇번째) index 을 이용해서 column 인덱싱\n",
    "print(df.iloc[0],'\\n')          # 0 을 row 인텍싱으로 생각해서 0번째 location row 을 인텍싱\n",
    "print(df.iloc[:,0],'\\n')        # 0 번째 column series 리턴\n",
    "print(df.iloc[:,[0]])           # 0 번째 column df 리턴\n"
   ]
  },
  {
   "cell_type": "code",
   "execution_count": 98,
   "metadata": {},
   "outputs": [
    {
     "name": "stdout",
     "output_type": "stream",
     "text": [
      "                   A         B\n",
      "2013-01-01  0.530079  0.676670\n",
      "2013-01-02 -0.966575  0.073820\n",
      "2013-01-03 -0.419120 -1.919785\n",
      "2013-01-04 -1.599862  2.503262\n",
      "2013-01-05 -1.051489  0.857625\n",
      "2013-01-06 -0.064495 -0.494565 \n",
      "\n"
     ]
    }
   ],
   "source": [
    "print(df.iloc[:,0:2],'\\n')\n"
   ]
  },
  {
   "cell_type": "code",
   "execution_count": 99,
   "metadata": {},
   "outputs": [
    {
     "name": "stdout",
     "output_type": "stream",
     "text": [
      "                   A         B         D\n",
      "2013-01-01  0.530079  0.676670  0.304434\n",
      "2013-01-02 -0.966575  0.073820 -0.067192\n",
      "2013-01-03 -0.419120 -1.919785  0.497296\n",
      "2013-01-04 -1.599862  2.503262  0.909971\n",
      "2013-01-05 -1.051489  0.857625 -0.864913\n",
      "2013-01-06 -0.064495 -0.494565  1.125469 \n",
      "\n"
     ]
    }
   ],
   "source": [
    "print(df.iloc[:,[0,1,3]],'\\n')"
   ]
  },
  {
   "cell_type": "code",
   "execution_count": 100,
   "metadata": {},
   "outputs": [
    {
     "data": {
      "text/html": [
       "<div>\n",
       "<style scoped>\n",
       "    .dataframe tbody tr th:only-of-type {\n",
       "        vertical-align: middle;\n",
       "    }\n",
       "\n",
       "    .dataframe tbody tr th {\n",
       "        vertical-align: top;\n",
       "    }\n",
       "\n",
       "    .dataframe thead th {\n",
       "        text-align: right;\n",
       "    }\n",
       "</style>\n",
       "<table border=\"1\" class=\"dataframe\">\n",
       "  <thead>\n",
       "    <tr style=\"text-align: right;\">\n",
       "      <th></th>\n",
       "      <th>a</th>\n",
       "      <th>B</th>\n",
       "      <th>C</th>\n",
       "      <th>D</th>\n",
       "    </tr>\n",
       "  </thead>\n",
       "  <tbody>\n",
       "    <tr>\n",
       "      <th>2013-01-01</th>\n",
       "      <td>0.530079</td>\n",
       "      <td>0.676670</td>\n",
       "      <td>0.216498</td>\n",
       "      <td>0.304434</td>\n",
       "    </tr>\n",
       "    <tr>\n",
       "      <th>2013-01-02</th>\n",
       "      <td>-0.966575</td>\n",
       "      <td>0.073820</td>\n",
       "      <td>1.850707</td>\n",
       "      <td>-0.067192</td>\n",
       "    </tr>\n",
       "    <tr>\n",
       "      <th>2013-01-03</th>\n",
       "      <td>-0.419120</td>\n",
       "      <td>-1.919785</td>\n",
       "      <td>-0.834839</td>\n",
       "      <td>0.497296</td>\n",
       "    </tr>\n",
       "    <tr>\n",
       "      <th>2013-01-04</th>\n",
       "      <td>-1.599862</td>\n",
       "      <td>2.503262</td>\n",
       "      <td>0.729267</td>\n",
       "      <td>0.909971</td>\n",
       "    </tr>\n",
       "    <tr>\n",
       "      <th>2013-01-05</th>\n",
       "      <td>-1.051489</td>\n",
       "      <td>0.857625</td>\n",
       "      <td>0.791734</td>\n",
       "      <td>-0.864913</td>\n",
       "    </tr>\n",
       "    <tr>\n",
       "      <th>2013-01-06</th>\n",
       "      <td>-0.064495</td>\n",
       "      <td>-0.494565</td>\n",
       "      <td>1.023769</td>\n",
       "      <td>1.125469</td>\n",
       "    </tr>\n",
       "  </tbody>\n",
       "</table>\n",
       "</div>"
      ],
      "text/plain": [
       "                   a         B         C         D\n",
       "2013-01-01  0.530079  0.676670  0.216498  0.304434\n",
       "2013-01-02 -0.966575  0.073820  1.850707 -0.067192\n",
       "2013-01-03 -0.419120 -1.919785 -0.834839  0.497296\n",
       "2013-01-04 -1.599862  2.503262  0.729267  0.909971\n",
       "2013-01-05 -1.051489  0.857625  0.791734 -0.864913\n",
       "2013-01-06 -0.064495 -0.494565  1.023769  1.125469"
      ]
     },
     "execution_count": 100,
     "metadata": {},
     "output_type": "execute_result"
    }
   ],
   "source": [
    "df.rename({'A':'a'},axis=1)"
   ]
  },
  {
   "cell_type": "code",
   "execution_count": 101,
   "metadata": {},
   "outputs": [
    {
     "data": {
      "text/html": [
       "<div>\n",
       "<style scoped>\n",
       "    .dataframe tbody tr th:only-of-type {\n",
       "        vertical-align: middle;\n",
       "    }\n",
       "\n",
       "    .dataframe tbody tr th {\n",
       "        vertical-align: top;\n",
       "    }\n",
       "\n",
       "    .dataframe thead th {\n",
       "        text-align: right;\n",
       "    }\n",
       "</style>\n",
       "<table border=\"1\" class=\"dataframe\">\n",
       "  <thead>\n",
       "    <tr style=\"text-align: right;\">\n",
       "      <th></th>\n",
       "      <th>A_S</th>\n",
       "      <th>B_S</th>\n",
       "      <th>C_S</th>\n",
       "      <th>D_S</th>\n",
       "    </tr>\n",
       "  </thead>\n",
       "  <tbody>\n",
       "    <tr>\n",
       "      <th>2013-01-01</th>\n",
       "      <td>0.530079</td>\n",
       "      <td>0.676670</td>\n",
       "      <td>0.216498</td>\n",
       "      <td>0.304434</td>\n",
       "    </tr>\n",
       "    <tr>\n",
       "      <th>2013-01-02</th>\n",
       "      <td>-0.966575</td>\n",
       "      <td>0.073820</td>\n",
       "      <td>1.850707</td>\n",
       "      <td>-0.067192</td>\n",
       "    </tr>\n",
       "    <tr>\n",
       "      <th>2013-01-03</th>\n",
       "      <td>-0.419120</td>\n",
       "      <td>-1.919785</td>\n",
       "      <td>-0.834839</td>\n",
       "      <td>0.497296</td>\n",
       "    </tr>\n",
       "    <tr>\n",
       "      <th>2013-01-04</th>\n",
       "      <td>-1.599862</td>\n",
       "      <td>2.503262</td>\n",
       "      <td>0.729267</td>\n",
       "      <td>0.909971</td>\n",
       "    </tr>\n",
       "    <tr>\n",
       "      <th>2013-01-05</th>\n",
       "      <td>-1.051489</td>\n",
       "      <td>0.857625</td>\n",
       "      <td>0.791734</td>\n",
       "      <td>-0.864913</td>\n",
       "    </tr>\n",
       "    <tr>\n",
       "      <th>2013-01-06</th>\n",
       "      <td>-0.064495</td>\n",
       "      <td>-0.494565</td>\n",
       "      <td>1.023769</td>\n",
       "      <td>1.125469</td>\n",
       "    </tr>\n",
       "  </tbody>\n",
       "</table>\n",
       "</div>"
      ],
      "text/plain": [
       "                 A_S       B_S       C_S       D_S\n",
       "2013-01-01  0.530079  0.676670  0.216498  0.304434\n",
       "2013-01-02 -0.966575  0.073820  1.850707 -0.067192\n",
       "2013-01-03 -0.419120 -1.919785 -0.834839  0.497296\n",
       "2013-01-04 -1.599862  2.503262  0.729267  0.909971\n",
       "2013-01-05 -1.051489  0.857625  0.791734 -0.864913\n",
       "2013-01-06 -0.064495 -0.494565  1.023769  1.125469"
      ]
     },
     "execution_count": 101,
     "metadata": {},
     "output_type": "execute_result"
    }
   ],
   "source": [
    "df.add_suffix('_S')"
   ]
  },
  {
   "cell_type": "code",
   "execution_count": 102,
   "metadata": {},
   "outputs": [
    {
     "data": {
      "text/html": [
       "<div>\n",
       "<style scoped>\n",
       "    .dataframe tbody tr th:only-of-type {\n",
       "        vertical-align: middle;\n",
       "    }\n",
       "\n",
       "    .dataframe tbody tr th {\n",
       "        vertical-align: top;\n",
       "    }\n",
       "\n",
       "    .dataframe thead th {\n",
       "        text-align: right;\n",
       "    }\n",
       "</style>\n",
       "<table border=\"1\" class=\"dataframe\">\n",
       "  <thead>\n",
       "    <tr style=\"text-align: right;\">\n",
       "      <th></th>\n",
       "      <th>A</th>\n",
       "      <th>B</th>\n",
       "      <th>C</th>\n",
       "      <th>D</th>\n",
       "    </tr>\n",
       "  </thead>\n",
       "  <tbody>\n",
       "    <tr>\n",
       "      <th>2013-01-06</th>\n",
       "      <td>-0.064495</td>\n",
       "      <td>-0.494565</td>\n",
       "      <td>1.023769</td>\n",
       "      <td>1.125469</td>\n",
       "    </tr>\n",
       "    <tr>\n",
       "      <th>2013-01-05</th>\n",
       "      <td>-1.051489</td>\n",
       "      <td>0.857625</td>\n",
       "      <td>0.791734</td>\n",
       "      <td>-0.864913</td>\n",
       "    </tr>\n",
       "    <tr>\n",
       "      <th>2013-01-04</th>\n",
       "      <td>-1.599862</td>\n",
       "      <td>2.503262</td>\n",
       "      <td>0.729267</td>\n",
       "      <td>0.909971</td>\n",
       "    </tr>\n",
       "    <tr>\n",
       "      <th>2013-01-03</th>\n",
       "      <td>-0.419120</td>\n",
       "      <td>-1.919785</td>\n",
       "      <td>-0.834839</td>\n",
       "      <td>0.497296</td>\n",
       "    </tr>\n",
       "    <tr>\n",
       "      <th>2013-01-02</th>\n",
       "      <td>-0.966575</td>\n",
       "      <td>0.073820</td>\n",
       "      <td>1.850707</td>\n",
       "      <td>-0.067192</td>\n",
       "    </tr>\n",
       "    <tr>\n",
       "      <th>2013-01-01</th>\n",
       "      <td>0.530079</td>\n",
       "      <td>0.676670</td>\n",
       "      <td>0.216498</td>\n",
       "      <td>0.304434</td>\n",
       "    </tr>\n",
       "  </tbody>\n",
       "</table>\n",
       "</div>"
      ],
      "text/plain": [
       "                   A         B         C         D\n",
       "2013-01-06 -0.064495 -0.494565  1.023769  1.125469\n",
       "2013-01-05 -1.051489  0.857625  0.791734 -0.864913\n",
       "2013-01-04 -1.599862  2.503262  0.729267  0.909971\n",
       "2013-01-03 -0.419120 -1.919785 -0.834839  0.497296\n",
       "2013-01-02 -0.966575  0.073820  1.850707 -0.067192\n",
       "2013-01-01  0.530079  0.676670  0.216498  0.304434"
      ]
     },
     "execution_count": 102,
     "metadata": {},
     "output_type": "execute_result"
    }
   ],
   "source": [
    "df.loc[::-1]   # row 순서 역순"
   ]
  },
  {
   "cell_type": "code",
   "execution_count": 103,
   "metadata": {},
   "outputs": [
    {
     "data": {
      "text/html": [
       "<div>\n",
       "<style scoped>\n",
       "    .dataframe tbody tr th:only-of-type {\n",
       "        vertical-align: middle;\n",
       "    }\n",
       "\n",
       "    .dataframe tbody tr th {\n",
       "        vertical-align: top;\n",
       "    }\n",
       "\n",
       "    .dataframe thead th {\n",
       "        text-align: right;\n",
       "    }\n",
       "</style>\n",
       "<table border=\"1\" class=\"dataframe\">\n",
       "  <thead>\n",
       "    <tr style=\"text-align: right;\">\n",
       "      <th></th>\n",
       "      <th>D</th>\n",
       "      <th>C</th>\n",
       "      <th>B</th>\n",
       "      <th>A</th>\n",
       "    </tr>\n",
       "  </thead>\n",
       "  <tbody>\n",
       "    <tr>\n",
       "      <th>2013-01-01</th>\n",
       "      <td>0.304434</td>\n",
       "      <td>0.216498</td>\n",
       "      <td>0.676670</td>\n",
       "      <td>0.530079</td>\n",
       "    </tr>\n",
       "    <tr>\n",
       "      <th>2013-01-02</th>\n",
       "      <td>-0.067192</td>\n",
       "      <td>1.850707</td>\n",
       "      <td>0.073820</td>\n",
       "      <td>-0.966575</td>\n",
       "    </tr>\n",
       "    <tr>\n",
       "      <th>2013-01-03</th>\n",
       "      <td>0.497296</td>\n",
       "      <td>-0.834839</td>\n",
       "      <td>-1.919785</td>\n",
       "      <td>-0.419120</td>\n",
       "    </tr>\n",
       "    <tr>\n",
       "      <th>2013-01-04</th>\n",
       "      <td>0.909971</td>\n",
       "      <td>0.729267</td>\n",
       "      <td>2.503262</td>\n",
       "      <td>-1.599862</td>\n",
       "    </tr>\n",
       "    <tr>\n",
       "      <th>2013-01-05</th>\n",
       "      <td>-0.864913</td>\n",
       "      <td>0.791734</td>\n",
       "      <td>0.857625</td>\n",
       "      <td>-1.051489</td>\n",
       "    </tr>\n",
       "    <tr>\n",
       "      <th>2013-01-06</th>\n",
       "      <td>1.125469</td>\n",
       "      <td>1.023769</td>\n",
       "      <td>-0.494565</td>\n",
       "      <td>-0.064495</td>\n",
       "    </tr>\n",
       "  </tbody>\n",
       "</table>\n",
       "</div>"
      ],
      "text/plain": [
       "                   D         C         B         A\n",
       "2013-01-01  0.304434  0.216498  0.676670  0.530079\n",
       "2013-01-02 -0.067192  1.850707  0.073820 -0.966575\n",
       "2013-01-03  0.497296 -0.834839 -1.919785 -0.419120\n",
       "2013-01-04  0.909971  0.729267  2.503262 -1.599862\n",
       "2013-01-05 -0.864913  0.791734  0.857625 -1.051489\n",
       "2013-01-06  1.125469  1.023769 -0.494565 -0.064495"
      ]
     },
     "execution_count": 103,
     "metadata": {},
     "output_type": "execute_result"
    }
   ],
   "source": [
    "df.loc[:,::-1]  # column 역순"
   ]
  },
  {
   "attachments": {},
   "cell_type": "markdown",
   "metadata": {},
   "source": [
    "Multi-indxing"
   ]
  },
  {
   "cell_type": "code",
   "execution_count": 104,
   "metadata": {},
   "outputs": [
    {
     "data": {
      "text/html": [
       "<div>\n",
       "<style scoped>\n",
       "    .dataframe tbody tr th:only-of-type {\n",
       "        vertical-align: middle;\n",
       "    }\n",
       "\n",
       "    .dataframe tbody tr th {\n",
       "        vertical-align: top;\n",
       "    }\n",
       "\n",
       "    .dataframe thead th {\n",
       "        text-align: right;\n",
       "    }\n",
       "</style>\n",
       "<table border=\"1\" class=\"dataframe\">\n",
       "  <thead>\n",
       "    <tr style=\"text-align: right;\">\n",
       "      <th></th>\n",
       "      <th>A</th>\n",
       "      <th>B</th>\n",
       "      <th>C</th>\n",
       "      <th>D</th>\n",
       "      <th>E</th>\n",
       "      <th>F</th>\n",
       "    </tr>\n",
       "  </thead>\n",
       "  <tbody>\n",
       "    <tr>\n",
       "      <th>0</th>\n",
       "      <td>1.0</td>\n",
       "      <td>2013-01-02</td>\n",
       "      <td>1.0</td>\n",
       "      <td>3</td>\n",
       "      <td>test</td>\n",
       "      <td>foo</td>\n",
       "    </tr>\n",
       "    <tr>\n",
       "      <th>1</th>\n",
       "      <td>1.0</td>\n",
       "      <td>2013-01-02</td>\n",
       "      <td>1.0</td>\n",
       "      <td>3</td>\n",
       "      <td>train</td>\n",
       "      <td>foo</td>\n",
       "    </tr>\n",
       "    <tr>\n",
       "      <th>2</th>\n",
       "      <td>1.0</td>\n",
       "      <td>2013-01-02</td>\n",
       "      <td>1.0</td>\n",
       "      <td>3</td>\n",
       "      <td>test</td>\n",
       "      <td>foo</td>\n",
       "    </tr>\n",
       "    <tr>\n",
       "      <th>3</th>\n",
       "      <td>1.0</td>\n",
       "      <td>2013-01-02</td>\n",
       "      <td>1.0</td>\n",
       "      <td>3</td>\n",
       "      <td>train</td>\n",
       "      <td>foo</td>\n",
       "    </tr>\n",
       "  </tbody>\n",
       "</table>\n",
       "</div>"
      ],
      "text/plain": [
       "     A          B    C  D      E    F\n",
       "0  1.0 2013-01-02  1.0  3   test  foo\n",
       "1  1.0 2013-01-02  1.0  3  train  foo\n",
       "2  1.0 2013-01-02  1.0  3   test  foo\n",
       "3  1.0 2013-01-02  1.0  3  train  foo"
      ]
     },
     "execution_count": 104,
     "metadata": {},
     "output_type": "execute_result"
    }
   ],
   "source": [
    "df2"
   ]
  },
  {
   "cell_type": "code",
   "execution_count": 105,
   "metadata": {},
   "outputs": [
    {
     "data": {
      "text/plain": [
       "0    1.0\n",
       "1    1.0\n",
       "2    1.0\n",
       "Name: A, dtype: float64"
      ]
     },
     "execution_count": 105,
     "metadata": {},
     "output_type": "execute_result"
    }
   ],
   "source": [
    "df2.loc[0:2,'A']"
   ]
  },
  {
   "cell_type": "code",
   "execution_count": 106,
   "metadata": {},
   "outputs": [
    {
     "name": "stdout",
     "output_type": "stream",
     "text": [
      "     A          B\n",
      "0  1.0 2013-01-02\n",
      "1  1.0 2013-01-02\n",
      "     A          B\n",
      "0  1.0 2013-01-02\n",
      "1  1.0 2013-01-02\n"
     ]
    }
   ],
   "source": [
    "print(df2.loc[[0,1],['A','B']])    # 숫자가 lable 이다 df[[0,1]] 은 오류\n",
    "print(df2.iloc[[0,1],[0,1]])"
   ]
  },
  {
   "cell_type": "code",
   "execution_count": 107,
   "metadata": {},
   "outputs": [
    {
     "data": {
      "text/html": [
       "<div>\n",
       "<style scoped>\n",
       "    .dataframe tbody tr th:only-of-type {\n",
       "        vertical-align: middle;\n",
       "    }\n",
       "\n",
       "    .dataframe tbody tr th {\n",
       "        vertical-align: top;\n",
       "    }\n",
       "\n",
       "    .dataframe thead th {\n",
       "        text-align: right;\n",
       "    }\n",
       "</style>\n",
       "<table border=\"1\" class=\"dataframe\">\n",
       "  <thead>\n",
       "    <tr style=\"text-align: right;\">\n",
       "      <th></th>\n",
       "      <th>A</th>\n",
       "      <th>B</th>\n",
       "      <th>C</th>\n",
       "      <th>D</th>\n",
       "    </tr>\n",
       "  </thead>\n",
       "  <tbody>\n",
       "    <tr>\n",
       "      <th>2013-01-01</th>\n",
       "      <td>0.530079</td>\n",
       "      <td>0.676670</td>\n",
       "      <td>0.216498</td>\n",
       "      <td>0.304434</td>\n",
       "    </tr>\n",
       "    <tr>\n",
       "      <th>2013-01-02</th>\n",
       "      <td>-0.966575</td>\n",
       "      <td>0.073820</td>\n",
       "      <td>1.850707</td>\n",
       "      <td>-0.067192</td>\n",
       "    </tr>\n",
       "    <tr>\n",
       "      <th>2013-01-03</th>\n",
       "      <td>-0.419120</td>\n",
       "      <td>-1.919785</td>\n",
       "      <td>-0.834839</td>\n",
       "      <td>0.497296</td>\n",
       "    </tr>\n",
       "    <tr>\n",
       "      <th>2013-01-04</th>\n",
       "      <td>-1.599862</td>\n",
       "      <td>2.503262</td>\n",
       "      <td>0.729267</td>\n",
       "      <td>0.909971</td>\n",
       "    </tr>\n",
       "    <tr>\n",
       "      <th>2013-01-05</th>\n",
       "      <td>-1.051489</td>\n",
       "      <td>0.857625</td>\n",
       "      <td>0.791734</td>\n",
       "      <td>-0.864913</td>\n",
       "    </tr>\n",
       "    <tr>\n",
       "      <th>2013-01-06</th>\n",
       "      <td>-0.064495</td>\n",
       "      <td>-0.494565</td>\n",
       "      <td>1.023769</td>\n",
       "      <td>1.125469</td>\n",
       "    </tr>\n",
       "  </tbody>\n",
       "</table>\n",
       "</div>"
      ],
      "text/plain": [
       "                   A         B         C         D\n",
       "2013-01-01  0.530079  0.676670  0.216498  0.304434\n",
       "2013-01-02 -0.966575  0.073820  1.850707 -0.067192\n",
       "2013-01-03 -0.419120 -1.919785 -0.834839  0.497296\n",
       "2013-01-04 -1.599862  2.503262  0.729267  0.909971\n",
       "2013-01-05 -1.051489  0.857625  0.791734 -0.864913\n",
       "2013-01-06 -0.064495 -0.494565  1.023769  1.125469"
      ]
     },
     "execution_count": 107,
     "metadata": {},
     "output_type": "execute_result"
    }
   ],
   "source": [
    "df"
   ]
  },
  {
   "cell_type": "code",
   "execution_count": 108,
   "metadata": {},
   "outputs": [
    {
     "data": {
      "text/html": [
       "<div>\n",
       "<style scoped>\n",
       "    .dataframe tbody tr th:only-of-type {\n",
       "        vertical-align: middle;\n",
       "    }\n",
       "\n",
       "    .dataframe tbody tr th {\n",
       "        vertical-align: top;\n",
       "    }\n",
       "\n",
       "    .dataframe thead th {\n",
       "        text-align: right;\n",
       "    }\n",
       "</style>\n",
       "<table border=\"1\" class=\"dataframe\">\n",
       "  <thead>\n",
       "    <tr style=\"text-align: right;\">\n",
       "      <th></th>\n",
       "      <th>A</th>\n",
       "      <th>B</th>\n",
       "      <th>C</th>\n",
       "      <th>D</th>\n",
       "    </tr>\n",
       "  </thead>\n",
       "  <tbody>\n",
       "    <tr>\n",
       "      <th>2013-01-04</th>\n",
       "      <td>-1.599862</td>\n",
       "      <td>2.503262</td>\n",
       "      <td>0.729267</td>\n",
       "      <td>0.909971</td>\n",
       "    </tr>\n",
       "  </tbody>\n",
       "</table>\n",
       "</div>"
      ],
      "text/plain": [
       "                   A         B         C         D\n",
       "2013-01-04 -1.599862  2.503262  0.729267  0.909971"
      ]
     },
     "execution_count": 108,
     "metadata": {},
     "output_type": "execute_result"
    }
   ],
   "source": [
    "df[2:6][df[2:6].A < 0][1:2]\n",
    "\n",
    "# df 의 2부터 6 row 중 A column  값이 0 보다 작은 두번재 row "
   ]
  },
  {
   "cell_type": "code",
   "execution_count": 109,
   "metadata": {},
   "outputs": [
    {
     "name": "stdout",
     "output_type": "stream",
     "text": [
      "                   A         B         C         D\n",
      "2013-01-03 -0.419120 -1.919785 -0.834839  0.497296\n",
      "2013-01-04 -1.599862  2.503262  0.729267  0.909971\n",
      "2013-01-05 -1.051489  0.857625  0.791734 -0.864913\n",
      "2013-01-06 -0.064495 -0.494565  1.023769  1.125469\n",
      "2013-01-03    True\n",
      "2013-01-04    True\n",
      "2013-01-05    True\n",
      "2013-01-06    True\n",
      "Freq: D, Name: A, dtype: bool\n"
     ]
    }
   ],
   "source": [
    "print(df[2:6])\n",
    "print(df[2:6].A<0)\n",
    "\n",
    "# 2개의 index가 같아야 한다. \n",
    "# IndexingError: Unalignable boolean Series provided as indexer (index of the boolean Series and of the indexed object do not match)."
   ]
  },
  {
   "attachments": {},
   "cell_type": "markdown",
   "metadata": {},
   "source": [
    "Boolean indexing\n",
    "\n",
    "```(df[])[(df[]) 조건][column]```  \n",
    "```(df[]).loc[ (df[]) 조건 , column ]```\n",
    "\n",
    "iloc 는 boolean index 을 사용할 수 없다.  \n",
    "iLocation based boolean indexing on an integer type is not available"
   ]
  },
  {
   "cell_type": "code",
   "execution_count": 110,
   "metadata": {},
   "outputs": [
    {
     "data": {
      "text/plain": [
       "2013-01-01    0.67667\n",
       "Freq: D, Name: B, dtype: float64"
      ]
     },
     "execution_count": 110,
     "metadata": {},
     "output_type": "execute_result"
    }
   ],
   "source": [
    "df[df['A']>0]['B']"
   ]
  },
  {
   "cell_type": "code",
   "execution_count": 111,
   "metadata": {},
   "outputs": [
    {
     "data": {
      "text/plain": [
       "2013-01-01    0.67667\n",
       "Freq: D, Name: B, dtype: float64"
      ]
     },
     "execution_count": 111,
     "metadata": {},
     "output_type": "execute_result"
    }
   ],
   "source": [
    "df.loc[df['A']>0,'B']\n"
   ]
  },
  {
   "cell_type": "code",
   "execution_count": 112,
   "metadata": {},
   "outputs": [
    {
     "name": "stdout",
     "output_type": "stream",
     "text": [
      "2013-01-02    False\n",
      "2013-01-03    False\n",
      "Freq: D, Name: A, dtype: bool\n"
     ]
    },
    {
     "data": {
      "text/plain": [
       "2013-01-02    False\n",
       "2013-01-03    False\n",
       "Freq: D, Name: A, dtype: bool"
      ]
     },
     "execution_count": 112,
     "metadata": {},
     "output_type": "execute_result"
    }
   ],
   "source": [
    "print(df[1:3].A > 0)  # 이거 대신\n",
    "df.iloc[1:3].A > 0   # 이걸 사용하자"
   ]
  },
  {
   "cell_type": "code",
   "execution_count": 113,
   "metadata": {},
   "outputs": [
    {
     "data": {
      "text/html": [
       "<div>\n",
       "<style scoped>\n",
       "    .dataframe tbody tr th:only-of-type {\n",
       "        vertical-align: middle;\n",
       "    }\n",
       "\n",
       "    .dataframe tbody tr th {\n",
       "        vertical-align: top;\n",
       "    }\n",
       "\n",
       "    .dataframe thead th {\n",
       "        text-align: right;\n",
       "    }\n",
       "</style>\n",
       "<table border=\"1\" class=\"dataframe\">\n",
       "  <thead>\n",
       "    <tr style=\"text-align: right;\">\n",
       "      <th></th>\n",
       "      <th>A</th>\n",
       "      <th>B</th>\n",
       "      <th>C</th>\n",
       "      <th>D</th>\n",
       "    </tr>\n",
       "  </thead>\n",
       "  <tbody>\n",
       "  </tbody>\n",
       "</table>\n",
       "</div>"
      ],
      "text/plain": [
       "Empty DataFrame\n",
       "Columns: [A, B, C, D]\n",
       "Index: []"
      ]
     },
     "execution_count": 113,
     "metadata": {},
     "output_type": "execute_result"
    }
   ],
   "source": [
    "df.iloc[1:3][df.iloc[1:3].A >0]"
   ]
  },
  {
   "cell_type": "code",
   "execution_count": 114,
   "metadata": {},
   "outputs": [
    {
     "data": {
      "text/html": [
       "<div>\n",
       "<style scoped>\n",
       "    .dataframe tbody tr th:only-of-type {\n",
       "        vertical-align: middle;\n",
       "    }\n",
       "\n",
       "    .dataframe tbody tr th {\n",
       "        vertical-align: top;\n",
       "    }\n",
       "\n",
       "    .dataframe thead th {\n",
       "        text-align: right;\n",
       "    }\n",
       "</style>\n",
       "<table border=\"1\" class=\"dataframe\">\n",
       "  <thead>\n",
       "    <tr style=\"text-align: right;\">\n",
       "      <th></th>\n",
       "      <th>A</th>\n",
       "      <th>B</th>\n",
       "      <th>C</th>\n",
       "      <th>D</th>\n",
       "    </tr>\n",
       "  </thead>\n",
       "  <tbody>\n",
       "  </tbody>\n",
       "</table>\n",
       "</div>"
      ],
      "text/plain": [
       "Empty DataFrame\n",
       "Columns: [A, B, C, D]\n",
       "Index: []"
      ]
     },
     "execution_count": 114,
     "metadata": {},
     "output_type": "execute_result"
    }
   ],
   "source": [
    "df[1:3][df[1:3].A > 0]   # chained indexing ???"
   ]
  },
  {
   "cell_type": "code",
   "execution_count": 115,
   "metadata": {},
   "outputs": [
    {
     "data": {
      "text/plain": [
       "2013-01-02    False\n",
       "2013-01-03    False\n",
       "Freq: D, Name: A, dtype: bool"
      ]
     },
     "execution_count": 115,
     "metadata": {},
     "output_type": "execute_result"
    }
   ],
   "source": [
    "# df[df[1:3].A > 0]  은 오류가 난다.  df 의 index 와 df[1:3] 의 index 가 서로 맞지않다.\n",
    "# 조건에 대한 true 값의 index label '2013-01-02' 을 리턴한다.\n",
    "# 따라서 df['2013-01-02'] 가 오류\n",
    "\n",
    "df[1:3].A > 0"
   ]
  },
  {
   "cell_type": "code",
   "execution_count": 116,
   "metadata": {},
   "outputs": [
    {
     "data": {
      "text/html": [
       "<div>\n",
       "<style scoped>\n",
       "    .dataframe tbody tr th:only-of-type {\n",
       "        vertical-align: middle;\n",
       "    }\n",
       "\n",
       "    .dataframe tbody tr th {\n",
       "        vertical-align: top;\n",
       "    }\n",
       "\n",
       "    .dataframe thead th {\n",
       "        text-align: right;\n",
       "    }\n",
       "</style>\n",
       "<table border=\"1\" class=\"dataframe\">\n",
       "  <thead>\n",
       "    <tr style=\"text-align: right;\">\n",
       "      <th></th>\n",
       "      <th>A</th>\n",
       "      <th>B</th>\n",
       "      <th>C</th>\n",
       "      <th>D</th>\n",
       "    </tr>\n",
       "  </thead>\n",
       "  <tbody>\n",
       "  </tbody>\n",
       "</table>\n",
       "</div>"
      ],
      "text/plain": [
       "Empty DataFrame\n",
       "Columns: [A, B, C, D]\n",
       "Index: []"
      ]
     },
     "execution_count": 116,
     "metadata": {},
     "output_type": "execute_result"
    }
   ],
   "source": [
    "# Unalignable boolean Series provided as indexer (index of the boolean Series and of the indexed object do not match).\n",
    "\n",
    "# df.loc[df[1:3].A > 0] \n",
    "df[1:3].loc[df[1:3].A >0]"
   ]
  },
  {
   "cell_type": "code",
   "execution_count": 117,
   "metadata": {},
   "outputs": [
    {
     "name": "stderr",
     "output_type": "stream",
     "text": [
      "/var/folders/yn/xbyfmttd1tdc740qcs27ft9m0000gn/T/ipykernel_20423/1907405889.py:1: UserWarning: Boolean Series key will be reindexed to match DataFrame index.\n",
      "  df[1:3][df[0:4].A  > 0]['B']\n"
     ]
    },
    {
     "data": {
      "text/plain": [
       "Series([], Freq: D, Name: B, dtype: float64)"
      ]
     },
     "execution_count": 117,
     "metadata": {},
     "output_type": "execute_result"
    }
   ],
   "source": [
    "df[1:3][df[0:4].A  > 0]['B']"
   ]
  },
  {
   "cell_type": "code",
   "execution_count": 118,
   "metadata": {},
   "outputs": [
    {
     "data": {
      "text/plain": [
       "Series([], Freq: D, Name: B, dtype: float64)"
      ]
     },
     "execution_count": 118,
     "metadata": {},
     "output_type": "execute_result"
    }
   ],
   "source": [
    "#  UserWarning: Boolean Series key will be reindexed to match DataFrame index. 해결방법 \n",
    "\n",
    "X = df[1:3]\n",
    "X[X[0:4].A > 0]['B']"
   ]
  },
  {
   "cell_type": "code",
   "execution_count": 119,
   "metadata": {},
   "outputs": [
    {
     "data": {
      "text/plain": [
       "Series([], Freq: D, Name: B, dtype: float64)"
      ]
     },
     "execution_count": 119,
     "metadata": {},
     "output_type": "execute_result"
    }
   ],
   "source": [
    "df[1:3][df[1:3].A > 0]['B']\n",
    "# df1 = df[1:3]\n",
    "# df1.A > 0\n",
    "# df1['B']"
   ]
  },
  {
   "attachments": {},
   "cell_type": "markdown",
   "metadata": {},
   "source": [
    "funtion indexing\n",
    "\n",
    "```\n",
    "pipe()  : Tablewise Function Application\n",
    "apply() : Row or Column-wise Function Application (df 적용, 행/열 전달 )\n",
    "agg() and transform() : Aggregation API\n",
    "map() : Series 에서 값에 적용한다. (Series 적용, 값 전달)\n",
    "applymap() : Applying Elementwise Functions  (df 적용, 값을 전달)\n",
    "\n",
    "pd.cut()    : 조건에 따른 구간별 label\n",
    "np.where()  : 조건에 따른 값표시 (아닌값은 NaN)\n",
    "```"
   ]
  },
  {
   "cell_type": "code",
   "execution_count": 120,
   "metadata": {},
   "outputs": [
    {
     "data": {
      "text/html": [
       "<div>\n",
       "<style scoped>\n",
       "    .dataframe tbody tr th:only-of-type {\n",
       "        vertical-align: middle;\n",
       "    }\n",
       "\n",
       "    .dataframe tbody tr th {\n",
       "        vertical-align: top;\n",
       "    }\n",
       "\n",
       "    .dataframe thead th {\n",
       "        text-align: right;\n",
       "    }\n",
       "</style>\n",
       "<table border=\"1\" class=\"dataframe\">\n",
       "  <thead>\n",
       "    <tr style=\"text-align: right;\">\n",
       "      <th></th>\n",
       "      <th>A</th>\n",
       "      <th>B</th>\n",
       "      <th>C</th>\n",
       "      <th>D</th>\n",
       "    </tr>\n",
       "  </thead>\n",
       "  <tbody>\n",
       "    <tr>\n",
       "      <th>2013-01-01</th>\n",
       "      <td>0.530079</td>\n",
       "      <td>0.676670</td>\n",
       "      <td>0.216498</td>\n",
       "      <td>0.304434</td>\n",
       "    </tr>\n",
       "    <tr>\n",
       "      <th>2013-01-02</th>\n",
       "      <td>-0.966575</td>\n",
       "      <td>0.073820</td>\n",
       "      <td>1.850707</td>\n",
       "      <td>-0.067192</td>\n",
       "    </tr>\n",
       "    <tr>\n",
       "      <th>2013-01-03</th>\n",
       "      <td>-0.419120</td>\n",
       "      <td>-1.919785</td>\n",
       "      <td>-0.834839</td>\n",
       "      <td>0.497296</td>\n",
       "    </tr>\n",
       "    <tr>\n",
       "      <th>2013-01-04</th>\n",
       "      <td>-1.599862</td>\n",
       "      <td>2.503262</td>\n",
       "      <td>0.729267</td>\n",
       "      <td>0.909971</td>\n",
       "    </tr>\n",
       "    <tr>\n",
       "      <th>2013-01-05</th>\n",
       "      <td>-1.051489</td>\n",
       "      <td>0.857625</td>\n",
       "      <td>0.791734</td>\n",
       "      <td>-0.864913</td>\n",
       "    </tr>\n",
       "    <tr>\n",
       "      <th>2013-01-06</th>\n",
       "      <td>-0.064495</td>\n",
       "      <td>-0.494565</td>\n",
       "      <td>1.023769</td>\n",
       "      <td>1.125469</td>\n",
       "    </tr>\n",
       "  </tbody>\n",
       "</table>\n",
       "</div>"
      ],
      "text/plain": [
       "                   A         B         C         D\n",
       "2013-01-01  0.530079  0.676670  0.216498  0.304434\n",
       "2013-01-02 -0.966575  0.073820  1.850707 -0.067192\n",
       "2013-01-03 -0.419120 -1.919785 -0.834839  0.497296\n",
       "2013-01-04 -1.599862  2.503262  0.729267  0.909971\n",
       "2013-01-05 -1.051489  0.857625  0.791734 -0.864913\n",
       "2013-01-06 -0.064495 -0.494565  1.023769  1.125469"
      ]
     },
     "execution_count": 120,
     "metadata": {},
     "output_type": "execute_result"
    }
   ],
   "source": [
    "df"
   ]
  },
  {
   "cell_type": "code",
   "execution_count": 121,
   "metadata": {},
   "outputs": [
    {
     "data": {
      "text/html": [
       "<div>\n",
       "<style scoped>\n",
       "    .dataframe tbody tr th:only-of-type {\n",
       "        vertical-align: middle;\n",
       "    }\n",
       "\n",
       "    .dataframe tbody tr th {\n",
       "        vertical-align: top;\n",
       "    }\n",
       "\n",
       "    .dataframe thead th {\n",
       "        text-align: right;\n",
       "    }\n",
       "</style>\n",
       "<table border=\"1\" class=\"dataframe\">\n",
       "  <thead>\n",
       "    <tr style=\"text-align: right;\">\n",
       "      <th></th>\n",
       "      <th>A</th>\n",
       "      <th>B</th>\n",
       "      <th>C</th>\n",
       "      <th>D</th>\n",
       "      <th>sum_row</th>\n",
       "    </tr>\n",
       "  </thead>\n",
       "  <tbody>\n",
       "    <tr>\n",
       "      <th>2013-01-01</th>\n",
       "      <td>0.530079</td>\n",
       "      <td>0.676670</td>\n",
       "      <td>0.216498</td>\n",
       "      <td>0.304434</td>\n",
       "      <td>1.727681</td>\n",
       "    </tr>\n",
       "    <tr>\n",
       "      <th>2013-01-02</th>\n",
       "      <td>-0.966575</td>\n",
       "      <td>0.073820</td>\n",
       "      <td>1.850707</td>\n",
       "      <td>-0.067192</td>\n",
       "      <td>0.890760</td>\n",
       "    </tr>\n",
       "    <tr>\n",
       "      <th>2013-01-03</th>\n",
       "      <td>-0.419120</td>\n",
       "      <td>-1.919785</td>\n",
       "      <td>-0.834839</td>\n",
       "      <td>0.497296</td>\n",
       "      <td>-2.676448</td>\n",
       "    </tr>\n",
       "    <tr>\n",
       "      <th>2013-01-04</th>\n",
       "      <td>-1.599862</td>\n",
       "      <td>2.503262</td>\n",
       "      <td>0.729267</td>\n",
       "      <td>0.909971</td>\n",
       "      <td>2.542637</td>\n",
       "    </tr>\n",
       "    <tr>\n",
       "      <th>2013-01-05</th>\n",
       "      <td>-1.051489</td>\n",
       "      <td>0.857625</td>\n",
       "      <td>0.791734</td>\n",
       "      <td>-0.864913</td>\n",
       "      <td>-0.267043</td>\n",
       "    </tr>\n",
       "    <tr>\n",
       "      <th>2013-01-06</th>\n",
       "      <td>-0.064495</td>\n",
       "      <td>-0.494565</td>\n",
       "      <td>1.023769</td>\n",
       "      <td>1.125469</td>\n",
       "      <td>1.590177</td>\n",
       "    </tr>\n",
       "  </tbody>\n",
       "</table>\n",
       "</div>"
      ],
      "text/plain": [
       "                   A         B         C         D   sum_row\n",
       "2013-01-01  0.530079  0.676670  0.216498  0.304434  1.727681\n",
       "2013-01-02 -0.966575  0.073820  1.850707 -0.067192  0.890760\n",
       "2013-01-03 -0.419120 -1.919785 -0.834839  0.497296 -2.676448\n",
       "2013-01-04 -1.599862  2.503262  0.729267  0.909971  2.542637\n",
       "2013-01-05 -1.051489  0.857625  0.791734 -0.864913 -0.267043\n",
       "2013-01-06 -0.064495 -0.494565  1.023769  1.125469  1.590177"
      ]
     },
     "execution_count": 121,
     "metadata": {},
     "output_type": "execute_result"
    }
   ],
   "source": [
    "df3 = df.copy()\n",
    "df3['sum_row'] = df3.apply(np.sum,axis=1)    # df3.sum(axis=1) 과 같다.\n",
    "df3"
   ]
  },
  {
   "cell_type": "code",
   "execution_count": 122,
   "metadata": {},
   "outputs": [
    {
     "data": {
      "text/html": [
       "<div>\n",
       "<style scoped>\n",
       "    .dataframe tbody tr th:only-of-type {\n",
       "        vertical-align: middle;\n",
       "    }\n",
       "\n",
       "    .dataframe tbody tr th {\n",
       "        vertical-align: top;\n",
       "    }\n",
       "\n",
       "    .dataframe thead th {\n",
       "        text-align: right;\n",
       "    }\n",
       "</style>\n",
       "<table border=\"1\" class=\"dataframe\">\n",
       "  <thead>\n",
       "    <tr style=\"text-align: right;\">\n",
       "      <th></th>\n",
       "      <th>A</th>\n",
       "      <th>B</th>\n",
       "      <th>C</th>\n",
       "      <th>D</th>\n",
       "      <th>sum_row</th>\n",
       "      <th>result</th>\n",
       "    </tr>\n",
       "  </thead>\n",
       "  <tbody>\n",
       "    <tr>\n",
       "      <th>2013-01-01</th>\n",
       "      <td>0.530079</td>\n",
       "      <td>0.676670</td>\n",
       "      <td>0.216498</td>\n",
       "      <td>0.304434</td>\n",
       "      <td>1.727681</td>\n",
       "      <td>Over</td>\n",
       "    </tr>\n",
       "    <tr>\n",
       "      <th>2013-01-02</th>\n",
       "      <td>-0.966575</td>\n",
       "      <td>0.073820</td>\n",
       "      <td>1.850707</td>\n",
       "      <td>-0.067192</td>\n",
       "      <td>0.890760</td>\n",
       "      <td>Over</td>\n",
       "    </tr>\n",
       "    <tr>\n",
       "      <th>2013-01-03</th>\n",
       "      <td>-0.419120</td>\n",
       "      <td>-1.919785</td>\n",
       "      <td>-0.834839</td>\n",
       "      <td>0.497296</td>\n",
       "      <td>-2.676448</td>\n",
       "      <td>Under</td>\n",
       "    </tr>\n",
       "    <tr>\n",
       "      <th>2013-01-04</th>\n",
       "      <td>-1.599862</td>\n",
       "      <td>2.503262</td>\n",
       "      <td>0.729267</td>\n",
       "      <td>0.909971</td>\n",
       "      <td>2.542637</td>\n",
       "      <td>Over</td>\n",
       "    </tr>\n",
       "    <tr>\n",
       "      <th>2013-01-05</th>\n",
       "      <td>-1.051489</td>\n",
       "      <td>0.857625</td>\n",
       "      <td>0.791734</td>\n",
       "      <td>-0.864913</td>\n",
       "      <td>-0.267043</td>\n",
       "      <td>Under</td>\n",
       "    </tr>\n",
       "    <tr>\n",
       "      <th>2013-01-06</th>\n",
       "      <td>-0.064495</td>\n",
       "      <td>-0.494565</td>\n",
       "      <td>1.023769</td>\n",
       "      <td>1.125469</td>\n",
       "      <td>1.590177</td>\n",
       "      <td>Over</td>\n",
       "    </tr>\n",
       "  </tbody>\n",
       "</table>\n",
       "</div>"
      ],
      "text/plain": [
       "                   A         B         C         D   sum_row result\n",
       "2013-01-01  0.530079  0.676670  0.216498  0.304434  1.727681   Over\n",
       "2013-01-02 -0.966575  0.073820  1.850707 -0.067192  0.890760   Over\n",
       "2013-01-03 -0.419120 -1.919785 -0.834839  0.497296 -2.676448  Under\n",
       "2013-01-04 -1.599862  2.503262  0.729267  0.909971  2.542637   Over\n",
       "2013-01-05 -1.051489  0.857625  0.791734 -0.864913 -0.267043  Under\n",
       "2013-01-06 -0.064495 -0.494565  1.023769  1.125469  1.590177   Over"
      ]
     },
     "execution_count": 122,
     "metadata": {},
     "output_type": "execute_result"
    }
   ],
   "source": [
    "df3[\"result\"] = df3.apply(lambda r: \"Over\" if r.sum_row > 0 else \"Under\", axis=1)\n",
    "df3"
   ]
  },
  {
   "cell_type": "code",
   "execution_count": 123,
   "metadata": {},
   "outputs": [
    {
     "data": {
      "text/plain": [
       "2013-01-01     over\n",
       "2013-01-02     over\n",
       "2013-01-03    under\n",
       "2013-01-04     over\n",
       "2013-01-05    under\n",
       "2013-01-06     over\n",
       "Freq: D, Name: sum_row, dtype: category\n",
       "Categories (2, object): ['under' < 'over']"
      ]
     },
     "execution_count": 123,
     "metadata": {},
     "output_type": "execute_result"
    }
   ],
   "source": [
    "# bins=[-100,0,100]\n",
    "# labels =['under','over']      # bins 보다 하나 적은 갯수 (사이값) 이어야 한다.\n",
    "pd.cut(df3.sum_row, bins=[-100,0,100], labels=['under','over'] )"
   ]
  },
  {
   "cell_type": "code",
   "execution_count": 124,
   "metadata": {},
   "outputs": [
    {
     "data": {
      "text/html": [
       "<div>\n",
       "<style scoped>\n",
       "    .dataframe tbody tr th:only-of-type {\n",
       "        vertical-align: middle;\n",
       "    }\n",
       "\n",
       "    .dataframe tbody tr th {\n",
       "        vertical-align: top;\n",
       "    }\n",
       "\n",
       "    .dataframe thead th {\n",
       "        text-align: right;\n",
       "    }\n",
       "</style>\n",
       "<table border=\"1\" class=\"dataframe\">\n",
       "  <thead>\n",
       "    <tr style=\"text-align: right;\">\n",
       "      <th></th>\n",
       "      <th>A</th>\n",
       "      <th>B</th>\n",
       "      <th>C</th>\n",
       "      <th>D</th>\n",
       "      <th>sum_row</th>\n",
       "    </tr>\n",
       "  </thead>\n",
       "  <tbody>\n",
       "    <tr>\n",
       "      <th>2013-01-01</th>\n",
       "      <td>0.530079</td>\n",
       "      <td>0.676670</td>\n",
       "      <td>0.216498</td>\n",
       "      <td>0.304434</td>\n",
       "      <td>1.727681</td>\n",
       "    </tr>\n",
       "    <tr>\n",
       "      <th>2013-01-02</th>\n",
       "      <td>-0.966575</td>\n",
       "      <td>0.073820</td>\n",
       "      <td>1.850707</td>\n",
       "      <td>-0.067192</td>\n",
       "      <td>0.890760</td>\n",
       "    </tr>\n",
       "    <tr>\n",
       "      <th>2013-01-03</th>\n",
       "      <td>-0.419120</td>\n",
       "      <td>-1.919785</td>\n",
       "      <td>-0.834839</td>\n",
       "      <td>0.497296</td>\n",
       "      <td>-2.676448</td>\n",
       "    </tr>\n",
       "    <tr>\n",
       "      <th>2013-01-04</th>\n",
       "      <td>-1.599862</td>\n",
       "      <td>2.503262</td>\n",
       "      <td>0.729267</td>\n",
       "      <td>0.909971</td>\n",
       "      <td>2.542637</td>\n",
       "    </tr>\n",
       "    <tr>\n",
       "      <th>2013-01-05</th>\n",
       "      <td>-1.051489</td>\n",
       "      <td>0.857625</td>\n",
       "      <td>0.791734</td>\n",
       "      <td>-0.864913</td>\n",
       "      <td>-0.267043</td>\n",
       "    </tr>\n",
       "    <tr>\n",
       "      <th>2013-01-06</th>\n",
       "      <td>-0.064495</td>\n",
       "      <td>-0.494565</td>\n",
       "      <td>1.023769</td>\n",
       "      <td>1.125469</td>\n",
       "      <td>1.590177</td>\n",
       "    </tr>\n",
       "  </tbody>\n",
       "</table>\n",
       "</div>"
      ],
      "text/plain": [
       "                   A         B         C         D   sum_row\n",
       "2013-01-01  0.530079  0.676670  0.216498  0.304434  1.727681\n",
       "2013-01-02 -0.966575  0.073820  1.850707 -0.067192  0.890760\n",
       "2013-01-03 -0.419120 -1.919785 -0.834839  0.497296 -2.676448\n",
       "2013-01-04 -1.599862  2.503262  0.729267  0.909971  2.542637\n",
       "2013-01-05 -1.051489  0.857625  0.791734 -0.864913 -0.267043\n",
       "2013-01-06 -0.064495 -0.494565  1.023769  1.125469  1.590177"
      ]
     },
     "execution_count": 124,
     "metadata": {},
     "output_type": "execute_result"
    }
   ],
   "source": [
    "df3 = df3.drop(columns='result')\n",
    "df3"
   ]
  },
  {
   "cell_type": "code",
   "execution_count": 125,
   "metadata": {},
   "outputs": [
    {
     "data": {
      "text/html": [
       "<div>\n",
       "<style scoped>\n",
       "    .dataframe tbody tr th:only-of-type {\n",
       "        vertical-align: middle;\n",
       "    }\n",
       "\n",
       "    .dataframe tbody tr th {\n",
       "        vertical-align: top;\n",
       "    }\n",
       "\n",
       "    .dataframe thead th {\n",
       "        text-align: right;\n",
       "    }\n",
       "</style>\n",
       "<table border=\"1\" class=\"dataframe\">\n",
       "  <thead>\n",
       "    <tr style=\"text-align: right;\">\n",
       "      <th></th>\n",
       "      <th>A</th>\n",
       "      <th>B</th>\n",
       "      <th>C</th>\n",
       "      <th>D</th>\n",
       "      <th>sum_row</th>\n",
       "    </tr>\n",
       "  </thead>\n",
       "  <tbody>\n",
       "    <tr>\n",
       "      <th>2013-01-01</th>\n",
       "      <td>0.530079</td>\n",
       "      <td>0.676670</td>\n",
       "      <td>0.216498</td>\n",
       "      <td>0.304434</td>\n",
       "      <td>1.727681</td>\n",
       "    </tr>\n",
       "    <tr>\n",
       "      <th>2013-01-02</th>\n",
       "      <td>-0.966575</td>\n",
       "      <td>0.073820</td>\n",
       "      <td>1.850707</td>\n",
       "      <td>-0.067192</td>\n",
       "      <td>0.890760</td>\n",
       "    </tr>\n",
       "    <tr>\n",
       "      <th>2013-01-03</th>\n",
       "      <td>NaN</td>\n",
       "      <td>NaN</td>\n",
       "      <td>NaN</td>\n",
       "      <td>NaN</td>\n",
       "      <td>NaN</td>\n",
       "    </tr>\n",
       "    <tr>\n",
       "      <th>2013-01-04</th>\n",
       "      <td>-1.599862</td>\n",
       "      <td>2.503262</td>\n",
       "      <td>0.729267</td>\n",
       "      <td>0.909971</td>\n",
       "      <td>2.542637</td>\n",
       "    </tr>\n",
       "    <tr>\n",
       "      <th>2013-01-05</th>\n",
       "      <td>NaN</td>\n",
       "      <td>NaN</td>\n",
       "      <td>NaN</td>\n",
       "      <td>NaN</td>\n",
       "      <td>NaN</td>\n",
       "    </tr>\n",
       "    <tr>\n",
       "      <th>2013-01-06</th>\n",
       "      <td>NaN</td>\n",
       "      <td>NaN</td>\n",
       "      <td>NaN</td>\n",
       "      <td>NaN</td>\n",
       "      <td>NaN</td>\n",
       "    </tr>\n",
       "  </tbody>\n",
       "</table>\n",
       "</div>"
      ],
      "text/plain": [
       "                   A         B         C         D   sum_row\n",
       "2013-01-01  0.530079  0.676670  0.216498  0.304434  1.727681\n",
       "2013-01-02 -0.966575  0.073820  1.850707 -0.067192  0.890760\n",
       "2013-01-03       NaN       NaN       NaN       NaN       NaN\n",
       "2013-01-04 -1.599862  2.503262  0.729267  0.909971  2.542637\n",
       "2013-01-05       NaN       NaN       NaN       NaN       NaN\n",
       "2013-01-06       NaN       NaN       NaN       NaN       NaN"
      ]
     },
     "execution_count": 125,
     "metadata": {},
     "output_type": "execute_result"
    }
   ],
   "source": [
    "df3.where((df3.sum_row>0) & (df3.B>0))    # boolean 으로 리턴하지 않고, 값을 리턴 하다. dropna() 을 붙일수 있다."
   ]
  },
  {
   "cell_type": "code",
   "execution_count": 126,
   "metadata": {},
   "outputs": [
    {
     "data": {
      "text/html": [
       "<div>\n",
       "<style scoped>\n",
       "    .dataframe tbody tr th:only-of-type {\n",
       "        vertical-align: middle;\n",
       "    }\n",
       "\n",
       "    .dataframe tbody tr th {\n",
       "        vertical-align: top;\n",
       "    }\n",
       "\n",
       "    .dataframe thead th {\n",
       "        text-align: right;\n",
       "    }\n",
       "</style>\n",
       "<table border=\"1\" class=\"dataframe\">\n",
       "  <thead>\n",
       "    <tr style=\"text-align: right;\">\n",
       "      <th></th>\n",
       "      <th>A</th>\n",
       "      <th>B</th>\n",
       "      <th>C</th>\n",
       "      <th>D</th>\n",
       "      <th>sum_row</th>\n",
       "    </tr>\n",
       "  </thead>\n",
       "  <tbody>\n",
       "    <tr>\n",
       "      <th>2013-01-01</th>\n",
       "      <td>0.530079</td>\n",
       "      <td>0.676670</td>\n",
       "      <td>0.216498</td>\n",
       "      <td>0.304434</td>\n",
       "      <td>1.727681</td>\n",
       "    </tr>\n",
       "    <tr>\n",
       "      <th>2013-01-02</th>\n",
       "      <td>-0.966575</td>\n",
       "      <td>0.073820</td>\n",
       "      <td>1.850707</td>\n",
       "      <td>-0.067192</td>\n",
       "      <td>0.890760</td>\n",
       "    </tr>\n",
       "    <tr>\n",
       "      <th>2013-01-04</th>\n",
       "      <td>-1.599862</td>\n",
       "      <td>2.503262</td>\n",
       "      <td>0.729267</td>\n",
       "      <td>0.909971</td>\n",
       "      <td>2.542637</td>\n",
       "    </tr>\n",
       "  </tbody>\n",
       "</table>\n",
       "</div>"
      ],
      "text/plain": [
       "                   A         B         C         D   sum_row\n",
       "2013-01-01  0.530079  0.676670  0.216498  0.304434  1.727681\n",
       "2013-01-02 -0.966575  0.073820  1.850707 -0.067192  0.890760\n",
       "2013-01-04 -1.599862  2.503262  0.729267  0.909971  2.542637"
      ]
     },
     "execution_count": 126,
     "metadata": {},
     "output_type": "execute_result"
    }
   ],
   "source": [
    "df3[(df3.sum_row>0) & (df3.B>0)]\n",
    "\n",
    "# dropna() 까지 한 결과"
   ]
  },
  {
   "attachments": {},
   "cell_type": "markdown",
   "metadata": {},
   "source": [
    "### 4. Missing \n",
    "\n",
    "``` \n",
    "dropna()\n",
    "fillna()\n",
    "notnull()\n",
    "notna()   \n",
    "isnull()\n",
    "isna() \n",
    "```"
   ]
  },
  {
   "cell_type": "code",
   "execution_count": 127,
   "metadata": {},
   "outputs": [
    {
     "data": {
      "text/html": [
       "<div>\n",
       "<style scoped>\n",
       "    .dataframe tbody tr th:only-of-type {\n",
       "        vertical-align: middle;\n",
       "    }\n",
       "\n",
       "    .dataframe tbody tr th {\n",
       "        vertical-align: top;\n",
       "    }\n",
       "\n",
       "    .dataframe thead th {\n",
       "        text-align: right;\n",
       "    }\n",
       "</style>\n",
       "<table border=\"1\" class=\"dataframe\">\n",
       "  <thead>\n",
       "    <tr style=\"text-align: right;\">\n",
       "      <th></th>\n",
       "      <th>A</th>\n",
       "      <th>B</th>\n",
       "      <th>C</th>\n",
       "      <th>D</th>\n",
       "      <th>sum_row</th>\n",
       "    </tr>\n",
       "  </thead>\n",
       "  <tbody>\n",
       "    <tr>\n",
       "      <th>2013-01-01</th>\n",
       "      <td>0.530079</td>\n",
       "      <td>0.676670</td>\n",
       "      <td>0.216498</td>\n",
       "      <td>0.304434</td>\n",
       "      <td>1.727681</td>\n",
       "    </tr>\n",
       "    <tr>\n",
       "      <th>2013-01-02</th>\n",
       "      <td>-0.966575</td>\n",
       "      <td>0.073820</td>\n",
       "      <td>1.850707</td>\n",
       "      <td>-0.067192</td>\n",
       "      <td>0.890760</td>\n",
       "    </tr>\n",
       "    <tr>\n",
       "      <th>2013-01-03</th>\n",
       "      <td>0.000000</td>\n",
       "      <td>0.000000</td>\n",
       "      <td>0.000000</td>\n",
       "      <td>0.000000</td>\n",
       "      <td>0.000000</td>\n",
       "    </tr>\n",
       "    <tr>\n",
       "      <th>2013-01-04</th>\n",
       "      <td>-1.599862</td>\n",
       "      <td>2.503262</td>\n",
       "      <td>0.729267</td>\n",
       "      <td>0.909971</td>\n",
       "      <td>2.542637</td>\n",
       "    </tr>\n",
       "    <tr>\n",
       "      <th>2013-01-05</th>\n",
       "      <td>0.000000</td>\n",
       "      <td>0.000000</td>\n",
       "      <td>0.000000</td>\n",
       "      <td>0.000000</td>\n",
       "      <td>0.000000</td>\n",
       "    </tr>\n",
       "    <tr>\n",
       "      <th>2013-01-06</th>\n",
       "      <td>0.000000</td>\n",
       "      <td>0.000000</td>\n",
       "      <td>0.000000</td>\n",
       "      <td>0.000000</td>\n",
       "      <td>0.000000</td>\n",
       "    </tr>\n",
       "  </tbody>\n",
       "</table>\n",
       "</div>"
      ],
      "text/plain": [
       "                   A         B         C         D   sum_row\n",
       "2013-01-01  0.530079  0.676670  0.216498  0.304434  1.727681\n",
       "2013-01-02 -0.966575  0.073820  1.850707 -0.067192  0.890760\n",
       "2013-01-03  0.000000  0.000000  0.000000  0.000000  0.000000\n",
       "2013-01-04 -1.599862  2.503262  0.729267  0.909971  2.542637\n",
       "2013-01-05  0.000000  0.000000  0.000000  0.000000  0.000000\n",
       "2013-01-06  0.000000  0.000000  0.000000  0.000000  0.000000"
      ]
     },
     "execution_count": 127,
     "metadata": {},
     "output_type": "execute_result"
    }
   ],
   "source": [
    "df3.where((df3.sum_row>0) & (df3.B>0)).fillna(0)\n"
   ]
  },
  {
   "attachments": {},
   "cell_type": "markdown",
   "metadata": {},
   "source": [
    "### 5. Operations\n",
    "\n",
    "```\n",
    "sum, mean, std, var\n",
    "sort, count\n",
    "apply\n",
    "str\n",
    "```"
   ]
  },
  {
   "cell_type": "code",
   "execution_count": 128,
   "metadata": {},
   "outputs": [
    {
     "name": "stdout",
     "output_type": "stream",
     "text": [
      "                   A         B         C         D\n",
      "2013-01-01  0.530079  0.676670  0.216498  0.304434\n",
      "2013-01-02 -0.966575  0.073820  1.850707 -0.067192\n",
      "2013-01-03 -0.419120 -1.919785 -0.834839  0.497296\n",
      "2013-01-04 -1.599862  2.503262  0.729267  0.909971\n",
      "2013-01-05 -1.051489  0.857625  0.791734 -0.864913\n",
      "2013-01-06 -0.064495 -0.494565  1.023769  1.125469\n",
      "                   A         B         C         D\n",
      "2013-01-04 -1.599862  2.503262  0.729267  0.909971\n",
      "2013-01-05 -1.051489  0.857625  0.791734 -0.864913\n",
      "2013-01-02 -0.966575  0.073820  1.850707 -0.067192\n",
      "2013-01-03 -0.419120 -1.919785 -0.834839  0.497296\n",
      "2013-01-06 -0.064495 -0.494565  1.023769  1.125469\n",
      "2013-01-01  0.530079  0.676670  0.216498  0.304434 \n",
      "\n",
      "                   A         B         C         D\n",
      "2013-01-01  0.530079  0.676670  0.216498  0.304434\n",
      "2013-01-06 -0.064495 -0.494565  1.023769  1.125469\n",
      "2013-01-03 -0.419120 -1.919785 -0.834839  0.497296\n",
      "2013-01-02 -0.966575  0.073820  1.850707 -0.067192\n",
      "2013-01-05 -1.051489  0.857625  0.791734 -0.864913\n",
      "2013-01-04 -1.599862  2.503262  0.729267  0.909971\n"
     ]
    }
   ],
   "source": [
    "print(df.sort_index())\n",
    "print(df.sort_values('A'),'\\n')\n",
    "# df.sort_values(by='A')\n",
    "print(df.sort_values(by= ['A','B'],ascending=False))"
   ]
  },
  {
   "cell_type": "code",
   "execution_count": 129,
   "metadata": {},
   "outputs": [
    {
     "name": "stdout",
     "output_type": "stream",
     "text": [
      "A   -3.571463\n",
      "B    1.697027\n",
      "C    3.777136\n",
      "D    1.905065\n",
      "dtype: float64\n",
      "2013-01-01    1.727681\n",
      "2013-01-02    0.890760\n",
      "2013-01-03   -2.676448\n",
      "2013-01-04    2.542637\n",
      "2013-01-05   -0.267043\n",
      "2013-01-06    1.590177\n",
      "Freq: D, dtype: float64\n"
     ]
    }
   ],
   "source": [
    "print(df.sum())          # row 들의 합 (col : 합) axis=0 디폴트\n",
    "print(df.sum(axis=1))    # column 들의 함 (row : 합) axis=1"
   ]
  },
  {
   "attachments": {},
   "cell_type": "markdown",
   "metadata": {},
   "source": [
    "### 6. Merging\n",
    "\n",
    "```\n",
    "concat\n",
    "join\n",
    "merge\n",
    "```"
   ]
  },
  {
   "attachments": {},
   "cell_type": "markdown",
   "metadata": {},
   "source": [
    "### 7. Grouping\n",
    "\n",
    "```\n",
    "Splitting the data into groups based on some criteria\n",
    "Applying a function to each group independently\n",
    "Combining the results into a data structure\n",
    "\n",
    "```"
   ]
  },
  {
   "cell_type": "code",
   "execution_count": 130,
   "metadata": {},
   "outputs": [
    {
     "data": {
      "text/html": [
       "<div>\n",
       "<style scoped>\n",
       "    .dataframe tbody tr th:only-of-type {\n",
       "        vertical-align: middle;\n",
       "    }\n",
       "\n",
       "    .dataframe tbody tr th {\n",
       "        vertical-align: top;\n",
       "    }\n",
       "\n",
       "    .dataframe thead th {\n",
       "        text-align: right;\n",
       "    }\n",
       "</style>\n",
       "<table border=\"1\" class=\"dataframe\">\n",
       "  <thead>\n",
       "    <tr style=\"text-align: right;\">\n",
       "      <th></th>\n",
       "      <th>A</th>\n",
       "      <th>B</th>\n",
       "      <th>C</th>\n",
       "      <th>D</th>\n",
       "    </tr>\n",
       "  </thead>\n",
       "  <tbody>\n",
       "    <tr>\n",
       "      <th>0</th>\n",
       "      <td>foo</td>\n",
       "      <td>one</td>\n",
       "      <td>-0.135403</td>\n",
       "      <td>1.466320</td>\n",
       "    </tr>\n",
       "    <tr>\n",
       "      <th>1</th>\n",
       "      <td>bar</td>\n",
       "      <td>one</td>\n",
       "      <td>1.041721</td>\n",
       "      <td>-0.426356</td>\n",
       "    </tr>\n",
       "    <tr>\n",
       "      <th>2</th>\n",
       "      <td>foo</td>\n",
       "      <td>two</td>\n",
       "      <td>-1.058521</td>\n",
       "      <td>0.307807</td>\n",
       "    </tr>\n",
       "    <tr>\n",
       "      <th>3</th>\n",
       "      <td>bar</td>\n",
       "      <td>three</td>\n",
       "      <td>0.350203</td>\n",
       "      <td>0.071552</td>\n",
       "    </tr>\n",
       "    <tr>\n",
       "      <th>4</th>\n",
       "      <td>foo</td>\n",
       "      <td>two</td>\n",
       "      <td>-1.507742</td>\n",
       "      <td>-1.287191</td>\n",
       "    </tr>\n",
       "    <tr>\n",
       "      <th>5</th>\n",
       "      <td>bar</td>\n",
       "      <td>two</td>\n",
       "      <td>-1.220942</td>\n",
       "      <td>-0.497981</td>\n",
       "    </tr>\n",
       "    <tr>\n",
       "      <th>6</th>\n",
       "      <td>foo</td>\n",
       "      <td>one</td>\n",
       "      <td>-0.129807</td>\n",
       "      <td>1.361807</td>\n",
       "    </tr>\n",
       "    <tr>\n",
       "      <th>7</th>\n",
       "      <td>foo</td>\n",
       "      <td>three</td>\n",
       "      <td>-0.043958</td>\n",
       "      <td>-1.271253</td>\n",
       "    </tr>\n",
       "  </tbody>\n",
       "</table>\n",
       "</div>"
      ],
      "text/plain": [
       "     A      B         C         D\n",
       "0  foo    one -0.135403  1.466320\n",
       "1  bar    one  1.041721 -0.426356\n",
       "2  foo    two -1.058521  0.307807\n",
       "3  bar  three  0.350203  0.071552\n",
       "4  foo    two -1.507742 -1.287191\n",
       "5  bar    two -1.220942 -0.497981\n",
       "6  foo    one -0.129807  1.361807\n",
       "7  foo  three -0.043958 -1.271253"
      ]
     },
     "execution_count": 130,
     "metadata": {},
     "output_type": "execute_result"
    }
   ],
   "source": [
    "df_g = pd.DataFrame(\n",
    "    {\n",
    "        \"A\": [\"foo\", \"bar\", \"foo\", \"bar\", \"foo\", \"bar\", \"foo\", \"foo\"],\n",
    "        \"B\": [\"one\", \"one\", \"two\", \"three\", \"two\", \"two\", \"one\", \"three\"],\n",
    "        \"C\": np.random.randn(8),\n",
    "        \"D\": np.random.randn(8),\n",
    "    }\n",
    ")\n",
    "\n",
    "df_g"
   ]
  },
  {
   "attachments": {},
   "cell_type": "markdown",
   "metadata": {},
   "source": [
    "df.groupby().size()"
   ]
  },
  {
   "cell_type": "code",
   "execution_count": 131,
   "metadata": {},
   "outputs": [
    {
     "data": {
      "text/plain": [
       "A    B    \n",
       "bar  one      1\n",
       "     three    1\n",
       "     two      1\n",
       "foo  one      2\n",
       "     three    1\n",
       "     two      2\n",
       "dtype: int64"
      ]
     },
     "execution_count": 131,
     "metadata": {},
     "output_type": "execute_result"
    }
   ],
   "source": [
    "df_g.groupby(['A','B']).size()"
   ]
  },
  {
   "attachments": {},
   "cell_type": "markdown",
   "metadata": {},
   "source": [
    "[].reset_index / [[]].reset_index"
   ]
  },
  {
   "cell_type": "code",
   "execution_count": 132,
   "metadata": {},
   "outputs": [
    {
     "data": {
      "text/plain": [
       "A    B      C        \n",
       "bar  one     1.041721    1\n",
       "     three   0.350203    1\n",
       "     two    -1.220942    1\n",
       "foo  one    -0.135403    1\n",
       "            -0.129807    1\n",
       "     three  -0.043958    1\n",
       "     two    -1.507742    1\n",
       "            -1.058521    1\n",
       "Name: count, dtype: int64"
      ]
     },
     "execution_count": 132,
     "metadata": {},
     "output_type": "execute_result"
    }
   ],
   "source": [
    "df_g.groupby(['A','B'])['C'].value_counts()\n",
    "\n",
    "# df_g.groupby(['A','B'])['C'].value_counts().reset_index() 는 오류발생. ('C' 가 중복된다. )\n",
    "# new_df_g = df_g.groupby(['A','B'])['C'].value_counts()\n",
    "# new_df_g.name = C_count\n",
    "# new_df_g.reset_index()\n"
   ]
  },
  {
   "cell_type": "code",
   "execution_count": 133,
   "metadata": {},
   "outputs": [
    {
     "data": {
      "text/html": [
       "<div>\n",
       "<style scoped>\n",
       "    .dataframe tbody tr th:only-of-type {\n",
       "        vertical-align: middle;\n",
       "    }\n",
       "\n",
       "    .dataframe tbody tr th {\n",
       "        vertical-align: top;\n",
       "    }\n",
       "\n",
       "    .dataframe thead th {\n",
       "        text-align: right;\n",
       "    }\n",
       "</style>\n",
       "<table border=\"1\" class=\"dataframe\">\n",
       "  <thead>\n",
       "    <tr style=\"text-align: right;\">\n",
       "      <th></th>\n",
       "      <th>A</th>\n",
       "      <th>B</th>\n",
       "      <th>C</th>\n",
       "    </tr>\n",
       "  </thead>\n",
       "  <tbody>\n",
       "    <tr>\n",
       "      <th>0</th>\n",
       "      <td>bar</td>\n",
       "      <td>one</td>\n",
       "      <td>1.041721</td>\n",
       "    </tr>\n",
       "    <tr>\n",
       "      <th>1</th>\n",
       "      <td>bar</td>\n",
       "      <td>three</td>\n",
       "      <td>0.350203</td>\n",
       "    </tr>\n",
       "    <tr>\n",
       "      <th>2</th>\n",
       "      <td>bar</td>\n",
       "      <td>two</td>\n",
       "      <td>-1.220942</td>\n",
       "    </tr>\n",
       "    <tr>\n",
       "      <th>3</th>\n",
       "      <td>foo</td>\n",
       "      <td>one</td>\n",
       "      <td>-0.265210</td>\n",
       "    </tr>\n",
       "    <tr>\n",
       "      <th>4</th>\n",
       "      <td>foo</td>\n",
       "      <td>three</td>\n",
       "      <td>-0.043958</td>\n",
       "    </tr>\n",
       "    <tr>\n",
       "      <th>5</th>\n",
       "      <td>foo</td>\n",
       "      <td>two</td>\n",
       "      <td>-2.566263</td>\n",
       "    </tr>\n",
       "  </tbody>\n",
       "</table>\n",
       "</div>"
      ],
      "text/plain": [
       "     A      B         C\n",
       "0  bar    one  1.041721\n",
       "1  bar  three  0.350203\n",
       "2  bar    two -1.220942\n",
       "3  foo    one -0.265210\n",
       "4  foo  three -0.043958\n",
       "5  foo    two -2.566263"
      ]
     },
     "execution_count": 133,
     "metadata": {},
     "output_type": "execute_result"
    }
   ],
   "source": [
    "# [[C]] 은 데이터 프레임이라서 reset_index 가 가능하다. \n",
    "\n",
    "df_g.groupby(['A','B'])[['C']].sum().reset_index()"
   ]
  },
  {
   "attachments": {},
   "cell_type": "markdown",
   "metadata": {},
   "source": [
    "### 8. Reshaping\n",
    "\n",
    "```\n",
    "reshpae(-1)\n",
    "stack / unstack \n",
    "pivot table\n",
    "```"
   ]
  },
  {
   "cell_type": "code",
   "execution_count": 134,
   "metadata": {},
   "outputs": [
    {
     "data": {
      "text/html": [
       "<div>\n",
       "<style scoped>\n",
       "    .dataframe tbody tr th:only-of-type {\n",
       "        vertical-align: middle;\n",
       "    }\n",
       "\n",
       "    .dataframe tbody tr th {\n",
       "        vertical-align: top;\n",
       "    }\n",
       "\n",
       "    .dataframe thead th {\n",
       "        text-align: right;\n",
       "    }\n",
       "</style>\n",
       "<table border=\"1\" class=\"dataframe\">\n",
       "  <thead>\n",
       "    <tr style=\"text-align: right;\">\n",
       "      <th></th>\n",
       "      <th></th>\n",
       "      <th>C</th>\n",
       "    </tr>\n",
       "    <tr>\n",
       "      <th>A</th>\n",
       "      <th>B</th>\n",
       "      <th></th>\n",
       "    </tr>\n",
       "  </thead>\n",
       "  <tbody>\n",
       "    <tr>\n",
       "      <th>foo</th>\n",
       "      <th>one</th>\n",
       "      <td>-0.135403</td>\n",
       "    </tr>\n",
       "    <tr>\n",
       "      <th>bar</th>\n",
       "      <th>one</th>\n",
       "      <td>1.041721</td>\n",
       "    </tr>\n",
       "    <tr>\n",
       "      <th>foo</th>\n",
       "      <th>two</th>\n",
       "      <td>-1.058521</td>\n",
       "    </tr>\n",
       "    <tr>\n",
       "      <th>bar</th>\n",
       "      <th>three</th>\n",
       "      <td>0.350203</td>\n",
       "    </tr>\n",
       "    <tr>\n",
       "      <th>foo</th>\n",
       "      <th>two</th>\n",
       "      <td>-1.507742</td>\n",
       "    </tr>\n",
       "    <tr>\n",
       "      <th>bar</th>\n",
       "      <th>two</th>\n",
       "      <td>-1.220942</td>\n",
       "    </tr>\n",
       "    <tr>\n",
       "      <th rowspan=\"2\" valign=\"top\">foo</th>\n",
       "      <th>one</th>\n",
       "      <td>-0.129807</td>\n",
       "    </tr>\n",
       "    <tr>\n",
       "      <th>three</th>\n",
       "      <td>-0.043958</td>\n",
       "    </tr>\n",
       "  </tbody>\n",
       "</table>\n",
       "</div>"
      ],
      "text/plain": [
       "                  C\n",
       "A   B              \n",
       "foo one   -0.135403\n",
       "bar one    1.041721\n",
       "foo two   -1.058521\n",
       "bar three  0.350203\n",
       "foo two   -1.507742\n",
       "bar two   -1.220942\n",
       "foo one   -0.129807\n",
       "    three -0.043958"
      ]
     },
     "execution_count": 134,
     "metadata": {},
     "output_type": "execute_result"
    }
   ],
   "source": [
    "df_g.set_index(['A','B'])[['C']]#.unstack()\n",
    "\n",
    "# Index contains duplicate entries, cannot reshape : 'foo one' 이 중복된다. \n",
    "# df.drop_duplicates(subset=['index','column']) 으로 해결"
   ]
  },
  {
   "attachments": {},
   "cell_type": "markdown",
   "metadata": {},
   "source": [
    "drop_duplicates\n",
    "\n",
    "subset : 중복을 검사할 column \n",
    "keep: 중복값중 남길 행\n",
    "\n",
    "df.drop ()\n",
    "axis = 0/1 (행/열)     조건이 있는 경우 slicing 을 이용하자 "
   ]
  },
  {
   "cell_type": "code",
   "execution_count": 135,
   "metadata": {},
   "outputs": [
    {
     "data": {
      "text/html": [
       "<div>\n",
       "<style scoped>\n",
       "    .dataframe tbody tr th:only-of-type {\n",
       "        vertical-align: middle;\n",
       "    }\n",
       "\n",
       "    .dataframe tbody tr th {\n",
       "        vertical-align: top;\n",
       "    }\n",
       "\n",
       "    .dataframe thead th {\n",
       "        text-align: right;\n",
       "    }\n",
       "</style>\n",
       "<table border=\"1\" class=\"dataframe\">\n",
       "  <thead>\n",
       "    <tr style=\"text-align: right;\">\n",
       "      <th></th>\n",
       "      <th>A</th>\n",
       "      <th>B</th>\n",
       "      <th>C</th>\n",
       "      <th>D</th>\n",
       "    </tr>\n",
       "  </thead>\n",
       "  <tbody>\n",
       "    <tr>\n",
       "      <th>0</th>\n",
       "      <td>foo</td>\n",
       "      <td>one</td>\n",
       "      <td>-0.135403</td>\n",
       "      <td>1.466320</td>\n",
       "    </tr>\n",
       "    <tr>\n",
       "      <th>1</th>\n",
       "      <td>bar</td>\n",
       "      <td>one</td>\n",
       "      <td>1.041721</td>\n",
       "      <td>-0.426356</td>\n",
       "    </tr>\n",
       "    <tr>\n",
       "      <th>2</th>\n",
       "      <td>foo</td>\n",
       "      <td>two</td>\n",
       "      <td>-1.058521</td>\n",
       "      <td>0.307807</td>\n",
       "    </tr>\n",
       "    <tr>\n",
       "      <th>3</th>\n",
       "      <td>bar</td>\n",
       "      <td>three</td>\n",
       "      <td>0.350203</td>\n",
       "      <td>0.071552</td>\n",
       "    </tr>\n",
       "    <tr>\n",
       "      <th>4</th>\n",
       "      <td>bar</td>\n",
       "      <td>two</td>\n",
       "      <td>-1.220942</td>\n",
       "      <td>-0.497981</td>\n",
       "    </tr>\n",
       "    <tr>\n",
       "      <th>5</th>\n",
       "      <td>foo</td>\n",
       "      <td>three</td>\n",
       "      <td>-0.043958</td>\n",
       "      <td>-1.271253</td>\n",
       "    </tr>\n",
       "  </tbody>\n",
       "</table>\n",
       "</div>"
      ],
      "text/plain": [
       "     A      B         C         D\n",
       "0  foo    one -0.135403  1.466320\n",
       "1  bar    one  1.041721 -0.426356\n",
       "2  foo    two -1.058521  0.307807\n",
       "3  bar  three  0.350203  0.071552\n",
       "4  bar    two -1.220942 -0.497981\n",
       "5  foo  three -0.043958 -1.271253"
      ]
     },
     "execution_count": 135,
     "metadata": {},
     "output_type": "execute_result"
    }
   ],
   "source": [
    "# df_g2 = df_g.drop([6,2]).reset_index(drop=True) \n",
    "# A,B 열 값이 중복되는 2, 6 row을 삭제\n",
    "\n",
    "df_g2 = df_g.drop_duplicates(subset=['A','B'],keep='first', ignore_index=True).copy()  # inplace = True 으로 원본 적용\n",
    "\n",
    "df_g2"
   ]
  },
  {
   "cell_type": "code",
   "execution_count": 136,
   "metadata": {},
   "outputs": [
    {
     "data": {
      "text/html": [
       "<div>\n",
       "<style scoped>\n",
       "    .dataframe tbody tr th:only-of-type {\n",
       "        vertical-align: middle;\n",
       "    }\n",
       "\n",
       "    .dataframe tbody tr th {\n",
       "        vertical-align: top;\n",
       "    }\n",
       "\n",
       "    .dataframe thead tr th {\n",
       "        text-align: left;\n",
       "    }\n",
       "\n",
       "    .dataframe thead tr:last-of-type th {\n",
       "        text-align: right;\n",
       "    }\n",
       "</style>\n",
       "<table border=\"1\" class=\"dataframe\">\n",
       "  <thead>\n",
       "    <tr>\n",
       "      <th></th>\n",
       "      <th colspan=\"3\" halign=\"left\">C</th>\n",
       "    </tr>\n",
       "    <tr>\n",
       "      <th>B</th>\n",
       "      <th>one</th>\n",
       "      <th>three</th>\n",
       "      <th>two</th>\n",
       "    </tr>\n",
       "    <tr>\n",
       "      <th>A</th>\n",
       "      <th></th>\n",
       "      <th></th>\n",
       "      <th></th>\n",
       "    </tr>\n",
       "  </thead>\n",
       "  <tbody>\n",
       "    <tr>\n",
       "      <th>bar</th>\n",
       "      <td>1.041721</td>\n",
       "      <td>0.350203</td>\n",
       "      <td>-1.220942</td>\n",
       "    </tr>\n",
       "    <tr>\n",
       "      <th>foo</th>\n",
       "      <td>-0.135403</td>\n",
       "      <td>-0.043958</td>\n",
       "      <td>-1.058521</td>\n",
       "    </tr>\n",
       "  </tbody>\n",
       "</table>\n",
       "</div>"
      ],
      "text/plain": [
       "            C                    \n",
       "B         one     three       two\n",
       "A                                \n",
       "bar  1.041721  0.350203 -1.220942\n",
       "foo -0.135403 -0.043958 -1.058521"
      ]
     },
     "execution_count": 136,
     "metadata": {},
     "output_type": "execute_result"
    }
   ],
   "source": [
    "df_g2.set_index(['A','B'])[['C']].unstack()"
   ]
  },
  {
   "cell_type": "code",
   "execution_count": 137,
   "metadata": {},
   "outputs": [
    {
     "data": {
      "text/html": [
       "<div>\n",
       "<style scoped>\n",
       "    .dataframe tbody tr th:only-of-type {\n",
       "        vertical-align: middle;\n",
       "    }\n",
       "\n",
       "    .dataframe tbody tr th {\n",
       "        vertical-align: top;\n",
       "    }\n",
       "\n",
       "    .dataframe thead th {\n",
       "        text-align: right;\n",
       "    }\n",
       "</style>\n",
       "<table border=\"1\" class=\"dataframe\">\n",
       "  <thead>\n",
       "    <tr style=\"text-align: right;\">\n",
       "      <th>B</th>\n",
       "      <th>one</th>\n",
       "      <th>three</th>\n",
       "      <th>two</th>\n",
       "    </tr>\n",
       "    <tr>\n",
       "      <th>A</th>\n",
       "      <th></th>\n",
       "      <th></th>\n",
       "      <th></th>\n",
       "    </tr>\n",
       "  </thead>\n",
       "  <tbody>\n",
       "    <tr>\n",
       "      <th>bar</th>\n",
       "      <td>1.041721</td>\n",
       "      <td>0.350203</td>\n",
       "      <td>-1.220942</td>\n",
       "    </tr>\n",
       "    <tr>\n",
       "      <th>foo</th>\n",
       "      <td>-0.135403</td>\n",
       "      <td>-0.043958</td>\n",
       "      <td>-1.058521</td>\n",
       "    </tr>\n",
       "  </tbody>\n",
       "</table>\n",
       "</div>"
      ],
      "text/plain": [
       "B         one     three       two\n",
       "A                                \n",
       "bar  1.041721  0.350203 -1.220942\n",
       "foo -0.135403 -0.043958 -1.058521"
      ]
     },
     "execution_count": 137,
     "metadata": {},
     "output_type": "execute_result"
    }
   ],
   "source": [
    "df_g2.pivot(index='A',columns='B',values='C')"
   ]
  },
  {
   "attachments": {},
   "cell_type": "markdown",
   "metadata": {},
   "source": [
    "pivot_table()"
   ]
  },
  {
   "cell_type": "code",
   "execution_count": 138,
   "metadata": {},
   "outputs": [
    {
     "data": {
      "text/html": [
       "<div>\n",
       "<style scoped>\n",
       "    .dataframe tbody tr th:only-of-type {\n",
       "        vertical-align: middle;\n",
       "    }\n",
       "\n",
       "    .dataframe tbody tr th {\n",
       "        vertical-align: top;\n",
       "    }\n",
       "\n",
       "    .dataframe thead th {\n",
       "        text-align: right;\n",
       "    }\n",
       "</style>\n",
       "<table border=\"1\" class=\"dataframe\">\n",
       "  <thead>\n",
       "    <tr style=\"text-align: right;\">\n",
       "      <th>B</th>\n",
       "      <th>one</th>\n",
       "      <th>three</th>\n",
       "      <th>two</th>\n",
       "    </tr>\n",
       "    <tr>\n",
       "      <th>A</th>\n",
       "      <th></th>\n",
       "      <th></th>\n",
       "      <th></th>\n",
       "    </tr>\n",
       "  </thead>\n",
       "  <tbody>\n",
       "    <tr>\n",
       "      <th>bar</th>\n",
       "      <td>1.041721</td>\n",
       "      <td>0.350203</td>\n",
       "      <td>-1.220942</td>\n",
       "    </tr>\n",
       "    <tr>\n",
       "      <th>foo</th>\n",
       "      <td>-0.135403</td>\n",
       "      <td>-0.043958</td>\n",
       "      <td>-1.058521</td>\n",
       "    </tr>\n",
       "  </tbody>\n",
       "</table>\n",
       "</div>"
      ],
      "text/plain": [
       "B         one     three       two\n",
       "A                                \n",
       "bar  1.041721  0.350203 -1.220942\n",
       "foo -0.135403 -0.043958 -1.058521"
      ]
     },
     "execution_count": 138,
     "metadata": {},
     "output_type": "execute_result"
    }
   ],
   "source": [
    "df_g2.pivot_table(index ='A',columns='B',values='C')\n",
    "\n",
    "# pd.pivot_table(df_g2, index ='A',columns='B',values='C')"
   ]
  },
  {
   "attachments": {},
   "cell_type": "markdown",
   "metadata": {},
   "source": [
    "### 9. Time Series"
   ]
  },
  {
   "cell_type": "code",
   "execution_count": 139,
   "metadata": {},
   "outputs": [
    {
     "data": {
      "text/plain": [
       "2012-01-01    23845\n",
       "Freq: 5T, dtype: int64"
      ]
     },
     "execution_count": 139,
     "metadata": {},
     "output_type": "execute_result"
    }
   ],
   "source": [
    "rng = pd.date_range(\"1/1/2012\", periods=100, freq=\"S\")\n",
    "\n",
    "ts = pd.Series(np.random.randint(0, 500, len(rng)), index=rng)\n",
    "\n",
    "ts.resample(\"5Min\").sum()"
   ]
  },
  {
   "cell_type": "code",
   "execution_count": 140,
   "metadata": {},
   "outputs": [
    {
     "data": {
      "text/plain": [
       "2012-01-01 00:00:00    248\n",
       "2012-01-01 00:00:01    141\n",
       "2012-01-01 00:00:02    158\n",
       "2012-01-01 00:00:03    392\n",
       "2012-01-01 00:00:04    484\n",
       "                      ... \n",
       "2012-01-01 00:01:35    327\n",
       "2012-01-01 00:01:36     84\n",
       "2012-01-01 00:01:37     91\n",
       "2012-01-01 00:01:38    313\n",
       "2012-01-01 00:01:39    203\n",
       "Freq: S, Length: 100, dtype: int64"
      ]
     },
     "execution_count": 140,
     "metadata": {},
     "output_type": "execute_result"
    }
   ],
   "source": [
    "ts"
   ]
  },
  {
   "attachments": {},
   "cell_type": "markdown",
   "metadata": {},
   "source": [
    "### 10. Categroicals"
   ]
  },
  {
   "attachments": {},
   "cell_type": "markdown",
   "metadata": {},
   "source": [
    "### 11. Plotting"
   ]
  }
 ],
 "metadata": {
  "kernelspec": {
   "display_name": "Python 3 (ipykernel)",
   "language": "python",
   "name": "python3"
  },
  "language_info": {
   "codemirror_mode": {
    "name": "ipython",
    "version": 3
   },
   "file_extension": ".py",
   "mimetype": "text/x-python",
   "name": "python",
   "nbconvert_exporter": "python",
   "pygments_lexer": "ipython3",
   "version": "3.9.10"
  },
  "vscode": {
   "interpreter": {
    "hash": "162ceaf09f938773ad028a3a2ad644135fdbb6560e1ade87eeac244d09a7763d"
   }
  }
 },
 "nbformat": 4,
 "nbformat_minor": 2
}
