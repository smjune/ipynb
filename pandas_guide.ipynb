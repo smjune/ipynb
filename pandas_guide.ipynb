{
 "cells": [
  {
   "attachments": {},
   "cell_type": "markdown",
   "metadata": {},
   "source": [
    "## EDA을 위한 다양한 pandas function 연습  \n",
    "---\n",
    "참고링크 : https://pandas.pydata.org/docs/user_guide/10min.html  \n",
    "한글 : https://dandyrilla.github.io/2017-08-12/pandas-10min/\n",
    "\n",
    "API ref : https://pandas.pydata.org/docs/reference/index.html"
   ]
  },
  {
   "cell_type": "code",
   "execution_count": 2,
   "metadata": {},
   "outputs": [],
   "source": [
    "import numpy as np\n",
    "import pandas as pd"
   ]
  },
  {
   "attachments": {},
   "cell_type": "markdown",
   "metadata": {},
   "source": [
    "### series and dataFrame \n",
    "\n",
    "차이점을 기억해 두자  \n",
    "series 1차 배열  \n",
    "dataFrame 2차 배열  \n",
    "\n",
    "실제 data 특성에 맞는 샘플 데이터를 만들수 있어야 한다.   \n",
    "해당 샘플 데이터로 각 연산 결과를 미리 확인 할 수 있어야 한다.   \n",
    "print(type()) 을 이용하여 object 의 타입을 정확히 파악해야 한다.  \n",
    "( series[index_label] vs dataframe[column_label] )  \n",
    "answer.ipynb 와 test.ipynb, sample.ipynb 으로 운영한다. \n",
    "\n",
    "```\n",
    "pd.DataFrame( Serise, \n",
    "              columns = ['',''])\n",
    "              index = lsit\n",
    "            )\n",
    "\n",
    "pd.DataFrame(\n",
    "    { \n",
    "      'A': list\n",
    "      'B': ['', '']\n",
    "    },\n",
    "    index=['','']\n",
    "    )\n",
    "```"
   ]
  },
  {
   "cell_type": "code",
   "execution_count": 3,
   "metadata": {},
   "outputs": [
    {
     "data": {
      "text/html": [
       "<div>\n",
       "<style scoped>\n",
       "    .dataframe tbody tr th:only-of-type {\n",
       "        vertical-align: middle;\n",
       "    }\n",
       "\n",
       "    .dataframe tbody tr th {\n",
       "        vertical-align: top;\n",
       "    }\n",
       "\n",
       "    .dataframe thead th {\n",
       "        text-align: right;\n",
       "    }\n",
       "</style>\n",
       "<table border=\"1\" class=\"dataframe\">\n",
       "  <thead>\n",
       "    <tr style=\"text-align: right;\">\n",
       "      <th></th>\n",
       "      <th>B</th>\n",
       "    </tr>\n",
       "  </thead>\n",
       "  <tbody>\n",
       "    <tr>\n",
       "      <th>1</th>\n",
       "      <td>B</td>\n",
       "    </tr>\n",
       "    <tr>\n",
       "      <th>2</th>\n",
       "      <td>C</td>\n",
       "    </tr>\n",
       "  </tbody>\n",
       "</table>\n",
       "</div>"
      ],
      "text/plain": [
       "   B\n",
       "1  B\n",
       "2  C"
      ]
     },
     "execution_count": 3,
     "metadata": {},
     "output_type": "execute_result"
    }
   ],
   "source": [
    "pd.DataFrame({ \n",
    "    'B': ['B', 'C'],\n",
    "}, index= [1,2])"
   ]
  },
  {
   "cell_type": "code",
   "execution_count": 4,
   "metadata": {},
   "outputs": [
    {
     "data": {
      "text/plain": [
       "0    1.0\n",
       "1    3.0\n",
       "2    5.0\n",
       "3    NaN\n",
       "4    6.0\n",
       "5    8.0\n",
       "dtype: float64"
      ]
     },
     "execution_count": 4,
     "metadata": {},
     "output_type": "execute_result"
    }
   ],
   "source": [
    "s = pd.Series([1, 3, 5, np.nan, 6, 8])\n",
    "s"
   ]
  },
  {
   "cell_type": "code",
   "execution_count": 5,
   "metadata": {},
   "outputs": [
    {
     "data": {
      "text/plain": [
       "DatetimeIndex(['2013-01-01', '2013-01-02', '2013-01-03', '2013-01-04',\n",
       "               '2013-01-05', '2013-01-06'],\n",
       "              dtype='datetime64[ns]', freq='D')"
      ]
     },
     "execution_count": 5,
     "metadata": {},
     "output_type": "execute_result"
    }
   ],
   "source": [
    "dates = pd.date_range(\"20130101\", periods=6)\n",
    "dates"
   ]
  },
  {
   "cell_type": "code",
   "execution_count": 6,
   "metadata": {},
   "outputs": [
    {
     "data": {
      "text/html": [
       "<div>\n",
       "<style scoped>\n",
       "    .dataframe tbody tr th:only-of-type {\n",
       "        vertical-align: middle;\n",
       "    }\n",
       "\n",
       "    .dataframe tbody tr th {\n",
       "        vertical-align: top;\n",
       "    }\n",
       "\n",
       "    .dataframe thead th {\n",
       "        text-align: right;\n",
       "    }\n",
       "</style>\n",
       "<table border=\"1\" class=\"dataframe\">\n",
       "  <thead>\n",
       "    <tr style=\"text-align: right;\">\n",
       "      <th></th>\n",
       "      <th>A</th>\n",
       "      <th>B</th>\n",
       "      <th>C</th>\n",
       "      <th>D</th>\n",
       "    </tr>\n",
       "  </thead>\n",
       "  <tbody>\n",
       "    <tr>\n",
       "      <th>2013-01-01</th>\n",
       "      <td>-0.493652</td>\n",
       "      <td>0.459845</td>\n",
       "      <td>1.055571</td>\n",
       "      <td>-0.397538</td>\n",
       "    </tr>\n",
       "    <tr>\n",
       "      <th>2013-01-02</th>\n",
       "      <td>0.841064</td>\n",
       "      <td>-0.856491</td>\n",
       "      <td>-0.383317</td>\n",
       "      <td>0.136862</td>\n",
       "    </tr>\n",
       "    <tr>\n",
       "      <th>2013-01-03</th>\n",
       "      <td>1.072583</td>\n",
       "      <td>0.815930</td>\n",
       "      <td>0.097716</td>\n",
       "      <td>-0.107951</td>\n",
       "    </tr>\n",
       "    <tr>\n",
       "      <th>2013-01-04</th>\n",
       "      <td>-1.628413</td>\n",
       "      <td>1.466435</td>\n",
       "      <td>0.040886</td>\n",
       "      <td>0.601363</td>\n",
       "    </tr>\n",
       "    <tr>\n",
       "      <th>2013-01-05</th>\n",
       "      <td>1.364480</td>\n",
       "      <td>1.886390</td>\n",
       "      <td>-0.721105</td>\n",
       "      <td>1.118183</td>\n",
       "    </tr>\n",
       "    <tr>\n",
       "      <th>2013-01-06</th>\n",
       "      <td>-0.102095</td>\n",
       "      <td>0.120838</td>\n",
       "      <td>-0.035622</td>\n",
       "      <td>-1.386959</td>\n",
       "    </tr>\n",
       "  </tbody>\n",
       "</table>\n",
       "</div>"
      ],
      "text/plain": [
       "                   A         B         C         D\n",
       "2013-01-01 -0.493652  0.459845  1.055571 -0.397538\n",
       "2013-01-02  0.841064 -0.856491 -0.383317  0.136862\n",
       "2013-01-03  1.072583  0.815930  0.097716 -0.107951\n",
       "2013-01-04 -1.628413  1.466435  0.040886  0.601363\n",
       "2013-01-05  1.364480  1.886390 -0.721105  1.118183\n",
       "2013-01-06 -0.102095  0.120838 -0.035622 -1.386959"
      ]
     },
     "execution_count": 6,
     "metadata": {},
     "output_type": "execute_result"
    }
   ],
   "source": [
    "# df 만드든 방법 1\n",
    "\n",
    "df = pd.DataFrame(np.random.randn(6, 4),\n",
    "                   index=dates, \n",
    "                   columns=list(\"ABCD\"))\n",
    "df"
   ]
  },
  {
   "cell_type": "code",
   "execution_count": 7,
   "metadata": {},
   "outputs": [
    {
     "data": {
      "text/plain": [
       "2013-01-03    1.072583\n",
       "2013-01-05    1.364480\n",
       "Name: A, dtype: float64"
      ]
     },
     "execution_count": 7,
     "metadata": {},
     "output_type": "execute_result"
    }
   ],
   "source": [
    "S = df.A\n",
    "S[1:]   # silicing\n",
    "\n",
    "S[1]  # serise indexiting\n",
    "S[S>1] # serise masking\n"
   ]
  },
  {
   "cell_type": "code",
   "execution_count": 8,
   "metadata": {},
   "outputs": [
    {
     "data": {
      "text/html": [
       "<div>\n",
       "<style scoped>\n",
       "    .dataframe tbody tr th:only-of-type {\n",
       "        vertical-align: middle;\n",
       "    }\n",
       "\n",
       "    .dataframe tbody tr th {\n",
       "        vertical-align: top;\n",
       "    }\n",
       "\n",
       "    .dataframe thead th {\n",
       "        text-align: right;\n",
       "    }\n",
       "</style>\n",
       "<table border=\"1\" class=\"dataframe\">\n",
       "  <thead>\n",
       "    <tr style=\"text-align: right;\">\n",
       "      <th></th>\n",
       "      <th>A</th>\n",
       "      <th>B</th>\n",
       "    </tr>\n",
       "  </thead>\n",
       "  <tbody>\n",
       "    <tr>\n",
       "      <th>2013-01-01</th>\n",
       "      <td>NaN</td>\n",
       "      <td>NaN</td>\n",
       "    </tr>\n",
       "    <tr>\n",
       "      <th>2013-01-02</th>\n",
       "      <td>NaN</td>\n",
       "      <td>NaN</td>\n",
       "    </tr>\n",
       "    <tr>\n",
       "      <th>2013-01-03</th>\n",
       "      <td>1.072583</td>\n",
       "      <td>NaN</td>\n",
       "    </tr>\n",
       "    <tr>\n",
       "      <th>2013-01-04</th>\n",
       "      <td>NaN</td>\n",
       "      <td>1.466435</td>\n",
       "    </tr>\n",
       "    <tr>\n",
       "      <th>2013-01-05</th>\n",
       "      <td>1.364480</td>\n",
       "      <td>1.886390</td>\n",
       "    </tr>\n",
       "    <tr>\n",
       "      <th>2013-01-06</th>\n",
       "      <td>NaN</td>\n",
       "      <td>NaN</td>\n",
       "    </tr>\n",
       "  </tbody>\n",
       "</table>\n",
       "</div>"
      ],
      "text/plain": [
       "                   A         B\n",
       "2013-01-01       NaN       NaN\n",
       "2013-01-02       NaN       NaN\n",
       "2013-01-03  1.072583       NaN\n",
       "2013-01-04       NaN  1.466435\n",
       "2013-01-05  1.364480  1.886390\n",
       "2013-01-06       NaN       NaN"
      ]
     },
     "execution_count": 8,
     "metadata": {},
     "output_type": "execute_result"
    }
   ],
   "source": [
    "\n",
    "D = df[['A','B']]\n",
    "\n",
    "D[1:]   # df slicing\n",
    "# D[1]    # indexing 은 오류\n",
    "D[D>1]"
   ]
  },
  {
   "attachments": {},
   "cell_type": "markdown",
   "metadata": {},
   "source": [
    "dataFrame :   \n",
    "DataFrame은 2차원 배열 데이터라고 이해하는 것보다 공통 인덱스를 가진 column series를 딕셔너리로 묶어놓은 것"
   ]
  },
  {
   "cell_type": "code",
   "execution_count": 9,
   "metadata": {},
   "outputs": [
    {
     "data": {
      "text/html": [
       "<div>\n",
       "<style scoped>\n",
       "    .dataframe tbody tr th:only-of-type {\n",
       "        vertical-align: middle;\n",
       "    }\n",
       "\n",
       "    .dataframe tbody tr th {\n",
       "        vertical-align: top;\n",
       "    }\n",
       "\n",
       "    .dataframe thead th {\n",
       "        text-align: right;\n",
       "    }\n",
       "</style>\n",
       "<table border=\"1\" class=\"dataframe\">\n",
       "  <thead>\n",
       "    <tr style=\"text-align: right;\">\n",
       "      <th></th>\n",
       "      <th>A</th>\n",
       "      <th>B</th>\n",
       "      <th>C</th>\n",
       "      <th>D</th>\n",
       "      <th>E</th>\n",
       "      <th>F</th>\n",
       "    </tr>\n",
       "  </thead>\n",
       "  <tbody>\n",
       "    <tr>\n",
       "      <th>0</th>\n",
       "      <td>1.0</td>\n",
       "      <td>2013-01-02</td>\n",
       "      <td>1.0</td>\n",
       "      <td>3</td>\n",
       "      <td>test</td>\n",
       "      <td>foo</td>\n",
       "    </tr>\n",
       "    <tr>\n",
       "      <th>1</th>\n",
       "      <td>1.0</td>\n",
       "      <td>2013-01-02</td>\n",
       "      <td>1.0</td>\n",
       "      <td>3</td>\n",
       "      <td>train</td>\n",
       "      <td>foo</td>\n",
       "    </tr>\n",
       "    <tr>\n",
       "      <th>2</th>\n",
       "      <td>1.0</td>\n",
       "      <td>2013-01-02</td>\n",
       "      <td>1.0</td>\n",
       "      <td>3</td>\n",
       "      <td>test</td>\n",
       "      <td>foo</td>\n",
       "    </tr>\n",
       "    <tr>\n",
       "      <th>3</th>\n",
       "      <td>1.0</td>\n",
       "      <td>2013-01-02</td>\n",
       "      <td>1.0</td>\n",
       "      <td>3</td>\n",
       "      <td>train</td>\n",
       "      <td>foo</td>\n",
       "    </tr>\n",
       "  </tbody>\n",
       "</table>\n",
       "</div>"
      ],
      "text/plain": [
       "     A          B    C  D      E    F\n",
       "0  1.0 2013-01-02  1.0  3   test  foo\n",
       "1  1.0 2013-01-02  1.0  3  train  foo\n",
       "2  1.0 2013-01-02  1.0  3   test  foo\n",
       "3  1.0 2013-01-02  1.0  3  train  foo"
      ]
     },
     "execution_count": 9,
     "metadata": {},
     "output_type": "execute_result"
    }
   ],
   "source": [
    "# df 만드는 방법 2 \n",
    "\n",
    "df2 = pd.DataFrame(\n",
    "    {\n",
    "        \"A\": 1.0,\n",
    "        \"B\": pd.Timestamp(\"20130102\"),\n",
    "        \"C\": pd.Series(1, index=list(range(4)), dtype=\"float32\"),\n",
    "        \"D\": np.array([3] * 4, dtype=\"int32\"),\n",
    "        \"E\": pd.Categorical([\"test\", \"train\", \"test\", \"train\"]),\n",
    "        \"F\": \"foo\",\n",
    "    }\n",
    ")\n",
    "\n",
    "df2 \n",
    "# df2[:]\n",
    "# df2[:][:]\n",
    "# df2.loc[:,:]"
   ]
  },
  {
   "attachments": {},
   "cell_type": "markdown",
   "metadata": {},
   "source": [
    "### 2. Viewing Data"
   ]
  },
  {
   "cell_type": "code",
   "execution_count": 10,
   "metadata": {},
   "outputs": [
    {
     "data": {
      "text/plain": [
       "A           float64\n",
       "B    datetime64[ns]\n",
       "C           float32\n",
       "D             int32\n",
       "E          category\n",
       "F            object\n",
       "dtype: object"
      ]
     },
     "execution_count": 10,
     "metadata": {},
     "output_type": "execute_result"
    }
   ],
   "source": [
    "df2.dtypes"
   ]
  },
  {
   "cell_type": "code",
   "execution_count": 11,
   "metadata": {},
   "outputs": [
    {
     "name": "stdout",
     "output_type": "stream",
     "text": [
      "                   A         B         C         D\n",
      "2013-01-01 -0.493652  0.459845  1.055571 -0.397538\n",
      "2013-01-02  0.841064 -0.856491 -0.383317  0.136862 \n",
      "\n",
      "                   A         B         C         D\n",
      "2013-01-05  1.364480  1.886390 -0.721105  1.118183\n",
      "2013-01-06 -0.102095  0.120838 -0.035622 -1.386959 \n",
      "\n",
      "DatetimeIndex(['2013-01-01', '2013-01-02', '2013-01-03', '2013-01-04',\n",
      "               '2013-01-05', '2013-01-06'],\n",
      "              dtype='datetime64[ns]', freq='D') \n",
      "\n",
      "Index(['A', 'B', 'C', 'D'], dtype='object') \n",
      "\n"
     ]
    },
    {
     "data": {
      "text/html": [
       "<div>\n",
       "<style scoped>\n",
       "    .dataframe tbody tr th:only-of-type {\n",
       "        vertical-align: middle;\n",
       "    }\n",
       "\n",
       "    .dataframe tbody tr th {\n",
       "        vertical-align: top;\n",
       "    }\n",
       "\n",
       "    .dataframe thead th {\n",
       "        text-align: right;\n",
       "    }\n",
       "</style>\n",
       "<table border=\"1\" class=\"dataframe\">\n",
       "  <thead>\n",
       "    <tr style=\"text-align: right;\">\n",
       "      <th></th>\n",
       "      <th>A</th>\n",
       "      <th>B</th>\n",
       "      <th>C</th>\n",
       "      <th>D</th>\n",
       "    </tr>\n",
       "  </thead>\n",
       "  <tbody>\n",
       "    <tr>\n",
       "      <th>count</th>\n",
       "      <td>6.000000</td>\n",
       "      <td>6.000000</td>\n",
       "      <td>6.000000</td>\n",
       "      <td>6.000000</td>\n",
       "    </tr>\n",
       "    <tr>\n",
       "      <th>mean</th>\n",
       "      <td>0.175661</td>\n",
       "      <td>0.648825</td>\n",
       "      <td>0.009021</td>\n",
       "      <td>-0.006007</td>\n",
       "    </tr>\n",
       "    <tr>\n",
       "      <th>std</th>\n",
       "      <td>1.134930</td>\n",
       "      <td>0.980657</td>\n",
       "      <td>0.598858</td>\n",
       "      <td>0.862998</td>\n",
       "    </tr>\n",
       "    <tr>\n",
       "      <th>min</th>\n",
       "      <td>-1.628413</td>\n",
       "      <td>-0.856491</td>\n",
       "      <td>-0.721105</td>\n",
       "      <td>-1.386959</td>\n",
       "    </tr>\n",
       "    <tr>\n",
       "      <th>25%</th>\n",
       "      <td>-0.395763</td>\n",
       "      <td>0.205590</td>\n",
       "      <td>-0.296393</td>\n",
       "      <td>-0.325141</td>\n",
       "    </tr>\n",
       "    <tr>\n",
       "      <th>50%</th>\n",
       "      <td>0.369485</td>\n",
       "      <td>0.637888</td>\n",
       "      <td>0.002632</td>\n",
       "      <td>0.014456</td>\n",
       "    </tr>\n",
       "    <tr>\n",
       "      <th>75%</th>\n",
       "      <td>1.014703</td>\n",
       "      <td>1.303809</td>\n",
       "      <td>0.083508</td>\n",
       "      <td>0.485238</td>\n",
       "    </tr>\n",
       "    <tr>\n",
       "      <th>max</th>\n",
       "      <td>1.364480</td>\n",
       "      <td>1.886390</td>\n",
       "      <td>1.055571</td>\n",
       "      <td>1.118183</td>\n",
       "    </tr>\n",
       "  </tbody>\n",
       "</table>\n",
       "</div>"
      ],
      "text/plain": [
       "              A         B         C         D\n",
       "count  6.000000  6.000000  6.000000  6.000000\n",
       "mean   0.175661  0.648825  0.009021 -0.006007\n",
       "std    1.134930  0.980657  0.598858  0.862998\n",
       "min   -1.628413 -0.856491 -0.721105 -1.386959\n",
       "25%   -0.395763  0.205590 -0.296393 -0.325141\n",
       "50%    0.369485  0.637888  0.002632  0.014456\n",
       "75%    1.014703  1.303809  0.083508  0.485238\n",
       "max    1.364480  1.886390  1.055571  1.118183"
      ]
     },
     "execution_count": 11,
     "metadata": {},
     "output_type": "execute_result"
    }
   ],
   "source": [
    "print(df.head(2),'\\n')\n",
    "\n",
    "print(df.tail(2), '\\n')\n",
    "\n",
    "print(df.index, '\\n')\n",
    "\n",
    "print(df.columns, '\\n')\n",
    "\n",
    "df.describe()\n"
   ]
  },
  {
   "cell_type": "code",
   "execution_count": 12,
   "metadata": {},
   "outputs": [
    {
     "data": {
      "text/html": [
       "<div>\n",
       "<style scoped>\n",
       "    .dataframe tbody tr th:only-of-type {\n",
       "        vertical-align: middle;\n",
       "    }\n",
       "\n",
       "    .dataframe tbody tr th {\n",
       "        vertical-align: top;\n",
       "    }\n",
       "\n",
       "    .dataframe thead th {\n",
       "        text-align: right;\n",
       "    }\n",
       "</style>\n",
       "<table border=\"1\" class=\"dataframe\">\n",
       "  <thead>\n",
       "    <tr style=\"text-align: right;\">\n",
       "      <th></th>\n",
       "      <th>2013-01-01</th>\n",
       "      <th>2013-01-02</th>\n",
       "      <th>2013-01-03</th>\n",
       "      <th>2013-01-04</th>\n",
       "      <th>2013-01-05</th>\n",
       "      <th>2013-01-06</th>\n",
       "    </tr>\n",
       "  </thead>\n",
       "  <tbody>\n",
       "    <tr>\n",
       "      <th>A</th>\n",
       "      <td>-0.493652</td>\n",
       "      <td>0.841064</td>\n",
       "      <td>1.072583</td>\n",
       "      <td>-1.628413</td>\n",
       "      <td>1.364480</td>\n",
       "      <td>-0.102095</td>\n",
       "    </tr>\n",
       "    <tr>\n",
       "      <th>B</th>\n",
       "      <td>0.459845</td>\n",
       "      <td>-0.856491</td>\n",
       "      <td>0.815930</td>\n",
       "      <td>1.466435</td>\n",
       "      <td>1.886390</td>\n",
       "      <td>0.120838</td>\n",
       "    </tr>\n",
       "    <tr>\n",
       "      <th>C</th>\n",
       "      <td>1.055571</td>\n",
       "      <td>-0.383317</td>\n",
       "      <td>0.097716</td>\n",
       "      <td>0.040886</td>\n",
       "      <td>-0.721105</td>\n",
       "      <td>-0.035622</td>\n",
       "    </tr>\n",
       "    <tr>\n",
       "      <th>D</th>\n",
       "      <td>-0.397538</td>\n",
       "      <td>0.136862</td>\n",
       "      <td>-0.107951</td>\n",
       "      <td>0.601363</td>\n",
       "      <td>1.118183</td>\n",
       "      <td>-1.386959</td>\n",
       "    </tr>\n",
       "  </tbody>\n",
       "</table>\n",
       "</div>"
      ],
      "text/plain": [
       "   2013-01-01  2013-01-02  2013-01-03  2013-01-04  2013-01-05  2013-01-06\n",
       "A   -0.493652    0.841064    1.072583   -1.628413    1.364480   -0.102095\n",
       "B    0.459845   -0.856491    0.815930    1.466435    1.886390    0.120838\n",
       "C    1.055571   -0.383317    0.097716    0.040886   -0.721105   -0.035622\n",
       "D   -0.397538    0.136862   -0.107951    0.601363    1.118183   -1.386959"
      ]
     },
     "execution_count": 12,
     "metadata": {},
     "output_type": "execute_result"
    }
   ],
   "source": [
    "# 행, 열을 바꾼다. \n",
    "\n",
    "df.T"
   ]
  },
  {
   "cell_type": "code",
   "execution_count": 13,
   "metadata": {},
   "outputs": [
    {
     "data": {
      "text/plain": [
       "array([[-0.49365199,  0.4598453 ,  1.05557074, -0.39753799],\n",
       "       [ 0.84106437, -0.85649108, -0.38331698,  0.136862  ],\n",
       "       [ 1.07258297,  0.81592972,  0.09771552, -0.10795092],\n",
       "       [-1.62841305,  1.46643505,  0.04088561,  0.60136268],\n",
       "       [ 1.36447978,  1.88638985, -0.72110492,  1.1181833 ],\n",
       "       [-0.10209533,  0.12083839, -0.03562224, -1.38695861]])"
      ]
     },
     "execution_count": 13,
     "metadata": {},
     "output_type": "execute_result"
    }
   ],
   "source": [
    "df.to_numpy()"
   ]
  },
  {
   "cell_type": "code",
   "execution_count": 14,
   "metadata": {},
   "outputs": [
    {
     "data": {
      "text/html": [
       "<div>\n",
       "<style scoped>\n",
       "    .dataframe tbody tr th:only-of-type {\n",
       "        vertical-align: middle;\n",
       "    }\n",
       "\n",
       "    .dataframe tbody tr th {\n",
       "        vertical-align: top;\n",
       "    }\n",
       "\n",
       "    .dataframe thead th {\n",
       "        text-align: right;\n",
       "    }\n",
       "</style>\n",
       "<table border=\"1\" class=\"dataframe\">\n",
       "  <thead>\n",
       "    <tr style=\"text-align: right;\">\n",
       "      <th></th>\n",
       "    </tr>\n",
       "  </thead>\n",
       "  <tbody>\n",
       "    <tr>\n",
       "      <th>2013-01-01</th>\n",
       "    </tr>\n",
       "    <tr>\n",
       "      <th>2013-01-02</th>\n",
       "    </tr>\n",
       "    <tr>\n",
       "      <th>2013-01-03</th>\n",
       "    </tr>\n",
       "    <tr>\n",
       "      <th>2013-01-04</th>\n",
       "    </tr>\n",
       "    <tr>\n",
       "      <th>2013-01-05</th>\n",
       "    </tr>\n",
       "    <tr>\n",
       "      <th>2013-01-06</th>\n",
       "    </tr>\n",
       "  </tbody>\n",
       "</table>\n",
       "</div>"
      ],
      "text/plain": [
       "Empty DataFrame\n",
       "Columns: []\n",
       "Index: [2013-01-01 00:00:00, 2013-01-02 00:00:00, 2013-01-03 00:00:00, 2013-01-04 00:00:00, 2013-01-05 00:00:00, 2013-01-06 00:00:00]"
      ]
     },
     "execution_count": 14,
     "metadata": {},
     "output_type": "execute_result"
    }
   ],
   "source": [
    "df.select_dtypes(include='int64')"
   ]
  },
  {
   "cell_type": "code",
   "execution_count": 15,
   "metadata": {},
   "outputs": [
    {
     "data": {
      "text/html": [
       "<div>\n",
       "<style scoped>\n",
       "    .dataframe tbody tr th:only-of-type {\n",
       "        vertical-align: middle;\n",
       "    }\n",
       "\n",
       "    .dataframe tbody tr th {\n",
       "        vertical-align: top;\n",
       "    }\n",
       "\n",
       "    .dataframe thead th {\n",
       "        text-align: right;\n",
       "    }\n",
       "</style>\n",
       "<table border=\"1\" class=\"dataframe\">\n",
       "  <thead>\n",
       "    <tr style=\"text-align: right;\">\n",
       "      <th></th>\n",
       "      <th>A</th>\n",
       "      <th>B</th>\n",
       "      <th>C</th>\n",
       "      <th>D</th>\n",
       "    </tr>\n",
       "  </thead>\n",
       "  <tbody>\n",
       "    <tr>\n",
       "      <th>2013-01-01</th>\n",
       "      <td>-0.493652</td>\n",
       "      <td>0.459845</td>\n",
       "      <td>1.055571</td>\n",
       "      <td>-0.397538</td>\n",
       "    </tr>\n",
       "    <tr>\n",
       "      <th>2013-01-02</th>\n",
       "      <td>0.841064</td>\n",
       "      <td>-0.856491</td>\n",
       "      <td>-0.383317</td>\n",
       "      <td>0.136862</td>\n",
       "    </tr>\n",
       "    <tr>\n",
       "      <th>2013-01-03</th>\n",
       "      <td>1.072583</td>\n",
       "      <td>0.815930</td>\n",
       "      <td>0.097716</td>\n",
       "      <td>-0.107951</td>\n",
       "    </tr>\n",
       "    <tr>\n",
       "      <th>2013-01-04</th>\n",
       "      <td>-1.628413</td>\n",
       "      <td>1.466435</td>\n",
       "      <td>0.040886</td>\n",
       "      <td>0.601363</td>\n",
       "    </tr>\n",
       "    <tr>\n",
       "      <th>2013-01-05</th>\n",
       "      <td>1.364480</td>\n",
       "      <td>1.886390</td>\n",
       "      <td>-0.721105</td>\n",
       "      <td>1.118183</td>\n",
       "    </tr>\n",
       "    <tr>\n",
       "      <th>2013-01-06</th>\n",
       "      <td>-0.102095</td>\n",
       "      <td>0.120838</td>\n",
       "      <td>-0.035622</td>\n",
       "      <td>-1.386959</td>\n",
       "    </tr>\n",
       "  </tbody>\n",
       "</table>\n",
       "</div>"
      ],
      "text/plain": [
       "                   A         B         C         D\n",
       "2013-01-01 -0.493652  0.459845  1.055571 -0.397538\n",
       "2013-01-02  0.841064 -0.856491 -0.383317  0.136862\n",
       "2013-01-03  1.072583  0.815930  0.097716 -0.107951\n",
       "2013-01-04 -1.628413  1.466435  0.040886  0.601363\n",
       "2013-01-05  1.364480  1.886390 -0.721105  1.118183\n",
       "2013-01-06 -0.102095  0.120838 -0.035622 -1.386959"
      ]
     },
     "execution_count": 15,
     "metadata": {},
     "output_type": "execute_result"
    }
   ],
   "source": [
    "df.select_dtypes(include='number')"
   ]
  },
  {
   "attachments": {},
   "cell_type": "markdown",
   "metadata": {},
   "source": [
    "value_counts()\n",
    "\n",
    "df.value_counts('col')   : 1 이상이면 동일한 row 존재  (전부 1이면, 다 값이 다르고, 실재 row 갯수 만큼 나온다.)  \n",
    "= df.groupby('col').size()\n",
    "series.value_counts() : 1 이상이면 동일한 값 존재"
   ]
  },
  {
   "cell_type": "code",
   "execution_count": 16,
   "metadata": {},
   "outputs": [
    {
     "data": {
      "text/plain": [
       "(A\n",
       " -1.628413    1\n",
       " -0.493652    1\n",
       " -0.102095    1\n",
       "  0.841064    1\n",
       "  1.072583    1\n",
       "  1.364480    1\n",
       " dtype: int64,\n",
       " A        \n",
       " -1.628413    1\n",
       " -0.493652    1\n",
       " -0.102095    1\n",
       "  0.841064    1\n",
       "  1.072583    1\n",
       "  1.364480    1\n",
       " Name: count, dtype: int64)"
      ]
     },
     "execution_count": 16,
     "metadata": {},
     "output_type": "execute_result"
    }
   ],
   "source": [
    "df.groupby(['A']).size(),\\\n",
    "df.value_counts(['A'])"
   ]
  },
  {
   "attachments": {},
   "cell_type": "markdown",
   "metadata": {},
   "source": [
    "### 3. Selection \n",
    "\n",
    "df[1] : 인텍싱  '정수일때만 가능 (df[df.index == 1] 가 같음), 주로 df 'column' 선택에 사용  \n",
    "df[2:4] : 슬라이싱  \n",
    "df[df>1] : 마스킹  \n",
    "\n",
    "=> 주로 Serise 을 사용할때 사용한다고 생각하자. series[1] / series[2:4] / serise[serise>1]\n",
    "\n",
    ".             : ```df.col```  \n",
    "[]            : ```df[column]```         , * df[row_lable: ] 은 사용하지 말자.  \n",
    "loc (or at)   : df.loc[index_lable,] 은 조건일때만 사용     , ```df.loc[ : , col_label]```    \n",
    "iloc (or iat) : ```df.iloc[몇번째 row]``` , df.iloc[ : , 몇번째 col]     \n"
   ]
  },
  {
   "cell_type": "code",
   "execution_count": 17,
   "metadata": {},
   "outputs": [
    {
     "name": "stdout",
     "output_type": "stream",
     "text": [
      "2013-01-01   -0.493652\n",
      "2013-01-02    0.841064\n",
      "2013-01-03    1.072583\n",
      "2013-01-04   -1.628413\n",
      "2013-01-05    1.364480\n",
      "2013-01-06   -0.102095\n",
      "Freq: D, Name: A, dtype: float64 \n",
      "\n",
      "2013-01-01   -0.493652\n",
      "2013-01-02    0.841064\n",
      "2013-01-03    1.072583\n",
      "2013-01-04   -1.628413\n",
      "2013-01-05    1.364480\n",
      "2013-01-06   -0.102095\n",
      "Freq: D, Name: A, dtype: float64 \n",
      "\n",
      "                   A\n",
      "2013-01-01 -0.493652\n",
      "2013-01-02  0.841064\n",
      "2013-01-03  1.072583\n",
      "2013-01-04 -1.628413\n",
      "2013-01-05  1.364480\n",
      "2013-01-06 -0.102095 \n",
      "\n"
     ]
    },
    {
     "data": {
      "text/html": [
       "<div>\n",
       "<style scoped>\n",
       "    .dataframe tbody tr th:only-of-type {\n",
       "        vertical-align: middle;\n",
       "    }\n",
       "\n",
       "    .dataframe tbody tr th {\n",
       "        vertical-align: top;\n",
       "    }\n",
       "\n",
       "    .dataframe thead th {\n",
       "        text-align: right;\n",
       "    }\n",
       "</style>\n",
       "<table border=\"1\" class=\"dataframe\">\n",
       "  <thead>\n",
       "    <tr style=\"text-align: right;\">\n",
       "      <th></th>\n",
       "      <th>A</th>\n",
       "      <th>C</th>\n",
       "    </tr>\n",
       "  </thead>\n",
       "  <tbody>\n",
       "    <tr>\n",
       "      <th>2013-01-01</th>\n",
       "      <td>-0.493652</td>\n",
       "      <td>1.055571</td>\n",
       "    </tr>\n",
       "    <tr>\n",
       "      <th>2013-01-02</th>\n",
       "      <td>0.841064</td>\n",
       "      <td>-0.383317</td>\n",
       "    </tr>\n",
       "    <tr>\n",
       "      <th>2013-01-03</th>\n",
       "      <td>1.072583</td>\n",
       "      <td>0.097716</td>\n",
       "    </tr>\n",
       "    <tr>\n",
       "      <th>2013-01-04</th>\n",
       "      <td>-1.628413</td>\n",
       "      <td>0.040886</td>\n",
       "    </tr>\n",
       "    <tr>\n",
       "      <th>2013-01-05</th>\n",
       "      <td>1.364480</td>\n",
       "      <td>-0.721105</td>\n",
       "    </tr>\n",
       "    <tr>\n",
       "      <th>2013-01-06</th>\n",
       "      <td>-0.102095</td>\n",
       "      <td>-0.035622</td>\n",
       "    </tr>\n",
       "  </tbody>\n",
       "</table>\n",
       "</div>"
      ],
      "text/plain": [
       "                   A         C\n",
       "2013-01-01 -0.493652  1.055571\n",
       "2013-01-02  0.841064 -0.383317\n",
       "2013-01-03  1.072583  0.097716\n",
       "2013-01-04 -1.628413  0.040886\n",
       "2013-01-05  1.364480 -0.721105\n",
       "2013-01-06 -0.102095 -0.035622"
      ]
     },
     "execution_count": 17,
     "metadata": {},
     "output_type": "execute_result"
    }
   ],
   "source": [
    "print(df['A'],'\\n')\n",
    "print(df[:]['A'],'\\n')              #df.loc[:,'A']\n",
    "# df['2013-01-01':]['A']            # chained indexing ?\n",
    "# df.A\n",
    "\n",
    "## column 을 선택하게 되며 series 로 리턴된다.\n",
    "\n",
    "\n",
    "print(df[['A']],'\\n')               # df 으로 리턴 \n",
    "df[['A','C']]                       # dataFrame 리턴\n",
    "\n",
    "## 2개 이상, 이거나 [[ 'col' ]] 으로 1개 col 을 df 로 리턴\n"
   ]
  },
  {
   "cell_type": "code",
   "execution_count": 18,
   "metadata": {},
   "outputs": [
    {
     "name": "stdout",
     "output_type": "stream",
     "text": [
      "                   A         B         C         D\n",
      "2013-01-01 -0.493652  0.459845  1.055571 -0.397538\n",
      "2013-01-02  0.841064 -0.856491 -0.383317  0.136862 \n",
      "\n",
      "                   A         B         C         D\n",
      "2013-01-01 -0.493652  0.459845  1.055571 -0.397538\n",
      "2013-01-02  0.841064 -0.856491 -0.383317  0.136862 \n",
      "\n"
     ]
    }
   ],
   "source": [
    "# 오류 \n",
    "\n",
    "# print(df[0],'\\n')                # 명시적 인덱스 0 을 찾기때문에 오류\n",
    "# print(df['2013-01-01'],'\\n')     # column 에서 찾기 때문에 오류 \n",
    "print(df['2013-01-01':'2013-01-02'],'\\n')  # 근데 이건 됨... 헐.\n",
    "print(df[:'2013-01-02'],'\\n') "
   ]
  },
  {
   "cell_type": "code",
   "execution_count": 19,
   "metadata": {},
   "outputs": [
    {
     "name": "stdout",
     "output_type": "stream",
     "text": [
      "                   A         B         C         D\n",
      "2013-01-04 -1.628413  1.466435  0.040886  0.601363\n",
      "2013-01-05  1.364480  1.886390 -0.721105  1.118183\n",
      "2013-01-06 -0.102095  0.120838 -0.035622 -1.386959 \n",
      "\n",
      "                   A         B         C         D\n",
      "2013-01-04 -1.628413  1.466435  0.040886  0.601363 \n",
      "\n",
      "                   A         B         C         D\n",
      "2013-01-04 -1.628413  1.466435  0.040886  0.601363 \n",
      "\n"
     ]
    },
    {
     "data": {
      "text/html": [
       "<div>\n",
       "<style scoped>\n",
       "    .dataframe tbody tr th:only-of-type {\n",
       "        vertical-align: middle;\n",
       "    }\n",
       "\n",
       "    .dataframe tbody tr th {\n",
       "        vertical-align: top;\n",
       "    }\n",
       "\n",
       "    .dataframe thead th {\n",
       "        text-align: right;\n",
       "    }\n",
       "</style>\n",
       "<table border=\"1\" class=\"dataframe\">\n",
       "  <thead>\n",
       "    <tr style=\"text-align: right;\">\n",
       "      <th></th>\n",
       "      <th>A</th>\n",
       "      <th>B</th>\n",
       "      <th>C</th>\n",
       "      <th>D</th>\n",
       "    </tr>\n",
       "  </thead>\n",
       "  <tbody>\n",
       "    <tr>\n",
       "      <th>2013-01-04</th>\n",
       "      <td>-1.628413</td>\n",
       "      <td>1.466435</td>\n",
       "      <td>0.040886</td>\n",
       "      <td>0.601363</td>\n",
       "    </tr>\n",
       "    <tr>\n",
       "      <th>2013-01-05</th>\n",
       "      <td>1.364480</td>\n",
       "      <td>1.886390</td>\n",
       "      <td>-0.721105</td>\n",
       "      <td>1.118183</td>\n",
       "    </tr>\n",
       "    <tr>\n",
       "      <th>2013-01-06</th>\n",
       "      <td>-0.102095</td>\n",
       "      <td>0.120838</td>\n",
       "      <td>-0.035622</td>\n",
       "      <td>-1.386959</td>\n",
       "    </tr>\n",
       "  </tbody>\n",
       "</table>\n",
       "</div>"
      ],
      "text/plain": [
       "                   A         B         C         D\n",
       "2013-01-04 -1.628413  1.466435  0.040886  0.601363\n",
       "2013-01-05  1.364480  1.886390 -0.721105  1.118183\n",
       "2013-01-06 -0.102095  0.120838 -0.035622 -1.386959"
      ]
     },
     "execution_count": 19,
     "metadata": {},
     "output_type": "execute_result"
    }
   ],
   "source": [
    "# df[0:3]\n",
    "# df['2013-01-01':'2013-01-03']\n",
    "print(df['2013-01-04':], '\\n')\n",
    "print(df['2013-01-04':'2013-01-04'], '\\n')     # 3, 4 열, label 은 끝 포함\n",
    "print(df[3:4], '\\n')                           # 3열만, index 은 -1 까지\n",
    "df[3:]\n",
    "\n",
    "# row 을 선택하게 되며, dataFrame 으로 리턴된다"
   ]
  },
  {
   "cell_type": "code",
   "execution_count": 20,
   "metadata": {},
   "outputs": [
    {
     "data": {
      "text/html": [
       "<div>\n",
       "<style scoped>\n",
       "    .dataframe tbody tr th:only-of-type {\n",
       "        vertical-align: middle;\n",
       "    }\n",
       "\n",
       "    .dataframe tbody tr th {\n",
       "        vertical-align: top;\n",
       "    }\n",
       "\n",
       "    .dataframe thead th {\n",
       "        text-align: right;\n",
       "    }\n",
       "</style>\n",
       "<table border=\"1\" class=\"dataframe\">\n",
       "  <thead>\n",
       "    <tr style=\"text-align: right;\">\n",
       "      <th></th>\n",
       "      <th>A</th>\n",
       "      <th>B</th>\n",
       "      <th>C</th>\n",
       "      <th>D</th>\n",
       "      <th>E</th>\n",
       "      <th>F</th>\n",
       "    </tr>\n",
       "  </thead>\n",
       "  <tbody>\n",
       "    <tr>\n",
       "      <th>0</th>\n",
       "      <td>1.0</td>\n",
       "      <td>2013-01-02</td>\n",
       "      <td>1.0</td>\n",
       "      <td>3</td>\n",
       "      <td>test</td>\n",
       "      <td>foo</td>\n",
       "    </tr>\n",
       "    <tr>\n",
       "      <th>1</th>\n",
       "      <td>1.0</td>\n",
       "      <td>2013-01-02</td>\n",
       "      <td>1.0</td>\n",
       "      <td>3</td>\n",
       "      <td>train</td>\n",
       "      <td>foo</td>\n",
       "    </tr>\n",
       "    <tr>\n",
       "      <th>2</th>\n",
       "      <td>1.0</td>\n",
       "      <td>2013-01-02</td>\n",
       "      <td>1.0</td>\n",
       "      <td>3</td>\n",
       "      <td>test</td>\n",
       "      <td>foo</td>\n",
       "    </tr>\n",
       "    <tr>\n",
       "      <th>3</th>\n",
       "      <td>1.0</td>\n",
       "      <td>2013-01-02</td>\n",
       "      <td>1.0</td>\n",
       "      <td>3</td>\n",
       "      <td>train</td>\n",
       "      <td>foo</td>\n",
       "    </tr>\n",
       "  </tbody>\n",
       "</table>\n",
       "</div>"
      ],
      "text/plain": [
       "     A          B    C  D      E    F\n",
       "0  1.0 2013-01-02  1.0  3   test  foo\n",
       "1  1.0 2013-01-02  1.0  3  train  foo\n",
       "2  1.0 2013-01-02  1.0  3   test  foo\n",
       "3  1.0 2013-01-02  1.0  3  train  foo"
      ]
     },
     "execution_count": 20,
     "metadata": {},
     "output_type": "execute_result"
    }
   ],
   "source": [
    "df2"
   ]
  },
  {
   "cell_type": "code",
   "execution_count": 21,
   "metadata": {},
   "outputs": [
    {
     "name": "stdout",
     "output_type": "stream",
     "text": [
      "     A          B    C  D      E    F\n",
      "0  1.0 2013-01-02  1.0  3   test  foo\n",
      "1  1.0 2013-01-02  1.0  3  train  foo\n",
      "2  1.0 2013-01-02  1.0  3   test  foo\n",
      "     A          B    C  D      E    F\n",
      "0  1.0 2013-01-02  1.0  3   test  foo\n",
      "1  1.0 2013-01-02  1.0  3  train  foo\n",
      "2  1.0 2013-01-02  1.0  3   test  foo\n",
      "3  1.0 2013-01-02  1.0  3  train  foo\n"
     ]
    },
    {
     "data": {
      "text/html": [
       "<div>\n",
       "<style scoped>\n",
       "    .dataframe tbody tr th:only-of-type {\n",
       "        vertical-align: middle;\n",
       "    }\n",
       "\n",
       "    .dataframe tbody tr th {\n",
       "        vertical-align: top;\n",
       "    }\n",
       "\n",
       "    .dataframe thead th {\n",
       "        text-align: right;\n",
       "    }\n",
       "</style>\n",
       "<table border=\"1\" class=\"dataframe\">\n",
       "  <thead>\n",
       "    <tr style=\"text-align: right;\">\n",
       "      <th></th>\n",
       "      <th>A</th>\n",
       "      <th>B</th>\n",
       "      <th>C</th>\n",
       "      <th>D</th>\n",
       "      <th>E</th>\n",
       "      <th>F</th>\n",
       "    </tr>\n",
       "  </thead>\n",
       "  <tbody>\n",
       "    <tr>\n",
       "      <th>0</th>\n",
       "      <td>1.0</td>\n",
       "      <td>2013-01-02</td>\n",
       "      <td>1.0</td>\n",
       "      <td>3</td>\n",
       "      <td>test</td>\n",
       "      <td>foo</td>\n",
       "    </tr>\n",
       "    <tr>\n",
       "      <th>1</th>\n",
       "      <td>1.0</td>\n",
       "      <td>2013-01-02</td>\n",
       "      <td>1.0</td>\n",
       "      <td>3</td>\n",
       "      <td>train</td>\n",
       "      <td>foo</td>\n",
       "    </tr>\n",
       "    <tr>\n",
       "      <th>2</th>\n",
       "      <td>1.0</td>\n",
       "      <td>2013-01-02</td>\n",
       "      <td>1.0</td>\n",
       "      <td>3</td>\n",
       "      <td>test</td>\n",
       "      <td>foo</td>\n",
       "    </tr>\n",
       "  </tbody>\n",
       "</table>\n",
       "</div>"
      ],
      "text/plain": [
       "     A          B    C  D      E    F\n",
       "0  1.0 2013-01-02  1.0  3   test  foo\n",
       "1  1.0 2013-01-02  1.0  3  train  foo\n",
       "2  1.0 2013-01-02  1.0  3   test  foo"
      ]
     },
     "execution_count": 21,
     "metadata": {},
     "output_type": "execute_result"
    }
   ],
   "source": [
    "print(df2[:3])  # 이런 형태는 사용하지 말자.  3번째 까지, column 이랑 혼동된다.\n",
    "# df2.iloc[,:3] 3번째 columns 까지 인건지, df2.iloc[:3,] 3번째 row 인건지??\n",
    "\n",
    "print(df2.loc[:3,])  # 이것도 사용하지 말자.  3번 까지 , 3번이 어디있을줄 알고... \n",
    "# 정수형이 아니면 df.loc[:'서울',] 이건 괜찬을듯.\n",
    "\n",
    "df2.iloc[:3,]   # 이걸 사용하자. 3번째 까지"
   ]
  },
  {
   "cell_type": "code",
   "execution_count": 22,
   "metadata": {},
   "outputs": [
    {
     "name": "stdout",
     "output_type": "stream",
     "text": [
      "2    1.0\n",
      "3    1.0\n",
      "Name: A, dtype: float64 \n",
      "\n",
      "     A          B    C  D      E    F\n",
      "2  1.0 2013-01-02  1.0  3   test  foo\n",
      "3  1.0 2013-01-02  1.0  3  train  foo \n",
      "\n"
     ]
    },
    {
     "data": {
      "text/html": [
       "<div>\n",
       "<style scoped>\n",
       "    .dataframe tbody tr th:only-of-type {\n",
       "        vertical-align: middle;\n",
       "    }\n",
       "\n",
       "    .dataframe tbody tr th {\n",
       "        vertical-align: top;\n",
       "    }\n",
       "\n",
       "    .dataframe thead th {\n",
       "        text-align: right;\n",
       "    }\n",
       "</style>\n",
       "<table border=\"1\" class=\"dataframe\">\n",
       "  <thead>\n",
       "    <tr style=\"text-align: right;\">\n",
       "      <th></th>\n",
       "      <th>A</th>\n",
       "      <th>B</th>\n",
       "      <th>C</th>\n",
       "      <th>D</th>\n",
       "      <th>E</th>\n",
       "      <th>F</th>\n",
       "    </tr>\n",
       "  </thead>\n",
       "  <tbody>\n",
       "    <tr>\n",
       "      <th>2</th>\n",
       "      <td>1.0</td>\n",
       "      <td>2013-01-02</td>\n",
       "      <td>1.0</td>\n",
       "      <td>3</td>\n",
       "      <td>test</td>\n",
       "      <td>foo</td>\n",
       "    </tr>\n",
       "  </tbody>\n",
       "</table>\n",
       "</div>"
      ],
      "text/plain": [
       "     A          B    C  D     E    F\n",
       "2  1.0 2013-01-02  1.0  3  test  foo"
      ]
     },
     "execution_count": 22,
     "metadata": {},
     "output_type": "execute_result"
    }
   ],
   "source": [
    "#chained indexing?\n",
    "print(df2[2:4]['A'],'\\n')     # row / col\n",
    "print(df2[2:4][0:4], '\\n')     # row seriese 의 row serise\n",
    "df2[2:4][0:1]                 # 2,3 row 로 만들어진 것에서 다시 0,1 row 첫번째 "
   ]
  },
  {
   "cell_type": "code",
   "execution_count": 23,
   "metadata": {},
   "outputs": [
    {
     "data": {
      "text/plain": [
       "A                    1.0\n",
       "B    2013-01-02 00:00:00\n",
       "C                    1.0\n",
       "D                      3\n",
       "E                   test\n",
       "F                    foo\n",
       "Name: 0, dtype: object"
      ]
     },
     "execution_count": 23,
     "metadata": {},
     "output_type": "execute_result"
    }
   ],
   "source": [
    "df2.iloc[0]     # 암묵적 인덱스 0 번째 선택"
   ]
  },
  {
   "cell_type": "code",
   "execution_count": 24,
   "metadata": {},
   "outputs": [
    {
     "data": {
      "text/plain": [
       "A                    1.0\n",
       "B    2013-01-02 00:00:00\n",
       "C                    1.0\n",
       "D                      3\n",
       "E                   test\n",
       "F                    foo\n",
       "Name: 2, dtype: object"
      ]
     },
     "execution_count": 24,
     "metadata": {},
     "output_type": "execute_result"
    }
   ],
   "source": [
    "df2.loc[2]        # 명시적 인덱스 2 선택"
   ]
  },
  {
   "attachments": {},
   "cell_type": "markdown",
   "metadata": {},
   "source": [
    "Row\n",
    "\n",
    "df.shape[0] = row 행갯수\n",
    "\n",
    "df.iloc[몇번째 row,]  \n",
    "df.loc[row_label,]  ```---> row_label 대신 조건절이 들어가면 조건절은 해당 row 의 index label 을 리턴한다.```\n",
    "\n",
    "으로만 사용\n"
   ]
  },
  {
   "cell_type": "code",
   "execution_count": 25,
   "metadata": {},
   "outputs": [
    {
     "data": {
      "text/plain": [
       "((4, 6), 4, 6)"
      ]
     },
     "execution_count": 25,
     "metadata": {},
     "output_type": "execute_result"
    }
   ],
   "source": [
    "df2.shape, df2.shape[0], df2.shape[1]"
   ]
  },
  {
   "cell_type": "code",
   "execution_count": 26,
   "metadata": {},
   "outputs": [
    {
     "name": "stdout",
     "output_type": "stream",
     "text": [
      "A   -0.493652\n",
      "B    0.459845\n",
      "C    1.055571\n",
      "D   -0.397538\n",
      "Name: 2013-01-01 00:00:00, dtype: float64 \n",
      "\n",
      "                   A         B         C         D\n",
      "2013-01-01 -0.493652  0.459845  1.055571 -0.397538\n",
      "2013-01-02  0.841064 -0.856491 -0.383317  0.136862 \n",
      "\n",
      "                   A         B         C         D\n",
      "2013-01-01 -0.493652  0.459845  1.055571 -0.397538\n",
      "2013-01-02  0.841064 -0.856491 -0.383317  0.136862 \n",
      "\n",
      "A   -0.493652\n",
      "B    0.459845\n",
      "C    1.055571\n",
      "D   -0.397538\n",
      "Name: 2013-01-01 00:00:00, dtype: float64 \n",
      "\n",
      "                   A         B         C         D\n",
      "2013-01-01 -0.493652  0.459845  1.055571 -0.397538 \n",
      "\n",
      "                   A         B         C         D\n",
      "2013-01-01 -0.493652  0.459845  1.055571 -0.397538\n",
      "2013-01-02  0.841064 -0.856491 -0.383317  0.136862 \n",
      "\n"
     ]
    }
   ],
   "source": [
    "# row label (명시적, 몇번) 을 이용해서 row 을 인덱싱\n",
    "# index 가 int 인 경우 df.loc[index_int] 도 가능, \n",
    "print(df.loc['20130101'],'\\n')              # series\n",
    "print(df.loc['20130101':'20130102'],'\\n')   # dataFrame\n",
    "print(df.loc[['20130101','20130102']],'\\n')\n",
    "\n",
    "# row location (암묵적 , 몇번째) index 을 이용해서 row 인덱싱\n",
    "print(df.iloc[0],'\\n')                      # series\n",
    "print(df.iloc[0:1],'\\n')                    #dataFrame\n",
    "print(df.iloc[[0,1]],'\\n')\n",
    "\n"
   ]
  },
  {
   "attachments": {},
   "cell_type": "markdown",
   "metadata": {},
   "source": [
    "Column\n",
    "\n",
    "df.shape[1] = columns 열갯수\n",
    "\n",
    "특정 column 은 몇번째 column 인가? 는 어떻게 찾지?\n",
    "\n",
    "```\n",
    "columns 을 추가할때는 인덱스가 없는 list 형태로 입력해야 한다. \n",
    "그렇지 않으면, 인덱스가 서로 다를때 입력이 안될수 있다. \n",
    "```"
   ]
  },
  {
   "cell_type": "code",
   "execution_count": 27,
   "metadata": {},
   "outputs": [
    {
     "name": "stdout",
     "output_type": "stream",
     "text": [
      "2013-01-01   -0.493652\n",
      "2013-01-02    0.841064\n",
      "2013-01-03    1.072583\n",
      "2013-01-04   -1.628413\n",
      "2013-01-05    1.364480\n",
      "2013-01-06   -0.102095\n",
      "Freq: D, Name: A, dtype: float64 \n",
      "\n",
      "                   A\n",
      "2013-01-01 -0.493652\n",
      "2013-01-02  0.841064\n",
      "2013-01-03  1.072583\n",
      "2013-01-04 -1.628413\n",
      "2013-01-05  1.364480\n",
      "2013-01-06 -0.102095 \n",
      "\n",
      "                   A         B\n",
      "2013-01-01 -0.493652  0.459845\n",
      "2013-01-02  0.841064 -0.856491\n",
      "2013-01-03  1.072583  0.815930\n",
      "2013-01-04 -1.628413  1.466435\n",
      "2013-01-05  1.364480  1.886390\n",
      "2013-01-06 -0.102095  0.120838 \n",
      "\n",
      "                   A         B\n",
      "2013-01-01 -0.493652  0.459845\n",
      "2013-01-02  0.841064 -0.856491\n",
      "2013-01-03  1.072583  0.815930\n",
      "2013-01-04 -1.628413  1.466435\n",
      "2013-01-05  1.364480  1.886390\n",
      "2013-01-06 -0.102095  0.120838 \n",
      "\n"
     ]
    }
   ],
   "source": [
    "\n",
    "# column lable 을 이용해서 column 인덱싱\n",
    "# print(df.loc['A'],'\\n')      # 'A' 을 row 인텍싱으로 생각해서 \n",
    "print(df.loc[:,'A'],'\\n')\n",
    "print(df.loc[:, ['A']],'\\n')\n",
    "print(df.loc[:,'A':'B'],'\\n')\n",
    "print(df.loc[:,['A','B']],'\\n')\n"
   ]
  },
  {
   "cell_type": "code",
   "execution_count": 28,
   "metadata": {},
   "outputs": [
    {
     "data": {
      "text/html": [
       "<div>\n",
       "<style scoped>\n",
       "    .dataframe tbody tr th:only-of-type {\n",
       "        vertical-align: middle;\n",
       "    }\n",
       "\n",
       "    .dataframe tbody tr th {\n",
       "        vertical-align: top;\n",
       "    }\n",
       "\n",
       "    .dataframe thead th {\n",
       "        text-align: right;\n",
       "    }\n",
       "</style>\n",
       "<table border=\"1\" class=\"dataframe\">\n",
       "  <thead>\n",
       "    <tr style=\"text-align: right;\">\n",
       "      <th></th>\n",
       "      <th>A</th>\n",
       "      <th>B</th>\n",
       "      <th>C</th>\n",
       "      <th>D</th>\n",
       "    </tr>\n",
       "  </thead>\n",
       "  <tbody>\n",
       "    <tr>\n",
       "      <th>2013-01-01</th>\n",
       "      <td>-0.493652</td>\n",
       "      <td>0.459845</td>\n",
       "      <td>1.055571</td>\n",
       "      <td>-0.397538</td>\n",
       "    </tr>\n",
       "    <tr>\n",
       "      <th>2013-01-02</th>\n",
       "      <td>0.841064</td>\n",
       "      <td>-0.856491</td>\n",
       "      <td>-0.383317</td>\n",
       "      <td>0.136862</td>\n",
       "    </tr>\n",
       "    <tr>\n",
       "      <th>2013-01-03</th>\n",
       "      <td>1.072583</td>\n",
       "      <td>0.815930</td>\n",
       "      <td>0.097716</td>\n",
       "      <td>-0.107951</td>\n",
       "    </tr>\n",
       "    <tr>\n",
       "      <th>2013-01-04</th>\n",
       "      <td>-1.628413</td>\n",
       "      <td>1.466435</td>\n",
       "      <td>0.040886</td>\n",
       "      <td>0.601363</td>\n",
       "    </tr>\n",
       "    <tr>\n",
       "      <th>2013-01-05</th>\n",
       "      <td>1.364480</td>\n",
       "      <td>1.886390</td>\n",
       "      <td>-0.721105</td>\n",
       "      <td>1.118183</td>\n",
       "    </tr>\n",
       "  </tbody>\n",
       "</table>\n",
       "</div>"
      ],
      "text/plain": [
       "                   A         B         C         D\n",
       "2013-01-01 -0.493652  0.459845  1.055571 -0.397538\n",
       "2013-01-02  0.841064 -0.856491 -0.383317  0.136862\n",
       "2013-01-03  1.072583  0.815930  0.097716 -0.107951\n",
       "2013-01-04 -1.628413  1.466435  0.040886  0.601363\n",
       "2013-01-05  1.364480  1.886390 -0.721105  1.118183"
      ]
     },
     "execution_count": 28,
     "metadata": {},
     "output_type": "execute_result"
    }
   ],
   "source": [
    "df.head()"
   ]
  },
  {
   "cell_type": "code",
   "execution_count": 29,
   "metadata": {},
   "outputs": [
    {
     "name": "stdout",
     "output_type": "stream",
     "text": [
      "A   -0.493652\n",
      "B    0.459845\n",
      "C    1.055571\n",
      "D   -0.397538\n",
      "Name: 2013-01-01 00:00:00, dtype: float64 \n",
      "\n",
      "2013-01-01   -0.493652\n",
      "2013-01-02    0.841064\n",
      "2013-01-03    1.072583\n",
      "2013-01-04   -1.628413\n",
      "2013-01-05    1.364480\n",
      "2013-01-06   -0.102095\n",
      "Freq: D, Name: A, dtype: float64 \n",
      "\n",
      "                   A\n",
      "2013-01-01 -0.493652\n",
      "2013-01-02  0.841064\n",
      "2013-01-03  1.072583\n",
      "2013-01-04 -1.628413\n",
      "2013-01-05  1.364480\n",
      "2013-01-06 -0.102095\n"
     ]
    }
   ],
   "source": [
    "\n",
    "# column locatin (몇번째) index 을 이용해서 column 인덱싱\n",
    "print(df.iloc[0],'\\n')          # 0 을 row 인텍싱으로 생각해서 0번째 location row 을 인텍싱\n",
    "print(df.iloc[:,0],'\\n')        # 0 번째 column series 리턴\n",
    "print(df.iloc[:,[0]])           # 0 번째 column df 리턴\n"
   ]
  },
  {
   "cell_type": "code",
   "execution_count": 30,
   "metadata": {},
   "outputs": [
    {
     "name": "stdout",
     "output_type": "stream",
     "text": [
      "                   A         B\n",
      "2013-01-01 -0.493652  0.459845\n",
      "2013-01-02  0.841064 -0.856491\n",
      "2013-01-03  1.072583  0.815930\n",
      "2013-01-04 -1.628413  1.466435\n",
      "2013-01-05  1.364480  1.886390\n",
      "2013-01-06 -0.102095  0.120838 \n",
      "\n"
     ]
    }
   ],
   "source": [
    "print(df.iloc[:,0:2],'\\n')\n"
   ]
  },
  {
   "cell_type": "code",
   "execution_count": 31,
   "metadata": {},
   "outputs": [
    {
     "name": "stdout",
     "output_type": "stream",
     "text": [
      "                   A         B         D\n",
      "2013-01-01 -0.493652  0.459845 -0.397538\n",
      "2013-01-02  0.841064 -0.856491  0.136862\n",
      "2013-01-03  1.072583  0.815930 -0.107951\n",
      "2013-01-04 -1.628413  1.466435  0.601363\n",
      "2013-01-05  1.364480  1.886390  1.118183\n",
      "2013-01-06 -0.102095  0.120838 -1.386959 \n",
      "\n"
     ]
    }
   ],
   "source": [
    "print(df.iloc[:,[0,1,3]],'\\n')"
   ]
  },
  {
   "cell_type": "code",
   "execution_count": 32,
   "metadata": {},
   "outputs": [
    {
     "data": {
      "text/html": [
       "<div>\n",
       "<style scoped>\n",
       "    .dataframe tbody tr th:only-of-type {\n",
       "        vertical-align: middle;\n",
       "    }\n",
       "\n",
       "    .dataframe tbody tr th {\n",
       "        vertical-align: top;\n",
       "    }\n",
       "\n",
       "    .dataframe thead th {\n",
       "        text-align: right;\n",
       "    }\n",
       "</style>\n",
       "<table border=\"1\" class=\"dataframe\">\n",
       "  <thead>\n",
       "    <tr style=\"text-align: right;\">\n",
       "      <th></th>\n",
       "      <th>a</th>\n",
       "      <th>B</th>\n",
       "      <th>C</th>\n",
       "      <th>D</th>\n",
       "    </tr>\n",
       "  </thead>\n",
       "  <tbody>\n",
       "    <tr>\n",
       "      <th>2013-01-01</th>\n",
       "      <td>-0.493652</td>\n",
       "      <td>0.459845</td>\n",
       "      <td>1.055571</td>\n",
       "      <td>-0.397538</td>\n",
       "    </tr>\n",
       "    <tr>\n",
       "      <th>2013-01-02</th>\n",
       "      <td>0.841064</td>\n",
       "      <td>-0.856491</td>\n",
       "      <td>-0.383317</td>\n",
       "      <td>0.136862</td>\n",
       "    </tr>\n",
       "    <tr>\n",
       "      <th>2013-01-03</th>\n",
       "      <td>1.072583</td>\n",
       "      <td>0.815930</td>\n",
       "      <td>0.097716</td>\n",
       "      <td>-0.107951</td>\n",
       "    </tr>\n",
       "    <tr>\n",
       "      <th>2013-01-04</th>\n",
       "      <td>-1.628413</td>\n",
       "      <td>1.466435</td>\n",
       "      <td>0.040886</td>\n",
       "      <td>0.601363</td>\n",
       "    </tr>\n",
       "    <tr>\n",
       "      <th>2013-01-05</th>\n",
       "      <td>1.364480</td>\n",
       "      <td>1.886390</td>\n",
       "      <td>-0.721105</td>\n",
       "      <td>1.118183</td>\n",
       "    </tr>\n",
       "    <tr>\n",
       "      <th>2013-01-06</th>\n",
       "      <td>-0.102095</td>\n",
       "      <td>0.120838</td>\n",
       "      <td>-0.035622</td>\n",
       "      <td>-1.386959</td>\n",
       "    </tr>\n",
       "  </tbody>\n",
       "</table>\n",
       "</div>"
      ],
      "text/plain": [
       "                   a         B         C         D\n",
       "2013-01-01 -0.493652  0.459845  1.055571 -0.397538\n",
       "2013-01-02  0.841064 -0.856491 -0.383317  0.136862\n",
       "2013-01-03  1.072583  0.815930  0.097716 -0.107951\n",
       "2013-01-04 -1.628413  1.466435  0.040886  0.601363\n",
       "2013-01-05  1.364480  1.886390 -0.721105  1.118183\n",
       "2013-01-06 -0.102095  0.120838 -0.035622 -1.386959"
      ]
     },
     "execution_count": 32,
     "metadata": {},
     "output_type": "execute_result"
    }
   ],
   "source": [
    "df.rename({'A':'a'},axis=1)"
   ]
  },
  {
   "cell_type": "code",
   "execution_count": 33,
   "metadata": {},
   "outputs": [
    {
     "data": {
      "text/html": [
       "<div>\n",
       "<style scoped>\n",
       "    .dataframe tbody tr th:only-of-type {\n",
       "        vertical-align: middle;\n",
       "    }\n",
       "\n",
       "    .dataframe tbody tr th {\n",
       "        vertical-align: top;\n",
       "    }\n",
       "\n",
       "    .dataframe thead th {\n",
       "        text-align: right;\n",
       "    }\n",
       "</style>\n",
       "<table border=\"1\" class=\"dataframe\">\n",
       "  <thead>\n",
       "    <tr style=\"text-align: right;\">\n",
       "      <th></th>\n",
       "      <th>A_S</th>\n",
       "      <th>B_S</th>\n",
       "      <th>C_S</th>\n",
       "      <th>D_S</th>\n",
       "    </tr>\n",
       "  </thead>\n",
       "  <tbody>\n",
       "    <tr>\n",
       "      <th>2013-01-01</th>\n",
       "      <td>-0.493652</td>\n",
       "      <td>0.459845</td>\n",
       "      <td>1.055571</td>\n",
       "      <td>-0.397538</td>\n",
       "    </tr>\n",
       "    <tr>\n",
       "      <th>2013-01-02</th>\n",
       "      <td>0.841064</td>\n",
       "      <td>-0.856491</td>\n",
       "      <td>-0.383317</td>\n",
       "      <td>0.136862</td>\n",
       "    </tr>\n",
       "    <tr>\n",
       "      <th>2013-01-03</th>\n",
       "      <td>1.072583</td>\n",
       "      <td>0.815930</td>\n",
       "      <td>0.097716</td>\n",
       "      <td>-0.107951</td>\n",
       "    </tr>\n",
       "    <tr>\n",
       "      <th>2013-01-04</th>\n",
       "      <td>-1.628413</td>\n",
       "      <td>1.466435</td>\n",
       "      <td>0.040886</td>\n",
       "      <td>0.601363</td>\n",
       "    </tr>\n",
       "    <tr>\n",
       "      <th>2013-01-05</th>\n",
       "      <td>1.364480</td>\n",
       "      <td>1.886390</td>\n",
       "      <td>-0.721105</td>\n",
       "      <td>1.118183</td>\n",
       "    </tr>\n",
       "    <tr>\n",
       "      <th>2013-01-06</th>\n",
       "      <td>-0.102095</td>\n",
       "      <td>0.120838</td>\n",
       "      <td>-0.035622</td>\n",
       "      <td>-1.386959</td>\n",
       "    </tr>\n",
       "  </tbody>\n",
       "</table>\n",
       "</div>"
      ],
      "text/plain": [
       "                 A_S       B_S       C_S       D_S\n",
       "2013-01-01 -0.493652  0.459845  1.055571 -0.397538\n",
       "2013-01-02  0.841064 -0.856491 -0.383317  0.136862\n",
       "2013-01-03  1.072583  0.815930  0.097716 -0.107951\n",
       "2013-01-04 -1.628413  1.466435  0.040886  0.601363\n",
       "2013-01-05  1.364480  1.886390 -0.721105  1.118183\n",
       "2013-01-06 -0.102095  0.120838 -0.035622 -1.386959"
      ]
     },
     "execution_count": 33,
     "metadata": {},
     "output_type": "execute_result"
    }
   ],
   "source": [
    "df.add_suffix('_S')"
   ]
  },
  {
   "cell_type": "code",
   "execution_count": 34,
   "metadata": {},
   "outputs": [
    {
     "data": {
      "text/html": [
       "<div>\n",
       "<style scoped>\n",
       "    .dataframe tbody tr th:only-of-type {\n",
       "        vertical-align: middle;\n",
       "    }\n",
       "\n",
       "    .dataframe tbody tr th {\n",
       "        vertical-align: top;\n",
       "    }\n",
       "\n",
       "    .dataframe thead th {\n",
       "        text-align: right;\n",
       "    }\n",
       "</style>\n",
       "<table border=\"1\" class=\"dataframe\">\n",
       "  <thead>\n",
       "    <tr style=\"text-align: right;\">\n",
       "      <th></th>\n",
       "      <th>A</th>\n",
       "      <th>B</th>\n",
       "      <th>C</th>\n",
       "      <th>D</th>\n",
       "    </tr>\n",
       "  </thead>\n",
       "  <tbody>\n",
       "    <tr>\n",
       "      <th>2013-01-06</th>\n",
       "      <td>-0.102095</td>\n",
       "      <td>0.120838</td>\n",
       "      <td>-0.035622</td>\n",
       "      <td>-1.386959</td>\n",
       "    </tr>\n",
       "    <tr>\n",
       "      <th>2013-01-05</th>\n",
       "      <td>1.364480</td>\n",
       "      <td>1.886390</td>\n",
       "      <td>-0.721105</td>\n",
       "      <td>1.118183</td>\n",
       "    </tr>\n",
       "    <tr>\n",
       "      <th>2013-01-04</th>\n",
       "      <td>-1.628413</td>\n",
       "      <td>1.466435</td>\n",
       "      <td>0.040886</td>\n",
       "      <td>0.601363</td>\n",
       "    </tr>\n",
       "    <tr>\n",
       "      <th>2013-01-03</th>\n",
       "      <td>1.072583</td>\n",
       "      <td>0.815930</td>\n",
       "      <td>0.097716</td>\n",
       "      <td>-0.107951</td>\n",
       "    </tr>\n",
       "    <tr>\n",
       "      <th>2013-01-02</th>\n",
       "      <td>0.841064</td>\n",
       "      <td>-0.856491</td>\n",
       "      <td>-0.383317</td>\n",
       "      <td>0.136862</td>\n",
       "    </tr>\n",
       "    <tr>\n",
       "      <th>2013-01-01</th>\n",
       "      <td>-0.493652</td>\n",
       "      <td>0.459845</td>\n",
       "      <td>1.055571</td>\n",
       "      <td>-0.397538</td>\n",
       "    </tr>\n",
       "  </tbody>\n",
       "</table>\n",
       "</div>"
      ],
      "text/plain": [
       "                   A         B         C         D\n",
       "2013-01-06 -0.102095  0.120838 -0.035622 -1.386959\n",
       "2013-01-05  1.364480  1.886390 -0.721105  1.118183\n",
       "2013-01-04 -1.628413  1.466435  0.040886  0.601363\n",
       "2013-01-03  1.072583  0.815930  0.097716 -0.107951\n",
       "2013-01-02  0.841064 -0.856491 -0.383317  0.136862\n",
       "2013-01-01 -0.493652  0.459845  1.055571 -0.397538"
      ]
     },
     "execution_count": 34,
     "metadata": {},
     "output_type": "execute_result"
    }
   ],
   "source": [
    "df.loc[::-1]   # row 순서 역순"
   ]
  },
  {
   "cell_type": "code",
   "execution_count": 35,
   "metadata": {},
   "outputs": [
    {
     "data": {
      "text/html": [
       "<div>\n",
       "<style scoped>\n",
       "    .dataframe tbody tr th:only-of-type {\n",
       "        vertical-align: middle;\n",
       "    }\n",
       "\n",
       "    .dataframe tbody tr th {\n",
       "        vertical-align: top;\n",
       "    }\n",
       "\n",
       "    .dataframe thead th {\n",
       "        text-align: right;\n",
       "    }\n",
       "</style>\n",
       "<table border=\"1\" class=\"dataframe\">\n",
       "  <thead>\n",
       "    <tr style=\"text-align: right;\">\n",
       "      <th></th>\n",
       "      <th>D</th>\n",
       "      <th>C</th>\n",
       "      <th>B</th>\n",
       "      <th>A</th>\n",
       "    </tr>\n",
       "  </thead>\n",
       "  <tbody>\n",
       "    <tr>\n",
       "      <th>2013-01-01</th>\n",
       "      <td>-0.397538</td>\n",
       "      <td>1.055571</td>\n",
       "      <td>0.459845</td>\n",
       "      <td>-0.493652</td>\n",
       "    </tr>\n",
       "    <tr>\n",
       "      <th>2013-01-02</th>\n",
       "      <td>0.136862</td>\n",
       "      <td>-0.383317</td>\n",
       "      <td>-0.856491</td>\n",
       "      <td>0.841064</td>\n",
       "    </tr>\n",
       "    <tr>\n",
       "      <th>2013-01-03</th>\n",
       "      <td>-0.107951</td>\n",
       "      <td>0.097716</td>\n",
       "      <td>0.815930</td>\n",
       "      <td>1.072583</td>\n",
       "    </tr>\n",
       "    <tr>\n",
       "      <th>2013-01-04</th>\n",
       "      <td>0.601363</td>\n",
       "      <td>0.040886</td>\n",
       "      <td>1.466435</td>\n",
       "      <td>-1.628413</td>\n",
       "    </tr>\n",
       "    <tr>\n",
       "      <th>2013-01-05</th>\n",
       "      <td>1.118183</td>\n",
       "      <td>-0.721105</td>\n",
       "      <td>1.886390</td>\n",
       "      <td>1.364480</td>\n",
       "    </tr>\n",
       "    <tr>\n",
       "      <th>2013-01-06</th>\n",
       "      <td>-1.386959</td>\n",
       "      <td>-0.035622</td>\n",
       "      <td>0.120838</td>\n",
       "      <td>-0.102095</td>\n",
       "    </tr>\n",
       "  </tbody>\n",
       "</table>\n",
       "</div>"
      ],
      "text/plain": [
       "                   D         C         B         A\n",
       "2013-01-01 -0.397538  1.055571  0.459845 -0.493652\n",
       "2013-01-02  0.136862 -0.383317 -0.856491  0.841064\n",
       "2013-01-03 -0.107951  0.097716  0.815930  1.072583\n",
       "2013-01-04  0.601363  0.040886  1.466435 -1.628413\n",
       "2013-01-05  1.118183 -0.721105  1.886390  1.364480\n",
       "2013-01-06 -1.386959 -0.035622  0.120838 -0.102095"
      ]
     },
     "execution_count": 35,
     "metadata": {},
     "output_type": "execute_result"
    }
   ],
   "source": [
    "df.loc[:,::-1]  # column 역순"
   ]
  },
  {
   "attachments": {},
   "cell_type": "markdown",
   "metadata": {},
   "source": [
    "Chained indexing"
   ]
  },
  {
   "cell_type": "code",
   "execution_count": 36,
   "metadata": {},
   "outputs": [
    {
     "data": {
      "text/html": [
       "<div>\n",
       "<style scoped>\n",
       "    .dataframe tbody tr th:only-of-type {\n",
       "        vertical-align: middle;\n",
       "    }\n",
       "\n",
       "    .dataframe tbody tr th {\n",
       "        vertical-align: top;\n",
       "    }\n",
       "\n",
       "    .dataframe thead th {\n",
       "        text-align: right;\n",
       "    }\n",
       "</style>\n",
       "<table border=\"1\" class=\"dataframe\">\n",
       "  <thead>\n",
       "    <tr style=\"text-align: right;\">\n",
       "      <th></th>\n",
       "      <th>A</th>\n",
       "      <th>B</th>\n",
       "      <th>C</th>\n",
       "      <th>D</th>\n",
       "      <th>E</th>\n",
       "      <th>F</th>\n",
       "    </tr>\n",
       "  </thead>\n",
       "  <tbody>\n",
       "    <tr>\n",
       "      <th>0</th>\n",
       "      <td>1.0</td>\n",
       "      <td>2013-01-02</td>\n",
       "      <td>1.0</td>\n",
       "      <td>3</td>\n",
       "      <td>test</td>\n",
       "      <td>foo</td>\n",
       "    </tr>\n",
       "    <tr>\n",
       "      <th>1</th>\n",
       "      <td>1.0</td>\n",
       "      <td>2013-01-02</td>\n",
       "      <td>1.0</td>\n",
       "      <td>3</td>\n",
       "      <td>train</td>\n",
       "      <td>foo</td>\n",
       "    </tr>\n",
       "    <tr>\n",
       "      <th>2</th>\n",
       "      <td>1.0</td>\n",
       "      <td>2013-01-02</td>\n",
       "      <td>1.0</td>\n",
       "      <td>3</td>\n",
       "      <td>test</td>\n",
       "      <td>foo</td>\n",
       "    </tr>\n",
       "    <tr>\n",
       "      <th>3</th>\n",
       "      <td>1.0</td>\n",
       "      <td>2013-01-02</td>\n",
       "      <td>1.0</td>\n",
       "      <td>3</td>\n",
       "      <td>train</td>\n",
       "      <td>foo</td>\n",
       "    </tr>\n",
       "  </tbody>\n",
       "</table>\n",
       "</div>"
      ],
      "text/plain": [
       "     A          B    C  D      E    F\n",
       "0  1.0 2013-01-02  1.0  3   test  foo\n",
       "1  1.0 2013-01-02  1.0  3  train  foo\n",
       "2  1.0 2013-01-02  1.0  3   test  foo\n",
       "3  1.0 2013-01-02  1.0  3  train  foo"
      ]
     },
     "execution_count": 36,
     "metadata": {},
     "output_type": "execute_result"
    }
   ],
   "source": [
    "df2"
   ]
  },
  {
   "cell_type": "code",
   "execution_count": 37,
   "metadata": {},
   "outputs": [
    {
     "data": {
      "text/plain": [
       "0    1.0\n",
       "1    1.0\n",
       "2    1.0\n",
       "Name: A, dtype: float64"
      ]
     },
     "execution_count": 37,
     "metadata": {},
     "output_type": "execute_result"
    }
   ],
   "source": [
    "df2.loc[0:2,'A']"
   ]
  },
  {
   "cell_type": "code",
   "execution_count": 38,
   "metadata": {},
   "outputs": [
    {
     "name": "stdout",
     "output_type": "stream",
     "text": [
      "     A          B\n",
      "0  1.0 2013-01-02\n",
      "1  1.0 2013-01-02\n",
      "     A          B\n",
      "0  1.0 2013-01-02\n",
      "1  1.0 2013-01-02\n"
     ]
    }
   ],
   "source": [
    "print(df2.loc[[0,1],['A','B']])    # 숫자가 lable 이다 df[[0,1]] 은 오류\n",
    "print(df2.iloc[[0,1],[0,1]])"
   ]
  },
  {
   "cell_type": "code",
   "execution_count": 39,
   "metadata": {},
   "outputs": [
    {
     "data": {
      "text/html": [
       "<div>\n",
       "<style scoped>\n",
       "    .dataframe tbody tr th:only-of-type {\n",
       "        vertical-align: middle;\n",
       "    }\n",
       "\n",
       "    .dataframe tbody tr th {\n",
       "        vertical-align: top;\n",
       "    }\n",
       "\n",
       "    .dataframe thead th {\n",
       "        text-align: right;\n",
       "    }\n",
       "</style>\n",
       "<table border=\"1\" class=\"dataframe\">\n",
       "  <thead>\n",
       "    <tr style=\"text-align: right;\">\n",
       "      <th></th>\n",
       "      <th>A</th>\n",
       "      <th>B</th>\n",
       "      <th>C</th>\n",
       "      <th>D</th>\n",
       "    </tr>\n",
       "  </thead>\n",
       "  <tbody>\n",
       "    <tr>\n",
       "      <th>2013-01-01</th>\n",
       "      <td>-0.493652</td>\n",
       "      <td>0.459845</td>\n",
       "      <td>1.055571</td>\n",
       "      <td>-0.397538</td>\n",
       "    </tr>\n",
       "    <tr>\n",
       "      <th>2013-01-02</th>\n",
       "      <td>0.841064</td>\n",
       "      <td>-0.856491</td>\n",
       "      <td>-0.383317</td>\n",
       "      <td>0.136862</td>\n",
       "    </tr>\n",
       "    <tr>\n",
       "      <th>2013-01-03</th>\n",
       "      <td>1.072583</td>\n",
       "      <td>0.815930</td>\n",
       "      <td>0.097716</td>\n",
       "      <td>-0.107951</td>\n",
       "    </tr>\n",
       "    <tr>\n",
       "      <th>2013-01-04</th>\n",
       "      <td>-1.628413</td>\n",
       "      <td>1.466435</td>\n",
       "      <td>0.040886</td>\n",
       "      <td>0.601363</td>\n",
       "    </tr>\n",
       "    <tr>\n",
       "      <th>2013-01-05</th>\n",
       "      <td>1.364480</td>\n",
       "      <td>1.886390</td>\n",
       "      <td>-0.721105</td>\n",
       "      <td>1.118183</td>\n",
       "    </tr>\n",
       "    <tr>\n",
       "      <th>2013-01-06</th>\n",
       "      <td>-0.102095</td>\n",
       "      <td>0.120838</td>\n",
       "      <td>-0.035622</td>\n",
       "      <td>-1.386959</td>\n",
       "    </tr>\n",
       "  </tbody>\n",
       "</table>\n",
       "</div>"
      ],
      "text/plain": [
       "                   A         B         C         D\n",
       "2013-01-01 -0.493652  0.459845  1.055571 -0.397538\n",
       "2013-01-02  0.841064 -0.856491 -0.383317  0.136862\n",
       "2013-01-03  1.072583  0.815930  0.097716 -0.107951\n",
       "2013-01-04 -1.628413  1.466435  0.040886  0.601363\n",
       "2013-01-05  1.364480  1.886390 -0.721105  1.118183\n",
       "2013-01-06 -0.102095  0.120838 -0.035622 -1.386959"
      ]
     },
     "execution_count": 39,
     "metadata": {},
     "output_type": "execute_result"
    }
   ],
   "source": [
    "df"
   ]
  },
  {
   "cell_type": "code",
   "execution_count": 40,
   "metadata": {},
   "outputs": [
    {
     "data": {
      "text/html": [
       "<div>\n",
       "<style scoped>\n",
       "    .dataframe tbody tr th:only-of-type {\n",
       "        vertical-align: middle;\n",
       "    }\n",
       "\n",
       "    .dataframe tbody tr th {\n",
       "        vertical-align: top;\n",
       "    }\n",
       "\n",
       "    .dataframe thead th {\n",
       "        text-align: right;\n",
       "    }\n",
       "</style>\n",
       "<table border=\"1\" class=\"dataframe\">\n",
       "  <thead>\n",
       "    <tr style=\"text-align: right;\">\n",
       "      <th></th>\n",
       "      <th>A</th>\n",
       "      <th>B</th>\n",
       "      <th>C</th>\n",
       "      <th>D</th>\n",
       "    </tr>\n",
       "  </thead>\n",
       "  <tbody>\n",
       "    <tr>\n",
       "      <th>2013-01-06</th>\n",
       "      <td>-0.102095</td>\n",
       "      <td>0.120838</td>\n",
       "      <td>-0.035622</td>\n",
       "      <td>-1.386959</td>\n",
       "    </tr>\n",
       "  </tbody>\n",
       "</table>\n",
       "</div>"
      ],
      "text/plain": [
       "                   A         B         C         D\n",
       "2013-01-06 -0.102095  0.120838 -0.035622 -1.386959"
      ]
     },
     "execution_count": 40,
     "metadata": {},
     "output_type": "execute_result"
    }
   ],
   "source": [
    "df[2:6][df[2:6].A < 0][1:2]\n",
    "\n",
    "# df 의 2부터 6 row 중 A column  값이 0 보다 작은 두번재 row "
   ]
  },
  {
   "cell_type": "code",
   "execution_count": 41,
   "metadata": {},
   "outputs": [
    {
     "name": "stdout",
     "output_type": "stream",
     "text": [
      "                   A         B         C         D\n",
      "2013-01-03  1.072583  0.815930  0.097716 -0.107951\n",
      "2013-01-04 -1.628413  1.466435  0.040886  0.601363\n",
      "2013-01-05  1.364480  1.886390 -0.721105  1.118183\n",
      "2013-01-06 -0.102095  0.120838 -0.035622 -1.386959\n",
      "2013-01-03    False\n",
      "2013-01-04     True\n",
      "2013-01-05    False\n",
      "2013-01-06     True\n",
      "Freq: D, Name: A, dtype: bool\n"
     ]
    }
   ],
   "source": [
    "print(df[2:6])\n",
    "print(df[2:6].A<0)\n",
    "\n",
    "# 2개의 index가 같아야 한다. \n",
    "# IndexingError: Unalignable boolean Series provided as indexer (index of the boolean Series and of the indexed object do not match)."
   ]
  },
  {
   "attachments": {},
   "cell_type": "markdown",
   "metadata": {},
   "source": [
    "Boolean indexing\n",
    "\n",
    "```(df[])[(df[]) 조건][column]```  \n",
    "```(df[]).loc[ (df[]) 조건 , column ]```\n",
    "\n",
    "iloc 는 boolean index 을 사용할 수 없다.  \n",
    "iLocation based boolean indexing on an integer type is not available"
   ]
  },
  {
   "cell_type": "code",
   "execution_count": 42,
   "metadata": {},
   "outputs": [
    {
     "data": {
      "text/plain": [
       "2013-01-02   -0.856491\n",
       "2013-01-03    0.815930\n",
       "2013-01-05    1.886390\n",
       "Name: B, dtype: float64"
      ]
     },
     "execution_count": 42,
     "metadata": {},
     "output_type": "execute_result"
    }
   ],
   "source": [
    "df[df['A']>0]['B']"
   ]
  },
  {
   "cell_type": "code",
   "execution_count": 43,
   "metadata": {},
   "outputs": [
    {
     "data": {
      "text/plain": [
       "2013-01-02   -0.856491\n",
       "2013-01-03    0.815930\n",
       "2013-01-05    1.886390\n",
       "Name: B, dtype: float64"
      ]
     },
     "execution_count": 43,
     "metadata": {},
     "output_type": "execute_result"
    }
   ],
   "source": [
    "df.loc[df['A']>0,'B']\n"
   ]
  },
  {
   "cell_type": "code",
   "execution_count": 44,
   "metadata": {},
   "outputs": [
    {
     "name": "stdout",
     "output_type": "stream",
     "text": [
      "2013-01-02    True\n",
      "2013-01-03    True\n",
      "Freq: D, Name: A, dtype: bool\n"
     ]
    },
    {
     "data": {
      "text/plain": [
       "2013-01-02    True\n",
       "2013-01-03    True\n",
       "Freq: D, Name: A, dtype: bool"
      ]
     },
     "execution_count": 44,
     "metadata": {},
     "output_type": "execute_result"
    }
   ],
   "source": [
    "print(df[1:3].A > 0)  # 이거 대신\n",
    "df.iloc[1:3].A > 0   # 이걸 사용하자"
   ]
  },
  {
   "cell_type": "code",
   "execution_count": 45,
   "metadata": {},
   "outputs": [
    {
     "data": {
      "text/html": [
       "<div>\n",
       "<style scoped>\n",
       "    .dataframe tbody tr th:only-of-type {\n",
       "        vertical-align: middle;\n",
       "    }\n",
       "\n",
       "    .dataframe tbody tr th {\n",
       "        vertical-align: top;\n",
       "    }\n",
       "\n",
       "    .dataframe thead th {\n",
       "        text-align: right;\n",
       "    }\n",
       "</style>\n",
       "<table border=\"1\" class=\"dataframe\">\n",
       "  <thead>\n",
       "    <tr style=\"text-align: right;\">\n",
       "      <th></th>\n",
       "      <th>A</th>\n",
       "      <th>B</th>\n",
       "      <th>C</th>\n",
       "      <th>D</th>\n",
       "    </tr>\n",
       "  </thead>\n",
       "  <tbody>\n",
       "    <tr>\n",
       "      <th>2013-01-02</th>\n",
       "      <td>0.841064</td>\n",
       "      <td>-0.856491</td>\n",
       "      <td>-0.383317</td>\n",
       "      <td>0.136862</td>\n",
       "    </tr>\n",
       "    <tr>\n",
       "      <th>2013-01-03</th>\n",
       "      <td>1.072583</td>\n",
       "      <td>0.815930</td>\n",
       "      <td>0.097716</td>\n",
       "      <td>-0.107951</td>\n",
       "    </tr>\n",
       "  </tbody>\n",
       "</table>\n",
       "</div>"
      ],
      "text/plain": [
       "                   A         B         C         D\n",
       "2013-01-02  0.841064 -0.856491 -0.383317  0.136862\n",
       "2013-01-03  1.072583  0.815930  0.097716 -0.107951"
      ]
     },
     "execution_count": 45,
     "metadata": {},
     "output_type": "execute_result"
    }
   ],
   "source": [
    "df.iloc[1:3][df.iloc[1:3].A >0]"
   ]
  },
  {
   "cell_type": "code",
   "execution_count": 46,
   "metadata": {},
   "outputs": [
    {
     "data": {
      "text/html": [
       "<div>\n",
       "<style scoped>\n",
       "    .dataframe tbody tr th:only-of-type {\n",
       "        vertical-align: middle;\n",
       "    }\n",
       "\n",
       "    .dataframe tbody tr th {\n",
       "        vertical-align: top;\n",
       "    }\n",
       "\n",
       "    .dataframe thead th {\n",
       "        text-align: right;\n",
       "    }\n",
       "</style>\n",
       "<table border=\"1\" class=\"dataframe\">\n",
       "  <thead>\n",
       "    <tr style=\"text-align: right;\">\n",
       "      <th></th>\n",
       "      <th>A</th>\n",
       "      <th>B</th>\n",
       "      <th>C</th>\n",
       "      <th>D</th>\n",
       "    </tr>\n",
       "  </thead>\n",
       "  <tbody>\n",
       "    <tr>\n",
       "      <th>2013-01-02</th>\n",
       "      <td>0.841064</td>\n",
       "      <td>-0.856491</td>\n",
       "      <td>-0.383317</td>\n",
       "      <td>0.136862</td>\n",
       "    </tr>\n",
       "    <tr>\n",
       "      <th>2013-01-03</th>\n",
       "      <td>1.072583</td>\n",
       "      <td>0.815930</td>\n",
       "      <td>0.097716</td>\n",
       "      <td>-0.107951</td>\n",
       "    </tr>\n",
       "  </tbody>\n",
       "</table>\n",
       "</div>"
      ],
      "text/plain": [
       "                   A         B         C         D\n",
       "2013-01-02  0.841064 -0.856491 -0.383317  0.136862\n",
       "2013-01-03  1.072583  0.815930  0.097716 -0.107951"
      ]
     },
     "execution_count": 46,
     "metadata": {},
     "output_type": "execute_result"
    }
   ],
   "source": [
    "df[1:3][df[1:3].A > 0]   # chained indexing ???"
   ]
  },
  {
   "cell_type": "code",
   "execution_count": 47,
   "metadata": {},
   "outputs": [
    {
     "data": {
      "text/plain": [
       "2013-01-02    True\n",
       "2013-01-03    True\n",
       "Freq: D, Name: A, dtype: bool"
      ]
     },
     "execution_count": 47,
     "metadata": {},
     "output_type": "execute_result"
    }
   ],
   "source": [
    "# df[df[1:3].A > 0]  은 오류가 난다.  df 의 index 와 df[1:3] 의 index 가 서로 맞지않다.\n",
    "# 조건에 대한 true 값의 index label '2013-01-02' 을 리턴한다.\n",
    "# 따라서 df['2013-01-02'] 가 오류\n",
    "\n",
    "df[1:3].A > 0"
   ]
  },
  {
   "cell_type": "code",
   "execution_count": 48,
   "metadata": {},
   "outputs": [
    {
     "data": {
      "text/html": [
       "<div>\n",
       "<style scoped>\n",
       "    .dataframe tbody tr th:only-of-type {\n",
       "        vertical-align: middle;\n",
       "    }\n",
       "\n",
       "    .dataframe tbody tr th {\n",
       "        vertical-align: top;\n",
       "    }\n",
       "\n",
       "    .dataframe thead th {\n",
       "        text-align: right;\n",
       "    }\n",
       "</style>\n",
       "<table border=\"1\" class=\"dataframe\">\n",
       "  <thead>\n",
       "    <tr style=\"text-align: right;\">\n",
       "      <th></th>\n",
       "      <th>A</th>\n",
       "      <th>B</th>\n",
       "      <th>C</th>\n",
       "      <th>D</th>\n",
       "    </tr>\n",
       "  </thead>\n",
       "  <tbody>\n",
       "    <tr>\n",
       "      <th>2013-01-02</th>\n",
       "      <td>0.841064</td>\n",
       "      <td>-0.856491</td>\n",
       "      <td>-0.383317</td>\n",
       "      <td>0.136862</td>\n",
       "    </tr>\n",
       "    <tr>\n",
       "      <th>2013-01-03</th>\n",
       "      <td>1.072583</td>\n",
       "      <td>0.815930</td>\n",
       "      <td>0.097716</td>\n",
       "      <td>-0.107951</td>\n",
       "    </tr>\n",
       "  </tbody>\n",
       "</table>\n",
       "</div>"
      ],
      "text/plain": [
       "                   A         B         C         D\n",
       "2013-01-02  0.841064 -0.856491 -0.383317  0.136862\n",
       "2013-01-03  1.072583  0.815930  0.097716 -0.107951"
      ]
     },
     "execution_count": 48,
     "metadata": {},
     "output_type": "execute_result"
    }
   ],
   "source": [
    "# Unalignable boolean Series provided as indexer (index of the boolean Series and of the indexed object do not match).\n",
    "\n",
    "# df.loc[df[1:3].A > 0] \n",
    "df[1:3].loc[df[1:3].A >0]"
   ]
  },
  {
   "cell_type": "code",
   "execution_count": 49,
   "metadata": {},
   "outputs": [
    {
     "name": "stderr",
     "output_type": "stream",
     "text": [
      "/var/folders/yn/xbyfmttd1tdc740qcs27ft9m0000gn/T/ipykernel_2582/1907405889.py:1: UserWarning: Boolean Series key will be reindexed to match DataFrame index.\n",
      "  df[1:3][df[0:4].A  > 0]['B']\n"
     ]
    },
    {
     "data": {
      "text/plain": [
       "2013-01-02   -0.856491\n",
       "2013-01-03    0.815930\n",
       "Freq: D, Name: B, dtype: float64"
      ]
     },
     "execution_count": 49,
     "metadata": {},
     "output_type": "execute_result"
    }
   ],
   "source": [
    "df[1:3][df[0:4].A  > 0]['B']"
   ]
  },
  {
   "cell_type": "code",
   "execution_count": 50,
   "metadata": {},
   "outputs": [
    {
     "data": {
      "text/plain": [
       "2013-01-02   -0.856491\n",
       "2013-01-03    0.815930\n",
       "Freq: D, Name: B, dtype: float64"
      ]
     },
     "execution_count": 50,
     "metadata": {},
     "output_type": "execute_result"
    }
   ],
   "source": [
    "#  UserWarning: Boolean Series key will be reindexed to match DataFrame index. 해결방법 \n",
    "\n",
    "X = df[1:3]\n",
    "X[X[0:4].A > 0]['B']"
   ]
  },
  {
   "cell_type": "code",
   "execution_count": 51,
   "metadata": {},
   "outputs": [
    {
     "data": {
      "text/plain": [
       "2013-01-02   -0.856491\n",
       "2013-01-03    0.815930\n",
       "Freq: D, Name: B, dtype: float64"
      ]
     },
     "execution_count": 51,
     "metadata": {},
     "output_type": "execute_result"
    }
   ],
   "source": [
    "df[1:3][df[1:3].A > 0]['B']\n",
    "# df1 = df[1:3]\n",
    "# df1.A > 0\n",
    "# df1['B']"
   ]
  },
  {
   "attachments": {},
   "cell_type": "markdown",
   "metadata": {},
   "source": [
    "funtion indexing\n",
    "\n",
    "```\n",
    "pipe()  : Tablewise Function Application\n",
    "apply() : Row or Column-wise Function Application (df 적용, 행/열 전달. groupby 적용 그룹 전달)\n",
    "agg() and transform() : Aggregation API\n",
    "map() : Series 에서 값에 적용한다. (Series 적용, 값 전달)\n",
    "applymap() : Applying Elementwise Functions  (df 적용, 값을 전달)\n",
    "\n",
    "pd.cut()    : 조건에 따른 구간별 label  (pd.qcut() : 균등분할)\n",
    "np.where()  : 조건에 따른 값표시 (아닌값은 NaN)\n",
    "```"
   ]
  },
  {
   "cell_type": "code",
   "execution_count": 52,
   "metadata": {},
   "outputs": [
    {
     "data": {
      "text/html": [
       "<div>\n",
       "<style scoped>\n",
       "    .dataframe tbody tr th:only-of-type {\n",
       "        vertical-align: middle;\n",
       "    }\n",
       "\n",
       "    .dataframe tbody tr th {\n",
       "        vertical-align: top;\n",
       "    }\n",
       "\n",
       "    .dataframe thead th {\n",
       "        text-align: right;\n",
       "    }\n",
       "</style>\n",
       "<table border=\"1\" class=\"dataframe\">\n",
       "  <thead>\n",
       "    <tr style=\"text-align: right;\">\n",
       "      <th></th>\n",
       "      <th>A</th>\n",
       "      <th>B</th>\n",
       "      <th>C</th>\n",
       "      <th>D</th>\n",
       "    </tr>\n",
       "  </thead>\n",
       "  <tbody>\n",
       "    <tr>\n",
       "      <th>2013-01-01</th>\n",
       "      <td>-0.493652</td>\n",
       "      <td>0.459845</td>\n",
       "      <td>1.055571</td>\n",
       "      <td>-0.397538</td>\n",
       "    </tr>\n",
       "    <tr>\n",
       "      <th>2013-01-02</th>\n",
       "      <td>0.841064</td>\n",
       "      <td>-0.856491</td>\n",
       "      <td>-0.383317</td>\n",
       "      <td>0.136862</td>\n",
       "    </tr>\n",
       "    <tr>\n",
       "      <th>2013-01-03</th>\n",
       "      <td>1.072583</td>\n",
       "      <td>0.815930</td>\n",
       "      <td>0.097716</td>\n",
       "      <td>-0.107951</td>\n",
       "    </tr>\n",
       "    <tr>\n",
       "      <th>2013-01-04</th>\n",
       "      <td>-1.628413</td>\n",
       "      <td>1.466435</td>\n",
       "      <td>0.040886</td>\n",
       "      <td>0.601363</td>\n",
       "    </tr>\n",
       "    <tr>\n",
       "      <th>2013-01-05</th>\n",
       "      <td>1.364480</td>\n",
       "      <td>1.886390</td>\n",
       "      <td>-0.721105</td>\n",
       "      <td>1.118183</td>\n",
       "    </tr>\n",
       "    <tr>\n",
       "      <th>2013-01-06</th>\n",
       "      <td>-0.102095</td>\n",
       "      <td>0.120838</td>\n",
       "      <td>-0.035622</td>\n",
       "      <td>-1.386959</td>\n",
       "    </tr>\n",
       "  </tbody>\n",
       "</table>\n",
       "</div>"
      ],
      "text/plain": [
       "                   A         B         C         D\n",
       "2013-01-01 -0.493652  0.459845  1.055571 -0.397538\n",
       "2013-01-02  0.841064 -0.856491 -0.383317  0.136862\n",
       "2013-01-03  1.072583  0.815930  0.097716 -0.107951\n",
       "2013-01-04 -1.628413  1.466435  0.040886  0.601363\n",
       "2013-01-05  1.364480  1.886390 -0.721105  1.118183\n",
       "2013-01-06 -0.102095  0.120838 -0.035622 -1.386959"
      ]
     },
     "execution_count": 52,
     "metadata": {},
     "output_type": "execute_result"
    }
   ],
   "source": [
    "df"
   ]
  },
  {
   "cell_type": "code",
   "execution_count": 53,
   "metadata": {},
   "outputs": [
    {
     "data": {
      "text/html": [
       "<div>\n",
       "<style scoped>\n",
       "    .dataframe tbody tr th:only-of-type {\n",
       "        vertical-align: middle;\n",
       "    }\n",
       "\n",
       "    .dataframe tbody tr th {\n",
       "        vertical-align: top;\n",
       "    }\n",
       "\n",
       "    .dataframe thead th {\n",
       "        text-align: right;\n",
       "    }\n",
       "</style>\n",
       "<table border=\"1\" class=\"dataframe\">\n",
       "  <thead>\n",
       "    <tr style=\"text-align: right;\">\n",
       "      <th></th>\n",
       "      <th>A</th>\n",
       "      <th>B</th>\n",
       "      <th>C</th>\n",
       "      <th>D</th>\n",
       "      <th>sum_row</th>\n",
       "    </tr>\n",
       "  </thead>\n",
       "  <tbody>\n",
       "    <tr>\n",
       "      <th>2013-01-01</th>\n",
       "      <td>-0.493652</td>\n",
       "      <td>0.459845</td>\n",
       "      <td>1.055571</td>\n",
       "      <td>-0.397538</td>\n",
       "      <td>0.624226</td>\n",
       "    </tr>\n",
       "    <tr>\n",
       "      <th>2013-01-02</th>\n",
       "      <td>0.841064</td>\n",
       "      <td>-0.856491</td>\n",
       "      <td>-0.383317</td>\n",
       "      <td>0.136862</td>\n",
       "      <td>-0.261882</td>\n",
       "    </tr>\n",
       "    <tr>\n",
       "      <th>2013-01-03</th>\n",
       "      <td>1.072583</td>\n",
       "      <td>0.815930</td>\n",
       "      <td>0.097716</td>\n",
       "      <td>-0.107951</td>\n",
       "      <td>1.878277</td>\n",
       "    </tr>\n",
       "    <tr>\n",
       "      <th>2013-01-04</th>\n",
       "      <td>-1.628413</td>\n",
       "      <td>1.466435</td>\n",
       "      <td>0.040886</td>\n",
       "      <td>0.601363</td>\n",
       "      <td>0.480270</td>\n",
       "    </tr>\n",
       "    <tr>\n",
       "      <th>2013-01-05</th>\n",
       "      <td>1.364480</td>\n",
       "      <td>1.886390</td>\n",
       "      <td>-0.721105</td>\n",
       "      <td>1.118183</td>\n",
       "      <td>3.647948</td>\n",
       "    </tr>\n",
       "    <tr>\n",
       "      <th>2013-01-06</th>\n",
       "      <td>-0.102095</td>\n",
       "      <td>0.120838</td>\n",
       "      <td>-0.035622</td>\n",
       "      <td>-1.386959</td>\n",
       "      <td>-1.403838</td>\n",
       "    </tr>\n",
       "  </tbody>\n",
       "</table>\n",
       "</div>"
      ],
      "text/plain": [
       "                   A         B         C         D   sum_row\n",
       "2013-01-01 -0.493652  0.459845  1.055571 -0.397538  0.624226\n",
       "2013-01-02  0.841064 -0.856491 -0.383317  0.136862 -0.261882\n",
       "2013-01-03  1.072583  0.815930  0.097716 -0.107951  1.878277\n",
       "2013-01-04 -1.628413  1.466435  0.040886  0.601363  0.480270\n",
       "2013-01-05  1.364480  1.886390 -0.721105  1.118183  3.647948\n",
       "2013-01-06 -0.102095  0.120838 -0.035622 -1.386959 -1.403838"
      ]
     },
     "execution_count": 53,
     "metadata": {},
     "output_type": "execute_result"
    }
   ],
   "source": [
    "df3 = df.copy()\n",
    "df3['sum_row'] = df3.apply(np.sum,axis=1)    # df3.sum(axis=1) 과 같다.\n",
    "df3"
   ]
  },
  {
   "cell_type": "code",
   "execution_count": 54,
   "metadata": {},
   "outputs": [
    {
     "data": {
      "text/html": [
       "<div>\n",
       "<style scoped>\n",
       "    .dataframe tbody tr th:only-of-type {\n",
       "        vertical-align: middle;\n",
       "    }\n",
       "\n",
       "    .dataframe tbody tr th {\n",
       "        vertical-align: top;\n",
       "    }\n",
       "\n",
       "    .dataframe thead th {\n",
       "        text-align: right;\n",
       "    }\n",
       "</style>\n",
       "<table border=\"1\" class=\"dataframe\">\n",
       "  <thead>\n",
       "    <tr style=\"text-align: right;\">\n",
       "      <th></th>\n",
       "      <th>A</th>\n",
       "      <th>B</th>\n",
       "      <th>C</th>\n",
       "      <th>D</th>\n",
       "      <th>sum_row</th>\n",
       "      <th>result</th>\n",
       "    </tr>\n",
       "  </thead>\n",
       "  <tbody>\n",
       "    <tr>\n",
       "      <th>2013-01-01</th>\n",
       "      <td>-0.493652</td>\n",
       "      <td>0.459845</td>\n",
       "      <td>1.055571</td>\n",
       "      <td>-0.397538</td>\n",
       "      <td>0.624226</td>\n",
       "      <td>Over</td>\n",
       "    </tr>\n",
       "    <tr>\n",
       "      <th>2013-01-02</th>\n",
       "      <td>0.841064</td>\n",
       "      <td>-0.856491</td>\n",
       "      <td>-0.383317</td>\n",
       "      <td>0.136862</td>\n",
       "      <td>-0.261882</td>\n",
       "      <td>Under</td>\n",
       "    </tr>\n",
       "    <tr>\n",
       "      <th>2013-01-03</th>\n",
       "      <td>1.072583</td>\n",
       "      <td>0.815930</td>\n",
       "      <td>0.097716</td>\n",
       "      <td>-0.107951</td>\n",
       "      <td>1.878277</td>\n",
       "      <td>Over</td>\n",
       "    </tr>\n",
       "    <tr>\n",
       "      <th>2013-01-04</th>\n",
       "      <td>-1.628413</td>\n",
       "      <td>1.466435</td>\n",
       "      <td>0.040886</td>\n",
       "      <td>0.601363</td>\n",
       "      <td>0.480270</td>\n",
       "      <td>Over</td>\n",
       "    </tr>\n",
       "    <tr>\n",
       "      <th>2013-01-05</th>\n",
       "      <td>1.364480</td>\n",
       "      <td>1.886390</td>\n",
       "      <td>-0.721105</td>\n",
       "      <td>1.118183</td>\n",
       "      <td>3.647948</td>\n",
       "      <td>Over</td>\n",
       "    </tr>\n",
       "    <tr>\n",
       "      <th>2013-01-06</th>\n",
       "      <td>-0.102095</td>\n",
       "      <td>0.120838</td>\n",
       "      <td>-0.035622</td>\n",
       "      <td>-1.386959</td>\n",
       "      <td>-1.403838</td>\n",
       "      <td>Under</td>\n",
       "    </tr>\n",
       "  </tbody>\n",
       "</table>\n",
       "</div>"
      ],
      "text/plain": [
       "                   A         B         C         D   sum_row result\n",
       "2013-01-01 -0.493652  0.459845  1.055571 -0.397538  0.624226   Over\n",
       "2013-01-02  0.841064 -0.856491 -0.383317  0.136862 -0.261882  Under\n",
       "2013-01-03  1.072583  0.815930  0.097716 -0.107951  1.878277   Over\n",
       "2013-01-04 -1.628413  1.466435  0.040886  0.601363  0.480270   Over\n",
       "2013-01-05  1.364480  1.886390 -0.721105  1.118183  3.647948   Over\n",
       "2013-01-06 -0.102095  0.120838 -0.035622 -1.386959 -1.403838  Under"
      ]
     },
     "execution_count": 54,
     "metadata": {},
     "output_type": "execute_result"
    }
   ],
   "source": [
    "# 전체 row 을 순회 (axis =1) 해서 row 갯수 크기의 series 전달\n",
    "\n",
    "df3[\"result\"] = df3.apply(lambda r: \"Over\" if r.sum_row > 0 else \"Under\", axis=1)\n",
    "df3"
   ]
  },
  {
   "cell_type": "code",
   "execution_count": 55,
   "metadata": {},
   "outputs": [
    {
     "data": {
      "text/plain": [
       "2013-01-01     over\n",
       "2013-01-02    under\n",
       "2013-01-03     over\n",
       "2013-01-04     over\n",
       "2013-01-05     over\n",
       "2013-01-06    under\n",
       "Freq: D, Name: sum_row, dtype: category\n",
       "Categories (2, object): ['under' < 'over']"
      ]
     },
     "execution_count": 55,
     "metadata": {},
     "output_type": "execute_result"
    }
   ],
   "source": [
    "# bins=[-100,0,100]\n",
    "# labels =['under','over']      # bins 보다 하나 적은 갯수 (사이값) 이어야 한다.\n",
    "pd.cut(df3.sum_row, bins=[-100,0,100], labels=['under','over'] )"
   ]
  },
  {
   "cell_type": "code",
   "execution_count": 56,
   "metadata": {},
   "outputs": [
    {
     "data": {
      "text/html": [
       "<div>\n",
       "<style scoped>\n",
       "    .dataframe tbody tr th:only-of-type {\n",
       "        vertical-align: middle;\n",
       "    }\n",
       "\n",
       "    .dataframe tbody tr th {\n",
       "        vertical-align: top;\n",
       "    }\n",
       "\n",
       "    .dataframe thead th {\n",
       "        text-align: right;\n",
       "    }\n",
       "</style>\n",
       "<table border=\"1\" class=\"dataframe\">\n",
       "  <thead>\n",
       "    <tr style=\"text-align: right;\">\n",
       "      <th></th>\n",
       "      <th>A</th>\n",
       "      <th>B</th>\n",
       "      <th>C</th>\n",
       "      <th>D</th>\n",
       "      <th>sum_row</th>\n",
       "    </tr>\n",
       "  </thead>\n",
       "  <tbody>\n",
       "    <tr>\n",
       "      <th>2013-01-01</th>\n",
       "      <td>-0.493652</td>\n",
       "      <td>0.459845</td>\n",
       "      <td>1.055571</td>\n",
       "      <td>-0.397538</td>\n",
       "      <td>0.624226</td>\n",
       "    </tr>\n",
       "    <tr>\n",
       "      <th>2013-01-02</th>\n",
       "      <td>0.841064</td>\n",
       "      <td>-0.856491</td>\n",
       "      <td>-0.383317</td>\n",
       "      <td>0.136862</td>\n",
       "      <td>-0.261882</td>\n",
       "    </tr>\n",
       "    <tr>\n",
       "      <th>2013-01-03</th>\n",
       "      <td>1.072583</td>\n",
       "      <td>0.815930</td>\n",
       "      <td>0.097716</td>\n",
       "      <td>-0.107951</td>\n",
       "      <td>1.878277</td>\n",
       "    </tr>\n",
       "    <tr>\n",
       "      <th>2013-01-04</th>\n",
       "      <td>-1.628413</td>\n",
       "      <td>1.466435</td>\n",
       "      <td>0.040886</td>\n",
       "      <td>0.601363</td>\n",
       "      <td>0.480270</td>\n",
       "    </tr>\n",
       "    <tr>\n",
       "      <th>2013-01-05</th>\n",
       "      <td>1.364480</td>\n",
       "      <td>1.886390</td>\n",
       "      <td>-0.721105</td>\n",
       "      <td>1.118183</td>\n",
       "      <td>3.647948</td>\n",
       "    </tr>\n",
       "    <tr>\n",
       "      <th>2013-01-06</th>\n",
       "      <td>-0.102095</td>\n",
       "      <td>0.120838</td>\n",
       "      <td>-0.035622</td>\n",
       "      <td>-1.386959</td>\n",
       "      <td>-1.403838</td>\n",
       "    </tr>\n",
       "  </tbody>\n",
       "</table>\n",
       "</div>"
      ],
      "text/plain": [
       "                   A         B         C         D   sum_row\n",
       "2013-01-01 -0.493652  0.459845  1.055571 -0.397538  0.624226\n",
       "2013-01-02  0.841064 -0.856491 -0.383317  0.136862 -0.261882\n",
       "2013-01-03  1.072583  0.815930  0.097716 -0.107951  1.878277\n",
       "2013-01-04 -1.628413  1.466435  0.040886  0.601363  0.480270\n",
       "2013-01-05  1.364480  1.886390 -0.721105  1.118183  3.647948\n",
       "2013-01-06 -0.102095  0.120838 -0.035622 -1.386959 -1.403838"
      ]
     },
     "execution_count": 56,
     "metadata": {},
     "output_type": "execute_result"
    }
   ],
   "source": [
    "df3 = df3.drop(columns='result')\n",
    "df3"
   ]
  },
  {
   "cell_type": "code",
   "execution_count": 57,
   "metadata": {},
   "outputs": [
    {
     "data": {
      "text/html": [
       "<div>\n",
       "<style scoped>\n",
       "    .dataframe tbody tr th:only-of-type {\n",
       "        vertical-align: middle;\n",
       "    }\n",
       "\n",
       "    .dataframe tbody tr th {\n",
       "        vertical-align: top;\n",
       "    }\n",
       "\n",
       "    .dataframe thead th {\n",
       "        text-align: right;\n",
       "    }\n",
       "</style>\n",
       "<table border=\"1\" class=\"dataframe\">\n",
       "  <thead>\n",
       "    <tr style=\"text-align: right;\">\n",
       "      <th></th>\n",
       "      <th>A</th>\n",
       "      <th>B</th>\n",
       "      <th>C</th>\n",
       "      <th>D</th>\n",
       "      <th>sum_row</th>\n",
       "    </tr>\n",
       "  </thead>\n",
       "  <tbody>\n",
       "    <tr>\n",
       "      <th>2013-01-01</th>\n",
       "      <td>-0.493652</td>\n",
       "      <td>0.459845</td>\n",
       "      <td>1.055571</td>\n",
       "      <td>-0.397538</td>\n",
       "      <td>0.624226</td>\n",
       "    </tr>\n",
       "    <tr>\n",
       "      <th>2013-01-02</th>\n",
       "      <td>NaN</td>\n",
       "      <td>NaN</td>\n",
       "      <td>NaN</td>\n",
       "      <td>NaN</td>\n",
       "      <td>NaN</td>\n",
       "    </tr>\n",
       "    <tr>\n",
       "      <th>2013-01-03</th>\n",
       "      <td>1.072583</td>\n",
       "      <td>0.815930</td>\n",
       "      <td>0.097716</td>\n",
       "      <td>-0.107951</td>\n",
       "      <td>1.878277</td>\n",
       "    </tr>\n",
       "    <tr>\n",
       "      <th>2013-01-04</th>\n",
       "      <td>-1.628413</td>\n",
       "      <td>1.466435</td>\n",
       "      <td>0.040886</td>\n",
       "      <td>0.601363</td>\n",
       "      <td>0.480270</td>\n",
       "    </tr>\n",
       "    <tr>\n",
       "      <th>2013-01-05</th>\n",
       "      <td>1.364480</td>\n",
       "      <td>1.886390</td>\n",
       "      <td>-0.721105</td>\n",
       "      <td>1.118183</td>\n",
       "      <td>3.647948</td>\n",
       "    </tr>\n",
       "    <tr>\n",
       "      <th>2013-01-06</th>\n",
       "      <td>NaN</td>\n",
       "      <td>NaN</td>\n",
       "      <td>NaN</td>\n",
       "      <td>NaN</td>\n",
       "      <td>NaN</td>\n",
       "    </tr>\n",
       "  </tbody>\n",
       "</table>\n",
       "</div>"
      ],
      "text/plain": [
       "                   A         B         C         D   sum_row\n",
       "2013-01-01 -0.493652  0.459845  1.055571 -0.397538  0.624226\n",
       "2013-01-02       NaN       NaN       NaN       NaN       NaN\n",
       "2013-01-03  1.072583  0.815930  0.097716 -0.107951  1.878277\n",
       "2013-01-04 -1.628413  1.466435  0.040886  0.601363  0.480270\n",
       "2013-01-05  1.364480  1.886390 -0.721105  1.118183  3.647948\n",
       "2013-01-06       NaN       NaN       NaN       NaN       NaN"
      ]
     },
     "execution_count": 57,
     "metadata": {},
     "output_type": "execute_result"
    }
   ],
   "source": [
    "df3.where((df3.sum_row>0) & (df3.B>0))    # boolean 으로 리턴하지 않고, 값을 리턴 하다. dropna() 을 붙일수 있다."
   ]
  },
  {
   "cell_type": "code",
   "execution_count": 58,
   "metadata": {},
   "outputs": [
    {
     "data": {
      "text/html": [
       "<div>\n",
       "<style scoped>\n",
       "    .dataframe tbody tr th:only-of-type {\n",
       "        vertical-align: middle;\n",
       "    }\n",
       "\n",
       "    .dataframe tbody tr th {\n",
       "        vertical-align: top;\n",
       "    }\n",
       "\n",
       "    .dataframe thead th {\n",
       "        text-align: right;\n",
       "    }\n",
       "</style>\n",
       "<table border=\"1\" class=\"dataframe\">\n",
       "  <thead>\n",
       "    <tr style=\"text-align: right;\">\n",
       "      <th></th>\n",
       "      <th>A</th>\n",
       "      <th>B</th>\n",
       "      <th>C</th>\n",
       "      <th>D</th>\n",
       "      <th>sum_row</th>\n",
       "    </tr>\n",
       "  </thead>\n",
       "  <tbody>\n",
       "    <tr>\n",
       "      <th>2013-01-01</th>\n",
       "      <td>-0.493652</td>\n",
       "      <td>0.459845</td>\n",
       "      <td>1.055571</td>\n",
       "      <td>-0.397538</td>\n",
       "      <td>0.624226</td>\n",
       "    </tr>\n",
       "    <tr>\n",
       "      <th>2013-01-03</th>\n",
       "      <td>1.072583</td>\n",
       "      <td>0.815930</td>\n",
       "      <td>0.097716</td>\n",
       "      <td>-0.107951</td>\n",
       "      <td>1.878277</td>\n",
       "    </tr>\n",
       "    <tr>\n",
       "      <th>2013-01-04</th>\n",
       "      <td>-1.628413</td>\n",
       "      <td>1.466435</td>\n",
       "      <td>0.040886</td>\n",
       "      <td>0.601363</td>\n",
       "      <td>0.480270</td>\n",
       "    </tr>\n",
       "    <tr>\n",
       "      <th>2013-01-05</th>\n",
       "      <td>1.364480</td>\n",
       "      <td>1.886390</td>\n",
       "      <td>-0.721105</td>\n",
       "      <td>1.118183</td>\n",
       "      <td>3.647948</td>\n",
       "    </tr>\n",
       "  </tbody>\n",
       "</table>\n",
       "</div>"
      ],
      "text/plain": [
       "                   A         B         C         D   sum_row\n",
       "2013-01-01 -0.493652  0.459845  1.055571 -0.397538  0.624226\n",
       "2013-01-03  1.072583  0.815930  0.097716 -0.107951  1.878277\n",
       "2013-01-04 -1.628413  1.466435  0.040886  0.601363  0.480270\n",
       "2013-01-05  1.364480  1.886390 -0.721105  1.118183  3.647948"
      ]
     },
     "execution_count": 58,
     "metadata": {},
     "output_type": "execute_result"
    }
   ],
   "source": [
    "df3[(df3.sum_row>0) & (df3.B>0)]\n",
    "\n",
    "# dropna() 까지 한 결과"
   ]
  },
  {
   "cell_type": "code",
   "execution_count": 59,
   "metadata": {},
   "outputs": [
    {
     "data": {
      "text/html": [
       "<div>\n",
       "<style scoped>\n",
       "    .dataframe tbody tr th:only-of-type {\n",
       "        vertical-align: middle;\n",
       "    }\n",
       "\n",
       "    .dataframe tbody tr th {\n",
       "        vertical-align: top;\n",
       "    }\n",
       "\n",
       "    .dataframe thead th {\n",
       "        text-align: right;\n",
       "    }\n",
       "</style>\n",
       "<table border=\"1\" class=\"dataframe\">\n",
       "  <thead>\n",
       "    <tr style=\"text-align: right;\">\n",
       "      <th></th>\n",
       "      <th>A</th>\n",
       "      <th>B</th>\n",
       "      <th>C</th>\n",
       "      <th>D</th>\n",
       "      <th>sum_row</th>\n",
       "    </tr>\n",
       "  </thead>\n",
       "  <tbody>\n",
       "    <tr>\n",
       "      <th>2013-01-01</th>\n",
       "      <td>-0.493652</td>\n",
       "      <td>0.459845</td>\n",
       "      <td>1.055571</td>\n",
       "      <td>-0.397538</td>\n",
       "      <td>0.624226</td>\n",
       "    </tr>\n",
       "    <tr>\n",
       "      <th>2013-01-03</th>\n",
       "      <td>1.072583</td>\n",
       "      <td>0.815930</td>\n",
       "      <td>0.097716</td>\n",
       "      <td>-0.107951</td>\n",
       "      <td>1.878277</td>\n",
       "    </tr>\n",
       "    <tr>\n",
       "      <th>2013-01-04</th>\n",
       "      <td>-1.628413</td>\n",
       "      <td>1.466435</td>\n",
       "      <td>0.040886</td>\n",
       "      <td>0.601363</td>\n",
       "      <td>0.480270</td>\n",
       "    </tr>\n",
       "    <tr>\n",
       "      <th>2013-01-05</th>\n",
       "      <td>1.364480</td>\n",
       "      <td>1.886390</td>\n",
       "      <td>-0.721105</td>\n",
       "      <td>1.118183</td>\n",
       "      <td>3.647948</td>\n",
       "    </tr>\n",
       "  </tbody>\n",
       "</table>\n",
       "</div>"
      ],
      "text/plain": [
       "                   A         B         C         D   sum_row\n",
       "2013-01-01 -0.493652  0.459845  1.055571 -0.397538  0.624226\n",
       "2013-01-03  1.072583  0.815930  0.097716 -0.107951  1.878277\n",
       "2013-01-04 -1.628413  1.466435  0.040886  0.601363  0.480270\n",
       "2013-01-05  1.364480  1.886390 -0.721105  1.118183  3.647948"
      ]
     },
     "execution_count": 59,
     "metadata": {},
     "output_type": "execute_result"
    }
   ],
   "source": [
    "# df.query  을  사용\n",
    "\n",
    "df3.query(\"sum_row > 0 and B >0\")"
   ]
  },
  {
   "attachments": {},
   "cell_type": "markdown",
   "metadata": {},
   "source": [
    "### 4. Missing \n",
    "\n",
    "``` \n",
    "dropna()\n",
    "fillna()\n",
    "notnull()\n",
    "notna()   \n",
    "isnull()\n",
    "isna() \n",
    "```"
   ]
  },
  {
   "cell_type": "code",
   "execution_count": 60,
   "metadata": {},
   "outputs": [
    {
     "data": {
      "text/html": [
       "<div>\n",
       "<style scoped>\n",
       "    .dataframe tbody tr th:only-of-type {\n",
       "        vertical-align: middle;\n",
       "    }\n",
       "\n",
       "    .dataframe tbody tr th {\n",
       "        vertical-align: top;\n",
       "    }\n",
       "\n",
       "    .dataframe thead th {\n",
       "        text-align: right;\n",
       "    }\n",
       "</style>\n",
       "<table border=\"1\" class=\"dataframe\">\n",
       "  <thead>\n",
       "    <tr style=\"text-align: right;\">\n",
       "      <th></th>\n",
       "      <th>A</th>\n",
       "      <th>B</th>\n",
       "      <th>C</th>\n",
       "      <th>D</th>\n",
       "      <th>sum_row</th>\n",
       "    </tr>\n",
       "  </thead>\n",
       "  <tbody>\n",
       "    <tr>\n",
       "      <th>2013-01-01</th>\n",
       "      <td>-0.493652</td>\n",
       "      <td>0.459845</td>\n",
       "      <td>1.055571</td>\n",
       "      <td>-0.397538</td>\n",
       "      <td>0.624226</td>\n",
       "    </tr>\n",
       "    <tr>\n",
       "      <th>2013-01-02</th>\n",
       "      <td>0.000000</td>\n",
       "      <td>0.000000</td>\n",
       "      <td>0.000000</td>\n",
       "      <td>0.000000</td>\n",
       "      <td>0.000000</td>\n",
       "    </tr>\n",
       "    <tr>\n",
       "      <th>2013-01-03</th>\n",
       "      <td>1.072583</td>\n",
       "      <td>0.815930</td>\n",
       "      <td>0.097716</td>\n",
       "      <td>-0.107951</td>\n",
       "      <td>1.878277</td>\n",
       "    </tr>\n",
       "    <tr>\n",
       "      <th>2013-01-04</th>\n",
       "      <td>-1.628413</td>\n",
       "      <td>1.466435</td>\n",
       "      <td>0.040886</td>\n",
       "      <td>0.601363</td>\n",
       "      <td>0.480270</td>\n",
       "    </tr>\n",
       "    <tr>\n",
       "      <th>2013-01-05</th>\n",
       "      <td>1.364480</td>\n",
       "      <td>1.886390</td>\n",
       "      <td>-0.721105</td>\n",
       "      <td>1.118183</td>\n",
       "      <td>3.647948</td>\n",
       "    </tr>\n",
       "    <tr>\n",
       "      <th>2013-01-06</th>\n",
       "      <td>0.000000</td>\n",
       "      <td>0.000000</td>\n",
       "      <td>0.000000</td>\n",
       "      <td>0.000000</td>\n",
       "      <td>0.000000</td>\n",
       "    </tr>\n",
       "  </tbody>\n",
       "</table>\n",
       "</div>"
      ],
      "text/plain": [
       "                   A         B         C         D   sum_row\n",
       "2013-01-01 -0.493652  0.459845  1.055571 -0.397538  0.624226\n",
       "2013-01-02  0.000000  0.000000  0.000000  0.000000  0.000000\n",
       "2013-01-03  1.072583  0.815930  0.097716 -0.107951  1.878277\n",
       "2013-01-04 -1.628413  1.466435  0.040886  0.601363  0.480270\n",
       "2013-01-05  1.364480  1.886390 -0.721105  1.118183  3.647948\n",
       "2013-01-06  0.000000  0.000000  0.000000  0.000000  0.000000"
      ]
     },
     "execution_count": 60,
     "metadata": {},
     "output_type": "execute_result"
    }
   ],
   "source": [
    "df3.where((df3.sum_row>0) & (df3.B>0)).fillna(0)\n"
   ]
  },
  {
   "cell_type": "code",
   "execution_count": 61,
   "metadata": {},
   "outputs": [
    {
     "data": {
      "text/html": [
       "<div>\n",
       "<style scoped>\n",
       "    .dataframe tbody tr th:only-of-type {\n",
       "        vertical-align: middle;\n",
       "    }\n",
       "\n",
       "    .dataframe tbody tr th {\n",
       "        vertical-align: top;\n",
       "    }\n",
       "\n",
       "    .dataframe thead th {\n",
       "        text-align: right;\n",
       "    }\n",
       "</style>\n",
       "<table border=\"1\" class=\"dataframe\">\n",
       "  <thead>\n",
       "    <tr style=\"text-align: right;\">\n",
       "      <th></th>\n",
       "      <th>A</th>\n",
       "      <th>B</th>\n",
       "    </tr>\n",
       "  </thead>\n",
       "  <tbody>\n",
       "    <tr>\n",
       "      <th>0</th>\n",
       "      <td>0</td>\n",
       "      <td>foo</td>\n",
       "    </tr>\n",
       "    <tr>\n",
       "      <th>1</th>\n",
       "      <td>1</td>\n",
       "      <td></td>\n",
       "    </tr>\n",
       "    <tr>\n",
       "      <th>2</th>\n",
       "      <td>2</td>\n",
       "      <td>bar</td>\n",
       "    </tr>\n",
       "    <tr>\n",
       "      <th>3</th>\n",
       "      <td>3</td>\n",
       "      <td></td>\n",
       "    </tr>\n",
       "    <tr>\n",
       "      <th>4</th>\n",
       "      <td>4</td>\n",
       "      <td>NaN</td>\n",
       "    </tr>\n",
       "    <tr>\n",
       "      <th>5</th>\n",
       "      <td>5</td>\n",
       "      <td>xyz</td>\n",
       "    </tr>\n",
       "  </tbody>\n",
       "</table>\n",
       "</div>"
      ],
      "text/plain": [
       "   A    B\n",
       "0  0  foo\n",
       "1  1     \n",
       "2  2  bar\n",
       "3  3     \n",
       "4  4  NaN\n",
       "5  5  xyz"
      ]
     },
     "execution_count": 61,
     "metadata": {},
     "output_type": "execute_result"
    }
   ],
   "source": [
    "# 공백 값 (셀 값이 없음) 제거 \n",
    "\n",
    "df_sp = pd.DataFrame({\n",
    "    'A': range(6),\n",
    "    'B': ['foo', '', 'bar', '', np.nan, 'xyz']\n",
    "})\n",
    "df_sp"
   ]
  },
  {
   "cell_type": "code",
   "execution_count": 62,
   "metadata": {},
   "outputs": [
    {
     "data": {
      "text/plain": [
       "array(['foo', '', 'bar', nan, 'xyz'], dtype=object)"
      ]
     },
     "execution_count": 62,
     "metadata": {},
     "output_type": "execute_result"
    }
   ],
   "source": [
    "# unique() 로 공백을 확인 할 수 있다. \n",
    "\n",
    "df_sp['B'].unique()"
   ]
  },
  {
   "cell_type": "code",
   "execution_count": 63,
   "metadata": {},
   "outputs": [
    {
     "data": {
      "text/plain": [
       "array(['foo', nan, 'bar', 'xyz'], dtype=object)"
      ]
     },
     "execution_count": 63,
     "metadata": {},
     "output_type": "execute_result"
    }
   ],
   "source": [
    "# 공백('') 을 np.nan 으로 변경 \n",
    "\n",
    "df_sp['B'] = df_sp['B'].replace('',np.nan)\n",
    "df_sp['B'].unique()\n",
    "\n"
   ]
  },
  {
   "attachments": {},
   "cell_type": "markdown",
   "metadata": {},
   "source": [
    "### 5. Operations\n",
    "\n",
    "```\n",
    "sum, mean, std, var\n",
    "sort, count\n",
    "apply\n",
    "str\n",
    "```"
   ]
  },
  {
   "cell_type": "code",
   "execution_count": 64,
   "metadata": {},
   "outputs": [
    {
     "name": "stdout",
     "output_type": "stream",
     "text": [
      "                   A         B         C         D\n",
      "2013-01-01 -0.493652  0.459845  1.055571 -0.397538\n",
      "2013-01-02  0.841064 -0.856491 -0.383317  0.136862\n",
      "2013-01-03  1.072583  0.815930  0.097716 -0.107951\n",
      "2013-01-04 -1.628413  1.466435  0.040886  0.601363\n",
      "2013-01-05  1.364480  1.886390 -0.721105  1.118183\n",
      "2013-01-06 -0.102095  0.120838 -0.035622 -1.386959\n",
      "                   A         B         C         D\n",
      "2013-01-04 -1.628413  1.466435  0.040886  0.601363\n",
      "2013-01-01 -0.493652  0.459845  1.055571 -0.397538\n",
      "2013-01-06 -0.102095  0.120838 -0.035622 -1.386959\n",
      "2013-01-02  0.841064 -0.856491 -0.383317  0.136862\n",
      "2013-01-03  1.072583  0.815930  0.097716 -0.107951\n",
      "2013-01-05  1.364480  1.886390 -0.721105  1.118183 \n",
      "\n",
      "                   A         B         C         D\n",
      "2013-01-05  1.364480  1.886390 -0.721105  1.118183\n",
      "2013-01-03  1.072583  0.815930  0.097716 -0.107951\n",
      "2013-01-02  0.841064 -0.856491 -0.383317  0.136862\n",
      "2013-01-06 -0.102095  0.120838 -0.035622 -1.386959\n",
      "2013-01-01 -0.493652  0.459845  1.055571 -0.397538\n",
      "2013-01-04 -1.628413  1.466435  0.040886  0.601363\n"
     ]
    }
   ],
   "source": [
    "print(df.sort_index())\n",
    "print(df.sort_values('A'),'\\n')\n",
    "# df.sort_values(by='A')\n",
    "print(df.sort_values(by= ['A','B'],ascending=False))"
   ]
  },
  {
   "cell_type": "code",
   "execution_count": 65,
   "metadata": {},
   "outputs": [
    {
     "name": "stdout",
     "output_type": "stream",
     "text": [
      "A    1.053967\n",
      "B    3.892947\n",
      "C    0.054128\n",
      "D   -0.036040\n",
      "dtype: float64\n",
      "2013-01-01    0.624226\n",
      "2013-01-02   -0.261882\n",
      "2013-01-03    1.878277\n",
      "2013-01-04    0.480270\n",
      "2013-01-05    3.647948\n",
      "2013-01-06   -1.403838\n",
      "Freq: D, dtype: float64\n"
     ]
    }
   ],
   "source": [
    "print(df.sum())          # row 들의 합 (col : 합) axis=0 디폴트\n",
    "print(df.sum(axis=1))    # column 들의 함 (row : 합) axis=1"
   ]
  },
  {
   "attachments": {},
   "cell_type": "markdown",
   "metadata": {},
   "source": [
    "### 6. Merging\n",
    "\n",
    "```\n",
    "concat\n",
    "join\n",
    "merge\n",
    "```"
   ]
  },
  {
   "attachments": {},
   "cell_type": "markdown",
   "metadata": {},
   "source": [
    "### 7. Grouping\n",
    "\n",
    "```\n",
    "Splitting the data into groups based on some criteria\n",
    "Applying a function to each group independently\n",
    "Combining the results into a data structure\n",
    "\n",
    "1. 새로운 df (groupby index) 을 생성할 것인가? \n",
    "\n",
    "2. 기존 df 에서 groupby 로 계산한 후, 업데이트 할 것인가?\n",
    "Groupby 로 새로운 인덱스가 생성이되므로, \n",
    "apply 로 인해 각 row 별로 계산된 값은 \n",
    "groupby 로 생성된 인덱스를 삭제하고,\n",
    "gorupby 로 sort 된것을 기존 인덱스를 이용해 복구 해야 한다. \n",
    "\n",
    "=> group 화 대상이 2개 이하이며 추가 조건이 있는 경우,for 구문으로 구현하는 것이 좋을것 같음\n",
    "=> transform 을 사용하면 계산을 한 후, 기존 인덱스로 되돌려 준다. \n",
    "\n",
    "```"
   ]
  },
  {
   "cell_type": "code",
   "execution_count": 66,
   "metadata": {},
   "outputs": [
    {
     "data": {
      "text/html": [
       "<div>\n",
       "<style scoped>\n",
       "    .dataframe tbody tr th:only-of-type {\n",
       "        vertical-align: middle;\n",
       "    }\n",
       "\n",
       "    .dataframe tbody tr th {\n",
       "        vertical-align: top;\n",
       "    }\n",
       "\n",
       "    .dataframe thead th {\n",
       "        text-align: right;\n",
       "    }\n",
       "</style>\n",
       "<table border=\"1\" class=\"dataframe\">\n",
       "  <thead>\n",
       "    <tr style=\"text-align: right;\">\n",
       "      <th></th>\n",
       "      <th>A</th>\n",
       "      <th>B</th>\n",
       "      <th>C</th>\n",
       "      <th>D</th>\n",
       "    </tr>\n",
       "  </thead>\n",
       "  <tbody>\n",
       "    <tr>\n",
       "      <th>0</th>\n",
       "      <td>foo</td>\n",
       "      <td>one</td>\n",
       "      <td>-0.606588</td>\n",
       "      <td>-1.371519</td>\n",
       "    </tr>\n",
       "    <tr>\n",
       "      <th>1</th>\n",
       "      <td>bar</td>\n",
       "      <td>one</td>\n",
       "      <td>0.084099</td>\n",
       "      <td>-0.032709</td>\n",
       "    </tr>\n",
       "    <tr>\n",
       "      <th>2</th>\n",
       "      <td>foo</td>\n",
       "      <td>two</td>\n",
       "      <td>0.741690</td>\n",
       "      <td>-0.898066</td>\n",
       "    </tr>\n",
       "    <tr>\n",
       "      <th>3</th>\n",
       "      <td>bar</td>\n",
       "      <td>three</td>\n",
       "      <td>1.193635</td>\n",
       "      <td>0.829713</td>\n",
       "    </tr>\n",
       "    <tr>\n",
       "      <th>4</th>\n",
       "      <td>foo</td>\n",
       "      <td>two</td>\n",
       "      <td>0.110306</td>\n",
       "      <td>1.859073</td>\n",
       "    </tr>\n",
       "    <tr>\n",
       "      <th>5</th>\n",
       "      <td>bar</td>\n",
       "      <td>two</td>\n",
       "      <td>-2.299704</td>\n",
       "      <td>1.610747</td>\n",
       "    </tr>\n",
       "    <tr>\n",
       "      <th>6</th>\n",
       "      <td>foo</td>\n",
       "      <td>one</td>\n",
       "      <td>0.610095</td>\n",
       "      <td>-0.781407</td>\n",
       "    </tr>\n",
       "    <tr>\n",
       "      <th>7</th>\n",
       "      <td>foo</td>\n",
       "      <td>three</td>\n",
       "      <td>0.338359</td>\n",
       "      <td>1.560452</td>\n",
       "    </tr>\n",
       "  </tbody>\n",
       "</table>\n",
       "</div>"
      ],
      "text/plain": [
       "     A      B         C         D\n",
       "0  foo    one -0.606588 -1.371519\n",
       "1  bar    one  0.084099 -0.032709\n",
       "2  foo    two  0.741690 -0.898066\n",
       "3  bar  three  1.193635  0.829713\n",
       "4  foo    two  0.110306  1.859073\n",
       "5  bar    two -2.299704  1.610747\n",
       "6  foo    one  0.610095 -0.781407\n",
       "7  foo  three  0.338359  1.560452"
      ]
     },
     "execution_count": 66,
     "metadata": {},
     "output_type": "execute_result"
    }
   ],
   "source": [
    "df_g = pd.DataFrame(\n",
    "    {\n",
    "        \"A\": [\"foo\", \"bar\", \"foo\", \"bar\", \"foo\", \"bar\", \"foo\", \"foo\"],\n",
    "        \"B\": [\"one\", \"one\", \"two\", \"three\", \"two\", \"two\", \"one\", \"three\"],\n",
    "        \"C\": np.random.randn(8),\n",
    "        \"D\": np.random.randn(8),\n",
    "    }\n",
    ")\n",
    "\n",
    "df_g"
   ]
  },
  {
   "cell_type": "code",
   "execution_count": 67,
   "metadata": {},
   "outputs": [
    {
     "data": {
      "text/plain": [
       "A     \n",
       "bar  1    1000.084099\n",
       "     3    1001.193635\n",
       "     5      -2.299704\n",
       "foo  0      -0.606588\n",
       "     2    1000.741690\n",
       "     4    1000.110306\n",
       "     6    1000.610095\n",
       "     7    1000.338359\n",
       "Name: C, dtype: float64"
      ]
     },
     "execution_count": 67,
     "metadata": {},
     "output_type": "execute_result"
    }
   ],
   "source": [
    "def funT(Ag):\n",
    "    over0=Ag > 0\n",
    "    Ag[over0] = Ag[over0] + 1000\n",
    "    return Ag\n",
    "\n",
    "df_g.groupby('A')['C'].apply(funT)   \n",
    "# apply 을 사용할 경우 groupby 에 의한 인덱스 기준이므로 바로 기존 df 입력이 불가하다.\n",
    "# df_g['C'] = df_g.groupby('A')['C'].apply(funT) \n",
    "\n",
    "# 추가로 reset_index(drop=True).sort_index() 을 해 주어야 한다.\n",
    "# 그러나 transform() 을 사용하면 바로 적용이 가능하다.\n"
   ]
  },
  {
   "cell_type": "code",
   "execution_count": 68,
   "metadata": {},
   "outputs": [
    {
     "data": {
      "text/html": [
       "<div>\n",
       "<style scoped>\n",
       "    .dataframe tbody tr th:only-of-type {\n",
       "        vertical-align: middle;\n",
       "    }\n",
       "\n",
       "    .dataframe tbody tr th {\n",
       "        vertical-align: top;\n",
       "    }\n",
       "\n",
       "    .dataframe thead th {\n",
       "        text-align: right;\n",
       "    }\n",
       "</style>\n",
       "<table border=\"1\" class=\"dataframe\">\n",
       "  <thead>\n",
       "    <tr style=\"text-align: right;\">\n",
       "      <th></th>\n",
       "      <th>A</th>\n",
       "      <th>B</th>\n",
       "      <th>C</th>\n",
       "      <th>D</th>\n",
       "    </tr>\n",
       "  </thead>\n",
       "  <tbody>\n",
       "    <tr>\n",
       "      <th>0</th>\n",
       "      <td>foo</td>\n",
       "      <td>one</td>\n",
       "      <td>-0.606588</td>\n",
       "      <td>-1.371519</td>\n",
       "    </tr>\n",
       "    <tr>\n",
       "      <th>1</th>\n",
       "      <td>bar</td>\n",
       "      <td>one</td>\n",
       "      <td>1000.084099</td>\n",
       "      <td>-0.032709</td>\n",
       "    </tr>\n",
       "    <tr>\n",
       "      <th>2</th>\n",
       "      <td>foo</td>\n",
       "      <td>two</td>\n",
       "      <td>1000.741690</td>\n",
       "      <td>-0.898066</td>\n",
       "    </tr>\n",
       "    <tr>\n",
       "      <th>3</th>\n",
       "      <td>bar</td>\n",
       "      <td>three</td>\n",
       "      <td>1001.193635</td>\n",
       "      <td>0.829713</td>\n",
       "    </tr>\n",
       "    <tr>\n",
       "      <th>4</th>\n",
       "      <td>foo</td>\n",
       "      <td>two</td>\n",
       "      <td>1000.110306</td>\n",
       "      <td>1.859073</td>\n",
       "    </tr>\n",
       "    <tr>\n",
       "      <th>5</th>\n",
       "      <td>bar</td>\n",
       "      <td>two</td>\n",
       "      <td>-2.299704</td>\n",
       "      <td>1.610747</td>\n",
       "    </tr>\n",
       "    <tr>\n",
       "      <th>6</th>\n",
       "      <td>foo</td>\n",
       "      <td>one</td>\n",
       "      <td>1000.610095</td>\n",
       "      <td>-0.781407</td>\n",
       "    </tr>\n",
       "    <tr>\n",
       "      <th>7</th>\n",
       "      <td>foo</td>\n",
       "      <td>three</td>\n",
       "      <td>1000.338359</td>\n",
       "      <td>1.560452</td>\n",
       "    </tr>\n",
       "  </tbody>\n",
       "</table>\n",
       "</div>"
      ],
      "text/plain": [
       "     A      B            C         D\n",
       "0  foo    one    -0.606588 -1.371519\n",
       "1  bar    one  1000.084099 -0.032709\n",
       "2  foo    two  1000.741690 -0.898066\n",
       "3  bar  three  1001.193635  0.829713\n",
       "4  foo    two  1000.110306  1.859073\n",
       "5  bar    two    -2.299704  1.610747\n",
       "6  foo    one  1000.610095 -0.781407\n",
       "7  foo  three  1000.338359  1.560452"
      ]
     },
     "execution_count": 68,
     "metadata": {},
     "output_type": "execute_result"
    }
   ],
   "source": [
    "df_gt = df_g.copy()\n",
    "df_gt['C'] = df_g.groupby('A')['C'].transform(funT)\n",
    "df_gt\n"
   ]
  },
  {
   "attachments": {},
   "cell_type": "markdown",
   "metadata": {},
   "source": [
    "df.groupby().apply(list)\n",
    "\n",
    "df.groupby().groups.keys()"
   ]
  },
  {
   "cell_type": "code",
   "execution_count": 69,
   "metadata": {},
   "outputs": [
    {
     "data": {
      "text/plain": [
       "A    B    \n",
       "bar  one                          [0.08409864249418036]\n",
       "     three                          [1.193634942180474]\n",
       "     two                          [-2.2997041273202625]\n",
       "foo  one      [-0.6065881690794018, 0.6100947216238816]\n",
       "     three                        [0.33835911135095004]\n",
       "     two      [0.7416902249350591, 0.11030618834963636]\n",
       "Name: C, dtype: object"
      ]
     },
     "execution_count": 69,
     "metadata": {},
     "output_type": "execute_result"
    }
   ],
   "source": [
    "df_g.groupby(['A','B'])['C'].apply(list)"
   ]
  },
  {
   "cell_type": "code",
   "execution_count": 70,
   "metadata": {},
   "outputs": [
    {
     "data": {
      "text/plain": [
       "dict_keys([('bar', 'one'), ('bar', 'three'), ('bar', 'two'), ('foo', 'one'), ('foo', 'three'), ('foo', 'two')])"
      ]
     },
     "execution_count": 70,
     "metadata": {},
     "output_type": "execute_result"
    }
   ],
   "source": [
    "df_g.groupby(['A','B'])['C'].groups.keys()"
   ]
  },
  {
   "cell_type": "code",
   "execution_count": 71,
   "metadata": {},
   "outputs": [
    {
     "data": {
      "text/plain": [
       "0    3\n",
       "1    0\n",
       "2    5\n",
       "3    1\n",
       "4    5\n",
       "5    2\n",
       "6    3\n",
       "7    4\n",
       "dtype: int64"
      ]
     },
     "execution_count": 71,
     "metadata": {},
     "output_type": "execute_result"
    }
   ],
   "source": [
    "df_g.groupby(['A','B'])['C'].ngroup()\n",
    "\n",
    "# 각 row 들이 어떻게 groupping 되는가.\n",
    "# 0 3 : index 0 은 3번 그룹으로 묶임\n",
    "# df['groupN'] = df.groupby().ngroup()  을 생성해서 몇개 그룹이 만들어 지고, 어떻게 구성되는지 알수 있다."
   ]
  },
  {
   "cell_type": "code",
   "execution_count": 72,
   "metadata": {},
   "outputs": [
    {
     "name": "stdout",
     "output_type": "stream",
     "text": [
      "('bar', 'one') 1    0.084099\n",
      "Name: C, dtype: float64\n",
      "('bar', 'three') 3    1.193635\n",
      "Name: C, dtype: float64\n",
      "('bar', 'two') 5   -2.299704\n",
      "Name: C, dtype: float64\n",
      "('foo', 'one') 0   -0.606588\n",
      "6    0.610095\n",
      "Name: C, dtype: float64\n",
      "('foo', 'three') 7    0.338359\n",
      "Name: C, dtype: float64\n",
      "('foo', 'two') 2    0.741690\n",
      "4    0.110306\n",
      "Name: C, dtype: float64\n"
     ]
    }
   ],
   "source": [
    "for key, group in df_g.groupby(['A','B'])['C']:\n",
    "    print(key, group)"
   ]
  },
  {
   "cell_type": "code",
   "execution_count": 73,
   "metadata": {},
   "outputs": [
    {
     "name": "stdout",
     "output_type": "stream",
     "text": [
      "('bar', 'one')      A    B         C         D\n",
      "1  bar  one  0.084099 -0.032709\n",
      "('bar', 'three')      A      B         C         D\n",
      "3  bar  three  1.193635  0.829713\n",
      "('bar', 'two')      A    B         C         D\n",
      "5  bar  two -2.299704  1.610747\n",
      "('foo', 'one')      A    B         C         D\n",
      "0  foo  one -0.606588 -1.371519\n",
      "6  foo  one  0.610095 -0.781407\n",
      "('foo', 'three')      A      B         C         D\n",
      "7  foo  three  0.338359  1.560452\n",
      "('foo', 'two')      A    B         C         D\n",
      "2  foo  two  0.741690 -0.898066\n",
      "4  foo  two  0.110306  1.859073\n"
     ]
    }
   ],
   "source": [
    "for key, group in df_g.groupby(['A','B']):\n",
    "    print(key,group)"
   ]
  },
  {
   "attachments": {},
   "cell_type": "markdown",
   "metadata": {},
   "source": [
    "multi-index"
   ]
  },
  {
   "cell_type": "code",
   "execution_count": 74,
   "metadata": {},
   "outputs": [
    {
     "data": {
      "text/plain": [
       "A    B  \n",
       "bar  one    1\n",
       "dtype: int64"
      ]
     },
     "execution_count": 74,
     "metadata": {},
     "output_type": "execute_result"
    }
   ],
   "source": [
    "df_g.groupby(['A','B'])[['C']].size().xs(('bar','one'),level=(0,1))"
   ]
  },
  {
   "cell_type": "code",
   "execution_count": 75,
   "metadata": {},
   "outputs": [
    {
     "data": {
      "text/plain": [
       "A\n",
       "bar    1\n",
       "foo    2\n",
       "dtype: int64"
      ]
     },
     "execution_count": 75,
     "metadata": {},
     "output_type": "execute_result"
    }
   ],
   "source": [
    "df_g.groupby(['A','B'])[['C']].size().xs(('one'),level=(1))"
   ]
  },
  {
   "attachments": {},
   "cell_type": "markdown",
   "metadata": {},
   "source": [
    "[].reset_index / [[]].reset_index"
   ]
  },
  {
   "cell_type": "code",
   "execution_count": 76,
   "metadata": {},
   "outputs": [
    {
     "data": {
      "text/plain": [
       "A    B      C        \n",
       "bar  one     0.084099    1\n",
       "     three   1.193635    1\n",
       "     two    -2.299704    1\n",
       "foo  one    -0.606588    1\n",
       "             0.610095    1\n",
       "     three   0.338359    1\n",
       "     two     0.110306    1\n",
       "             0.741690    1\n",
       "Name: count, dtype: int64"
      ]
     },
     "execution_count": 76,
     "metadata": {},
     "output_type": "execute_result"
    }
   ],
   "source": [
    "df_g.groupby(['A','B'])['C'].value_counts()\n",
    "\n",
    "# df_g.groupby(['A','B'])['C'].value_counts().reset_index() 는 오류발생. ('C' 가 중복된다. )\n",
    "# new_df_g = df_g.groupby(['A','B'])['C'].value_counts()\n",
    "# new_df_g.name = C_count\n",
    "# new_df_g.reset_index()\n"
   ]
  },
  {
   "cell_type": "code",
   "execution_count": 77,
   "metadata": {},
   "outputs": [
    {
     "data": {
      "text/html": [
       "<div>\n",
       "<style scoped>\n",
       "    .dataframe tbody tr th:only-of-type {\n",
       "        vertical-align: middle;\n",
       "    }\n",
       "\n",
       "    .dataframe tbody tr th {\n",
       "        vertical-align: top;\n",
       "    }\n",
       "\n",
       "    .dataframe thead th {\n",
       "        text-align: right;\n",
       "    }\n",
       "</style>\n",
       "<table border=\"1\" class=\"dataframe\">\n",
       "  <thead>\n",
       "    <tr style=\"text-align: right;\">\n",
       "      <th></th>\n",
       "      <th>A</th>\n",
       "      <th>B</th>\n",
       "      <th>C</th>\n",
       "    </tr>\n",
       "  </thead>\n",
       "  <tbody>\n",
       "    <tr>\n",
       "      <th>0</th>\n",
       "      <td>bar</td>\n",
       "      <td>one</td>\n",
       "      <td>0.084099</td>\n",
       "    </tr>\n",
       "    <tr>\n",
       "      <th>1</th>\n",
       "      <td>bar</td>\n",
       "      <td>three</td>\n",
       "      <td>1.193635</td>\n",
       "    </tr>\n",
       "    <tr>\n",
       "      <th>2</th>\n",
       "      <td>bar</td>\n",
       "      <td>two</td>\n",
       "      <td>-2.299704</td>\n",
       "    </tr>\n",
       "    <tr>\n",
       "      <th>3</th>\n",
       "      <td>foo</td>\n",
       "      <td>one</td>\n",
       "      <td>0.003507</td>\n",
       "    </tr>\n",
       "    <tr>\n",
       "      <th>4</th>\n",
       "      <td>foo</td>\n",
       "      <td>three</td>\n",
       "      <td>0.338359</td>\n",
       "    </tr>\n",
       "    <tr>\n",
       "      <th>5</th>\n",
       "      <td>foo</td>\n",
       "      <td>two</td>\n",
       "      <td>0.851996</td>\n",
       "    </tr>\n",
       "  </tbody>\n",
       "</table>\n",
       "</div>"
      ],
      "text/plain": [
       "     A      B         C\n",
       "0  bar    one  0.084099\n",
       "1  bar  three  1.193635\n",
       "2  bar    two -2.299704\n",
       "3  foo    one  0.003507\n",
       "4  foo  three  0.338359\n",
       "5  foo    two  0.851996"
      ]
     },
     "execution_count": 77,
     "metadata": {},
     "output_type": "execute_result"
    }
   ],
   "source": [
    "# [[C]] 은 데이터 프레임이라서 reset_index 가 가능하다. \n",
    "# groupby 로 인텍스화 되었던 A,B 가 columns 으로 재 배치 되고, \n",
    "# A B 의 unique 한 조합으로 새로운 df index 이 생성됨.\n",
    "# 기존 8x4 -> 6x3\n",
    "\n",
    "df_g2 = df_g.groupby(['A','B'])[['C']].sum().reset_index()\n",
    "df_g2"
   ]
  },
  {
   "attachments": {},
   "cell_type": "markdown",
   "metadata": {},
   "source": [
    "groupby().apply(funcX)\n",
    "\n",
    "apply 와 transform 의 차이  \n",
    "https://steadiness-193.tistory.com/42 "
   ]
  },
  {
   "cell_type": "code",
   "execution_count": 78,
   "metadata": {},
   "outputs": [
    {
     "data": {
      "text/plain": [
       "A    B    \n",
       "bar  one      [A, B, C, D]\n",
       "     three    [A, B, C, D]\n",
       "     two      [A, B, C, D]\n",
       "foo  one      [A, B, C, D]\n",
       "     three    [A, B, C, D]\n",
       "     two      [A, B, C, D]\n",
       "dtype: object"
      ]
     },
     "execution_count": 78,
     "metadata": {},
     "output_type": "execute_result"
    }
   ],
   "source": [
    "df_g.groupby(['A','B']).apply(list)\n",
    "\n",
    "# 전달되는 index 와 columns, 즉 df 을 볼수 있다. "
   ]
  },
  {
   "cell_type": "code",
   "execution_count": 84,
   "metadata": {},
   "outputs": [
    {
     "name": "stdout",
     "output_type": "stream",
     "text": [
      "     A    B         C         D\n",
      "1  bar  one  0.084099 -0.032709\n",
      "     A    B         C         D\n",
      "1  bar  one  0.084099 -0.032709\n",
      "     A      B         C         D\n",
      "3  bar  three  1.193635  0.829713\n",
      "     A      B         C         D\n",
      "3  bar  three  1.193635  0.829713\n",
      "     A    B         C         D\n",
      "5  bar  two -2.299704  1.610747\n",
      "     A    B         C         D\n",
      "5  bar  two -2.299704  1.610747\n",
      "     A    B         C         D\n",
      "0  foo  one -0.606588 -1.371519\n",
      "6  foo  one  0.610095 -0.781407\n",
      "     A    B         C         D\n",
      "0  foo  one  0.003507 -1.371519\n",
      "6  foo  one  0.003507 -0.781407\n",
      "     A      B         C         D\n",
      "7  foo  three  0.338359  1.560452\n",
      "     A      B         C         D\n",
      "7  foo  three  0.338359  1.560452\n",
      "     A    B         C         D\n",
      "2  foo  two  0.741690 -0.898066\n",
      "4  foo  two  0.110306  1.859073\n",
      "     A    B         C         D\n",
      "2  foo  two  0.851996 -0.898066\n",
      "4  foo  two  0.851996  1.859073\n"
     ]
    },
    {
     "data": {
      "text/html": [
       "<div>\n",
       "<style scoped>\n",
       "    .dataframe tbody tr th:only-of-type {\n",
       "        vertical-align: middle;\n",
       "    }\n",
       "\n",
       "    .dataframe tbody tr th {\n",
       "        vertical-align: top;\n",
       "    }\n",
       "\n",
       "    .dataframe thead th {\n",
       "        text-align: right;\n",
       "    }\n",
       "</style>\n",
       "<table border=\"1\" class=\"dataframe\">\n",
       "  <thead>\n",
       "    <tr style=\"text-align: right;\">\n",
       "      <th></th>\n",
       "      <th></th>\n",
       "      <th></th>\n",
       "      <th>A</th>\n",
       "      <th>B</th>\n",
       "      <th>C</th>\n",
       "      <th>D</th>\n",
       "    </tr>\n",
       "    <tr>\n",
       "      <th>A</th>\n",
       "      <th>B</th>\n",
       "      <th></th>\n",
       "      <th></th>\n",
       "      <th></th>\n",
       "      <th></th>\n",
       "      <th></th>\n",
       "    </tr>\n",
       "  </thead>\n",
       "  <tbody>\n",
       "    <tr>\n",
       "      <th rowspan=\"3\" valign=\"top\">bar</th>\n",
       "      <th>one</th>\n",
       "      <th>1</th>\n",
       "      <td>bar</td>\n",
       "      <td>one</td>\n",
       "      <td>0.084099</td>\n",
       "      <td>-0.032709</td>\n",
       "    </tr>\n",
       "    <tr>\n",
       "      <th>three</th>\n",
       "      <th>3</th>\n",
       "      <td>bar</td>\n",
       "      <td>three</td>\n",
       "      <td>1.193635</td>\n",
       "      <td>0.829713</td>\n",
       "    </tr>\n",
       "    <tr>\n",
       "      <th>two</th>\n",
       "      <th>5</th>\n",
       "      <td>bar</td>\n",
       "      <td>two</td>\n",
       "      <td>-2.299704</td>\n",
       "      <td>1.610747</td>\n",
       "    </tr>\n",
       "    <tr>\n",
       "      <th rowspan=\"5\" valign=\"top\">foo</th>\n",
       "      <th rowspan=\"2\" valign=\"top\">one</th>\n",
       "      <th>0</th>\n",
       "      <td>foo</td>\n",
       "      <td>one</td>\n",
       "      <td>0.003507</td>\n",
       "      <td>-1.371519</td>\n",
       "    </tr>\n",
       "    <tr>\n",
       "      <th>6</th>\n",
       "      <td>foo</td>\n",
       "      <td>one</td>\n",
       "      <td>0.003507</td>\n",
       "      <td>-0.781407</td>\n",
       "    </tr>\n",
       "    <tr>\n",
       "      <th>three</th>\n",
       "      <th>7</th>\n",
       "      <td>foo</td>\n",
       "      <td>three</td>\n",
       "      <td>0.338359</td>\n",
       "      <td>1.560452</td>\n",
       "    </tr>\n",
       "    <tr>\n",
       "      <th rowspan=\"2\" valign=\"top\">two</th>\n",
       "      <th>2</th>\n",
       "      <td>foo</td>\n",
       "      <td>two</td>\n",
       "      <td>0.851996</td>\n",
       "      <td>-0.898066</td>\n",
       "    </tr>\n",
       "    <tr>\n",
       "      <th>4</th>\n",
       "      <td>foo</td>\n",
       "      <td>two</td>\n",
       "      <td>0.851996</td>\n",
       "      <td>1.859073</td>\n",
       "    </tr>\n",
       "  </tbody>\n",
       "</table>\n",
       "</div>"
      ],
      "text/plain": [
       "               A      B         C         D\n",
       "A   B                                      \n",
       "bar one   1  bar    one  0.084099 -0.032709\n",
       "    three 3  bar  three  1.193635  0.829713\n",
       "    two   5  bar    two -2.299704  1.610747\n",
       "foo one   0  foo    one  0.003507 -1.371519\n",
       "          6  foo    one  0.003507 -0.781407\n",
       "    three 7  foo  three  0.338359  1.560452\n",
       "    two   2  foo    two  0.851996 -0.898066\n",
       "          4  foo    two  0.851996  1.859073"
      ]
     },
     "execution_count": 84,
     "metadata": {},
     "output_type": "execute_result"
    }
   ],
   "source": [
    "# 6개 유닉크한 AB groupby 의 그룹 key 값이 전달된다.\n",
    "\n",
    "def funX(groupbyKey : pd.DataFrame.groupby) -> pd.DataFrame.groupby:\n",
    "    print(groupbyKey)\n",
    "    groupbyKey['C'] =  groupbyKey['C'].sum()\n",
    "    print(groupbyKey)\n",
    "\n",
    "    return groupbyKey\n",
    "\n",
    "newG = df_g.groupby(['A','B']).apply(funX)\n",
    "newG\n",
    "\n",
    "# groupby 기준으로 index 가 생성이되고, 기존 index 는 level=2 가 추가된 multi_index df 가 생성됨.\n",
    "# 기존 df 형태로 되돌리기 위해서는 \n",
    "# groupby 로 생성된 index 0, 1을 삭제하여 기존 인덱스를 살리고, groupby 로 sort 되었던것을 기존 인덱스로 재 sort 해야함\n",
    "# .reset_index(drop=True, level=(0,1)).sort_index()   \n",
    "# 을 해주어야 함.\n",
    "\n"
   ]
  },
  {
   "cell_type": "code",
   "execution_count": 95,
   "metadata": {},
   "outputs": [
    {
     "data": {
      "text/html": [
       "<div>\n",
       "<style scoped>\n",
       "    .dataframe tbody tr th:only-of-type {\n",
       "        vertical-align: middle;\n",
       "    }\n",
       "\n",
       "    .dataframe tbody tr th {\n",
       "        vertical-align: top;\n",
       "    }\n",
       "\n",
       "    .dataframe thead th {\n",
       "        text-align: right;\n",
       "    }\n",
       "</style>\n",
       "<table border=\"1\" class=\"dataframe\">\n",
       "  <thead>\n",
       "    <tr style=\"text-align: right;\">\n",
       "      <th></th>\n",
       "      <th>C</th>\n",
       "      <th>D</th>\n",
       "    </tr>\n",
       "  </thead>\n",
       "  <tbody>\n",
       "    <tr>\n",
       "      <th>0</th>\n",
       "      <td>-0.606588</td>\n",
       "      <td>-1.371519</td>\n",
       "    </tr>\n",
       "    <tr>\n",
       "      <th>1</th>\n",
       "      <td>0.084099</td>\n",
       "      <td>-0.032709</td>\n",
       "    </tr>\n",
       "    <tr>\n",
       "      <th>2</th>\n",
       "      <td>0.741690</td>\n",
       "      <td>-0.898066</td>\n",
       "    </tr>\n",
       "    <tr>\n",
       "      <th>3</th>\n",
       "      <td>1.193635</td>\n",
       "      <td>0.829713</td>\n",
       "    </tr>\n",
       "    <tr>\n",
       "      <th>4</th>\n",
       "      <td>0.110306</td>\n",
       "      <td>1.859073</td>\n",
       "    </tr>\n",
       "    <tr>\n",
       "      <th>5</th>\n",
       "      <td>-2.299704</td>\n",
       "      <td>1.610747</td>\n",
       "    </tr>\n",
       "    <tr>\n",
       "      <th>6</th>\n",
       "      <td>0.610095</td>\n",
       "      <td>-0.781407</td>\n",
       "    </tr>\n",
       "    <tr>\n",
       "      <th>7</th>\n",
       "      <td>0.338359</td>\n",
       "      <td>1.560452</td>\n",
       "    </tr>\n",
       "  </tbody>\n",
       "</table>\n",
       "</div>"
      ],
      "text/plain": [
       "          C         D\n",
       "0 -0.606588 -1.371519\n",
       "1  0.084099 -0.032709\n",
       "2  0.741690 -0.898066\n",
       "3  1.193635  0.829713\n",
       "4  0.110306  1.859073\n",
       "5 -2.299704  1.610747\n",
       "6  0.610095 -0.781407\n",
       "7  0.338359  1.560452"
      ]
     },
     "execution_count": 95,
     "metadata": {},
     "output_type": "execute_result"
    }
   ],
   "source": [
    "df_g.groupby(['A','B']).transform(list)\n",
    "\n",
    "# transform(funX) 는 사용할 수 없다. fun 안에서 C 을 구분하여 사용할 수 없다. \n",
    "# group 을 넘겨서 연산할 경우 "
   ]
  },
  {
   "cell_type": "code",
   "execution_count": 186,
   "metadata": {},
   "outputs": [
    {
     "data": {
      "text/html": [
       "<div>\n",
       "<style scoped>\n",
       "    .dataframe tbody tr th:only-of-type {\n",
       "        vertical-align: middle;\n",
       "    }\n",
       "\n",
       "    .dataframe tbody tr th {\n",
       "        vertical-align: top;\n",
       "    }\n",
       "\n",
       "    .dataframe thead th {\n",
       "        text-align: right;\n",
       "    }\n",
       "</style>\n",
       "<table border=\"1\" class=\"dataframe\">\n",
       "  <thead>\n",
       "    <tr style=\"text-align: right;\">\n",
       "      <th></th>\n",
       "      <th>A</th>\n",
       "      <th>B</th>\n",
       "      <th>C</th>\n",
       "      <th>D</th>\n",
       "    </tr>\n",
       "  </thead>\n",
       "  <tbody>\n",
       "    <tr>\n",
       "      <th>0</th>\n",
       "      <td>foo</td>\n",
       "      <td>one</td>\n",
       "      <td>-2.806363</td>\n",
       "      <td>-0.611445</td>\n",
       "    </tr>\n",
       "    <tr>\n",
       "      <th>1</th>\n",
       "      <td>bar</td>\n",
       "      <td>one</td>\n",
       "      <td>0.122473</td>\n",
       "      <td>-0.101776</td>\n",
       "    </tr>\n",
       "    <tr>\n",
       "      <th>2</th>\n",
       "      <td>foo</td>\n",
       "      <td>two</td>\n",
       "      <td>1.995558</td>\n",
       "      <td>-0.249892</td>\n",
       "    </tr>\n",
       "    <tr>\n",
       "      <th>3</th>\n",
       "      <td>bar</td>\n",
       "      <td>three</td>\n",
       "      <td>-0.104899</td>\n",
       "      <td>0.153170</td>\n",
       "    </tr>\n",
       "    <tr>\n",
       "      <th>4</th>\n",
       "      <td>foo</td>\n",
       "      <td>two</td>\n",
       "      <td>1.995558</td>\n",
       "      <td>-0.298740</td>\n",
       "    </tr>\n",
       "    <tr>\n",
       "      <th>5</th>\n",
       "      <td>bar</td>\n",
       "      <td>two</td>\n",
       "      <td>-1.928426</td>\n",
       "      <td>1.161292</td>\n",
       "    </tr>\n",
       "    <tr>\n",
       "      <th>6</th>\n",
       "      <td>foo</td>\n",
       "      <td>one</td>\n",
       "      <td>-2.806363</td>\n",
       "      <td>-1.308144</td>\n",
       "    </tr>\n",
       "    <tr>\n",
       "      <th>7</th>\n",
       "      <td>foo</td>\n",
       "      <td>three</td>\n",
       "      <td>-1.226200</td>\n",
       "      <td>-0.522922</td>\n",
       "    </tr>\n",
       "  </tbody>\n",
       "</table>\n",
       "</div>"
      ],
      "text/plain": [
       "     A      B         C         D\n",
       "0  foo    one -2.806363 -0.611445\n",
       "1  bar    one  0.122473 -0.101776\n",
       "2  foo    two  1.995558 -0.249892\n",
       "3  bar  three -0.104899  0.153170\n",
       "4  foo    two  1.995558 -0.298740\n",
       "5  bar    two -1.928426  1.161292\n",
       "6  foo    one -2.806363 -1.308144\n",
       "7  foo  three -1.226200 -0.522922"
      ]
     },
     "execution_count": 186,
     "metadata": {},
     "output_type": "execute_result"
    }
   ],
   "source": [
    "newG.reset_index(drop=True,level=(0,1)).sort_index()\n",
    "\n",
    "# groupby 로 계산을 하고, 원래 8x4 형태로 되돌아 옴.\n",
    "# 기존 (groupby 이전) df 에 계산된 값을 업데이트 할 수 있음. "
   ]
  },
  {
   "cell_type": "code",
   "execution_count": 187,
   "metadata": {},
   "outputs": [
    {
     "name": "stdout",
     "output_type": "stream",
     "text": [
      "     A    B         C         D\n",
      "1  bar  one  0.122473 -0.101776\n",
      "A         bar\n",
      "B         one\n",
      "C    0.122473\n",
      "D   -0.101776\n",
      "dtype: object\n",
      "     A      B         C        D\n",
      "3  bar  three -0.104899  0.15317\n",
      "A         bar\n",
      "B       three\n",
      "C   -0.104899\n",
      "D     0.15317\n",
      "dtype: object\n",
      "     A    B         C         D\n",
      "5  bar  two -1.928426  1.161292\n",
      "A         bar\n",
      "B         two\n",
      "C   -1.928426\n",
      "D    1.161292\n",
      "dtype: object\n",
      "     A    B         C         D\n",
      "0  foo  one -1.306910 -0.611445\n",
      "6  foo  one -1.499453 -1.308144\n",
      "A      foofoo\n",
      "B      oneone\n",
      "C   -2.806363\n",
      "D   -1.919589\n",
      "dtype: object\n",
      "     A      B       C         D\n",
      "7  foo  three -1.2262 -0.522922\n",
      "A         foo\n",
      "B       three\n",
      "C     -1.2262\n",
      "D   -0.522922\n",
      "dtype: object\n",
      "     A    B         C         D\n",
      "2  foo  two  1.771779 -0.249892\n",
      "4  foo  two  0.223779 -0.298740\n",
      "A      foofoo\n",
      "B      twotwo\n",
      "C    1.995558\n",
      "D   -0.548632\n",
      "dtype: object\n"
     ]
    },
    {
     "data": {
      "text/html": [
       "<div>\n",
       "<style scoped>\n",
       "    .dataframe tbody tr th:only-of-type {\n",
       "        vertical-align: middle;\n",
       "    }\n",
       "\n",
       "    .dataframe tbody tr th {\n",
       "        vertical-align: top;\n",
       "    }\n",
       "\n",
       "    .dataframe thead th {\n",
       "        text-align: right;\n",
       "    }\n",
       "</style>\n",
       "<table border=\"1\" class=\"dataframe\">\n",
       "  <thead>\n",
       "    <tr style=\"text-align: right;\">\n",
       "      <th></th>\n",
       "      <th></th>\n",
       "      <th>A</th>\n",
       "      <th>B</th>\n",
       "      <th>C</th>\n",
       "      <th>D</th>\n",
       "    </tr>\n",
       "    <tr>\n",
       "      <th>A</th>\n",
       "      <th>B</th>\n",
       "      <th></th>\n",
       "      <th></th>\n",
       "      <th></th>\n",
       "      <th></th>\n",
       "    </tr>\n",
       "  </thead>\n",
       "  <tbody>\n",
       "    <tr>\n",
       "      <th rowspan=\"3\" valign=\"top\">bar</th>\n",
       "      <th>one</th>\n",
       "      <td>bar</td>\n",
       "      <td>one</td>\n",
       "      <td>0.122473</td>\n",
       "      <td>-0.101776</td>\n",
       "    </tr>\n",
       "    <tr>\n",
       "      <th>three</th>\n",
       "      <td>bar</td>\n",
       "      <td>three</td>\n",
       "      <td>-0.104899</td>\n",
       "      <td>0.153170</td>\n",
       "    </tr>\n",
       "    <tr>\n",
       "      <th>two</th>\n",
       "      <td>bar</td>\n",
       "      <td>two</td>\n",
       "      <td>-1.928426</td>\n",
       "      <td>1.161292</td>\n",
       "    </tr>\n",
       "    <tr>\n",
       "      <th rowspan=\"3\" valign=\"top\">foo</th>\n",
       "      <th>one</th>\n",
       "      <td>foofoo</td>\n",
       "      <td>oneone</td>\n",
       "      <td>-2.806363</td>\n",
       "      <td>-1.919589</td>\n",
       "    </tr>\n",
       "    <tr>\n",
       "      <th>three</th>\n",
       "      <td>foo</td>\n",
       "      <td>three</td>\n",
       "      <td>-1.226200</td>\n",
       "      <td>-0.522922</td>\n",
       "    </tr>\n",
       "    <tr>\n",
       "      <th>two</th>\n",
       "      <td>foofoo</td>\n",
       "      <td>twotwo</td>\n",
       "      <td>1.995558</td>\n",
       "      <td>-0.548632</td>\n",
       "    </tr>\n",
       "  </tbody>\n",
       "</table>\n",
       "</div>"
      ],
      "text/plain": [
       "                A       B         C         D\n",
       "A   B                                        \n",
       "bar one       bar     one  0.122473 -0.101776\n",
       "    three     bar   three -0.104899  0.153170\n",
       "    two       bar     two -1.928426  1.161292\n",
       "foo one    foofoo  oneone -2.806363 -1.919589\n",
       "    three     foo   three -1.226200 -0.522922\n",
       "    two    foofoo  twotwo  1.995558 -0.548632"
      ]
     },
     "execution_count": 187,
     "metadata": {},
     "output_type": "execute_result"
    }
   ],
   "source": [
    "def funX(groupbyKey : pd.DataFrame.groupby) -> pd.Series.groupby:\n",
    "    print(groupbyKey)\n",
    "    groupbyKey = groupbyKey.sum()\n",
    "    print(groupbyKey)  # 전체 columns 의 sum 결과인 Series\n",
    "    # groupbyKey = groupbyKey+1  # 은 받은 DataFrame.groupby 을 리턴한다.\n",
    "    return groupbyKey\n",
    "\n",
    "df_g.groupby(['A','B']).apply(funX)\n",
    "\n",
    "# A,B str 까지 sum 됨. (multi-index)\n",
    "# foofoo  oneone twotwo"
   ]
  },
  {
   "cell_type": "code",
   "execution_count": 96,
   "metadata": {},
   "outputs": [
    {
     "name": "stdout",
     "output_type": "stream",
     "text": [
      "1    0.084099\n",
      "Name: C, dtype: float64\n",
      "0.08409864249418036\n",
      "1   -0.032709\n",
      "Name: D, dtype: float64\n",
      "-0.03270935806248771\n",
      "          C         D\n",
      "1  0.084099 -0.032709\n",
      "C    0.084099\n",
      "D   -0.032709\n",
      "dtype: float64\n",
      "          C         D\n",
      "3  1.193635  0.829713\n",
      "C    1.193635\n",
      "D    0.829713\n",
      "dtype: float64\n",
      "          C         D\n",
      "5 -2.299704  1.610747\n",
      "C   -2.299704\n",
      "D    1.610747\n",
      "dtype: float64\n",
      "          C         D\n",
      "0 -0.606588 -1.371519\n",
      "6  0.610095 -0.781407\n",
      "C    0.003507\n",
      "D   -2.152926\n",
      "dtype: float64\n",
      "          C         D\n",
      "7  0.338359  1.560452\n",
      "C    0.338359\n",
      "D    1.560452\n",
      "dtype: float64\n",
      "          C         D\n",
      "2  0.741690 -0.898066\n",
      "4  0.110306  1.859073\n",
      "C    0.851996\n",
      "D    0.961007\n",
      "dtype: float64\n"
     ]
    },
    {
     "data": {
      "text/html": [
       "<div>\n",
       "<style scoped>\n",
       "    .dataframe tbody tr th:only-of-type {\n",
       "        vertical-align: middle;\n",
       "    }\n",
       "\n",
       "    .dataframe tbody tr th {\n",
       "        vertical-align: top;\n",
       "    }\n",
       "\n",
       "    .dataframe thead th {\n",
       "        text-align: right;\n",
       "    }\n",
       "</style>\n",
       "<table border=\"1\" class=\"dataframe\">\n",
       "  <thead>\n",
       "    <tr style=\"text-align: right;\">\n",
       "      <th></th>\n",
       "      <th>C</th>\n",
       "      <th>D</th>\n",
       "    </tr>\n",
       "  </thead>\n",
       "  <tbody>\n",
       "    <tr>\n",
       "      <th>0</th>\n",
       "      <td>0.003507</td>\n",
       "      <td>-2.152926</td>\n",
       "    </tr>\n",
       "    <tr>\n",
       "      <th>1</th>\n",
       "      <td>0.084099</td>\n",
       "      <td>-0.032709</td>\n",
       "    </tr>\n",
       "    <tr>\n",
       "      <th>2</th>\n",
       "      <td>0.851996</td>\n",
       "      <td>0.961007</td>\n",
       "    </tr>\n",
       "    <tr>\n",
       "      <th>3</th>\n",
       "      <td>1.193635</td>\n",
       "      <td>0.829713</td>\n",
       "    </tr>\n",
       "    <tr>\n",
       "      <th>4</th>\n",
       "      <td>0.851996</td>\n",
       "      <td>0.961007</td>\n",
       "    </tr>\n",
       "    <tr>\n",
       "      <th>5</th>\n",
       "      <td>-2.299704</td>\n",
       "      <td>1.610747</td>\n",
       "    </tr>\n",
       "    <tr>\n",
       "      <th>6</th>\n",
       "      <td>0.003507</td>\n",
       "      <td>-2.152926</td>\n",
       "    </tr>\n",
       "    <tr>\n",
       "      <th>7</th>\n",
       "      <td>0.338359</td>\n",
       "      <td>1.560452</td>\n",
       "    </tr>\n",
       "  </tbody>\n",
       "</table>\n",
       "</div>"
      ],
      "text/plain": [
       "          C         D\n",
       "0  0.003507 -2.152926\n",
       "1  0.084099 -0.032709\n",
       "2  0.851996  0.961007\n",
       "3  1.193635  0.829713\n",
       "4  0.851996  0.961007\n",
       "5 -2.299704  1.610747\n",
       "6  0.003507 -2.152926\n",
       "7  0.338359  1.560452"
      ]
     },
     "execution_count": 96,
     "metadata": {},
     "output_type": "execute_result"
    }
   ],
   "source": [
    "# 연산할 컬럼을 정의하지 않은 경우\n",
    "# 연산 가능한 컬럼만 연산하여 리턴한다. (기존 인덱스 유지)\n",
    "\n",
    "df_g.groupby(['A','B']).transform(funX)"
   ]
  },
  {
   "cell_type": "code",
   "execution_count": 188,
   "metadata": {},
   "outputs": [
    {
     "data": {
      "text/plain": [
       "A    B    \n",
       "bar  one                           [0.12247300570369539]\n",
       "     three                        [-0.10489912481793448]\n",
       "     two                           [-1.9284257038444086]\n",
       "foo  one      [-1.3069104455072258, -1.4994528649545762]\n",
       "     three                         [-1.2261999881760535]\n",
       "     two       [1.7717789934729768, 0.22377917812934364]\n",
       "Name: C, dtype: object"
      ]
     },
     "execution_count": 188,
     "metadata": {},
     "output_type": "execute_result"
    }
   ],
   "source": [
    "df_g.groupby(['A','B'])['C'].apply(list)\n",
    "\n",
    "# 전달되는 index 와 C columns, 즉 series 을 볼수 있다."
   ]
  },
  {
   "cell_type": "code",
   "execution_count": 100,
   "metadata": {},
   "outputs": [
    {
     "name": "stdout",
     "output_type": "stream",
     "text": [
      "1    0.084099\n",
      "Name: (bar, one), dtype: float64\n",
      "0.08409864249418036\n",
      "3    1.193635\n",
      "Name: (bar, three), dtype: float64\n",
      "1.193634942180474\n",
      "5   -2.299704\n",
      "Name: (bar, two), dtype: float64\n",
      "-2.2997041273202625\n",
      "0   -0.606588\n",
      "6    0.610095\n",
      "Name: (foo, one), dtype: float64\n",
      "0.003506552544479735\n",
      "7    0.338359\n",
      "Name: (foo, three), dtype: float64\n",
      "0.33835911135095004\n",
      "2    0.741690\n",
      "4    0.110306\n",
      "Name: (foo, two), dtype: float64\n",
      "0.8519964132846954\n"
     ]
    },
    {
     "data": {
      "text/plain": [
       "A    B    \n",
       "bar  one      0.084099\n",
       "     three    1.193635\n",
       "     two     -2.299704\n",
       "foo  one      0.003507\n",
       "     three    0.338359\n",
       "     two      0.851996\n",
       "Name: C, dtype: float64"
      ]
     },
     "execution_count": 100,
     "metadata": {},
     "output_type": "execute_result"
    }
   ],
   "source": [
    "# 6개 유닉크한 AB 조합의 C (Series)가 전달됨 (bar,one) 부터 (foo,two)까지\n",
    "\n",
    "def funX(g_SE : pd.Series.groupby) -> pd.Series.values:\n",
    "    print(g_SE)\n",
    "    g_SE = g_SE.sum()\n",
    "    print(g_SE)\n",
    "    return g_SE\n",
    "\n",
    "df_g.groupby(['A','B'])['C'].apply(funX)\n",
    "\n",
    "# funX 에서는 series을 다뤄야 한다."
   ]
  },
  {
   "cell_type": "code",
   "execution_count": 101,
   "metadata": {},
   "outputs": [
    {
     "name": "stdout",
     "output_type": "stream",
     "text": [
      "1    0.084099\n",
      "Name: (bar, one), dtype: float64\n",
      "0.08409864249418036\n",
      "3    1.193635\n",
      "Name: (bar, three), dtype: float64\n",
      "1.193634942180474\n",
      "5   -2.299704\n",
      "Name: (bar, two), dtype: float64\n",
      "-2.2997041273202625\n",
      "0   -0.606588\n",
      "6    0.610095\n",
      "Name: (foo, one), dtype: float64\n",
      "0.003506552544479735\n",
      "7    0.338359\n",
      "Name: (foo, three), dtype: float64\n",
      "0.33835911135095004\n",
      "2    0.741690\n",
      "4    0.110306\n",
      "Name: (foo, two), dtype: float64\n",
      "0.8519964132846954\n"
     ]
    },
    {
     "data": {
      "text/plain": [
       "0    0.003507\n",
       "1    0.084099\n",
       "2    0.851996\n",
       "3    1.193635\n",
       "4    0.851996\n",
       "5   -2.299704\n",
       "6    0.003507\n",
       "7    0.338359\n",
       "Name: C, dtype: float64"
      ]
     },
     "execution_count": 101,
     "metadata": {},
     "output_type": "execute_result"
    }
   ],
   "source": [
    "df_g.groupby(['A','B'])['C'].transform(funX)\n",
    "\n",
    "# 연산 밖에서 컬럼을 정의하면, apply랑 결과가 같지만, "
   ]
  },
  {
   "cell_type": "code",
   "execution_count": 190,
   "metadata": {},
   "outputs": [
    {
     "name": "stdout",
     "output_type": "stream",
     "text": [
      "     A    B         C         D\n",
      "1  bar  one  0.122473 -0.101776\n",
      "0.12247300570369539\n",
      "     A      B         C        D\n",
      "3  bar  three -0.104899  0.15317\n",
      "-0.10489912481793448\n",
      "     A    B         C         D\n",
      "5  bar  two -1.928426  1.161292\n",
      "-1.9284257038444086\n",
      "     A    B         C         D\n",
      "0  foo  one -1.306910 -0.611445\n",
      "6  foo  one -1.499453 -1.308144\n",
      "-2.806363310461802\n",
      "     A      B       C         D\n",
      "7  foo  three -1.2262 -0.522922\n",
      "-1.2261999881760535\n",
      "     A    B         C         D\n",
      "2  foo  two  1.771779 -0.249892\n",
      "4  foo  two  0.223779 -0.298740\n",
      "1.9955581716023205\n"
     ]
    },
    {
     "data": {
      "text/plain": [
       "A    B    \n",
       "bar  one      0.122473\n",
       "     three   -0.104899\n",
       "     two     -1.928426\n",
       "foo  one     -2.806363\n",
       "     three   -1.226200\n",
       "     two      1.995558\n",
       "dtype: float64"
      ]
     },
     "execution_count": 190,
     "metadata": {},
     "output_type": "execute_result"
    }
   ],
   "source": [
    "def funX(groupbyKey :pd.DataFrame.groupby) -> pd.Series.values :\n",
    "    print(groupbyKey)\n",
    "    g_SE =  groupbyKey['C'].sum()       # 전달 받은 groupby 별 C 컬럼들 의 sum  : groupby 갯수만큼 리턴\n",
    "    print(g_SE)\n",
    "    return g_SE\n",
    "\n",
    "df_g.groupby(['A','B']).apply(funX)"
   ]
  },
  {
   "cell_type": "code",
   "execution_count": 191,
   "metadata": {},
   "outputs": [
    {
     "name": "stdout",
     "output_type": "stream",
     "text": [
      "1    0.122473\n",
      "Name: (bar, one), dtype: float64\n",
      "1    1.122473\n",
      "Name: (bar, one), dtype: float64\n",
      "3   -0.104899\n",
      "Name: (bar, three), dtype: float64\n",
      "3    0.895101\n",
      "Name: (bar, three), dtype: float64\n",
      "5   -1.928426\n",
      "Name: (bar, two), dtype: float64\n",
      "5   -0.928426\n",
      "Name: (bar, two), dtype: float64\n",
      "0   -1.306910\n",
      "6   -1.499453\n",
      "Name: (foo, one), dtype: float64\n",
      "0    0.693090\n",
      "6    0.500547\n",
      "Name: (foo, one), dtype: float64\n",
      "7   -1.2262\n",
      "Name: (foo, three), dtype: float64\n",
      "7   -0.2262\n",
      "Name: (foo, three), dtype: float64\n",
      "2    1.771779\n",
      "4    0.223779\n",
      "Name: (foo, two), dtype: float64\n",
      "2    3.771779\n",
      "4    2.223779\n",
      "Name: (foo, two), dtype: float64\n"
     ]
    },
    {
     "data": {
      "text/plain": [
       "A    B       \n",
       "bar  one    1    1.122473\n",
       "     three  3    0.895101\n",
       "     two    5   -0.928426\n",
       "foo  one    0    0.693090\n",
       "            6    0.500547\n",
       "     three  7   -0.226200\n",
       "     two    2    3.771779\n",
       "            4    2.223779\n",
       "Name: C, dtype: float64"
      ]
     },
     "execution_count": 191,
     "metadata": {},
     "output_type": "execute_result"
    }
   ],
   "source": [
    "def funX(g_SE : pd.Series.groupby) -> pd.Series.groupby:\n",
    "    print(g_SE)\n",
    "    if g_SE.shape[0] == 2:   # groupby index 에 따라 다르게 계산 \n",
    "        g_SE = g_SE + 2\n",
    "    else :\n",
    "        g_SE = g_SE+1 \n",
    "    print(g_SE)\n",
    "    return g_SE  # 전달 받은 group 형태 그대로 전달한다.\n",
    "\n",
    "myg_S = df_g.groupby(['A','B'])['C'].apply(funX)\n",
    "myg_S"
   ]
  },
  {
   "cell_type": "code",
   "execution_count": 193,
   "metadata": {},
   "outputs": [
    {
     "data": {
      "text/plain": [
       "A    B       \n",
       "bar  one    1    1.122473\n",
       "     three  3    0.895101\n",
       "     two    5   -0.928426\n",
       "foo  one    0    0.693090\n",
       "            6    0.500547\n",
       "     three  7   -0.226200\n",
       "     two    2    3.771779\n",
       "            4    2.223779\n",
       "Name: C, dtype: float64"
      ]
     },
     "execution_count": 193,
     "metadata": {},
     "output_type": "execute_result"
    }
   ],
   "source": [
    "# 동일하게 groupby 로 구성된 index 을 삭제하고, 기존 index 을 복구해야 한다. \n",
    "\n",
    "myg_S"
   ]
  },
  {
   "cell_type": "code",
   "execution_count": 194,
   "metadata": {},
   "outputs": [
    {
     "data": {
      "text/plain": [
       "0    0.693090\n",
       "1    1.122473\n",
       "2    3.771779\n",
       "3    0.895101\n",
       "4    2.223779\n",
       "5   -0.928426\n",
       "6    0.500547\n",
       "7   -0.226200\n",
       "Name: C, dtype: float64"
      ]
     },
     "execution_count": 194,
     "metadata": {},
     "output_type": "execute_result"
    }
   ],
   "source": [
    "myg_S.reset_index(drop=True, level=(0,1)).sort_index()\n",
    "\n",
    "# 이제야 기존 (groupby 이전) df['C'] 에 해당 값을 없데이트 할 수 있음. "
   ]
  },
  {
   "attachments": {},
   "cell_type": "markdown",
   "metadata": {},
   "source": [
    "groupby().transform(funcX)\n",
    "\n",
    "기존 인덱스별로 계산을 한다.   \n",
    "groupby().transform() = grouby().apply().reset_index().sort_index()"
   ]
  },
  {
   "cell_type": "code",
   "execution_count": 198,
   "metadata": {},
   "outputs": [
    {
     "name": "stdout",
     "output_type": "stream",
     "text": [
      "1    0.122473\n",
      "Name: (bar, one), dtype: float64\n",
      "1    1.122473\n",
      "Name: (bar, one), dtype: float64\n",
      "3   -0.104899\n",
      "Name: (bar, three), dtype: float64\n",
      "3    0.895101\n",
      "Name: (bar, three), dtype: float64\n",
      "5   -1.928426\n",
      "Name: (bar, two), dtype: float64\n",
      "5   -0.928426\n",
      "Name: (bar, two), dtype: float64\n",
      "0   -1.306910\n",
      "6   -1.499453\n",
      "Name: (foo, one), dtype: float64\n",
      "0    0.693090\n",
      "6    0.500547\n",
      "Name: (foo, one), dtype: float64\n",
      "7   -1.2262\n",
      "Name: (foo, three), dtype: float64\n",
      "7   -0.2262\n",
      "Name: (foo, three), dtype: float64\n",
      "2    1.771779\n",
      "4    0.223779\n",
      "Name: (foo, two), dtype: float64\n",
      "2    3.771779\n",
      "4    2.223779\n",
      "Name: (foo, two), dtype: float64\n"
     ]
    },
    {
     "data": {
      "text/plain": [
       "0    0.693090\n",
       "1    1.122473\n",
       "2    3.771779\n",
       "3    0.895101\n",
       "4    2.223779\n",
       "5   -0.928426\n",
       "6    0.500547\n",
       "7   -0.226200\n",
       "Name: C, dtype: float64"
      ]
     },
     "execution_count": 198,
     "metadata": {},
     "output_type": "execute_result"
    }
   ],
   "source": [
    "df_g.groupby(['A','B'])['C'].transform(funX)"
   ]
  },
  {
   "cell_type": "code",
   "execution_count": 642,
   "metadata": {},
   "outputs": [
    {
     "data": {
      "text/plain": [
       "0    [1, 3]\n",
       "1       [2]\n",
       "dtype: object"
      ]
     },
     "execution_count": 642,
     "metadata": {},
     "output_type": "execute_result"
    }
   ],
   "source": [
    "pd.Series([[1,3],[2]])"
   ]
  },
  {
   "cell_type": "code",
   "execution_count": 643,
   "metadata": {},
   "outputs": [
    {
     "data": {
      "text/html": [
       "<div>\n",
       "<style scoped>\n",
       "    .dataframe tbody tr th:only-of-type {\n",
       "        vertical-align: middle;\n",
       "    }\n",
       "\n",
       "    .dataframe tbody tr th {\n",
       "        vertical-align: top;\n",
       "    }\n",
       "\n",
       "    .dataframe thead th {\n",
       "        text-align: right;\n",
       "    }\n",
       "</style>\n",
       "<table border=\"1\" class=\"dataframe\">\n",
       "  <thead>\n",
       "    <tr style=\"text-align: right;\">\n",
       "      <th></th>\n",
       "      <th>0</th>\n",
       "      <th>1</th>\n",
       "    </tr>\n",
       "  </thead>\n",
       "  <tbody>\n",
       "    <tr>\n",
       "      <th>0</th>\n",
       "      <td>1</td>\n",
       "      <td>3.0</td>\n",
       "    </tr>\n",
       "    <tr>\n",
       "      <th>1</th>\n",
       "      <td>2</td>\n",
       "      <td>NaN</td>\n",
       "    </tr>\n",
       "  </tbody>\n",
       "</table>\n",
       "</div>"
      ],
      "text/plain": [
       "   0    1\n",
       "0  1  3.0\n",
       "1  2  NaN"
      ]
     },
     "execution_count": 643,
     "metadata": {},
     "output_type": "execute_result"
    }
   ],
   "source": [
    "pd.DataFrame([[1,3],[2]])"
   ]
  },
  {
   "cell_type": "code",
   "execution_count": 644,
   "metadata": {},
   "outputs": [
    {
     "data": {
      "text/html": [
       "<div>\n",
       "<style scoped>\n",
       "    .dataframe tbody tr th:only-of-type {\n",
       "        vertical-align: middle;\n",
       "    }\n",
       "\n",
       "    .dataframe tbody tr th {\n",
       "        vertical-align: top;\n",
       "    }\n",
       "\n",
       "    .dataframe thead tr th {\n",
       "        text-align: left;\n",
       "    }\n",
       "\n",
       "    .dataframe thead tr:last-of-type th {\n",
       "        text-align: right;\n",
       "    }\n",
       "</style>\n",
       "<table border=\"1\" class=\"dataframe\">\n",
       "  <thead>\n",
       "    <tr>\n",
       "      <th></th>\n",
       "      <th colspan=\"2\" halign=\"left\">C</th>\n",
       "    </tr>\n",
       "    <tr>\n",
       "      <th>A</th>\n",
       "      <th>bar</th>\n",
       "      <th>foo</th>\n",
       "    </tr>\n",
       "    <tr>\n",
       "      <th>B</th>\n",
       "      <th></th>\n",
       "      <th></th>\n",
       "    </tr>\n",
       "  </thead>\n",
       "  <tbody>\n",
       "    <tr>\n",
       "      <th>one</th>\n",
       "      <td>0.799757</td>\n",
       "      <td>2.606813</td>\n",
       "    </tr>\n",
       "    <tr>\n",
       "      <th>three</th>\n",
       "      <td>-1.129951</td>\n",
       "      <td>0.217999</td>\n",
       "    </tr>\n",
       "    <tr>\n",
       "      <th>two</th>\n",
       "      <td>-0.321869</td>\n",
       "      <td>-0.013941</td>\n",
       "    </tr>\n",
       "  </tbody>\n",
       "</table>\n",
       "</div>"
      ],
      "text/plain": [
       "              C          \n",
       "A           bar       foo\n",
       "B                        \n",
       "one    0.799757  2.606813\n",
       "three -1.129951  0.217999\n",
       "two   -0.321869 -0.013941"
      ]
     },
     "execution_count": 644,
     "metadata": {},
     "output_type": "execute_result"
    }
   ],
   "source": [
    "df_g.groupby(['A','B'])[['C']].sum().unstack(level=0)  # B 을 는 levle = 1"
   ]
  },
  {
   "attachments": {},
   "cell_type": "markdown",
   "metadata": {},
   "source": [
    "### 8. Reshaping\n",
    "\n",
    "```\n",
    "reshpae(-1)\n",
    "stack    : index <--- columns  \n",
    "unstack  : index ---> columns  \n",
    "pivot table\n",
    "```"
   ]
  },
  {
   "cell_type": "code",
   "execution_count": 645,
   "metadata": {},
   "outputs": [
    {
     "data": {
      "text/html": [
       "<div>\n",
       "<style scoped>\n",
       "    .dataframe tbody tr th:only-of-type {\n",
       "        vertical-align: middle;\n",
       "    }\n",
       "\n",
       "    .dataframe tbody tr th {\n",
       "        vertical-align: top;\n",
       "    }\n",
       "\n",
       "    .dataframe thead th {\n",
       "        text-align: right;\n",
       "    }\n",
       "</style>\n",
       "<table border=\"1\" class=\"dataframe\">\n",
       "  <thead>\n",
       "    <tr style=\"text-align: right;\">\n",
       "      <th></th>\n",
       "      <th></th>\n",
       "      <th>C</th>\n",
       "    </tr>\n",
       "    <tr>\n",
       "      <th>A</th>\n",
       "      <th>B</th>\n",
       "      <th></th>\n",
       "    </tr>\n",
       "  </thead>\n",
       "  <tbody>\n",
       "    <tr>\n",
       "      <th>foo</th>\n",
       "      <th>one</th>\n",
       "      <td>1.884121</td>\n",
       "    </tr>\n",
       "    <tr>\n",
       "      <th>bar</th>\n",
       "      <th>one</th>\n",
       "      <td>0.799757</td>\n",
       "    </tr>\n",
       "    <tr>\n",
       "      <th>foo</th>\n",
       "      <th>two</th>\n",
       "      <td>-0.479883</td>\n",
       "    </tr>\n",
       "    <tr>\n",
       "      <th>bar</th>\n",
       "      <th>three</th>\n",
       "      <td>-1.129951</td>\n",
       "    </tr>\n",
       "    <tr>\n",
       "      <th>foo</th>\n",
       "      <th>two</th>\n",
       "      <td>0.465942</td>\n",
       "    </tr>\n",
       "    <tr>\n",
       "      <th>bar</th>\n",
       "      <th>two</th>\n",
       "      <td>-0.321869</td>\n",
       "    </tr>\n",
       "    <tr>\n",
       "      <th rowspan=\"2\" valign=\"top\">foo</th>\n",
       "      <th>one</th>\n",
       "      <td>0.722692</td>\n",
       "    </tr>\n",
       "    <tr>\n",
       "      <th>three</th>\n",
       "      <td>0.217999</td>\n",
       "    </tr>\n",
       "  </tbody>\n",
       "</table>\n",
       "</div>"
      ],
      "text/plain": [
       "                  C\n",
       "A   B              \n",
       "foo one    1.884121\n",
       "bar one    0.799757\n",
       "foo two   -0.479883\n",
       "bar three -1.129951\n",
       "foo two    0.465942\n",
       "bar two   -0.321869\n",
       "foo one    0.722692\n",
       "    three  0.217999"
      ]
     },
     "execution_count": 645,
     "metadata": {},
     "output_type": "execute_result"
    }
   ],
   "source": [
    "df_g.set_index(['A','B'])[['C']]#.unstack()\n",
    "\n",
    "# Index contains duplicate entries, cannot reshape : 'foo one' 이 중복된다. \n",
    "# df.drop_duplicates(subset=['index','column']) 으로 해결"
   ]
  },
  {
   "attachments": {},
   "cell_type": "markdown",
   "metadata": {},
   "source": [
    "drop_duplicates\n",
    "\n",
    "subset : 중복을 검사할 column \n",
    "keep: 중복값중 남길 행\n",
    "\n",
    "df.drop ()\n",
    "axis = 0/1 (행/열)     조건이 있는 경우 slicing 을 이용하자 "
   ]
  },
  {
   "cell_type": "code",
   "execution_count": 646,
   "metadata": {},
   "outputs": [
    {
     "data": {
      "text/html": [
       "<div>\n",
       "<style scoped>\n",
       "    .dataframe tbody tr th:only-of-type {\n",
       "        vertical-align: middle;\n",
       "    }\n",
       "\n",
       "    .dataframe tbody tr th {\n",
       "        vertical-align: top;\n",
       "    }\n",
       "\n",
       "    .dataframe thead th {\n",
       "        text-align: right;\n",
       "    }\n",
       "</style>\n",
       "<table border=\"1\" class=\"dataframe\">\n",
       "  <thead>\n",
       "    <tr style=\"text-align: right;\">\n",
       "      <th></th>\n",
       "      <th>A</th>\n",
       "      <th>B</th>\n",
       "      <th>C</th>\n",
       "      <th>D</th>\n",
       "    </tr>\n",
       "  </thead>\n",
       "  <tbody>\n",
       "    <tr>\n",
       "      <th>0</th>\n",
       "      <td>foo</td>\n",
       "      <td>one</td>\n",
       "      <td>1.884121</td>\n",
       "      <td>-0.030442</td>\n",
       "    </tr>\n",
       "    <tr>\n",
       "      <th>1</th>\n",
       "      <td>bar</td>\n",
       "      <td>one</td>\n",
       "      <td>0.799757</td>\n",
       "      <td>-0.890684</td>\n",
       "    </tr>\n",
       "    <tr>\n",
       "      <th>2</th>\n",
       "      <td>foo</td>\n",
       "      <td>two</td>\n",
       "      <td>-0.479883</td>\n",
       "      <td>-0.892886</td>\n",
       "    </tr>\n",
       "    <tr>\n",
       "      <th>3</th>\n",
       "      <td>bar</td>\n",
       "      <td>three</td>\n",
       "      <td>-1.129951</td>\n",
       "      <td>-0.339948</td>\n",
       "    </tr>\n",
       "    <tr>\n",
       "      <th>4</th>\n",
       "      <td>bar</td>\n",
       "      <td>two</td>\n",
       "      <td>-0.321869</td>\n",
       "      <td>-0.775405</td>\n",
       "    </tr>\n",
       "    <tr>\n",
       "      <th>5</th>\n",
       "      <td>foo</td>\n",
       "      <td>three</td>\n",
       "      <td>0.217999</td>\n",
       "      <td>0.376879</td>\n",
       "    </tr>\n",
       "  </tbody>\n",
       "</table>\n",
       "</div>"
      ],
      "text/plain": [
       "     A      B         C         D\n",
       "0  foo    one  1.884121 -0.030442\n",
       "1  bar    one  0.799757 -0.890684\n",
       "2  foo    two -0.479883 -0.892886\n",
       "3  bar  three -1.129951 -0.339948\n",
       "4  bar    two -0.321869 -0.775405\n",
       "5  foo  three  0.217999  0.376879"
      ]
     },
     "execution_count": 646,
     "metadata": {},
     "output_type": "execute_result"
    }
   ],
   "source": [
    "# df_g2 = df_g.drop([6,2]).reset_index(drop=True) \n",
    "# A,B 열 값이 중복되는 2, 6 row을 삭제\n",
    "\n",
    "df_g2 = df_g.drop_duplicates(subset=['A','B'],keep='first', ignore_index=True).copy()  # inplace = True 으로 원본 적용\n",
    "\n",
    "df_g2"
   ]
  },
  {
   "cell_type": "code",
   "execution_count": 647,
   "metadata": {},
   "outputs": [
    {
     "data": {
      "text/html": [
       "<div>\n",
       "<style scoped>\n",
       "    .dataframe tbody tr th:only-of-type {\n",
       "        vertical-align: middle;\n",
       "    }\n",
       "\n",
       "    .dataframe tbody tr th {\n",
       "        vertical-align: top;\n",
       "    }\n",
       "\n",
       "    .dataframe thead tr th {\n",
       "        text-align: left;\n",
       "    }\n",
       "\n",
       "    .dataframe thead tr:last-of-type th {\n",
       "        text-align: right;\n",
       "    }\n",
       "</style>\n",
       "<table border=\"1\" class=\"dataframe\">\n",
       "  <thead>\n",
       "    <tr>\n",
       "      <th></th>\n",
       "      <th colspan=\"3\" halign=\"left\">C</th>\n",
       "    </tr>\n",
       "    <tr>\n",
       "      <th>B</th>\n",
       "      <th>one</th>\n",
       "      <th>three</th>\n",
       "      <th>two</th>\n",
       "    </tr>\n",
       "    <tr>\n",
       "      <th>A</th>\n",
       "      <th></th>\n",
       "      <th></th>\n",
       "      <th></th>\n",
       "    </tr>\n",
       "  </thead>\n",
       "  <tbody>\n",
       "    <tr>\n",
       "      <th>bar</th>\n",
       "      <td>0.799757</td>\n",
       "      <td>-1.129951</td>\n",
       "      <td>-0.321869</td>\n",
       "    </tr>\n",
       "    <tr>\n",
       "      <th>foo</th>\n",
       "      <td>1.884121</td>\n",
       "      <td>0.217999</td>\n",
       "      <td>-0.479883</td>\n",
       "    </tr>\n",
       "  </tbody>\n",
       "</table>\n",
       "</div>"
      ],
      "text/plain": [
       "            C                    \n",
       "B         one     three       two\n",
       "A                                \n",
       "bar  0.799757 -1.129951 -0.321869\n",
       "foo  1.884121  0.217999 -0.479883"
      ]
     },
     "execution_count": 647,
     "metadata": {},
     "output_type": "execute_result"
    }
   ],
   "source": [
    "df_g2.set_index(['A','B'])[['C']].unstack()"
   ]
  },
  {
   "cell_type": "code",
   "execution_count": 648,
   "metadata": {},
   "outputs": [
    {
     "data": {
      "text/html": [
       "<div>\n",
       "<style scoped>\n",
       "    .dataframe tbody tr th:only-of-type {\n",
       "        vertical-align: middle;\n",
       "    }\n",
       "\n",
       "    .dataframe tbody tr th {\n",
       "        vertical-align: top;\n",
       "    }\n",
       "\n",
       "    .dataframe thead th {\n",
       "        text-align: right;\n",
       "    }\n",
       "</style>\n",
       "<table border=\"1\" class=\"dataframe\">\n",
       "  <thead>\n",
       "    <tr style=\"text-align: right;\">\n",
       "      <th>B</th>\n",
       "      <th>one</th>\n",
       "      <th>three</th>\n",
       "      <th>two</th>\n",
       "    </tr>\n",
       "    <tr>\n",
       "      <th>A</th>\n",
       "      <th></th>\n",
       "      <th></th>\n",
       "      <th></th>\n",
       "    </tr>\n",
       "  </thead>\n",
       "  <tbody>\n",
       "    <tr>\n",
       "      <th>bar</th>\n",
       "      <td>0.799757</td>\n",
       "      <td>-1.129951</td>\n",
       "      <td>-0.321869</td>\n",
       "    </tr>\n",
       "    <tr>\n",
       "      <th>foo</th>\n",
       "      <td>1.884121</td>\n",
       "      <td>0.217999</td>\n",
       "      <td>-0.479883</td>\n",
       "    </tr>\n",
       "  </tbody>\n",
       "</table>\n",
       "</div>"
      ],
      "text/plain": [
       "B         one     three       two\n",
       "A                                \n",
       "bar  0.799757 -1.129951 -0.321869\n",
       "foo  1.884121  0.217999 -0.479883"
      ]
     },
     "execution_count": 648,
     "metadata": {},
     "output_type": "execute_result"
    }
   ],
   "source": [
    "df_g2.pivot(index='A',columns='B',values='C')"
   ]
  },
  {
   "attachments": {},
   "cell_type": "markdown",
   "metadata": {},
   "source": [
    "pivot_table()"
   ]
  },
  {
   "cell_type": "code",
   "execution_count": 649,
   "metadata": {},
   "outputs": [
    {
     "data": {
      "text/html": [
       "<div>\n",
       "<style scoped>\n",
       "    .dataframe tbody tr th:only-of-type {\n",
       "        vertical-align: middle;\n",
       "    }\n",
       "\n",
       "    .dataframe tbody tr th {\n",
       "        vertical-align: top;\n",
       "    }\n",
       "\n",
       "    .dataframe thead th {\n",
       "        text-align: right;\n",
       "    }\n",
       "</style>\n",
       "<table border=\"1\" class=\"dataframe\">\n",
       "  <thead>\n",
       "    <tr style=\"text-align: right;\">\n",
       "      <th>B</th>\n",
       "      <th>one</th>\n",
       "      <th>three</th>\n",
       "      <th>two</th>\n",
       "    </tr>\n",
       "    <tr>\n",
       "      <th>A</th>\n",
       "      <th></th>\n",
       "      <th></th>\n",
       "      <th></th>\n",
       "    </tr>\n",
       "  </thead>\n",
       "  <tbody>\n",
       "    <tr>\n",
       "      <th>bar</th>\n",
       "      <td>0.799757</td>\n",
       "      <td>-1.129951</td>\n",
       "      <td>-0.321869</td>\n",
       "    </tr>\n",
       "    <tr>\n",
       "      <th>foo</th>\n",
       "      <td>1.884121</td>\n",
       "      <td>0.217999</td>\n",
       "      <td>-0.479883</td>\n",
       "    </tr>\n",
       "  </tbody>\n",
       "</table>\n",
       "</div>"
      ],
      "text/plain": [
       "B         one     three       two\n",
       "A                                \n",
       "bar  0.799757 -1.129951 -0.321869\n",
       "foo  1.884121  0.217999 -0.479883"
      ]
     },
     "execution_count": 649,
     "metadata": {},
     "output_type": "execute_result"
    }
   ],
   "source": [
    "df_g2.pivot_table(index ='A',columns='B',values='C')\n",
    "\n",
    "# pd.pivot_table(df_g2, index ='A',columns='B',values='C')"
   ]
  },
  {
   "attachments": {},
   "cell_type": "markdown",
   "metadata": {},
   "source": [
    "### 9. Time Series"
   ]
  },
  {
   "cell_type": "code",
   "execution_count": 650,
   "metadata": {},
   "outputs": [
    {
     "data": {
      "text/plain": [
       "2012-01-01    27445\n",
       "Freq: 5T, dtype: int64"
      ]
     },
     "execution_count": 650,
     "metadata": {},
     "output_type": "execute_result"
    }
   ],
   "source": [
    "rng = pd.date_range(\"1/1/2012\", periods=100, freq=\"S\")\n",
    "\n",
    "ts = pd.Series(np.random.randint(0, 500, len(rng)), index=rng)\n",
    "\n",
    "ts.resample(\"5Min\").sum()"
   ]
  },
  {
   "cell_type": "code",
   "execution_count": 651,
   "metadata": {},
   "outputs": [
    {
     "data": {
      "text/plain": [
       "2012-01-01 00:00:00    495\n",
       "2012-01-01 00:00:01    487\n",
       "2012-01-01 00:00:02     22\n",
       "2012-01-01 00:00:03    201\n",
       "2012-01-01 00:00:04    383\n",
       "                      ... \n",
       "2012-01-01 00:01:35    494\n",
       "2012-01-01 00:01:36    281\n",
       "2012-01-01 00:01:37    432\n",
       "2012-01-01 00:01:38    456\n",
       "2012-01-01 00:01:39    470\n",
       "Freq: S, Length: 100, dtype: int64"
      ]
     },
     "execution_count": 651,
     "metadata": {},
     "output_type": "execute_result"
    }
   ],
   "source": [
    "ts"
   ]
  },
  {
   "attachments": {},
   "cell_type": "markdown",
   "metadata": {},
   "source": [
    "### 10. Categroicals"
   ]
  },
  {
   "attachments": {},
   "cell_type": "markdown",
   "metadata": {},
   "source": [
    "### 11. Plotting"
   ]
  }
 ],
 "metadata": {
  "kernelspec": {
   "display_name": "Python 3 (ipykernel)",
   "language": "python",
   "name": "python3"
  },
  "language_info": {
   "codemirror_mode": {
    "name": "ipython",
    "version": 3
   },
   "file_extension": ".py",
   "mimetype": "text/x-python",
   "name": "python",
   "nbconvert_exporter": "python",
   "pygments_lexer": "ipython3",
   "version": "3.9.10"
  },
  "vscode": {
   "interpreter": {
    "hash": "162ceaf09f938773ad028a3a2ad644135fdbb6560e1ade87eeac244d09a7763d"
   }
  }
 },
 "nbformat": 4,
 "nbformat_minor": 2
}
