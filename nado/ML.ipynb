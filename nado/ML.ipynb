{
 "cells": [
  {
   "attachments": {},
   "cell_type": "markdown",
   "metadata": {},
   "source": [
    "학습자료  \n",
    "https://nadocoding.tistory.com/92\n",
    "\n",
    "YouTubeVideo   \n",
    "https://www.youtube.com/watch?v=TNcfJHajqJY  \n",
    "\n",
    "(0:04:32) 3.머신러닝 개요  \n",
    "(0:15:04) 4.지도 학습  \n",
    "(0:20:19) 5.선형 회귀  \n",
    "(0:25:56) 6.선형 회귀 (실습 #1)  \n",
    "(0:36:41) 7.선형 회귀 (실습 #2)  \n",
    "(0:43:45) 8.데이터 세트 분리  \n",
    "(0:45:56) 9.데이터 세트 분리 (실습)  \n",
    "(0:59:39) 10.경사 하강법  \n",
    "(1:06:12) 11.경사 하강법 (실습)  \n",
    "(1:16:43) 12.다중 선형 회귀  \n",
    "(1:18:58) 13.원-핫 인코딩  \n",
    "(1:21:03) 14.다중 공선성  \n",
    "(1:23:22) 15.다중 선형 회귀 (실습 #1)  \n",
    "(1:30:02) 16.다중 선형 회귀 (실습 #2)  \n",
    "(1:35:13) 17.회귀 모델 평가  \n",
    "(1:47:32) 18.회귀 모델 평가 (실습)  \n",
    "(1:52:07) 19.다항 회귀  \n",
    "(1:59:46) 20.다항 회귀 (실습 #1)  \n",
    "(2:06:00) 21.다항 회귀 (실습 #2)  \n",
    "(2:19:14) 22.다항 회귀 (실습 #3)  \n",
    "(2:24:26) 23.로지스틱 회귀  \n",
    "(2:30:01) 24.로지스틱 회귀 (실습 #1)  \n",
    "(2:41:07) 25.로지스틱 회귀 (실습 #2)  \n",
    "(2:51:32) 26.혼동 행렬 (실습)  \n",
    "(2:58:31) 27.비지도 학습  \n",
    "(3:00:21) 28.K-평균  \n",
    "(3:10:26) 29.엘보우 방법  \n",
    "(3:12:57) 30.유사도  \n",
    "(3:17:40) 31.K-평균 (실습 #1)  \n",
    "(3:31:23) 32.K-평균 (실습 #2)  \n",
    "(3:38:06) 33.K-평균 (실습 #3)  \n",
    "(3:47:50) 34.K-평균 (실습 #4)  \n"
   ]
  }
 ],
 "metadata": {
  "kernelspec": {
   "display_name": "Python 3.7.6 64-bit ('3.7.6')",
   "language": "python",
   "name": "python3"
  },
  "language_info": {
   "codemirror_mode": {
    "name": "ipython",
    "version": 3
   },
   "file_extension": ".py",
   "mimetype": "text/x-python",
   "name": "python",
   "nbconvert_exporter": "python",
   "pygments_lexer": "ipython3",
   "version": "3.7.6"
  },
  "orig_nbformat": 4,
  "vscode": {
   "interpreter": {
    "hash": "162ceaf09f938773ad028a3a2ad644135fdbb6560e1ade87eeac244d09a7763d"
   }
  }
 },
 "nbformat": 4,
 "nbformat_minor": 2
}
