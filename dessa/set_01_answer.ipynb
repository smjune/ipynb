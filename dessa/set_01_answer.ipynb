{
 "cells": [
  {
   "cell_type": "code",
   "execution_count": 1,
   "id": "277ac182",
   "metadata": {},
   "outputs": [],
   "source": [
    "import numpy as np\n",
    "import pandas as pd\n",
    "\n",
    "from sklearn.ensemble import RandomForestRegressor"
   ]
  },
  {
   "cell_type": "code",
   "execution_count": 2,
   "id": "5d34aab0",
   "metadata": {},
   "outputs": [
    {
     "data": {
      "text/plain": [
       "(666, 11)"
      ]
     },
     "execution_count": 2,
     "metadata": {},
     "output_type": "execute_result"
    }
   ],
   "source": [
    "df = pd.read_csv(\"TV.csv\")\n",
    "df.shape"
   ]
  },
  {
   "cell_type": "code",
   "execution_count": 3,
   "id": "e28a873a",
   "metadata": {},
   "outputs": [
    {
     "data": {
      "text/html": [
       "<div>\n",
       "<style scoped>\n",
       "    .dataframe tbody tr th:only-of-type {\n",
       "        vertical-align: middle;\n",
       "    }\n",
       "\n",
       "    .dataframe tbody tr th {\n",
       "        vertical-align: top;\n",
       "    }\n",
       "\n",
       "    .dataframe thead th {\n",
       "        text-align: right;\n",
       "    }\n",
       "</style>\n",
       "<table border=\"1\" class=\"dataframe\">\n",
       "  <thead>\n",
       "    <tr style=\"text-align: right;\">\n",
       "      <th></th>\n",
       "      <th>Product_Name</th>\n",
       "      <th>Stars</th>\n",
       "      <th>Ratings</th>\n",
       "      <th>Reviews</th>\n",
       "      <th>current_price</th>\n",
       "      <th>MRP</th>\n",
       "      <th>channel</th>\n",
       "      <th>Operating_system</th>\n",
       "      <th>Picture_quality</th>\n",
       "      <th>Speaker</th>\n",
       "      <th>Frequency</th>\n",
       "    </tr>\n",
       "  </thead>\n",
       "  <tbody>\n",
       "    <tr>\n",
       "      <th>0</th>\n",
       "      <td>Croma</td>\n",
       "      <td>4.2</td>\n",
       "      <td>1773</td>\n",
       "      <td>217</td>\n",
       "      <td>7990</td>\n",
       "      <td>20000</td>\n",
       "      <td>HD Ready 1366 x 768 Pixels</td>\n",
       "      <td>20 Speaker Output</td>\n",
       "      <td>60 Hz Refresh Rate</td>\n",
       "      <td>2 x HDMI | 2 x USB</td>\n",
       "      <td>1 Year Warranty</td>\n",
       "    </tr>\n",
       "    <tr>\n",
       "      <th>1</th>\n",
       "      <td>Adsun</td>\n",
       "      <td>3.8</td>\n",
       "      <td>6742</td>\n",
       "      <td>930</td>\n",
       "      <td>8699</td>\n",
       "      <td>21999</td>\n",
       "      <td>Netflix|Disney+Hotstar|Youtube</td>\n",
       "      <td>Operating System: Android Based</td>\n",
       "      <td>HD Ready 1366 x 768 Pixels</td>\n",
       "      <td>20 W Speaker Output</td>\n",
       "      <td>60 Hz Refresh Rate</td>\n",
       "    </tr>\n",
       "  </tbody>\n",
       "</table>\n",
       "</div>"
      ],
      "text/plain": [
       "  Product_Name  Stars  Ratings  Reviews  current_price    MRP   \n",
       "0        Croma    4.2     1773      217           7990  20000  \\\n",
       "1        Adsun    3.8     6742      930           8699  21999   \n",
       "\n",
       "                          channel                 Operating_system   \n",
       "0      HD Ready 1366 x 768 Pixels                20 Speaker Output  \\\n",
       "1  Netflix|Disney+Hotstar|Youtube  Operating System: Android Based   \n",
       "\n",
       "              Picture_quality              Speaker           Frequency  \n",
       "0          60 Hz Refresh Rate   2 x HDMI | 2 x USB     1 Year Warranty  \n",
       "1  HD Ready 1366 x 768 Pixels  20 W Speaker Output  60 Hz Refresh Rate  "
      ]
     },
     "execution_count": 3,
     "metadata": {},
     "output_type": "execute_result"
    }
   ],
   "source": [
    "df.head(2)"
   ]
  },
  {
   "attachments": {},
   "cell_type": "markdown",
   "id": "e24d995e",
   "metadata": {},
   "source": [
    "### Q1."
   ]
  },
  {
   "cell_type": "code",
   "execution_count": 28,
   "id": "a271c7aa",
   "metadata": {},
   "outputs": [
    {
     "data": {
      "text/html": [
       "<div>\n",
       "<style scoped>\n",
       "    .dataframe tbody tr th:only-of-type {\n",
       "        vertical-align: middle;\n",
       "    }\n",
       "\n",
       "    .dataframe tbody tr th {\n",
       "        vertical-align: top;\n",
       "    }\n",
       "\n",
       "    .dataframe thead th {\n",
       "        text-align: right;\n",
       "    }\n",
       "</style>\n",
       "<table border=\"1\" class=\"dataframe\">\n",
       "  <thead>\n",
       "    <tr style=\"text-align: right;\">\n",
       "      <th></th>\n",
       "      <th>Frequency</th>\n",
       "      <th>Picture_quality</th>\n",
       "      <th>Speaker</th>\n",
       "    </tr>\n",
       "  </thead>\n",
       "  <tbody>\n",
       "    <tr>\n",
       "      <th>0</th>\n",
       "      <td>1 Year Warranty</td>\n",
       "      <td>60 Hz Refresh Rate</td>\n",
       "      <td>2 x HDMI | 2 x USB</td>\n",
       "    </tr>\n",
       "    <tr>\n",
       "      <th>1</th>\n",
       "      <td>60 Hz Refresh Rate</td>\n",
       "      <td>HD Ready 1366 x 768 Pixels</td>\n",
       "      <td>20 W Speaker Output</td>\n",
       "    </tr>\n",
       "  </tbody>\n",
       "</table>\n",
       "</div>"
      ],
      "text/plain": [
       "            Frequency             Picture_quality              Speaker\n",
       "0     1 Year Warranty          60 Hz Refresh Rate   2 x HDMI | 2 x USB\n",
       "1  60 Hz Refresh Rate  HD Ready 1366 x 768 Pixels  20 W Speaker Output"
      ]
     },
     "execution_count": 28,
     "metadata": {},
     "output_type": "execute_result"
    }
   ],
   "source": [
    "df_q1 = df[[\"Frequency\", \"Picture_quality\", \"Speaker\"]].copy()\n",
    "df_q1.head(2)"
   ]
  },
  {
   "cell_type": "code",
   "execution_count": 29,
   "id": "3d1cb632",
   "metadata": {},
   "outputs": [],
   "source": [
    "# \"[0-9]{2,3} Hz\""
   ]
  },
  {
   "cell_type": "code",
   "execution_count": 30,
   "id": "c8e67d9e",
   "metadata": {},
   "outputs": [
    {
     "data": {
      "text/plain": [
       "19     60 Hz Refresh Rate\n",
       "31     50 Hz Refresh Rate\n",
       "41    200 Hz Refresh Rate\n",
       "46    120 Hz Refresh Rate\n",
       "47    100 Hz Refresh Rate\n",
       "dtype: object"
      ]
     },
     "execution_count": 30,
     "metadata": {},
     "output_type": "execute_result"
    }
   ],
   "source": [
    "ser_u = pd.Series(df_q1[\"Speaker\"].unique())\n",
    "# ser_u = pd.Series(df_q1[\"Picture_quality\"].unique())\n",
    "# ser_u = pd.Series(df_q1[\"Frequency\"].unique())\n",
    "# ser_u[ser_u.str.contains(\"Hz\")]\n",
    "ser_u[ser_u.str.contains(\"[0-9]{2,3} Hz\")]"
   ]
  },
  {
   "cell_type": "code",
   "execution_count": 31,
   "id": "0a493ab6",
   "metadata": {},
   "outputs": [
    {
     "data": {
      "text/plain": [
       "19    60 Hz Refresh Rate\n",
       "dtype: object"
      ]
     },
     "execution_count": 31,
     "metadata": {},
     "output_type": "execute_result"
    }
   ],
   "source": [
    "ser_u[ser_u.str.contains(\"[^0-9]60 Hz|^60 Hz\")]"
   ]
  },
  {
   "cell_type": "code",
   "execution_count": 32,
   "id": "74fa3685",
   "metadata": {},
   "outputs": [
    {
     "data": {
      "text/plain": [
       "Frequency             1 Year Warranty\n",
       "Picture_quality    60 Hz Refresh Rate\n",
       "Speaker            2 x HDMI | 2 x USB\n",
       "Name: 0, dtype: object"
      ]
     },
     "execution_count": 32,
     "metadata": {},
     "output_type": "execute_result"
    }
   ],
   "source": [
    "x = df_q1.loc[0, :\"Speaker\"]\n",
    "x"
   ]
  },
  {
   "cell_type": "code",
   "execution_count": 33,
   "id": "9375b63b",
   "metadata": {},
   "outputs": [
    {
     "data": {
      "text/plain": [
       "1"
      ]
     },
     "execution_count": 33,
     "metadata": {},
     "output_type": "execute_result"
    }
   ],
   "source": [
    "x.str.contains(\"Hz\").sum()"
   ]
  },
  {
   "cell_type": "code",
   "execution_count": 34,
   "id": "c361fa8b",
   "metadata": {},
   "outputs": [
    {
     "data": {
      "text/plain": [
       "0    1\n",
       "1    1\n",
       "dtype: int64"
      ]
     },
     "execution_count": 34,
     "metadata": {},
     "output_type": "execute_result"
    }
   ],
   "source": [
    "tx_reg = \"[0-9]{2,3} Hz\"\n",
    "ser_hz_cnt = df_q1.loc[:, :\"Speaker\"].apply(lambda x: x.str.contains(tx_reg).sum(), \n",
    "                                            axis = 1)\n",
    "ser_hz_cnt.head(2)"
   ]
  },
  {
   "cell_type": "code",
   "execution_count": 35,
   "id": "88a0ed3c",
   "metadata": {},
   "outputs": [
    {
     "data": {
      "text/plain": [
       "1    662\n",
       "0      4\n",
       "Name: count, dtype: int64"
      ]
     },
     "execution_count": 35,
     "metadata": {},
     "output_type": "execute_result"
    }
   ],
   "source": [
    "ser_hz_cnt.value_counts()"
   ]
  },
  {
   "cell_type": "code",
   "execution_count": 36,
   "id": "db311da4",
   "metadata": {},
   "outputs": [
    {
     "data": {
      "text/html": [
       "<div>\n",
       "<style scoped>\n",
       "    .dataframe tbody tr th:only-of-type {\n",
       "        vertical-align: middle;\n",
       "    }\n",
       "\n",
       "    .dataframe tbody tr th {\n",
       "        vertical-align: top;\n",
       "    }\n",
       "\n",
       "    .dataframe thead th {\n",
       "        text-align: right;\n",
       "    }\n",
       "</style>\n",
       "<table border=\"1\" class=\"dataframe\">\n",
       "  <thead>\n",
       "    <tr style=\"text-align: right;\">\n",
       "      <th></th>\n",
       "      <th>Frequency</th>\n",
       "      <th>Picture_quality</th>\n",
       "      <th>Speaker</th>\n",
       "    </tr>\n",
       "  </thead>\n",
       "  <tbody>\n",
       "    <tr>\n",
       "      <th>234</th>\n",
       "      <td>3 x HDMI | 2 x USB</td>\n",
       "      <td>Ultra HD (4K) 3840 x 2160 Pixels</td>\n",
       "      <td>20 W Speaker Output</td>\n",
       "    </tr>\n",
       "    <tr>\n",
       "      <th>237</th>\n",
       "      <td>3 x HDMI | 2 x USB</td>\n",
       "      <td>Ultra HD (4K) 3840 x 2160 Pixels</td>\n",
       "      <td>20 W Speaker Output</td>\n",
       "    </tr>\n",
       "    <tr>\n",
       "      <th>335</th>\n",
       "      <td>1 Year Manufaturer Warranty</td>\n",
       "      <td>40 W Speaker Output</td>\n",
       "      <td>4 x HDMI | 3 x USB</td>\n",
       "    </tr>\n",
       "    <tr>\n",
       "      <th>547</th>\n",
       "      <td>3 x HDMI | 2 x USB</td>\n",
       "      <td>Ultra HD (4K) 3840 x 2160 Pixels</td>\n",
       "      <td>20 W Speaker Output</td>\n",
       "    </tr>\n",
       "  </tbody>\n",
       "</table>\n",
       "</div>"
      ],
      "text/plain": [
       "                       Frequency                   Picture_quality   \n",
       "234           3 x HDMI | 2 x USB  Ultra HD (4K) 3840 x 2160 Pixels  \\\n",
       "237           3 x HDMI | 2 x USB  Ultra HD (4K) 3840 x 2160 Pixels   \n",
       "335  1 Year Manufaturer Warranty               40 W Speaker Output   \n",
       "547           3 x HDMI | 2 x USB  Ultra HD (4K) 3840 x 2160 Pixels   \n",
       "\n",
       "                 Speaker  \n",
       "234  20 W Speaker Output  \n",
       "237  20 W Speaker Output  \n",
       "335   4 x HDMI | 3 x USB  \n",
       "547  20 W Speaker Output  "
      ]
     },
     "execution_count": 36,
     "metadata": {},
     "output_type": "execute_result"
    }
   ],
   "source": [
    "df_q1.loc[ser_hz_cnt == 0, ]"
   ]
  },
  {
   "cell_type": "code",
   "execution_count": 37,
   "id": "87610a8e",
   "metadata": {},
   "outputs": [],
   "source": [
    "df_q1 = df_q1.loc[ser_hz_cnt != 0, ].reset_index(drop = True)"
   ]
  },
  {
   "cell_type": "code",
   "execution_count": 38,
   "id": "d992e13e",
   "metadata": {},
   "outputs": [],
   "source": [
    "df_q1[\"Hz_1\"] = df_q1[\"Frequency\"      ].str.contains(\"60 Hz\") + 0\n",
    "df_q1[\"Hz_2\"] = df_q1[\"Picture_quality\"].str.contains(\"60 Hz\") + 0\n",
    "df_q1[\"Hz_3\"] = df_q1[\"Speaker\"        ].str.contains(\"60 Hz\") + 0"
   ]
  },
  {
   "cell_type": "code",
   "execution_count": 39,
   "id": "6014991f",
   "metadata": {},
   "outputs": [],
   "source": [
    "df_q1[\"Hz_cnt\"] = df_q1[\"Hz_1\"] + df_q1[\"Hz_2\"] + df_q1[\"Hz_3\"]"
   ]
  },
  {
   "cell_type": "code",
   "execution_count": 40,
   "id": "4200ff85",
   "metadata": {},
   "outputs": [
    {
     "data": {
      "text/html": [
       "<div>\n",
       "<style scoped>\n",
       "    .dataframe tbody tr th:only-of-type {\n",
       "        vertical-align: middle;\n",
       "    }\n",
       "\n",
       "    .dataframe tbody tr th {\n",
       "        vertical-align: top;\n",
       "    }\n",
       "\n",
       "    .dataframe thead th {\n",
       "        text-align: right;\n",
       "    }\n",
       "</style>\n",
       "<table border=\"1\" class=\"dataframe\">\n",
       "  <thead>\n",
       "    <tr style=\"text-align: right;\">\n",
       "      <th></th>\n",
       "      <th>Frequency</th>\n",
       "      <th>Picture_quality</th>\n",
       "      <th>Speaker</th>\n",
       "      <th>Hz_1</th>\n",
       "      <th>Hz_2</th>\n",
       "      <th>Hz_3</th>\n",
       "      <th>Hz_cnt</th>\n",
       "    </tr>\n",
       "  </thead>\n",
       "  <tbody>\n",
       "    <tr>\n",
       "      <th>0</th>\n",
       "      <td>1 Year Warranty</td>\n",
       "      <td>60 Hz Refresh Rate</td>\n",
       "      <td>2 x HDMI | 2 x USB</td>\n",
       "      <td>0</td>\n",
       "      <td>1</td>\n",
       "      <td>0</td>\n",
       "      <td>1</td>\n",
       "    </tr>\n",
       "    <tr>\n",
       "      <th>1</th>\n",
       "      <td>60 Hz Refresh Rate</td>\n",
       "      <td>HD Ready 1366 x 768 Pixels</td>\n",
       "      <td>20 W Speaker Output</td>\n",
       "      <td>1</td>\n",
       "      <td>0</td>\n",
       "      <td>0</td>\n",
       "      <td>1</td>\n",
       "    </tr>\n",
       "  </tbody>\n",
       "</table>\n",
       "</div>"
      ],
      "text/plain": [
       "            Frequency             Picture_quality              Speaker  Hz_1   \n",
       "0     1 Year Warranty          60 Hz Refresh Rate   2 x HDMI | 2 x USB     0  \\\n",
       "1  60 Hz Refresh Rate  HD Ready 1366 x 768 Pixels  20 W Speaker Output     1   \n",
       "\n",
       "   Hz_2  Hz_3  Hz_cnt  \n",
       "0     1     0       1  \n",
       "1     0     0       1  "
      ]
     },
     "execution_count": 40,
     "metadata": {},
     "output_type": "execute_result"
    }
   ],
   "source": [
    "df_q1.head(2)"
   ]
  },
  {
   "cell_type": "code",
   "execution_count": 41,
   "id": "0033d3cf",
   "metadata": {
    "collapsed": true
   },
   "outputs": [
    {
     "data": {
      "text/plain": [
       "Hz_cnt\n",
       "1    510\n",
       "0    152\n",
       "Name: count, dtype: int64"
      ]
     },
     "execution_count": 41,
     "metadata": {},
     "output_type": "execute_result"
    }
   ],
   "source": [
    "df_q1[\"Hz_cnt\"].value_counts()"
   ]
  },
  {
   "cell_type": "code",
   "execution_count": 42,
   "id": "011f5ca6",
   "metadata": {},
   "outputs": [
    {
     "data": {
      "text/plain": [
       "1    510\n",
       "0    152\n",
       "Name: count, dtype: int64"
      ]
     },
     "execution_count": 42,
     "metadata": {},
     "output_type": "execute_result"
    }
   ],
   "source": [
    "df_q1.loc[:, :\"Speaker\"].apply(lambda x: x.str.contains(\"60 Hz\").sum(), \n",
    "                               axis = 1).value_counts()"
   ]
  },
  {
   "attachments": {},
   "cell_type": "markdown",
   "id": "6a1a553a",
   "metadata": {},
   "source": [
    "### Q2."
   ]
  },
  {
   "cell_type": "code",
   "execution_count": 51,
   "id": "70abf844",
   "metadata": {},
   "outputs": [
    {
     "data": {
      "text/html": [
       "<div>\n",
       "<style scoped>\n",
       "    .dataframe tbody tr th:only-of-type {\n",
       "        vertical-align: middle;\n",
       "    }\n",
       "\n",
       "    .dataframe tbody tr th {\n",
       "        vertical-align: top;\n",
       "    }\n",
       "\n",
       "    .dataframe thead th {\n",
       "        text-align: right;\n",
       "    }\n",
       "</style>\n",
       "<table border=\"1\" class=\"dataframe\">\n",
       "  <thead>\n",
       "    <tr style=\"text-align: right;\">\n",
       "      <th></th>\n",
       "      <th>Stars</th>\n",
       "      <th>Operating_system</th>\n",
       "      <th>channel</th>\n",
       "      <th>Picture_quality</th>\n",
       "    </tr>\n",
       "  </thead>\n",
       "  <tbody>\n",
       "    <tr>\n",
       "      <th>0</th>\n",
       "      <td>4.2</td>\n",
       "      <td>20 Speaker Output</td>\n",
       "      <td>HD Ready 1366 x 768 Pixels</td>\n",
       "      <td>60 Hz Refresh Rate</td>\n",
       "    </tr>\n",
       "    <tr>\n",
       "      <th>1</th>\n",
       "      <td>3.8</td>\n",
       "      <td>Operating System: Android Based</td>\n",
       "      <td>Netflix|Disney+Hotstar|Youtube</td>\n",
       "      <td>HD Ready 1366 x 768 Pixels</td>\n",
       "    </tr>\n",
       "  </tbody>\n",
       "</table>\n",
       "</div>"
      ],
      "text/plain": [
       "   Stars                 Operating_system                         channel   \n",
       "0    4.2                20 Speaker Output      HD Ready 1366 x 768 Pixels  \\\n",
       "1    3.8  Operating System: Android Based  Netflix|Disney+Hotstar|Youtube   \n",
       "\n",
       "              Picture_quality  \n",
       "0          60 Hz Refresh Rate  \n",
       "1  HD Ready 1366 x 768 Pixels  "
      ]
     },
     "execution_count": 51,
     "metadata": {},
     "output_type": "execute_result"
    }
   ],
   "source": [
    "df_q2 = df[[\"Stars\", \"Operating_system\", \"channel\", \"Picture_quality\"]].copy()\n",
    "df_q2.head(2)"
   ]
  },
  {
   "cell_type": "code",
   "execution_count": 47,
   "id": "8f2c650c",
   "metadata": {
    "collapsed": true
   },
   "outputs": [
    {
     "data": {
      "text/plain": [
       "2                      Ultra HD (4K) 3840 x 2160 Pixels\n",
       "4     Ultra HD (4K) Crystal 4K FE UHD (3840 x 2160) ...\n",
       "7                        Ultra HD (4K) 3840×2160 Pixels\n",
       "9                      Ultra HD (4K) 3860 x 2160 Pixels\n",
       "10                       Ultra HD (4K) 3840X2160 Pixels\n",
       "12                     Ultra HD (4K) 3840 × 2160 Pixels\n",
       "13                       Ultra HD (4K) 3840*2160 Pixels\n",
       "14                       Ultra HD (4K) 3840x2160 Pixels\n",
       "28                     Ultra HD (8K) 7680 x 4320 Pixels\n",
       "34                     Ultra HD (4K) 3840 � 2160 Pixels\n",
       "dtype: object"
      ]
     },
     "execution_count": 47,
     "metadata": {},
     "output_type": "execute_result"
    }
   ],
   "source": [
    "# ser_u = pd.Series(df_q2[\"Operating_system\"].unique())\n",
    "# ser_u = pd.Series(df_q2[\"channel\"].unique())\n",
    "ser_u = pd.Series(df_q2[\"Picture_quality\"].unique())\n",
    "ser_u[ser_u.str.contains(\"4K|8K\")]"
   ]
  },
  {
   "cell_type": "code",
   "execution_count": 52,
   "id": "3a329558",
   "metadata": {
    "collapsed": true
   },
   "outputs": [
    {
     "data": {
      "text/plain": [
       "1    365\n",
       "0    301\n",
       "Name: count, dtype: int64"
      ]
     },
     "execution_count": 52,
     "metadata": {},
     "output_type": "execute_result"
    }
   ],
   "source": [
    "ser_4k = df_q2.iloc[:, 1:].apply(lambda x: x.str.contains(\"4K\").sum(), axis = 1)\n",
    "ser_4k.value_counts()"
   ]
  },
  {
   "cell_type": "code",
   "execution_count": 53,
   "id": "52552dea",
   "metadata": {},
   "outputs": [
    {
     "data": {
      "text/plain": [
       "0    665\n",
       "1      1\n",
       "Name: count, dtype: int64"
      ]
     },
     "execution_count": 53,
     "metadata": {},
     "output_type": "execute_result"
    }
   ],
   "source": [
    "ser_8k = df_q2.iloc[:, 1:].apply(lambda x: x.str.contains(\"8K\").sum(), axis = 1)\n",
    "ser_8k.value_counts()"
   ]
  },
  {
   "cell_type": "code",
   "execution_count": 54,
   "id": "087f26f7",
   "metadata": {},
   "outputs": [],
   "source": [
    "stat_4k = df_q2.loc[ser_4k == 1, \"Stars\"].mean()\n",
    "stat_8k = df_q2.loc[ser_8k == 1, \"Stars\"].mean()"
   ]
  },
  {
   "cell_type": "code",
   "execution_count": 55,
   "id": "20c8b7c9",
   "metadata": {},
   "outputs": [
    {
     "data": {
      "text/plain": [
       "0.38"
      ]
     },
     "execution_count": 55,
     "metadata": {},
     "output_type": "execute_result"
    }
   ],
   "source": [
    "round(abs(stat_4k - stat_8k), 2)"
   ]
  },
  {
   "attachments": {},
   "cell_type": "markdown",
   "id": "b90b5d44",
   "metadata": {},
   "source": [
    "### Q3."
   ]
  },
  {
   "cell_type": "code",
   "execution_count": 59,
   "id": "ea0d4088",
   "metadata": {
    "collapsed": true
   },
   "outputs": [
    {
     "data": {
      "text/plain": [
       "array(['HD Ready 1366 x 768 Pixels', 'Netflix|Disney+Hotstar|Youtube',\n",
       "       'Netflix|Prime Video|Disney+Hotstar|Youtube',\n",
       "       'HD Ready 1366 X 768 Pixels', 'Netflix|Prime Video|Youtube',\n",
       "       'Youtube', 'Prime Video|Disney+Hotstar|Youtube',\n",
       "       'Prime Video|Youtube', 'Netflix|Youtube',\n",
       "       'HD Ready 1366 x 786 Pixels', 'Disney+Hotstar|Youtube',\n",
       "       'HD Ready 1366*768 Pixels', 'Ultra HD (4K) 3840 x 2160 Pixels',\n",
       "       'Netflix|Prime Video|Apple TV|Disney+Hotstar|Youtube',\n",
       "       'HD Ready 720p Pixels', 'Ultra HD (4K) ?3840 x 2160 Pixels',\n",
       "       'Operating System: Linux', 'Full HD 1920 x 1080 Pixels',\n",
       "       'Operating System: Android', 'Ultra HD (4K) 3840*2160 Pixels',\n",
       "       'Operating System: WebOS', 'Operating System: Tizen',\n",
       "       'Ultra HD (4K) 3840 x 2160 - Ultra HD Pixels',\n",
       "       'Ultra HD (4K) 4K QLED (3840 x 2160) Pixels', 'Prime Video',\n",
       "       'Ultra HD (4K) 3840 * 2160 Pixels', 'HD Ready 1366X768P Pixels',\n",
       "       'Full HD 1980 x 1080 Pixels', 'Operating System: Android Based',\n",
       "       'Full HD 1366 x 768 Pixels', 'HD Ready 1920 x 1080 - FHD Pixels',\n",
       "       'HD Ready 1920 x 1080 Pixels', 'HD Ready ?1366*768 Pixels',\n",
       "       'HD Ready 1366X768 Pixels', 'Ultra HD (4K) 1920 x 1080 Pixels',\n",
       "       'Operating System: HomeOS',\n",
       "       'Ultra HD (4K) 3840 x 2160 pixels Pixels'], dtype=object)"
      ]
     },
     "execution_count": 59,
     "metadata": {},
     "output_type": "execute_result"
    }
   ],
   "source": [
    "df[\"channel\"].unique()"
   ]
  },
  {
   "cell_type": "code",
   "execution_count": 62,
   "id": "c03e363b",
   "metadata": {},
   "outputs": [],
   "source": [
    "df_q3 = df.loc[df[\"channel\"].str.contains(\"Pixel|Oper\"), ].copy()\n",
    "df_q3[\"channel\"].unique()"
   ]
  },
  {
   "cell_type": "code",
   "execution_count": 63,
   "id": "eb6ecc61",
   "metadata": {},
   "outputs": [
    {
     "data": {
      "text/plain": [
       "548"
      ]
     },
     "execution_count": 63,
     "metadata": {},
     "output_type": "execute_result"
    }
   ],
   "source": [
    "# ~ 은 True와 False 반전\n",
    "df_q3 = df.loc[~df[\"channel\"].str.contains(\"Pixel|Oper\"), ].copy()\n",
    "len(df_q3)"
   ]
  },
  {
   "cell_type": "code",
   "execution_count": 66,
   "id": "7d1a43c9",
   "metadata": {},
   "outputs": [],
   "source": [
    "df_q3[\"x1\"] = df_q3[\"Reviews\"] / df_q3[\"Ratings\"]\n",
    "df_q3[\"x2\"] = df_q3[\"MRP\"]\n",
    "df_q3[\"x3\"] = df_q3[\"current_price\"] / df_q3[\"MRP\"]\n",
    "df_q3[\"x4\"] = df_q3[\"channel\"].str.contains(\"Netflix\") + 0\n",
    "df_q3[\"x5\"] = df_q3[\"channel\"].str.contains(\"Prime Video\") + 0\n",
    "df_q3[\"x6\"] = df_q3[\"Picture_quality\"].str.contains(\"4K|8K\") + 0"
   ]
  },
  {
   "cell_type": "code",
   "execution_count": 67,
   "id": "6ec5c048",
   "metadata": {
    "collapsed": true
   },
   "outputs": [
    {
     "data": {
      "text/html": [
       "<div>\n",
       "<style scoped>\n",
       "    .dataframe tbody tr th:only-of-type {\n",
       "        vertical-align: middle;\n",
       "    }\n",
       "\n",
       "    .dataframe tbody tr th {\n",
       "        vertical-align: top;\n",
       "    }\n",
       "\n",
       "    .dataframe thead th {\n",
       "        text-align: right;\n",
       "    }\n",
       "</style>\n",
       "<table border=\"1\" class=\"dataframe\">\n",
       "  <thead>\n",
       "    <tr style=\"text-align: right;\">\n",
       "      <th></th>\n",
       "      <th>Product_Name</th>\n",
       "      <th>Stars</th>\n",
       "      <th>Ratings</th>\n",
       "      <th>Reviews</th>\n",
       "      <th>current_price</th>\n",
       "      <th>MRP</th>\n",
       "      <th>channel</th>\n",
       "      <th>Operating_system</th>\n",
       "      <th>Picture_quality</th>\n",
       "      <th>Speaker</th>\n",
       "      <th>Frequency</th>\n",
       "      <th>x1</th>\n",
       "      <th>x2</th>\n",
       "      <th>x3</th>\n",
       "      <th>x4</th>\n",
       "      <th>x5</th>\n",
       "      <th>x6</th>\n",
       "    </tr>\n",
       "  </thead>\n",
       "  <tbody>\n",
       "    <tr>\n",
       "      <th>1</th>\n",
       "      <td>Adsun</td>\n",
       "      <td>3.8</td>\n",
       "      <td>6742</td>\n",
       "      <td>930</td>\n",
       "      <td>8699</td>\n",
       "      <td>21999</td>\n",
       "      <td>Netflix|Disney+Hotstar|Youtube</td>\n",
       "      <td>Operating System: Android Based</td>\n",
       "      <td>HD Ready 1366 x 768 Pixels</td>\n",
       "      <td>20 W Speaker Output</td>\n",
       "      <td>60 Hz Refresh Rate</td>\n",
       "      <td>0.137941</td>\n",
       "      <td>21999</td>\n",
       "      <td>0.395427</td>\n",
       "      <td>1</td>\n",
       "      <td>0</td>\n",
       "      <td>0</td>\n",
       "    </tr>\n",
       "    <tr>\n",
       "      <th>2</th>\n",
       "      <td>LG</td>\n",
       "      <td>4.4</td>\n",
       "      <td>38870</td>\n",
       "      <td>3443</td>\n",
       "      <td>16499</td>\n",
       "      <td>21990</td>\n",
       "      <td>Netflix|Prime Video|Disney+Hotstar|Youtube</td>\n",
       "      <td>Operating System: WebOS</td>\n",
       "      <td>HD Ready 1366 x 768 Pixels</td>\n",
       "      <td>10 W Speaker Output</td>\n",
       "      <td>50 Hz Refresh Rate</td>\n",
       "      <td>0.088577</td>\n",
       "      <td>21990</td>\n",
       "      <td>0.750296</td>\n",
       "      <td>1</td>\n",
       "      <td>1</td>\n",
       "      <td>0</td>\n",
       "    </tr>\n",
       "  </tbody>\n",
       "</table>\n",
       "</div>"
      ],
      "text/plain": [
       "  Product_Name  Stars  Ratings  Reviews  current_price    MRP   \n",
       "1        Adsun    3.8     6742      930           8699  21999  \\\n",
       "2           LG    4.4    38870     3443          16499  21990   \n",
       "\n",
       "                                      channel   \n",
       "1              Netflix|Disney+Hotstar|Youtube  \\\n",
       "2  Netflix|Prime Video|Disney+Hotstar|Youtube   \n",
       "\n",
       "                  Operating_system             Picture_quality   \n",
       "1  Operating System: Android Based  HD Ready 1366 x 768 Pixels  \\\n",
       "2          Operating System: WebOS  HD Ready 1366 x 768 Pixels   \n",
       "\n",
       "               Speaker           Frequency        x1     x2        x3  x4  x5   \n",
       "1  20 W Speaker Output  60 Hz Refresh Rate  0.137941  21999  0.395427   1   0  \\\n",
       "2  10 W Speaker Output  50 Hz Refresh Rate  0.088577  21990  0.750296   1   1   \n",
       "\n",
       "   x6  \n",
       "1   0  \n",
       "2   0  "
      ]
     },
     "execution_count": 67,
     "metadata": {},
     "output_type": "execute_result"
    }
   ],
   "source": [
    "df_q3.head(2)"
   ]
  },
  {
   "cell_type": "code",
   "execution_count": 68,
   "id": "d7399008",
   "metadata": {
    "collapsed": true
   },
   "outputs": [
    {
     "data": {
      "text/html": [
       "<div>\n",
       "<style scoped>\n",
       "    .dataframe tbody tr th:only-of-type {\n",
       "        vertical-align: middle;\n",
       "    }\n",
       "\n",
       "    .dataframe tbody tr th {\n",
       "        vertical-align: top;\n",
       "    }\n",
       "\n",
       "    .dataframe thead th {\n",
       "        text-align: right;\n",
       "    }\n",
       "</style>\n",
       "<table border=\"1\" class=\"dataframe\">\n",
       "  <thead>\n",
       "    <tr style=\"text-align: right;\">\n",
       "      <th></th>\n",
       "      <th>Stars</th>\n",
       "      <th>x1</th>\n",
       "      <th>x2</th>\n",
       "      <th>x3</th>\n",
       "      <th>x4</th>\n",
       "      <th>x5</th>\n",
       "      <th>x6</th>\n",
       "    </tr>\n",
       "  </thead>\n",
       "  <tbody>\n",
       "    <tr>\n",
       "      <th>1</th>\n",
       "      <td>3.8</td>\n",
       "      <td>0.137941</td>\n",
       "      <td>21999</td>\n",
       "      <td>0.395427</td>\n",
       "      <td>1</td>\n",
       "      <td>0</td>\n",
       "      <td>0</td>\n",
       "    </tr>\n",
       "    <tr>\n",
       "      <th>2</th>\n",
       "      <td>4.4</td>\n",
       "      <td>0.088577</td>\n",
       "      <td>21990</td>\n",
       "      <td>0.750296</td>\n",
       "      <td>1</td>\n",
       "      <td>1</td>\n",
       "      <td>0</td>\n",
       "    </tr>\n",
       "  </tbody>\n",
       "</table>\n",
       "</div>"
      ],
      "text/plain": [
       "   Stars        x1     x2        x3  x4  x5  x6\n",
       "1    3.8  0.137941  21999  0.395427   1   0   0\n",
       "2    4.4  0.088577  21990  0.750296   1   1   0"
      ]
     },
     "execution_count": 68,
     "metadata": {},
     "output_type": "execute_result"
    }
   ],
   "source": [
    "df_model = df_q3[[\"Stars\", \"x1\", \"x2\", \"x3\", \"x4\", \"x5\", \"x6\"]]\n",
    "df_model.head(2)"
   ]
  },
  {
   "cell_type": "code",
   "execution_count": 69,
   "id": "c206a36b",
   "metadata": {},
   "outputs": [
    {
     "data": {
      "text/plain": [
       "548"
      ]
     },
     "execution_count": 69,
     "metadata": {},
     "output_type": "execute_result"
    }
   ],
   "source": [
    "len(df_model)"
   ]
  },
  {
   "cell_type": "code",
   "execution_count": 70,
   "id": "9d8b632e",
   "metadata": {},
   "outputs": [
    {
     "data": {
      "text/plain": [
       "Stars      0\n",
       "x1       351\n",
       "x2         0\n",
       "x3         0\n",
       "x4         0\n",
       "x5         0\n",
       "x6         0\n",
       "dtype: int64"
      ]
     },
     "execution_count": 70,
     "metadata": {},
     "output_type": "execute_result"
    }
   ],
   "source": [
    "df_model.isna().sum()"
   ]
  },
  {
   "cell_type": "code",
   "execution_count": 71,
   "id": "b6f1cb34",
   "metadata": {},
   "outputs": [
    {
     "data": {
      "text/plain": [
       "197"
      ]
     },
     "execution_count": 71,
     "metadata": {},
     "output_type": "execute_result"
    }
   ],
   "source": [
    "df_model = df_model.dropna()\n",
    "len(df_model)"
   ]
  },
  {
   "cell_type": "code",
   "execution_count": null,
   "id": "5181f55c",
   "metadata": {},
   "outputs": [],
   "source": [
    "model_rf = RandomForestRegressor(random_state = 123)\n",
    "model_rf.fit(X = df_model.drop(columns = \"Stars\"),\n",
    "             y = df_model[\"Stars\"])"
   ]
  },
  {
   "cell_type": "code",
   "execution_count": null,
   "id": "34bd3561",
   "metadata": {},
   "outputs": [],
   "source": [
    "model_rf.feature_importances_"
   ]
  },
  {
   "cell_type": "code",
   "execution_count": 80,
   "id": "d8b9da4d",
   "metadata": {},
   "outputs": [
    {
     "data": {
      "text/html": [
       "<div>\n",
       "<style scoped>\n",
       "    .dataframe tbody tr th:only-of-type {\n",
       "        vertical-align: middle;\n",
       "    }\n",
       "\n",
       "    .dataframe tbody tr th {\n",
       "        vertical-align: top;\n",
       "    }\n",
       "\n",
       "    .dataframe thead th {\n",
       "        text-align: right;\n",
       "    }\n",
       "</style>\n",
       "<table border=\"1\" class=\"dataframe\">\n",
       "  <thead>\n",
       "    <tr style=\"text-align: right;\">\n",
       "      <th></th>\n",
       "      <th>x1</th>\n",
       "      <th>x2</th>\n",
       "      <th>x3</th>\n",
       "      <th>x4</th>\n",
       "      <th>x5</th>\n",
       "      <th>x6</th>\n",
       "    </tr>\n",
       "  </thead>\n",
       "  <tbody>\n",
       "    <tr>\n",
       "      <th>0</th>\n",
       "      <td>0.312206</td>\n",
       "      <td>0.17384</td>\n",
       "      <td>0.444691</td>\n",
       "      <td>0.027141</td>\n",
       "      <td>0.024004</td>\n",
       "      <td>0.018118</td>\n",
       "    </tr>\n",
       "  </tbody>\n",
       "</table>\n",
       "</div>"
      ],
      "text/plain": [
       "         x1       x2        x3        x4        x5        x6\n",
       "0  0.312206  0.17384  0.444691  0.027141  0.024004  0.018118"
      ]
     },
     "execution_count": 80,
     "metadata": {},
     "output_type": "execute_result"
    }
   ],
   "source": [
    "pd.DataFrame([model_rf.feature_importances_],\n",
    "             columns = df_model.columns[1:])"
   ]
  },
  {
   "cell_type": "code",
   "execution_count": null,
   "id": "f8c903fb",
   "metadata": {},
   "outputs": [],
   "source": [
    "pd.DataFrame([model_rf.feature_importances_],\n",
    "             columns = model_rf.feature_names_in_)"
   ]
  },
  {
   "cell_type": "code",
   "execution_count": 78,
   "id": "11eca8a8",
   "metadata": {
    "collapsed": true
   },
   "outputs": [
    {
     "data": {
      "text/html": [
       "<div>\n",
       "<style scoped>\n",
       "    .dataframe tbody tr th:only-of-type {\n",
       "        vertical-align: middle;\n",
       "    }\n",
       "\n",
       "    .dataframe tbody tr th {\n",
       "        vertical-align: top;\n",
       "    }\n",
       "\n",
       "    .dataframe thead th {\n",
       "        text-align: right;\n",
       "    }\n",
       "</style>\n",
       "<table border=\"1\" class=\"dataframe\">\n",
       "  <thead>\n",
       "    <tr style=\"text-align: right;\">\n",
       "      <th></th>\n",
       "      <th>index</th>\n",
       "      <th>0</th>\n",
       "    </tr>\n",
       "  </thead>\n",
       "  <tbody>\n",
       "    <tr>\n",
       "      <th>0</th>\n",
       "      <td>x1</td>\n",
       "      <td>0.312206</td>\n",
       "    </tr>\n",
       "    <tr>\n",
       "      <th>1</th>\n",
       "      <td>x2</td>\n",
       "      <td>0.173840</td>\n",
       "    </tr>\n",
       "    <tr>\n",
       "      <th>2</th>\n",
       "      <td>x3</td>\n",
       "      <td>0.444691</td>\n",
       "    </tr>\n",
       "    <tr>\n",
       "      <th>3</th>\n",
       "      <td>x4</td>\n",
       "      <td>0.027141</td>\n",
       "    </tr>\n",
       "    <tr>\n",
       "      <th>4</th>\n",
       "      <td>x5</td>\n",
       "      <td>0.024004</td>\n",
       "    </tr>\n",
       "    <tr>\n",
       "      <th>5</th>\n",
       "      <td>x6</td>\n",
       "      <td>0.018118</td>\n",
       "    </tr>\n",
       "  </tbody>\n",
       "</table>\n",
       "</div>"
      ],
      "text/plain": [
       "  index         0\n",
       "0    x1  0.312206\n",
       "1    x2  0.173840\n",
       "2    x3  0.444691\n",
       "3    x4  0.027141\n",
       "4    x5  0.024004\n",
       "5    x6  0.018118"
      ]
     },
     "execution_count": 78,
     "metadata": {},
     "output_type": "execute_result"
    }
   ],
   "source": [
    "pd.Series(model_rf.feature_importances_,\n",
    "          index = model_rf.feature_names_in_).reset_index()"
   ]
  },
  {
   "cell_type": "code",
   "execution_count": 79,
   "id": "964fd3c5",
   "metadata": {},
   "outputs": [
    {
     "data": {
      "text/plain": [
       "<AxesSubplot:>"
      ]
     },
     "execution_count": 79,
     "metadata": {},
     "output_type": "execute_result"
    },
    {
     "data": {
      "image/png": "[encoded data removed]",
      "text/plain": [
       "<Figure size 432x288 with 1 Axes>"
      ]
     },
     "metadata": {
      "needs_background": "light"
     },
     "output_type": "display_data"
    }
   ],
   "source": [
    "pd.Series(model_rf.feature_importances_,\n",
    "          index = model_rf.feature_names_in_).plot.barh()"
   ]
  }
 ],
 "metadata": {
  "kernelspec": {
   "display_name": "Python 3 (ipykernel)",
   "language": "python",
   "name": "python3"
  },
  "language_info": {
   "codemirror_mode": {
    "name": "ipython",
    "version": 3
   },
   "file_extension": ".py",
   "mimetype": "text/x-python",
   "name": "python",
   "nbconvert_exporter": "python",
   "pygments_lexer": "ipython3",
   "version": "3.9.10"
  }
 },
 "nbformat": 4,
 "nbformat_minor": 5
}
