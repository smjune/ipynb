{
 "cells": [
  {
   "cell_type": "code",
   "execution_count": 1,
   "metadata": {},
   "outputs": [],
   "source": [
    "import numpy as np\n",
    "import pandas as pd"
   ]
  },
  {
   "cell_type": "code",
   "execution_count": 2,
   "metadata": {},
   "outputs": [],
   "source": [
    "df=pd.read_csv('TV.csv')"
   ]
  },
  {
   "attachments": {},
   "cell_type": "markdown",
   "metadata": {},
   "source": [
    "### Q1"
   ]
  },
  {
   "cell_type": "code",
   "execution_count": 46,
   "metadata": {},
   "outputs": [
    {
     "data": {
      "text/html": [
       "<div>\n",
       "<style scoped>\n",
       "    .dataframe tbody tr th:only-of-type {\n",
       "        vertical-align: middle;\n",
       "    }\n",
       "\n",
       "    .dataframe tbody tr th {\n",
       "        vertical-align: top;\n",
       "    }\n",
       "\n",
       "    .dataframe thead th {\n",
       "        text-align: right;\n",
       "    }\n",
       "</style>\n",
       "<table border=\"1\" class=\"dataframe\">\n",
       "  <thead>\n",
       "    <tr style=\"text-align: right;\">\n",
       "      <th></th>\n",
       "      <th>Product_Name</th>\n",
       "      <th>Stars</th>\n",
       "      <th>Ratings</th>\n",
       "      <th>Reviews</th>\n",
       "      <th>current_price</th>\n",
       "      <th>MRP</th>\n",
       "      <th>channel</th>\n",
       "      <th>Operating_system</th>\n",
       "      <th>Picture_quality</th>\n",
       "      <th>Speaker</th>\n",
       "      <th>Frequency</th>\n",
       "    </tr>\n",
       "  </thead>\n",
       "  <tbody>\n",
       "    <tr>\n",
       "      <th>0</th>\n",
       "      <td>Croma</td>\n",
       "      <td>4.2</td>\n",
       "      <td>1773</td>\n",
       "      <td>217</td>\n",
       "      <td>7990</td>\n",
       "      <td>20000</td>\n",
       "      <td>HD Ready 1366 x 768 Pixels</td>\n",
       "      <td>20 Speaker Output</td>\n",
       "      <td>60 Hz Refresh Rate</td>\n",
       "      <td>2 x HDMI | 2 x USB</td>\n",
       "      <td>1 Year Warranty</td>\n",
       "    </tr>\n",
       "    <tr>\n",
       "      <th>1</th>\n",
       "      <td>Adsun</td>\n",
       "      <td>3.8</td>\n",
       "      <td>6742</td>\n",
       "      <td>930</td>\n",
       "      <td>8699</td>\n",
       "      <td>21999</td>\n",
       "      <td>Netflix|Disney+Hotstar|Youtube</td>\n",
       "      <td>Operating System: Android Based</td>\n",
       "      <td>HD Ready 1366 x 768 Pixels</td>\n",
       "      <td>20 W Speaker Output</td>\n",
       "      <td>60 Hz Refresh Rate</td>\n",
       "    </tr>\n",
       "    <tr>\n",
       "      <th>2</th>\n",
       "      <td>LG</td>\n",
       "      <td>4.4</td>\n",
       "      <td>38870</td>\n",
       "      <td>3443</td>\n",
       "      <td>16499</td>\n",
       "      <td>21990</td>\n",
       "      <td>Netflix|Prime Video|Disney+Hotstar|Youtube</td>\n",
       "      <td>Operating System: WebOS</td>\n",
       "      <td>HD Ready 1366 x 768 Pixels</td>\n",
       "      <td>10 W Speaker Output</td>\n",
       "      <td>50 Hz Refresh Rate</td>\n",
       "    </tr>\n",
       "    <tr>\n",
       "      <th>3</th>\n",
       "      <td>OnePlus</td>\n",
       "      <td>4.3</td>\n",
       "      <td>101256</td>\n",
       "      <td>9189</td>\n",
       "      <td>16499</td>\n",
       "      <td>21999</td>\n",
       "      <td>Netflix|Prime Video|Disney+Hotstar|Youtube</td>\n",
       "      <td>Operating System: Android</td>\n",
       "      <td>HD Ready 1366 x 768 Pixels</td>\n",
       "      <td>20 W Speaker Output</td>\n",
       "      <td>60 Hz Refresh Rate</td>\n",
       "    </tr>\n",
       "    <tr>\n",
       "      <th>4</th>\n",
       "      <td>Xiaomi</td>\n",
       "      <td>4.3</td>\n",
       "      <td>3120</td>\n",
       "      <td>305</td>\n",
       "      <td>15499</td>\n",
       "      <td>24999</td>\n",
       "      <td>Netflix|Prime Video|Disney+Hotstar|Youtube</td>\n",
       "      <td>Operating System: Android</td>\n",
       "      <td>HD Ready 1366 x 768 Pixels</td>\n",
       "      <td>20 W Speaker Output</td>\n",
       "      <td>60 Hz Refresh Rate</td>\n",
       "    </tr>\n",
       "    <tr>\n",
       "      <th>...</th>\n",
       "      <td>...</td>\n",
       "      <td>...</td>\n",
       "      <td>...</td>\n",
       "      <td>...</td>\n",
       "      <td>...</td>\n",
       "      <td>...</td>\n",
       "      <td>...</td>\n",
       "      <td>...</td>\n",
       "      <td>...</td>\n",
       "      <td>...</td>\n",
       "      <td>...</td>\n",
       "    </tr>\n",
       "    <tr>\n",
       "      <th>661</th>\n",
       "      <td>SONY</td>\n",
       "      <td>4.6</td>\n",
       "      <td>0</td>\n",
       "      <td>0</td>\n",
       "      <td>59999</td>\n",
       "      <td>94900</td>\n",
       "      <td>Ultra HD (4K) 3840 x 2160 pixels Pixels</td>\n",
       "      <td>NO Speaker Output</td>\n",
       "      <td>60 Hz Refresh Rate</td>\n",
       "      <td>2 x HDMI | 1 x USB</td>\n",
       "      <td>1 YEAR</td>\n",
       "    </tr>\n",
       "    <tr>\n",
       "      <th>662</th>\n",
       "      <td>SONY</td>\n",
       "      <td>4.5</td>\n",
       "      <td>6056</td>\n",
       "      <td>1082</td>\n",
       "      <td>34184</td>\n",
       "      <td>68400</td>\n",
       "      <td>Netflix|Prime Video|Youtube</td>\n",
       "      <td>Operating System: Linux based</td>\n",
       "      <td>Ultra HD (4K) 3840 x 2160 Pixels</td>\n",
       "      <td>20 W Speaker Output</td>\n",
       "      <td>50 Hz Refresh Rate</td>\n",
       "    </tr>\n",
       "    <tr>\n",
       "      <th>663</th>\n",
       "      <td>Croma</td>\n",
       "      <td>0.0</td>\n",
       "      <td>0</td>\n",
       "      <td>0</td>\n",
       "      <td>9194</td>\n",
       "      <td>20000</td>\n",
       "      <td>HD Ready 1366 x 786 Pixels</td>\n",
       "      <td>20 Speaker Output</td>\n",
       "      <td>60 Hz Refresh Rate</td>\n",
       "      <td>2 x HDMI | 2 x USB</td>\n",
       "      <td>3 Years Warranty</td>\n",
       "    </tr>\n",
       "    <tr>\n",
       "      <th>664</th>\n",
       "      <td>T-Series</td>\n",
       "      <td>0.0</td>\n",
       "      <td>0</td>\n",
       "      <td>0</td>\n",
       "      <td>26999</td>\n",
       "      <td>33990</td>\n",
       "      <td>Netflix|Prime Video|Apple TV|Disney+Hotstar|Yo...</td>\n",
       "      <td>Full HD 1920 x 1080 Pixels</td>\n",
       "      <td>16 Speaker Output</td>\n",
       "      <td>50 Hz Refresh Rate</td>\n",
       "      <td>2 x HDMI | 2 x USB</td>\n",
       "    </tr>\n",
       "    <tr>\n",
       "      <th>665</th>\n",
       "      <td>SONY</td>\n",
       "      <td>4.4</td>\n",
       "      <td>0</td>\n",
       "      <td>0</td>\n",
       "      <td>52949</td>\n",
       "      <td>72990</td>\n",
       "      <td>Ultra HD (4K) 3840 x 2160 pixels Pixels</td>\n",
       "      <td>10W + 10W Speaker Output</td>\n",
       "      <td>50 Hz Refresh Rate</td>\n",
       "      <td>2 x HDMI | 2 x USB</td>\n",
       "      <td>1 YEAR</td>\n",
       "    </tr>\n",
       "  </tbody>\n",
       "</table>\n",
       "<p>666 rows × 11 columns</p>\n",
       "</div>"
      ],
      "text/plain": [
       "    Product_Name  Stars  Ratings  Reviews  current_price    MRP  \\\n",
       "0          Croma    4.2     1773      217           7990  20000   \n",
       "1          Adsun    3.8     6742      930           8699  21999   \n",
       "2             LG    4.4    38870     3443          16499  21990   \n",
       "3        OnePlus    4.3   101256     9189          16499  21999   \n",
       "4         Xiaomi    4.3     3120      305          15499  24999   \n",
       "..           ...    ...      ...      ...            ...    ...   \n",
       "661         SONY    4.6        0        0          59999  94900   \n",
       "662         SONY    4.5     6056     1082          34184  68400   \n",
       "663        Croma    0.0        0        0           9194  20000   \n",
       "664     T-Series    0.0        0        0          26999  33990   \n",
       "665         SONY    4.4        0        0          52949  72990   \n",
       "\n",
       "                                               channel  \\\n",
       "0                           HD Ready 1366 x 768 Pixels   \n",
       "1                       Netflix|Disney+Hotstar|Youtube   \n",
       "2           Netflix|Prime Video|Disney+Hotstar|Youtube   \n",
       "3           Netflix|Prime Video|Disney+Hotstar|Youtube   \n",
       "4           Netflix|Prime Video|Disney+Hotstar|Youtube   \n",
       "..                                                 ...   \n",
       "661            Ultra HD (4K) 3840 x 2160 pixels Pixels   \n",
       "662                        Netflix|Prime Video|Youtube   \n",
       "663                         HD Ready 1366 x 786 Pixels   \n",
       "664  Netflix|Prime Video|Apple TV|Disney+Hotstar|Yo...   \n",
       "665            Ultra HD (4K) 3840 x 2160 pixels Pixels   \n",
       "\n",
       "                    Operating_system                   Picture_quality  \\\n",
       "0                  20 Speaker Output                60 Hz Refresh Rate   \n",
       "1    Operating System: Android Based        HD Ready 1366 x 768 Pixels   \n",
       "2            Operating System: WebOS        HD Ready 1366 x 768 Pixels   \n",
       "3          Operating System: Android        HD Ready 1366 x 768 Pixels   \n",
       "4          Operating System: Android        HD Ready 1366 x 768 Pixels   \n",
       "..                               ...                               ...   \n",
       "661                NO Speaker Output                60 Hz Refresh Rate   \n",
       "662    Operating System: Linux based  Ultra HD (4K) 3840 x 2160 Pixels   \n",
       "663                20 Speaker Output                60 Hz Refresh Rate   \n",
       "664       Full HD 1920 x 1080 Pixels                 16 Speaker Output   \n",
       "665         10W + 10W Speaker Output                50 Hz Refresh Rate   \n",
       "\n",
       "                 Speaker           Frequency  \n",
       "0     2 x HDMI | 2 x USB     1 Year Warranty  \n",
       "1    20 W Speaker Output  60 Hz Refresh Rate  \n",
       "2    10 W Speaker Output  50 Hz Refresh Rate  \n",
       "3    20 W Speaker Output  60 Hz Refresh Rate  \n",
       "4    20 W Speaker Output  60 Hz Refresh Rate  \n",
       "..                   ...                 ...  \n",
       "661   2 x HDMI | 1 x USB              1 YEAR  \n",
       "662  20 W Speaker Output  50 Hz Refresh Rate  \n",
       "663   2 x HDMI | 2 x USB    3 Years Warranty  \n",
       "664   50 Hz Refresh Rate  2 x HDMI | 2 x USB  \n",
       "665   2 x HDMI | 2 x USB              1 YEAR  \n",
       "\n",
       "[666 rows x 11 columns]"
      ]
     },
     "execution_count": 46,
     "metadata": {},
     "output_type": "execute_result"
    }
   ],
   "source": [
    "df1 = df.copy()\n",
    "df1"
   ]
  },
  {
   "attachments": {},
   "cell_type": "markdown",
   "metadata": {},
   "source": [
    "str.contains(\"[0-9]){2,3} Hz\",regex=True)\n",
    "\n",
    "2,3자리 숫자 뒤 반드시 Hz 표기됨"
   ]
  },
  {
   "cell_type": "code",
   "execution_count": 58,
   "metadata": {},
   "outputs": [
    {
     "data": {
      "text/plain": [
       "array(['60 Hz Refresh Rate', '50 Hz Refresh Rate', '120 Hz Refresh Rate',\n",
       "       '100 Hz Refresh Rate', '800 Hz Refresh Rate',\n",
       "       '200 Hz Refresh Rate'], dtype=object)"
      ]
     },
     "execution_count": 58,
     "metadata": {},
     "output_type": "execute_result"
    }
   ],
   "source": [
    "check = df1['Frequency'].str.contains(\"[0-9]{2,3} Hz\",regex=True)\n",
    "df1.loc[check,'Frequency'].unique()"
   ]
  },
  {
   "cell_type": "code",
   "execution_count": 57,
   "metadata": {},
   "outputs": [
    {
     "data": {
      "text/plain": [
       "array(['60 Hz Refresh Rate', '120 Hz Refresh Rate', '100 Hz Refresh Rate',\n",
       "       '200 Hz Refresh Rate', '58 Hz Refresh Rate', '50 Hz Refresh Rate',\n",
       "       '60 Hz Refresh Rate for a blur-free picture quality',\n",
       "       '300 Hz Refresh Rate'], dtype=object)"
      ]
     },
     "execution_count": 57,
     "metadata": {},
     "output_type": "execute_result"
    }
   ],
   "source": [
    "check = df1['Picture_quality'].str.contains(\"[0-9]{2,3} Hz\")\n",
    "df1.loc[check,'Picture_quality'].unique()"
   ]
  },
  {
   "cell_type": "code",
   "execution_count": 56,
   "metadata": {},
   "outputs": [
    {
     "data": {
      "text/plain": [
       "array(['60 Hz Refresh Rate', '50 Hz Refresh Rate', '200 Hz Refresh Rate',\n",
       "       '120 Hz Refresh Rate', '100 Hz Refresh Rate'], dtype=object)"
      ]
     },
     "execution_count": 56,
     "metadata": {},
     "output_type": "execute_result"
    }
   ],
   "source": [
    "check = df1['Speaker'].str.contains(\"[0-9]{2,3} Hz\")\n",
    "df1.loc[check,'Speaker'].unique()"
   ]
  },
  {
   "cell_type": "code",
   "execution_count": 47,
   "metadata": {},
   "outputs": [],
   "source": [
    "have_60Hz = (df1['Frequency'].str.contains('60 Hz'))|(df1['Picture_quality'].str.contains('60 Hz'))|(df1['Speaker'].str.contains('60 Hz'))"
   ]
  },
  {
   "cell_type": "code",
   "execution_count": 48,
   "metadata": {},
   "outputs": [
    {
     "data": {
      "text/plain": [
       "(510, 11)"
      ]
     },
     "execution_count": 48,
     "metadata": {},
     "output_type": "execute_result"
    }
   ],
   "source": [
    "df1.loc[have_60Hz,:].shape"
   ]
  },
  {
   "attachments": {},
   "cell_type": "markdown",
   "metadata": {},
   "source": [
    "### Q2"
   ]
  },
  {
   "cell_type": "code",
   "execution_count": 60,
   "metadata": {},
   "outputs": [
    {
     "data": {
      "text/plain": [
       "Index(['Product_Name', 'Stars', 'Ratings', 'Reviews', 'current_price', 'MRP',\n",
       "       'channel', 'Operating_system', 'Picture_quality', 'Speaker',\n",
       "       'Frequency'],\n",
       "      dtype='object')"
      ]
     },
     "execution_count": 60,
     "metadata": {},
     "output_type": "execute_result"
    }
   ],
   "source": [
    "df2 = df.copy()\n",
    "df2.columns"
   ]
  },
  {
   "cell_type": "code",
   "execution_count": null,
   "metadata": {},
   "outputs": [],
   "source": [
    "df2.loc[:,'channel':'Picture_quality']"
   ]
  }
 ],
 "metadata": {
  "kernelspec": {
   "display_name": ".venv",
   "language": "python",
   "name": "python3"
  },
  "language_info": {
   "codemirror_mode": {
    "name": "ipython",
    "version": 3
   },
   "file_extension": ".py",
   "mimetype": "text/x-python",
   "name": "python",
   "nbconvert_exporter": "python",
   "pygments_lexer": "ipython3",
   "version": "3.9.10"
  },
  "orig_nbformat": 4
 },
 "nbformat": 4,
 "nbformat_minor": 2
}
