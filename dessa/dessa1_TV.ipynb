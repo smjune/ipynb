{
 "cells": [
  {
   "cell_type": "code",
   "execution_count": 1,
   "metadata": {},
   "outputs": [],
   "source": [
    "import numpy as np\n",
    "import pandas as pd"
   ]
  },
  {
   "cell_type": "code",
   "execution_count": 2,
   "metadata": {},
   "outputs": [],
   "source": [
    "df=pd.read_csv('TV.csv')"
   ]
  },
  {
   "attachments": {},
   "cell_type": "markdown",
   "metadata": {},
   "source": [
    "### Q1"
   ]
  },
  {
   "cell_type": "code",
   "execution_count": 3,
   "metadata": {},
   "outputs": [
    {
     "data": {
      "text/html": [
       "<div>\n",
       "<style scoped>\n",
       "    .dataframe tbody tr th:only-of-type {\n",
       "        vertical-align: middle;\n",
       "    }\n",
       "\n",
       "    .dataframe tbody tr th {\n",
       "        vertical-align: top;\n",
       "    }\n",
       "\n",
       "    .dataframe thead th {\n",
       "        text-align: right;\n",
       "    }\n",
       "</style>\n",
       "<table border=\"1\" class=\"dataframe\">\n",
       "  <thead>\n",
       "    <tr style=\"text-align: right;\">\n",
       "      <th></th>\n",
       "      <th>Product_Name</th>\n",
       "      <th>Stars</th>\n",
       "      <th>Ratings</th>\n",
       "      <th>Reviews</th>\n",
       "      <th>current_price</th>\n",
       "      <th>MRP</th>\n",
       "      <th>channel</th>\n",
       "      <th>Operating_system</th>\n",
       "      <th>Picture_quality</th>\n",
       "      <th>Speaker</th>\n",
       "      <th>Frequency</th>\n",
       "    </tr>\n",
       "  </thead>\n",
       "  <tbody>\n",
       "    <tr>\n",
       "      <th>0</th>\n",
       "      <td>Croma</td>\n",
       "      <td>4.2</td>\n",
       "      <td>1773</td>\n",
       "      <td>217</td>\n",
       "      <td>7990</td>\n",
       "      <td>20000</td>\n",
       "      <td>HD Ready 1366 x 768 Pixels</td>\n",
       "      <td>20 Speaker Output</td>\n",
       "      <td>60 Hz Refresh Rate</td>\n",
       "      <td>2 x HDMI | 2 x USB</td>\n",
       "      <td>1 Year Warranty</td>\n",
       "    </tr>\n",
       "    <tr>\n",
       "      <th>1</th>\n",
       "      <td>Adsun</td>\n",
       "      <td>3.8</td>\n",
       "      <td>6742</td>\n",
       "      <td>930</td>\n",
       "      <td>8699</td>\n",
       "      <td>21999</td>\n",
       "      <td>Netflix|Disney+Hotstar|Youtube</td>\n",
       "      <td>Operating System: Android Based</td>\n",
       "      <td>HD Ready 1366 x 768 Pixels</td>\n",
       "      <td>20 W Speaker Output</td>\n",
       "      <td>60 Hz Refresh Rate</td>\n",
       "    </tr>\n",
       "    <tr>\n",
       "      <th>2</th>\n",
       "      <td>LG</td>\n",
       "      <td>4.4</td>\n",
       "      <td>38870</td>\n",
       "      <td>3443</td>\n",
       "      <td>16499</td>\n",
       "      <td>21990</td>\n",
       "      <td>Netflix|Prime Video|Disney+Hotstar|Youtube</td>\n",
       "      <td>Operating System: WebOS</td>\n",
       "      <td>HD Ready 1366 x 768 Pixels</td>\n",
       "      <td>10 W Speaker Output</td>\n",
       "      <td>50 Hz Refresh Rate</td>\n",
       "    </tr>\n",
       "    <tr>\n",
       "      <th>3</th>\n",
       "      <td>OnePlus</td>\n",
       "      <td>4.3</td>\n",
       "      <td>101256</td>\n",
       "      <td>9189</td>\n",
       "      <td>16499</td>\n",
       "      <td>21999</td>\n",
       "      <td>Netflix|Prime Video|Disney+Hotstar|Youtube</td>\n",
       "      <td>Operating System: Android</td>\n",
       "      <td>HD Ready 1366 x 768 Pixels</td>\n",
       "      <td>20 W Speaker Output</td>\n",
       "      <td>60 Hz Refresh Rate</td>\n",
       "    </tr>\n",
       "    <tr>\n",
       "      <th>4</th>\n",
       "      <td>Xiaomi</td>\n",
       "      <td>4.3</td>\n",
       "      <td>3120</td>\n",
       "      <td>305</td>\n",
       "      <td>15499</td>\n",
       "      <td>24999</td>\n",
       "      <td>Netflix|Prime Video|Disney+Hotstar|Youtube</td>\n",
       "      <td>Operating System: Android</td>\n",
       "      <td>HD Ready 1366 x 768 Pixels</td>\n",
       "      <td>20 W Speaker Output</td>\n",
       "      <td>60 Hz Refresh Rate</td>\n",
       "    </tr>\n",
       "    <tr>\n",
       "      <th>...</th>\n",
       "      <td>...</td>\n",
       "      <td>...</td>\n",
       "      <td>...</td>\n",
       "      <td>...</td>\n",
       "      <td>...</td>\n",
       "      <td>...</td>\n",
       "      <td>...</td>\n",
       "      <td>...</td>\n",
       "      <td>...</td>\n",
       "      <td>...</td>\n",
       "      <td>...</td>\n",
       "    </tr>\n",
       "    <tr>\n",
       "      <th>661</th>\n",
       "      <td>SONY</td>\n",
       "      <td>4.6</td>\n",
       "      <td>0</td>\n",
       "      <td>0</td>\n",
       "      <td>59999</td>\n",
       "      <td>94900</td>\n",
       "      <td>Ultra HD (4K) 3840 x 2160 pixels Pixels</td>\n",
       "      <td>NO Speaker Output</td>\n",
       "      <td>60 Hz Refresh Rate</td>\n",
       "      <td>2 x HDMI | 1 x USB</td>\n",
       "      <td>1 YEAR</td>\n",
       "    </tr>\n",
       "    <tr>\n",
       "      <th>662</th>\n",
       "      <td>SONY</td>\n",
       "      <td>4.5</td>\n",
       "      <td>6056</td>\n",
       "      <td>1082</td>\n",
       "      <td>34184</td>\n",
       "      <td>68400</td>\n",
       "      <td>Netflix|Prime Video|Youtube</td>\n",
       "      <td>Operating System: Linux based</td>\n",
       "      <td>Ultra HD (4K) 3840 x 2160 Pixels</td>\n",
       "      <td>20 W Speaker Output</td>\n",
       "      <td>50 Hz Refresh Rate</td>\n",
       "    </tr>\n",
       "    <tr>\n",
       "      <th>663</th>\n",
       "      <td>Croma</td>\n",
       "      <td>0.0</td>\n",
       "      <td>0</td>\n",
       "      <td>0</td>\n",
       "      <td>9194</td>\n",
       "      <td>20000</td>\n",
       "      <td>HD Ready 1366 x 786 Pixels</td>\n",
       "      <td>20 Speaker Output</td>\n",
       "      <td>60 Hz Refresh Rate</td>\n",
       "      <td>2 x HDMI | 2 x USB</td>\n",
       "      <td>3 Years Warranty</td>\n",
       "    </tr>\n",
       "    <tr>\n",
       "      <th>664</th>\n",
       "      <td>T-Series</td>\n",
       "      <td>0.0</td>\n",
       "      <td>0</td>\n",
       "      <td>0</td>\n",
       "      <td>26999</td>\n",
       "      <td>33990</td>\n",
       "      <td>Netflix|Prime Video|Apple TV|Disney+Hotstar|Yo...</td>\n",
       "      <td>Full HD 1920 x 1080 Pixels</td>\n",
       "      <td>16 Speaker Output</td>\n",
       "      <td>50 Hz Refresh Rate</td>\n",
       "      <td>2 x HDMI | 2 x USB</td>\n",
       "    </tr>\n",
       "    <tr>\n",
       "      <th>665</th>\n",
       "      <td>SONY</td>\n",
       "      <td>4.4</td>\n",
       "      <td>0</td>\n",
       "      <td>0</td>\n",
       "      <td>52949</td>\n",
       "      <td>72990</td>\n",
       "      <td>Ultra HD (4K) 3840 x 2160 pixels Pixels</td>\n",
       "      <td>10W + 10W Speaker Output</td>\n",
       "      <td>50 Hz Refresh Rate</td>\n",
       "      <td>2 x HDMI | 2 x USB</td>\n",
       "      <td>1 YEAR</td>\n",
       "    </tr>\n",
       "  </tbody>\n",
       "</table>\n",
       "<p>666 rows × 11 columns</p>\n",
       "</div>"
      ],
      "text/plain": [
       "    Product_Name  Stars  Ratings  Reviews  current_price    MRP  \\\n",
       "0          Croma    4.2     1773      217           7990  20000   \n",
       "1          Adsun    3.8     6742      930           8699  21999   \n",
       "2             LG    4.4    38870     3443          16499  21990   \n",
       "3        OnePlus    4.3   101256     9189          16499  21999   \n",
       "4         Xiaomi    4.3     3120      305          15499  24999   \n",
       "..           ...    ...      ...      ...            ...    ...   \n",
       "661         SONY    4.6        0        0          59999  94900   \n",
       "662         SONY    4.5     6056     1082          34184  68400   \n",
       "663        Croma    0.0        0        0           9194  20000   \n",
       "664     T-Series    0.0        0        0          26999  33990   \n",
       "665         SONY    4.4        0        0          52949  72990   \n",
       "\n",
       "                                               channel  \\\n",
       "0                           HD Ready 1366 x 768 Pixels   \n",
       "1                       Netflix|Disney+Hotstar|Youtube   \n",
       "2           Netflix|Prime Video|Disney+Hotstar|Youtube   \n",
       "3           Netflix|Prime Video|Disney+Hotstar|Youtube   \n",
       "4           Netflix|Prime Video|Disney+Hotstar|Youtube   \n",
       "..                                                 ...   \n",
       "661            Ultra HD (4K) 3840 x 2160 pixels Pixels   \n",
       "662                        Netflix|Prime Video|Youtube   \n",
       "663                         HD Ready 1366 x 786 Pixels   \n",
       "664  Netflix|Prime Video|Apple TV|Disney+Hotstar|Yo...   \n",
       "665            Ultra HD (4K) 3840 x 2160 pixels Pixels   \n",
       "\n",
       "                    Operating_system                   Picture_quality  \\\n",
       "0                  20 Speaker Output                60 Hz Refresh Rate   \n",
       "1    Operating System: Android Based        HD Ready 1366 x 768 Pixels   \n",
       "2            Operating System: WebOS        HD Ready 1366 x 768 Pixels   \n",
       "3          Operating System: Android        HD Ready 1366 x 768 Pixels   \n",
       "4          Operating System: Android        HD Ready 1366 x 768 Pixels   \n",
       "..                               ...                               ...   \n",
       "661                NO Speaker Output                60 Hz Refresh Rate   \n",
       "662    Operating System: Linux based  Ultra HD (4K) 3840 x 2160 Pixels   \n",
       "663                20 Speaker Output                60 Hz Refresh Rate   \n",
       "664       Full HD 1920 x 1080 Pixels                 16 Speaker Output   \n",
       "665         10W + 10W Speaker Output                50 Hz Refresh Rate   \n",
       "\n",
       "                 Speaker           Frequency  \n",
       "0     2 x HDMI | 2 x USB     1 Year Warranty  \n",
       "1    20 W Speaker Output  60 Hz Refresh Rate  \n",
       "2    10 W Speaker Output  50 Hz Refresh Rate  \n",
       "3    20 W Speaker Output  60 Hz Refresh Rate  \n",
       "4    20 W Speaker Output  60 Hz Refresh Rate  \n",
       "..                   ...                 ...  \n",
       "661   2 x HDMI | 1 x USB              1 YEAR  \n",
       "662  20 W Speaker Output  50 Hz Refresh Rate  \n",
       "663   2 x HDMI | 2 x USB    3 Years Warranty  \n",
       "664   50 Hz Refresh Rate  2 x HDMI | 2 x USB  \n",
       "665   2 x HDMI | 2 x USB              1 YEAR  \n",
       "\n",
       "[666 rows x 11 columns]"
      ]
     },
     "execution_count": 3,
     "metadata": {},
     "output_type": "execute_result"
    }
   ],
   "source": [
    "df1 = df.copy()\n",
    "df1"
   ]
  },
  {
   "attachments": {},
   "cell_type": "markdown",
   "metadata": {},
   "source": [
    "pd.Series.str.contains(\"[0-9]){2,3} Hz\",regex=True)\n",
    "\n",
    "2,3자리 숫자 뒤 반드시 Hz 표기됨"
   ]
  },
  {
   "cell_type": "code",
   "execution_count": 4,
   "metadata": {},
   "outputs": [
    {
     "data": {
      "text/plain": [
       "array(['60 Hz Refresh Rate', '50 Hz Refresh Rate', '120 Hz Refresh Rate',\n",
       "       '100 Hz Refresh Rate', '800 Hz Refresh Rate',\n",
       "       '200 Hz Refresh Rate'], dtype=object)"
      ]
     },
     "execution_count": 4,
     "metadata": {},
     "output_type": "execute_result"
    }
   ],
   "source": [
    "check = df1['Frequency'].str.contains(\"[0-9]{2,3} Hz\",regex=True)\n",
    "df1.loc[check,'Frequency'].unique()"
   ]
  },
  {
   "cell_type": "code",
   "execution_count": 5,
   "metadata": {},
   "outputs": [
    {
     "data": {
      "text/plain": [
       "array(['60 Hz Refresh Rate', '120 Hz Refresh Rate', '100 Hz Refresh Rate',\n",
       "       '200 Hz Refresh Rate', '58 Hz Refresh Rate', '50 Hz Refresh Rate',\n",
       "       '60 Hz Refresh Rate for a blur-free picture quality',\n",
       "       '300 Hz Refresh Rate'], dtype=object)"
      ]
     },
     "execution_count": 5,
     "metadata": {},
     "output_type": "execute_result"
    }
   ],
   "source": [
    "check = df1['Picture_quality'].str.contains(\"[0-9]{2,3} Hz\")\n",
    "df1.loc[check,'Picture_quality'].unique()"
   ]
  },
  {
   "cell_type": "code",
   "execution_count": 6,
   "metadata": {},
   "outputs": [
    {
     "data": {
      "text/plain": [
       "array(['60 Hz Refresh Rate', '50 Hz Refresh Rate', '200 Hz Refresh Rate',\n",
       "       '120 Hz Refresh Rate', '100 Hz Refresh Rate'], dtype=object)"
      ]
     },
     "execution_count": 6,
     "metadata": {},
     "output_type": "execute_result"
    }
   ],
   "source": [
    "check = df1['Speaker'].str.contains(\"[0-9]{2,3} Hz\")\n",
    "df1.loc[check,'Speaker'].unique()"
   ]
  },
  {
   "cell_type": "code",
   "execution_count": 7,
   "metadata": {},
   "outputs": [],
   "source": [
    "have_60Hz = (df1['Frequency'].str.contains('60 Hz'))|(df1['Picture_quality'].str.contains('60 Hz'))|(df1['Speaker'].str.contains('60 Hz'))"
   ]
  },
  {
   "cell_type": "code",
   "execution_count": 8,
   "metadata": {},
   "outputs": [
    {
     "data": {
      "text/plain": [
       "(510, 11)"
      ]
     },
     "execution_count": 8,
     "metadata": {},
     "output_type": "execute_result"
    }
   ],
   "source": [
    "df1.loc[have_60Hz,:].shape"
   ]
  },
  {
   "attachments": {},
   "cell_type": "markdown",
   "metadata": {},
   "source": [
    "### Q2"
   ]
  },
  {
   "cell_type": "code",
   "execution_count": 9,
   "metadata": {},
   "outputs": [
    {
     "data": {
      "text/plain": [
       "Index(['Product_Name', 'Stars', 'Ratings', 'Reviews', 'current_price', 'MRP',\n",
       "       'channel', 'Operating_system', 'Picture_quality', 'Speaker',\n",
       "       'Frequency'],\n",
       "      dtype='object')"
      ]
     },
     "execution_count": 9,
     "metadata": {},
     "output_type": "execute_result"
    }
   ],
   "source": [
    "df2 = df.copy()\n",
    "df2.columns"
   ]
  },
  {
   "attachments": {},
   "cell_type": "markdown",
   "metadata": {},
   "source": [
    "df.apply(axis=1)"
   ]
  },
  {
   "cell_type": "code",
   "execution_count": 10,
   "metadata": {},
   "outputs": [
    {
     "data": {
      "text/plain": [
       "0      0\n",
       "1      0\n",
       "2      0\n",
       "3      0\n",
       "4      0\n",
       "      ..\n",
       "661    1\n",
       "662    1\n",
       "663    0\n",
       "664    0\n",
       "665    1\n",
       "Length: 666, dtype: int64"
      ]
     },
     "execution_count": 10,
     "metadata": {},
     "output_type": "execute_result"
    }
   ],
   "source": [
    "\n",
    "def func(row): \n",
    "    return row.str.contains('4K').sum()   # 각 axis=1 로 인해 각 row 의 sum 을 각각 총 666번 리턴한다. \n",
    "\n",
    "list_4k = df2.loc[:,'channel':'Picture_quality'].apply(func,axis=1)\n",
    "list_4k\n",
    "\n",
    "# apply 을 사용하는 이유: df 에서 str 을 사용할 수 없어서 한개 column (series) 씩 전달해서 사용한다. \n",
    "# 그런데 이건 컬럼을 전달 하는 것이라서.. row 을 전달해서 해서 columns 을 계산하려면 axis = 1 을 사용\n",
    "\n",
    "# df2.loc[:,'channel':'Picture_quality'].apply(lambda x : x.str.contains('4K).sum(),axis=1)"
   ]
  },
  {
   "attachments": {},
   "cell_type": "markdown",
   "metadata": {},
   "source": [
    "df.itertuples()"
   ]
  },
  {
   "cell_type": "code",
   "execution_count": 11,
   "metadata": {},
   "outputs": [
    {
     "data": {
      "text/plain": [
       "0      0\n",
       "1      0\n",
       "2      0\n",
       "3      0\n",
       "4      0\n",
       "      ..\n",
       "661    0\n",
       "662    0\n",
       "663    0\n",
       "664    0\n",
       "665    0\n",
       "Length: 666, dtype: int64"
      ]
     },
     "execution_count": 11,
     "metadata": {},
     "output_type": "execute_result"
    }
   ],
   "source": [
    "# 그럼 itertuples() 을 사용해 볼까?  - df 메소드, Series.itertuples()사용 불가\n",
    "# str 은 series 메소드 이므로, 튜플을 series 로 변경하여 사용해야 한다. \n",
    "\n",
    "list_8k = []\n",
    "\n",
    "for row in df2.loc[:,'channel':'Picture_quality'].itertuples(index=False):\n",
    "    list_8k.append(pd.Series(row).str.contains('8K').sum())\n",
    "list_8k= pd.Series(list_8k)\n",
    "list_8k"
   ]
  },
  {
   "cell_type": "code",
   "execution_count": 12,
   "metadata": {},
   "outputs": [
    {
     "data": {
      "text/plain": [
       "3.2180821917808218"
      ]
     },
     "execution_count": 12,
     "metadata": {},
     "output_type": "execute_result"
    }
   ],
   "source": [
    "mean_4k =df2.loc[list_4k.astype('bool'),'Stars'].mean()     # 1,0 을 bool타입으로변경해도되고\n",
    "mean_4k"
   ]
  },
  {
   "cell_type": "code",
   "execution_count": 13,
   "metadata": {},
   "outputs": [
    {
     "data": {
      "text/plain": [
       "3.6"
      ]
     },
     "execution_count": 13,
     "metadata": {},
     "output_type": "execute_result"
    }
   ],
   "source": [
    "mean_8k =df2.loc[list_8k==1,'Stars'].mean()          # 직접 값을 비교(조건식)해서 bool 형태로 리턴되게 해도 되고\n",
    "mean_8k"
   ]
  },
  {
   "cell_type": "code",
   "execution_count": 14,
   "metadata": {},
   "outputs": [
    {
     "data": {
      "text/plain": [
       "0.3819178082191783"
      ]
     },
     "execution_count": 14,
     "metadata": {},
     "output_type": "execute_result"
    }
   ],
   "source": [
    "abs(mean_4k - mean_8k)"
   ]
  },
  {
   "attachments": {},
   "cell_type": "markdown",
   "metadata": {},
   "source": [
    "### Q3"
   ]
  },
  {
   "cell_type": "code",
   "execution_count": 15,
   "metadata": {},
   "outputs": [
    {
     "data": {
      "text/plain": [
       "(666, 11)"
      ]
     },
     "execution_count": 15,
     "metadata": {},
     "output_type": "execute_result"
    }
   ],
   "source": [
    "df3 = df.copy()\n",
    "df3.shape"
   ]
  },
  {
   "cell_type": "code",
   "execution_count": 16,
   "metadata": {},
   "outputs": [],
   "source": [
    "df3_1 =pd.DataFrame()"
   ]
  },
  {
   "cell_type": "code",
   "execution_count": 17,
   "metadata": {},
   "outputs": [],
   "source": [
    "df3_1['Review_rate']= df3['Reviews']/df3['Ratings']\n",
    "df3_1['MRP'] = df3['MRP']\n",
    "df3_1['dis_rate'] = df3['current_price']/df3['MRP']"
   ]
  },
  {
   "cell_type": "code",
   "execution_count": 18,
   "metadata": {},
   "outputs": [],
   "source": [
    "df3_1['Netflix'] = df3['channel'].str.contains('Netflix')+0\n",
    "df3_1['Prime Video'] = df3['channel'].str.contains('Prime Video')+0"
   ]
  },
  {
   "attachments": {},
   "cell_type": "markdown",
   "metadata": {},
   "source": [
    "np.where(조건, 1, 0) = 조건 + 0"
   ]
  },
  {
   "cell_type": "code",
   "execution_count": 19,
   "metadata": {},
   "outputs": [],
   "source": [
    "df3_1['HI_den'] = np.where(df3['Picture_quality'].str.contains('4K|8K'),1,0)\n",
    "df3_1['Stars'] = df3['Stars']"
   ]
  },
  {
   "cell_type": "code",
   "execution_count": 20,
   "metadata": {},
   "outputs": [
    {
     "data": {
      "text/plain": [
       "(223, 7)"
      ]
     },
     "execution_count": 20,
     "metadata": {},
     "output_type": "execute_result"
    }
   ],
   "source": [
    "df3_1 = df3_1.dropna()\n",
    "df3_1.shape"
   ]
  },
  {
   "cell_type": "code",
   "execution_count": 21,
   "metadata": {},
   "outputs": [
    {
     "data": {
      "text/plain": [
       "(197, 7)"
      ]
     },
     "execution_count": 21,
     "metadata": {},
     "output_type": "execute_result"
    }
   ],
   "source": [
    "\n",
    "pi_op = df3['channel'].str.contains('Pixel|Oper')\n",
    "df3_1 =df3_1.loc[~pi_op,:]\n",
    "df3_1.shape"
   ]
  },
  {
   "cell_type": "code",
   "execution_count": 22,
   "metadata": {},
   "outputs": [
    {
     "data": {
      "text/plain": [
       "Index(['Review_rate', 'MRP', 'dis_rate', 'Netflix', 'Prime Video', 'HI_den',\n",
       "       'Stars'],\n",
       "      dtype='object')"
      ]
     },
     "execution_count": 22,
     "metadata": {},
     "output_type": "execute_result"
    }
   ],
   "source": [
    "df3_1.columns"
   ]
  },
  {
   "cell_type": "code",
   "execution_count": 23,
   "metadata": {},
   "outputs": [],
   "source": [
    "from sklearn.ensemble import RandomForestRegressor"
   ]
  },
  {
   "cell_type": "code",
   "execution_count": 24,
   "metadata": {},
   "outputs": [],
   "source": [
    "myRFR = RandomForestRegressor(random_state=123)"
   ]
  },
  {
   "cell_type": "code",
   "execution_count": 25,
   "metadata": {},
   "outputs": [
    {
     "data": {
      "text/html": [
       "<style>#sk-container-id-1 {color: black;background-color: white;}#sk-container-id-1 pre{padding: 0;}#sk-container-id-1 div.sk-toggleable {background-color: white;}#sk-container-id-1 label.sk-toggleable__label {cursor: pointer;display: block;width: 100%;margin-bottom: 0;padding: 0.3em;box-sizing: border-box;text-align: center;}#sk-container-id-1 label.sk-toggleable__label-arrow:before {content: \"▸\";float: left;margin-right: 0.25em;color: #696969;}#sk-container-id-1 label.sk-toggleable__label-arrow:hover:before {color: black;}#sk-container-id-1 div.sk-estimator:hover label.sk-toggleable__label-arrow:before {color: black;}#sk-container-id-1 div.sk-toggleable__content {max-height: 0;max-width: 0;overflow: hidden;text-align: left;background-color: #f0f8ff;}#sk-container-id-1 div.sk-toggleable__content pre {margin: 0.2em;color: black;border-radius: 0.25em;background-color: #f0f8ff;}#sk-container-id-1 input.sk-toggleable__control:checked~div.sk-toggleable__content {max-height: 200px;max-width: 100%;overflow: auto;}#sk-container-id-1 input.sk-toggleable__control:checked~label.sk-toggleable__label-arrow:before {content: \"▾\";}#sk-container-id-1 div.sk-estimator input.sk-toggleable__control:checked~label.sk-toggleable__label {background-color: #d4ebff;}#sk-container-id-1 div.sk-label input.sk-toggleable__control:checked~label.sk-toggleable__label {background-color: #d4ebff;}#sk-container-id-1 input.sk-hidden--visually {border: 0;clip: rect(1px 1px 1px 1px);clip: rect(1px, 1px, 1px, 1px);height: 1px;margin: -1px;overflow: hidden;padding: 0;position: absolute;width: 1px;}#sk-container-id-1 div.sk-estimator {font-family: monospace;background-color: #f0f8ff;border: 1px dotted black;border-radius: 0.25em;box-sizing: border-box;margin-bottom: 0.5em;}#sk-container-id-1 div.sk-estimator:hover {background-color: #d4ebff;}#sk-container-id-1 div.sk-parallel-item::after {content: \"\";width: 100%;border-bottom: 1px solid gray;flex-grow: 1;}#sk-container-id-1 div.sk-label:hover label.sk-toggleable__label {background-color: #d4ebff;}#sk-container-id-1 div.sk-serial::before {content: \"\";position: absolute;border-left: 1px solid gray;box-sizing: border-box;top: 0;bottom: 0;left: 50%;z-index: 0;}#sk-container-id-1 div.sk-serial {display: flex;flex-direction: column;align-items: center;background-color: white;padding-right: 0.2em;padding-left: 0.2em;position: relative;}#sk-container-id-1 div.sk-item {position: relative;z-index: 1;}#sk-container-id-1 div.sk-parallel {display: flex;align-items: stretch;justify-content: center;background-color: white;position: relative;}#sk-container-id-1 div.sk-item::before, #sk-container-id-1 div.sk-parallel-item::before {content: \"\";position: absolute;border-left: 1px solid gray;box-sizing: border-box;top: 0;bottom: 0;left: 50%;z-index: -1;}#sk-container-id-1 div.sk-parallel-item {display: flex;flex-direction: column;z-index: 1;position: relative;background-color: white;}#sk-container-id-1 div.sk-parallel-item:first-child::after {align-self: flex-end;width: 50%;}#sk-container-id-1 div.sk-parallel-item:last-child::after {align-self: flex-start;width: 50%;}#sk-container-id-1 div.sk-parallel-item:only-child::after {width: 0;}#sk-container-id-1 div.sk-dashed-wrapped {border: 1px dashed gray;margin: 0 0.4em 0.5em 0.4em;box-sizing: border-box;padding-bottom: 0.4em;background-color: white;}#sk-container-id-1 div.sk-label label {font-family: monospace;font-weight: bold;display: inline-block;line-height: 1.2em;}#sk-container-id-1 div.sk-label-container {text-align: center;}#sk-container-id-1 div.sk-container {/* jupyter's `normalize.less` sets `[hidden] { display: none; }` but bootstrap.min.css set `[hidden] { display: none !important; }` so we also need the `!important` here to be able to override the default hidden behavior on the sphinx rendered scikit-learn.org. See: https://github.com/scikit-learn/scikit-learn/issues/21755 */display: inline-block !important;position: relative;}#sk-container-id-1 div.sk-text-repr-fallback {display: none;}</style><div id=\"sk-container-id-1\" class=\"sk-top-container\"><div class=\"sk-text-repr-fallback\"><pre>RandomForestRegressor(random_state=123)</pre><b>In a Jupyter environment, please rerun this cell to show the HTML representation or trust the notebook. <br />On GitHub, the HTML representation is unable to render, please try loading this page with nbviewer.org.</b></div><div class=\"sk-container\" hidden><div class=\"sk-item\"><div class=\"sk-estimator sk-toggleable\"><input class=\"sk-toggleable__control sk-hidden--visually\" id=\"sk-estimator-id-1\" type=\"checkbox\" checked><label for=\"sk-estimator-id-1\" class=\"sk-toggleable__label sk-toggleable__label-arrow\">RandomForestRegressor</label><div class=\"sk-toggleable__content\"><pre>RandomForestRegressor(random_state=123)</pre></div></div></div></div></div>"
      ],
      "text/plain": [
       "RandomForestRegressor(random_state=123)"
      ]
     },
     "execution_count": 25,
     "metadata": {},
     "output_type": "execute_result"
    }
   ],
   "source": [
    "myRFR.fit(df3_1.iloc[:,:6],df3_1['Stars'])"
   ]
  },
  {
   "cell_type": "code",
   "execution_count": 26,
   "metadata": {},
   "outputs": [
    {
     "data": {
      "text/html": [
       "<div>\n",
       "<style scoped>\n",
       "    .dataframe tbody tr th:only-of-type {\n",
       "        vertical-align: middle;\n",
       "    }\n",
       "\n",
       "    .dataframe tbody tr th {\n",
       "        vertical-align: top;\n",
       "    }\n",
       "\n",
       "    .dataframe thead th {\n",
       "        text-align: right;\n",
       "    }\n",
       "</style>\n",
       "<table border=\"1\" class=\"dataframe\">\n",
       "  <thead>\n",
       "    <tr style=\"text-align: right;\">\n",
       "      <th></th>\n",
       "      <th>0</th>\n",
       "    </tr>\n",
       "  </thead>\n",
       "  <tbody>\n",
       "    <tr>\n",
       "      <th>Review_rate</th>\n",
       "      <td>0.312206</td>\n",
       "    </tr>\n",
       "    <tr>\n",
       "      <th>MRP</th>\n",
       "      <td>0.173840</td>\n",
       "    </tr>\n",
       "    <tr>\n",
       "      <th>dis_rate</th>\n",
       "      <td>0.444691</td>\n",
       "    </tr>\n",
       "    <tr>\n",
       "      <th>Netflix</th>\n",
       "      <td>0.027141</td>\n",
       "    </tr>\n",
       "    <tr>\n",
       "      <th>Prime Video</th>\n",
       "      <td>0.024004</td>\n",
       "    </tr>\n",
       "    <tr>\n",
       "      <th>HI_den</th>\n",
       "      <td>0.018118</td>\n",
       "    </tr>\n",
       "  </tbody>\n",
       "</table>\n",
       "</div>"
      ],
      "text/plain": [
       "                    0\n",
       "Review_rate  0.312206\n",
       "MRP          0.173840\n",
       "dis_rate     0.444691\n",
       "Netflix      0.027141\n",
       "Prime Video  0.024004\n",
       "HI_den       0.018118"
      ]
     },
     "execution_count": 26,
     "metadata": {},
     "output_type": "execute_result"
    }
   ],
   "source": [
    "result = pd.DataFrame(myRFR.feature_importances_, index=['Review_rate','MRP','dis_rate','Netflix','Prime Video','HI_den'])\n",
    "result"
   ]
  },
  {
   "cell_type": "code",
   "execution_count": null,
   "metadata": {},
   "outputs": [],
   "source": []
  }
 ],
 "metadata": {
  "kernelspec": {
   "display_name": ".venv",
   "language": "python",
   "name": "python3"
  },
  "language_info": {
   "codemirror_mode": {
    "name": "ipython",
    "version": 3
   },
   "file_extension": ".py",
   "mimetype": "text/x-python",
   "name": "python",
   "nbconvert_exporter": "python",
   "pygments_lexer": "ipython3",
   "version": "3.9.10"
  },
  "orig_nbformat": 4
 },
 "nbformat": 4,
 "nbformat_minor": 2
}
