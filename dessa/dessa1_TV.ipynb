{
 "cells": [
  {
   "cell_type": "code",
   "execution_count": 3,
   "metadata": {},
   "outputs": [],
   "source": [
    "import numpy as np\n",
    "import pandas as pd"
   ]
  },
  {
   "cell_type": "code",
   "execution_count": 4,
   "metadata": {},
   "outputs": [],
   "source": [
    "df=pd.read_csv('TV.csv')"
   ]
  },
  {
   "attachments": {},
   "cell_type": "markdown",
   "metadata": {},
   "source": [
    "### Q1"
   ]
  },
  {
   "cell_type": "code",
   "execution_count": 5,
   "metadata": {},
   "outputs": [
    {
     "data": {
      "text/html": [
       "<div>\n",
       "<style scoped>\n",
       "    .dataframe tbody tr th:only-of-type {\n",
       "        vertical-align: middle;\n",
       "    }\n",
       "\n",
       "    .dataframe tbody tr th {\n",
       "        vertical-align: top;\n",
       "    }\n",
       "\n",
       "    .dataframe thead th {\n",
       "        text-align: right;\n",
       "    }\n",
       "</style>\n",
       "<table border=\"1\" class=\"dataframe\">\n",
       "  <thead>\n",
       "    <tr style=\"text-align: right;\">\n",
       "      <th></th>\n",
       "      <th>Product_Name</th>\n",
       "      <th>Stars</th>\n",
       "      <th>Ratings</th>\n",
       "      <th>Reviews</th>\n",
       "      <th>current_price</th>\n",
       "      <th>MRP</th>\n",
       "      <th>channel</th>\n",
       "      <th>Operating_system</th>\n",
       "      <th>Picture_quality</th>\n",
       "      <th>Speaker</th>\n",
       "      <th>Frequency</th>\n",
       "    </tr>\n",
       "  </thead>\n",
       "  <tbody>\n",
       "    <tr>\n",
       "      <th>0</th>\n",
       "      <td>Croma</td>\n",
       "      <td>4.2</td>\n",
       "      <td>1773</td>\n",
       "      <td>217</td>\n",
       "      <td>7990</td>\n",
       "      <td>20000</td>\n",
       "      <td>HD Ready 1366 x 768 Pixels</td>\n",
       "      <td>20 Speaker Output</td>\n",
       "      <td>60 Hz Refresh Rate</td>\n",
       "      <td>2 x HDMI | 2 x USB</td>\n",
       "      <td>1 Year Warranty</td>\n",
       "    </tr>\n",
       "    <tr>\n",
       "      <th>1</th>\n",
       "      <td>Adsun</td>\n",
       "      <td>3.8</td>\n",
       "      <td>6742</td>\n",
       "      <td>930</td>\n",
       "      <td>8699</td>\n",
       "      <td>21999</td>\n",
       "      <td>Netflix|Disney+Hotstar|Youtube</td>\n",
       "      <td>Operating System: Android Based</td>\n",
       "      <td>HD Ready 1366 x 768 Pixels</td>\n",
       "      <td>20 W Speaker Output</td>\n",
       "      <td>60 Hz Refresh Rate</td>\n",
       "    </tr>\n",
       "    <tr>\n",
       "      <th>2</th>\n",
       "      <td>LG</td>\n",
       "      <td>4.4</td>\n",
       "      <td>38870</td>\n",
       "      <td>3443</td>\n",
       "      <td>16499</td>\n",
       "      <td>21990</td>\n",
       "      <td>Netflix|Prime Video|Disney+Hotstar|Youtube</td>\n",
       "      <td>Operating System: WebOS</td>\n",
       "      <td>HD Ready 1366 x 768 Pixels</td>\n",
       "      <td>10 W Speaker Output</td>\n",
       "      <td>50 Hz Refresh Rate</td>\n",
       "    </tr>\n",
       "    <tr>\n",
       "      <th>3</th>\n",
       "      <td>OnePlus</td>\n",
       "      <td>4.3</td>\n",
       "      <td>101256</td>\n",
       "      <td>9189</td>\n",
       "      <td>16499</td>\n",
       "      <td>21999</td>\n",
       "      <td>Netflix|Prime Video|Disney+Hotstar|Youtube</td>\n",
       "      <td>Operating System: Android</td>\n",
       "      <td>HD Ready 1366 x 768 Pixels</td>\n",
       "      <td>20 W Speaker Output</td>\n",
       "      <td>60 Hz Refresh Rate</td>\n",
       "    </tr>\n",
       "    <tr>\n",
       "      <th>4</th>\n",
       "      <td>Xiaomi</td>\n",
       "      <td>4.3</td>\n",
       "      <td>3120</td>\n",
       "      <td>305</td>\n",
       "      <td>15499</td>\n",
       "      <td>24999</td>\n",
       "      <td>Netflix|Prime Video|Disney+Hotstar|Youtube</td>\n",
       "      <td>Operating System: Android</td>\n",
       "      <td>HD Ready 1366 x 768 Pixels</td>\n",
       "      <td>20 W Speaker Output</td>\n",
       "      <td>60 Hz Refresh Rate</td>\n",
       "    </tr>\n",
       "    <tr>\n",
       "      <th>...</th>\n",
       "      <td>...</td>\n",
       "      <td>...</td>\n",
       "      <td>...</td>\n",
       "      <td>...</td>\n",
       "      <td>...</td>\n",
       "      <td>...</td>\n",
       "      <td>...</td>\n",
       "      <td>...</td>\n",
       "      <td>...</td>\n",
       "      <td>...</td>\n",
       "      <td>...</td>\n",
       "    </tr>\n",
       "    <tr>\n",
       "      <th>661</th>\n",
       "      <td>SONY</td>\n",
       "      <td>4.6</td>\n",
       "      <td>0</td>\n",
       "      <td>0</td>\n",
       "      <td>59999</td>\n",
       "      <td>94900</td>\n",
       "      <td>Ultra HD (4K) 3840 x 2160 pixels Pixels</td>\n",
       "      <td>NO Speaker Output</td>\n",
       "      <td>60 Hz Refresh Rate</td>\n",
       "      <td>2 x HDMI | 1 x USB</td>\n",
       "      <td>1 YEAR</td>\n",
       "    </tr>\n",
       "    <tr>\n",
       "      <th>662</th>\n",
       "      <td>SONY</td>\n",
       "      <td>4.5</td>\n",
       "      <td>6056</td>\n",
       "      <td>1082</td>\n",
       "      <td>34184</td>\n",
       "      <td>68400</td>\n",
       "      <td>Netflix|Prime Video|Youtube</td>\n",
       "      <td>Operating System: Linux based</td>\n",
       "      <td>Ultra HD (4K) 3840 x 2160 Pixels</td>\n",
       "      <td>20 W Speaker Output</td>\n",
       "      <td>50 Hz Refresh Rate</td>\n",
       "    </tr>\n",
       "    <tr>\n",
       "      <th>663</th>\n",
       "      <td>Croma</td>\n",
       "      <td>0.0</td>\n",
       "      <td>0</td>\n",
       "      <td>0</td>\n",
       "      <td>9194</td>\n",
       "      <td>20000</td>\n",
       "      <td>HD Ready 1366 x 786 Pixels</td>\n",
       "      <td>20 Speaker Output</td>\n",
       "      <td>60 Hz Refresh Rate</td>\n",
       "      <td>2 x HDMI | 2 x USB</td>\n",
       "      <td>3 Years Warranty</td>\n",
       "    </tr>\n",
       "    <tr>\n",
       "      <th>664</th>\n",
       "      <td>T-Series</td>\n",
       "      <td>0.0</td>\n",
       "      <td>0</td>\n",
       "      <td>0</td>\n",
       "      <td>26999</td>\n",
       "      <td>33990</td>\n",
       "      <td>Netflix|Prime Video|Apple TV|Disney+Hotstar|Yo...</td>\n",
       "      <td>Full HD 1920 x 1080 Pixels</td>\n",
       "      <td>16 Speaker Output</td>\n",
       "      <td>50 Hz Refresh Rate</td>\n",
       "      <td>2 x HDMI | 2 x USB</td>\n",
       "    </tr>\n",
       "    <tr>\n",
       "      <th>665</th>\n",
       "      <td>SONY</td>\n",
       "      <td>4.4</td>\n",
       "      <td>0</td>\n",
       "      <td>0</td>\n",
       "      <td>52949</td>\n",
       "      <td>72990</td>\n",
       "      <td>Ultra HD (4K) 3840 x 2160 pixels Pixels</td>\n",
       "      <td>10W + 10W Speaker Output</td>\n",
       "      <td>50 Hz Refresh Rate</td>\n",
       "      <td>2 x HDMI | 2 x USB</td>\n",
       "      <td>1 YEAR</td>\n",
       "    </tr>\n",
       "  </tbody>\n",
       "</table>\n",
       "<p>666 rows × 11 columns</p>\n",
       "</div>"
      ],
      "text/plain": [
       "    Product_Name  Stars  Ratings  Reviews  current_price    MRP  \\\n",
       "0          Croma    4.2     1773      217           7990  20000   \n",
       "1          Adsun    3.8     6742      930           8699  21999   \n",
       "2             LG    4.4    38870     3443          16499  21990   \n",
       "3        OnePlus    4.3   101256     9189          16499  21999   \n",
       "4         Xiaomi    4.3     3120      305          15499  24999   \n",
       "..           ...    ...      ...      ...            ...    ...   \n",
       "661         SONY    4.6        0        0          59999  94900   \n",
       "662         SONY    4.5     6056     1082          34184  68400   \n",
       "663        Croma    0.0        0        0           9194  20000   \n",
       "664     T-Series    0.0        0        0          26999  33990   \n",
       "665         SONY    4.4        0        0          52949  72990   \n",
       "\n",
       "                                               channel  \\\n",
       "0                           HD Ready 1366 x 768 Pixels   \n",
       "1                       Netflix|Disney+Hotstar|Youtube   \n",
       "2           Netflix|Prime Video|Disney+Hotstar|Youtube   \n",
       "3           Netflix|Prime Video|Disney+Hotstar|Youtube   \n",
       "4           Netflix|Prime Video|Disney+Hotstar|Youtube   \n",
       "..                                                 ...   \n",
       "661            Ultra HD (4K) 3840 x 2160 pixels Pixels   \n",
       "662                        Netflix|Prime Video|Youtube   \n",
       "663                         HD Ready 1366 x 786 Pixels   \n",
       "664  Netflix|Prime Video|Apple TV|Disney+Hotstar|Yo...   \n",
       "665            Ultra HD (4K) 3840 x 2160 pixels Pixels   \n",
       "\n",
       "                    Operating_system                   Picture_quality  \\\n",
       "0                  20 Speaker Output                60 Hz Refresh Rate   \n",
       "1    Operating System: Android Based        HD Ready 1366 x 768 Pixels   \n",
       "2            Operating System: WebOS        HD Ready 1366 x 768 Pixels   \n",
       "3          Operating System: Android        HD Ready 1366 x 768 Pixels   \n",
       "4          Operating System: Android        HD Ready 1366 x 768 Pixels   \n",
       "..                               ...                               ...   \n",
       "661                NO Speaker Output                60 Hz Refresh Rate   \n",
       "662    Operating System: Linux based  Ultra HD (4K) 3840 x 2160 Pixels   \n",
       "663                20 Speaker Output                60 Hz Refresh Rate   \n",
       "664       Full HD 1920 x 1080 Pixels                 16 Speaker Output   \n",
       "665         10W + 10W Speaker Output                50 Hz Refresh Rate   \n",
       "\n",
       "                 Speaker           Frequency  \n",
       "0     2 x HDMI | 2 x USB     1 Year Warranty  \n",
       "1    20 W Speaker Output  60 Hz Refresh Rate  \n",
       "2    10 W Speaker Output  50 Hz Refresh Rate  \n",
       "3    20 W Speaker Output  60 Hz Refresh Rate  \n",
       "4    20 W Speaker Output  60 Hz Refresh Rate  \n",
       "..                   ...                 ...  \n",
       "661   2 x HDMI | 1 x USB              1 YEAR  \n",
       "662  20 W Speaker Output  50 Hz Refresh Rate  \n",
       "663   2 x HDMI | 2 x USB    3 Years Warranty  \n",
       "664   50 Hz Refresh Rate  2 x HDMI | 2 x USB  \n",
       "665   2 x HDMI | 2 x USB              1 YEAR  \n",
       "\n",
       "[666 rows x 11 columns]"
      ]
     },
     "execution_count": 5,
     "metadata": {},
     "output_type": "execute_result"
    }
   ],
   "source": [
    "df1 = df.copy()\n",
    "df1"
   ]
  },
  {
   "attachments": {},
   "cell_type": "markdown",
   "metadata": {},
   "source": [
    "pd.Series.str.contains(\"[0-9]){2,3} Hz\",regex=True)\n",
    "\n",
    "2,3자리 숫자 뒤 반드시 Hz 표기됨"
   ]
  },
  {
   "cell_type": "code",
   "execution_count": 6,
   "metadata": {},
   "outputs": [
    {
     "data": {
      "text/plain": [
       "array(['60 Hz Refresh Rate', '50 Hz Refresh Rate', '120 Hz Refresh Rate',\n",
       "       '100 Hz Refresh Rate', '800 Hz Refresh Rate',\n",
       "       '200 Hz Refresh Rate'], dtype=object)"
      ]
     },
     "execution_count": 6,
     "metadata": {},
     "output_type": "execute_result"
    }
   ],
   "source": [
    "check = df1['Frequency'].str.contains(\"[0-9]{2,3} Hz\",regex=True)\n",
    "df1.loc[check,'Frequency'].unique()"
   ]
  },
  {
   "cell_type": "code",
   "execution_count": 7,
   "metadata": {},
   "outputs": [
    {
     "data": {
      "text/plain": [
       "array(['60 Hz Refresh Rate', '120 Hz Refresh Rate', '100 Hz Refresh Rate',\n",
       "       '200 Hz Refresh Rate', '58 Hz Refresh Rate', '50 Hz Refresh Rate',\n",
       "       '60 Hz Refresh Rate for a blur-free picture quality',\n",
       "       '300 Hz Refresh Rate'], dtype=object)"
      ]
     },
     "execution_count": 7,
     "metadata": {},
     "output_type": "execute_result"
    }
   ],
   "source": [
    "check = df1['Picture_quality'].str.contains(\"[0-9]{2,3} Hz\")\n",
    "df1.loc[check,'Picture_quality'].unique()"
   ]
  },
  {
   "cell_type": "code",
   "execution_count": 8,
   "metadata": {},
   "outputs": [
    {
     "data": {
      "text/plain": [
       "array(['60 Hz Refresh Rate', '50 Hz Refresh Rate', '200 Hz Refresh Rate',\n",
       "       '120 Hz Refresh Rate', '100 Hz Refresh Rate'], dtype=object)"
      ]
     },
     "execution_count": 8,
     "metadata": {},
     "output_type": "execute_result"
    }
   ],
   "source": [
    "check = df1['Speaker'].str.contains(\"[0-9]{2,3} Hz\")\n",
    "df1.loc[check,'Speaker'].unique()"
   ]
  },
  {
   "cell_type": "code",
   "execution_count": 9,
   "metadata": {},
   "outputs": [],
   "source": [
    "have_60Hz = (df1['Frequency'].str.contains('60 Hz'))|(df1['Picture_quality'].str.contains('60 Hz'))|(df1['Speaker'].str.contains('60 Hz'))"
   ]
  },
  {
   "cell_type": "code",
   "execution_count": 10,
   "metadata": {},
   "outputs": [
    {
     "data": {
      "text/plain": [
       "(510, 11)"
      ]
     },
     "execution_count": 10,
     "metadata": {},
     "output_type": "execute_result"
    }
   ],
   "source": [
    "df1.loc[have_60Hz,:].shape"
   ]
  },
  {
   "attachments": {},
   "cell_type": "markdown",
   "metadata": {},
   "source": [
    "### Q2"
   ]
  },
  {
   "cell_type": "code",
   "execution_count": 11,
   "metadata": {},
   "outputs": [
    {
     "data": {
      "text/plain": [
       "Index(['Product_Name', 'Stars', 'Ratings', 'Reviews', 'current_price', 'MRP',\n",
       "       'channel', 'Operating_system', 'Picture_quality', 'Speaker',\n",
       "       'Frequency'],\n",
       "      dtype='object')"
      ]
     },
     "execution_count": 11,
     "metadata": {},
     "output_type": "execute_result"
    }
   ],
   "source": [
    "df2 = df.copy()\n",
    "df2.columns"
   ]
  },
  {
   "attachments": {},
   "cell_type": "markdown",
   "metadata": {},
   "source": [
    "df.apply(axis=1)"
   ]
  },
  {
   "cell_type": "code",
   "execution_count": 12,
   "metadata": {},
   "outputs": [
    {
     "data": {
      "text/plain": [
       "0      0\n",
       "1      0\n",
       "2      0\n",
       "3      0\n",
       "4      0\n",
       "      ..\n",
       "661    1\n",
       "662    1\n",
       "663    0\n",
       "664    0\n",
       "665    1\n",
       "Length: 666, dtype: int64"
      ]
     },
     "execution_count": 12,
     "metadata": {},
     "output_type": "execute_result"
    }
   ],
   "source": [
    "\n",
    "def func(row): \n",
    "    return row.str.contains('4K').sum()   # 각 axis=1 로 인해 각 row 의 sum 을 각각 총 666번 리턴한다. \n",
    "\n",
    "list_4k = df2.loc[:,'channel':'Picture_quality'].apply(func,axis=1)\n",
    "list_4k\n",
    "\n",
    "# apply 을 사용하는 이유: df 에서 str 을 사용할 수 없어서 한개 column (series) 씩 전달해서 사용한다. \n",
    "# 그런데 이건 컬럼을 전달 하는 것이라서.. row 을 전달해서 해서 columns 을 계산하려면 axis = 1 을 사용\n",
    "\n",
    "# df2.loc[:,'channel':'Picture_quality'].apply(lambda x : x.str.contains('4K).sum(),axis=1)"
   ]
  },
  {
   "attachments": {},
   "cell_type": "markdown",
   "metadata": {},
   "source": [
    "df.itertuples()"
   ]
  },
  {
   "cell_type": "code",
   "execution_count": 13,
   "metadata": {},
   "outputs": [
    {
     "data": {
      "text/plain": [
       "0      0\n",
       "1      0\n",
       "2      0\n",
       "3      0\n",
       "4      0\n",
       "      ..\n",
       "661    0\n",
       "662    0\n",
       "663    0\n",
       "664    0\n",
       "665    0\n",
       "Length: 666, dtype: int64"
      ]
     },
     "execution_count": 13,
     "metadata": {},
     "output_type": "execute_result"
    }
   ],
   "source": [
    "# 그럼 itertuples() 을 사용해 볼까?  - df 메소드, Series.itertuples()사용 불가\n",
    "# str 은 series 메소드 이므로, 튜플을 series 로 변경하여 사용해야 한다. \n",
    "\n",
    "list_8k = []\n",
    "\n",
    "for row in df2.loc[:,'channel':'Picture_quality'].itertuples(index=False):\n",
    "    list_8k.append(pd.Series(row).str.contains('8K').sum())\n",
    "list_8k= pd.Series(list_8k)\n",
    "list_8k"
   ]
  },
  {
   "cell_type": "code",
   "execution_count": 14,
   "metadata": {},
   "outputs": [
    {
     "data": {
      "text/plain": [
       "3.2180821917808218"
      ]
     },
     "execution_count": 14,
     "metadata": {},
     "output_type": "execute_result"
    }
   ],
   "source": [
    "mean_4k =df2.loc[list_4k.astype('bool'),'Stars'].mean()     # 1,0 을 bool타입으로변경해도되고\n",
    "mean_4k"
   ]
  },
  {
   "cell_type": "code",
   "execution_count": 15,
   "metadata": {},
   "outputs": [
    {
     "data": {
      "text/plain": [
       "3.6"
      ]
     },
     "execution_count": 15,
     "metadata": {},
     "output_type": "execute_result"
    }
   ],
   "source": [
    "mean_8k =df2.loc[list_8k==1,'Stars'].mean()          # 직접 값을 비교(조건식)해서 bool 형태로 리턴되게 해도 되고\n",
    "mean_8k"
   ]
  },
  {
   "cell_type": "code",
   "execution_count": 16,
   "metadata": {},
   "outputs": [
    {
     "data": {
      "text/plain": [
       "0.3819178082191783"
      ]
     },
     "execution_count": 16,
     "metadata": {},
     "output_type": "execute_result"
    }
   ],
   "source": [
    "abs(mean_4k - mean_8k)"
   ]
  },
  {
   "attachments": {},
   "cell_type": "markdown",
   "metadata": {},
   "source": [
    "### Q3"
   ]
  },
  {
   "cell_type": "code",
   "execution_count": 17,
   "metadata": {},
   "outputs": [
    {
     "data": {
      "text/plain": [
       "(666, 11)"
      ]
     },
     "execution_count": 17,
     "metadata": {},
     "output_type": "execute_result"
    }
   ],
   "source": [
    "df3 = df.copy()\n",
    "df3.shape"
   ]
  },
  {
   "cell_type": "code",
   "execution_count": 18,
   "metadata": {},
   "outputs": [],
   "source": [
    "df3_1 =pd.DataFrame()"
   ]
  },
  {
   "cell_type": "code",
   "execution_count": 19,
   "metadata": {},
   "outputs": [],
   "source": [
    "df3_1['Review_rate']= df3['Reviews']/df3['Ratings']\n",
    "df3_1['MRP'] = df3['MRP']\n",
    "df3_1['dis_rate'] = df3['current_price']/df3['MRP']"
   ]
  },
  {
   "cell_type": "code",
   "execution_count": 20,
   "metadata": {},
   "outputs": [],
   "source": [
    "df3_1['Netflix'] = df3['channel'].str.contains('Netflix')+0\n",
    "df3_1['Prime Video'] = df3['channel'].str.contains('Prime Video')+0"
   ]
  },
  {
   "attachments": {},
   "cell_type": "markdown",
   "metadata": {},
   "source": [
    "np.where(조건, 1, 0) = 조건 + 0"
   ]
  },
  {
   "cell_type": "code",
   "execution_count": 21,
   "metadata": {},
   "outputs": [],
   "source": [
    "df3_1['HI_den'] = np.where(df3['Picture_quality'].str.contains('4K|8K'),1,0)\n",
    "df3_1['Stars'] = df3['Stars']"
   ]
  },
  {
   "cell_type": "code",
   "execution_count": 22,
   "metadata": {},
   "outputs": [
    {
     "data": {
      "text/plain": [
       "(223, 7)"
      ]
     },
     "execution_count": 22,
     "metadata": {},
     "output_type": "execute_result"
    }
   ],
   "source": [
    "df3_1 = df3_1.dropna()\n",
    "df3_1.shape"
   ]
  },
  {
   "cell_type": "code",
   "execution_count": 23,
   "metadata": {},
   "outputs": [
    {
     "data": {
      "text/plain": [
       "(197, 7)"
      ]
     },
     "execution_count": 23,
     "metadata": {},
     "output_type": "execute_result"
    }
   ],
   "source": [
    "\n",
    "pi_op = df3['channel'].str.contains('Pixel|Oper')\n",
    "df3_1 =df3_1.loc[~pi_op,:]\n",
    "df3_1.shape"
   ]
  },
  {
   "cell_type": "code",
   "execution_count": 24,
   "metadata": {},
   "outputs": [
    {
     "data": {
      "text/plain": [
       "Index(['Review_rate', 'MRP', 'dis_rate', 'Netflix', 'Prime Video', 'HI_den',\n",
       "       'Stars'],\n",
       "      dtype='object')"
      ]
     },
     "execution_count": 24,
     "metadata": {},
     "output_type": "execute_result"
    }
   ],
   "source": [
    "df3_1.columns"
   ]
  },
  {
   "cell_type": "code",
   "execution_count": 25,
   "metadata": {},
   "outputs": [],
   "source": [
    "from sklearn.ensemble import RandomForestRegressor"
   ]
  },
  {
   "cell_type": "code",
   "execution_count": 26,
   "metadata": {},
   "outputs": [],
   "source": [
    "myRFR = RandomForestRegressor(random_state=123)"
   ]
  },
  {
   "cell_type": "code",
   "execution_count": 27,
   "metadata": {},
   "outputs": [
    {
     "data": {
      "text/html": [
       "<style>#sk-container-id-1 {color: black;background-color: white;}#sk-container-id-1 pre{padding: 0;}#sk-container-id-1 div.sk-toggleable {background-color: white;}#sk-container-id-1 label.sk-toggleable__label {cursor: pointer;display: block;width: 100%;margin-bottom: 0;padding: 0.3em;box-sizing: border-box;text-align: center;}#sk-container-id-1 label.sk-toggleable__label-arrow:before {content: \"▸\";float: left;margin-right: 0.25em;color: #696969;}#sk-container-id-1 label.sk-toggleable__label-arrow:hover:before {color: black;}#sk-container-id-1 div.sk-estimator:hover label.sk-toggleable__label-arrow:before {color: black;}#sk-container-id-1 div.sk-toggleable__content {max-height: 0;max-width: 0;overflow: hidden;text-align: left;background-color: #f0f8ff;}#sk-container-id-1 div.sk-toggleable__content pre {margin: 0.2em;color: black;border-radius: 0.25em;background-color: #f0f8ff;}#sk-container-id-1 input.sk-toggleable__control:checked~div.sk-toggleable__content {max-height: 200px;max-width: 100%;overflow: auto;}#sk-container-id-1 input.sk-toggleable__control:checked~label.sk-toggleable__label-arrow:before {content: \"▾\";}#sk-container-id-1 div.sk-estimator input.sk-toggleable__control:checked~label.sk-toggleable__label {background-color: #d4ebff;}#sk-container-id-1 div.sk-label input.sk-toggleable__control:checked~label.sk-toggleable__label {background-color: #d4ebff;}#sk-container-id-1 input.sk-hidden--visually {border: 0;clip: rect(1px 1px 1px 1px);clip: rect(1px, 1px, 1px, 1px);height: 1px;margin: -1px;overflow: hidden;padding: 0;position: absolute;width: 1px;}#sk-container-id-1 div.sk-estimator {font-family: monospace;background-color: #f0f8ff;border: 1px dotted black;border-radius: 0.25em;box-sizing: border-box;margin-bottom: 0.5em;}#sk-container-id-1 div.sk-estimator:hover {background-color: #d4ebff;}#sk-container-id-1 div.sk-parallel-item::after {content: \"\";width: 100%;border-bottom: 1px solid gray;flex-grow: 1;}#sk-container-id-1 div.sk-label:hover label.sk-toggleable__label {background-color: #d4ebff;}#sk-container-id-1 div.sk-serial::before {content: \"\";position: absolute;border-left: 1px solid gray;box-sizing: border-box;top: 0;bottom: 0;left: 50%;z-index: 0;}#sk-container-id-1 div.sk-serial {display: flex;flex-direction: column;align-items: center;background-color: white;padding-right: 0.2em;padding-left: 0.2em;position: relative;}#sk-container-id-1 div.sk-item {position: relative;z-index: 1;}#sk-container-id-1 div.sk-parallel {display: flex;align-items: stretch;justify-content: center;background-color: white;position: relative;}#sk-container-id-1 div.sk-item::before, #sk-container-id-1 div.sk-parallel-item::before {content: \"\";position: absolute;border-left: 1px solid gray;box-sizing: border-box;top: 0;bottom: 0;left: 50%;z-index: -1;}#sk-container-id-1 div.sk-parallel-item {display: flex;flex-direction: column;z-index: 1;position: relative;background-color: white;}#sk-container-id-1 div.sk-parallel-item:first-child::after {align-self: flex-end;width: 50%;}#sk-container-id-1 div.sk-parallel-item:last-child::after {align-self: flex-start;width: 50%;}#sk-container-id-1 div.sk-parallel-item:only-child::after {width: 0;}#sk-container-id-1 div.sk-dashed-wrapped {border: 1px dashed gray;margin: 0 0.4em 0.5em 0.4em;box-sizing: border-box;padding-bottom: 0.4em;background-color: white;}#sk-container-id-1 div.sk-label label {font-family: monospace;font-weight: bold;display: inline-block;line-height: 1.2em;}#sk-container-id-1 div.sk-label-container {text-align: center;}#sk-container-id-1 div.sk-container {/* jupyter's `normalize.less` sets `[hidden] { display: none; }` but bootstrap.min.css set `[hidden] { display: none !important; }` so we also need the `!important` here to be able to override the default hidden behavior on the sphinx rendered scikit-learn.org. See: https://github.com/scikit-learn/scikit-learn/issues/21755 */display: inline-block !important;position: relative;}#sk-container-id-1 div.sk-text-repr-fallback {display: none;}</style><div id=\"sk-container-id-1\" class=\"sk-top-container\"><div class=\"sk-text-repr-fallback\"><pre>RandomForestRegressor(random_state=123)</pre><b>In a Jupyter environment, please rerun this cell to show the HTML representation or trust the notebook. <br />On GitHub, the HTML representation is unable to render, please try loading this page with nbviewer.org.</b></div><div class=\"sk-container\" hidden><div class=\"sk-item\"><div class=\"sk-estimator sk-toggleable\"><input class=\"sk-toggleable__control sk-hidden--visually\" id=\"sk-estimator-id-1\" type=\"checkbox\" checked><label for=\"sk-estimator-id-1\" class=\"sk-toggleable__label sk-toggleable__label-arrow\">RandomForestRegressor</label><div class=\"sk-toggleable__content\"><pre>RandomForestRegressor(random_state=123)</pre></div></div></div></div></div>"
      ],
      "text/plain": [
       "RandomForestRegressor(random_state=123)"
      ]
     },
     "execution_count": 27,
     "metadata": {},
     "output_type": "execute_result"
    }
   ],
   "source": [
    "myRFR.fit(df3_1.iloc[:,:6],df3_1['Stars'])"
   ]
  },
  {
   "cell_type": "code",
   "execution_count": 28,
   "metadata": {},
   "outputs": [
    {
     "data": {
      "text/html": [
       "<div>\n",
       "<style scoped>\n",
       "    .dataframe tbody tr th:only-of-type {\n",
       "        vertical-align: middle;\n",
       "    }\n",
       "\n",
       "    .dataframe tbody tr th {\n",
       "        vertical-align: top;\n",
       "    }\n",
       "\n",
       "    .dataframe thead th {\n",
       "        text-align: right;\n",
       "    }\n",
       "</style>\n",
       "<table border=\"1\" class=\"dataframe\">\n",
       "  <thead>\n",
       "    <tr style=\"text-align: right;\">\n",
       "      <th></th>\n",
       "      <th>0</th>\n",
       "    </tr>\n",
       "  </thead>\n",
       "  <tbody>\n",
       "    <tr>\n",
       "      <th>Review_rate</th>\n",
       "      <td>0.312206</td>\n",
       "    </tr>\n",
       "    <tr>\n",
       "      <th>MRP</th>\n",
       "      <td>0.173840</td>\n",
       "    </tr>\n",
       "    <tr>\n",
       "      <th>dis_rate</th>\n",
       "      <td>0.444691</td>\n",
       "    </tr>\n",
       "    <tr>\n",
       "      <th>Netflix</th>\n",
       "      <td>0.027141</td>\n",
       "    </tr>\n",
       "    <tr>\n",
       "      <th>Prime Video</th>\n",
       "      <td>0.024004</td>\n",
       "    </tr>\n",
       "    <tr>\n",
       "      <th>HI_den</th>\n",
       "      <td>0.018118</td>\n",
       "    </tr>\n",
       "  </tbody>\n",
       "</table>\n",
       "</div>"
      ],
      "text/plain": [
       "                    0\n",
       "Review_rate  0.312206\n",
       "MRP          0.173840\n",
       "dis_rate     0.444691\n",
       "Netflix      0.027141\n",
       "Prime Video  0.024004\n",
       "HI_den       0.018118"
      ]
     },
     "execution_count": 28,
     "metadata": {},
     "output_type": "execute_result"
    }
   ],
   "source": [
    "result = pd.DataFrame(myRFR.feature_importances_, index=['Review_rate','MRP','dis_rate','Netflix','Prime Video','HI_den'])\n",
    "result"
   ]
  },
  {
   "attachments": {},
   "cell_type": "markdown",
   "metadata": {},
   "source": [
    "### np.arange(start, stop, step)"
   ]
  },
  {
   "cell_type": "code",
   "execution_count": 29,
   "metadata": {},
   "outputs": [
    {
     "data": {
      "text/html": [
       "<div>\n",
       "<style scoped>\n",
       "    .dataframe tbody tr th:only-of-type {\n",
       "        vertical-align: middle;\n",
       "    }\n",
       "\n",
       "    .dataframe tbody tr th {\n",
       "        vertical-align: top;\n",
       "    }\n",
       "\n",
       "    .dataframe thead th {\n",
       "        text-align: right;\n",
       "    }\n",
       "</style>\n",
       "<table border=\"1\" class=\"dataframe\">\n",
       "  <thead>\n",
       "    <tr style=\"text-align: right;\">\n",
       "      <th></th>\n",
       "      <th>Product_Name</th>\n",
       "      <th>Stars</th>\n",
       "      <th>Ratings</th>\n",
       "      <th>Reviews</th>\n",
       "      <th>current_price</th>\n",
       "      <th>MRP</th>\n",
       "      <th>channel</th>\n",
       "      <th>Operating_system</th>\n",
       "      <th>Picture_quality</th>\n",
       "      <th>Speaker</th>\n",
       "      <th>Frequency</th>\n",
       "    </tr>\n",
       "  </thead>\n",
       "  <tbody>\n",
       "    <tr>\n",
       "      <th>0</th>\n",
       "      <td>Croma</td>\n",
       "      <td>4.2</td>\n",
       "      <td>1773</td>\n",
       "      <td>217</td>\n",
       "      <td>7990</td>\n",
       "      <td>20000</td>\n",
       "      <td>HD Ready 1366 x 768 Pixels</td>\n",
       "      <td>20 Speaker Output</td>\n",
       "      <td>60 Hz Refresh Rate</td>\n",
       "      <td>2 x HDMI | 2 x USB</td>\n",
       "      <td>1 Year Warranty</td>\n",
       "    </tr>\n",
       "    <tr>\n",
       "      <th>1</th>\n",
       "      <td>Adsun</td>\n",
       "      <td>3.8</td>\n",
       "      <td>6742</td>\n",
       "      <td>930</td>\n",
       "      <td>8699</td>\n",
       "      <td>21999</td>\n",
       "      <td>Netflix|Disney+Hotstar|Youtube</td>\n",
       "      <td>Operating System: Android Based</td>\n",
       "      <td>HD Ready 1366 x 768 Pixels</td>\n",
       "      <td>20 W Speaker Output</td>\n",
       "      <td>60 Hz Refresh Rate</td>\n",
       "    </tr>\n",
       "    <tr>\n",
       "      <th>2</th>\n",
       "      <td>LG</td>\n",
       "      <td>4.4</td>\n",
       "      <td>38870</td>\n",
       "      <td>3443</td>\n",
       "      <td>16499</td>\n",
       "      <td>21990</td>\n",
       "      <td>Netflix|Prime Video|Disney+Hotstar|Youtube</td>\n",
       "      <td>Operating System: WebOS</td>\n",
       "      <td>HD Ready 1366 x 768 Pixels</td>\n",
       "      <td>10 W Speaker Output</td>\n",
       "      <td>50 Hz Refresh Rate</td>\n",
       "    </tr>\n",
       "    <tr>\n",
       "      <th>3</th>\n",
       "      <td>OnePlus</td>\n",
       "      <td>4.3</td>\n",
       "      <td>101256</td>\n",
       "      <td>9189</td>\n",
       "      <td>16499</td>\n",
       "      <td>21999</td>\n",
       "      <td>Netflix|Prime Video|Disney+Hotstar|Youtube</td>\n",
       "      <td>Operating System: Android</td>\n",
       "      <td>HD Ready 1366 x 768 Pixels</td>\n",
       "      <td>20 W Speaker Output</td>\n",
       "      <td>60 Hz Refresh Rate</td>\n",
       "    </tr>\n",
       "    <tr>\n",
       "      <th>4</th>\n",
       "      <td>Xiaomi</td>\n",
       "      <td>4.3</td>\n",
       "      <td>3120</td>\n",
       "      <td>305</td>\n",
       "      <td>15499</td>\n",
       "      <td>24999</td>\n",
       "      <td>Netflix|Prime Video|Disney+Hotstar|Youtube</td>\n",
       "      <td>Operating System: Android</td>\n",
       "      <td>HD Ready 1366 x 768 Pixels</td>\n",
       "      <td>20 W Speaker Output</td>\n",
       "      <td>60 Hz Refresh Rate</td>\n",
       "    </tr>\n",
       "  </tbody>\n",
       "</table>\n",
       "</div>"
      ],
      "text/plain": [
       "  Product_Name  Stars  Ratings  Reviews  current_price    MRP  \\\n",
       "0        Croma    4.2     1773      217           7990  20000   \n",
       "1        Adsun    3.8     6742      930           8699  21999   \n",
       "2           LG    4.4    38870     3443          16499  21990   \n",
       "3      OnePlus    4.3   101256     9189          16499  21999   \n",
       "4       Xiaomi    4.3     3120      305          15499  24999   \n",
       "\n",
       "                                      channel  \\\n",
       "0                  HD Ready 1366 x 768 Pixels   \n",
       "1              Netflix|Disney+Hotstar|Youtube   \n",
       "2  Netflix|Prime Video|Disney+Hotstar|Youtube   \n",
       "3  Netflix|Prime Video|Disney+Hotstar|Youtube   \n",
       "4  Netflix|Prime Video|Disney+Hotstar|Youtube   \n",
       "\n",
       "                  Operating_system             Picture_quality  \\\n",
       "0                20 Speaker Output          60 Hz Refresh Rate   \n",
       "1  Operating System: Android Based  HD Ready 1366 x 768 Pixels   \n",
       "2          Operating System: WebOS  HD Ready 1366 x 768 Pixels   \n",
       "3        Operating System: Android  HD Ready 1366 x 768 Pixels   \n",
       "4        Operating System: Android  HD Ready 1366 x 768 Pixels   \n",
       "\n",
       "               Speaker           Frequency  \n",
       "0   2 x HDMI | 2 x USB     1 Year Warranty  \n",
       "1  20 W Speaker Output  60 Hz Refresh Rate  \n",
       "2  10 W Speaker Output  50 Hz Refresh Rate  \n",
       "3  20 W Speaker Output  60 Hz Refresh Rate  \n",
       "4  20 W Speaker Output  60 Hz Refresh Rate  "
      ]
     },
     "execution_count": 29,
     "metadata": {},
     "output_type": "execute_result"
    }
   ],
   "source": [
    "df.head(5)"
   ]
  },
  {
   "cell_type": "code",
   "execution_count": 30,
   "metadata": {},
   "outputs": [],
   "source": [
    "col_list1 = ['Stars','Ratings']\n",
    "col_list2 = ['Reviews','current_price','MRP']"
   ]
  },
  {
   "cell_type": "code",
   "execution_count": 44,
   "metadata": {},
   "outputs": [
    {
     "data": {
      "text/html": [
       "<div>\n",
       "<style scoped>\n",
       "    .dataframe tbody tr th:only-of-type {\n",
       "        vertical-align: middle;\n",
       "    }\n",
       "\n",
       "    .dataframe tbody tr th {\n",
       "        vertical-align: top;\n",
       "    }\n",
       "\n",
       "    .dataframe thead th {\n",
       "        text-align: right;\n",
       "    }\n",
       "</style>\n",
       "<table border=\"1\" class=\"dataframe\">\n",
       "  <thead>\n",
       "    <tr style=\"text-align: right;\">\n",
       "      <th></th>\n",
       "      <th>Stars_Reviews</th>\n",
       "      <th>Stars_current_price</th>\n",
       "      <th>Stars_MRP</th>\n",
       "      <th>Ratings_Reviews</th>\n",
       "      <th>Ratings_current_price</th>\n",
       "      <th>Ratings_MRP</th>\n",
       "    </tr>\n",
       "  </thead>\n",
       "  <tbody>\n",
       "    <tr>\n",
       "      <th>0</th>\n",
       "      <td>0.0</td>\n",
       "      <td>8699.00</td>\n",
       "      <td>16999.00</td>\n",
       "      <td>0.0</td>\n",
       "      <td>8699.00</td>\n",
       "      <td>16999.00</td>\n",
       "    </tr>\n",
       "    <tr>\n",
       "      <th>1</th>\n",
       "      <td>0.0</td>\n",
       "      <td>12499.00</td>\n",
       "      <td>19999.00</td>\n",
       "      <td>0.0</td>\n",
       "      <td>12499.00</td>\n",
       "      <td>19999.00</td>\n",
       "    </tr>\n",
       "    <tr>\n",
       "      <th>2</th>\n",
       "      <td>0.0</td>\n",
       "      <td>12999.00</td>\n",
       "      <td>22367.25</td>\n",
       "      <td>0.0</td>\n",
       "      <td>12999.00</td>\n",
       "      <td>22367.25</td>\n",
       "    </tr>\n",
       "    <tr>\n",
       "      <th>3</th>\n",
       "      <td>0.0</td>\n",
       "      <td>14999.00</td>\n",
       "      <td>22690.00</td>\n",
       "      <td>0.0</td>\n",
       "      <td>14999.00</td>\n",
       "      <td>22690.00</td>\n",
       "    </tr>\n",
       "    <tr>\n",
       "      <th>4</th>\n",
       "      <td>0.0</td>\n",
       "      <td>17421.75</td>\n",
       "      <td>25225.00</td>\n",
       "      <td>0.0</td>\n",
       "      <td>17421.75</td>\n",
       "      <td>25225.00</td>\n",
       "    </tr>\n",
       "    <tr>\n",
       "      <th>5</th>\n",
       "      <td>3.7</td>\n",
       "      <td>19945.80</td>\n",
       "      <td>29941.30</td>\n",
       "      <td>0.0</td>\n",
       "      <td>19949.50</td>\n",
       "      <td>29945.00</td>\n",
       "    </tr>\n",
       "    <tr>\n",
       "      <th>6</th>\n",
       "      <td>3.9</td>\n",
       "      <td>23995.10</td>\n",
       "      <td>32992.85</td>\n",
       "      <td>0.0</td>\n",
       "      <td>23999.00</td>\n",
       "      <td>32996.75</td>\n",
       "    </tr>\n",
       "    <tr>\n",
       "      <th>7</th>\n",
       "      <td>4.1</td>\n",
       "      <td>26994.90</td>\n",
       "      <td>37985.90</td>\n",
       "      <td>0.0</td>\n",
       "      <td>26999.00</td>\n",
       "      <td>37990.00</td>\n",
       "    </tr>\n",
       "    <tr>\n",
       "      <th>8</th>\n",
       "      <td>4.2</td>\n",
       "      <td>29994.80</td>\n",
       "      <td>42994.80</td>\n",
       "      <td>0.0</td>\n",
       "      <td>29999.00</td>\n",
       "      <td>42999.00</td>\n",
       "    </tr>\n",
       "    <tr>\n",
       "      <th>9</th>\n",
       "      <td>4.2</td>\n",
       "      <td>33994.80</td>\n",
       "      <td>48445.30</td>\n",
       "      <td>0.0</td>\n",
       "      <td>33999.00</td>\n",
       "      <td>48449.50</td>\n",
       "    </tr>\n",
       "    <tr>\n",
       "      <th>10</th>\n",
       "      <td>4.3</td>\n",
       "      <td>36994.70</td>\n",
       "      <td>54985.70</td>\n",
       "      <td>0.0</td>\n",
       "      <td>36999.00</td>\n",
       "      <td>54990.00</td>\n",
       "    </tr>\n",
       "    <tr>\n",
       "      <th>11</th>\n",
       "      <td>4.3</td>\n",
       "      <td>41994.70</td>\n",
       "      <td>59995.70</td>\n",
       "      <td>0.0</td>\n",
       "      <td>41999.00</td>\n",
       "      <td>60000.00</td>\n",
       "    </tr>\n",
       "    <tr>\n",
       "      <th>12</th>\n",
       "      <td>4.3</td>\n",
       "      <td>48895.70</td>\n",
       "      <td>69994.70</td>\n",
       "      <td>0.0</td>\n",
       "      <td>48900.00</td>\n",
       "      <td>69999.00</td>\n",
       "    </tr>\n",
       "    <tr>\n",
       "      <th>13</th>\n",
       "      <td>171.1</td>\n",
       "      <td>55964.10</td>\n",
       "      <td>79995.10</td>\n",
       "      <td>941.5</td>\n",
       "      <td>54851.50</td>\n",
       "      <td>78882.50</td>\n",
       "    </tr>\n",
       "    <tr>\n",
       "      <th>14</th>\n",
       "      <td>501.6</td>\n",
       "      <td>64604.85</td>\n",
       "      <td>94367.35</td>\n",
       "      <td>2394.0</td>\n",
       "      <td>61709.25</td>\n",
       "      <td>91471.75</td>\n",
       "    </tr>\n",
       "    <tr>\n",
       "      <th>15</th>\n",
       "      <td>878.6</td>\n",
       "      <td>77985.60</td>\n",
       "      <td>119895.60</td>\n",
       "      <td>4947.0</td>\n",
       "      <td>72160.00</td>\n",
       "      <td>114070.00</td>\n",
       "    </tr>\n",
       "    <tr>\n",
       "      <th>16</th>\n",
       "      <td>984.5</td>\n",
       "      <td>98820.50</td>\n",
       "      <td>149895.50</td>\n",
       "      <td>5988.0</td>\n",
       "      <td>91848.00</td>\n",
       "      <td>142923.00</td>\n",
       "    </tr>\n",
       "    <tr>\n",
       "      <th>17</th>\n",
       "      <td>2285.4</td>\n",
       "      <td>134940.40</td>\n",
       "      <td>199994.90</td>\n",
       "      <td>12526.5</td>\n",
       "      <td>120128.50</td>\n",
       "      <td>185183.00</td>\n",
       "    </tr>\n",
       "    <tr>\n",
       "      <th>18</th>\n",
       "      <td>4194.8</td>\n",
       "      <td>193737.55</td>\n",
       "      <td>292417.80</td>\n",
       "      <td>20903.0</td>\n",
       "      <td>168639.75</td>\n",
       "      <td>267320.00</td>\n",
       "    </tr>\n",
       "  </tbody>\n",
       "</table>\n",
       "</div>"
      ],
      "text/plain": [
       "    Stars_Reviews  Stars_current_price  Stars_MRP  Ratings_Reviews  \\\n",
       "0             0.0              8699.00   16999.00              0.0   \n",
       "1             0.0             12499.00   19999.00              0.0   \n",
       "2             0.0             12999.00   22367.25              0.0   \n",
       "3             0.0             14999.00   22690.00              0.0   \n",
       "4             0.0             17421.75   25225.00              0.0   \n",
       "5             3.7             19945.80   29941.30              0.0   \n",
       "6             3.9             23995.10   32992.85              0.0   \n",
       "7             4.1             26994.90   37985.90              0.0   \n",
       "8             4.2             29994.80   42994.80              0.0   \n",
       "9             4.2             33994.80   48445.30              0.0   \n",
       "10            4.3             36994.70   54985.70              0.0   \n",
       "11            4.3             41994.70   59995.70              0.0   \n",
       "12            4.3             48895.70   69994.70              0.0   \n",
       "13          171.1             55964.10   79995.10            941.5   \n",
       "14          501.6             64604.85   94367.35           2394.0   \n",
       "15          878.6             77985.60  119895.60           4947.0   \n",
       "16          984.5             98820.50  149895.50           5988.0   \n",
       "17         2285.4            134940.40  199994.90          12526.5   \n",
       "18         4194.8            193737.55  292417.80          20903.0   \n",
       "\n",
       "    Ratings_current_price  Ratings_MRP  \n",
       "0                 8699.00     16999.00  \n",
       "1                12499.00     19999.00  \n",
       "2                12999.00     22367.25  \n",
       "3                14999.00     22690.00  \n",
       "4                17421.75     25225.00  \n",
       "5                19949.50     29945.00  \n",
       "6                23999.00     32996.75  \n",
       "7                26999.00     37990.00  \n",
       "8                29999.00     42999.00  \n",
       "9                33999.00     48449.50  \n",
       "10               36999.00     54990.00  \n",
       "11               41999.00     60000.00  \n",
       "12               48900.00     69999.00  \n",
       "13               54851.50     78882.50  \n",
       "14               61709.25     91471.75  \n",
       "15               72160.00    114070.00  \n",
       "16               91848.00    142923.00  \n",
       "17              120128.50    185183.00  \n",
       "18              168639.75    267320.00  "
      ]
     },
     "execution_count": 44,
     "metadata": {},
     "output_type": "execute_result"
    }
   ],
   "source": [
    "qan_list = pd.DataFrame()\n",
    "\n",
    "for col1 in col_list1:\n",
    "    for col2 in col_list2:\n",
    "        q_list1 = []\n",
    "        q_list2= []\n",
    "        for i in np.arange(0.05, 1, 0.05):\n",
    "            q_list1.append(df[col1].quantile(i))\n",
    "            q_list2.append(df[col2].quantile(i))\n",
    "        com = col1+'_'+col2\n",
    "        qan_list[com] =(abs(pd.Series(q_list1) - pd.Series(q_list2)))\n",
    "\n",
    "qan_list\n"
   ]
  },
  {
   "cell_type": "code",
   "execution_count": 50,
   "metadata": {},
   "outputs": [
    {
     "name": "stdout",
     "output_type": "stream",
     "text": [
      "0.0\n",
      "0.0\n",
      "0.0\n",
      "0.0\n",
      "0.0\n",
      "3.7\n",
      "3.9\n",
      "4.1\n",
      "4.2\n",
      "4.2\n",
      "4.3\n",
      "4.3\n",
      "4.3\n",
      "4.4\n",
      "4.4\n",
      "4.4\n",
      "4.5\n",
      "4.6\n",
      "4.7\n"
     ]
    }
   ],
   "source": [
    "for i in np.arange(0.05, 1, 0.05):\n",
    "    print(df['Stars'].quantile(i))"
   ]
  },
  {
   "cell_type": "code",
   "execution_count": 33,
   "metadata": {},
   "outputs": [
    {
     "data": {
      "text/plain": [
       "0      16999.00\n",
       "1      19999.00\n",
       "2      22367.25\n",
       "3      22690.00\n",
       "4      25225.00\n",
       "5      29945.00\n",
       "6      32996.75\n",
       "7      37990.00\n",
       "8      42999.00\n",
       "9      48449.50\n",
       "10     54990.00\n",
       "11     60000.00\n",
       "12     69999.00\n",
       "13     79999.50\n",
       "14     94371.75\n",
       "15    119900.00\n",
       "16    149900.00\n",
       "17    199999.50\n",
       "18    292422.50\n",
       "Name: 1, dtype: float64"
      ]
     },
     "execution_count": 33,
     "metadata": {},
     "output_type": "execute_result"
    }
   ],
   "source": [
    "test = pd.qcut(df['MRP'], 20).cat.categories.to_series().reset_index(drop=True).drop(19).astype('str').str.split(',',expand=True)[1].str[:-1].astype('float')\n",
    "test"
   ]
  },
  {
   "cell_type": "code",
   "execution_count": 34,
   "metadata": {},
   "outputs": [
    {
     "ename": "ValueError",
     "evalue": "Bin edges must be unique: array([0. , 0. , 0. , 0. , 0. , 0. , 3.7, 3.9, 4.1, 4.2, 4.2, 4.3, 4.3,\n       4.3, 4.4, 4.4, 4.4, 4.5, 4.6, 4.7, 5. ]).\nYou can drop duplicate edges by setting the 'duplicates' kwarg",
     "output_type": "error",
     "traceback": [
      "\u001b[0;31m---------------------------------------------------------------------------\u001b[0m",
      "\u001b[0;31mValueError\u001b[0m                                Traceback (most recent call last)",
      "Cell \u001b[0;32mIn[34], line 4\u001b[0m\n\u001b[1;32m      2\u001b[0m \u001b[39mfor\u001b[39;00m col1 \u001b[39min\u001b[39;00m col_list1:\n\u001b[1;32m      3\u001b[0m     \u001b[39mfor\u001b[39;00m col2 \u001b[39min\u001b[39;00m col_list2:\n\u001b[0;32m----> 4\u001b[0m         q_col1 \u001b[39m=\u001b[39m pd\u001b[39m.\u001b[39;49mqcut(df[col1], \u001b[39m20\u001b[39;49m)\u001b[39m.\u001b[39mcat\u001b[39m.\u001b[39mcategories\u001b[39m.\u001b[39mto_series()\u001b[39m.\u001b[39mreset_index(drop\u001b[39m=\u001b[39m\u001b[39mTrue\u001b[39;00m)\u001b[39m.\u001b[39mdrop(\u001b[39m19\u001b[39m)\u001b[39m.\u001b[39mastype(\u001b[39m'\u001b[39m\u001b[39mstr\u001b[39m\u001b[39m'\u001b[39m)\u001b[39m.\u001b[39mstr\u001b[39m.\u001b[39msplit(\u001b[39m'\u001b[39m\u001b[39m,\u001b[39m\u001b[39m'\u001b[39m,expand\u001b[39m=\u001b[39m\u001b[39mTrue\u001b[39;00m)[\u001b[39m1\u001b[39m]\u001b[39m.\u001b[39mstr[:\u001b[39m-\u001b[39m\u001b[39m1\u001b[39m]\u001b[39m.\u001b[39mastype(\u001b[39m'\u001b[39m\u001b[39mfloat\u001b[39m\u001b[39m'\u001b[39m)\n\u001b[1;32m      5\u001b[0m         q_col2 \u001b[39m=\u001b[39m pd\u001b[39m.\u001b[39mqcut(df[col2], \u001b[39m20\u001b[39m)\u001b[39m.\u001b[39mcat\u001b[39m.\u001b[39mcategories\u001b[39m.\u001b[39mto_series()\u001b[39m.\u001b[39mreset_index(drop\u001b[39m=\u001b[39m\u001b[39mTrue\u001b[39;00m)\u001b[39m.\u001b[39mdrop(\u001b[39m19\u001b[39m)\u001b[39m.\u001b[39mastype(\u001b[39m'\u001b[39m\u001b[39mstr\u001b[39m\u001b[39m'\u001b[39m)\u001b[39m.\u001b[39mstr\u001b[39m.\u001b[39msplit(\u001b[39m'\u001b[39m\u001b[39m,\u001b[39m\u001b[39m'\u001b[39m,expand\u001b[39m=\u001b[39m\u001b[39mTrue\u001b[39;00m)[\u001b[39m1\u001b[39m]\u001b[39m.\u001b[39mstr[:\u001b[39m-\u001b[39m\u001b[39m1\u001b[39m]\u001b[39m.\u001b[39mastype(\u001b[39m'\u001b[39m\u001b[39mfloat\u001b[39m\u001b[39m'\u001b[39m)\n\u001b[1;32m      6\u001b[0m         com_list \u001b[39m=\u001b[39m col1\u001b[39m+\u001b[39m\u001b[39m'\u001b[39m\u001b[39m_\u001b[39m\u001b[39m'\u001b[39m\u001b[39m+\u001b[39mcol2\n",
      "File \u001b[0;32m~/Works/ipynb/.venv/lib/python3.9/site-packages/pandas/core/reshape/tile.py:379\u001b[0m, in \u001b[0;36mqcut\u001b[0;34m(x, q, labels, retbins, precision, duplicates)\u001b[0m\n\u001b[1;32m    376\u001b[0m x_np \u001b[39m=\u001b[39m x_np[\u001b[39m~\u001b[39mnp\u001b[39m.\u001b[39misnan(x_np)]\n\u001b[1;32m    377\u001b[0m bins \u001b[39m=\u001b[39m np\u001b[39m.\u001b[39mquantile(x_np, quantiles)\n\u001b[0;32m--> 379\u001b[0m fac, bins \u001b[39m=\u001b[39m _bins_to_cuts(\n\u001b[1;32m    380\u001b[0m     x,\n\u001b[1;32m    381\u001b[0m     bins,\n\u001b[1;32m    382\u001b[0m     labels\u001b[39m=\u001b[39;49mlabels,\n\u001b[1;32m    383\u001b[0m     precision\u001b[39m=\u001b[39;49mprecision,\n\u001b[1;32m    384\u001b[0m     include_lowest\u001b[39m=\u001b[39;49m\u001b[39mTrue\u001b[39;49;00m,\n\u001b[1;32m    385\u001b[0m     dtype\u001b[39m=\u001b[39;49mdtype,\n\u001b[1;32m    386\u001b[0m     duplicates\u001b[39m=\u001b[39;49mduplicates,\n\u001b[1;32m    387\u001b[0m )\n\u001b[1;32m    389\u001b[0m \u001b[39mreturn\u001b[39;00m _postprocess_for_cut(fac, bins, retbins, dtype, original)\n",
      "File \u001b[0;32m~/Works/ipynb/.venv/lib/python3.9/site-packages/pandas/core/reshape/tile.py:420\u001b[0m, in \u001b[0;36m_bins_to_cuts\u001b[0;34m(x, bins, right, labels, precision, include_lowest, dtype, duplicates, ordered)\u001b[0m\n\u001b[1;32m    418\u001b[0m \u001b[39mif\u001b[39;00m \u001b[39mlen\u001b[39m(unique_bins) \u001b[39m<\u001b[39m \u001b[39mlen\u001b[39m(bins) \u001b[39mand\u001b[39;00m \u001b[39mlen\u001b[39m(bins) \u001b[39m!=\u001b[39m \u001b[39m2\u001b[39m:\n\u001b[1;32m    419\u001b[0m     \u001b[39mif\u001b[39;00m duplicates \u001b[39m==\u001b[39m \u001b[39m\"\u001b[39m\u001b[39mraise\u001b[39m\u001b[39m\"\u001b[39m:\n\u001b[0;32m--> 420\u001b[0m         \u001b[39mraise\u001b[39;00m \u001b[39mValueError\u001b[39;00m(\n\u001b[1;32m    421\u001b[0m             \u001b[39mf\u001b[39m\u001b[39m\"\u001b[39m\u001b[39mBin edges must be unique: \u001b[39m\u001b[39m{\u001b[39;00m\u001b[39mrepr\u001b[39m(bins)\u001b[39m}\u001b[39;00m\u001b[39m.\u001b[39m\u001b[39m\\n\u001b[39;00m\u001b[39m\"\u001b[39m\n\u001b[1;32m    422\u001b[0m             \u001b[39mf\u001b[39m\u001b[39m\"\u001b[39m\u001b[39mYou can drop duplicate edges by setting the \u001b[39m\u001b[39m'\u001b[39m\u001b[39mduplicates\u001b[39m\u001b[39m'\u001b[39m\u001b[39m kwarg\u001b[39m\u001b[39m\"\u001b[39m\n\u001b[1;32m    423\u001b[0m         )\n\u001b[1;32m    424\u001b[0m     bins \u001b[39m=\u001b[39m unique_bins\n\u001b[1;32m    426\u001b[0m side: Literal[\u001b[39m\"\u001b[39m\u001b[39mleft\u001b[39m\u001b[39m\"\u001b[39m, \u001b[39m\"\u001b[39m\u001b[39mright\u001b[39m\u001b[39m\"\u001b[39m] \u001b[39m=\u001b[39m \u001b[39m\"\u001b[39m\u001b[39mleft\u001b[39m\u001b[39m\"\u001b[39m \u001b[39mif\u001b[39;00m right \u001b[39melse\u001b[39;00m \u001b[39m\"\u001b[39m\u001b[39mright\u001b[39m\u001b[39m\"\u001b[39m\n",
      "\u001b[0;31mValueError\u001b[0m: Bin edges must be unique: array([0. , 0. , 0. , 0. , 0. , 0. , 3.7, 3.9, 4.1, 4.2, 4.2, 4.3, 4.3,\n       4.3, 4.4, 4.4, 4.4, 4.5, 4.6, 4.7, 5. ]).\nYou can drop duplicate edges by setting the 'duplicates' kwarg"
     ]
    }
   ],
   "source": [
    "\n",
    "q_df = pd.DataFrame()\n",
    "for col1 in col_list1:\n",
    "    for col2 in col_list2:\n",
    "        q_col1 = pd.qcut(df[col1], 20).cat.categories.to_series().reset_index(drop=True).drop(19).astype('str').str.split(',',expand=True)[1].str[:-1].astype('float')\n",
    "        q_col2 = pd.qcut(df[col2], 20).cat.categories.to_series().reset_index(drop=True).drop(19).astype('str').str.split(',',expand=True)[1].str[:-1].astype('float')\n",
    "        com_list = col1+'_'+col2\n",
    "        q_df[com_list] = abs(pd.Series(q_col1)-pd.Series(q_col2))\n",
    "\n",
    "# Stars 가 qcut 에서 동일한 값을 가지게 되어 에러가 발생한다. "
   ]
  },
  {
   "attachments": {},
   "cell_type": "markdown",
   "metadata": {},
   "source": [
    "### list.remove(col),  df.loc[:,list]\n",
    "\n",
    "df.loc[:,list].drop(col)"
   ]
  },
  {
   "cell_type": "code",
   "execution_count": 37,
   "metadata": {},
   "outputs": [],
   "source": [
    "from sklearn.linear_model import LinearRegression\n",
    "from sklearn.metrics import r2_score"
   ]
  },
  {
   "cell_type": "code",
   "execution_count": 38,
   "metadata": {},
   "outputs": [],
   "source": [
    "myLR = LinearRegression()"
   ]
  },
  {
   "cell_type": "code",
   "execution_count": 43,
   "metadata": {},
   "outputs": [
    {
     "data": {
      "text/html": [
       "<div>\n",
       "<style scoped>\n",
       "    .dataframe tbody tr th:only-of-type {\n",
       "        vertical-align: middle;\n",
       "    }\n",
       "\n",
       "    .dataframe tbody tr th {\n",
       "        vertical-align: top;\n",
       "    }\n",
       "\n",
       "    .dataframe thead th {\n",
       "        text-align: right;\n",
       "    }\n",
       "</style>\n",
       "<table border=\"1\" class=\"dataframe\">\n",
       "  <thead>\n",
       "    <tr style=\"text-align: right;\">\n",
       "      <th></th>\n",
       "      <th>r2</th>\n",
       "    </tr>\n",
       "  </thead>\n",
       "  <tbody>\n",
       "    <tr>\n",
       "      <th>Stars</th>\n",
       "      <td>0.058151</td>\n",
       "    </tr>\n",
       "    <tr>\n",
       "      <th>Ratings</th>\n",
       "      <td>0.955185</td>\n",
       "    </tr>\n",
       "    <tr>\n",
       "      <th>Reviews</th>\n",
       "      <td>0.955734</td>\n",
       "    </tr>\n",
       "    <tr>\n",
       "      <th>current_price</th>\n",
       "      <td>0.895891</td>\n",
       "    </tr>\n",
       "    <tr>\n",
       "      <th>MRP</th>\n",
       "      <td>0.895836</td>\n",
       "    </tr>\n",
       "  </tbody>\n",
       "</table>\n",
       "</div>"
      ],
      "text/plain": [
       "                     r2\n",
       "Stars          0.058151\n",
       "Ratings        0.955185\n",
       "Reviews        0.955734\n",
       "current_price  0.895891\n",
       "MRP            0.895836"
      ]
     },
     "execution_count": 43,
     "metadata": {},
     "output_type": "execute_result"
    }
   ],
   "source": [
    "col_list = ['Stars', 'Ratings', 'Reviews', 'current_price', 'MRP']\n",
    "r2_list = []\n",
    "\n",
    "for col in col_list:\n",
    "    X_train = df.loc[:,col_list].drop(col,axis=1).copy()\n",
    "    y_train = df[col].copy()\n",
    "\n",
    "    myLR.fit(X_train, y_train)\n",
    "    pred = myLR.predict(X_train)\n",
    "    r2_list.append(r2_score(y_train, pred))\n",
    "\n",
    "pd.DataFrame(r2_list, index=col_list, columns=['r2'])\n",
    "    \n",
    "\n"
   ]
  },
  {
   "cell_type": "code",
   "execution_count": 113,
   "metadata": {},
   "outputs": [
    {
     "data": {
      "text/plain": [
       "'current_price'"
      ]
     },
     "execution_count": 113,
     "metadata": {},
     "output_type": "execute_result"
    }
   ],
   "source": [
    "col_list2[1]\n"
   ]
  },
  {
   "cell_type": "code",
   "execution_count": 114,
   "metadata": {},
   "outputs": [],
   "source": [
    "col_list2.remove(col_list2[1])"
   ]
  },
  {
   "cell_type": "code",
   "execution_count": 111,
   "metadata": {},
   "outputs": [
    {
     "data": {
      "text/plain": [
       "['Reviews', 'MRP']"
      ]
     },
     "execution_count": 111,
     "metadata": {},
     "output_type": "execute_result"
    }
   ],
   "source": [
    "col_list2"
   ]
  },
  {
   "cell_type": "code",
   "execution_count": null,
   "metadata": {},
   "outputs": [],
   "source": []
  }
 ],
 "metadata": {
  "kernelspec": {
   "display_name": ".venv",
   "language": "python",
   "name": "python3"
  },
  "language_info": {
   "codemirror_mode": {
    "name": "ipython",
    "version": 3
   },
   "file_extension": ".py",
   "mimetype": "text/x-python",
   "name": "python",
   "nbconvert_exporter": "python",
   "pygments_lexer": "ipython3",
   "version": "3.9.10"
  },
  "orig_nbformat": 4
 },
 "nbformat": 4,
 "nbformat_minor": 2
}
