{
 "cells": [
  {
   "attachments": {},
   "cell_type": "markdown",
   "metadata": {},
   "source": [
    "https://www.datamanim.com/dataset/03_dataq/typeone.html"
   ]
  },
  {
   "attachments": {},
   "cell_type": "markdown",
   "metadata": {},
   "source": [
    "### Q1 유튜브 인기동영상 데이터"
   ]
  },
  {
   "cell_type": "code",
   "execution_count": 84,
   "metadata": {},
   "outputs": [
    {
     "data": {
      "text/html": [
       "<div>\n",
       "<style scoped>\n",
       "    .dataframe tbody tr th:only-of-type {\n",
       "        vertical-align: middle;\n",
       "    }\n",
       "\n",
       "    .dataframe tbody tr th {\n",
       "        vertical-align: top;\n",
       "    }\n",
       "\n",
       "    .dataframe thead th {\n",
       "        text-align: right;\n",
       "    }\n",
       "</style>\n",
       "<table border=\"1\" class=\"dataframe\">\n",
       "  <thead>\n",
       "    <tr style=\"text-align: right;\">\n",
       "      <th></th>\n",
       "      <th>title</th>\n",
       "      <th>channelTitle</th>\n",
       "      <th>categoryId</th>\n",
       "      <th>view_count</th>\n",
       "      <th>likes</th>\n",
       "      <th>dislikes</th>\n",
       "      <th>comment_count</th>\n",
       "      <th>channelId</th>\n",
       "      <th>trending_date2</th>\n",
       "    </tr>\n",
       "  </thead>\n",
       "  <tbody>\n",
       "    <tr>\n",
       "      <th>0</th>\n",
       "      <td>[신병] 물자창고</td>\n",
       "      <td>장삐쭈</td>\n",
       "      <td>23</td>\n",
       "      <td>1893473</td>\n",
       "      <td>38249</td>\n",
       "      <td>730</td>\n",
       "      <td>8595</td>\n",
       "      <td>UChbE5OZQ6dRHECsX0tEPEZQ</td>\n",
       "      <td>2021-01-01</td>\n",
       "    </tr>\n",
       "    <tr>\n",
       "      <th>1</th>\n",
       "      <td>RAIN(비) - 나로 바꾸자 Switch to me (duet with JYP) MV</td>\n",
       "      <td>RAIN's Official Channel</td>\n",
       "      <td>10</td>\n",
       "      <td>2600864</td>\n",
       "      <td>0</td>\n",
       "      <td>0</td>\n",
       "      <td>20129</td>\n",
       "      <td>UCxXgIeE5hxWxHG6dz9Scg2w</td>\n",
       "      <td>2021-01-01</td>\n",
       "    </tr>\n",
       "    <tr>\n",
       "      <th>2</th>\n",
       "      <td>2020년 제야의 종 온라인 타종행사 | 보신각 현장 행사는 진행하지 않습니다.</td>\n",
       "      <td>서울시 · Seoul</td>\n",
       "      <td>29</td>\n",
       "      <td>347049</td>\n",
       "      <td>3564</td>\n",
       "      <td>120</td>\n",
       "      <td>178</td>\n",
       "      <td>UCZUPZW5idAxYp-Asj__lVAA</td>\n",
       "      <td>2021-01-01</td>\n",
       "    </tr>\n",
       "    <tr>\n",
       "      <th>3</th>\n",
       "      <td>고기남자의 칠면조 파티</td>\n",
       "      <td>고기남자 MeatMan</td>\n",
       "      <td>26</td>\n",
       "      <td>528458</td>\n",
       "      <td>15372</td>\n",
       "      <td>280</td>\n",
       "      <td>3470</td>\n",
       "      <td>UCT3CumbFIJiW33uq0UI3zlg</td>\n",
       "      <td>2021-01-01</td>\n",
       "    </tr>\n",
       "    <tr>\n",
       "      <th>4</th>\n",
       "      <td>골목 3mc를 분노하게 만든 마음고생이 심했을 공릉 백반집 사장님의 푸념?! [예능...</td>\n",
       "      <td>스브스밥집</td>\n",
       "      <td>24</td>\n",
       "      <td>494904</td>\n",
       "      <td>3918</td>\n",
       "      <td>111</td>\n",
       "      <td>3142</td>\n",
       "      <td>UCdWgRSfttvDucq4ApcCg5Mw</td>\n",
       "      <td>2021-01-01</td>\n",
       "    </tr>\n",
       "  </tbody>\n",
       "</table>\n",
       "</div>"
      ],
      "text/plain": [
       "                                               title             channelTitle  \\\n",
       "0                                          [신병] 물자창고                      장삐쭈   \n",
       "1   RAIN(비) - 나로 바꾸자 Switch to me (duet with JYP) MV  RAIN's Official Channel   \n",
       "2       2020년 제야의 종 온라인 타종행사 | 보신각 현장 행사는 진행하지 않습니다.              서울시 · Seoul   \n",
       "3                                       고기남자의 칠면조 파티             고기남자 MeatMan   \n",
       "4  골목 3mc를 분노하게 만든 마음고생이 심했을 공릉 백반집 사장님의 푸념?! [예능...                    스브스밥집   \n",
       "\n",
       "   categoryId  view_count  likes  dislikes  comment_count  \\\n",
       "0          23     1893473  38249       730           8595   \n",
       "1          10     2600864      0         0          20129   \n",
       "2          29      347049   3564       120            178   \n",
       "3          26      528458  15372       280           3470   \n",
       "4          24      494904   3918       111           3142   \n",
       "\n",
       "                  channelId trending_date2  \n",
       "0  UChbE5OZQ6dRHECsX0tEPEZQ     2021-01-01  \n",
       "1  UCxXgIeE5hxWxHG6dz9Scg2w     2021-01-01  \n",
       "2  UCZUPZW5idAxYp-Asj__lVAA     2021-01-01  \n",
       "3  UCT3CumbFIJiW33uq0UI3zlg     2021-01-01  \n",
       "4  UCdWgRSfttvDucq4ApcCg5Mw     2021-01-01  "
      ]
     },
     "execution_count": 84,
     "metadata": {},
     "output_type": "execute_result"
    }
   ],
   "source": [
    "import pandas as pd\n",
    "df = pd.read_csv(\"https://raw.githubusercontent.com/Datamanim/datarepo/main/youtube/youtube.csv\",index_col=0)\n",
    "df.head()"
   ]
  },
  {
   "cell_type": "code",
   "execution_count": 85,
   "metadata": {},
   "outputs": [
    {
     "data": {
      "text/plain": [
       "(60399, 9)"
      ]
     },
     "execution_count": 85,
     "metadata": {},
     "output_type": "execute_result"
    }
   ],
   "source": [
    "df.shape"
   ]
  },
  {
   "attachments": {},
   "cell_type": "markdown",
   "metadata": {},
   "source": [
    "- dislikes수가 like 수보다 높은 동영상을 제작한 채널을 모두 출력하라\n"
   ]
  },
  {
   "cell_type": "code",
   "execution_count": 86,
   "metadata": {},
   "outputs": [
    {
     "data": {
      "text/plain": [
       "14"
      ]
     },
     "execution_count": 86,
     "metadata": {},
     "output_type": "execute_result"
    }
   ],
   "source": [
    "\n",
    "overlike = df['likes'] < df['dislikes']\n",
    "df.loc[overlike,'channelTitle'].nunique()"
   ]
  },
  {
   "attachments": {},
   "cell_type": "markdown",
   "metadata": {},
   "source": [
    "- channelId의 경우 고유값이므로 이를 통해 채널명을 한번이라도 바꾼 채널의 갯수를 구하여라\n",
    "\n",
    "전달된 series 의 유니크한 값 갯수 확인 \n",
    "\n",
    "value_counts vs nunique"
   ]
  },
  {
   "cell_type": "code",
   "execution_count": 87,
   "metadata": {},
   "outputs": [
    {
     "data": {
      "text/plain": [
       "channelId\n",
       "UC-0229MiVYnQoUxdLJnFl_g    [꾸리Kkuri, 꾸리Kkuri, 꾸리Kkuri, 꾸리Kkuri, 꾸리Kkuri, ...\n",
       "UC-0C8yVGJy-cS4FGlYKelWw    [세계는지금, 세계는지금, 세계는지금, 세계는지금, 세계는지금, 세계는지금, 세계는...\n",
       "UC-0tICWyA0_AJAVMBHL8GdQ    [내주제에 Dare U Naeju, 내주제에 Dare U Naeju, 내주제에 Da...\n",
       "UC-2Y8dQb0S6DtpxNgAKoJKA    [PlayStation, PlayStation, PlayStation, PlaySt...\n",
       "UC-5acDjU6XFWu-__G17V_YQ    [와나나, 와나나, 와나나, 와나나, 와나나, 와나나, 와나나, 와나나, 와나나, ...\n",
       "                                                  ...                        \n",
       "UCznImSIaxZR7fdLCICLdgaQ    [전인구경제연구소, 전인구경제연구소, 전인구경제연구소, 전인구경제연구소, 전인구경제...\n",
       "UCzt24ffdUiJvJAm5HY084aw    [구전녹용, 구전녹용, 구전녹용, 구전녹용, 구전녹용, 구전녹용, 구전녹용, 구전녹...\n",
       "UCzteSXznVjwESizsCcSKSWw    [행정안전부, 행정안전부, 행정안전부, 행정안전부, 행정안전부, 행정안전부, 행정안전부]\n",
       "UCzxXBQnJy9guqVNM6KXi0Ig    [Tina from Korea, Tina from Korea, Tina from K...\n",
       "UCzz58-H0wzmGoFi3MO_9ePQ    [온마이크, 온마이크, 온마이크, 온마이크, 온마이크, 온마이크, 온마이크, 온마이...\n",
       "Name: channelTitle, Length: 1770, dtype: object"
      ]
     },
     "execution_count": 87,
     "metadata": {},
     "output_type": "execute_result"
    }
   ],
   "source": [
    "df.groupby('channelId')['channelTitle'].apply(list)\n",
    "\n",
    "# 전달값 확인\n",
    "# def funX(Se_g):\n",
    "#     print(Se_g)\n",
    "# df.groupby('channelId')['channelTitle'].apply(funX)"
   ]
  },
  {
   "cell_type": "code",
   "execution_count": 88,
   "metadata": {},
   "outputs": [
    {
     "data": {
      "text/plain": [
       "channelId\n",
       "UC-0229MiVYnQoUxdLJnFl_g    No\n",
       "UC-0C8yVGJy-cS4FGlYKelWw    No\n",
       "UC-0tICWyA0_AJAVMBHL8GdQ    No\n",
       "UC-2Y8dQb0S6DtpxNgAKoJKA    No\n",
       "UC-5acDjU6XFWu-__G17V_YQ    No\n",
       "                            ..\n",
       "UCznImSIaxZR7fdLCICLdgaQ    No\n",
       "UCzt24ffdUiJvJAm5HY084aw    No\n",
       "UCzteSXznVjwESizsCcSKSWw    No\n",
       "UCzxXBQnJy9guqVNM6KXi0Ig    No\n",
       "UCzz58-H0wzmGoFi3MO_9ePQ    No\n",
       "Name: channelTitle, Length: 1770, dtype: object"
      ]
     },
     "execution_count": 88,
     "metadata": {},
     "output_type": "execute_result"
    }
   ],
   "source": [
    "\n",
    "df.groupby('channelId')['channelTitle'].apply(lambda x : 'No' if x.nunique() == 1 else 'Yes')\n",
    "\n",
    "# channelId 별로 channelTitle 의 값들이 있는 series 가 전달된다. \n",
    "# 예) 첫번째로 전달된 UC-0229MiVYnQoUxdLJnFl_g (Series)은 17개의 (values) Title 이 있다. \n",
    "# 유닉크한 values 갯수, series.nunique() 가 계산되어 channelID 별로 'No', 'Yes' 리턴된다\n"
   ]
  },
  {
   "cell_type": "code",
   "execution_count": 89,
   "metadata": {},
   "outputs": [
    {
     "data": {
      "text/plain": [
       "71"
      ]
     },
     "execution_count": 89,
     "metadata": {},
     "output_type": "execute_result"
    }
   ],
   "source": [
    "\n",
    "df.groupby('channelId')['channelTitle'].apply(lambda x : 0 if x.nunique() == 1 else 1).sum()\n",
    "# channelTitle 의 유닉크한 값이 1개 이상이면, channelId 기준 채널명을 바꾼 channelId 이므로 1 로 count 한다"
   ]
  },
  {
   "attachments": {},
   "cell_type": "markdown",
   "metadata": {},
   "source": [
    " - 일요일에 인기있었던 영상들중 가장많은 영상 종류(categoryId)는 무엇인가?\n",
    "\n",
    "pd.to_datetime().dt.dayname()"
   ]
  },
  {
   "cell_type": "code",
   "execution_count": 90,
   "metadata": {},
   "outputs": [
    {
     "data": {
      "text/plain": [
       "categoryId\n",
       "24    3096\n",
       "Name: count, dtype: int64"
      ]
     },
     "execution_count": 90,
     "metadata": {},
     "output_type": "execute_result"
    }
   ],
   "source": [
    "\n",
    "# sunday 을 찾기위해 날짜 변화 : pd.to_datatime()dt.day_name()\n",
    "is_sun = pd.to_datetime(df['trending_date2']).dt.day_name() == 'Sunday'\n",
    "\n",
    "df.loc[is_sun,'categoryId'].value_counts().nlargest(1)\n",
    "\n",
    "# 24 카테고리가 3096번 \n"
   ]
  },
  {
   "attachments": {},
   "cell_type": "markdown",
   "metadata": {},
   "source": [
    "- 댓글의 수로 (comment_count) 영상 반응에 대한 판단을 할 수 있다.  \n",
    "viewcount대비 댓글수가 가장 높은 영상을 확인하라 (view_count값이 0인 경우는 제외한다)\n",
    "\n",
    "df.itertuples()  \n",
    "df.apply(axis=1)  "
   ]
  },
  {
   "cell_type": "code",
   "execution_count": 91,
   "metadata": {},
   "outputs": [
    {
     "data": {
      "text/plain": [
       "'60분 동안 댓글이 달리지 않으면, 영상이 삭제됩니다. (챌린지)'"
      ]
     },
     "execution_count": 91,
     "metadata": {},
     "output_type": "execute_result"
    }
   ],
   "source": [
    "# df.itertuples()으로 row 순회하면서 최대값 찾기\n",
    "\n",
    "view0 = df['view_count'] == 0\n",
    "max = -999\n",
    "\n",
    "for row in df.loc[~view0,['comment_count','view_count']].itertuples():\n",
    "# for row in df.loc[~view0,['title','comment_count','view_count']].itertuples():\n",
    "    gap = row.comment_count/row.view_count\n",
    "    if gap > max:\n",
    "        max=gap\n",
    "        max_id = row.Index\n",
    "        # max_title = row.title\n",
    "\n",
    "df.loc[max_id,'title']\n",
    "# max_title"
   ]
  },
  {
   "cell_type": "code",
   "execution_count": 92,
   "metadata": {},
   "outputs": [
    {
     "data": {
      "text/plain": [
       "'60분 동안 댓글이 달리지 않으면, 영상이 삭제됩니다. (챌린지)'"
      ]
     },
     "execution_count": 92,
     "metadata": {},
     "output_type": "execute_result"
    }
   ],
   "source": [
    "# apply(axis=1) 은 각 row 을 계산하게 되므로 리턴되는 값이 row 갯수 만큼 발생한다. \n",
    "# max 확인을 밖에서 해야 한다. \n",
    "\n",
    "# df_v = df.copy()\n",
    "view0 = df_v['view_count'] == 0\n",
    "\n",
    "def funcX(Se_row):\n",
    "    return Se_row['comment_count']/Se_row['view_count']\n",
    "\n",
    "# df_v['rate'] = df_v.loc[~view0,['title','comment_count','view_count']].apply(funcX, axis=1)\n",
    "# df_v.loc[df_v['rate'].idxmax(),'title']\n",
    "\n",
    "gap2_list = df.loc[~view0,['comment_count','view_count']].apply(funcX, axis=1)\n",
    "df.loc[gap2_list.idxmax(),'title']\n",
    "\n",
    "# itertuples() 과 시간차이 확인 "
   ]
  },
  {
   "cell_type": "code",
   "execution_count": null,
   "metadata": {},
   "outputs": [],
   "source": []
  }
 ],
 "metadata": {
  "kernelspec": {
   "display_name": "Python 3.7.6 64-bit ('3.7.6')",
   "language": "python",
   "name": "python3"
  },
  "language_info": {
   "codemirror_mode": {
    "name": "ipython",
    "version": 3
   },
   "file_extension": ".py",
   "mimetype": "text/x-python",
   "name": "python",
   "nbconvert_exporter": "python",
   "pygments_lexer": "ipython3",
   "version": "3.9.10"
  },
  "orig_nbformat": 4,
  "vscode": {
   "interpreter": {
    "hash": "162ceaf09f938773ad028a3a2ad644135fdbb6560e1ade87eeac244d09a7763d"
   }
  }
 },
 "nbformat": 4,
 "nbformat_minor": 2
}
