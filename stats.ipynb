{
 "cells": [
  {
   "attachments": {},
   "cell_type": "markdown",
   "metadata": {},
   "source": [
    "## 확률 계산\n",
    "\n",
    "norm : 정규분포 함수   norm(mean,std)   \n",
    "binom : 이항분포 함수  binom(x,n,p)  \n",
    "poisson : 포아송분포 함수 poisson(x,mu)  \n",
    "expon : 지수분포 함수 expon(x,scale=lambda) = 1-np.exp(x*(-1/lambda)) # 그냥 exp 쓰자\n",
    "\n",
    "\n",
    "pmf : 확률질량함수(probability mass function)  \n",
    "pdf : 확률밀도함수(probability density function)  \n",
    "cdf : 누적분포함수(cumulative distribution function)  \n",
    "ppf : 누적분포함수의 역함수(inverse cumulative distribution function)  "
   ]
  },
  {
   "attachments": {},
   "cell_type": "markdown",
   "metadata": {},
   "source": [
    "### binom"
   ]
  },
  {
   "cell_type": "code",
   "execution_count": 16,
   "metadata": {},
   "outputs": [
    {
     "data": {
      "text/plain": [
       "0.016715884095931423"
      ]
     },
     "execution_count": 16,
     "metadata": {},
     "output_type": "execute_result"
    }
   ],
   "source": [
    "# 카드 사용자 중 5% 가 연체중이라고 한다. 카드 사용자 100명을 조사했을때 10명이 연체자일 확율\n",
    "\n",
    "from scipy.stats import binom\n",
    "\n",
    "binom.pmf(10,100,0.05)"
   ]
  },
  {
   "cell_type": "code",
   "execution_count": 17,
   "metadata": {},
   "outputs": [
    {
     "data": {
      "text/plain": [
       "0.9885275899325153"
      ]
     },
     "execution_count": 17,
     "metadata": {},
     "output_type": "execute_result"
    }
   ],
   "source": [
    "# 10명 이하일 확율\n",
    "\n",
    "binom.cdf(10,100,0.05)"
   ]
  },
  {
   "cell_type": "code",
   "execution_count": 19,
   "metadata": {},
   "outputs": [
    {
     "data": {
      "text/plain": [
       "0.028188294163416172"
      ]
     },
     "execution_count": 19,
     "metadata": {},
     "output_type": "execute_result"
    }
   ],
   "source": [
    "# 10명 이상일 확률\n",
    "\n",
    "1-binom.cdf(9,100,0.05)\n",
    "\n",
    "# 1-(9명 이하일 확률)"
   ]
  },
  {
   "attachments": {},
   "cell_type": "markdown",
   "metadata": {},
   "source": [
    "### piossion"
   ]
  },
  {
   "cell_type": "code",
   "execution_count": 12,
   "metadata": {},
   "outputs": [
    {
     "data": {
      "text/plain": [
       "0.18044704431548356"
      ]
     },
     "execution_count": 12,
     "metadata": {},
     "output_type": "execute_result"
    }
   ],
   "source": [
    "# 5 페이지당 10개의 오타가 발견된다고 할때, 새로운 페이지에서 오타가 3개 나올 확률?\n",
    "\n",
    "from scipy.stats import poisson\n",
    "\n",
    "poisson.pmf(3, 10/5)\n"
   ]
  },
  {
   "cell_type": "code",
   "execution_count": 11,
   "metadata": {},
   "outputs": [
    {
     "data": {
      "text/plain": [
       "0.23810330555354436"
      ]
     },
     "execution_count": 11,
     "metadata": {},
     "output_type": "execute_result"
    }
   ],
   "source": [
    "# 시간당 240건의 택배 요청이 들어 온다고 한다, 이후 1분동안 들어오는 요청이 2건 이하일 확율\n",
    "\n",
    "poisson.cdf(2,240/60)"
   ]
  },
  {
   "cell_type": "code",
   "execution_count": 13,
   "metadata": {},
   "outputs": [
    {
     "data": {
      "text/plain": [
       "0.8008517265285442"
      ]
     },
     "execution_count": 13,
     "metadata": {},
     "output_type": "execute_result"
    }
   ],
   "source": [
    "# 하루 평균 3명의 신입회원이 들어 온다고 한다. 2명이상 신입회원이 들어 올 확률은 ?\n",
    "\n",
    "1-poisson.cdf(1,3)\n",
    "\n",
    "# 1 - (1명 이하로 들어올 확율)"
   ]
  },
  {
   "attachments": {},
   "cell_type": "markdown",
   "metadata": {},
   "source": [
    "### expon\n",
    "\n",
    "그냥 np.exp() 을 사용하자"
   ]
  },
  {
   "cell_type": "code",
   "execution_count": 90,
   "metadata": {},
   "outputs": [
    {
     "data": {
      "text/plain": [
       "0.3011942119122022"
      ]
     },
     "execution_count": 90,
     "metadata": {},
     "output_type": "execute_result"
    }
   ],
   "source": [
    "# 스마트폰의 평균 수명이 5년이라고 한다, 이 스마트폰의 수명이 6년 이상일 확률은 ?\n",
    "\n",
    "from scipy.stats import expon\n",
    "\n",
    "1-expon.cdf(6,scale=5)"
   ]
  },
  {
   "cell_type": "code",
   "execution_count": 89,
   "metadata": {},
   "outputs": [
    {
     "data": {
      "text/plain": [
       "0.301194211912202"
      ]
     },
     "execution_count": 89,
     "metadata": {},
     "output_type": "execute_result"
    }
   ],
   "source": [
    "import numpy as np\n",
    "np.exp(6*(-1/5))"
   ]
  },
  {
   "cell_type": "code",
   "execution_count": 97,
   "metadata": {},
   "outputs": [
    {
     "data": {
      "text/plain": [
       "0.28346868942621073"
      ]
     },
     "execution_count": 97,
     "metadata": {},
     "output_type": "execute_result"
    }
   ],
   "source": [
    "# 전자제품의 평균 수명이 3년일때, 보증기간이 1년이라고 하자, 보상 받을 확률은 ?\n",
    "\n",
    "expon.cdf(1,scale=3)"
   ]
  },
  {
   "cell_type": "code",
   "execution_count": 108,
   "metadata": {},
   "outputs": [
    {
     "data": {
      "text/plain": [
       "0.28346868942621073"
      ]
     },
     "execution_count": 108,
     "metadata": {},
     "output_type": "execute_result"
    }
   ],
   "source": [
    "1-np.exp(1*-1/3)"
   ]
  },
  {
   "cell_type": "code",
   "execution_count": 104,
   "metadata": {},
   "outputs": [
    {
     "data": {
      "text/plain": [
       "0.35369106390788696"
      ]
     },
     "execution_count": 104,
     "metadata": {},
     "output_type": "execute_result"
    }
   ],
   "source": [
    "# 병원의 대기 시간이 8분이라고 할때, 방문했을때 4분에서 11분 기다릴 확률은?\n",
    "\n",
    "(1-np.exp(1*-11/8)) - (1-np.exp(1*-4/8))"
   ]
  }
 ],
 "metadata": {
  "kernelspec": {
   "display_name": ".venv",
   "language": "python",
   "name": "python3"
  },
  "language_info": {
   "codemirror_mode": {
    "name": "ipython",
    "version": 3
   },
   "file_extension": ".py",
   "mimetype": "text/x-python",
   "name": "python",
   "nbconvert_exporter": "python",
   "pygments_lexer": "ipython3",
   "version": "3.9.10"
  },
  "orig_nbformat": 4
 },
 "nbformat": 4,
 "nbformat_minor": 2
}
