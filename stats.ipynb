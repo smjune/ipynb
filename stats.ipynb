{
 "cells": [
  {
   "attachments": {},
   "cell_type": "markdown",
   "metadata": {},
   "source": [
    "## 확률 계산\n",
    "\n",
    "norm : 정규분포 함수   norm(mean,std)   \n",
    "binom : 이항분포 함수  binom(x,n,p)  \n",
    "poisson : 포아송분포 함수  poisson(x,mu)  \n",
    "expon : 지수분포 함수 expon(x,scale=lambda) \n",
    "\n",
    "\n",
    "pmf : 확률질량함수(probability mass function)  \n",
    "pdf : 확률밀도함수(probability density function)  \n",
    "cdf : 누적분포함수(cumulative distribution function)    0 ~ 누적확률  \n",
    "ppf : 누적분포함수의 역함수(inverse cumulative distribution function)  ppf(확률) = 기대값"
   ]
  },
  {
   "attachments": {},
   "cell_type": "markdown",
   "metadata": {},
   "source": [
    "### binom"
   ]
  },
  {
   "cell_type": "code",
   "execution_count": 394,
   "metadata": {
    "tags": []
   },
   "outputs": [
    {
     "data": {
      "text/plain": [
       "0.016715884095931423"
      ]
     },
     "execution_count": 394,
     "metadata": {},
     "output_type": "execute_result"
    }
   ],
   "source": [
    "# 카드 사용자 중 5% 가 연체중이라고 한다. 카드 사용자 100명을 조사했을때 10명이 연체자일 확율\n",
    "\n",
    "from scipy.stats import binom\n",
    "\n",
    "binom.pmf(10,100,0.05)"
   ]
  },
  {
   "cell_type": "code",
   "execution_count": 395,
   "metadata": {
    "tags": []
   },
   "outputs": [
    {
     "data": {
      "text/plain": [
       "0.9885275899325153"
      ]
     },
     "execution_count": 395,
     "metadata": {},
     "output_type": "execute_result"
    }
   ],
   "source": [
    "# 10명 이하일 확율\n",
    "\n",
    "binom.cdf(10,100,0.05)"
   ]
  },
  {
   "cell_type": "code",
   "execution_count": 396,
   "metadata": {
    "tags": []
   },
   "outputs": [
    {
     "data": {
      "text/plain": [
       "0.028188294163416172"
      ]
     },
     "execution_count": 396,
     "metadata": {},
     "output_type": "execute_result"
    }
   ],
   "source": [
    "# 10명 이상일 확률\n",
    "\n",
    "1-binom.cdf(9,100,0.05)\n",
    "\n",
    "# 1-(9명 이하일 확률)"
   ]
  },
  {
   "attachments": {},
   "cell_type": "markdown",
   "metadata": {},
   "source": [
    "### piossion\n",
    "\n",
    "사건이 특정횟수 이하 발생할 확률 = piosson.cdf(사건 발생 횟수, 단위 시간당 발생횟수)"
   ]
  },
  {
   "cell_type": "code",
   "execution_count": 397,
   "metadata": {},
   "outputs": [
    {
     "data": {
      "text/plain": [
       "0.18044704431548356"
      ]
     },
     "execution_count": 397,
     "metadata": {},
     "output_type": "execute_result"
    }
   ],
   "source": [
    "# 5 페이지당 10개의 오타가 발견된다고 할때, 새로운 페이지에서 오타가 3개 나올 확률?\n",
    "\n",
    "from scipy.stats import poisson\n",
    "\n",
    "poisson.pmf(3, 10/5)\n"
   ]
  },
  {
   "cell_type": "code",
   "execution_count": 398,
   "metadata": {},
   "outputs": [
    {
     "data": {
      "text/plain": [
       "0.23810330555354436"
      ]
     },
     "execution_count": 398,
     "metadata": {},
     "output_type": "execute_result"
    }
   ],
   "source": [
    "# 시간당 240건의 택배 요청이 들어 온다고 한다, 이후 1분동안 들어오는 요청이 2건 이하일 확율\n",
    "\n",
    "poisson.cdf(2,240/60)"
   ]
  },
  {
   "cell_type": "code",
   "execution_count": 399,
   "metadata": {},
   "outputs": [
    {
     "data": {
      "text/plain": [
       "0.8008517265285442"
      ]
     },
     "execution_count": 399,
     "metadata": {},
     "output_type": "execute_result"
    }
   ],
   "source": [
    "# 하루 평균 3명의 신입회원이 들어 온다고 한다. 2명이상 신입회원이 들어 올 확률은 ?\n",
    "\n",
    "1-poisson.cdf(1,3)\n",
    "\n",
    "# 1 - (1명 이하로 들어올 확율)"
   ]
  },
  {
   "attachments": {},
   "cell_type": "markdown",
   "metadata": {},
   "source": [
    "### expon\n",
    "\n",
    "사건이 특정시간 이내 발생할 확률 = expon.cdf( 특정 시간, scale = 사건이 발생하는 평균 시간)"
   ]
  },
  {
   "cell_type": "code",
   "execution_count": 400,
   "metadata": {},
   "outputs": [
    {
     "data": {
      "text/plain": [
       "0.3011942119122022"
      ]
     },
     "execution_count": 400,
     "metadata": {},
     "output_type": "execute_result"
    }
   ],
   "source": [
    "# 스마트폰의 평균 수명이 5년이라고 한다, 이 스마트폰의 수명이 6년 이상일 확률은 ?\n",
    "\n",
    "from scipy.stats import expon\n",
    "\n",
    "1-expon.cdf(6,scale=5)"
   ]
  },
  {
   "cell_type": "code",
   "execution_count": 401,
   "metadata": {},
   "outputs": [
    {
     "data": {
      "text/plain": [
       "0.301194211912202"
      ]
     },
     "execution_count": 401,
     "metadata": {},
     "output_type": "execute_result"
    }
   ],
   "source": [
    "import numpy as np\n",
    "np.exp(6*(-1/5))"
   ]
  },
  {
   "cell_type": "code",
   "execution_count": 402,
   "metadata": {},
   "outputs": [
    {
     "data": {
      "text/plain": [
       "0.28346868942621073"
      ]
     },
     "execution_count": 402,
     "metadata": {},
     "output_type": "execute_result"
    }
   ],
   "source": [
    "# 전자제품의 평균 수명이 3년일때, 보증기간이 1년이라고 하자, 보상 받을 확률은 ? (1년 이내 수명이 다 할 확률)\n",
    "\n",
    "expon.cdf(1,scale=3)"
   ]
  },
  {
   "cell_type": "code",
   "execution_count": 403,
   "metadata": {},
   "outputs": [
    {
     "data": {
      "text/plain": [
       "0.28346868942621073"
      ]
     },
     "execution_count": 403,
     "metadata": {},
     "output_type": "execute_result"
    }
   ],
   "source": [
    "1-np.exp(1*-1/3)"
   ]
  },
  {
   "cell_type": "code",
   "execution_count": 404,
   "metadata": {},
   "outputs": [
    {
     "data": {
      "text/plain": [
       "0.35369106390788696"
      ]
     },
     "execution_count": 404,
     "metadata": {},
     "output_type": "execute_result"
    }
   ],
   "source": [
    "# 병원의 대기 시간이 8분이라고 할때, 방문했을때 4분에서 11분 기다릴 확률은?\n",
    "\n",
    "(1-np.exp(11*-1/8)) - (1-np.exp(4*-1/8))"
   ]
  },
  {
   "cell_type": "code",
   "execution_count": 405,
   "metadata": {},
   "outputs": [
    {
     "data": {
      "text/plain": [
       "0.35369106390788696"
      ]
     },
     "execution_count": 405,
     "metadata": {},
     "output_type": "execute_result"
    }
   ],
   "source": [
    "# 평균 대기 시간 8분, 11분 기다릴 확률 - 4 분 기다릴 확률\n",
    "\n",
    "expon.cdf(11,scale = 8) - expon.cdf(4, scale =8)"
   ]
  },
  {
   "cell_type": "code",
   "execution_count": 406,
   "metadata": {},
   "outputs": [
    {
     "data": {
      "text/plain": [
       "0.4647385714810097"
      ]
     },
     "execution_count": 406,
     "metadata": {},
     "output_type": "execute_result"
    }
   ],
   "source": [
    "# 하루 평균 3명의 환자가 온다고 했을때, 5시간 안에 첫번째 환자가 올 확률은 \n",
    "\n",
    "# 3/24 = 1/8  : 8시간(단위시간) 당 1명이 온다. \n",
    "1- np.exp(5*-3/24)"
   ]
  },
  {
   "cell_type": "code",
   "execution_count": 407,
   "metadata": {},
   "outputs": [
    {
     "data": {
      "text/plain": [
       "0.4647385714810097"
      ]
     },
     "execution_count": 407,
     "metadata": {},
     "output_type": "execute_result"
    }
   ],
   "source": [
    "# 환자 1명이 방문할때 걸리는 평균 시간은 24/3 = 8 시간 이므로,\n",
    "expon.cdf(5,scale= 8)"
   ]
  },
  {
   "cell_type": "code",
   "execution_count": 408,
   "metadata": {},
   "outputs": [
    {
     "data": {
      "text/plain": [
       "5.003908256689045"
      ]
     },
     "execution_count": 408,
     "metadata": {},
     "output_type": "execute_result"
    }
   ],
   "source": [
    "# 46.5% 환자들이 방문하는 시간 대, 5시간 이내에 온다. \n",
    "\n",
    "expon.ppf(0.465, scale=8)"
   ]
  },
  {
   "attachments": {},
   "cell_type": "markdown",
   "metadata": {},
   "source": [
    "### norm\n",
    "\n",
    "[scipy.stats.norm](https://docs.scipy.org/doc/scipy/reference/generated/scipy.stats.norm.html)\n",
    "\n",
    "The location (loc) keyword specifies the mean.   \n",
    "The scale (scale) keyword specifies the standard deviation."
   ]
  },
  {
   "cell_type": "code",
   "execution_count": 409,
   "metadata": {},
   "outputs": [
    {
     "data": {
      "text/plain": [
       "1.959963984540054"
      ]
     },
     "execution_count": 409,
     "metadata": {},
     "output_type": "execute_result"
    }
   ],
   "source": [
    "from scipy.stats import norm\n",
    "\n",
    "norm(loc=0, scale=1).ppf(q=0.975)\n",
    "\n",
    "# 표준 정규분포 q 확율(less) 을 갖는 x 값 (표준정규 분포표에서 찾는 값 z)"
   ]
  },
  {
   "cell_type": "code",
   "execution_count": 410,
   "metadata": {},
   "outputs": [
    {
     "data": {
      "text/plain": [
       "0.975"
      ]
     },
     "execution_count": 410,
     "metadata": {},
     "output_type": "execute_result"
    }
   ],
   "source": [
    "norm.cdf(x=1.959963984540054)\n",
    "\n",
    "# inverse ppf"
   ]
  },
  {
   "cell_type": "code",
   "execution_count": 411,
   "metadata": {},
   "outputs": [
    {
     "data": {
      "text/plain": [
       "0.024997895148220435"
      ]
     },
     "execution_count": 411,
     "metadata": {},
     "output_type": "execute_result"
    }
   ],
   "source": [
    "norm.sf(x = 1.96)\n",
    "\n",
    "# x 값에 대한 확률 (greater)\n",
    "# p-values\n",
    "# 1-cdf(x)\n",
    "# inverse = isf(q)\n"
   ]
  },
  {
   "cell_type": "code",
   "execution_count": 412,
   "metadata": {},
   "outputs": [
    {
     "data": {
      "text/plain": [
       "1.9599999999999997"
      ]
     },
     "execution_count": 412,
     "metadata": {},
     "output_type": "execute_result"
    }
   ],
   "source": [
    "norm.isf(q=0.024997895148220435)"
   ]
  },
  {
   "cell_type": "code",
   "execution_count": 413,
   "metadata": {},
   "outputs": [
    {
     "data": {
      "text/plain": [
       "(-1.959963984540054, 1.959963984540054)"
      ]
     },
     "execution_count": 413,
     "metadata": {},
     "output_type": "execute_result"
    }
   ],
   "source": [
    "norm.interval(confidence=0.95)"
   ]
  },
  {
   "attachments": {},
   "cell_type": "markdown",
   "metadata": {},
   "source": [
    "### proportion\n",
    "\n",
    "주의 : 신뢰구간과, 검정통계값을 구할때 사용한는 p 값이 다르다."
   ]
  },
  {
   "cell_type": "code",
   "execution_count": 414,
   "metadata": {},
   "outputs": [
    {
     "data": {
      "text/plain": [
       "(0.8387709895187311, 0.861229010481269)"
      ]
     },
     "execution_count": 414,
     "metadata": {},
     "output_type": "execute_result"
    }
   ],
   "source": [
    "# page 102\n",
    "# 1000 개 에서 정상이 85 개가 정상이라면.\n",
    "# 모평균의 68% 신뢰구간은 \n",
    "\n",
    "norm(loc=.85, scale = np.sqrt((.85*.15)/1000)).interval(.68)"
   ]
  },
  {
   "cell_type": "code",
   "execution_count": 415,
   "metadata": {},
   "outputs": [
    {
     "data": {
      "text/plain": [
       "0.011291589790636216"
      ]
     },
     "execution_count": 415,
     "metadata": {},
     "output_type": "execute_result"
    }
   ],
   "source": [
    "np.sqrt((.85*.15)/1000)"
   ]
  },
  {
   "cell_type": "code",
   "execution_count": 416,
   "metadata": {},
   "outputs": [
    {
     "data": {
      "text/plain": [
       "(0.5191655864637935, 0.5808344135362066)"
      ]
     },
     "execution_count": 416,
     "metadata": {},
     "output_type": "execute_result"
    }
   ],
   "source": [
    "# page 114\n",
    "# 1000 명을 대상으로 사전 조사하여 550명이 의원 지지도를 보였다. \n",
    "# 모 평균 p 의 95% 신뢰구간을 구하여라\n",
    "# z = p_hat - p / np.sqrt(p_hat*(1-p_hat)/n)\n",
    "\n",
    "norm(loc=0.55, scale=np.sqrt((0.55*0.45)/1000)).interval(0.95)"
   ]
  },
  {
   "cell_type": "code",
   "execution_count": 417,
   "metadata": {},
   "outputs": [
    {
     "data": {
      "text/plain": [
       "(0.5094767115259293, 0.5905232884740708)"
      ]
     },
     "execution_count": 417,
     "metadata": {},
     "output_type": "execute_result"
    }
   ],
   "source": [
    "# page 121\n",
    "# 모평균 p 의 99% 신뢰구간을 구하여라.\n",
    "norm(loc=0.55, scale=np.sqrt((0.55*0.45)/1000)).interval(0.99)"
   ]
  },
  {
   "cell_type": "code",
   "execution_count": 418,
   "metadata": {},
   "outputs": [
    {
     "data": {
      "text/plain": [
       "16421.369087527502"
      ]
     },
     "execution_count": 418,
     "metadata": {},
     "output_type": "execute_result"
    }
   ],
   "source": [
    "# page 124\n",
    "# 1% 오차 범위에서, 지지도 55% 의 99% 신뢰구간을 구하려면 몇명의 샘플이 필요한가?\n",
    "\n",
    "_,z = norm.interval(confidence=0.99)\n",
    "# z = 2.5758293035489004\n",
    "# 책에서는 z = 2.58, p = 0.5\n",
    "np.square(z)*(0.55*0.45)/np.square(0.01)"
   ]
  },
  {
   "cell_type": "code",
   "execution_count": 419,
   "metadata": {},
   "outputs": [
    {
     "data": {
      "text/plain": [
       "841.2794817320134"
      ]
     },
     "execution_count": 419,
     "metadata": {},
     "output_type": "execute_result"
    }
   ],
   "source": [
    "# 지지율을 조사할 때 신뢰도 95%로, 표본에서 얻은 지지율과 실제 지지율의 오차가 3% point 이내로 되게 하려면 \n",
    "# 표본의 크기는 최소 얼마로 잡아야 할까? 단, 예비 조사를 통하여 지지율이 27% 정도라는 것을 알고 있다고 한다\n",
    "\n",
    "_,z = norm.interval(confidence=0.95)\n",
    "\n",
    "# 오차 = Z(a/2)*SE\n",
    "# SE = np.sqrt(p_hat*(1-p_hat)/n)\n",
    "# n = Z**2 * p_hat * (1-p_hat)/오차**2\n",
    "\n",
    "np.square(z)*(0.27*(1-0.27)/np.square(0.03))\n",
    "\n",
    "# 만약 사전 조사된 지지율 27% (p_hat) 가 없다면, 50% (P0) 을 가정한다. "
   ]
  },
  {
   "attachments": {},
   "cell_type": "markdown",
   "metadata": {},
   "source": [
    "#### 1 proprotioin"
   ]
  },
  {
   "cell_type": "code",
   "execution_count": 420,
   "metadata": {},
   "outputs": [
    {
     "data": {
      "text/plain": [
       "4.144957337186113e-16"
      ]
     },
     "execution_count": 420,
     "metadata": {},
     "output_type": "execute_result"
    }
   ],
   "source": [
    "# page 138\n",
    "# 참관인을 뽑은 모 집단은 50%가 유색인종이다 : H0 이라고 가정했을 때, \n",
    "# 관측값 4/80 은 .5 보다 작다, 그러면 혹시\n",
    "# 유색인족은 50% 이하이다. : Ha 인지 \n",
    "# 평균이 0.5 인 분포에서 80 명을 무작위로 뽑았을때 유색인종인 4명 보다 작을 확율\n",
    "# SE = np.sqrt(p*(1-p)/n)\n",
    "# Pr( x <= 4 | p = 0.5, n = 80)\n",
    "\n",
    "norm(loc = 0.5, scale = 0.5/(80**0.5)).cdf(4/80)"
   ]
  },
  {
   "cell_type": "code",
   "execution_count": 421,
   "metadata": {},
   "outputs": [
    {
     "data": {
      "text/plain": [
       "0.0007827011290012658"
      ]
     },
     "execution_count": 421,
     "metadata": {},
     "output_type": "execute_result"
    }
   ],
   "source": [
    "# page 144\n",
    "# 투표자는 50% (5:5)의 공정한 성향을 갖고있다 라고 가정할 때, (지지하거나, 지지 안하거나) : H0 \n",
    "# 1000명을 관측을 했더니 0.55 가 나오더라,  그래서.. 혹시 모집단 평균이 0.5 보다 큰건 아닌지, \n",
    "# 투표자는 우호적이다. (50% 이상 이다.) : Ha\n",
    "# 확인을 해 보자\n",
    "# 공정한 모집단 (평균 0.5) 에서 대상자 1000명을 조사한 결과 0.55 보다 큰값이 갖을 확율\n",
    "# 1% (0.01) 기준으로 검증하라 \n",
    "\n",
    "norm(loc=.5, scale=0.5*(1/(1000)**0.5)).sf(.55)\n",
    "\n",
    "## 0.01 보다 작으므로 투표 대상자는 50% 성향을 갖은 대상이 아니였다. "
   ]
  },
  {
   "cell_type": "code",
   "execution_count": 422,
   "metadata": {},
   "outputs": [
    {
     "data": {
      "text/plain": [
       "0.5367827895592978"
      ]
     },
     "execution_count": 422,
     "metadata": {},
     "output_type": "execute_result"
    }
   ],
   "source": [
    "# 관측값 (0.55)가 분포의 0.01 확율을 갖는 x 값이 5.5 보다 크다. \n",
    "\n",
    "norm(loc=.5, scale=0.5*(1/(1000)**0.5)).isf(0.01)"
   ]
  },
  {
   "cell_type": "code",
   "execution_count": 423,
   "metadata": {},
   "outputs": [
    {
     "data": {
      "text/plain": [
       "3.162277660168383"
      ]
     },
     "execution_count": 423,
     "metadata": {},
     "output_type": "execute_result"
    }
   ],
   "source": [
    "norm.isf(0.0007827011290012658)"
   ]
  },
  {
   "attachments": {},
   "cell_type": "markdown",
   "metadata": {},
   "source": [
    "#### 2 proportion"
   ]
  },
  {
   "cell_type": "code",
   "execution_count": 424,
   "metadata": {},
   "outputs": [
    {
     "data": {
      "text/plain": [
       "0.0017467691585156548"
      ]
     },
     "execution_count": 424,
     "metadata": {},
     "output_type": "execute_result"
    }
   ],
   "source": [
    "# page 161\n",
    "# p1 : 가짜 약을 먹은 사람의 사망율 0.0217 , 11034명\n",
    "# p2 : 진짜 약을 먹은 사람의 사망율 0.0126 , 11037명\n",
    "\n",
    "# p1 - p2 = 0.0091\n",
    "# SE(p1_hat - p2_hat)는 \n",
    "np.sqrt((((0.0217)*(1-0.0217)/11034) + ((0.0126)*(1-0.0126))/11037))"
   ]
  },
  {
   "cell_type": "code",
   "execution_count": 425,
   "metadata": {},
   "outputs": [
    {
     "data": {
      "text/plain": [
       "(0.0056763953600039805, 0.01252360463999602)"
      ]
     },
     "execution_count": 425,
     "metadata": {},
     "output_type": "execute_result"
    }
   ],
   "source": [
    "# p1 - p2 의 95% 신뢰구간은 (p1_hat - p2_hat) +/- 1.96 * SE(p1_hat-p2_hat)\n",
    "norm(loc = 0.0217-0.0126, scale = np.sqrt((((0.0217)*(1-0.0217)/11034) + ((0.0126)*(1-0.0126))/11037)) ).interval(0.95)"
   ]
  },
  {
   "cell_type": "code",
   "execution_count": 426,
   "metadata": {},
   "outputs": [
    {
     "data": {
      "text/plain": [
       "(0.017149381541389154, 0.0017477808769542132)"
      ]
     },
     "execution_count": 426,
     "metadata": {},
     "output_type": "execute_result"
    }
   ],
   "source": [
    "# p-value을 구할 때는 p1_hat-p2_hat 대신 p0(x1+x2 / n1+n2) 을 사용해야 한다. \n",
    "\n",
    "p0 = ((0.0217)*11034 + (0.0126)*11037) / (11034 + 11037)\n",
    "SE =np.sqrt((p0)*(1-p0)*((1/11034)+(1/11037)))\n",
    "p0, SE"
   ]
  },
  {
   "cell_type": "code",
   "execution_count": 427,
   "metadata": {},
   "outputs": [
    {
     "data": {
      "text/plain": [
       "9.598167638666245e-08"
      ]
     },
     "execution_count": 427,
     "metadata": {},
     "output_type": "execute_result"
    }
   ],
   "source": [
    "# p1 = p2 이라고 할때 (p1-p2 = 0 인 분포에서) : H0 , 관측값 p1 - p2 = 0.0091 이 0보다 크니, 혹시 \n",
    "# 0 < p1-p2  (p2<p1) 아닐까? : Ha\n",
    "# 그래서 0 (p1-p2)인 분포에서 관측값 0.0091 보다 큰 값들이 나타날 확율은 ?\n",
    "\n",
    "norm(loc = 0, scale = np.sqrt((p0)*(1-p0)*(2/11037))).sf(0.0217-0.0126)"
   ]
  },
  {
   "cell_type": "code",
   "execution_count": 428,
   "metadata": {},
   "outputs": [
    {
     "data": {
      "text/plain": [
       "0.0028746483264128144"
      ]
     },
     "execution_count": 428,
     "metadata": {},
     "output_type": "execute_result"
    }
   ],
   "source": [
    "# 0 (p1-p2)인 분포에서 오른쪽 끝 0.05 확률 값은 0.0029 이다. \n",
    "norm(loc = 0, scale = np.sqrt((p0)*(1-p0)*(2/11037))).isf(0.05)\n",
    "\n",
    "# 관측값이 이 한계 오른쪽 밖에 존재하니, p1-p2=0 인 분포가 아닌 p1>p2 인 분포에서 왔을 가능성이 있다."
   ]
  },
  {
   "attachments": {},
   "cell_type": "markdown",
   "metadata": {},
   "source": [
    "### t\n",
    "\n",
    "모집단의 분산이 알려졌거나, 샘플이 매우 크며, norm 을 사용해야 한다. "
   ]
  },
  {
   "cell_type": "code",
   "execution_count": 429,
   "metadata": {},
   "outputs": [],
   "source": [
    "from scipy.stats import t"
   ]
  },
  {
   "attachments": {},
   "cell_type": "markdown",
   "metadata": {},
   "source": [
    "#### 1 sample t"
   ]
  },
  {
   "cell_type": "code",
   "execution_count": 430,
   "metadata": {},
   "outputs": [
    {
     "data": {
      "text/plain": [
       "(-2.7764451051977987, 2.7764451051977987)"
      ]
     },
     "execution_count": 430,
     "metadata": {},
     "output_type": "execute_result"
    }
   ],
   "source": [
    "t(df=4).interval(0.95)"
   ]
  },
  {
   "cell_type": "code",
   "execution_count": 431,
   "metadata": {},
   "outputs": [
    {
     "data": {
      "text/plain": [
       "(168.74246453707383, 911.2575354629262)"
      ]
     },
     "execution_count": 431,
     "metadata": {},
     "output_type": "execute_result"
    }
   ],
   "source": [
    "# page 134\n",
    "# 5대 자동차를 가지고 정면 충돌 후 수리비용 평균 540 만원이고, 표준편차는  299 만원이라 할때\n",
    "# 모 평균의 95% 신뢰구간을 구하면\n",
    "\n",
    "t(loc=540,df=4,scale=299/np.sqrt(5)).interval(0.95)"
   ]
  },
  {
   "cell_type": "code",
   "execution_count": 432,
   "metadata": {},
   "outputs": [
    {
     "data": {
      "text/plain": [
       "0.01314561439517004"
      ]
     },
     "execution_count": 432,
     "metadata": {},
     "output_type": "execute_result"
    }
   ],
   "source": [
    "# page 149\n",
    "# 0.05 유의수준으로 해당 메이커가 만드는 자동차는 1000만원 보다 수리비가 많이나온다. 즉, \n",
    "# 해당 자동차 메이커의 차가 정면 충돌 후 수리비가 1000만원 보다 같거나 크다고 가정할 때, H0\n",
    "# 관측값 540 이니, 예상 분포 (평균 1000) 왼쪽 끝 (0.05) 값으로 확인 하거나, \n",
    "# (1000 미만이 확률 0.05, x = -2.13) 보다 관찰값 작게 나올 확률은 ?\n",
    "# Pr( x < 540 | x >= 1000, 4 , SE)\n",
    "# 작은 확률 cdf, 클 확률 sf\n",
    "\n",
    "t(loc=1000, df=4, scale=299/np.sqrt(5)).cdf(540)\n",
    "\n",
    "# 해당 메이커에서 만드는 자동차들은 수리비가 1000 보다 많이 나온다고 할 수 없다."
   ]
  },
  {
   "cell_type": "code",
   "execution_count": 433,
   "metadata": {},
   "outputs": [
    {
     "data": {
      "text/plain": [
       "0.01314561439517004"
      ]
     },
     "execution_count": 433,
     "metadata": {},
     "output_type": "execute_result"
    }
   ],
   "source": [
    "# 540 평균이라고 할때 관측값은 1000 되고, greater 확율 과 같다. \n",
    "t(loc=540, df=4, scale=299/np.sqrt(5)).sf(1000)"
   ]
  },
  {
   "cell_type": "code",
   "execution_count": 434,
   "metadata": {},
   "outputs": [
    {
     "data": {
      "text/plain": [
       "(-2.1318467813362907, 0.050000000280583434)"
      ]
     },
     "execution_count": 434,
     "metadata": {},
     "output_type": "execute_result"
    }
   ],
   "source": [
    "t(df=4).ppf(0.05), t(df=4).cdf(-2.1318467813362907)"
   ]
  },
  {
   "cell_type": "code",
   "execution_count": 435,
   "metadata": {},
   "outputs": [
    {
     "data": {
      "text/plain": [
       "(714.9361316232118, 0.050000000280583407)"
      ]
     },
     "execution_count": 435,
     "metadata": {},
     "output_type": "execute_result"
    }
   ],
   "source": [
    "t(loc=1000, df=4, scale=299/np.sqrt(5)).ppf(0.05), t(loc=1000, df=4, scale=299/np.sqrt(5)).cdf(714.9361316232118)\n",
    "\n",
    "# 평균이 1000일때, 발생 확률 0.05 미만 (less) 이 되는 관측값은?\n",
    "# 관측한 평균이 715 (0.05 확율을 갖는 x값) 보다 작으면 되는 거네. 바로 나오네."
   ]
  },
  {
   "cell_type": "code",
   "execution_count": 436,
   "metadata": {},
   "outputs": [
    {
     "data": {
      "text/plain": [
       "0.022750131948179576"
      ]
     },
     "execution_count": 436,
     "metadata": {},
     "output_type": "execute_result"
    }
   ],
   "source": [
    "# 146 page\n",
    "# 평균 16 온즈라고 알려진 시리얼이라고 할때,  : H0 , 관측을 했더니 15.9 이다... (알려진 평균보다 작네) 그래서 \n",
    "# 16 온즈 보다 작은거 아냐?               : Ha , 라고 가정하면\n",
    "# 49 개 박스을 검사 (Norm) 했더니, 평균 15.9 , 표준 편차 0.35 온즈.. \n",
    "\n",
    "norm(loc = 16, scale= 0.35/np.sqrt(49)).cdf(15.9)\n",
    "\n",
    "# 16 평균에서 해당 관측값이 나올 확률이 0.05 보다 작으므로 알려진 평균 16 온즈 이 아니, 뭔가 있다...  "
   ]
  },
  {
   "cell_type": "code",
   "execution_count": 437,
   "metadata": {},
   "outputs": [
    {
     "data": {
      "text/plain": [
       "15.917757318652427"
      ]
     },
     "execution_count": 437,
     "metadata": {},
     "output_type": "execute_result"
    }
   ],
   "source": [
    "# 결국 0.05 값이 15.92 보다 작아서... \n",
    "norm(loc = 16, scale= 0.35/np.sqrt(49)).ppf(0.05)"
   ]
  },
  {
   "attachments": {},
   "cell_type": "markdown",
   "metadata": {},
   "source": [
    "#### 2 sample t"
   ]
  },
  {
   "cell_type": "code",
   "execution_count": 438,
   "metadata": {},
   "outputs": [
    {
     "data": {
      "text/plain": [
       "(264.09619459583286, 154.638897342902)"
      ]
     },
     "execution_count": 438,
     "metadata": {},
     "output_type": "execute_result"
    }
   ],
   "source": [
    "# page 170\n",
    "\n",
    "# x1 : 5대, 평균 540, 표준편차 299 \n",
    "# x2 : 7대, 평균 300, 표준편차 238\n",
    "\n",
    "# x1-x2 = 540-300 = 240\n",
    "# 표본이 작을 때\n",
    "# s0 = ((n1-1)*s1**2 + (n2-1)*s2**2) / (n1+n2-2)\n",
    "# SE = s0*np.sqrt(1/n1 + 1/n2)\n",
    "\n",
    "s0 = np.sqrt(((4*np.square(299))+(6*np.square(238)))/(5+7-2))\n",
    "SE = s0*np.sqrt(1/5 + 1/7)\n",
    "\n",
    "s0, SE"
   ]
  },
  {
   "cell_type": "code",
   "execution_count": 439,
   "metadata": {},
   "outputs": [
    {
     "data": {
      "text/plain": [
       "(-104.55693519473766, 584.5569351947377)"
      ]
     },
     "execution_count": 439,
     "metadata": {},
     "output_type": "execute_result"
    }
   ],
   "source": [
    "t(loc=540-300,df=5+7-2,scale=SE).interval(.95)"
   ]
  },
  {
   "cell_type": "code",
   "execution_count": 440,
   "metadata": {},
   "outputs": [
    {
     "data": {
      "text/plain": [
       "(280.27698950833, 0.07585455401211649)"
      ]
     },
     "execution_count": 440,
     "metadata": {},
     "output_type": "execute_result"
    }
   ],
   "source": [
    "# x1_bar - x2_bar = 0 이라고 할때, : H0\n",
    "# 관측값 240 이 0 보다 크므로.. (x1_bar - x2_bar > 0 ) 혹시 \n",
    "# x1_bar > x2_bar 인지 확인해보자  : Ha\n",
    "# x1_bar = x2_bar 일때, 0.05 확율을 갖는 0 보다 큰쪽 값 (오른쪽 끝값) 보다 관측값(240)이 크면, H0 라고 할 수 없다. \n",
    "# 혹은 관측값 보다 큰 값이 갖는 확율이 0.05 보다 작으면, H0라고 할 수 없다. \n",
    "\n",
    "t(loc=0, df=10, scale=SE).isf(0.05),t(loc=0, df=10, scale=SE).sf(240)\n",
    "\n",
    "# 결과는 0 보다 큰쪽 0.05 확율을 갖는 280 보다 관측값 240 작으므로 H0 을 무시 할 수 없다. \n",
    "# 따라서 관측값 보다 큰 값이 갖은 확률은 0.05 보다 클것이다. "
   ]
  },
  {
   "attachments": {},
   "cell_type": "markdown",
   "metadata": {},
   "source": [
    "#### paird sample t"
   ]
  },
  {
   "cell_type": "code",
   "execution_count": 453,
   "metadata": {},
   "outputs": [
    {
     "data": {
      "text/plain": [
       "(-2.7748228736888603, 0.77482287368886)"
      ]
     },
     "execution_count": 453,
     "metadata": {},
     "output_type": "execute_result"
    }
   ],
   "source": [
    "# page 172\n",
    "# 각 가솔린의 연비 데이터에서 2개의 가솔린이 다르다라고 할 수 있나?\n",
    "# X1 : n1=50, x1_bar = 25, se1 = 5\n",
    "# X2 : n1=50, x2_bar = 26, se2 = 4 \n",
    "\n",
    "# x1_bar - x2_bar = -1 \n",
    "# SE = np.sqrt(np.square(5)/50 + np.square(4)/50)   # 표분이 많을 때\n",
    "\n",
    "norm(loc =-1 , scale = np.sqrt((np.square(5)/50) + (np.square(4)/50))).interval(0.95)\n",
    "\n",
    "# 관측값으로 모평균의 95% 신뢰구간을 보면 0 (x1_bar = x2_bar)가 포함되어 있다. "
   ]
  },
  {
   "cell_type": "code",
   "execution_count": 451,
   "metadata": {},
   "outputs": [
    {
     "data": {
      "text/plain": [
       "0.13472820257988866"
      ]
     },
     "execution_count": 451,
     "metadata": {},
     "output_type": "execute_result"
    }
   ],
   "source": [
    "norm(loc =0 , scale = np.sqrt((np.square(5)/50) + (np.square(4)/50))).cdf(25-26)"
   ]
  },
  {
   "cell_type": "code",
   "execution_count": 443,
   "metadata": {},
   "outputs": [],
   "source": [
    "# 이때, 10개 항목에 대해    (표본이 작으므로 t)\n",
    "# x1 과 x2의 각 항목별 차이의 평균이 -0.6\n",
    "# 표준편차가 0.61 이라고 하면\n",
    "# SE = 0.61/np.sqrt(1/10)"
   ]
  },
  {
   "cell_type": "code",
   "execution_count": 444,
   "metadata": {},
   "outputs": [
    {
     "data": {
      "text/plain": [
       "(-1.0363677126310689, -0.16363228736893104)"
      ]
     },
     "execution_count": 444,
     "metadata": {},
     "output_type": "execute_result"
    }
   ],
   "source": [
    "# 차이값의 관측값을 기준으로 차이값의 모평균 을 95% 신뢰구간 에서 확인해 보면\n",
    "t(loc = -.6, df = 9, scale = 0.61/np.sqrt(10)).interval(.95)"
   ]
  },
  {
   "cell_type": "code",
   "execution_count": 445,
   "metadata": {},
   "outputs": [
    {
     "data": {
      "text/plain": [
       "(-0.43636771263106894, 0.43636771263106894)"
      ]
     },
     "execution_count": 445,
     "metadata": {},
     "output_type": "execute_result"
    }
   ],
   "source": [
    "t(loc = 0, df = 9, scale = 0.61/np.sqrt(10)).interval(.95)\n",
    "\n",
    "# 0 보다 작은 값의 95% 한계값이 -0.4 이므로... 관측값(-0.6)이 이미 벗어나 있음 "
   ]
  },
  {
   "cell_type": "code",
   "execution_count": 446,
   "metadata": {},
   "outputs": [
    {
     "data": {
      "text/plain": [
       "-0.43636771263106916"
      ]
     },
     "execution_count": 446,
     "metadata": {},
     "output_type": "execute_result"
    }
   ],
   "source": [
    "# x1_bar = x2_bar (x1_bar - x2_bar =0) 이라고 하면 관측값 -0.6 작으므로.\n",
    "# 평균이 0, 자유도 9, SE 인 분포에서 0 작은 값들중 0.025 확율을 갖는 값 (유의수준 검정 통계값) 을 확인해 보자.\n",
    "\n",
    "t(loc = 0, df = 9, scale = 0.61/np.sqrt(10)).ppf(0.025)\n",
    "\n",
    "# 0.025 확율을 갖는 값(-0.4)보다 관측값(-0.6)이 더 작으므로 확율은 0.025 보다 더 작을 것이다."
   ]
  },
  {
   "cell_type": "code",
   "execution_count": 447,
   "metadata": {},
   "outputs": [
    {
     "data": {
      "text/plain": [
       "0.012510038969701914"
      ]
     },
     "execution_count": 447,
     "metadata": {},
     "output_type": "execute_result"
    }
   ],
   "source": [
    "t(loc = 0, df = 9, scale = 0.61/np.sqrt(10)).cdf(-.6)+\\\n",
    "t(loc = 0, df = 9, scale = 0.61/np.sqrt(10)).sf(.6)\n",
    "\n",
    "# x1_bar = x2_bar 일때 관측값 (-0.6) 이 관측될 확율은 0.05 보다 작다."
   ]
  },
  {
   "attachments": {},
   "cell_type": "markdown",
   "metadata": {},
   "source": [
    "### chi2"
   ]
  },
  {
   "cell_type": "code",
   "execution_count": 448,
   "metadata": {},
   "outputs": [],
   "source": [
    "from scipy.stats import chisquare"
   ]
  },
  {
   "cell_type": "code",
   "execution_count": 449,
   "metadata": {},
   "outputs": [],
   "source": [
    "from scipy.stats import chi2_contingency"
   ]
  },
  {
   "attachments": {},
   "cell_type": "markdown",
   "metadata": {},
   "source": [
    "### f"
   ]
  },
  {
   "attachments": {},
   "cell_type": "markdown",
   "metadata": {},
   "source": [
    "## 변수 변환\n",
    "\n",
    ">수치형 변수 변환 (*옆의 괄호는 Scikit Learn의 함수명)  \n",
    "- 선형변환: 최소최대 스케일링(MinMaxScaler), 표준화(StandardScaler), 로버스트 스케일링(RobustScaler), 균등분포/RankGauss (QuantileTransformer)\n",
    "- 비선형변환: 로그변환, 거듭제곱변환(PowerTransformer - Boxcox, YeoJohnson), 정규화(Normalizer - L1, L2, Max)\n",
    "- 기타: 구간분할 (=이산화, binning), 순위 변환\n",
    "\n",
    ">범주형 변수 변환  \n",
    "- 원핫인코딩(One-hot-encoding), 더미코딩(dummy coding), 이펙트코딩(Effect coding), 숫자로 표현된 범주형 특성, 레이블인코딩(Label encoding), 특징 해싱(Feature Hashing)"
   ]
  },
  {
   "attachments": {},
   "cell_type": "markdown",
   "metadata": {},
   "source": [
    "## Scipy.stats\n",
    "\n",
    "```\n",
    "scipy.stats\n",
    "│\n",
    "├── 01 T-test\n",
    "│   │\n",
    "│   ├── ttest_1samp         (단일표본 t검정)\n",
    "│   ├── ttest_ind           (독립표본 t검정)\n",
    "│   └── ttest_rel           (대응표본 t검정) \n",
    "│ \n",
    "├── 02 비모수 검정\n",
    "│   │\n",
    "│   ├── mannwhitneyu        (맨-휘트니 U 검정 - 중위수 , 윌콕슨 순위합 검정과 동일하다 볼 수 있음)\n",
    "│   ├── ranksums            (윌콕슨 순위합 검정 - 중위수)\n",
    "│   └── wilcoxon            (윌콕슨 부호 순위합 검정)\n",
    "│ \n",
    "├── 03 정규정 검정\n",
    "│   │\n",
    "│   ├── anderson            (Anderson-Darling , 데이터수가 상대적으로 많을 때)\n",
    "│   ├── kstest              (Kolmogorov-Smirnov , 데이터수가 상대적으로 많을 때)\n",
    "│   ├── mstats.normaltest\n",
    "│   └── shapiro             (shapiro, 노말분포 가장 엄격하게 검정, 데이터수가 상대적으로 적을때)\n",
    "│   \n",
    "├── 04 등분산 검정\n",
    "│   │\n",
    "│   ├── bartlett\n",
    "│   ├── fligner\n",
    "│   └── levene\n",
    "│\n",
    "├── 05 카이제곱검정\n",
    "│   │\n",
    "│   ├── chi2_contingency     (카이제곱독립검정, 독립성 검정)\n",
    "│   ├── chisquare            (카이제곱검정 , 적합도 검정)\n",
    "│   └── fisher_exact         (피셔 정확 검정 - 빈도수가 5개 이하 셀의 수가 전체 셀의 20%이상일 경우 사용 )\n",
    "│\n",
    "└── 06 ANOVA (일원분산분석)\n",
    "    │\n",
    "    └── f_oneway (분산 분석은  statmodels 모듈이 더 좋음! )\n",
    "```"
   ]
  },
  {
   "attachments": {},
   "cell_type": "markdown",
   "metadata": {},
   "source": []
  }
 ],
 "metadata": {
  "kernelspec": {
   "display_name": "Python 3.7.6 64-bit ('3.7.6')",
   "language": "python",
   "name": "python3"
  },
  "language_info": {
   "codemirror_mode": {
    "name": "ipython",
    "version": 3
   },
   "file_extension": ".py",
   "mimetype": "text/x-python",
   "name": "python",
   "nbconvert_exporter": "python",
   "pygments_lexer": "ipython3",
   "version": "3.9.10"
  },
  "vscode": {
   "interpreter": {
    "hash": "162ceaf09f938773ad028a3a2ad644135fdbb6560e1ade87eeac244d09a7763d"
   }
  }
 },
 "nbformat": 4,
 "nbformat_minor": 4
}
