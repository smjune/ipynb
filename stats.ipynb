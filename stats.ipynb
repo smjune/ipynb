{
 "cells": [
  {
   "attachments": {},
   "cell_type": "markdown",
   "metadata": {},
   "source": [
    "## 확률 계산\n",
    "\n",
    "norm : 정규분포 함수   norm(mean,std)   \n",
    "binom : 이항분포 함수  binom(x,n,p)  \n",
    "poisson : 포아송분포 함수  poisson(x,mu)  \n",
    "expon : 지수분포 함수 expon(x,scale=lambda) \n",
    "\n",
    "\n",
    "pmf : 확률질량함수(probability mass function)  \n",
    "pdf : 확률밀도함수(probability density function)  \n",
    "cdf : 누적분포함수(cumulative distribution function)    0 ~ 누적확률  \n",
    "ppf : 누적분포함수의 역함수(inverse cumulative distribution function)  ppf(확률) = 기대값"
   ]
  },
  {
   "attachments": {},
   "cell_type": "markdown",
   "metadata": {},
   "source": [
    "### binom"
   ]
  },
  {
   "cell_type": "code",
   "execution_count": 13,
   "metadata": {
    "tags": []
   },
   "outputs": [
    {
     "data": {
      "text/plain": [
       "0.016715884095931423"
      ]
     },
     "execution_count": 13,
     "metadata": {},
     "output_type": "execute_result"
    }
   ],
   "source": [
    "# 카드 사용자 중 5% 가 연체중이라고 한다. 카드 사용자 100명을 조사했을때 10명이 연체자일 확율\n",
    "\n",
    "from scipy.stats import binom\n",
    "\n",
    "binom.pmf(10,100,0.05)"
   ]
  },
  {
   "cell_type": "code",
   "execution_count": 14,
   "metadata": {
    "tags": []
   },
   "outputs": [
    {
     "data": {
      "text/plain": [
       "0.9885275899325153"
      ]
     },
     "execution_count": 14,
     "metadata": {},
     "output_type": "execute_result"
    }
   ],
   "source": [
    "# 10명 이하일 확율\n",
    "\n",
    "binom.cdf(10,100,0.05)"
   ]
  },
  {
   "cell_type": "code",
   "execution_count": 15,
   "metadata": {
    "tags": []
   },
   "outputs": [
    {
     "data": {
      "text/plain": [
       "0.028188294163416172"
      ]
     },
     "execution_count": 15,
     "metadata": {},
     "output_type": "execute_result"
    }
   ],
   "source": [
    "# 10명 이상일 확률\n",
    "\n",
    "1-binom.cdf(9,100,0.05)\n",
    "\n",
    "# 1-(9명 이하일 확률)"
   ]
  },
  {
   "attachments": {},
   "cell_type": "markdown",
   "metadata": {},
   "source": [
    "### piossion\n",
    "\n",
    "사건이 특정횟수 이하 발생할 확률 = piosson.cdf(사건 발생 횟수, 단위 시간당 발생횟수)"
   ]
  },
  {
   "cell_type": "code",
   "execution_count": 16,
   "metadata": {},
   "outputs": [
    {
     "data": {
      "text/plain": [
       "0.18044704431548356"
      ]
     },
     "execution_count": 16,
     "metadata": {},
     "output_type": "execute_result"
    }
   ],
   "source": [
    "# 5 페이지당 10개의 오타가 발견된다고 할때, 새로운 페이지에서 오타가 3개 나올 확률?\n",
    "\n",
    "from scipy.stats import poisson\n",
    "\n",
    "poisson.pmf(3, 10/5)\n"
   ]
  },
  {
   "cell_type": "code",
   "execution_count": 17,
   "metadata": {},
   "outputs": [
    {
     "data": {
      "text/plain": [
       "0.23810330555354436"
      ]
     },
     "execution_count": 17,
     "metadata": {},
     "output_type": "execute_result"
    }
   ],
   "source": [
    "# 시간당 240건의 택배 요청이 들어 온다고 한다, 이후 1분동안 들어오는 요청이 2건 이하일 확율\n",
    "\n",
    "poisson.cdf(2,240/60)"
   ]
  },
  {
   "cell_type": "code",
   "execution_count": 18,
   "metadata": {},
   "outputs": [
    {
     "data": {
      "text/plain": [
       "0.8008517265285442"
      ]
     },
     "execution_count": 18,
     "metadata": {},
     "output_type": "execute_result"
    }
   ],
   "source": [
    "# 하루 평균 3명의 신입회원이 들어 온다고 한다. 2명이상 신입회원이 들어 올 확률은 ?\n",
    "\n",
    "1-poisson.cdf(1,3)\n",
    "\n",
    "# 1 - (1명 이하로 들어올 확율)"
   ]
  },
  {
   "attachments": {},
   "cell_type": "markdown",
   "metadata": {},
   "source": [
    "### expon\n",
    "\n",
    "사건이 특정시간 이내 발생할 확률 = expon.cdf( 특정 시간, scale = 사건이 발생하는 평균 시간)"
   ]
  },
  {
   "cell_type": "code",
   "execution_count": 19,
   "metadata": {},
   "outputs": [
    {
     "data": {
      "text/plain": [
       "0.3011942119122022"
      ]
     },
     "execution_count": 19,
     "metadata": {},
     "output_type": "execute_result"
    }
   ],
   "source": [
    "# 스마트폰의 평균 수명이 5년이라고 한다, 이 스마트폰의 수명이 6년 이상일 확률은 ?\n",
    "\n",
    "from scipy.stats import expon\n",
    "\n",
    "1-expon.cdf(6,scale=5)"
   ]
  },
  {
   "cell_type": "code",
   "execution_count": 20,
   "metadata": {},
   "outputs": [
    {
     "data": {
      "text/plain": [
       "0.301194211912202"
      ]
     },
     "execution_count": 20,
     "metadata": {},
     "output_type": "execute_result"
    }
   ],
   "source": [
    "import numpy as np\n",
    "np.exp(6*(-1/5))"
   ]
  },
  {
   "cell_type": "code",
   "execution_count": 21,
   "metadata": {},
   "outputs": [
    {
     "data": {
      "text/plain": [
       "0.28346868942621073"
      ]
     },
     "execution_count": 21,
     "metadata": {},
     "output_type": "execute_result"
    }
   ],
   "source": [
    "# 전자제품의 평균 수명이 3년일때, 보증기간이 1년이라고 하자, 보상 받을 확률은 ? (1년 이내 수명이 다 할 확률)\n",
    "\n",
    "expon.cdf(1,scale=3)"
   ]
  },
  {
   "cell_type": "code",
   "execution_count": 22,
   "metadata": {},
   "outputs": [
    {
     "data": {
      "text/plain": [
       "0.28346868942621073"
      ]
     },
     "execution_count": 22,
     "metadata": {},
     "output_type": "execute_result"
    }
   ],
   "source": [
    "1-np.exp(1*-1/3)"
   ]
  },
  {
   "cell_type": "code",
   "execution_count": 23,
   "metadata": {},
   "outputs": [
    {
     "data": {
      "text/plain": [
       "0.35369106390788696"
      ]
     },
     "execution_count": 23,
     "metadata": {},
     "output_type": "execute_result"
    }
   ],
   "source": [
    "# 병원의 대기 시간이 8분이라고 할때, 방문했을때 4분에서 11분 기다릴 확률은?\n",
    "\n",
    "(1-np.exp(11*-1/8)) - (1-np.exp(4*-1/8))"
   ]
  },
  {
   "cell_type": "code",
   "execution_count": 24,
   "metadata": {},
   "outputs": [
    {
     "data": {
      "text/plain": [
       "0.35369106390788696"
      ]
     },
     "execution_count": 24,
     "metadata": {},
     "output_type": "execute_result"
    }
   ],
   "source": [
    "# 평균 대기 시간 8분, 11분 기다릴 확률 - 4 분 기다릴 확률\n",
    "\n",
    "expon.cdf(11,scale = 8) - expon.cdf(4, scale =8)"
   ]
  },
  {
   "cell_type": "code",
   "execution_count": 25,
   "metadata": {},
   "outputs": [
    {
     "data": {
      "text/plain": [
       "0.4647385714810097"
      ]
     },
     "execution_count": 25,
     "metadata": {},
     "output_type": "execute_result"
    }
   ],
   "source": [
    "# 하루 평균 3명의 환자가 온다고 했을때, 5시간 안에 첫번째 환자가 올 확률은 \n",
    "\n",
    "# 3/24 = 1/8  : 8시간(단위시간) 당 1명이 온다. \n",
    "1- np.exp(5*-3/24)"
   ]
  },
  {
   "cell_type": "code",
   "execution_count": 26,
   "metadata": {},
   "outputs": [
    {
     "data": {
      "text/plain": [
       "0.4647385714810097"
      ]
     },
     "execution_count": 26,
     "metadata": {},
     "output_type": "execute_result"
    }
   ],
   "source": [
    "# 환자 1명이 방문할때 걸리는 평균 시간은 24/3 = 8 시간 이므로,\n",
    "expon.cdf(5,scale= 8)"
   ]
  },
  {
   "cell_type": "code",
   "execution_count": 27,
   "metadata": {},
   "outputs": [
    {
     "data": {
      "text/plain": [
       "5.003908256689045"
      ]
     },
     "execution_count": 27,
     "metadata": {},
     "output_type": "execute_result"
    }
   ],
   "source": [
    "# 46.5% 환자들이 방문하는 시간 대, 5시간 이내에 온다. \n",
    "\n",
    "expon.ppf(0.465, scale=8)"
   ]
  },
  {
   "attachments": {},
   "cell_type": "markdown",
   "metadata": {},
   "source": [
    "### norm\n",
    "\n",
    "[scipy.stats.norm](https://docs.scipy.org/doc/scipy/reference/generated/scipy.stats.norm.html)\n",
    "\n",
    "The location (loc) keyword specifies the mean.   \n",
    "The scale (scale) keyword specifies the standard deviation."
   ]
  },
  {
   "cell_type": "code",
   "execution_count": 28,
   "metadata": {},
   "outputs": [
    {
     "data": {
      "text/plain": [
       "1.959963984540054"
      ]
     },
     "execution_count": 28,
     "metadata": {},
     "output_type": "execute_result"
    }
   ],
   "source": [
    "from scipy.stats import norm\n",
    "\n",
    "norm(loc=0, scale=1).ppf(q=0.975)\n",
    "\n",
    "# 표준 정규분포 q 확율(less) 을 갖는 x 값 (표준정규 분포표에서 찾는 값 z)"
   ]
  },
  {
   "cell_type": "code",
   "execution_count": 29,
   "metadata": {},
   "outputs": [
    {
     "data": {
      "text/plain": [
       "0.975"
      ]
     },
     "execution_count": 29,
     "metadata": {},
     "output_type": "execute_result"
    }
   ],
   "source": [
    "norm.cdf(x=1.959963984540054)\n",
    "\n",
    "# inverse ppf"
   ]
  },
  {
   "cell_type": "code",
   "execution_count": 30,
   "metadata": {},
   "outputs": [
    {
     "data": {
      "text/plain": [
       "0.024997895148220435"
      ]
     },
     "execution_count": 30,
     "metadata": {},
     "output_type": "execute_result"
    }
   ],
   "source": [
    "norm.sf(x = 1.96)\n",
    "\n",
    "# x 값에 대한 확률 (greater)\n",
    "# p-values\n",
    "# 1-cdf(x)\n",
    "# inverse = isf(q)\n"
   ]
  },
  {
   "cell_type": "code",
   "execution_count": 31,
   "metadata": {},
   "outputs": [
    {
     "data": {
      "text/plain": [
       "1.9599999999999997"
      ]
     },
     "execution_count": 31,
     "metadata": {},
     "output_type": "execute_result"
    }
   ],
   "source": [
    "norm.isf(q=0.024997895148220435)"
   ]
  },
  {
   "cell_type": "code",
   "execution_count": 32,
   "metadata": {},
   "outputs": [
    {
     "data": {
      "text/plain": [
       "(-1.959963984540054, 1.959963984540054)"
      ]
     },
     "execution_count": 32,
     "metadata": {},
     "output_type": "execute_result"
    }
   ],
   "source": [
    "norm.interval(confidence=0.95)"
   ]
  },
  {
   "attachments": {},
   "cell_type": "markdown",
   "metadata": {},
   "source": [
<<<<<<< HEAD
    "### proportion"
=======
    "### t\n",
    "\n",
    "t.cdf  \n",
    "t.ppf  \n",
    "t.interval(신뢰구간, 자유도, 평균, 표준오차)"
>>>>>>> refs/remotes/origin/main
   ]
  },
  {
   "cell_type": "code",
<<<<<<< HEAD
   "execution_count": 34,
=======
   "execution_count": 7,
>>>>>>> refs/remotes/origin/main
   "metadata": {},
   "outputs": [
    {
     "data": {
      "text/plain": [
<<<<<<< HEAD
       "841.2794817320134"
      ]
     },
     "execution_count": 34,
=======
       "(23.59114308304164, 27.70035691695836)"
      ]
     },
     "execution_count": 7,
>>>>>>> refs/remotes/origin/main
     "metadata": {},
     "output_type": "execute_result"
    }
   ],
   "source": [
<<<<<<< HEAD
    "# 지지율을 조사할 때 신뢰도 95%로, 표본에서 얻은 지지율과 실제 지지율의 오차가 3% point 이내로 되게 하려면 \n",
    "#표본의 크기는 최소 얼마로 잡아야 할까? 단, 예비 조사를 통하여 지지율이 27% 정도라는 것을 알고 있다고 한다\n",
    "\n",
    "_,z = norm.interval(confidence=0.95)\n",
    "\n",
    "# 오차 = Z(a/2)*SE\n",
    "# SE = np.sqrt(p*(1-p)/n)\n",
    "# n = Z**2 * p * (1-p)/오차**2\n",
    "\n",
    "np.square(z)*(0.27*(1-0.27)/np.square(0.03))\n",
    "\n",
    "# 만약 사전 조사된 지지율 27% 가 없다면, 50% 을 가정한다. "
   ]
  },
  {
   "attachments": {},
   "cell_type": "markdown",
   "metadata": {},
   "source": [
    "#### 1 proprotioin"
   ]
  },
  {
   "attachments": {},
   "cell_type": "markdown",
   "metadata": {},
   "source": []
  },
  {
   "attachments": {},
   "cell_type": "markdown",
   "metadata": {},
   "source": [
    "#### 2 proportion"
   ]
  },
  {
   "attachments": {},
   "cell_type": "markdown",
   "metadata": {},
   "source": []
  },
  {
   "attachments": {},
   "cell_type": "markdown",
   "metadata": {},
   "source": [
    "### t"
=======
    "from scipy.stats import t\n",
    "\n",
    "\n",
    "# 신뢰구간 t.interval\n",
    "a, b  = t.interval( 0.95, 80-1, loc= 25.64575, scale = 9.232566/80**0.5)\n",
    "a, b"
   ]
  },
  {
   "cell_type": "code",
   "execution_count": null,
   "metadata": {},
   "outputs": [],
   "source": []
  },
  {
   "cell_type": "code",
   "execution_count": 1,
   "metadata": {},
   "outputs": [],
   "source": [
    "from scipy.stats import ttest_1samp"
   ]
  },
  {
   "cell_type": "code",
   "execution_count": 2,
   "metadata": {},
   "outputs": [],
   "source": [
    "from scipy.stats import ttest_ind"
   ]
  },
  {
   "cell_type": "code",
   "execution_count": 3,
   "metadata": {},
   "outputs": [],
   "source": [
    "from scipy.stats import ttest_rel"
>>>>>>> refs/remotes/origin/main
   ]
  },
  {
   "attachments": {},
   "cell_type": "markdown",
   "metadata": {},
   "source": [
    "#### 1 sample t"
   ]
  },
  {
   "attachments": {},
   "cell_type": "markdown",
   "metadata": {},
   "source": [
    "#### 2 sample t"
   ]
  },
  {
   "attachments": {},
   "cell_type": "markdown",
   "metadata": {},
   "source": [
    "#### paird sample t"
   ]
  },
  {
   "attachments": {},
   "cell_type": "markdown",
   "metadata": {},
   "source": [
    "### chi2"
   ]
  },
  {
   "cell_type": "code",
   "execution_count": 4,
   "metadata": {},
   "outputs": [],
   "source": [
    "from scipy.stats import chisquare"
   ]
  },
  {
   "cell_type": "code",
   "execution_count": 5,
   "metadata": {},
   "outputs": [],
   "source": [
    "from scipy.stats import chi2_contingency"
   ]
  },
  {
   "attachments": {},
   "cell_type": "markdown",
   "metadata": {},
   "source": [
    "### f"
   ]
  },
  {
   "attachments": {},
   "cell_type": "markdown",
   "metadata": {},
   "source": [
    "## 변수 변환\n",
    "\n",
    ">수치형 변수 변환 (*옆의 괄호는 Scikit Learn의 함수명)  \n",
    "- 선형변환: 최소최대 스케일링(MinMaxScaler), 표준화(StandardScaler), 로버스트 스케일링(RobustScaler), 균등분포/RankGauss (QuantileTransformer)\n",
    "- 비선형변환: 로그변환, 거듭제곱변환(PowerTransformer - Boxcox, YeoJohnson), 정규화(Normalizer - L1, L2, Max)\n",
    "- 기타: 구간분할 (=이산화, binning), 순위 변환\n",
    "\n",
    ">범주형 변수 변환  \n",
    "- 원핫인코딩(One-hot-encoding), 더미코딩(dummy coding), 이펙트코딩(Effect coding), 숫자로 표현된 범주형 특성, 레이블인코딩(Label encoding), 특징 해싱(Feature Hashing)"
   ]
  },
  {
   "attachments": {},
   "cell_type": "markdown",
   "metadata": {},
   "source": [
    "## Scipy.stats\n",
    "\n",
    "```\n",
    "scipy.stats\n",
    "│\n",
    "├── 01 T-test\n",
    "│   │\n",
    "│   ├── ttest_1samp         (단일표본 t검정)\n",
    "│   ├── ttest_ind           (독립표본 t검정)\n",
    "│   └── ttest_rel           (대응표본 t검정) \n",
    "│ \n",
    "├── 02 비모수 검정\n",
    "│   │\n",
    "│   ├── mannwhitneyu        (맨-휘트니 U 검정 - 중위수 , 윌콕슨 순위합 검정과 동일하다 볼 수 있음)\n",
    "│   ├── ranksums            (윌콕슨 순위합 검정 - 중위수)\n",
    "│   └── wilcoxon            (윌콕슨 부호 순위합 검정)\n",
    "│ \n",
    "├── 03 정규정 검정\n",
    "│   │\n",
    "│   ├── anderson            (Anderson-Darling , 데이터수가 상대적으로 많을 때)\n",
    "│   ├── kstest              (Kolmogorov-Smirnov , 데이터수가 상대적으로 많을 때)\n",
    "│   ├── mstats.normaltest\n",
    "│   └── shapiro             (shapiro, 노말분포 가장 엄격하게 검정, 데이터수가 상대적으로 적을때)\n",
    "│   \n",
    "├── 04 등분산 검정\n",
    "│   │\n",
    "│   ├── bartlett\n",
    "│   ├── fligner\n",
    "│   └── levene\n",
    "│\n",
    "├── 05 카이제곱검정\n",
    "│   │\n",
    "│   ├── chi2_contingency     (카이제곱독립검정, 독립성 검정)\n",
    "│   ├── chisquare            (카이제곱검정 , 적합도 검정)\n",
    "│   └── fisher_exact         (피셔 정확 검정 - 빈도수가 5개 이하 셀의 수가 전체 셀의 20%이상일 경우 사용 )\n",
    "│\n",
    "└── 06 ANOVA (일원분산분석)\n",
    "    │\n",
    "    └── f_oneway (분산 분석은  statmodels 모듈이 더 좋음! )\n",
    "```"
   ]
  },
  {
   "attachments": {},
   "cell_type": "markdown",
   "metadata": {},
   "source": []
  }
 ],
 "metadata": {
  "kernelspec": {
   "display_name": "Python 3.7.6 64-bit ('3.7.6')",
   "language": "python",
   "name": "python3"
  },
  "language_info": {
   "codemirror_mode": {
    "name": "ipython",
    "version": 3
   },
   "file_extension": ".py",
   "mimetype": "text/x-python",
   "name": "python",
   "nbconvert_exporter": "python",
   "pygments_lexer": "ipython3",
   "version": "3.7.6"
  },
  "vscode": {
   "interpreter": {
    "hash": "162ceaf09f938773ad028a3a2ad644135fdbb6560e1ade87eeac244d09a7763d"
   }
  }
 },
 "nbformat": 4,
 "nbformat_minor": 4
}
