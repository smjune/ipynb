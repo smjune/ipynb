{
 "cells": [
  {
   "cell_type": "code",
   "execution_count": 890,
   "metadata": {},
   "outputs": [],
   "source": [
    "import numpy as np\n",
    "import pandas as pd"
   ]
  },
  {
   "attachments": {},
   "cell_type": "markdown",
   "metadata": {},
   "source": [
    "## 확률 계산\n",
    "\n",
    "norm : 정규분포 함수   norm(mean,std)   \n",
    "binom : 이항분포 함수  binom(x,n,p)  \n",
    "poisson : 포아송분포 함수  poisson(x,mu)  \n",
    "expon : 지수분포 함수 expon(x,scale=lambda) \n",
    "\n",
    "\n",
    "pmf : 확률질량함수(probability mass function)  \n",
    "pdf : 확률밀도함수(probability density function)  \n",
    "cdf : 누적분포함수(cumulative distribution function)    0 ~ 누적확률  \n",
    "ppf : 누적분포함수의 역함수(inverse cumulative distribution function)  ppf(확률) = 기대값"
   ]
  },
  {
   "attachments": {},
   "cell_type": "markdown",
   "metadata": {},
   "source": [
    "### binom"
   ]
  },
  {
   "cell_type": "code",
   "execution_count": 822,
   "metadata": {
    "tags": []
   },
   "outputs": [
    {
     "data": {
      "text/plain": [
       "0.016715884095931423"
      ]
     },
     "execution_count": 822,
     "metadata": {},
     "output_type": "execute_result"
    }
   ],
   "source": [
    "# 카드 사용자 중 5% 가 연체중이라고 한다. 카드 사용자 100명을 조사했을때 10명이 연체자일 확율\n",
    "\n",
    "from scipy.stats import binom\n",
    "\n",
    "binom.pmf(10,100,0.05)"
   ]
  },
  {
   "cell_type": "code",
   "execution_count": 823,
   "metadata": {
    "tags": []
   },
   "outputs": [
    {
     "data": {
      "text/plain": [
       "0.9885275899325153"
      ]
     },
     "execution_count": 823,
     "metadata": {},
     "output_type": "execute_result"
    }
   ],
   "source": [
    "# 10명 이하일 확율\n",
    "\n",
    "binom.cdf(10,100,0.05)"
   ]
  },
  {
   "cell_type": "code",
   "execution_count": 824,
   "metadata": {
    "tags": []
   },
   "outputs": [
    {
     "data": {
      "text/plain": [
       "0.028188294163416172"
      ]
     },
     "execution_count": 824,
     "metadata": {},
     "output_type": "execute_result"
    }
   ],
   "source": [
    "# 10명 이상일 확률\n",
    "\n",
    "1-binom.cdf(9,100,0.05)\n",
    "\n",
    "# 1-(9명 이하일 확률)"
   ]
  },
  {
   "attachments": {},
   "cell_type": "markdown",
   "metadata": {},
   "source": [
    "### piossion\n",
    "\n",
    "사건이 특정횟수 이하 발생할 확률 = piosson.cdf(사건 발생 횟수, 단위 시간당 발생횟수)"
   ]
  },
  {
   "cell_type": "code",
   "execution_count": 825,
   "metadata": {},
   "outputs": [
    {
     "data": {
      "text/plain": [
       "0.18044704431548356"
      ]
     },
     "execution_count": 825,
     "metadata": {},
     "output_type": "execute_result"
    }
   ],
   "source": [
    "# 5 페이지당 10개의 오타가 발견된다고 할때, 새로운 페이지에서 오타가 3개 나올 확률?\n",
    "\n",
    "from scipy.stats import poisson\n",
    "\n",
    "poisson.pmf(3, 10/5)\n"
   ]
  },
  {
   "cell_type": "code",
   "execution_count": 826,
   "metadata": {},
   "outputs": [
    {
     "data": {
      "text/plain": [
       "0.23810330555354436"
      ]
     },
     "execution_count": 826,
     "metadata": {},
     "output_type": "execute_result"
    }
   ],
   "source": [
    "# 시간당 240건의 택배 요청이 들어 온다고 한다, 이후 1분동안 들어오는 요청이 2건 이하일 확율\n",
    "\n",
    "poisson.cdf(2,240/60)"
   ]
  },
  {
   "cell_type": "code",
   "execution_count": 827,
   "metadata": {},
   "outputs": [
    {
     "data": {
      "text/plain": [
       "0.8008517265285442"
      ]
     },
     "execution_count": 827,
     "metadata": {},
     "output_type": "execute_result"
    }
   ],
   "source": [
    "# 하루 평균 3명의 신입회원이 들어 온다고 한다. 2명이상 신입회원이 들어 올 확률은 ?\n",
    "\n",
    "1-poisson.cdf(1,3)\n",
    "\n",
    "# 1 - (1명 이하로 들어올 확율)"
   ]
  },
  {
   "attachments": {},
   "cell_type": "markdown",
   "metadata": {},
   "source": [
    "### expon\n",
    "\n",
    "사건이 특정시간 이내 발생할 확률 = expon.cdf( 특정 시간, scale = 사건이 발생하는 평균 시간)"
   ]
  },
  {
   "cell_type": "code",
   "execution_count": 828,
   "metadata": {},
   "outputs": [
    {
     "data": {
      "text/plain": [
       "0.3011942119122022"
      ]
     },
     "execution_count": 828,
     "metadata": {},
     "output_type": "execute_result"
    }
   ],
   "source": [
    "# 스마트폰의 평균 수명이 5년이라고 한다, 이 스마트폰의 수명이 6년 이상일 확률은 ?\n",
    "\n",
    "from scipy.stats import expon\n",
    "\n",
    "1-expon.cdf(6,scale=5)"
   ]
  },
  {
   "cell_type": "code",
   "execution_count": 829,
   "metadata": {},
   "outputs": [
    {
     "data": {
      "text/plain": [
       "0.301194211912202"
      ]
     },
     "execution_count": 829,
     "metadata": {},
     "output_type": "execute_result"
    }
   ],
   "source": [
    "import numpy as np\n",
    "np.exp(6*(-1/5))"
   ]
  },
  {
   "cell_type": "code",
   "execution_count": 830,
   "metadata": {},
   "outputs": [
    {
     "data": {
      "text/plain": [
       "0.28346868942621073"
      ]
     },
     "execution_count": 830,
     "metadata": {},
     "output_type": "execute_result"
    }
   ],
   "source": [
    "# 전자제품의 평균 수명이 3년일때, 보증기간이 1년이라고 하자, 보상 받을 확률은 ? (1년 이내 수명이 다 할 확률)\n",
    "\n",
    "expon.cdf(1,scale=3)"
   ]
  },
  {
   "cell_type": "code",
   "execution_count": 831,
   "metadata": {},
   "outputs": [
    {
     "data": {
      "text/plain": [
       "0.28346868942621073"
      ]
     },
     "execution_count": 831,
     "metadata": {},
     "output_type": "execute_result"
    }
   ],
   "source": [
    "1-np.exp(1*-1/3)"
   ]
  },
  {
   "cell_type": "code",
   "execution_count": 832,
   "metadata": {},
   "outputs": [
    {
     "data": {
      "text/plain": [
       "0.35369106390788696"
      ]
     },
     "execution_count": 832,
     "metadata": {},
     "output_type": "execute_result"
    }
   ],
   "source": [
    "# 병원의 대기 시간이 8분이라고 할때, 방문했을때 4분에서 11분 기다릴 확률은?\n",
    "\n",
    "(1-np.exp(11*-1/8)) - (1-np.exp(4*-1/8))"
   ]
  },
  {
   "cell_type": "code",
   "execution_count": 833,
   "metadata": {},
   "outputs": [
    {
     "data": {
      "text/plain": [
       "0.35369106390788696"
      ]
     },
     "execution_count": 833,
     "metadata": {},
     "output_type": "execute_result"
    }
   ],
   "source": [
    "# 평균 대기 시간 8분, 11분 기다릴 확률 - 4 분 기다릴 확률\n",
    "\n",
    "expon.cdf(11,scale = 8) - expon.cdf(4, scale =8)"
   ]
  },
  {
   "cell_type": "code",
   "execution_count": 834,
   "metadata": {},
   "outputs": [
    {
     "data": {
      "text/plain": [
       "0.4647385714810097"
      ]
     },
     "execution_count": 834,
     "metadata": {},
     "output_type": "execute_result"
    }
   ],
   "source": [
    "# 하루 평균 3명의 환자가 온다고 했을때, 5시간 안에 첫번째 환자가 올 확률은 \n",
    "\n",
    "# 3/24 = 1/8  : 8시간(단위시간) 당 1명이 온다. \n",
    "1- np.exp(5*-3/24)"
   ]
  },
  {
   "cell_type": "code",
   "execution_count": 835,
   "metadata": {},
   "outputs": [
    {
     "data": {
      "text/plain": [
       "0.4647385714810097"
      ]
     },
     "execution_count": 835,
     "metadata": {},
     "output_type": "execute_result"
    }
   ],
   "source": [
    "# 환자 1명이 방문할때 걸리는 평균 시간은 24/3 = 8 시간 이므로,\n",
    "expon.cdf(5,scale= 8)"
   ]
  },
  {
   "cell_type": "code",
   "execution_count": 836,
   "metadata": {},
   "outputs": [
    {
     "data": {
      "text/plain": [
       "5.003908256689045"
      ]
     },
     "execution_count": 836,
     "metadata": {},
     "output_type": "execute_result"
    }
   ],
   "source": [
    "# 46.5% 환자들이 방문하는 시간 대, 5시간 이내에 온다. \n",
    "\n",
    "expon.ppf(0.465, scale=8)"
   ]
  },
  {
   "attachments": {},
   "cell_type": "markdown",
   "metadata": {},
   "source": [
    "## Statistical test"
   ]
  },
  {
   "attachments": {},
   "cell_type": "markdown",
   "metadata": {},
   "source": [
    "### norm\n",
    "\n",
    "[scipy.stats.norm](https://docs.scipy.org/doc/scipy/reference/generated/scipy.stats.norm.html)\n",
    "\n",
    "The location (loc) keyword specifies the mean.   \n",
    "The scale (scale) keyword specifies the standard deviation."
   ]
  },
  {
   "cell_type": "code",
   "execution_count": 837,
   "metadata": {},
   "outputs": [
    {
     "data": {
      "text/plain": [
       "1.959963984540054"
      ]
     },
     "execution_count": 837,
     "metadata": {},
     "output_type": "execute_result"
    }
   ],
   "source": [
    "from scipy.stats import norm\n",
    "\n",
    "norm(loc=0, scale=1).ppf(q=0.975)\n",
    "\n",
    "# 표준 정규분포 q 확율(less) 을 갖는 x 값 (표준정규 분포표에서 찾는 값 z)"
   ]
  },
  {
   "cell_type": "code",
   "execution_count": 838,
   "metadata": {},
   "outputs": [
    {
     "data": {
      "text/plain": [
       "0.975"
      ]
     },
     "execution_count": 838,
     "metadata": {},
     "output_type": "execute_result"
    }
   ],
   "source": [
    "norm.cdf(x=1.959963984540054)\n",
    "\n",
    "# inverse ppf"
   ]
  },
  {
   "cell_type": "code",
   "execution_count": 839,
   "metadata": {},
   "outputs": [
    {
     "data": {
      "text/plain": [
       "0.024997895148220435"
      ]
     },
     "execution_count": 839,
     "metadata": {},
     "output_type": "execute_result"
    }
   ],
   "source": [
    "norm.sf(x = 1.96)\n",
    "\n",
    "# x 값에 대한 확률 (greater)\n",
    "# p-values\n",
    "# 1-cdf(x)\n",
    "# inverse = isf(q)\n"
   ]
  },
  {
   "cell_type": "code",
   "execution_count": 840,
   "metadata": {},
   "outputs": [
    {
     "data": {
      "text/plain": [
       "1.9599999999999997"
      ]
     },
     "execution_count": 840,
     "metadata": {},
     "output_type": "execute_result"
    }
   ],
   "source": [
    "norm.isf(q=0.024997895148220435)"
   ]
  },
  {
   "cell_type": "code",
   "execution_count": 841,
   "metadata": {},
   "outputs": [
    {
     "data": {
      "text/plain": [
       "(-1.959963984540054, 1.959963984540054)"
      ]
     },
     "execution_count": 841,
     "metadata": {},
     "output_type": "execute_result"
    }
   ],
   "source": [
    "norm.interval(confidence=0.95)"
   ]
  },
  {
   "attachments": {},
   "cell_type": "markdown",
   "metadata": {},
   "source": [
    "#### Shapiro ,kstest"
   ]
  },
  {
   "attachments": {},
   "cell_type": "markdown",
   "metadata": {},
   "source": [
    "### proportion\n",
    "\n",
    "주의 : 신뢰구간과, 검정통계값을 구할때 사용한는 p 값이 다르다.  \n",
    "\n",
    "[from statsmodels.stats.proportion import proportions_ztest](https://www.statsmodels.org/stable/generated/statsmodels.stats.proportion.proportions_ztest.html)"
   ]
  },
  {
   "cell_type": "code",
   "execution_count": 842,
   "metadata": {},
   "outputs": [
    {
     "data": {
      "text/plain": [
       "(0.8387709895187311, 0.861229010481269)"
      ]
     },
     "execution_count": 842,
     "metadata": {},
     "output_type": "execute_result"
    }
   ],
   "source": [
    "# page 102\n",
    "# 1000 개 에서 정상이 85 개가 정상이라면.\n",
    "# 모평균의 68% 신뢰구간은 \n",
    "\n",
    "norm(loc=.85, scale = np.sqrt((.85*.15)/1000)).interval(.68)"
   ]
  },
  {
   "cell_type": "code",
   "execution_count": 843,
   "metadata": {},
   "outputs": [
    {
     "data": {
      "text/plain": [
       "0.011291589790636216"
      ]
     },
     "execution_count": 843,
     "metadata": {},
     "output_type": "execute_result"
    }
   ],
   "source": [
    "np.sqrt((.85*.15)/1000)"
   ]
  },
  {
   "cell_type": "code",
   "execution_count": 844,
   "metadata": {},
   "outputs": [
    {
     "data": {
      "text/plain": [
       "(0.5191655864637935, 0.5808344135362066)"
      ]
     },
     "execution_count": 844,
     "metadata": {},
     "output_type": "execute_result"
    }
   ],
   "source": [
    "# page 114\n",
    "# 1000 명을 대상으로 사전 조사하여 550명이 의원 지지도를 보였다. \n",
    "# 모 평균 p 의 95% 신뢰구간을 구하여라\n",
    "# z = p_hat - p / np.sqrt(p_hat*(1-p_hat)/n)\n",
    "\n",
    "norm(loc=0.55, scale=np.sqrt((0.55*0.45)/1000)).interval(0.95)"
   ]
  },
  {
   "cell_type": "code",
   "execution_count": 845,
   "metadata": {},
   "outputs": [
    {
     "data": {
      "text/plain": [
       "(0.5094767115259293, 0.5905232884740708)"
      ]
     },
     "execution_count": 845,
     "metadata": {},
     "output_type": "execute_result"
    }
   ],
   "source": [
    "# page 121\n",
    "# 모평균 p 의 99% 신뢰구간을 구하여라.\n",
    "norm(loc=0.55, scale=np.sqrt((0.55*0.45)/1000)).interval(0.99)"
   ]
  },
  {
   "cell_type": "code",
   "execution_count": 846,
   "metadata": {},
   "outputs": [
    {
     "data": {
      "text/plain": [
       "16421.369087527502"
      ]
     },
     "execution_count": 846,
     "metadata": {},
     "output_type": "execute_result"
    }
   ],
   "source": [
    "# page 124\n",
    "# 1% 오차 범위에서, 지지도 55% 의 99% 신뢰구간을 구하려면 몇명의 샘플이 필요한가?\n",
    "\n",
    "_,z = norm.interval(confidence=0.99)\n",
    "# z = 2.5758293035489004\n",
    "# 책에서는 z = 2.58, p = 0.5\n",
    "np.square(z)*(0.55*0.45)/np.square(0.01)"
   ]
  },
  {
   "cell_type": "code",
   "execution_count": 847,
   "metadata": {},
   "outputs": [
    {
     "data": {
      "text/plain": [
       "841.2794817320134"
      ]
     },
     "execution_count": 847,
     "metadata": {},
     "output_type": "execute_result"
    }
   ],
   "source": [
    "# 지지율을 조사할 때 신뢰도 95%로, 표본에서 얻은 지지율과 실제 지지율의 오차가 3% point 이내로 되게 하려면 \n",
    "# 표본의 크기는 최소 얼마로 잡아야 할까? 단, 예비 조사를 통하여 지지율이 27% 정도라는 것을 알고 있다고 한다\n",
    "\n",
    "_,z = norm.interval(confidence=0.95)\n",
    "\n",
    "# 오차 = Z(a/2)*SE\n",
    "# SE = np.sqrt(p_hat*(1-p_hat)/n)\n",
    "# n = Z**2 * p_hat * (1-p_hat)/오차**2\n",
    "\n",
    "np.square(z)*(0.27*(1-0.27)/np.square(0.03))\n",
    "\n",
    "# 만약 사전 조사된 지지율 27% (p_hat) 가 없다면, 50% (P0) 을 가정한다. "
   ]
  },
  {
   "attachments": {},
   "cell_type": "markdown",
   "metadata": {},
   "source": [
    "#### 1 proprotioin"
   ]
  },
  {
   "cell_type": "code",
   "execution_count": 848,
   "metadata": {},
   "outputs": [
    {
     "data": {
      "text/plain": [
       "4.144957337186113e-16"
      ]
     },
     "execution_count": 848,
     "metadata": {},
     "output_type": "execute_result"
    }
   ],
   "source": [
    "# page 138\n",
    "# 참관인을 뽑은 모 집단은 50%가 유색인종이다 : H0 이라고 가정했을 때, \n",
    "# 관측값 4/80 은 .5 보다 작다, 그러면 혹시\n",
    "# 유색인족은 50% 이하이다. : Ha 인지 \n",
    "# 평균이 0.5 인 분포에서 80 명을 무작위로 뽑았을때 유색인종인 4명 보다 작을 확율\n",
    "# SE = np.sqrt(p*(1-p)/n)\n",
    "# Pr( x <= 4 | p = 0.5, n = 80)\n",
    "\n",
    "norm(loc = 0.5, scale = 0.5/(80**0.5)).cdf(4/80)"
   ]
  },
  {
   "cell_type": "code",
   "execution_count": 849,
   "metadata": {},
   "outputs": [
    {
     "data": {
      "text/plain": [
       "(-8.049844718999243, 4.144957337186113e-16)"
      ]
     },
     "execution_count": 849,
     "metadata": {},
     "output_type": "execute_result"
    }
   ],
   "source": [
    "from statsmodels.stats.proportion import proportions_ztest\n",
    "\n",
    "proportions_ztest(4,80,0.5,\"smaller\",0.5)"
   ]
  },
  {
   "cell_type": "code",
   "execution_count": 850,
   "metadata": {},
   "outputs": [
    {
     "data": {
      "text/plain": [
       "0.0007827011290012658"
      ]
     },
     "execution_count": 850,
     "metadata": {},
     "output_type": "execute_result"
    }
   ],
   "source": [
    "# page 144\n",
    "# 투표자는 50% (5:5)의 공정한 성향을 갖고있다 라고 가정할 때, (지지하거나, 지지 안하거나) : H0 \n",
    "# 1000명을 관측을 했더니 0.55 가 나오더라,  그래서.. 혹시 모집단 평균이 0.5 보다 큰건 아닌지, \n",
    "# 투표자는 우호적이다. (50% 이상 이다.) : Ha\n",
    "# 확인을 해 보자\n",
    "# 공정한 모집단 (평균 0.5) 에서 대상자 1000명을 조사한 결과 0.55 보다 큰값이 갖을 확율\n",
    "# 1% (0.01) 기준으로 검증하라 \n",
    "\n",
    "norm(loc=.5, scale=0.5*(1/(1000)**0.5)).sf(.55)\n",
    "\n",
    "## 0.01 보다 작으므로 투표 대상자는 50% 성향을 갖은 대상이 아니였다. "
   ]
  },
  {
   "cell_type": "code",
   "execution_count": 851,
   "metadata": {},
   "outputs": [
    {
     "data": {
      "text/plain": [
       "0.5367827895592978"
      ]
     },
     "execution_count": 851,
     "metadata": {},
     "output_type": "execute_result"
    }
   ],
   "source": [
    "# 관측값 (0.55)가 분포의 0.01 확율을 갖는 x 값이 5.5 보다 크다. \n",
    "\n",
    "norm(loc=.5, scale=0.5*(1/(1000)**0.5)).isf(0.01)"
   ]
  },
  {
   "cell_type": "code",
   "execution_count": 852,
   "metadata": {},
   "outputs": [
    {
     "data": {
      "text/plain": [
       "3.162277660168383"
      ]
     },
     "execution_count": 852,
     "metadata": {},
     "output_type": "execute_result"
    }
   ],
   "source": [
    "norm.isf(0.0007827011290012658)"
   ]
  },
  {
   "attachments": {},
   "cell_type": "markdown",
   "metadata": {},
   "source": [
    "##### proportions_ztest"
   ]
  },
  {
   "cell_type": "code",
   "execution_count": 853,
   "metadata": {},
   "outputs": [
    {
     "data": {
      "text/plain": [
       "(3.162277660168382, 0.0007827011290012658)"
      ]
     },
     "execution_count": 853,
     "metadata": {},
     "output_type": "execute_result"
    }
   ],
   "source": [
    "proportions_ztest(0.55*1000,1000,0.5,\"larger\",0.5)  # 관측갯수, 전체갯수, 알려진 비율, .., 알려진 비율)"
   ]
  },
  {
   "attachments": {},
   "cell_type": "markdown",
   "metadata": {},
   "source": [
    "##### chisquare (1x2)"
   ]
  },
  {
   "cell_type": "code",
   "execution_count": 854,
   "metadata": {},
   "outputs": [
    {
     "data": {
      "text/plain": [
       "Power_divergenceResult(statistic=10.0, pvalue=0.001565402258002549)"
      ]
     },
     "execution_count": 854,
     "metadata": {},
     "output_type": "execute_result"
    }
   ],
   "source": [
    "obs = np.array([550, 450])      # 관측값\n",
    "exp = np.array([500, 500])      # 모평균에 의한 기대값\n",
    "\n",
    "from scipy.stats import chisquare\n",
    "\n",
    "chisquare(f_obs=obs, f_exp=exp)  # two-sided"
   ]
  },
  {
   "attachments": {},
   "cell_type": "markdown",
   "metadata": {},
   "source": [
    "#### 2 proportion"
   ]
  },
  {
   "cell_type": "code",
   "execution_count": 855,
   "metadata": {},
   "outputs": [
    {
     "data": {
      "text/plain": [
       "0.0017467691585156548"
      ]
     },
     "execution_count": 855,
     "metadata": {},
     "output_type": "execute_result"
    }
   ],
   "source": [
    "# page 161\n",
    "# p1 : 가짜 약을 먹은 사람의 사망율 0.0217 , 11034명\n",
    "# p2 : 진짜 약을 먹은 사람의 사망율 0.0126 , 11037명\n",
    "\n",
    "# p1 - p2 = 0.0091\n",
    "# SE(p1_hat - p2_hat)는 \n",
    "np.sqrt((((0.0217)*(1-0.0217)/11034) + ((0.0126)*(1-0.0126))/11037))"
   ]
  },
  {
   "cell_type": "code",
   "execution_count": 856,
   "metadata": {},
   "outputs": [
    {
     "data": {
      "text/plain": [
       "(0.0056763953600039805, 0.01252360463999602)"
      ]
     },
     "execution_count": 856,
     "metadata": {},
     "output_type": "execute_result"
    }
   ],
   "source": [
    "# p1 - p2 의 95% 신뢰구간은 (p1_hat - p2_hat) +/- 1.96 * SE(p1_hat-p2_hat)\n",
    "norm(loc = 0.0217-0.0126, scale = np.sqrt((((0.0217)*(1-0.0217)/11034) + ((0.0126)*(1-0.0126))/11037)) ).interval(0.95)"
   ]
  },
  {
   "cell_type": "code",
   "execution_count": 857,
   "metadata": {},
   "outputs": [
    {
     "data": {
      "text/plain": [
       "(0.017126546146527116, 0.0017466371437881768)"
      ]
     },
     "execution_count": 857,
     "metadata": {},
     "output_type": "execute_result"
    }
   ],
   "source": [
    "# p-value을 구할 때는 p1_hat-p2_hat 대신 p0(x1+x2 / n1+n2) 을 사용해야 한다. \n",
    "\n",
    "p0 = (239 + 139) / (11034 + 11037)\n",
    "SE =np.sqrt((p0*(1-p0)/11034)+(p0*(1-p0)/11037))\n",
    "p0, SE"
   ]
  },
  {
   "cell_type": "code",
   "execution_count": 858,
   "metadata": {},
   "outputs": [
    {
     "data": {
      "text/plain": [
       "5.190729326960711"
      ]
     },
     "execution_count": 858,
     "metadata": {},
     "output_type": "execute_result"
    }
   ],
   "source": [
    "((239/11034)-(139/11037))/SE"
   ]
  },
  {
   "cell_type": "code",
   "execution_count": 859,
   "metadata": {},
   "outputs": [
    {
     "data": {
      "text/plain": [
       "1.0473597500999404e-07"
      ]
     },
     "execution_count": 859,
     "metadata": {},
     "output_type": "execute_result"
    }
   ],
   "source": [
    "# p1 = p2 이라고 할때 (p1-p2 = 0 인 분포에서) : H0 , 관측값 p1 - p2 = 0.0091 이 0보다 크니, 혹시 \n",
    "# 0 < p1-p2  (p2<p1) 아닐까? : Ha\n",
    "# 그래서 0 (p1-p2)인 분포에서 관측값 0.0091 보다 큰 값들이 나타날 확율은 ?\n",
    "\n",
    "norm(loc = 0, scale = SE).sf((239/11034)-(139/11037))"
   ]
  },
  {
   "cell_type": "code",
   "execution_count": 860,
   "metadata": {},
   "outputs": [
    {
     "data": {
      "text/plain": [
       "0.002872962440928144"
      ]
     },
     "execution_count": 860,
     "metadata": {},
     "output_type": "execute_result"
    }
   ],
   "source": [
    "# 0 (p1-p2)인 분포에서 오른쪽 끝 0.05 확률 값은 0.0029 이다. \n",
    "norm(loc = 0, scale = SE).isf(0.05)\n",
    "\n",
    "# 관측값이 이 한계 오른쪽 밖에 존재하니, p1-p2=0 인 분포가 아닌 p1>p2 인 분포에서 왔을 가능성이 있다."
   ]
  },
  {
   "attachments": {},
   "cell_type": "markdown",
   "metadata": {},
   "source": [
    "##### proportions_ztest"
   ]
  },
  {
   "cell_type": "code",
   "execution_count": 861,
   "metadata": {},
   "outputs": [
    {
     "data": {
      "text/plain": [
       "(5.190729326960711, 1.0473597500999404e-07)"
      ]
     },
     "execution_count": 861,
     "metadata": {},
     "output_type": "execute_result"
    }
   ],
   "source": [
    "# 전체 갯수 대비 출연 갯수 \n",
    "#                   p1 - p2    \n",
    "   \n",
    "nobs = np.array([11034, 11037])                   # 전체갯수\n",
    "count = np.array([239, 139])                      # 관측갯수\n",
    "\n",
    "proportions_ztest(count, nobs, alternative=\"larger\")"
   ]
  },
  {
   "attachments": {},
   "cell_type": "markdown",
   "metadata": {},
   "source": [
    "##### chi2_contingency (2x2)"
   ]
  },
  {
   "cell_type": "code",
   "execution_count": 862,
   "metadata": {},
   "outputs": [
    {
     "data": {
      "text/plain": [
       "Chi2ContingencyResult(statistic=26.943670945770005, pvalue=2.094719500199874e-07, dof=1, expected_freq=array([[10845.02568982, 10847.97431018],\n",
       "       [  188.97431018,   189.02568982]]))"
      ]
     },
     "execution_count": 862,
     "metadata": {},
     "output_type": "execute_result"
    }
   ],
   "source": [
    "# 각 항목의 출연회수만 있어야 한다. contingency table\n",
    "\n",
    "from scipy.stats import chi2_contingency\n",
    "table = np.array([[10795, 10898],           # 전체갯수 - 관측갯수1 = 관측갯수 2\n",
    "                  [239, 139]])              # 관측갯수 1          \n",
    "                  \n",
    "chi2_contingency(table ,correction=False)   # two-sided"
   ]
  },
  {
   "attachments": {},
   "cell_type": "markdown",
   "metadata": {},
   "source": [
    "### t\n",
    "\n",
    "모집단의 분산이 알려졌거나, 샘플이 매우 크며, norm 을 사용해야 한다. "
   ]
  },
  {
   "cell_type": "code",
   "execution_count": 863,
   "metadata": {},
   "outputs": [],
   "source": [
    "from scipy.stats import t"
   ]
  },
  {
   "attachments": {},
   "cell_type": "markdown",
   "metadata": {},
   "source": [
    "#### 1 sample t"
   ]
  },
  {
   "cell_type": "code",
   "execution_count": 864,
   "metadata": {},
   "outputs": [
    {
     "data": {
      "text/plain": [
       "(-2.7764451051977987, 2.7764451051977987)"
      ]
     },
     "execution_count": 864,
     "metadata": {},
     "output_type": "execute_result"
    }
   ],
   "source": [
    "t(df=4).interval(0.95)"
   ]
  },
  {
   "cell_type": "code",
   "execution_count": 865,
   "metadata": {},
   "outputs": [
    {
     "data": {
      "text/plain": [
       "(168.74246453707383, 911.2575354629262)"
      ]
     },
     "execution_count": 865,
     "metadata": {},
     "output_type": "execute_result"
    }
   ],
   "source": [
    "# page 134\n",
    "# 5대 자동차를 가지고 정면 충돌 후 수리비용 평균 540 만원이고, 표준편차는  299 만원이라 할때\n",
    "# 모 평균의 95% 신뢰구간을 구하면\n",
    "\n",
    "t(loc=540,df=4,scale=299/np.sqrt(5)).interval(0.95)"
   ]
  },
  {
   "cell_type": "code",
   "execution_count": 866,
   "metadata": {},
   "outputs": [
    {
     "data": {
      "text/plain": [
       "0.01314561439517004"
      ]
     },
     "execution_count": 866,
     "metadata": {},
     "output_type": "execute_result"
    }
   ],
   "source": [
    "# page 149\n",
    "# 0.05 유의수준으로 해당 메이커가 만드는 자동차는 1000만원 보다 수리비가 많이나온다. 즉, \n",
    "# 해당 자동차 메이커의 차가 정면 충돌 후 수리비가 1000만원 보다 같거나 크다고 가정할 때, H0\n",
    "# 관측값 540 이니, 예상 분포 (평균 1000) 왼쪽 끝 (0.05) 값으로 확인 하거나, \n",
    "# (1000 미만이 확률 0.05, x = -2.13) 보다 관찰값 작게 나올 확률은 ?\n",
    "# Pr( x < 540 | x >= 1000, 4 , SE)\n",
    "# 작은 확률 cdf, 클 확률 sf\n",
    "\n",
    "t(loc=1000, df=4, scale=299/np.sqrt(5)).cdf(540)\n",
    "\n",
    "# 해당 메이커에서 만드는 자동차들은 수리비가 1000 보다 많이 나온다고 할 수 없다."
   ]
  },
  {
   "cell_type": "code",
   "execution_count": 867,
   "metadata": {},
   "outputs": [
    {
     "data": {
      "text/plain": [
       "0.01314561439517004"
      ]
     },
     "execution_count": 867,
     "metadata": {},
     "output_type": "execute_result"
    }
   ],
   "source": [
    "# 540 평균이라고 할때 관측값은 1000 되고, greater 확율 과 같다. \n",
    "t(loc=540, df=4, scale=299/np.sqrt(5)).sf(1000)"
   ]
  },
  {
   "cell_type": "code",
   "execution_count": 868,
   "metadata": {},
   "outputs": [
    {
     "data": {
      "text/plain": [
       "(-2.1318467813362907, 0.050000000280583434)"
      ]
     },
     "execution_count": 868,
     "metadata": {},
     "output_type": "execute_result"
    }
   ],
   "source": [
    "t(df=4).ppf(0.05), t(df=4).cdf(-2.1318467813362907)"
   ]
  },
  {
   "cell_type": "code",
   "execution_count": 869,
   "metadata": {},
   "outputs": [
    {
     "data": {
      "text/plain": [
       "(714.9361316232118, 0.050000000280583407)"
      ]
     },
     "execution_count": 869,
     "metadata": {},
     "output_type": "execute_result"
    }
   ],
   "source": [
    "t(loc=1000, df=4, scale=299/np.sqrt(5)).ppf(0.05), t(loc=1000, df=4, scale=299/np.sqrt(5)).cdf(714.9361316232118)\n",
    "\n",
    "# 평균이 1000일때, 발생 확률 0.05 미만 (less) 이 되는 관측값은?\n",
    "# 관측한 평균이 715 (0.05 확율을 갖는 x값) 보다 작으면 되는 거네. 바로 나오네."
   ]
  },
  {
   "cell_type": "code",
   "execution_count": 870,
   "metadata": {},
   "outputs": [
    {
     "data": {
      "text/plain": [
       "0.022750131948179576"
      ]
     },
     "execution_count": 870,
     "metadata": {},
     "output_type": "execute_result"
    }
   ],
   "source": [
    "# 146 page\n",
    "# 평균 16 온즈라고 알려진 시리얼이라고 할때,  : H0 , 관측을 했더니 15.9 이다... (알려진 평균보다 작네) 그래서 \n",
    "# 16 온즈 보다 작은거 아냐?               : Ha , 라고 가정하면\n",
    "# 49 개 박스을 검사 (Norm) 했더니, 평균 15.9 , 표준 편차 0.35 온즈.. \n",
    "\n",
    "norm(loc = 16, scale= 0.35/np.sqrt(49)).cdf(15.9)\n",
    "\n",
    "# 16 평균에서 해당 관측값이 나올 확률이 0.05 보다 작으므로 알려진 평균 16 온즈 이 아니, 뭔가 있다...  "
   ]
  },
  {
   "cell_type": "code",
   "execution_count": 871,
   "metadata": {},
   "outputs": [
    {
     "data": {
      "text/plain": [
       "15.917757318652427"
      ]
     },
     "execution_count": 871,
     "metadata": {},
     "output_type": "execute_result"
    }
   ],
   "source": [
    "# 결국 0.05 값이 15.92 보다 작아서... \n",
    "norm(loc = 16, scale= 0.35/np.sqrt(49)).ppf(0.05)"
   ]
  },
  {
   "cell_type": "code",
   "execution_count": 872,
   "metadata": {},
   "outputs": [
    {
     "data": {
      "text/plain": [
       "(14.572609067393861, 16.427390932606137)"
      ]
     },
     "execution_count": 872,
     "metadata": {},
     "output_type": "execute_result"
    }
   ],
   "source": [
    "## 12건 광고 시간 측정, 평균 15.5, 분산 3.2 모평균 90% 신뢰구간\n",
    "\n",
    "t(loc=15.5, df=11, scale = np.sqrt(3.2)/np.sqrt(12)).interval(.90)"
   ]
  },
  {
   "attachments": {},
   "cell_type": "markdown",
   "metadata": {},
   "source": [
    "##### ttest_1samp\n",
    "\n",
    "[scipy.stats.ttest_1samp](https://docs.scipy.org/doc/scipy/reference/generated/scipy.stats.ttest_1samp.html#scipy.stats.ttest_1samp)  \n"
   ]
  },
  {
   "cell_type": "code",
   "execution_count": 972,
   "metadata": {},
   "outputs": [
    {
     "data": {
      "text/plain": [
       "TtestResult(statistic=2.036670212284342, pvalue=0.07215245519777551, df=9)"
      ]
     },
     "execution_count": 972,
     "metadata": {},
     "output_type": "execute_result"
    }
   ],
   "source": [
    "one_sample = [177.3, 182.7, 169.6, 176.3, 180.3, 179.4, 178.5, 177.2, 181.8, 176.5]\n",
    "\n",
    "from scipy.stats import ttest_1samp\n",
    "\n",
    "ttest_1samp(one_sample, popmean= 175.6)\n",
    "\n"
   ]
  },
  {
   "attachments": {},
   "cell_type": "markdown",
   "metadata": {},
   "source": [
    "##### mannwhitneyu\n",
    "\n",
    "[scipy.stats.mannwhitneyu](https://docs.scipy.org/doc/scipy/reference/generated/scipy.stats.mannwhitneyu.html#scipy.stats.mannwhitneyu)"
   ]
  },
  {
   "attachments": {},
   "cell_type": "markdown",
   "metadata": {},
   "source": [
    "#### 2 sample t"
   ]
  },
  {
   "cell_type": "code",
   "execution_count": 873,
   "metadata": {},
   "outputs": [
    {
     "data": {
      "text/plain": [
       "(264.09619459583286, 154.638897342902)"
      ]
     },
     "execution_count": 873,
     "metadata": {},
     "output_type": "execute_result"
    }
   ],
   "source": [
    "# page 170\n",
    "\n",
    "# x1 : 5대, 평균 540, 표준편차 299 \n",
    "# x2 : 7대, 평균 300, 표준편차 238\n",
    "\n",
    "# x1-x2 = 540-300 = 240\n",
    "# 표본이 작을 때\n",
    "# s0 = ((n1-1)*s1**2 + (n2-1)*s2**2) / (n1+n2-2)\n",
    "# SE = s0*np.sqrt(1/n1 + 1/n2)\n",
    "\n",
    "s0 = np.sqrt(((4*np.square(299))+(6*np.square(238)))/(5+7-2))\n",
    "SE = s0*np.sqrt(1/5 + 1/7)\n",
    "\n",
    "s0, SE"
   ]
  },
  {
   "cell_type": "code",
   "execution_count": 874,
   "metadata": {},
   "outputs": [
    {
     "data": {
      "text/plain": [
       "(-104.55693519473766, 584.5569351947377)"
      ]
     },
     "execution_count": 874,
     "metadata": {},
     "output_type": "execute_result"
    }
   ],
   "source": [
    "t(loc=540-300,df=5+7-2,scale=SE).interval(.95)"
   ]
  },
  {
   "cell_type": "code",
   "execution_count": 875,
   "metadata": {},
   "outputs": [
    {
     "data": {
      "text/plain": [
       "(280.27698950833, 0.07585455401211649)"
      ]
     },
     "execution_count": 875,
     "metadata": {},
     "output_type": "execute_result"
    }
   ],
   "source": [
    "# x1_bar - x2_bar = 0 이라고 할때, : H0\n",
    "# 관측값 240 이 0 보다 크므로.. (x1_bar - x2_bar > 0 ) 혹시 \n",
    "# x1_bar > x2_bar 인지 확인해보자  : Ha\n",
    "# x1_bar = x2_bar 일때, 0.05 확율을 갖는 0 보다 큰쪽 값 (오른쪽 끝값) 보다 관측값(240)이 크면, H0 라고 할 수 없다. \n",
    "# 혹은 관측값 보다 큰 값이 갖는 확율이 0.05 보다 작으면, H0라고 할 수 없다. \n",
    "\n",
    "t(loc=0, df=10, scale=SE).isf(0.05),t(loc=0, df=10, scale=SE).sf(240)\n",
    "\n",
    "# 결과는 0 보다 큰쪽 0.05 확율을 갖는 280 보다 관측값 240 작으므로 H0 을 무시 할 수 없다. \n",
    "# 따라서 관측값 보다 큰 값이 갖은 확률은 0.05 보다 클것이다. "
   ]
  },
  {
   "attachments": {},
   "cell_type": "markdown",
   "metadata": {},
   "source": [
    "##### ttest_ind\n",
    "\n",
    " equal_var = False : welch's t test  (등분산성이 없을때)  \n",
    "\n",
    "[scipy.stats.ttest_ind](https://docs.scipy.org/doc/scipy/reference/generated/scipy.stats.ttest_ind.html#scipy.stats.ttest_ind)  "
   ]
  },
  {
   "cell_type": "code",
   "execution_count": 973,
   "metadata": {},
   "outputs": [
    {
     "data": {
      "text/plain": [
       "Ttest_indResult(statistic=-3.587521542539111, pvalue=0.002971151455277398)"
      ]
     },
     "execution_count": 973,
     "metadata": {},
     "output_type": "execute_result"
    }
   ],
   "source": [
    "# gender (female, male) 과 weight 간의 영향도 \n",
    " \n",
    "female = [63.8, 56.4, 55.2, 58.5, 64.0, 51.6, 54.6, 71.0]\n",
    "male = [75.5, 83.9, 75.7, 72.5, 56.2, 73.4, 67.7, 87.9]\n",
    "\n",
    "\n",
    "from scipy.stats import ttest_ind\n",
    "\n",
    "ttest_ind(female, male, equal_var=True)\n",
    "\n",
    "# 성별 그룹간 차이가 유의 하므로, 성별에 따른 몸무게의 영향도가 존재 한다."
   ]
  },
  {
   "cell_type": "code",
   "execution_count": 974,
   "metadata": {},
   "outputs": [
    {
     "data": {
      "text/plain": [
       "F_onewayResult(statistic=12.870310818182183, pvalue=0.0029711514552774126)"
      ]
     },
     "execution_count": 974,
     "metadata": {},
     "output_type": "execute_result"
    }
   ],
   "source": [
    "# 2x2 f_oneway 결과도 같다\n",
    "\n",
    "from scipy.stats import f_oneway\n",
    "\n",
    "f_oneway(female, male)    # 그룹이 2개 이상일때 지원 "
   ]
  },
  {
   "cell_type": "code",
   "execution_count": 977,
   "metadata": {},
   "outputs": [
    {
     "data": {
      "text/html": [
       "<div>\n",
       "<style scoped>\n",
       "    .dataframe tbody tr th:only-of-type {\n",
       "        vertical-align: middle;\n",
       "    }\n",
       "\n",
       "    .dataframe tbody tr th {\n",
       "        vertical-align: top;\n",
       "    }\n",
       "\n",
       "    .dataframe thead th {\n",
       "        text-align: right;\n",
       "    }\n",
       "</style>\n",
       "<table border=\"1\" class=\"dataframe\">\n",
       "  <thead>\n",
       "    <tr style=\"text-align: right;\">\n",
       "      <th></th>\n",
       "      <th>df</th>\n",
       "      <th>sum_sq</th>\n",
       "      <th>mean_sq</th>\n",
       "      <th>F</th>\n",
       "      <th>PR(&gt;F)</th>\n",
       "    </tr>\n",
       "  </thead>\n",
       "  <tbody>\n",
       "    <tr>\n",
       "      <th>gender</th>\n",
       "      <td>1.0</td>\n",
       "      <td>865.830625</td>\n",
       "      <td>865.830625</td>\n",
       "      <td>12.870311</td>\n",
       "      <td>0.002971</td>\n",
       "    </tr>\n",
       "    <tr>\n",
       "      <th>Residual</th>\n",
       "      <td>14.0</td>\n",
       "      <td>941.828750</td>\n",
       "      <td>67.273482</td>\n",
       "      <td>NaN</td>\n",
       "      <td>NaN</td>\n",
       "    </tr>\n",
       "  </tbody>\n",
       "</table>\n",
       "</div>"
      ],
      "text/plain": [
       "            df      sum_sq     mean_sq          F    PR(>F)\n",
       "gender     1.0  865.830625  865.830625  12.870311  0.002971\n",
       "Residual  14.0  941.828750   67.273482        NaN       NaN"
      ]
     },
     "execution_count": 977,
     "metadata": {},
     "output_type": "execute_result"
    }
   ],
   "source": [
    "# 2x2 ols 결과도 값다. \n",
    "\n",
    "hum_df = pd.DataFrame()\n",
    "\n",
    "temp_df = pd.DataFrame(female, columns=['measure'])\n",
    "temp_df['gender'] = 'female'\n",
    "hum_df = pd.concat([hum_df, temp_df]) \n",
    "temp_df = pd.DataFrame(male, columns=['measure'])\n",
    "temp_df['gender'] = 'male'\n",
    "hum_df = pd.concat([hum_df, temp_df]) \n",
    "\n",
    "from statsmodels.formula.api import ols\n",
    "from statsmodels.stats.anova import anova_lm\n",
    "\n",
    "my_ols = ols('measure ~ gender', hum_df).fit()    # 독립변수가 2개 이상일때 지원 \n",
    "anova_lm(my_ols)\n",
    "\n",
    "\n",
    "# 2 - 1 자유도\n",
    "# 16 - 2 자유도"
   ]
  },
  {
   "attachments": {},
   "cell_type": "markdown",
   "metadata": {},
   "source": [
    "##### ranksums\n",
    "\n",
    "Compute the Wilcoxon rank-sum statistic for two samples.\n",
    "\n",
    "[scipy.stats.ranksums](https://docs.scipy.org/doc/scipy/reference/generated/scipy.stats.ranksums.html)"
   ]
  },
  {
   "attachments": {},
   "cell_type": "markdown",
   "metadata": {},
   "source": [
    "#### paird sample t"
   ]
  },
  {
   "cell_type": "code",
   "execution_count": 876,
   "metadata": {},
   "outputs": [
    {
     "data": {
      "text/plain": [
       "(-2.7748228736888603, 0.77482287368886)"
      ]
     },
     "execution_count": 876,
     "metadata": {},
     "output_type": "execute_result"
    }
   ],
   "source": [
    "# page 172\n",
    "# 각 가솔린의 연비 데이터에서 2개의 가솔린이 다르다라고 할 수 있나?\n",
    "# X1 : n1=50, x1_bar = 25, se1 = 5\n",
    "# X2 : n1=50, x2_bar = 26, se2 = 4 \n",
    "\n",
    "# x1_bar - x2_bar = -1 \n",
    "# SE = np.sqrt(np.square(5)/50 + np.square(4)/50)   # 표분이 많을 때\n",
    "\n",
    "norm(loc =-1 , scale = np.sqrt((np.square(5)/50) + (np.square(4)/50))).interval(0.95)\n",
    "\n",
    "# 관측값으로 모평균의 95% 신뢰구간을 보면 0 (x1_bar = x2_bar)가 포함되어 있다. "
   ]
  },
  {
   "cell_type": "code",
   "execution_count": 877,
   "metadata": {},
   "outputs": [
    {
     "data": {
      "text/plain": [
       "0.13472820257988866"
      ]
     },
     "execution_count": 877,
     "metadata": {},
     "output_type": "execute_result"
    }
   ],
   "source": [
    "norm(loc =0 , scale = np.sqrt((np.square(5)/50) + (np.square(4)/50))).cdf(25-26)"
   ]
  },
  {
   "cell_type": "code",
   "execution_count": 878,
   "metadata": {},
   "outputs": [],
   "source": [
    "# 이때, 10개 항목에 대해    (표본이 작으므로 t)\n",
    "# x1 과 x2의 각 항목별 차이의 평균이 -0.6\n",
    "# 표준편차가 0.61 이라고 하면\n",
    "# SE = 0.61/np.sqrt(1/10)"
   ]
  },
  {
   "cell_type": "code",
   "execution_count": 879,
   "metadata": {},
   "outputs": [
    {
     "data": {
      "text/plain": [
       "(-1.0363677126310689, -0.16363228736893104)"
      ]
     },
     "execution_count": 879,
     "metadata": {},
     "output_type": "execute_result"
    }
   ],
   "source": [
    "# 차이값의 관측값을 기준으로 차이값의 모평균 을 95% 신뢰구간 에서 확인해 보면\n",
    "t(loc = -.6, df = 9, scale = 0.61/np.sqrt(10)).interval(.95)"
   ]
  },
  {
   "cell_type": "code",
   "execution_count": 880,
   "metadata": {},
   "outputs": [
    {
     "data": {
      "text/plain": [
       "(-0.43636771263106894, 0.43636771263106894)"
      ]
     },
     "execution_count": 880,
     "metadata": {},
     "output_type": "execute_result"
    }
   ],
   "source": [
    "t(loc = 0, df = 9, scale = 0.61/np.sqrt(10)).interval(.95)\n",
    "\n",
    "# 0 보다 작은 값의 95% 한계값이 -0.4 이므로... 관측값(-0.6)이 이미 벗어나 있음 "
   ]
  },
  {
   "cell_type": "code",
   "execution_count": 881,
   "metadata": {},
   "outputs": [
    {
     "data": {
      "text/plain": [
       "-0.43636771263106916"
      ]
     },
     "execution_count": 881,
     "metadata": {},
     "output_type": "execute_result"
    }
   ],
   "source": [
    "# x1_bar = x2_bar (x1_bar - x2_bar =0) 이라고 하면 관측값 -0.6 작으므로.\n",
    "# 평균이 0, 자유도 9, SE 인 분포에서 0 작은 값들중 0.025 확율을 갖는 값 (유의수준 검정 통계값) 을 확인해 보자.\n",
    "\n",
    "t(loc = 0, df = 9, scale = 0.61/np.sqrt(10)).ppf(0.025)\n",
    "\n",
    "# 0.025 확율을 갖는 값(-0.4)보다 관측값(-0.6)이 더 작으므로 확율은 0.025 보다 더 작을 것이다."
   ]
  },
  {
   "cell_type": "code",
   "execution_count": 882,
   "metadata": {},
   "outputs": [
    {
     "data": {
      "text/plain": [
       "0.012510038969701914"
      ]
     },
     "execution_count": 882,
     "metadata": {},
     "output_type": "execute_result"
    }
   ],
   "source": [
    "t(loc = 0, df = 9, scale = 0.61/np.sqrt(10)).cdf(-.6)+\\\n",
    "t(loc = 0, df = 9, scale = 0.61/np.sqrt(10)).sf(.6)\n",
    "\n",
    "# x1_bar = x2_bar 일때 관측값 (-0.6) 이 관측될 확율은 0.05 보다 작다."
   ]
  },
  {
   "attachments": {},
   "cell_type": "markdown",
   "metadata": {},
   "source": [
    "##### ttest_rel \n",
    "\n",
    "[scipy.stats.ttest_rel](https://docs.scipy.org/doc/scipy/reference/generated/scipy.stats.ttest_rel.html#scipy.stats.ttest_rel)\n",
    "\n"
   ]
  },
  {
   "attachments": {},
   "cell_type": "markdown",
   "metadata": {},
   "source": [
    "##### RMANOVA\n",
    "\n",
    "확인 시점을 2회로 전후 비교는 paired t Test  \n",
    "확인 시점을 3회 이상으로 하여 매 순간의 비교는 RMANOVA  \n",
    "\n",
    "[statsmodels.stats.anova.AnovaRM](https://recipesds.tistory.com/entry/RMANOVA-Repeated-Measured-ANOVA-반복측정-ANOVA의-우아함) "
   ]
  },
  {
   "attachments": {},
   "cell_type": "markdown",
   "metadata": {},
   "source": [
    "##### wilcoxon\n",
    "\n",
    "[scipy.stats.wilcoxon](https://docs.scipy.org/doc/scipy/reference/generated/scipy.stats.wilcoxon.html#scipy.stats.wilcoxon)\n",
    "\n",
    "The Wilcoxon signed-rank test tests the null hypothesis that two related paired samples come from the same distribution.  \n",
    "In particular, it tests whether the distribution of the differences x - y is symmetric about zero.   \n",
    "It is a non-parametric version of the paired T-test."
   ]
  },
  {
   "attachments": {},
   "cell_type": "markdown",
   "metadata": {},
   "source": [
    "### chi2\n",
    "\n",
    "[scipy.stat.chi2](https://docs.scipy.org/doc/scipy/reference/generated/scipy.stats.chi2.html#scipy.stats.chi2)   \n",
    "\n",
    "- 모분산 검정  (일표본 분산 검정)   \n",
    "분산1 = 모분산  : H0  \n",
    "\n",
    "SE = (n-1)*표본분산 / 모분산\n",
    "\n",
    "파이썬에서는 모분산 검정을 위한 stats 패키지가 없음.    \n",
    "stats.chisquare 같은 경우 비율 검정 하는 것임  \n",
    "\n",
    "[연습문제](https://blog.naver.com/breezehome50/222334155742)  "
   ]
  },
  {
   "attachments": {},
   "cell_type": "markdown",
   "metadata": {},
   "source": [
    "#### 모분산"
   ]
  },
  {
   "cell_type": "code",
   "execution_count": 969,
   "metadata": {},
   "outputs": [
    {
     "data": {
      "text/plain": [
       "(668.3394175747782, 4.293058222317413e-17)"
      ]
     },
     "execution_count": 969,
     "metadata": {},
     "output_type": "execute_result"
    }
   ],
   "source": [
    "# X1 : 평균 0, 분산 1, n = 1000\n",
    "# X2 : 평균 0, 분산 1.2, n = 800\n",
    "\n",
    "rnd1 = np.random.normal(size=1000)\n",
    "rnd2 = np.random.normal(size=800, scale=1.2)\n",
    "\n",
    "# 모분산이 1.2 라고 할때, X1 에 대해 0.05 유의성 검증\n",
    "# 관측된 분산 1 이므로 \n",
    "\n",
    "from scipy.stats import chi2\n",
    "\n",
    "stat= 999*np.var(rnd1, ddof=1)/np.var(rnd2)\n",
    "\n",
    "stat, chi2(df=999).cdf(stat)*2"
   ]
  },
  {
   "cell_type": "code",
   "execution_count": 931,
   "metadata": {},
   "outputs": [
    {
     "data": {
      "text/plain": [
       "1.4324213722600363"
      ]
     },
     "execution_count": 931,
     "metadata": {},
     "output_type": "execute_result"
    }
   ],
   "source": [
    "np.var(rnd2,ddof=1)"
   ]
  },
  {
   "cell_type": "code",
   "execution_count": 919,
   "metadata": {},
   "outputs": [
    {
     "data": {
      "text/plain": [
       "(913.3009983021134, 1088.4870677259353)"
      ]
     },
     "execution_count": 919,
     "metadata": {},
     "output_type": "execute_result"
    }
   ],
   "source": [
    "chi2(df=999).interval(0.95)"
   ]
  },
  {
   "attachments": {},
   "cell_type": "markdown",
   "metadata": {},
   "source": [
    "#### chisquare (1xm)\n",
    "\n",
    "[scipy.stats.chisquare](https://docs.scipy.org/doc/scipy/reference/generated/scipy.stats.chisquare.html#scipy.stats.chisquare)"
   ]
  },
  {
   "cell_type": "code",
   "execution_count": 885,
   "metadata": {},
   "outputs": [
    {
     "data": {
      "text/plain": [
       "Power_divergenceResult(statistic=3.5, pvalue=0.6233876277495822)"
      ]
     },
     "execution_count": 885,
     "metadata": {},
     "output_type": "execute_result"
    }
   ],
   "source": [
    "from scipy.stats import chisquare\n",
    "\n",
    "chisquare(f_obs=[16, 18, 16, 14, 12, 12], f_exp=[16, 16, 16, 16, 16, 8])"
   ]
  },
  {
   "attachments": {},
   "cell_type": "markdown",
   "metadata": {},
   "source": [
    "#### chi2_contingency (nxm)\n",
    "\n",
    "[scipy.stats.chi2_contingency](https://docs.scipy.org/doc/scipy/reference/generated/scipy.stats.chi2_contingency.html#scipy.stats.chi2_contingency)\n",
    "\n"
   ]
  },
  {
   "cell_type": "code",
   "execution_count": 917,
   "metadata": {},
   "outputs": [
    {
     "data": {
      "text/plain": [
       "Chi2ContingencyResult(statistic=17.12878787878788, pvalue=0.0018246872055969548, dof=4, expected_freq=array([[12.63157895, 15.78947368, 11.57894737],\n",
       "       [18.94736842, 23.68421053, 17.36842105],\n",
       "       [28.42105263, 35.52631579, 26.05263158]]))"
      ]
     },
     "execution_count": 917,
     "metadata": {},
     "output_type": "execute_result"
    }
   ],
   "source": [
    "from scipy.stats import chi2_contingency\n",
    "\n",
    "obs = np.array([[10, 10, 20],     # 관측값 1\n",
    "                [20, 20, 20],     # 관측값 2\n",
    "                [30, 45, 15]])    # 관측값 3\n",
    "chi2_contingency(obs)"
   ]
  },
  {
   "attachments": {},
   "cell_type": "markdown",
   "metadata": {},
   "source": [
    "### f\n",
    "[scipy.stats.f](https://docs.scipy.org/doc/scipy/reference/generated/scipy.stats.f.html#scipy.stats.f)\n",
    "- 2개 분산 비교  (이표본 분산 검정)   \n",
    "분산1 = 분산2  : H0  \n",
    "\n"
   ]
  },
  {
   "cell_type": "code",
   "execution_count": 887,
   "metadata": {},
   "outputs": [
    {
     "data": {
      "text/plain": [
       "0.006422315909487243"
      ]
     },
     "execution_count": 887,
     "metadata": {},
     "output_type": "execute_result"
    }
   ],
   "source": [
    "from scipy.stats import f\n",
    "\n",
    "f(dfd = 999,dfn =799).sf(1.2)*2"
   ]
  },
  {
   "cell_type": "code",
   "execution_count": 888,
   "metadata": {},
   "outputs": [
    {
     "data": {
      "text/plain": [
       "3.344169476451762e-10"
      ]
     },
     "execution_count": 888,
     "metadata": {},
     "output_type": "execute_result"
    }
   ],
   "source": [
    "f.cdf(0.6525832918549153,dfd = 999,dfn =799)*2"
   ]
  },
  {
   "attachments": {},
   "cell_type": "markdown",
   "metadata": {},
   "source": [
    "#### levene, bartlett\n",
    "\n",
    "정규성 : bartlett  \n",
    "비정규성 : levene  "
   ]
  },
  {
   "attachments": {},
   "cell_type": "markdown",
   "metadata": {},
   "source": [
    "### ANOVA\n",
    "\n",
    "2개 이상 집단(독립변수 unique values)의 평균 비교  \n",
    "\n",
    "독립변수 1개 : oneway ANOVA  \n",
    "독립변수 2개 : twoway ANOVA  "
   ]
  },
  {
   "attachments": {},
   "cell_type": "markdown",
   "metadata": {},
   "source": [
    "#### f_oneway\n",
    "\n",
    "[scipy.stats.f_oneway](https://docs.scipy.org/doc/scipy/reference/generated/scipy.stats.f_oneway.html#scipy.stats.f_oneway)"
   ]
  },
  {
   "cell_type": "code",
   "execution_count": 889,
   "metadata": {},
   "outputs": [
    {
     "data": {
      "text/plain": [
       "F_onewayResult(statistic=7.121019471642447, pvalue=0.0002812242314534544)"
      ]
     },
     "execution_count": 889,
     "metadata": {},
     "output_type": "execute_result"
    }
   ],
   "source": [
    "tillamook = [0.0571, 0.0813, 0.0831, 0.0976, 0.0817, 0.0859, 0.0735, 0.0659, 0.0923, 0.0836]\n",
    "newport = [0.0873, 0.0662, 0.0672, 0.0819, 0.0749, 0.0649, 0.0835, 0.0725]\n",
    "petersburg = [0.0974, 0.1352, 0.0817, 0.1016, 0.0968, 0.1064, 0.105]\n",
    "magadan = [0.1033, 0.0915, 0.0781, 0.0685, 0.0677, 0.0697, 0.0764, 0.0689]\n",
    "tvarminne = [0.0703, 0.1026, 0.0956, 0.0973, 0.1039, 0.1045]\n",
    "\n",
    "from scipy.stats import f_oneway\n",
    "f_oneway(tillamook, newport, petersburg, magadan, tvarminne)"
   ]
  },
  {
   "cell_type": "code",
   "execution_count": 895,
   "metadata": {},
   "outputs": [
    {
     "data": {
      "text/html": [
       "<div>\n",
       "<style scoped>\n",
       "    .dataframe tbody tr th:only-of-type {\n",
       "        vertical-align: middle;\n",
       "    }\n",
       "\n",
       "    .dataframe tbody tr th {\n",
       "        vertical-align: top;\n",
       "    }\n",
       "\n",
       "    .dataframe thead th {\n",
       "        text-align: right;\n",
       "    }\n",
       "</style>\n",
       "<table border=\"1\" class=\"dataframe\">\n",
       "  <thead>\n",
       "    <tr style=\"text-align: right;\">\n",
       "      <th></th>\n",
       "      <th>measure</th>\n",
       "      <th>location</th>\n",
       "    </tr>\n",
       "  </thead>\n",
       "  <tbody>\n",
       "    <tr>\n",
       "      <th>0</th>\n",
       "      <td>0.0571</td>\n",
       "      <td>tillamook</td>\n",
       "    </tr>\n",
       "    <tr>\n",
       "      <th>1</th>\n",
       "      <td>0.0813</td>\n",
       "      <td>tillamook</td>\n",
       "    </tr>\n",
       "  </tbody>\n",
       "</table>\n",
       "</div>"
      ],
      "text/plain": [
       "   measure   location\n",
       "0   0.0571  tillamook\n",
       "1   0.0813  tillamook"
      ]
     },
     "execution_count": 895,
     "metadata": {},
     "output_type": "execute_result"
    }
   ],
   "source": [
    "loc = [tillamook, newport, petersburg, magadan, tvarminne]\n",
    "name = ['tillamook', 'newport', 'petersburg', 'magadan', 'tvarminne']\n",
    "\n",
    "df_all = pd.DataFrame()\n",
    "\n",
    "for i in range(0,5):\n",
    "    df_temp = pd.DataFrame(loc[i],columns=['measure'])\n",
    "    df_temp['location'] = name[i]\n",
    "    df_all = pd.concat([df_all, df_temp])\n",
    "\n",
    "df_all.reset_index(drop=True).head(2)\n"
   ]
  },
  {
   "cell_type": "code",
   "execution_count": 904,
   "metadata": {},
   "outputs": [
    {
     "data": {
      "text/html": [
       "<div>\n",
       "<style scoped>\n",
       "    .dataframe tbody tr th:only-of-type {\n",
       "        vertical-align: middle;\n",
       "    }\n",
       "\n",
       "    .dataframe tbody tr th {\n",
       "        vertical-align: top;\n",
       "    }\n",
       "\n",
       "    .dataframe thead th {\n",
       "        text-align: right;\n",
       "    }\n",
       "</style>\n",
       "<table border=\"1\" class=\"dataframe\">\n",
       "  <thead>\n",
       "    <tr style=\"text-align: right;\">\n",
       "      <th></th>\n",
       "      <th>df</th>\n",
       "      <th>sum_sq</th>\n",
       "      <th>mean_sq</th>\n",
       "      <th>F</th>\n",
       "      <th>PR(&gt;F)</th>\n",
       "    </tr>\n",
       "  </thead>\n",
       "  <tbody>\n",
       "    <tr>\n",
       "      <th>location</th>\n",
       "      <td>4.0</td>\n",
       "      <td>0.004520</td>\n",
       "      <td>0.001130</td>\n",
       "      <td>7.121019</td>\n",
       "      <td>0.000281</td>\n",
       "    </tr>\n",
       "    <tr>\n",
       "      <th>Residual</th>\n",
       "      <td>34.0</td>\n",
       "      <td>0.005395</td>\n",
       "      <td>0.000159</td>\n",
       "      <td>NaN</td>\n",
       "      <td>NaN</td>\n",
       "    </tr>\n",
       "  </tbody>\n",
       "</table>\n",
       "</div>"
      ],
      "text/plain": [
       "            df    sum_sq   mean_sq         F    PR(>F)\n",
       "location   4.0  0.004520  0.001130  7.121019  0.000281\n",
       "Residual  34.0  0.005395  0.000159       NaN       NaN"
      ]
     },
     "execution_count": 904,
     "metadata": {},
     "output_type": "execute_result"
    }
   ],
   "source": [
    "from statsmodels.formula.api import ols\n",
    "from statsmodels.stats.anova import anova_lm\n",
    "\n",
    "myols = ols('measure ~ location', df_all).fit()\n",
    "anova_lm(myols)"
   ]
  },
  {
   "attachments": {},
   "cell_type": "markdown",
   "metadata": {},
   "source": [
    "##### kruskal\n",
    "\n",
    "[scipy.stats.kruskal](https://docs.scipy.org/doc/scipy/reference/generated/scipy.stats.kruskal.html#scipy.stats.kruskal)\n",
    "\n",
    "The Kruskal-Wallis H-test tests the null hypothesis that the population median of all of the groups are equal.  \n",
    "It is a non-parametric version of ANOVA. The test works on 2 or more independent samples, which may have different sizes.  \n",
    "Note that rejecting the null hypothesis does not indicate which of the groups differs.   \n",
    " Post hoc comparisons between groups are required to determine which groups are different."
   ]
  },
  {
   "attachments": {},
   "cell_type": "markdown",
   "metadata": {},
   "source": [
    "#### ols (two-way ANOVA)\n",
    "\n",
    "[statsmodels.formula.api.ols](https://www.statsmodels.org/stable/generated/statsmodels.formula.api.ols.html#statsmodels.formula.api.ols)   \n",
    "[statsmodels.stats.anova.anova_lm](https://www.statsmodels.org/stable/generated/statsmodels.stats.anova.anova_lm.html#statsmodels.stats.anova.anova_lm) "
   ]
  },
  {
   "cell_type": "code",
   "execution_count": 905,
   "metadata": {},
   "outputs": [
    {
     "name": "stdout",
     "output_type": "stream",
     "text": [
      "                                              sum_sq    df          F  \\\n",
      "C(fcategory, Sum)                          11.614700   2.0   0.276958   \n",
      "C(partner_status, Sum)                    212.213778   1.0  10.120692   \n",
      "C(fcategory, Sum):C(partner_status, Sum)  175.488928   2.0   4.184623   \n",
      "Residual                                  817.763961  39.0        NaN   \n",
      "\n",
      "                                            PR(>F)  \n",
      "C(fcategory, Sum)                         0.759564  \n",
      "C(partner_status, Sum)                    0.002874  \n",
      "C(fcategory, Sum):C(partner_status, Sum)  0.022572  \n",
      "Residual                                       NaN  \n"
     ]
    }
   ],
   "source": [
    "import statsmodels.api as sm\n",
    "from statsmodels.formula.api import ols\n",
    "moore = sm.datasets.get_rdataset(\"Moore\", \"carData\", cache=True) # load\n",
    "data = moore.data\n",
    "data = data.rename(columns={\"partner.status\" :\n",
    "                            \"partner_status\"}) # make name pythonic\n",
    "moore_lm = ols('conformity ~ C(fcategory, Sum)*C(partner_status, Sum)',\n",
    "                 data=data).fit()\n",
    "table = sm.stats.anova_lm(moore_lm, typ=2) # Type 2 Anova DataFrame\n",
    "print(table)"
   ]
  },
  {
   "attachments": {},
   "cell_type": "markdown",
   "metadata": {},
   "source": [
    "#### Post-Hoc\n",
    "\n",
    "분산분석의 결과 귀무가설이 기각되어 적어도 한 집단에서 평균의 차이가 있음이 통계적으로 증명되었을 경우,   \n",
    "어떤 집단들에 대해서 평균의 차이가 존재하는지를 알아보기 위해 실시"
   ]
  },
  {
   "cell_type": "code",
   "execution_count": 913,
   "metadata": {},
   "outputs": [
    {
     "data": {
      "text/html": [
       "<div>\n",
       "<style scoped>\n",
       "    .dataframe tbody tr th:only-of-type {\n",
       "        vertical-align: middle;\n",
       "    }\n",
       "\n",
       "    .dataframe tbody tr th {\n",
       "        vertical-align: top;\n",
       "    }\n",
       "\n",
       "    .dataframe thead th {\n",
       "        text-align: right;\n",
       "    }\n",
       "</style>\n",
       "<table border=\"1\" class=\"dataframe\">\n",
       "  <thead>\n",
       "    <tr style=\"text-align: right;\">\n",
       "      <th></th>\n",
       "      <th>sepal_length</th>\n",
       "      <th>sepal_width</th>\n",
       "      <th>petal_length</th>\n",
       "      <th>petal_width</th>\n",
       "      <th>target</th>\n",
       "    </tr>\n",
       "  </thead>\n",
       "  <tbody>\n",
       "    <tr>\n",
       "      <th>0</th>\n",
       "      <td>5.1</td>\n",
       "      <td>3.5</td>\n",
       "      <td>1.4</td>\n",
       "      <td>0.2</td>\n",
       "      <td>0</td>\n",
       "    </tr>\n",
       "    <tr>\n",
       "      <th>1</th>\n",
       "      <td>4.9</td>\n",
       "      <td>3.0</td>\n",
       "      <td>1.4</td>\n",
       "      <td>0.2</td>\n",
       "      <td>0</td>\n",
       "    </tr>\n",
       "    <tr>\n",
       "      <th>2</th>\n",
       "      <td>4.7</td>\n",
       "      <td>3.2</td>\n",
       "      <td>1.3</td>\n",
       "      <td>0.2</td>\n",
       "      <td>0</td>\n",
       "    </tr>\n",
       "  </tbody>\n",
       "</table>\n",
       "</div>"
      ],
      "text/plain": [
       "   sepal_length  sepal_width  petal_length  petal_width  target\n",
       "0           5.1          3.5           1.4          0.2       0\n",
       "1           4.9          3.0           1.4          0.2       0\n",
       "2           4.7          3.2           1.3          0.2       0"
      ]
     },
     "execution_count": 913,
     "metadata": {},
     "output_type": "execute_result"
    }
   ],
   "source": [
    "# data load\n",
    "from sklearn.datasets import load_iris\n",
    "\n",
    "iris = load_iris()\n",
    "data = pd.DataFrame(data=iris.data, columns=iris.feature_names)\n",
    "data['target'] = iris.target\n",
    "data.columns = ['sepal_length','sepal_width','petal_length','petal_width','target']\n",
    "data.head(3)"
   ]
  },
  {
   "cell_type": "code",
   "execution_count": 907,
   "metadata": {},
   "outputs": [
    {
     "name": "stdout",
     "output_type": "stream",
     "text": [
      "ShapiroResult(statistic=0.971718966960907, pvalue=0.2715126574039459)\n",
      "ShapiroResult(statistic=0.9741330742835999, pvalue=0.33798879384994507)\n",
      "ShapiroResult(statistic=0.9673907160758972, pvalue=0.18089857697486877)\n"
     ]
    }
   ],
   "source": [
    "# 정규성 검정\n",
    "from  scipy.stats import shapiro\n",
    "print(shapiro(data.sepal_width[data.target==0]))\n",
    "print(shapiro(data.sepal_width[data.target==1]))\n",
    "print(shapiro(data.sepal_width[data.target==2]))"
   ]
  },
  {
   "cell_type": "code",
   "execution_count": 908,
   "metadata": {},
   "outputs": [
    {
     "name": "stdout",
     "output_type": "stream",
     "text": [
      "LeveneResult(statistic=0.5902115655853319, pvalue=0.5555178984739075)\n",
      "BartlettResult(statistic=2.0910752014392338, pvalue=0.35150280041580323)\n"
     ]
    }
   ],
   "source": [
    "#등분산성 확인 - 레빈 검증\n",
    "from scipy.stats import levene\n",
    "print(levene(data.sepal_width[data.target==0],\n",
    "      data.sepal_width[data.target==1],\n",
    "      data.sepal_width[data.target==2]))\n",
    "\n",
    "#등분산성 확인 - 바틀렛 검증\n",
    "from scipy.stats import bartlett\n",
    "print(bartlett(data.sepal_width[data.target==0],\n",
    "      data.sepal_width[data.target==1],\n",
    "      data.sepal_width[data.target==2]))"
   ]
  },
  {
   "cell_type": "code",
   "execution_count": 909,
   "metadata": {},
   "outputs": [
    {
     "data": {
      "text/html": [
       "<div>\n",
       "<style scoped>\n",
       "    .dataframe tbody tr th:only-of-type {\n",
       "        vertical-align: middle;\n",
       "    }\n",
       "\n",
       "    .dataframe tbody tr th {\n",
       "        vertical-align: top;\n",
       "    }\n",
       "\n",
       "    .dataframe thead th {\n",
       "        text-align: right;\n",
       "    }\n",
       "</style>\n",
       "<table border=\"1\" class=\"dataframe\">\n",
       "  <thead>\n",
       "    <tr style=\"text-align: right;\">\n",
       "      <th></th>\n",
       "      <th>df</th>\n",
       "      <th>sum_sq</th>\n",
       "      <th>mean_sq</th>\n",
       "      <th>F</th>\n",
       "      <th>PR(&gt;F)</th>\n",
       "    </tr>\n",
       "  </thead>\n",
       "  <tbody>\n",
       "    <tr>\n",
       "      <th>C(target)</th>\n",
       "      <td>2.0</td>\n",
       "      <td>11.344933</td>\n",
       "      <td>5.672467</td>\n",
       "      <td>49.16004</td>\n",
       "      <td>4.492017e-17</td>\n",
       "    </tr>\n",
       "    <tr>\n",
       "      <th>Residual</th>\n",
       "      <td>147.0</td>\n",
       "      <td>16.962000</td>\n",
       "      <td>0.115388</td>\n",
       "      <td>NaN</td>\n",
       "      <td>NaN</td>\n",
       "    </tr>\n",
       "  </tbody>\n",
       "</table>\n",
       "</div>"
      ],
      "text/plain": [
       "              df     sum_sq   mean_sq         F        PR(>F)\n",
       "C(target)    2.0  11.344933  5.672467  49.16004  4.492017e-17\n",
       "Residual   147.0  16.962000  0.115388       NaN           NaN"
      ]
     },
     "execution_count": 909,
     "metadata": {},
     "output_type": "execute_result"
    }
   ],
   "source": [
    "# oneway ANOVA \n",
    "# 독립변수 : target \n",
    "# 종속변수 : sepal_width\n",
    "\n",
    "model = ols('sepal_width ~ C(target)', data).fit()\n",
    "anova_lm(model)"
   ]
  },
  {
   "cell_type": "code",
   "execution_count": 915,
   "metadata": {},
   "outputs": [],
   "source": [
    "# 세가지 종에따른 꽃받침 폭이 모두 동일하지는 않다고 결론내릴 수 있다.\n",
    "# 즉, 종별 꽃받침 폭의 평균값들 중에서 적어도 어느 하나의 종은 통계적으로 유의한 차이가 있다.\n",
    "# SSA의 자유도는 2(집단의 수-1=3-1), SST의 자유도는 147(관측값의 수-집단의 수=150-3)"
   ]
  },
  {
   "cell_type": "code",
   "execution_count": 914,
   "metadata": {},
   "outputs": [
    {
     "name": "stdout",
     "output_type": "stream",
     "text": [
      "Test Multiple Comparison ttest_ind \n",
      "FWER=0.05 method=bonf\n",
      "alphacSidak=0.02, alphacBonf=0.017\n",
      "=============================================\n",
      "group1 group2   stat   pval  pval_corr reject\n",
      "---------------------------------------------\n",
      "     0      1   9.455    0.0       0.0   True\n",
      "     0      2  6.4503    0.0       0.0   True\n",
      "     1      2 -3.2058 0.0018    0.0055   True\n",
      "---------------------------------------------\n"
     ]
    }
   ],
   "source": [
    "# Post_Hoc \n",
    "\n",
    "#봉페로니 교정\n",
    "\n",
    "from statsmodels.sandbox.stats.multicomp import MultiComparison\n",
    "import scipy.stats\n",
    "\n",
    "comp = MultiComparison(data.sepal_width, data.target)\n",
    "result = comp.allpairtest(scipy.stats.ttest_ind, method='bonf')\n",
    "print(result[0])"
   ]
  },
  {
   "cell_type": "code",
   "execution_count": 912,
   "metadata": {},
   "outputs": [
    {
     "data": {
      "text/html": [
       "<table class=\"simpletable\">\n",
       "<caption>Multiple Comparison of Means - Tukey HSD, FWER=0.05</caption>\n",
       "<tr>\n",
       "  <th>group1</th> <th>group2</th> <th>meandiff</th>  <th>p-adj</th>  <th>lower</th>   <th>upper</th>  <th>reject</th>\n",
       "</tr>\n",
       "<tr>\n",
       "     <td>0</td>      <td>1</td>    <td>-0.658</td>    <td>0.0</td>  <td>-0.8189</td> <td>-0.4971</td>  <td>True</td> \n",
       "</tr>\n",
       "<tr>\n",
       "     <td>0</td>      <td>2</td>    <td>-0.454</td>    <td>0.0</td>  <td>-0.6149</td> <td>-0.2931</td>  <td>True</td> \n",
       "</tr>\n",
       "<tr>\n",
       "     <td>1</td>      <td>2</td>     <td>0.204</td>  <td>0.0088</td> <td>0.0431</td>  <td>0.3649</td>   <td>True</td> \n",
       "</tr>\n",
       "</table>"
      ],
      "text/latex": [
       "\\begin{center}\n",
       "\\begin{tabular}{ccccccc}\n",
       "\\toprule\n",
       "\\textbf{group1} & \\textbf{group2} & \\textbf{meandiff} & \\textbf{p-adj} & \\textbf{lower} & \\textbf{upper} & \\textbf{reject}  \\\\\n",
       "\\midrule\n",
       "       0        &        1        &       -0.658      &      0.0       &    -0.8189     &    -0.4971     &       True       \\\\\n",
       "       0        &        2        &       -0.454      &      0.0       &    -0.6149     &    -0.2931     &       True       \\\\\n",
       "       1        &        2        &       0.204       &     0.0088     &     0.0431     &     0.3649     &       True       \\\\\n",
       "\\bottomrule\n",
       "\\end{tabular}\n",
       "%\\caption{Multiple Comparison of Means - Tukey HSD, FWER=0.05}\n",
       "\\end{center}"
      ],
      "text/plain": [
       "<class 'statsmodels.iolib.table.SimpleTable'>"
      ]
     },
     "execution_count": 912,
     "metadata": {},
     "output_type": "execute_result"
    }
   ],
   "source": [
    "#투키의 HSD - Tuckey's Honestly Significant Difference = \"진정으로 유의미한 차이\"\n",
    "\n",
    "from statsmodels.stats.multicomp import pairwise_tukeyhsd\n",
    "hsd = pairwise_tukeyhsd(data['sepal_width'], data['target'], alpha=0.05)\n",
    "hsd.summary()"
   ]
  },
  {
   "attachments": {},
   "cell_type": "markdown",
   "metadata": {},
   "source": [
    "## Scipy.stats\n",
    "\n",
    "```\n",
    "scipy.stats\n",
    "│\n",
    "├── 01 T-test\n",
    "│   │\n",
    "│   ├── ttest_1samp         (단일표본 t검정)\n",
    "│   ├── ttest_ind           (독립표본 t검정)\n",
    "│   └── ttest_rel           (대응표본 t검정) \n",
    "│ \n",
    "├── 02 비모수 검정\n",
    "│   │\n",
    "│   ├── mannwhitneyu        (맨-휘트니 U 검정 - 중위수 , 윌콕슨 순위합 검정과 동일하다 볼 수 있음)\n",
    "│   ├── ranksums            (윌콕슨 순위합 검정 - 중위수)\n",
    "│   └── wilcoxon            (윌콕슨 부호 순위합 검정)\n",
    "│ \n",
    "├── 03 정규정 검정\n",
    "│   │\n",
    "│   ├── anderson            (Anderson-Darling , 데이터수가 상대적으로 많을 때)\n",
    "│   ├── kstest              (Kolmogorov-Smirnov , 데이터수가 상대적으로 많을 때)\n",
    "│   ├── mstats.normaltest\n",
    "│   └── shapiro             (shapiro, 노말분포 가장 엄격하게 검정, 데이터수가 상대적으로 적을때)\n",
    "│   \n",
    "├── 04 등분산 검정\n",
    "│   │\n",
    "│   ├── bartlett\n",
    "│   ├── fligner\n",
    "│   └── levene\n",
    "│\n",
    "├── 05 카이제곱검정\n",
    "│   │\n",
    "│   ├── chi2_contingency     (카이제곱독립검정, 독립성 검정)\n",
    "│   ├── chisquare            (카이제곱검정 , 적합도 검정)\n",
    "│   └── fisher_exact         (피셔 정확 검정 - 빈도수가 5개 이하 셀의 수가 전체 셀의 20%이상일 경우 사용 )\n",
    "│\n",
    "└── 06 ANOVA (일원분산분석)\n",
    "    │\n",
    "    └── f_oneway (분산 분석은  statmodels 모듈이 더 좋음! )\n",
    "```"
   ]
  },
  {
   "attachments": {},
   "cell_type": "markdown",
   "metadata": {},
   "source": [
    "### 변수 변환\n",
    "\n",
    ">수치형 변수 변환 (*옆의 괄호는 Scikit Learn의 함수명)  \n",
    "- 선형변환: 최소최대 스케일링(MinMaxScaler), 표준화(StandardScaler), 로버스트 스케일링(RobustScaler), 균등분포/RankGauss (QuantileTransformer)\n",
    "- 비선형변환: 로그변환, 거듭제곱변환(PowerTransformer - Boxcox, YeoJohnson), 정규화(Normalizer - L1, L2, Max)\n",
    "- 기타: 구간분할 (=이산화, binning), 순위 변환\n",
    "\n",
    ">범주형 변수 변환  \n",
    "- 원핫인코딩(One-hot-encoding), 더미코딩(dummy coding), 이펙트코딩(Effect coding), 숫자로 표현된 범주형 특성, 레이블인코딩(Label encoding), 특징 해싱(Feature Hashing)"
   ]
  },
  {
   "attachments": {},
   "cell_type": "markdown",
   "metadata": {},
   "source": []
  }
 ],
 "metadata": {
  "kernelspec": {
   "display_name": "Python 3.7.6 64-bit ('3.7.6')",
   "language": "python",
   "name": "python3"
  },
  "language_info": {
   "codemirror_mode": {
    "name": "ipython",
    "version": 3
   },
   "file_extension": ".py",
   "mimetype": "text/x-python",
   "name": "python",
   "nbconvert_exporter": "python",
   "pygments_lexer": "ipython3",
   "version": "3.9.10"
  },
  "vscode": {
   "interpreter": {
    "hash": "162ceaf09f938773ad028a3a2ad644135fdbb6560e1ade87eeac244d09a7763d"
   }
  }
 },
 "nbformat": 4,
 "nbformat_minor": 4
}
