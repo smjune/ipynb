{
 "cells": [
  {
   "attachments": {},
   "cell_type": "markdown",
   "id": "9dd0d4a1",
   "metadata": {},
   "source": [
    "## 내 집 마련을 위해, 서울 아파트 매물 데이터를 이용하여 구매 전략을 세우고자 한다."
   ]
  },
  {
   "attachments": {},
   "cell_type": "markdown",
   "id": "7e3f7408",
   "metadata": {},
   "source": [
    "real_estate.csv\n",
    "\n",
    "|컬럼|정의|type|\n",
    "|:---|:---|:---:|\n",
    "|latitude|위도|float64|\n",
    "|longitude|경도|float64|\n",
    "|price_per_square_py|평당가|float64|\n",
    "|py|평수|int64|\n",
    "|apt_code|시공사 코드(길이5 알파벳 대문자)|object|\n",
    "|dist_from_station|인근 지하철역과의 거리|float64|  \n",
    "\n",
    "정답 및 해설 : https://tjd229.tistory.com/22"
   ]
  },
  {
   "cell_type": "code",
   "execution_count": 17,
   "id": "0a87c9cd",
   "metadata": {},
   "outputs": [],
   "source": [
    "import numpy as np\n",
    "import pandas as pd\n",
    "\n",
    "df = pd.read_csv('../content/tjd229/real_estate.csv')"
   ]
  },
  {
   "attachments": {},
   "cell_type": "markdown",
   "id": "b9665581",
   "metadata": {},
   "source": [
    "### Q1. 시공사별 아파트 평수의 평균을 구하려고 한다. 다음 단계에 따라 분석을 수행하고 질문에 답하시오.\n",
    "\n",
    "단계 1 : 데이터의 첫 번째 행부터 열 번째 행까지의 시공사 코드(apt_code) 리스트를 저장한다.  \n",
    "첫 번째 행의 데이터는 위도, 경도, 평당가, 평수, 시공사 코드, 인근 지하철역과의 거리가 각각 37.125541, 126.913776, 2860.053787, 24, GEDAE, 1588.406226이다.  \n",
    "단계 2 : 시공사 코드(apt_code)가 단계 1에서 구한 리스트에 포함되어 있는 데이터를 전부 제거한다.  \n",
    "단계 3 : 시공사 코드(apt_code)별 평수 평균을 구하고 그 중 가장 큰 값을 구하시오  \n",
    "\n",
    "※ 정답은 반올림하여 소수점 둘째 자리까지 출력하시오.\n",
    "(정답 예시: 2.29)"
   ]
  },
  {
   "cell_type": "code",
   "execution_count": 18,
   "id": "9f0afb95",
   "metadata": {},
   "outputs": [
    {
     "data": {
      "text/plain": [
       "['GEDAE',\n",
       " 'IHEAD',\n",
       " 'FHIBJ',\n",
       " 'JBCIJ',\n",
       " 'EDJCI',\n",
       " 'EHCAD',\n",
       " 'HEBIA',\n",
       " 'HEBIA',\n",
       " 'IIGFI',\n",
       " 'FHIBJ']"
      ]
     },
     "execution_count": 18,
     "metadata": {},
     "output_type": "execute_result"
    }
   ],
   "source": [
    "df1 = df.copy()\n",
    "_remove_aptcode = df1.head(10).apt_code.tolist()\n",
    "_remove_aptcode"
   ]
  },
  {
   "attachments": {},
   "cell_type": "markdown",
   "id": "efa4d2b4",
   "metadata": {},
   "source": [
    "isin()"
   ]
  },
  {
   "cell_type": "code",
   "execution_count": 19,
   "id": "5d2cc6bc",
   "metadata": {},
   "outputs": [
    {
     "data": {
      "text/html": [
       "<div>\n",
       "<style scoped>\n",
       "    .dataframe tbody tr th:only-of-type {\n",
       "        vertical-align: middle;\n",
       "    }\n",
       "\n",
       "    .dataframe tbody tr th {\n",
       "        vertical-align: top;\n",
       "    }\n",
       "\n",
       "    .dataframe thead th {\n",
       "        text-align: right;\n",
       "    }\n",
       "</style>\n",
       "<table border=\"1\" class=\"dataframe\">\n",
       "  <thead>\n",
       "    <tr style=\"text-align: right;\">\n",
       "      <th></th>\n",
       "      <th>latitude</th>\n",
       "      <th>longitude</th>\n",
       "      <th>price_per_square_py</th>\n",
       "      <th>py</th>\n",
       "      <th>apt_code</th>\n",
       "      <th>dist_from_station</th>\n",
       "    </tr>\n",
       "  </thead>\n",
       "  <tbody>\n",
       "    <tr>\n",
       "      <th>10</th>\n",
       "      <td>37.046400</td>\n",
       "      <td>126.837832</td>\n",
       "      <td>3750.582844</td>\n",
       "      <td>40</td>\n",
       "      <td>GBDGG</td>\n",
       "      <td>1493.140743</td>\n",
       "    </tr>\n",
       "    <tr>\n",
       "      <th>11</th>\n",
       "      <td>37.215855</td>\n",
       "      <td>127.127967</td>\n",
       "      <td>1945.709193</td>\n",
       "      <td>32</td>\n",
       "      <td>HCCBB</td>\n",
       "      <td>989.515201</td>\n",
       "    </tr>\n",
       "    <tr>\n",
       "      <th>12</th>\n",
       "      <td>37.252653</td>\n",
       "      <td>127.107425</td>\n",
       "      <td>2670.280398</td>\n",
       "      <td>32</td>\n",
       "      <td>IDCIC</td>\n",
       "      <td>1802.915110</td>\n",
       "    </tr>\n",
       "    <tr>\n",
       "      <th>13</th>\n",
       "      <td>37.132489</td>\n",
       "      <td>126.784801</td>\n",
       "      <td>2246.292722</td>\n",
       "      <td>40</td>\n",
       "      <td>HCCBB</td>\n",
       "      <td>922.157169</td>\n",
       "    </tr>\n",
       "    <tr>\n",
       "      <th>14</th>\n",
       "      <td>37.270844</td>\n",
       "      <td>127.064936</td>\n",
       "      <td>2423.397245</td>\n",
       "      <td>24</td>\n",
       "      <td>EGFBJ</td>\n",
       "      <td>1491.398873</td>\n",
       "    </tr>\n",
       "    <tr>\n",
       "      <th>...</th>\n",
       "      <td>...</td>\n",
       "      <td>...</td>\n",
       "      <td>...</td>\n",
       "      <td>...</td>\n",
       "      <td>...</td>\n",
       "      <td>...</td>\n",
       "    </tr>\n",
       "    <tr>\n",
       "      <th>770</th>\n",
       "      <td>37.251483</td>\n",
       "      <td>127.073069</td>\n",
       "      <td>2356.504401</td>\n",
       "      <td>63</td>\n",
       "      <td>HHGCB</td>\n",
       "      <td>1416.903407</td>\n",
       "    </tr>\n",
       "    <tr>\n",
       "      <th>771</th>\n",
       "      <td>37.078108</td>\n",
       "      <td>126.723392</td>\n",
       "      <td>1884.239692</td>\n",
       "      <td>24</td>\n",
       "      <td>DEACF</td>\n",
       "      <td>967.757381</td>\n",
       "    </tr>\n",
       "    <tr>\n",
       "      <th>773</th>\n",
       "      <td>37.288945</td>\n",
       "      <td>127.118062</td>\n",
       "      <td>3072.810919</td>\n",
       "      <td>24</td>\n",
       "      <td>GBDGG</td>\n",
       "      <td>1803.257080</td>\n",
       "    </tr>\n",
       "    <tr>\n",
       "      <th>774</th>\n",
       "      <td>37.234408</td>\n",
       "      <td>126.745186</td>\n",
       "      <td>2491.714188</td>\n",
       "      <td>61</td>\n",
       "      <td>EJAIA</td>\n",
       "      <td>1346.821965</td>\n",
       "    </tr>\n",
       "    <tr>\n",
       "      <th>775</th>\n",
       "      <td>37.294494</td>\n",
       "      <td>127.185185</td>\n",
       "      <td>1746.372819</td>\n",
       "      <td>40</td>\n",
       "      <td>EGFBJ</td>\n",
       "      <td>1461.672552</td>\n",
       "    </tr>\n",
       "  </tbody>\n",
       "</table>\n",
       "<p>552 rows × 6 columns</p>\n",
       "</div>"
      ],
      "text/plain": [
       "      latitude   longitude  price_per_square_py  py apt_code  \\\n",
       "10   37.046400  126.837832          3750.582844  40    GBDGG   \n",
       "11   37.215855  127.127967          1945.709193  32    HCCBB   \n",
       "12   37.252653  127.107425          2670.280398  32    IDCIC   \n",
       "13   37.132489  126.784801          2246.292722  40    HCCBB   \n",
       "14   37.270844  127.064936          2423.397245  24    EGFBJ   \n",
       "..         ...         ...                  ...  ..      ...   \n",
       "770  37.251483  127.073069          2356.504401  63    HHGCB   \n",
       "771  37.078108  126.723392          1884.239692  24    DEACF   \n",
       "773  37.288945  127.118062          3072.810919  24    GBDGG   \n",
       "774  37.234408  126.745186          2491.714188  61    EJAIA   \n",
       "775  37.294494  127.185185          1746.372819  40    EGFBJ   \n",
       "\n",
       "     dist_from_station  \n",
       "10         1493.140743  \n",
       "11          989.515201  \n",
       "12         1802.915110  \n",
       "13          922.157169  \n",
       "14         1491.398873  \n",
       "..                 ...  \n",
       "770        1416.903407  \n",
       "771         967.757381  \n",
       "773        1803.257080  \n",
       "774        1346.821965  \n",
       "775        1461.672552  \n",
       "\n",
       "[552 rows x 6 columns]"
      ]
     },
     "execution_count": 19,
     "metadata": {},
     "output_type": "execute_result"
    }
   ],
   "source": [
    "df1_remove = df1.loc[~df1.apt_code.isin(_remove_aptcode)].copy()\n",
    "df1_remove"
   ]
  },
  {
   "cell_type": "code",
   "execution_count": 20,
   "id": "edf3dfa9",
   "metadata": {},
   "outputs": [
    {
     "data": {
      "text/plain": [
       "38.63"
      ]
     },
     "execution_count": 20,
     "metadata": {},
     "output_type": "execute_result"
    }
   ],
   "source": [
    "df1_remove.groupby('apt_code').mean().max().loc['py'].round(2)"
   ]
  },
  {
   "attachments": {},
   "cell_type": "markdown",
   "id": "3ae2a4b2",
   "metadata": {},
   "source": [
    "### Q2. 아파트 매물을 분석하기 위해 군집화를 하려고 한다. 다음 단계에 따라 분석을 수행하고 질문에 답하시오.\n",
    "\n",
    "\n",
    "단계 1 : 독립 변수들에 대해 K-means 군집 분석을 수행한다. 이 때, 군집 수는 2~9개 중 K-means Silhouette 를 통해 구하고, 이 중 첫번째로 높은 score를 최적의 K로 설정한다.  \n",
    "            - 독립 변수(총 5개) : 시공사 코드(apt_code)를 제외한 모든 컬럼  \n"
   ]
  },
  {
   "attachments": {},
   "cell_type": "markdown",
   "id": "db0c31dd",
   "metadata": {},
   "source": [
    "#### 필요 라이브러리 함수,클래스 및 설정값 목록  \n",
    "\n",
    "\n",
    "from sklearn.cluster import KMeans  \n",
    "from sklearn.metrics import silhouette_score    \n",
    "random_state = 229  \n",
    "문제 지시 외 Default 값 사용  "
   ]
  },
  {
   "cell_type": "code",
   "execution_count": 21,
   "id": "aca8487c",
   "metadata": {},
   "outputs": [
    {
     "data": {
      "text/plain": [
       "Index(['latitude', 'longitude', 'price_per_square_py', 'py', 'apt_code',\n",
       "       'dist_from_station'],\n",
       "      dtype='object')"
      ]
     },
     "execution_count": 21,
     "metadata": {},
     "output_type": "execute_result"
    }
   ],
   "source": [
    "df1_remove.columns"
   ]
  },
  {
   "cell_type": "code",
   "execution_count": 22,
   "id": "dfa49870",
   "metadata": {},
   "outputs": [],
   "source": [
    "X_train = df1_remove[['latitude', 'longitude', 'price_per_square_py', 'py', #'apt_code',\n",
    "       'dist_from_station']]\n"
   ]
  },
  {
   "cell_type": "code",
   "execution_count": 23,
   "id": "84bcf55a",
   "metadata": {},
   "outputs": [
    {
     "data": {
      "text/plain": [
       "(552, 6)"
      ]
     },
     "execution_count": 23,
     "metadata": {},
     "output_type": "execute_result"
    }
   ],
   "source": [
    "df1_remove.shape"
   ]
  },
  {
   "attachments": {},
   "cell_type": "markdown",
   "id": "f090d262",
   "metadata": {},
   "source": [
    "👉 silhouette"
   ]
  },
  {
   "cell_type": "code",
   "execution_count": 24,
   "id": "7f13dde0",
   "metadata": {},
   "outputs": [
    {
     "data": {
      "text/plain": [
       "[0.631203691848422,\n",
       " 0.4470936176679579,\n",
       " 0.45560050005825237,\n",
       " 0.43495847469472787,\n",
       " 0.3884871247601564,\n",
       " 0.39086044963336697,\n",
       " 0.37140972679517836,\n",
       " 0.3704764809515313]"
      ]
     },
     "execution_count": 24,
     "metadata": {},
     "output_type": "execute_result"
    }
   ],
   "source": [
    "from sklearn.cluster import KMeans  \n",
    "from sklearn.metrics import silhouette_score\n",
    "\n",
    "K = range(2,10)\n",
    "sil_list= []\n",
    "\n",
    "for k in K :\n",
    "    sil = KMeans(n_clusters=k, init='k-means++', n_init=10, random_state=229)\n",
    "    sil.fit(X_train)\n",
    "    sil_list.append(silhouette_score(X_train,sil.labels_))\n",
    "\n",
    "sil_list\n"
   ]
  },
  {
   "cell_type": "code",
   "execution_count": 25,
   "id": "5dbc0a3a",
   "metadata": {},
   "outputs": [],
   "source": [
    "sil_df = pd.DataFrame({ \"K\":K,\n",
    "                      \"sil_coef\": sil_list})\n",
    "\n",
    "max_sil_k = sil_df.sort_values(by='sil_coef',ascending=False).iat[0,0]\n",
    "\n",
    "# sil coef 값은 \n",
    "# max_sil_k = sil_df.sort_values(by='sil_coef',ascending=False).iat[0,1]"
   ]
  },
  {
   "attachments": {},
   "cell_type": "markdown",
   "id": "814b181e",
   "metadata": {},
   "source": [
    "👉 KMean"
   ]
  },
  {
   "cell_type": "code",
   "execution_count": 26,
   "id": "138bd794",
   "metadata": {},
   "outputs": [],
   "source": [
    "\n",
    "\n",
    "mykm = KMeans(n_clusters=max_sil_k, init='k-means++', n_init=10, random_state=229)\n",
    "mykm.fit(X_train)\n",
    "df1_remove['cluster'] = mykm.labels_\n",
    "\n"
   ]
  },
  {
   "cell_type": "code",
   "execution_count": 27,
   "id": "4becf448",
   "metadata": {},
   "outputs": [
    {
     "data": {
      "text/plain": [
       "0.7355072463768116"
      ]
     },
     "execution_count": 27,
     "metadata": {},
     "output_type": "execute_result"
    }
   ],
   "source": [
    "\n",
    "df1_remove['cluster'].value_counts(normalize=True).iat[0]\n"
   ]
  },
  {
   "attachments": {},
   "cell_type": "markdown",
   "id": "bbf7c503",
   "metadata": {},
   "source": [
    "\n",
    "단계 2 : 단계 1에서 최적의 K로 도출한 각 군집의 비율 중, 가장 큰 값을 구하시오  \n",
    "\n",
    "※ 정답은 올림하여 소수점 둘째 자리까지 출력하시오.\n",
    "(정답 예시: 2.29)"
   ]
  },
  {
   "attachments": {},
   "cell_type": "markdown",
   "id": "d1a65143",
   "metadata": {},
   "source": [
    "### Q3. 아파트 가격을 예측하는 모델을 만드려고 한다. 다음 단계에 따라 분석을 수행하고 질문에 답하시오.\n",
    "\n",
    "단계 1 : 평당가(price_per_square_py)와 평수(py)를 곱하여 실제 가격 변수를 생성한다.  \n",
    "단계 2 : Train Set과 Test Set을 28/30:2/30 비율로 나눈다.  \n"
   ]
  },
  {
   "attachments": {},
   "cell_type": "markdown",
   "id": "07bd0065",
   "metadata": {},
   "source": [
    "#### 필요 라이브러리 함수,클래스 및 설정값 목록  \n",
    "\n",
    "\n",
    "from sklearn.linear_model import LinearRegression  \n",
    "from sklearn.model_selection import train_test_split  \n",
    "모든 random_state = 229  \n",
    "문제 지시 외 Default 값 사용  "
   ]
  },
  {
   "cell_type": "code",
   "execution_count": 28,
   "id": "5747867a",
   "metadata": {},
   "outputs": [],
   "source": [
    "df1_real = df.copy()"
   ]
  },
  {
   "cell_type": "code",
   "execution_count": 29,
   "id": "2f870c2c",
   "metadata": {},
   "outputs": [
    {
     "data": {
      "text/html": [
       "<div>\n",
       "<style scoped>\n",
       "    .dataframe tbody tr th:only-of-type {\n",
       "        vertical-align: middle;\n",
       "    }\n",
       "\n",
       "    .dataframe tbody tr th {\n",
       "        vertical-align: top;\n",
       "    }\n",
       "\n",
       "    .dataframe thead th {\n",
       "        text-align: right;\n",
       "    }\n",
       "</style>\n",
       "<table border=\"1\" class=\"dataframe\">\n",
       "  <thead>\n",
       "    <tr style=\"text-align: right;\">\n",
       "      <th></th>\n",
       "      <th>latitude</th>\n",
       "      <th>longitude</th>\n",
       "      <th>price_per_square_py</th>\n",
       "      <th>py</th>\n",
       "      <th>apt_code</th>\n",
       "      <th>dist_from_station</th>\n",
       "      <th>rea_val</th>\n",
       "    </tr>\n",
       "  </thead>\n",
       "  <tbody>\n",
       "    <tr>\n",
       "      <th>0</th>\n",
       "      <td>37.125541</td>\n",
       "      <td>126.913776</td>\n",
       "      <td>2860.053787</td>\n",
       "      <td>24</td>\n",
       "      <td>GEDAE</td>\n",
       "      <td>1588.406226</td>\n",
       "      <td>68641.290895</td>\n",
       "    </tr>\n",
       "    <tr>\n",
       "      <th>1</th>\n",
       "      <td>37.223169</td>\n",
       "      <td>127.026913</td>\n",
       "      <td>1715.073163</td>\n",
       "      <td>59</td>\n",
       "      <td>IHEAD</td>\n",
       "      <td>986.146800</td>\n",
       "      <td>101189.316628</td>\n",
       "    </tr>\n",
       "    <tr>\n",
       "      <th>2</th>\n",
       "      <td>37.239029</td>\n",
       "      <td>126.906303</td>\n",
       "      <td>1780.604630</td>\n",
       "      <td>57</td>\n",
       "      <td>FHIBJ</td>\n",
       "      <td>1492.514512</td>\n",
       "      <td>101494.463921</td>\n",
       "    </tr>\n",
       "    <tr>\n",
       "      <th>3</th>\n",
       "      <td>37.274433</td>\n",
       "      <td>126.737771</td>\n",
       "      <td>1508.814336</td>\n",
       "      <td>42</td>\n",
       "      <td>JBCIJ</td>\n",
       "      <td>1621.602866</td>\n",
       "      <td>63370.202096</td>\n",
       "    </tr>\n",
       "    <tr>\n",
       "      <th>4</th>\n",
       "      <td>37.082670</td>\n",
       "      <td>127.143634</td>\n",
       "      <td>2933.930488</td>\n",
       "      <td>32</td>\n",
       "      <td>EDJCI</td>\n",
       "      <td>945.034519</td>\n",
       "      <td>93885.775621</td>\n",
       "    </tr>\n",
       "  </tbody>\n",
       "</table>\n",
       "</div>"
      ],
      "text/plain": [
       "    latitude   longitude  price_per_square_py  py apt_code  dist_from_station  \\\n",
       "0  37.125541  126.913776          2860.053787  24    GEDAE        1588.406226   \n",
       "1  37.223169  127.026913          1715.073163  59    IHEAD         986.146800   \n",
       "2  37.239029  126.906303          1780.604630  57    FHIBJ        1492.514512   \n",
       "3  37.274433  126.737771          1508.814336  42    JBCIJ        1621.602866   \n",
       "4  37.082670  127.143634          2933.930488  32    EDJCI         945.034519   \n",
       "\n",
       "         rea_val  \n",
       "0   68641.290895  \n",
       "1  101189.316628  \n",
       "2  101494.463921  \n",
       "3   63370.202096  \n",
       "4   93885.775621  "
      ]
     },
     "execution_count": 29,
     "metadata": {},
     "output_type": "execute_result"
    }
   ],
   "source": [
    "df1_real['rea_val'] = df1_real.price_per_square_py * df1_real.py\n",
    "df1_real.head()"
   ]
  },
  {
   "attachments": {},
   "cell_type": "markdown",
   "id": "8f348296",
   "metadata": {},
   "source": [
    "df.drop()\n",
    "\n",
    "https://wikidocs.net/154050  \n",
    "\n",
    "df.drop(labels=None, axis=0, index=None, columns=None, level=None, inplace=False, errors='raise')  \n",
    "labels : 삭제할 레이블명입니다. axis를 지정해주어야합니다.  \n",
    "axis : {0 : index / 1 : columns} labels인수를 사용할경우 지정할 축입니다.  \n",
    "index : 인덱스명을 입력해서 바로 삭제를 할 수 있습니다.  \n",
    "columns : 컬럼명을 입력해서 바로 삭제를 할 수 있습니다.  \n",
    "level : 멀티인덱스의 경우 레벨을 지정해서 진행할 수 있습니다.  \n",
    "inplace : 원본을 변경할지 여부입니다. True일경우 원본이 변경됩니다.  \n",
    "errors : 삭제할 레이블을 찾지 못할경우 오류를 띄울지 여부입니다. ignore할 경우 존재하는 레이블만 삭제됩니다.  \n",
    "※ axis=0 + labels 는 index인수와 역할이 같고 axis=1 + labels는 columns와 역할이 같습니다.   "
   ]
  },
  {
   "cell_type": "code",
   "execution_count": 30,
   "id": "8458f00e",
   "metadata": {},
   "outputs": [
    {
     "data": {
      "text/html": [
       "<div>\n",
       "<style scoped>\n",
       "    .dataframe tbody tr th:only-of-type {\n",
       "        vertical-align: middle;\n",
       "    }\n",
       "\n",
       "    .dataframe tbody tr th {\n",
       "        vertical-align: top;\n",
       "    }\n",
       "\n",
       "    .dataframe thead th {\n",
       "        text-align: right;\n",
       "    }\n",
       "</style>\n",
       "<table border=\"1\" class=\"dataframe\">\n",
       "  <thead>\n",
       "    <tr style=\"text-align: right;\">\n",
       "      <th></th>\n",
       "      <th>latitude</th>\n",
       "      <th>longitude</th>\n",
       "      <th>price_per_square_py</th>\n",
       "      <th>py</th>\n",
       "      <th>dist_from_station</th>\n",
       "      <th>rea_val</th>\n",
       "    </tr>\n",
       "  </thead>\n",
       "  <tbody>\n",
       "    <tr>\n",
       "      <th>772</th>\n",
       "      <td>37.161852</td>\n",
       "      <td>126.917406</td>\n",
       "      <td>3564.856667</td>\n",
       "      <td>40</td>\n",
       "      <td>1593.663253</td>\n",
       "      <td>142594.266660</td>\n",
       "    </tr>\n",
       "    <tr>\n",
       "      <th>773</th>\n",
       "      <td>37.288945</td>\n",
       "      <td>127.118062</td>\n",
       "      <td>3072.810919</td>\n",
       "      <td>24</td>\n",
       "      <td>1803.257080</td>\n",
       "      <td>73747.462061</td>\n",
       "    </tr>\n",
       "    <tr>\n",
       "      <th>774</th>\n",
       "      <td>37.234408</td>\n",
       "      <td>126.745186</td>\n",
       "      <td>2491.714188</td>\n",
       "      <td>61</td>\n",
       "      <td>1346.821965</td>\n",
       "      <td>151994.565484</td>\n",
       "    </tr>\n",
       "    <tr>\n",
       "      <th>775</th>\n",
       "      <td>37.294494</td>\n",
       "      <td>127.185185</td>\n",
       "      <td>1746.372819</td>\n",
       "      <td>40</td>\n",
       "      <td>1461.672552</td>\n",
       "      <td>69854.912763</td>\n",
       "    </tr>\n",
       "    <tr>\n",
       "      <th>776</th>\n",
       "      <td>37.004345</td>\n",
       "      <td>127.107611</td>\n",
       "      <td>1667.553347</td>\n",
       "      <td>32</td>\n",
       "      <td>1377.100866</td>\n",
       "      <td>53361.707088</td>\n",
       "    </tr>\n",
       "  </tbody>\n",
       "</table>\n",
       "</div>"
      ],
      "text/plain": [
       "      latitude   longitude  price_per_square_py  py  dist_from_station  \\\n",
       "772  37.161852  126.917406          3564.856667  40        1593.663253   \n",
       "773  37.288945  127.118062          3072.810919  24        1803.257080   \n",
       "774  37.234408  126.745186          2491.714188  61        1346.821965   \n",
       "775  37.294494  127.185185          1746.372819  40        1461.672552   \n",
       "776  37.004345  127.107611          1667.553347  32        1377.100866   \n",
       "\n",
       "           rea_val  \n",
       "772  142594.266660  \n",
       "773   73747.462061  \n",
       "774  151994.565484  \n",
       "775   69854.912763  \n",
       "776   53361.707088  "
      ]
     },
     "execution_count": 30,
     "metadata": {},
     "output_type": "execute_result"
    }
   ],
   "source": [
    "df1_real.drop('apt_code',axis=1, inplace=True)\n",
    "df1_real.tail()"
   ]
  },
  {
   "cell_type": "code",
   "execution_count": 31,
   "id": "3d6c81a7",
   "metadata": {},
   "outputs": [],
   "source": [
    "from sklearn.linear_model import LinearRegression  \n",
    "from sklearn.model_selection import train_test_split"
   ]
  },
  {
   "attachments": {},
   "cell_type": "markdown",
   "id": "17476636",
   "metadata": {},
   "source": [
    "👉 데이터셋 분리\n",
    "\n",
    "일변일 경우에도 리스트로 전달  :  X = df1_real[['latitude']]"
   ]
  },
  {
   "cell_type": "code",
   "execution_count": 32,
   "id": "b909be59",
   "metadata": {},
   "outputs": [],
   "source": [
    "# 독립변수 \n",
    "X = df1_real[['latitude','longitude','price_per_square_py','dist_from_station','py']]\n",
    "\n",
    "# 종속변수\n",
    "y = df1_real['rea_val']"
   ]
  },
  {
   "cell_type": "code",
   "execution_count": 33,
   "id": "1e5034a6",
   "metadata": {},
   "outputs": [],
   "source": [
    "X_train, X_test, y_train, y_test = train_test_split(X,y,test_size=2/30, random_state=229)"
   ]
  },
  {
   "attachments": {},
   "cell_type": "markdown",
   "id": "b4f3d19d",
   "metadata": {},
   "source": [
    "단계 3 : Train Set으로 LinearRegression 모델을 학습하고, Test Set에 적용한다.   \n",
    "이 때, 절편을 포함한 경우와 포함하지 않은 경우 각각에 대하여 수행한다.  \n",
    "  \n",
    "            - 독립 변수(총 5개) : 시공사 코드(apt_code)와 총 가격을 제외한 모든 컬럼  \n",
    "            - 종속 변수 : 실제 가격  \n",
    "\n",
    "단계 3에서 학습한 각 모델에 대하여 예측 결과를 아래 정의된 Measure M으로 계산하였을 때 가장 큰 값은?  \n",
    "$$ M = \\biggl(\\frac{1}{n} \\sum_{i=1}^{n}{(y_i - \\hat{y_i})^2}\\biggr), \\quad \\hat{y_i}: 예측값, y_i: 실제값 $$\n",
    "\n",
    "※ 정답은 반올림하여 소수점 둘째 자리까지 출력하시오.\n",
    "(정답 예시: 2.29)"
   ]
  },
  {
   "attachments": {},
   "cell_type": "markdown",
   "id": "110a2b13",
   "metadata": {},
   "source": [
    "👉 (다중) 선형 회기"
   ]
  },
  {
   "cell_type": "code",
   "execution_count": 34,
   "id": "cd54b9da",
   "metadata": {},
   "outputs": [
    {
     "data": {
      "text/plain": [
       "array([ 71537.06357488,  37200.1213293 ,  35494.01255878,  70471.6408111 ,\n",
       "        66383.60406998,  75463.1405433 ,  78045.00045754,  58905.29454575,\n",
       "        65828.22622791,  75100.79955153, 106680.98678017,  78651.20939828,\n",
       "        61362.85360125,  32623.15234517,  61709.96732249,  36039.69474832,\n",
       "        61505.47616961,  72107.82903833,  45400.45765664,  68439.60425606,\n",
       "        72205.20891592,  77442.4900336 , 126070.02549163,  71156.01035643,\n",
       "        76937.07422418,  80012.34903584,  58971.82398002,  36522.59704217,\n",
       "        54186.30516848,  51968.30500402,  96691.9974597 , 107056.99700545,\n",
       "        56149.37950605,  40722.00357319, 155673.66616875,  46700.36282707,\n",
       "        31876.42694448, 100071.39018113,  38681.4786977 ,  79690.50844088,\n",
       "        28663.71183769,  50830.05911825,  69194.33878661,  50121.74747649,\n",
       "        64424.35592352,  68546.3237267 ,  96880.62501702,  95966.21995102,\n",
       "        68226.19396395,  32537.41804298,  30538.15639693,  76144.92179301])"
      ]
     },
     "execution_count": 34,
     "metadata": {},
     "output_type": "execute_result"
    }
   ],
   "source": [
    "real_reg_mo = LinearRegression()\n",
    "real_reg_mo.fit(X_train, y_train)\n",
    "y_pred = real_reg_mo.predict(X_test)\n",
    "y_pred"
   ]
  },
  {
   "cell_type": "code",
   "execution_count": 35,
   "id": "c909bcd5",
   "metadata": {},
   "outputs": [
    {
     "data": {
      "text/plain": [
       "array([ 71427.99389131,  37340.94086899,  35672.38701553,  70390.85330768,\n",
       "        66588.3801655 ,  75637.33514206,  78237.96205798,  58891.31154552,\n",
       "        65824.19984416,  75062.4501454 , 106588.90904681,  78579.09045147,\n",
       "        61516.43389792,  32522.31680278,  61548.54917857,  35972.70060157,\n",
       "        61599.41435747,  72075.78054911,  45387.05849864,  68426.17098315,\n",
       "        72201.54983459,  77219.27325969, 125996.43040523,  71214.61840311,\n",
       "        76707.17492305,  79711.06928229,  58740.54046661,  36453.66058087,\n",
       "        54334.38241459,  51921.43732011,  96589.6611447 , 107070.36789877,\n",
       "        56117.52136343,  40769.72426759, 155806.03911506,  46767.95139621,\n",
       "        31790.48903619, 100418.15476958,  38810.68756198,  79864.38542935,\n",
       "        28337.99968621,  50653.12697544,  69400.8622678 ,  49904.75210801,\n",
       "        64288.85849315,  68427.96624782,  96788.24991984,  95832.33827934,\n",
       "        68329.45721146,  32608.21481703,  30683.22262999,  76166.93103478])"
      ]
     },
     "execution_count": 35,
     "metadata": {},
     "output_type": "execute_result"
    }
   ],
   "source": [
    "# 절편이 없는 경우 \n",
    "\n",
    "real_reg_mo_nointer = LinearRegression(fit_intercept=False)\n",
    "real_reg_mo_nointer.fit(X_train, y_train)\n",
    "y_pred_nointer= real_reg_mo_nointer.predict(X_test)\n",
    "y_pred_nointer"
   ]
  },
  {
   "cell_type": "code",
   "execution_count": 36,
   "id": "47f932ae",
   "metadata": {},
   "outputs": [
    {
     "data": {
      "text/plain": [
       "19007465.6748951"
      ]
     },
     "execution_count": 36,
     "metadata": {},
     "output_type": "execute_result"
    }
   ],
   "source": [
    "# 절편이 없는 경우, MSE 의 실제 계산\n",
    "res = (((y_pred_nointer - y_test)**2).mean())\n",
    "res"
   ]
  },
  {
   "attachments": {},
   "cell_type": "markdown",
   "id": "56a32386",
   "metadata": {},
   "source": [
    "- coefficient 의 의미"
   ]
  },
  {
   "cell_type": "code",
   "execution_count": 37,
   "id": "b1b112fe",
   "metadata": {},
   "outputs": [
    {
     "data": {
      "text/plain": [
       "array([-6.47134835e+02,  8.80496226e+02,  3.50347152e+01,  8.10706193e-01,\n",
       "        2.21214720e+03])"
      ]
     },
     "execution_count": 37,
     "metadata": {},
     "output_type": "execute_result"
    }
   ],
   "source": [
    "real_reg_mo.coef_\n",
    "\n",
    "# 차례대로 'latitude','longitude','price_per_square_py','dist_from_station','py' 에 대한 기울기."
   ]
  },
  {
   "cell_type": "code",
   "execution_count": 38,
   "id": "daef85da",
   "metadata": {},
   "outputs": [
    {
     "data": {
      "text/plain": [
       "-166330.05711403547"
      ]
     },
     "execution_count": 38,
     "metadata": {},
     "output_type": "execute_result"
    }
   ],
   "source": [
    "real_reg_mo.intercept_"
   ]
  },
  {
   "attachments": {},
   "cell_type": "markdown",
   "id": "d8bb6a0d",
   "metadata": {},
   "source": [
    "### 👉 (다중) 회귀모델 평가\n",
    "1. MAE (Mean Absolute Error) : (실제값과 예측값) 차이의 절대값\n",
    "2. MSE (Mean SquareEd Error) : 차이의 제곱\n",
    "3. RMSE (Root Mean Squared Error) : 차이의 제곱의 루트\n",
    "4. MAPE (Mean Absolute Percentage Error) : 평균 절대 비율 오차 = np.mean(np.abs(y_test - pred / y_test))*100  \n",
    "5. R2 : 결정계수  (1 - SSE/SST)\n",
    "6. Adjusted-R2\n",
    "    \n",
    "> R2 는 1에 가까울수록, 나머지는 0에 가까울수록 좋음"
   ]
  },
  {
   "cell_type": "code",
   "execution_count": 39,
   "id": "c6c279be",
   "metadata": {},
   "outputs": [
    {
     "data": {
      "text/plain": [
       "0.953888849310125"
      ]
     },
     "execution_count": 39,
     "metadata": {},
     "output_type": "execute_result"
    }
   ],
   "source": [
    "# 훈련 데이터 평가\n",
    "\n",
    "# 복수개의 train 데이터 일때 각 데이터벌 r2_score 가 좋은 (1 가까울수록 ) 데이터 셋 찾기\n",
    "\n",
    "real_reg_mo.score(X_train,y_train)"
   ]
  },
  {
   "cell_type": "code",
   "execution_count": 40,
   "id": "adf2e5b5",
   "metadata": {},
   "outputs": [
    {
     "data": {
      "text/plain": [
       "(0.9689589651349582, 0.9689589651349582)"
      ]
     },
     "execution_count": 40,
     "metadata": {},
     "output_type": "execute_result"
    }
   ],
   "source": [
    "# 테스트 데이터 평가  = r2_score(y_test, y_pred)\n",
    "\n",
    "from sklearn.metrics import r2_score\n",
    "\n",
    "real_reg_mo.score(X_test,y_test), r2_score(y_test, y_pred)"
   ]
  },
  {
   "attachments": {},
   "cell_type": "markdown",
   "id": "9f968e2d",
   "metadata": {},
   "source": [
    "1. MAE"
   ]
  },
  {
   "cell_type": "code",
   "execution_count": 41,
   "id": "7d60655f",
   "metadata": {},
   "outputs": [
    {
     "data": {
      "text/plain": [
       "3234.468890751421"
      ]
     },
     "execution_count": 41,
     "metadata": {},
     "output_type": "execute_result"
    }
   ],
   "source": [
    "from sklearn.metrics import mean_absolute_error\n",
    "mean_absolute_error(y_test, y_pred)\n",
    "\n",
    "# y_test : 실제값\n",
    "# y_pred : 모델로 예측한 값"
   ]
  },
  {
   "attachments": {},
   "cell_type": "markdown",
   "id": "b0032613",
   "metadata": {},
   "source": [
    "2. MSE"
   ]
  },
  {
   "cell_type": "code",
   "execution_count": 42,
   "id": "7acc5e62",
   "metadata": {},
   "outputs": [
    {
     "data": {
      "text/plain": [
       "19007139.276858456"
      ]
     },
     "execution_count": 42,
     "metadata": {},
     "output_type": "execute_result"
    }
   ],
   "source": [
    "from sklearn.metrics import mean_squared_error\n",
    "mean_squared_error(y_test,y_pred)"
   ]
  },
  {
   "cell_type": "code",
   "execution_count": 43,
   "id": "e9d5e55c",
   "metadata": {},
   "outputs": [
    {
     "data": {
      "text/plain": [
       "19007465.6748951"
      ]
     },
     "execution_count": 43,
     "metadata": {},
     "output_type": "execute_result"
    }
   ],
   "source": [
    "# 절편이 없는 경우\n",
    "mean_squared_error(y_test,y_pred_nointer)\n",
    "\n",
    "# 실제 계산 값 46159607.7447345 과 동일"
   ]
  },
  {
   "attachments": {},
   "cell_type": "markdown",
   "id": "81b33165",
   "metadata": {},
   "source": [
    "3. RMSE"
   ]
  },
  {
   "cell_type": "code",
   "execution_count": 44,
   "id": "8cade064",
   "metadata": {},
   "outputs": [
    {
     "data": {
      "text/plain": [
       "4359.717797846376"
      ]
     },
     "execution_count": 44,
     "metadata": {},
     "output_type": "execute_result"
    }
   ],
   "source": [
    "from sklearn.metrics import mean_squared_error\n",
    "mean_squared_error(y_test, y_pred, squared =False)"
   ]
  },
  {
   "attachments": {},
   "cell_type": "markdown",
   "id": "a641ab73",
   "metadata": {},
   "source": [
    "4. MPAE"
   ]
  },
  {
   "cell_type": "code",
   "execution_count": 45,
   "id": "bda256e5",
   "metadata": {},
   "outputs": [
    {
     "data": {
      "text/plain": [
       "5.673867287162161"
      ]
     },
     "execution_count": 45,
     "metadata": {},
     "output_type": "execute_result"
    }
   ],
   "source": [
    "MPAE = np.mean(np.abs((y_test-y_pred)/y_test))* 100\n",
    "\n",
    "MPAE"
   ]
  },
  {
   "cell_type": "code",
   "execution_count": 46,
   "id": "bd554c1c",
   "metadata": {},
   "outputs": [
    {
     "data": {
      "text/plain": [
       "0.05673867287162161"
      ]
     },
     "execution_count": 46,
     "metadata": {},
     "output_type": "execute_result"
    }
   ],
   "source": [
    "from sklearn.metrics import mean_absolute_percentage_error\n",
    "\n",
    "mean_absolute_percentage_error(y_test,y_pred)"
   ]
  },
  {
   "attachments": {},
   "cell_type": "markdown",
   "id": "47db4453",
   "metadata": {},
   "source": [
    "5. R2 \n",
    "\n",
    "** 결과 값이 model.score(X_test, y_test) 와 같다. **"
   ]
  },
  {
   "cell_type": "code",
   "execution_count": 47,
   "id": "83642b16",
   "metadata": {},
   "outputs": [
    {
     "data": {
      "text/plain": [
       "0.9689589651349582"
      ]
     },
     "execution_count": 47,
     "metadata": {},
     "output_type": "execute_result"
    }
   ],
   "source": [
    "from sklearn.metrics import r2_score\n",
    "r2_score(y_test,y_pred)"
   ]
  },
  {
   "attachments": {},
   "cell_type": "markdown",
   "id": "e09b5619",
   "metadata": {},
   "source": [
    "6. A-R2\n",
    "\n",
    "n : 데이터 갯수 (row 갯수 : train? test?)\n",
    "p : features 갯수 (X column 갯수)\n",
    "\n",
    "Adjusted R2 = 1 - (1-model.score(X_test, y_test))*(len(y_test_)-1)/(len(y_test)-X_test.shape[1]-1)\n"
   ]
  },
  {
   "cell_type": "code",
   "execution_count": 48,
   "id": "ce7d4f81",
   "metadata": {},
   "outputs": [
    {
     "data": {
      "text/plain": [
       "(52, 5)"
      ]
     },
     "execution_count": 48,
     "metadata": {},
     "output_type": "execute_result"
    }
   ],
   "source": [
    "len(y_test), X_test.shape[1]"
   ]
  },
  {
   "cell_type": "code",
   "execution_count": 49,
   "id": "0ab30cf5",
   "metadata": {},
   "outputs": [
    {
     "data": {
      "text/plain": [
       "0.9655849396061492"
      ]
     },
     "execution_count": 49,
     "metadata": {},
     "output_type": "execute_result"
    }
   ],
   "source": [
    "# model.score(X_test,y_test) 사용\n",
    "\n",
    "A_R2 = 1 - (1-real_reg_mo.score(X_test, y_test))*(len(y_test)-1)/(len(y_test)-X_test.shape[1]-1)\n",
    "A_R2\n",
    "\n",
    "\n"
   ]
  },
  {
   "cell_type": "code",
   "execution_count": 50,
   "id": "04845f7c",
   "metadata": {},
   "outputs": [
    {
     "data": {
      "text/plain": [
       "0.9655849396061492"
      ]
     },
     "execution_count": 50,
     "metadata": {},
     "output_type": "execute_result"
    }
   ],
   "source": [
    "# r2_score(y_test, y_pred) 사용\n",
    "\n",
    "A_R2 = 1 - (1-r2_score(y_test, y_pred))*(len(y_test)-1)/(len(y_test)-X_test.shape[1]-1)\n",
    "A_R2"
   ]
  },
  {
   "cell_type": "code",
   "execution_count": 51,
   "id": "6f14109b",
   "metadata": {},
   "outputs": [
    {
     "data": {
      "text/plain": [
       "(725, 5)"
      ]
     },
     "execution_count": 51,
     "metadata": {},
     "output_type": "execute_result"
    }
   ],
   "source": [
    "len(y_train), X_train.shape[1]"
   ]
  },
  {
   "cell_type": "code",
   "execution_count": 52,
   "id": "8cb3ad10",
   "metadata": {},
   "outputs": [
    {
     "data": {
      "text/plain": [
       "0.9535681876224346"
      ]
     },
     "execution_count": 52,
     "metadata": {},
     "output_type": "execute_result"
    }
   ],
   "source": [
    "\n",
    "# train 데이터들의 A_r2 값을 찾으려면, X_train, y_train 을 넣어야 하나? \n",
    "# model.score(X_train, y_train)\n",
    "\n",
    "A_R2 = 1 - (1-real_reg_mo.score(X_train, y_train))*(len(y_train)-1)/(len(y_train)-X_train.shape[1]-1)\n",
    "A_R2"
   ]
  },
  {
   "attachments": {},
   "cell_type": "markdown",
   "id": "2deb6b28",
   "metadata": {},
   "source": [
    "### 👉 OLS, ols  \n",
    "\n",
    "https://blog.naver.com/greenysky/223095471469  \n",
    "\n",
    "OLS\n",
    "```\n",
    "from statsmodels.api import add_constant \n",
    "from statsmodels.api import OLS \n",
    "\n",
    "X_train_ad = add_constant(X_train)    \n",
    "\n",
    "myOLS=OLS(y_train, X_train_ad).fit()  \n",
    "myOLS.summary()  \n",
    "\n",
    "# import statsmodels.api as sm\n",
    "# X_train_ad = sm.add_constant(X_train)\n",
    "# myOLS = sm.OLS(y_train, X_train_add)\n",
    "```\n",
    "\n",
    "ols\n",
    "```\n",
    "from statsmodels.formula.api import ols\n",
    "\n",
    "train.columns = [ y_col, X_col_1 ... , X_col_end ]\n",
    "\n",
    "formula = 'y_col ~ X_col_1 + X_col_2 + X_col_3+ ... + X_col_end'  \n",
    "my_ols = ols(formula = formula, data=train).fit()  \n",
    "my_ols.summary()  \n",
    "```"
   ]
  },
  {
   "cell_type": "code",
   "execution_count": 66,
   "id": "b52fa270",
   "metadata": {},
   "outputs": [
    {
     "name": "stdout",
     "output_type": "stream",
     "text": [
      "     const   latitude   longitude  price_per_square_py  dist_from_station  py\n",
      "301    1.0  37.055723  126.885253          1569.575556        1464.859132  40\n",
      "325    1.0  37.170299  126.758981          1631.638340        1371.082457  32\n",
      "178    1.0  37.051574  126.755140          3350.798249        1669.022820  24\n",
      "443    1.0  37.026883  126.921716          1665.869452         935.042689  24\n",
      "109    1.0  37.239580  127.094128          1749.377651        1865.419774  40\n",
      "..     ...        ...         ...                  ...                ...  ..\n",
      "501    1.0  37.062698  127.047770          1895.194907        1509.302856  32\n",
      "112    1.0  37.101601  126.920339          1575.314791        1345.840700  40\n",
      "680    1.0  37.289144  126.736108          1874.936004        1516.976770  32\n",
      "476    1.0  37.019957  127.140616          1856.520904        1225.581824  24\n",
      "345    1.0  37.064679  127.132237          3593.978646        1632.240908  40\n",
      "\n",
      "[725 rows x 6 columns]\n"
     ]
    }
   ],
   "source": [
    "from statsmodels.api import add_constant  \n",
    "X_train_ad = add_constant(X_train)  \n",
    "X_test_ad = add_constant(X_test)  \n",
    "print(X_train_ad) "
   ]
  },
  {
   "cell_type": "code",
   "execution_count": 79,
   "id": "d2a2559b",
   "metadata": {},
   "outputs": [
    {
     "data": {
      "text/html": [
       "<table class=\"simpletable\">\n",
       "<caption>OLS Regression Results</caption>\n",
       "<tr>\n",
       "  <th>Dep. Variable:</th>         <td>rea_val</td>     <th>  R-squared:         </th> <td>   0.954</td> \n",
       "</tr>\n",
       "<tr>\n",
       "  <th>Model:</th>                   <td>OLS</td>       <th>  Adj. R-squared:    </th> <td>   0.954</td> \n",
       "</tr>\n",
       "<tr>\n",
       "  <th>Method:</th>             <td>Least Squares</td>  <th>  F-statistic:       </th> <td>   2975.</td> \n",
       "</tr>\n",
       "<tr>\n",
       "  <th>Date:</th>             <td>Sat, 24 Jun 2023</td> <th>  Prob (F-statistic):</th>  <td>  0.00</td>  \n",
       "</tr>\n",
       "<tr>\n",
       "  <th>Time:</th>                 <td>20:42:12</td>     <th>  Log-Likelihood:    </th> <td> -7499.4</td> \n",
       "</tr>\n",
       "<tr>\n",
       "  <th>No. Observations:</th>      <td>   725</td>      <th>  AIC:               </th> <td>1.501e+04</td>\n",
       "</tr>\n",
       "<tr>\n",
       "  <th>Df Residuals:</th>          <td>   719</td>      <th>  BIC:               </th> <td>1.504e+04</td>\n",
       "</tr>\n",
       "<tr>\n",
       "  <th>Df Model:</th>              <td>     5</td>      <th>                     </th>     <td> </td>    \n",
       "</tr>\n",
       "<tr>\n",
       "  <th>Covariance Type:</th>      <td>nonrobust</td>    <th>                     </th>     <td> </td>    \n",
       "</tr>\n",
       "</table>\n",
       "<table class=\"simpletable\">\n",
       "<tr>\n",
       "           <td></td>              <th>coef</th>     <th>std err</th>      <th>t</th>      <th>P>|t|</th>  <th>[0.025</th>    <th>0.975]</th>  \n",
       "</tr>\n",
       "<tr>\n",
       "  <th>const</th>               <td>-1.663e+05</td> <td> 2.76e+05</td> <td>   -0.602</td> <td> 0.547</td> <td>-7.09e+05</td> <td> 3.76e+05</td>\n",
       "</tr>\n",
       "<tr>\n",
       "  <th>latitude</th>            <td> -647.1348</td> <td> 3246.294</td> <td>   -0.199</td> <td> 0.842</td> <td>-7020.484</td> <td> 5726.214</td>\n",
       "</tr>\n",
       "<tr>\n",
       "  <th>longitude</th>           <td>  880.4962</td> <td> 1944.365</td> <td>    0.453</td> <td> 0.651</td> <td>-2936.815</td> <td> 4697.808</td>\n",
       "</tr>\n",
       "<tr>\n",
       "  <th>price_per_square_py</th> <td>   35.0347</td> <td>    0.420</td> <td>   83.320</td> <td> 0.000</td> <td>   34.209</td> <td>   35.860</td>\n",
       "</tr>\n",
       "<tr>\n",
       "  <th>dist_from_station</th>   <td>    0.8107</td> <td>    0.998</td> <td>    0.812</td> <td> 0.417</td> <td>   -1.148</td> <td>    2.770</td>\n",
       "</tr>\n",
       "<tr>\n",
       "  <th>py</th>                  <td> 2212.1472</td> <td>   25.114</td> <td>   88.083</td> <td> 0.000</td> <td> 2162.841</td> <td> 2261.453</td>\n",
       "</tr>\n",
       "</table>\n",
       "<table class=\"simpletable\">\n",
       "<tr>\n",
       "  <th>Omnibus:</th>       <td>325.266</td> <th>  Durbin-Watson:     </th> <td>   1.971</td>\n",
       "</tr>\n",
       "<tr>\n",
       "  <th>Prob(Omnibus):</th> <td> 0.000</td>  <th>  Jarque-Bera (JB):  </th> <td>5411.402</td>\n",
       "</tr>\n",
       "<tr>\n",
       "  <th>Skew:</th>          <td> 1.576</td>  <th>  Prob(JB):          </th> <td>    0.00</td>\n",
       "</tr>\n",
       "<tr>\n",
       "  <th>Kurtosis:</th>      <td>16.008</td>  <th>  Cond. No.          </th> <td>2.61e+06</td>\n",
       "</tr>\n",
       "</table><br/><br/>Notes:<br/>[1] Standard Errors assume that the covariance matrix of the errors is correctly specified.<br/>[2] The condition number is large, 2.61e+06. This might indicate that there are<br/>strong multicollinearity or other numerical problems."
      ],
      "text/latex": [
       "\\begin{center}\n",
       "\\begin{tabular}{lclc}\n",
       "\\toprule\n",
       "\\textbf{Dep. Variable:}         &     rea\\_val     & \\textbf{  R-squared:         } &     0.954   \\\\\n",
       "\\textbf{Model:}                 &       OLS        & \\textbf{  Adj. R-squared:    } &     0.954   \\\\\n",
       "\\textbf{Method:}                &  Least Squares   & \\textbf{  F-statistic:       } &     2975.   \\\\\n",
       "\\textbf{Date:}                  & Sat, 24 Jun 2023 & \\textbf{  Prob (F-statistic):} &     0.00    \\\\\n",
       "\\textbf{Time:}                  &     20:42:12     & \\textbf{  Log-Likelihood:    } &   -7499.4   \\\\\n",
       "\\textbf{No. Observations:}      &         725      & \\textbf{  AIC:               } & 1.501e+04   \\\\\n",
       "\\textbf{Df Residuals:}          &         719      & \\textbf{  BIC:               } & 1.504e+04   \\\\\n",
       "\\textbf{Df Model:}              &           5      & \\textbf{                     } &             \\\\\n",
       "\\textbf{Covariance Type:}       &    nonrobust     & \\textbf{                     } &             \\\\\n",
       "\\bottomrule\n",
       "\\end{tabular}\n",
       "\\begin{tabular}{lcccccc}\n",
       "                                & \\textbf{coef} & \\textbf{std err} & \\textbf{t} & \\textbf{P$> |$t$|$} & \\textbf{[0.025} & \\textbf{0.975]}  \\\\\n",
       "\\midrule\n",
       "\\textbf{const}                  &   -1.663e+05  &     2.76e+05     &    -0.602  &         0.547        &    -7.09e+05    &     3.76e+05     \\\\\n",
       "\\textbf{latitude}               &    -647.1348  &     3246.294     &    -0.199  &         0.842        &    -7020.484    &     5726.214     \\\\\n",
       "\\textbf{longitude}              &     880.4962  &     1944.365     &     0.453  &         0.651        &    -2936.815    &     4697.808     \\\\\n",
       "\\textbf{price\\_per\\_square\\_py} &      35.0347  &        0.420     &    83.320  &         0.000        &       34.209    &       35.860     \\\\\n",
       "\\textbf{dist\\_from\\_station}    &       0.8107  &        0.998     &     0.812  &         0.417        &       -1.148    &        2.770     \\\\\n",
       "\\textbf{py}                     &    2212.1472  &       25.114     &    88.083  &         0.000        &     2162.841    &     2261.453     \\\\\n",
       "\\bottomrule\n",
       "\\end{tabular}\n",
       "\\begin{tabular}{lclc}\n",
       "\\textbf{Omnibus:}       & 325.266 & \\textbf{  Durbin-Watson:     } &    1.971  \\\\\n",
       "\\textbf{Prob(Omnibus):} &   0.000 & \\textbf{  Jarque-Bera (JB):  } & 5411.402  \\\\\n",
       "\\textbf{Skew:}          &   1.576 & \\textbf{  Prob(JB):          } &     0.00  \\\\\n",
       "\\textbf{Kurtosis:}      &  16.008 & \\textbf{  Cond. No.          } & 2.61e+06  \\\\\n",
       "\\bottomrule\n",
       "\\end{tabular}\n",
       "%\\caption{OLS Regression Results}\n",
       "\\end{center}\n",
       "\n",
       "Notes: \\newline\n",
       " [1] Standard Errors assume that the covariance matrix of the errors is correctly specified. \\newline\n",
       " [2] The condition number is large, 2.61e+06. This might indicate that there are \\newline\n",
       " strong multicollinearity or other numerical problems."
      ],
      "text/plain": [
       "<class 'statsmodels.iolib.summary.Summary'>\n",
       "\"\"\"\n",
       "                            OLS Regression Results                            \n",
       "==============================================================================\n",
       "Dep. Variable:                rea_val   R-squared:                       0.954\n",
       "Model:                            OLS   Adj. R-squared:                  0.954\n",
       "Method:                 Least Squares   F-statistic:                     2975.\n",
       "Date:                Sat, 24 Jun 2023   Prob (F-statistic):               0.00\n",
       "Time:                        20:42:12   Log-Likelihood:                -7499.4\n",
       "No. Observations:                 725   AIC:                         1.501e+04\n",
       "Df Residuals:                     719   BIC:                         1.504e+04\n",
       "Df Model:                           5                                         \n",
       "Covariance Type:            nonrobust                                         \n",
       "=======================================================================================\n",
       "                          coef    std err          t      P>|t|      [0.025      0.975]\n",
       "---------------------------------------------------------------------------------------\n",
       "const               -1.663e+05   2.76e+05     -0.602      0.547   -7.09e+05    3.76e+05\n",
       "latitude             -647.1348   3246.294     -0.199      0.842   -7020.484    5726.214\n",
       "longitude             880.4962   1944.365      0.453      0.651   -2936.815    4697.808\n",
       "price_per_square_py    35.0347      0.420     83.320      0.000      34.209      35.860\n",
       "dist_from_station       0.8107      0.998      0.812      0.417      -1.148       2.770\n",
       "py                   2212.1472     25.114     88.083      0.000    2162.841    2261.453\n",
       "==============================================================================\n",
       "Omnibus:                      325.266   Durbin-Watson:                   1.971\n",
       "Prob(Omnibus):                  0.000   Jarque-Bera (JB):             5411.402\n",
       "Skew:                           1.576   Prob(JB):                         0.00\n",
       "Kurtosis:                      16.008   Cond. No.                     2.61e+06\n",
       "==============================================================================\n",
       "\n",
       "Notes:\n",
       "[1] Standard Errors assume that the covariance matrix of the errors is correctly specified.\n",
       "[2] The condition number is large, 2.61e+06. This might indicate that there are\n",
       "strong multicollinearity or other numerical problems.\n",
       "\"\"\""
      ]
     },
     "execution_count": 79,
     "metadata": {},
     "output_type": "execute_result"
    }
   ],
   "source": [
    "from statsmodels.api import OLS  \n",
    "# import statsmodels.api as sm\n",
    "\n",
    "myOLS=OLS(y_train, X_train_ad).fit()     # myOLS = OLS() 와 표현이 다른점에 주의 \n",
    "myOLS.summary()"
   ]
  },
  {
   "cell_type": "code",
   "execution_count": 70,
   "id": "49256b3f",
   "metadata": {},
   "outputs": [
    {
     "data": {
      "text/plain": [
       "3234.4688907511936"
      ]
     },
     "execution_count": 70,
     "metadata": {},
     "output_type": "execute_result"
    }
   ],
   "source": [
    "y_pred_ad = myOLS.predict(X_test_ad)\n",
    "mean_absolute_error(y_test, y_pred_ad)\n",
    "\n",
    "# LR MAE : 3234.468890751421"
   ]
  },
  {
   "cell_type": "code",
   "execution_count": 85,
   "id": "0662bafd",
   "metadata": {},
   "outputs": [
    {
     "data": {
      "text/plain": [
       "const                 -166330.057114\n",
       "latitude                 -647.134835\n",
       "longitude                 880.496226\n",
       "price_per_square_py        35.034715\n",
       "dist_from_station           0.810706\n",
       "py                       2212.147195\n",
       "dtype: float64"
      ]
     },
     "execution_count": 85,
     "metadata": {},
     "output_type": "execute_result"
    }
   ],
   "source": [
    "myOLS.params    # output coef\n"
   ]
  },
  {
   "cell_type": "code",
   "execution_count": 59,
   "id": "4d7536cf",
   "metadata": {},
   "outputs": [
    {
     "data": {
      "text/html": [
       "<div>\n",
       "<style scoped>\n",
       "    .dataframe tbody tr th:only-of-type {\n",
       "        vertical-align: middle;\n",
       "    }\n",
       "\n",
       "    .dataframe tbody tr th {\n",
       "        vertical-align: top;\n",
       "    }\n",
       "\n",
       "    .dataframe thead th {\n",
       "        text-align: right;\n",
       "    }\n",
       "</style>\n",
       "<table border=\"1\" class=\"dataframe\">\n",
       "  <thead>\n",
       "    <tr style=\"text-align: right;\">\n",
       "      <th></th>\n",
       "      <th>latitude</th>\n",
       "      <th>longitude</th>\n",
       "      <th>price_per_square_py</th>\n",
       "      <th>dist_from_station</th>\n",
       "      <th>py</th>\n",
       "      <th>rea_val</th>\n",
       "    </tr>\n",
       "  </thead>\n",
       "  <tbody>\n",
       "    <tr>\n",
       "      <th>301</th>\n",
       "      <td>37.055723</td>\n",
       "      <td>126.885253</td>\n",
       "      <td>1569.575556</td>\n",
       "      <td>1464.859132</td>\n",
       "      <td>40</td>\n",
       "      <td>62783.022231</td>\n",
       "    </tr>\n",
       "    <tr>\n",
       "      <th>325</th>\n",
       "      <td>37.170299</td>\n",
       "      <td>126.758981</td>\n",
       "      <td>1631.638340</td>\n",
       "      <td>1371.082457</td>\n",
       "      <td>32</td>\n",
       "      <td>52212.426875</td>\n",
       "    </tr>\n",
       "    <tr>\n",
       "      <th>178</th>\n",
       "      <td>37.051574</td>\n",
       "      <td>126.755140</td>\n",
       "      <td>3350.798249</td>\n",
       "      <td>1669.022820</td>\n",
       "      <td>24</td>\n",
       "      <td>80419.157982</td>\n",
       "    </tr>\n",
       "    <tr>\n",
       "      <th>443</th>\n",
       "      <td>37.026883</td>\n",
       "      <td>126.921716</td>\n",
       "      <td>1665.869452</td>\n",
       "      <td>935.042689</td>\n",
       "      <td>24</td>\n",
       "      <td>39980.866852</td>\n",
       "    </tr>\n",
       "    <tr>\n",
       "      <th>109</th>\n",
       "      <td>37.239580</td>\n",
       "      <td>127.094128</td>\n",
       "      <td>1749.377651</td>\n",
       "      <td>1865.419774</td>\n",
       "      <td>40</td>\n",
       "      <td>69975.106034</td>\n",
       "    </tr>\n",
       "    <tr>\n",
       "      <th>...</th>\n",
       "      <td>...</td>\n",
       "      <td>...</td>\n",
       "      <td>...</td>\n",
       "      <td>...</td>\n",
       "      <td>...</td>\n",
       "      <td>...</td>\n",
       "    </tr>\n",
       "    <tr>\n",
       "      <th>501</th>\n",
       "      <td>37.062698</td>\n",
       "      <td>127.047770</td>\n",
       "      <td>1895.194907</td>\n",
       "      <td>1509.302856</td>\n",
       "      <td>32</td>\n",
       "      <td>60646.237018</td>\n",
       "    </tr>\n",
       "    <tr>\n",
       "      <th>112</th>\n",
       "      <td>37.101601</td>\n",
       "      <td>126.920339</td>\n",
       "      <td>1575.314791</td>\n",
       "      <td>1345.840700</td>\n",
       "      <td>40</td>\n",
       "      <td>63012.591622</td>\n",
       "    </tr>\n",
       "    <tr>\n",
       "      <th>680</th>\n",
       "      <td>37.289144</td>\n",
       "      <td>126.736108</td>\n",
       "      <td>1874.936004</td>\n",
       "      <td>1516.976770</td>\n",
       "      <td>32</td>\n",
       "      <td>59997.952120</td>\n",
       "    </tr>\n",
       "    <tr>\n",
       "      <th>476</th>\n",
       "      <td>37.019957</td>\n",
       "      <td>127.140616</td>\n",
       "      <td>1856.520904</td>\n",
       "      <td>1225.581824</td>\n",
       "      <td>24</td>\n",
       "      <td>44556.501698</td>\n",
       "    </tr>\n",
       "    <tr>\n",
       "      <th>345</th>\n",
       "      <td>37.064679</td>\n",
       "      <td>127.132237</td>\n",
       "      <td>3593.978646</td>\n",
       "      <td>1632.240908</td>\n",
       "      <td>40</td>\n",
       "      <td>143759.145855</td>\n",
       "    </tr>\n",
       "  </tbody>\n",
       "</table>\n",
       "<p>725 rows × 6 columns</p>\n",
       "</div>"
      ],
      "text/plain": [
       "      latitude   longitude  price_per_square_py  dist_from_station  py  \\\n",
       "301  37.055723  126.885253          1569.575556        1464.859132  40   \n",
       "325  37.170299  126.758981          1631.638340        1371.082457  32   \n",
       "178  37.051574  126.755140          3350.798249        1669.022820  24   \n",
       "443  37.026883  126.921716          1665.869452         935.042689  24   \n",
       "109  37.239580  127.094128          1749.377651        1865.419774  40   \n",
       "..         ...         ...                  ...                ...  ..   \n",
       "501  37.062698  127.047770          1895.194907        1509.302856  32   \n",
       "112  37.101601  126.920339          1575.314791        1345.840700  40   \n",
       "680  37.289144  126.736108          1874.936004        1516.976770  32   \n",
       "476  37.019957  127.140616          1856.520904        1225.581824  24   \n",
       "345  37.064679  127.132237          3593.978646        1632.240908  40   \n",
       "\n",
       "           rea_val  \n",
       "301   62783.022231  \n",
       "325   52212.426875  \n",
       "178   80419.157982  \n",
       "443   39980.866852  \n",
       "109   69975.106034  \n",
       "..             ...  \n",
       "501   60646.237018  \n",
       "112   63012.591622  \n",
       "680   59997.952120  \n",
       "476   44556.501698  \n",
       "345  143759.145855  \n",
       "\n",
       "[725 rows x 6 columns]"
      ]
     },
     "execution_count": 59,
     "metadata": {},
     "output_type": "execute_result"
    }
   ],
   "source": [
    "# ols 을 사용하기 위해 train df 생성\n",
    "\n",
    "train = pd.concat([X_train, y_train],axis=1)\n",
    "train"
   ]
  },
  {
   "cell_type": "code",
   "execution_count": 75,
   "id": "23cb755f",
   "metadata": {},
   "outputs": [
    {
     "data": {
      "text/html": [
       "<table class=\"simpletable\">\n",
       "<caption>OLS Regression Results</caption>\n",
       "<tr>\n",
       "  <th>Dep. Variable:</th>         <td>rea_val</td>     <th>  R-squared:         </th> <td>   0.954</td> \n",
       "</tr>\n",
       "<tr>\n",
       "  <th>Model:</th>                   <td>OLS</td>       <th>  Adj. R-squared:    </th> <td>   0.954</td> \n",
       "</tr>\n",
       "<tr>\n",
       "  <th>Method:</th>             <td>Least Squares</td>  <th>  F-statistic:       </th> <td>   2975.</td> \n",
       "</tr>\n",
       "<tr>\n",
       "  <th>Date:</th>             <td>Sat, 24 Jun 2023</td> <th>  Prob (F-statistic):</th>  <td>  0.00</td>  \n",
       "</tr>\n",
       "<tr>\n",
       "  <th>Time:</th>                 <td>19:58:06</td>     <th>  Log-Likelihood:    </th> <td> -7499.4</td> \n",
       "</tr>\n",
       "<tr>\n",
       "  <th>No. Observations:</th>      <td>   725</td>      <th>  AIC:               </th> <td>1.501e+04</td>\n",
       "</tr>\n",
       "<tr>\n",
       "  <th>Df Residuals:</th>          <td>   719</td>      <th>  BIC:               </th> <td>1.504e+04</td>\n",
       "</tr>\n",
       "<tr>\n",
       "  <th>Df Model:</th>              <td>     5</td>      <th>                     </th>     <td> </td>    \n",
       "</tr>\n",
       "<tr>\n",
       "  <th>Covariance Type:</th>      <td>nonrobust</td>    <th>                     </th>     <td> </td>    \n",
       "</tr>\n",
       "</table>\n",
       "<table class=\"simpletable\">\n",
       "<tr>\n",
       "           <td></td>              <th>coef</th>     <th>std err</th>      <th>t</th>      <th>P>|t|</th>  <th>[0.025</th>    <th>0.975]</th>  \n",
       "</tr>\n",
       "<tr>\n",
       "  <th>Intercept</th>           <td>-1.663e+05</td> <td> 2.76e+05</td> <td>   -0.602</td> <td> 0.547</td> <td>-7.09e+05</td> <td> 3.76e+05</td>\n",
       "</tr>\n",
       "<tr>\n",
       "  <th>latitude</th>            <td> -647.1348</td> <td> 3246.294</td> <td>   -0.199</td> <td> 0.842</td> <td>-7020.484</td> <td> 5726.214</td>\n",
       "</tr>\n",
       "<tr>\n",
       "  <th>longitude</th>           <td>  880.4962</td> <td> 1944.365</td> <td>    0.453</td> <td> 0.651</td> <td>-2936.815</td> <td> 4697.808</td>\n",
       "</tr>\n",
       "<tr>\n",
       "  <th>price_per_square_py</th> <td>   35.0347</td> <td>    0.420</td> <td>   83.320</td> <td> 0.000</td> <td>   34.209</td> <td>   35.860</td>\n",
       "</tr>\n",
       "<tr>\n",
       "  <th>dist_from_station</th>   <td>    0.8107</td> <td>    0.998</td> <td>    0.812</td> <td> 0.417</td> <td>   -1.148</td> <td>    2.770</td>\n",
       "</tr>\n",
       "<tr>\n",
       "  <th>py</th>                  <td> 2212.1472</td> <td>   25.114</td> <td>   88.083</td> <td> 0.000</td> <td> 2162.841</td> <td> 2261.453</td>\n",
       "</tr>\n",
       "</table>\n",
       "<table class=\"simpletable\">\n",
       "<tr>\n",
       "  <th>Omnibus:</th>       <td>325.266</td> <th>  Durbin-Watson:     </th> <td>   1.971</td>\n",
       "</tr>\n",
       "<tr>\n",
       "  <th>Prob(Omnibus):</th> <td> 0.000</td>  <th>  Jarque-Bera (JB):  </th> <td>5411.402</td>\n",
       "</tr>\n",
       "<tr>\n",
       "  <th>Skew:</th>          <td> 1.576</td>  <th>  Prob(JB):          </th> <td>    0.00</td>\n",
       "</tr>\n",
       "<tr>\n",
       "  <th>Kurtosis:</th>      <td>16.008</td>  <th>  Cond. No.          </th> <td>2.61e+06</td>\n",
       "</tr>\n",
       "</table><br/><br/>Notes:<br/>[1] Standard Errors assume that the covariance matrix of the errors is correctly specified.<br/>[2] The condition number is large, 2.61e+06. This might indicate that there are<br/>strong multicollinearity or other numerical problems."
      ],
      "text/latex": [
       "\\begin{center}\n",
       "\\begin{tabular}{lclc}\n",
       "\\toprule\n",
       "\\textbf{Dep. Variable:}         &     rea\\_val     & \\textbf{  R-squared:         } &     0.954   \\\\\n",
       "\\textbf{Model:}                 &       OLS        & \\textbf{  Adj. R-squared:    } &     0.954   \\\\\n",
       "\\textbf{Method:}                &  Least Squares   & \\textbf{  F-statistic:       } &     2975.   \\\\\n",
       "\\textbf{Date:}                  & Sat, 24 Jun 2023 & \\textbf{  Prob (F-statistic):} &     0.00    \\\\\n",
       "\\textbf{Time:}                  &     19:58:06     & \\textbf{  Log-Likelihood:    } &   -7499.4   \\\\\n",
       "\\textbf{No. Observations:}      &         725      & \\textbf{  AIC:               } & 1.501e+04   \\\\\n",
       "\\textbf{Df Residuals:}          &         719      & \\textbf{  BIC:               } & 1.504e+04   \\\\\n",
       "\\textbf{Df Model:}              &           5      & \\textbf{                     } &             \\\\\n",
       "\\textbf{Covariance Type:}       &    nonrobust     & \\textbf{                     } &             \\\\\n",
       "\\bottomrule\n",
       "\\end{tabular}\n",
       "\\begin{tabular}{lcccccc}\n",
       "                                & \\textbf{coef} & \\textbf{std err} & \\textbf{t} & \\textbf{P$> |$t$|$} & \\textbf{[0.025} & \\textbf{0.975]}  \\\\\n",
       "\\midrule\n",
       "\\textbf{Intercept}              &   -1.663e+05  &     2.76e+05     &    -0.602  &         0.547        &    -7.09e+05    &     3.76e+05     \\\\\n",
       "\\textbf{latitude}               &    -647.1348  &     3246.294     &    -0.199  &         0.842        &    -7020.484    &     5726.214     \\\\\n",
       "\\textbf{longitude}              &     880.4962  &     1944.365     &     0.453  &         0.651        &    -2936.815    &     4697.808     \\\\\n",
       "\\textbf{price\\_per\\_square\\_py} &      35.0347  &        0.420     &    83.320  &         0.000        &       34.209    &       35.860     \\\\\n",
       "\\textbf{dist\\_from\\_station}    &       0.8107  &        0.998     &     0.812  &         0.417        &       -1.148    &        2.770     \\\\\n",
       "\\textbf{py}                     &    2212.1472  &       25.114     &    88.083  &         0.000        &     2162.841    &     2261.453     \\\\\n",
       "\\bottomrule\n",
       "\\end{tabular}\n",
       "\\begin{tabular}{lclc}\n",
       "\\textbf{Omnibus:}       & 325.266 & \\textbf{  Durbin-Watson:     } &    1.971  \\\\\n",
       "\\textbf{Prob(Omnibus):} &   0.000 & \\textbf{  Jarque-Bera (JB):  } & 5411.402  \\\\\n",
       "\\textbf{Skew:}          &   1.576 & \\textbf{  Prob(JB):          } &     0.00  \\\\\n",
       "\\textbf{Kurtosis:}      &  16.008 & \\textbf{  Cond. No.          } & 2.61e+06  \\\\\n",
       "\\bottomrule\n",
       "\\end{tabular}\n",
       "%\\caption{OLS Regression Results}\n",
       "\\end{center}\n",
       "\n",
       "Notes: \\newline\n",
       " [1] Standard Errors assume that the covariance matrix of the errors is correctly specified. \\newline\n",
       " [2] The condition number is large, 2.61e+06. This might indicate that there are \\newline\n",
       " strong multicollinearity or other numerical problems."
      ],
      "text/plain": [
       "<class 'statsmodels.iolib.summary.Summary'>\n",
       "\"\"\"\n",
       "                            OLS Regression Results                            \n",
       "==============================================================================\n",
       "Dep. Variable:                rea_val   R-squared:                       0.954\n",
       "Model:                            OLS   Adj. R-squared:                  0.954\n",
       "Method:                 Least Squares   F-statistic:                     2975.\n",
       "Date:                Sat, 24 Jun 2023   Prob (F-statistic):               0.00\n",
       "Time:                        19:58:06   Log-Likelihood:                -7499.4\n",
       "No. Observations:                 725   AIC:                         1.501e+04\n",
       "Df Residuals:                     719   BIC:                         1.504e+04\n",
       "Df Model:                           5                                         \n",
       "Covariance Type:            nonrobust                                         \n",
       "=======================================================================================\n",
       "                          coef    std err          t      P>|t|      [0.025      0.975]\n",
       "---------------------------------------------------------------------------------------\n",
       "Intercept           -1.663e+05   2.76e+05     -0.602      0.547   -7.09e+05    3.76e+05\n",
       "latitude             -647.1348   3246.294     -0.199      0.842   -7020.484    5726.214\n",
       "longitude             880.4962   1944.365      0.453      0.651   -2936.815    4697.808\n",
       "price_per_square_py    35.0347      0.420     83.320      0.000      34.209      35.860\n",
       "dist_from_station       0.8107      0.998      0.812      0.417      -1.148       2.770\n",
       "py                   2212.1472     25.114     88.083      0.000    2162.841    2261.453\n",
       "==============================================================================\n",
       "Omnibus:                      325.266   Durbin-Watson:                   1.971\n",
       "Prob(Omnibus):                  0.000   Jarque-Bera (JB):             5411.402\n",
       "Skew:                           1.576   Prob(JB):                         0.00\n",
       "Kurtosis:                      16.008   Cond. No.                     2.61e+06\n",
       "==============================================================================\n",
       "\n",
       "Notes:\n",
       "[1] Standard Errors assume that the covariance matrix of the errors is correctly specified.\n",
       "[2] The condition number is large, 2.61e+06. This might indicate that there are\n",
       "strong multicollinearity or other numerical problems.\n",
       "\"\"\""
      ]
     },
     "execution_count": 75,
     "metadata": {},
     "output_type": "execute_result"
    }
   ],
   "source": [
    "from statsmodels.formula.api import ols  \n",
    "formula = 'rea_val ~ latitude+longitude+price_per_square_py+dist_from_station+py'  \n",
    "my_ols = ols(formula = formula, data=train).fit()  \n",
    "my_ols.summary() "
   ]
  },
  {
   "cell_type": "code",
   "execution_count": 76,
   "id": "cef398fd",
   "metadata": {},
   "outputs": [
    {
     "data": {
      "text/plain": [
       "3234.468890751195"
      ]
     },
     "execution_count": 76,
     "metadata": {},
     "output_type": "execute_result"
    }
   ],
   "source": [
    "y_pred_ols = my_ols.predict(X_test)\n",
    "mean_absolute_error(y_test,y_pred_ols)\n",
    "\n",
    "# OLS MAE : 3234.4688907511936\n"
   ]
  },
  {
   "cell_type": "code",
   "execution_count": 84,
   "id": "5a589108",
   "metadata": {},
   "outputs": [
    {
     "data": {
      "text/plain": [
       "Intercept             -166330.057114\n",
       "latitude                 -647.134835\n",
       "longitude                 880.496226\n",
       "price_per_square_py        35.034715\n",
       "dist_from_station           0.810706\n",
       "py                       2212.147195\n",
       "dtype: float64"
      ]
     },
     "execution_count": 84,
     "metadata": {},
     "output_type": "execute_result"
    }
   ],
   "source": [
    "my_ols.params"
   ]
  },
  {
   "cell_type": "code",
   "execution_count": 89,
   "id": "b6096df8",
   "metadata": {},
   "outputs": [
    {
     "data": {
      "text/html": [
       "<div>\n",
       "<style scoped>\n",
       "    .dataframe tbody tr th:only-of-type {\n",
       "        vertical-align: middle;\n",
       "    }\n",
       "\n",
       "    .dataframe tbody tr th {\n",
       "        vertical-align: top;\n",
       "    }\n",
       "\n",
       "    .dataframe thead th {\n",
       "        text-align: right;\n",
       "    }\n",
       "</style>\n",
       "<table border=\"1\" class=\"dataframe\">\n",
       "  <thead>\n",
       "    <tr style=\"text-align: right;\">\n",
       "      <th></th>\n",
       "      <th>0</th>\n",
       "      <th>1</th>\n",
       "      <th>2</th>\n",
       "      <th>3</th>\n",
       "      <th>4</th>\n",
       "      <th>5</th>\n",
       "    </tr>\n",
       "  </thead>\n",
       "  <tbody>\n",
       "    <tr>\n",
       "      <th>0</th>\n",
       "      <td>1.0</td>\n",
       "      <td>37.055723</td>\n",
       "      <td>126.885253</td>\n",
       "      <td>1569.575556</td>\n",
       "      <td>1464.859132</td>\n",
       "      <td>40.0</td>\n",
       "    </tr>\n",
       "    <tr>\n",
       "      <th>1</th>\n",
       "      <td>1.0</td>\n",
       "      <td>37.170299</td>\n",
       "      <td>126.758981</td>\n",
       "      <td>1631.638340</td>\n",
       "      <td>1371.082457</td>\n",
       "      <td>32.0</td>\n",
       "    </tr>\n",
       "    <tr>\n",
       "      <th>2</th>\n",
       "      <td>1.0</td>\n",
       "      <td>37.051574</td>\n",
       "      <td>126.755140</td>\n",
       "      <td>3350.798249</td>\n",
       "      <td>1669.022820</td>\n",
       "      <td>24.0</td>\n",
       "    </tr>\n",
       "    <tr>\n",
       "      <th>3</th>\n",
       "      <td>1.0</td>\n",
       "      <td>37.026883</td>\n",
       "      <td>126.921716</td>\n",
       "      <td>1665.869452</td>\n",
       "      <td>935.042689</td>\n",
       "      <td>24.0</td>\n",
       "    </tr>\n",
       "    <tr>\n",
       "      <th>4</th>\n",
       "      <td>1.0</td>\n",
       "      <td>37.239580</td>\n",
       "      <td>127.094128</td>\n",
       "      <td>1749.377651</td>\n",
       "      <td>1865.419774</td>\n",
       "      <td>40.0</td>\n",
       "    </tr>\n",
       "    <tr>\n",
       "      <th>...</th>\n",
       "      <td>...</td>\n",
       "      <td>...</td>\n",
       "      <td>...</td>\n",
       "      <td>...</td>\n",
       "      <td>...</td>\n",
       "      <td>...</td>\n",
       "    </tr>\n",
       "    <tr>\n",
       "      <th>720</th>\n",
       "      <td>1.0</td>\n",
       "      <td>37.062698</td>\n",
       "      <td>127.047770</td>\n",
       "      <td>1895.194907</td>\n",
       "      <td>1509.302856</td>\n",
       "      <td>32.0</td>\n",
       "    </tr>\n",
       "    <tr>\n",
       "      <th>721</th>\n",
       "      <td>1.0</td>\n",
       "      <td>37.101601</td>\n",
       "      <td>126.920339</td>\n",
       "      <td>1575.314791</td>\n",
       "      <td>1345.840700</td>\n",
       "      <td>40.0</td>\n",
       "    </tr>\n",
       "    <tr>\n",
       "      <th>722</th>\n",
       "      <td>1.0</td>\n",
       "      <td>37.289144</td>\n",
       "      <td>126.736108</td>\n",
       "      <td>1874.936004</td>\n",
       "      <td>1516.976770</td>\n",
       "      <td>32.0</td>\n",
       "    </tr>\n",
       "    <tr>\n",
       "      <th>723</th>\n",
       "      <td>1.0</td>\n",
       "      <td>37.019957</td>\n",
       "      <td>127.140616</td>\n",
       "      <td>1856.520904</td>\n",
       "      <td>1225.581824</td>\n",
       "      <td>24.0</td>\n",
       "    </tr>\n",
       "    <tr>\n",
       "      <th>724</th>\n",
       "      <td>1.0</td>\n",
       "      <td>37.064679</td>\n",
       "      <td>127.132237</td>\n",
       "      <td>3593.978646</td>\n",
       "      <td>1632.240908</td>\n",
       "      <td>40.0</td>\n",
       "    </tr>\n",
       "  </tbody>\n",
       "</table>\n",
       "<p>725 rows × 6 columns</p>\n",
       "</div>"
      ],
      "text/plain": [
       "       0          1           2            3            4     5\n",
       "0    1.0  37.055723  126.885253  1569.575556  1464.859132  40.0\n",
       "1    1.0  37.170299  126.758981  1631.638340  1371.082457  32.0\n",
       "2    1.0  37.051574  126.755140  3350.798249  1669.022820  24.0\n",
       "3    1.0  37.026883  126.921716  1665.869452   935.042689  24.0\n",
       "4    1.0  37.239580  127.094128  1749.377651  1865.419774  40.0\n",
       "..   ...        ...         ...          ...          ...   ...\n",
       "720  1.0  37.062698  127.047770  1895.194907  1509.302856  32.0\n",
       "721  1.0  37.101601  126.920339  1575.314791  1345.840700  40.0\n",
       "722  1.0  37.289144  126.736108  1874.936004  1516.976770  32.0\n",
       "723  1.0  37.019957  127.140616  1856.520904  1225.581824  24.0\n",
       "724  1.0  37.064679  127.132237  3593.978646  1632.240908  40.0\n",
       "\n",
       "[725 rows x 6 columns]"
      ]
     },
     "execution_count": 89,
     "metadata": {},
     "output_type": "execute_result"
    }
   ],
   "source": [
    "my_ols2 = ols(formula = formula, data=train)\n",
    "pd.DataFrame(my_ols2.exog)"
   ]
  },
  {
   "cell_type": "code",
   "execution_count": 90,
   "id": "10a4b469",
   "metadata": {},
   "outputs": [
    {
     "data": {
      "text/html": [
       "<div>\n",
       "<style scoped>\n",
       "    .dataframe tbody tr th:only-of-type {\n",
       "        vertical-align: middle;\n",
       "    }\n",
       "\n",
       "    .dataframe tbody tr th {\n",
       "        vertical-align: top;\n",
       "    }\n",
       "\n",
       "    .dataframe thead th {\n",
       "        text-align: right;\n",
       "    }\n",
       "</style>\n",
       "<table border=\"1\" class=\"dataframe\">\n",
       "  <thead>\n",
       "    <tr style=\"text-align: right;\">\n",
       "      <th></th>\n",
       "      <th>latitude</th>\n",
       "      <th>longitude</th>\n",
       "      <th>price_per_square_py</th>\n",
       "      <th>dist_from_station</th>\n",
       "      <th>py</th>\n",
       "      <th>rea_val</th>\n",
       "    </tr>\n",
       "  </thead>\n",
       "  <tbody>\n",
       "    <tr>\n",
       "      <th>301</th>\n",
       "      <td>37.055723</td>\n",
       "      <td>126.885253</td>\n",
       "      <td>1569.575556</td>\n",
       "      <td>1464.859132</td>\n",
       "      <td>40</td>\n",
       "      <td>62783.022231</td>\n",
       "    </tr>\n",
       "    <tr>\n",
       "      <th>325</th>\n",
       "      <td>37.170299</td>\n",
       "      <td>126.758981</td>\n",
       "      <td>1631.638340</td>\n",
       "      <td>1371.082457</td>\n",
       "      <td>32</td>\n",
       "      <td>52212.426875</td>\n",
       "    </tr>\n",
       "    <tr>\n",
       "      <th>178</th>\n",
       "      <td>37.051574</td>\n",
       "      <td>126.755140</td>\n",
       "      <td>3350.798249</td>\n",
       "      <td>1669.022820</td>\n",
       "      <td>24</td>\n",
       "      <td>80419.157982</td>\n",
       "    </tr>\n",
       "    <tr>\n",
       "      <th>443</th>\n",
       "      <td>37.026883</td>\n",
       "      <td>126.921716</td>\n",
       "      <td>1665.869452</td>\n",
       "      <td>935.042689</td>\n",
       "      <td>24</td>\n",
       "      <td>39980.866852</td>\n",
       "    </tr>\n",
       "    <tr>\n",
       "      <th>109</th>\n",
       "      <td>37.239580</td>\n",
       "      <td>127.094128</td>\n",
       "      <td>1749.377651</td>\n",
       "      <td>1865.419774</td>\n",
       "      <td>40</td>\n",
       "      <td>69975.106034</td>\n",
       "    </tr>\n",
       "    <tr>\n",
       "      <th>...</th>\n",
       "      <td>...</td>\n",
       "      <td>...</td>\n",
       "      <td>...</td>\n",
       "      <td>...</td>\n",
       "      <td>...</td>\n",
       "      <td>...</td>\n",
       "    </tr>\n",
       "    <tr>\n",
       "      <th>501</th>\n",
       "      <td>37.062698</td>\n",
       "      <td>127.047770</td>\n",
       "      <td>1895.194907</td>\n",
       "      <td>1509.302856</td>\n",
       "      <td>32</td>\n",
       "      <td>60646.237018</td>\n",
       "    </tr>\n",
       "    <tr>\n",
       "      <th>112</th>\n",
       "      <td>37.101601</td>\n",
       "      <td>126.920339</td>\n",
       "      <td>1575.314791</td>\n",
       "      <td>1345.840700</td>\n",
       "      <td>40</td>\n",
       "      <td>63012.591622</td>\n",
       "    </tr>\n",
       "    <tr>\n",
       "      <th>680</th>\n",
       "      <td>37.289144</td>\n",
       "      <td>126.736108</td>\n",
       "      <td>1874.936004</td>\n",
       "      <td>1516.976770</td>\n",
       "      <td>32</td>\n",
       "      <td>59997.952120</td>\n",
       "    </tr>\n",
       "    <tr>\n",
       "      <th>476</th>\n",
       "      <td>37.019957</td>\n",
       "      <td>127.140616</td>\n",
       "      <td>1856.520904</td>\n",
       "      <td>1225.581824</td>\n",
       "      <td>24</td>\n",
       "      <td>44556.501698</td>\n",
       "    </tr>\n",
       "    <tr>\n",
       "      <th>345</th>\n",
       "      <td>37.064679</td>\n",
       "      <td>127.132237</td>\n",
       "      <td>3593.978646</td>\n",
       "      <td>1632.240908</td>\n",
       "      <td>40</td>\n",
       "      <td>143759.145855</td>\n",
       "    </tr>\n",
       "  </tbody>\n",
       "</table>\n",
       "<p>725 rows × 6 columns</p>\n",
       "</div>"
      ],
      "text/plain": [
       "      latitude   longitude  price_per_square_py  dist_from_station  py  \\\n",
       "301  37.055723  126.885253          1569.575556        1464.859132  40   \n",
       "325  37.170299  126.758981          1631.638340        1371.082457  32   \n",
       "178  37.051574  126.755140          3350.798249        1669.022820  24   \n",
       "443  37.026883  126.921716          1665.869452         935.042689  24   \n",
       "109  37.239580  127.094128          1749.377651        1865.419774  40   \n",
       "..         ...         ...                  ...                ...  ..   \n",
       "501  37.062698  127.047770          1895.194907        1509.302856  32   \n",
       "112  37.101601  126.920339          1575.314791        1345.840700  40   \n",
       "680  37.289144  126.736108          1874.936004        1516.976770  32   \n",
       "476  37.019957  127.140616          1856.520904        1225.581824  24   \n",
       "345  37.064679  127.132237          3593.978646        1632.240908  40   \n",
       "\n",
       "           rea_val  \n",
       "301   62783.022231  \n",
       "325   52212.426875  \n",
       "178   80419.157982  \n",
       "443   39980.866852  \n",
       "109   69975.106034  \n",
       "..             ...  \n",
       "501   60646.237018  \n",
       "112   63012.591622  \n",
       "680   59997.952120  \n",
       "476   44556.501698  \n",
       "345  143759.145855  \n",
       "\n",
       "[725 rows x 6 columns]"
      ]
     },
     "execution_count": 90,
     "metadata": {},
     "output_type": "execute_result"
    }
   ],
   "source": [
    "train"
   ]
  },
  {
   "cell_type": "code",
   "execution_count": null,
   "id": "7ea33d6e",
   "metadata": {},
   "outputs": [],
   "source": []
  }
 ],
 "metadata": {
  "kernelspec": {
   "display_name": "Python 3.7.6 64-bit ('3.7.6')",
   "language": "python",
   "name": "python3"
  },
  "language_info": {
   "codemirror_mode": {
    "name": "ipython",
    "version": 3
   },
   "file_extension": ".py",
   "mimetype": "text/x-python",
   "name": "python",
   "nbconvert_exporter": "python",
   "pygments_lexer": "ipython3",
   "version": "3.9.10"
  },
  "vscode": {
   "interpreter": {
    "hash": "162ceaf09f938773ad028a3a2ad644135fdbb6560e1ade87eeac244d09a7763d"
   }
  }
 },
 "nbformat": 4,
 "nbformat_minor": 5
}
