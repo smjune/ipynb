{
 "cells": [
  {
   "attachments": {},
   "cell_type": "markdown",
   "id": "9dd0d4a1",
   "metadata": {},
   "source": [
    "## 내 집 마련을 위해, 서울 아파트 매물 데이터를 이용하여 구매 전략을 세우고자 한다."
   ]
  },
  {
   "attachments": {},
   "cell_type": "markdown",
   "id": "7e3f7408",
   "metadata": {},
   "source": [
    "real_estate.csv\n",
    "\n",
    "|컬럼|정의|type|\n",
    "|:---|:---|:---:|\n",
    "|latitude|위도|float64|\n",
    "|longitude|경도|float64|\n",
    "|price_per_square_py|평당가|float64|\n",
    "|py|평수|int64|\n",
    "|apt_code|시공사 코드(길이5 알파벳 대문자)|object|\n",
    "|dist_from_station|인근 지하철역과의 거리|float64|  \n",
    "\n",
    "정답 및 해설 : https://tjd229.tistory.com/22"
   ]
  },
  {
   "cell_type": "code",
   "execution_count": 2,
   "id": "0a87c9cd",
   "metadata": {},
   "outputs": [],
   "source": [
    "import numpy as np\n",
    "import pandas as pd\n",
    "\n",
    "df = pd.read_csv('../content/tjd229/real_estate.csv')"
   ]
  },
  {
   "attachments": {},
   "cell_type": "markdown",
   "id": "b9665581",
   "metadata": {},
   "source": [
    "### Q1. 시공사별 아파트 평수의 평균을 구하려고 한다. 다음 단계에 따라 분석을 수행하고 질문에 답하시오.\n",
    "\n",
    "단계 1 : 데이터의 첫 번째 행부터 열 번째 행까지의 시공사 코드(apt_code) 리스트를 저장한다.  \n",
    "첫 번째 행의 데이터는 위도, 경도, 평당가, 평수, 시공사 코드, 인근 지하철역과의 거리가 각각 37.125541, 126.913776, 2860.053787, 24, GEDAE, 1588.406226이다.  \n",
    "단계 2 : 시공사 코드(apt_code)가 단계 1에서 구한 리스트에 포함되어 있는 데이터를 전부 제거한다.  \n",
    "단계 3 : 시공사 코드(apt_code)별 평수 평균을 구하고 그 중 가장 큰 값을 구하시오  \n",
    "\n",
    "※ 정답은 반올림하여 소수점 둘째 자리까지 출력하시오.\n",
    "(정답 예시: 2.29)"
   ]
  },
  {
   "cell_type": "code",
   "execution_count": 6,
   "id": "9f0afb95",
   "metadata": {},
   "outputs": [
    {
     "data": {
      "text/plain": [
       "['GEDAE',\n",
       " 'IHEAD',\n",
       " 'FHIBJ',\n",
       " 'JBCIJ',\n",
       " 'EDJCI',\n",
       " 'EHCAD',\n",
       " 'HEBIA',\n",
       " 'HEBIA',\n",
       " 'IIGFI',\n",
       " 'FHIBJ']"
      ]
     },
     "execution_count": 6,
     "metadata": {},
     "output_type": "execute_result"
    }
   ],
   "source": [
    "df1 = df.copy()\n",
    "_remove_aptcode = df1.head(10).apt_code.tolist()\n",
    "_remove_aptcode"
   ]
  },
  {
   "cell_type": "code",
   "execution_count": 13,
   "id": "5d2cc6bc",
   "metadata": {},
   "outputs": [
    {
     "data": {
      "text/html": [
       "<div>\n",
       "<style scoped>\n",
       "    .dataframe tbody tr th:only-of-type {\n",
       "        vertical-align: middle;\n",
       "    }\n",
       "\n",
       "    .dataframe tbody tr th {\n",
       "        vertical-align: top;\n",
       "    }\n",
       "\n",
       "    .dataframe thead th {\n",
       "        text-align: right;\n",
       "    }\n",
       "</style>\n",
       "<table border=\"1\" class=\"dataframe\">\n",
       "  <thead>\n",
       "    <tr style=\"text-align: right;\">\n",
       "      <th></th>\n",
       "      <th>latitude</th>\n",
       "      <th>longitude</th>\n",
       "      <th>price_per_square_py</th>\n",
       "      <th>py</th>\n",
       "      <th>apt_code</th>\n",
       "      <th>dist_from_station</th>\n",
       "    </tr>\n",
       "  </thead>\n",
       "  <tbody>\n",
       "    <tr>\n",
       "      <th>10</th>\n",
       "      <td>37.046400</td>\n",
       "      <td>126.837832</td>\n",
       "      <td>3750.582844</td>\n",
       "      <td>40</td>\n",
       "      <td>GBDGG</td>\n",
       "      <td>1493.140743</td>\n",
       "    </tr>\n",
       "    <tr>\n",
       "      <th>11</th>\n",
       "      <td>37.215855</td>\n",
       "      <td>127.127967</td>\n",
       "      <td>1945.709193</td>\n",
       "      <td>32</td>\n",
       "      <td>HCCBB</td>\n",
       "      <td>989.515201</td>\n",
       "    </tr>\n",
       "    <tr>\n",
       "      <th>12</th>\n",
       "      <td>37.252653</td>\n",
       "      <td>127.107425</td>\n",
       "      <td>2670.280398</td>\n",
       "      <td>32</td>\n",
       "      <td>IDCIC</td>\n",
       "      <td>1802.915110</td>\n",
       "    </tr>\n",
       "    <tr>\n",
       "      <th>13</th>\n",
       "      <td>37.132489</td>\n",
       "      <td>126.784801</td>\n",
       "      <td>2246.292722</td>\n",
       "      <td>40</td>\n",
       "      <td>HCCBB</td>\n",
       "      <td>922.157169</td>\n",
       "    </tr>\n",
       "    <tr>\n",
       "      <th>14</th>\n",
       "      <td>37.270844</td>\n",
       "      <td>127.064936</td>\n",
       "      <td>2423.397245</td>\n",
       "      <td>24</td>\n",
       "      <td>EGFBJ</td>\n",
       "      <td>1491.398873</td>\n",
       "    </tr>\n",
       "    <tr>\n",
       "      <th>...</th>\n",
       "      <td>...</td>\n",
       "      <td>...</td>\n",
       "      <td>...</td>\n",
       "      <td>...</td>\n",
       "      <td>...</td>\n",
       "      <td>...</td>\n",
       "    </tr>\n",
       "    <tr>\n",
       "      <th>770</th>\n",
       "      <td>37.251483</td>\n",
       "      <td>127.073069</td>\n",
       "      <td>2356.504401</td>\n",
       "      <td>63</td>\n",
       "      <td>HHGCB</td>\n",
       "      <td>1416.903407</td>\n",
       "    </tr>\n",
       "    <tr>\n",
       "      <th>771</th>\n",
       "      <td>37.078108</td>\n",
       "      <td>126.723392</td>\n",
       "      <td>1884.239692</td>\n",
       "      <td>24</td>\n",
       "      <td>DEACF</td>\n",
       "      <td>967.757381</td>\n",
       "    </tr>\n",
       "    <tr>\n",
       "      <th>773</th>\n",
       "      <td>37.288945</td>\n",
       "      <td>127.118062</td>\n",
       "      <td>3072.810919</td>\n",
       "      <td>24</td>\n",
       "      <td>GBDGG</td>\n",
       "      <td>1803.257080</td>\n",
       "    </tr>\n",
       "    <tr>\n",
       "      <th>774</th>\n",
       "      <td>37.234408</td>\n",
       "      <td>126.745186</td>\n",
       "      <td>2491.714188</td>\n",
       "      <td>61</td>\n",
       "      <td>EJAIA</td>\n",
       "      <td>1346.821965</td>\n",
       "    </tr>\n",
       "    <tr>\n",
       "      <th>775</th>\n",
       "      <td>37.294494</td>\n",
       "      <td>127.185185</td>\n",
       "      <td>1746.372819</td>\n",
       "      <td>40</td>\n",
       "      <td>EGFBJ</td>\n",
       "      <td>1461.672552</td>\n",
       "    </tr>\n",
       "  </tbody>\n",
       "</table>\n",
       "<p>552 rows × 6 columns</p>\n",
       "</div>"
      ],
      "text/plain": [
       "      latitude   longitude  price_per_square_py  py apt_code  \\\n",
       "10   37.046400  126.837832          3750.582844  40    GBDGG   \n",
       "11   37.215855  127.127967          1945.709193  32    HCCBB   \n",
       "12   37.252653  127.107425          2670.280398  32    IDCIC   \n",
       "13   37.132489  126.784801          2246.292722  40    HCCBB   \n",
       "14   37.270844  127.064936          2423.397245  24    EGFBJ   \n",
       "..         ...         ...                  ...  ..      ...   \n",
       "770  37.251483  127.073069          2356.504401  63    HHGCB   \n",
       "771  37.078108  126.723392          1884.239692  24    DEACF   \n",
       "773  37.288945  127.118062          3072.810919  24    GBDGG   \n",
       "774  37.234408  126.745186          2491.714188  61    EJAIA   \n",
       "775  37.294494  127.185185          1746.372819  40    EGFBJ   \n",
       "\n",
       "     dist_from_station  \n",
       "10         1493.140743  \n",
       "11          989.515201  \n",
       "12         1802.915110  \n",
       "13          922.157169  \n",
       "14         1491.398873  \n",
       "..                 ...  \n",
       "770        1416.903407  \n",
       "771         967.757381  \n",
       "773        1803.257080  \n",
       "774        1346.821965  \n",
       "775        1461.672552  \n",
       "\n",
       "[552 rows x 6 columns]"
      ]
     },
     "execution_count": 13,
     "metadata": {},
     "output_type": "execute_result"
    }
   ],
   "source": [
    "df1_remove = df1.loc[~df1.apt_code.isin(_remove_aptcode)]\n",
    "df1_remove"
   ]
  },
  {
   "cell_type": "code",
   "execution_count": 25,
   "id": "edf3dfa9",
   "metadata": {},
   "outputs": [
    {
     "data": {
      "text/plain": [
       "38.63"
      ]
     },
     "execution_count": 25,
     "metadata": {},
     "output_type": "execute_result"
    }
   ],
   "source": [
    "round(df1_remove.groupby('apt_code').mean().max().loc['py'],2)"
   ]
  },
  {
   "attachments": {},
   "cell_type": "markdown",
   "id": "3ae2a4b2",
   "metadata": {},
   "source": [
    "### Q2. 아파트 매물을 분석하기 위해 군집화를 하려고 한다. 다음 단계에 따라 분석을 수행하고 질문에 답하시오.\n",
    "\n",
    "\n",
    "단계 1 : 독립 변수들에 대해 K-means 군집 분석을 수행한다. 이 때, 군집 수는 2~9개 중 K-means Silhouette 를 통해 구하고, 이 중 첫번째로 높은 score를 최적의 K로 설정한다.  \n",
    "            - 독립 변수(총 5개) : 시공사 코드(apt_code)를 제외한 모든 컬럼  \n"
   ]
  },
  {
   "attachments": {},
   "cell_type": "markdown",
   "id": "db0c31dd",
   "metadata": {},
   "source": [
    "#### 필요 라이브러리 함수,클래스 및 설정값 목록  \n",
    "\n",
    "\n",
    "from sklearn.cluster import KMeans  \n",
    "from sklearn.metrics import silhouette_score    \n",
    "random_state = 229  \n",
    "문제 지시 외 Default 값 사용  "
   ]
  },
  {
   "cell_type": "code",
   "execution_count": null,
   "id": "7f13dde0",
   "metadata": {},
   "outputs": [],
   "source": []
  },
  {
   "attachments": {},
   "cell_type": "markdown",
   "id": "bbf7c503",
   "metadata": {},
   "source": [
    "\n",
    "단계 2 : 단계 1에서 최적의 K로 도출한 각 군집의 비율 중, 가장 큰 값을 구하시오  \n",
    "\n",
    "※ 정답은 올림하여 소수점 둘째 자리까지 출력하시오.\n",
    "(정답 예시: 2.29)"
   ]
  },
  {
   "cell_type": "code",
   "execution_count": null,
   "id": "5f75991b",
   "metadata": {},
   "outputs": [],
   "source": []
  },
  {
   "cell_type": "code",
   "execution_count": null,
   "id": "d81a3da1",
   "metadata": {},
   "outputs": [],
   "source": []
  },
  {
   "attachments": {},
   "cell_type": "markdown",
   "id": "d1a65143",
   "metadata": {},
   "source": [
    "### Q3. 아파트 가격을 예측하는 모델을 만드려고 한다. 다음 단계에 따라 분석을 수행하고 질문에 답하시오.\n",
    "\n",
    "단계 1 : 평당가(price_per_square_py)와 평수(py)를 곱하여 실제 가격 변수를 생성한다.  \n",
    "단계 2 : Train Set과 Test Set을 28/30:2/30 비율로 나눈다.  \n"
   ]
  },
  {
   "attachments": {},
   "cell_type": "markdown",
   "id": "07bd0065",
   "metadata": {},
   "source": [
    "#### 필요 라이브러리 함수,클래스 및 설정값 목록  \n",
    "\n",
    "\n",
    "from sklearn.linear_model import LinearRegression  \n",
    "from sklearn.model_selection import train_test_split  \n",
    "모든 random_state = 229  \n",
    "문제 지시 외 Default 값 사용  "
   ]
  },
  {
   "cell_type": "code",
   "execution_count": 146,
   "id": "5747867a",
   "metadata": {},
   "outputs": [],
   "source": [
    "df1_real = df.copy()"
   ]
  },
  {
   "cell_type": "code",
   "execution_count": 147,
   "id": "2f870c2c",
   "metadata": {},
   "outputs": [
    {
     "data": {
      "text/html": [
       "<div>\n",
       "<style scoped>\n",
       "    .dataframe tbody tr th:only-of-type {\n",
       "        vertical-align: middle;\n",
       "    }\n",
       "\n",
       "    .dataframe tbody tr th {\n",
       "        vertical-align: top;\n",
       "    }\n",
       "\n",
       "    .dataframe thead th {\n",
       "        text-align: right;\n",
       "    }\n",
       "</style>\n",
       "<table border=\"1\" class=\"dataframe\">\n",
       "  <thead>\n",
       "    <tr style=\"text-align: right;\">\n",
       "      <th></th>\n",
       "      <th>latitude</th>\n",
       "      <th>longitude</th>\n",
       "      <th>price_per_square_py</th>\n",
       "      <th>py</th>\n",
       "      <th>apt_code</th>\n",
       "      <th>dist_from_station</th>\n",
       "      <th>rea_val</th>\n",
       "    </tr>\n",
       "  </thead>\n",
       "  <tbody>\n",
       "    <tr>\n",
       "      <th>0</th>\n",
       "      <td>37.125541</td>\n",
       "      <td>126.913776</td>\n",
       "      <td>2860.053787</td>\n",
       "      <td>24</td>\n",
       "      <td>GEDAE</td>\n",
       "      <td>1588.406226</td>\n",
       "      <td>68641.290895</td>\n",
       "    </tr>\n",
       "    <tr>\n",
       "      <th>1</th>\n",
       "      <td>37.223169</td>\n",
       "      <td>127.026913</td>\n",
       "      <td>1715.073163</td>\n",
       "      <td>59</td>\n",
       "      <td>IHEAD</td>\n",
       "      <td>986.146800</td>\n",
       "      <td>101189.316628</td>\n",
       "    </tr>\n",
       "    <tr>\n",
       "      <th>2</th>\n",
       "      <td>37.239029</td>\n",
       "      <td>126.906303</td>\n",
       "      <td>1780.604630</td>\n",
       "      <td>57</td>\n",
       "      <td>FHIBJ</td>\n",
       "      <td>1492.514512</td>\n",
       "      <td>101494.463921</td>\n",
       "    </tr>\n",
       "    <tr>\n",
       "      <th>3</th>\n",
       "      <td>37.274433</td>\n",
       "      <td>126.737771</td>\n",
       "      <td>1508.814336</td>\n",
       "      <td>42</td>\n",
       "      <td>JBCIJ</td>\n",
       "      <td>1621.602866</td>\n",
       "      <td>63370.202096</td>\n",
       "    </tr>\n",
       "    <tr>\n",
       "      <th>4</th>\n",
       "      <td>37.082670</td>\n",
       "      <td>127.143634</td>\n",
       "      <td>2933.930488</td>\n",
       "      <td>32</td>\n",
       "      <td>EDJCI</td>\n",
       "      <td>945.034519</td>\n",
       "      <td>93885.775621</td>\n",
       "    </tr>\n",
       "  </tbody>\n",
       "</table>\n",
       "</div>"
      ],
      "text/plain": [
       "    latitude   longitude  price_per_square_py  py apt_code  dist_from_station  \\\n",
       "0  37.125541  126.913776          2860.053787  24    GEDAE        1588.406226   \n",
       "1  37.223169  127.026913          1715.073163  59    IHEAD         986.146800   \n",
       "2  37.239029  126.906303          1780.604630  57    FHIBJ        1492.514512   \n",
       "3  37.274433  126.737771          1508.814336  42    JBCIJ        1621.602866   \n",
       "4  37.082670  127.143634          2933.930488  32    EDJCI         945.034519   \n",
       "\n",
       "         rea_val  \n",
       "0   68641.290895  \n",
       "1  101189.316628  \n",
       "2  101494.463921  \n",
       "3   63370.202096  \n",
       "4   93885.775621  "
      ]
     },
     "execution_count": 147,
     "metadata": {},
     "output_type": "execute_result"
    }
   ],
   "source": [
    "df1_real['rea_val'] = df1_real.price_per_square_py * df1_real.py\n",
    "df1_real.head()"
   ]
  },
  {
   "cell_type": "code",
   "execution_count": 148,
   "id": "8458f00e",
   "metadata": {},
   "outputs": [
    {
     "data": {
      "text/html": [
       "<div>\n",
       "<style scoped>\n",
       "    .dataframe tbody tr th:only-of-type {\n",
       "        vertical-align: middle;\n",
       "    }\n",
       "\n",
       "    .dataframe tbody tr th {\n",
       "        vertical-align: top;\n",
       "    }\n",
       "\n",
       "    .dataframe thead th {\n",
       "        text-align: right;\n",
       "    }\n",
       "</style>\n",
       "<table border=\"1\" class=\"dataframe\">\n",
       "  <thead>\n",
       "    <tr style=\"text-align: right;\">\n",
       "      <th></th>\n",
       "      <th>latitude</th>\n",
       "      <th>longitude</th>\n",
       "      <th>price_per_square_py</th>\n",
       "      <th>py</th>\n",
       "      <th>dist_from_station</th>\n",
       "      <th>rea_val</th>\n",
       "    </tr>\n",
       "  </thead>\n",
       "  <tbody>\n",
       "    <tr>\n",
       "      <th>772</th>\n",
       "      <td>37.161852</td>\n",
       "      <td>126.917406</td>\n",
       "      <td>3564.856667</td>\n",
       "      <td>40</td>\n",
       "      <td>1593.663253</td>\n",
       "      <td>142594.266660</td>\n",
       "    </tr>\n",
       "    <tr>\n",
       "      <th>773</th>\n",
       "      <td>37.288945</td>\n",
       "      <td>127.118062</td>\n",
       "      <td>3072.810919</td>\n",
       "      <td>24</td>\n",
       "      <td>1803.257080</td>\n",
       "      <td>73747.462061</td>\n",
       "    </tr>\n",
       "    <tr>\n",
       "      <th>774</th>\n",
       "      <td>37.234408</td>\n",
       "      <td>126.745186</td>\n",
       "      <td>2491.714188</td>\n",
       "      <td>61</td>\n",
       "      <td>1346.821965</td>\n",
       "      <td>151994.565484</td>\n",
       "    </tr>\n",
       "    <tr>\n",
       "      <th>775</th>\n",
       "      <td>37.294494</td>\n",
       "      <td>127.185185</td>\n",
       "      <td>1746.372819</td>\n",
       "      <td>40</td>\n",
       "      <td>1461.672552</td>\n",
       "      <td>69854.912763</td>\n",
       "    </tr>\n",
       "    <tr>\n",
       "      <th>776</th>\n",
       "      <td>37.004345</td>\n",
       "      <td>127.107611</td>\n",
       "      <td>1667.553347</td>\n",
       "      <td>32</td>\n",
       "      <td>1377.100866</td>\n",
       "      <td>53361.707088</td>\n",
       "    </tr>\n",
       "  </tbody>\n",
       "</table>\n",
       "</div>"
      ],
      "text/plain": [
       "      latitude   longitude  price_per_square_py  py  dist_from_station  \\\n",
       "772  37.161852  126.917406          3564.856667  40        1593.663253   \n",
       "773  37.288945  127.118062          3072.810919  24        1803.257080   \n",
       "774  37.234408  126.745186          2491.714188  61        1346.821965   \n",
       "775  37.294494  127.185185          1746.372819  40        1461.672552   \n",
       "776  37.004345  127.107611          1667.553347  32        1377.100866   \n",
       "\n",
       "           rea_val  \n",
       "772  142594.266660  \n",
       "773   73747.462061  \n",
       "774  151994.565484  \n",
       "775   69854.912763  \n",
       "776   53361.707088  "
      ]
     },
     "execution_count": 148,
     "metadata": {},
     "output_type": "execute_result"
    }
   ],
   "source": [
    "df1_real.drop('apt_code',axis=1, inplace=True)\n",
    "df1_real.tail()"
   ]
  },
  {
   "cell_type": "code",
   "execution_count": 149,
   "id": "3d6c81a7",
   "metadata": {},
   "outputs": [],
   "source": [
    "from sklearn.linear_model import LinearRegression  \n",
    "from sklearn.model_selection import train_test_split"
   ]
  },
  {
   "attachments": {},
   "cell_type": "markdown",
   "id": "17476636",
   "metadata": {},
   "source": [
    "👉 데이터셋 분리\n",
    "\n",
    "일변일 경우에도 리스트로 전달  :  X = df1_real[['latitude']]"
   ]
  },
  {
   "cell_type": "code",
   "execution_count": 150,
   "id": "b909be59",
   "metadata": {},
   "outputs": [],
   "source": [
    "# 독립변수 \n",
    "X = df1_real[['latitude','longitude','price_per_square_py','dist_from_station','py']]\n",
    "\n",
    "# 종속변수\n",
    "y = df1_real['rea_val']"
   ]
  },
  {
   "cell_type": "code",
   "execution_count": 151,
   "id": "1e5034a6",
   "metadata": {},
   "outputs": [],
   "source": [
    "X_train, X_test, y_train, y_test = train_test_split(X,y,test_size=2/30, random_state=229)"
   ]
  },
  {
   "attachments": {},
   "cell_type": "markdown",
   "id": "b4f3d19d",
   "metadata": {},
   "source": [
    "단계 3 : Train Set으로 LinearRegression 모델을 학습하고, Test Set에 적용한다.   \n",
    "이 때, 절편을 포함한 경우와 포함하지 않은 경우 각각에 대하여 수행한다.  \n",
    "  \n",
    "            - 독립 변수(총 5개) : 시공사 코드(apt_code)와 총 가격을 제외한 모든 컬럼  \n",
    "            - 종속 변수 : 실제 가격  \n",
    "\n",
    "단계 3에서 학습한 각 모델에 대하여 예측 결과를 아래 정의된 Measure M으로 계산하였을 때 가장 큰 값은?  \n",
    "$$ M = \\biggl(\\frac{1}{n} \\sum_{i=1}^{n}{(y_i - \\hat{y_i})^2}\\biggr), \\quad \\hat{y_i}: 예측값, y_i: 실제값 $$\n",
    "\n",
    "※ 정답은 반올림하여 소수점 둘째 자리까지 출력하시오.\n",
    "(정답 예시: 2.29)"
   ]
  },
  {
   "attachments": {},
   "cell_type": "markdown",
   "id": "110a2b13",
   "metadata": {},
   "source": [
    "👉 (다중) 선형 회기"
   ]
  },
  {
   "cell_type": "code",
   "execution_count": 152,
   "id": "cd54b9da",
   "metadata": {},
   "outputs": [
    {
     "data": {
      "text/plain": [
       "array([ 71537.06357488,  37200.1213293 ,  35494.01255878,  70471.6408111 ,\n",
       "        66383.60406998,  75463.1405433 ,  78045.00045754,  58905.29454575,\n",
       "        65828.22622791,  75100.79955153, 106680.98678017,  78651.20939828,\n",
       "        61362.85360125,  32623.15234517,  61709.96732249,  36039.69474832,\n",
       "        61505.47616961,  72107.82903833,  45400.45765664,  68439.60425606,\n",
       "        72205.20891592,  77442.4900336 , 126070.02549163,  71156.01035643,\n",
       "        76937.07422418,  80012.34903584,  58971.82398002,  36522.59704217,\n",
       "        54186.30516848,  51968.30500402,  96691.9974597 , 107056.99700545,\n",
       "        56149.37950605,  40722.00357319, 155673.66616875,  46700.36282707,\n",
       "        31876.42694448, 100071.39018113,  38681.4786977 ,  79690.50844088,\n",
       "        28663.71183769,  50830.05911825,  69194.33878661,  50121.74747649,\n",
       "        64424.35592352,  68546.3237267 ,  96880.62501702,  95966.21995102,\n",
       "        68226.19396395,  32537.41804298,  30538.15639693,  76144.92179301])"
      ]
     },
     "execution_count": 152,
     "metadata": {},
     "output_type": "execute_result"
    }
   ],
   "source": [
    "real_reg_mo = LinearRegression()\n",
    "real_reg_mo.fit(X_train, y_train)\n",
    "y_pred = real_reg_mo.predict(X_test)\n",
    "y_pred"
   ]
  },
  {
   "cell_type": "code",
   "execution_count": 153,
   "id": "c909bcd5",
   "metadata": {},
   "outputs": [
    {
     "data": {
      "text/plain": [
       "array([ 71427.99389131,  37340.94086899,  35672.38701553,  70390.85330768,\n",
       "        66588.3801655 ,  75637.33514206,  78237.96205798,  58891.31154552,\n",
       "        65824.19984416,  75062.4501454 , 106588.90904681,  78579.09045147,\n",
       "        61516.43389792,  32522.31680278,  61548.54917857,  35972.70060157,\n",
       "        61599.41435747,  72075.78054911,  45387.05849864,  68426.17098315,\n",
       "        72201.54983459,  77219.27325969, 125996.43040523,  71214.61840311,\n",
       "        76707.17492305,  79711.06928229,  58740.54046661,  36453.66058087,\n",
       "        54334.38241459,  51921.43732011,  96589.6611447 , 107070.36789877,\n",
       "        56117.52136343,  40769.72426759, 155806.03911506,  46767.95139621,\n",
       "        31790.48903619, 100418.15476958,  38810.68756198,  79864.38542935,\n",
       "        28337.99968621,  50653.12697544,  69400.8622678 ,  49904.75210801,\n",
       "        64288.85849315,  68427.96624782,  96788.24991984,  95832.33827934,\n",
       "        68329.45721146,  32608.21481703,  30683.22262999,  76166.93103478])"
      ]
     },
     "execution_count": 153,
     "metadata": {},
     "output_type": "execute_result"
    }
   ],
   "source": [
    "# 절편이 없는 경우 \n",
    "\n",
    "real_reg_mo_nointer = LinearRegression(fit_intercept=False)\n",
    "real_reg_mo_nointer.fit(X_train, y_train)\n",
    "y_pred_nointer= real_reg_mo_nointer.predict(X_test)\n",
    "y_pred_nointer"
   ]
  },
  {
   "cell_type": "code",
   "execution_count": 154,
   "id": "47f932ae",
   "metadata": {},
   "outputs": [
    {
     "data": {
      "text/plain": [
       "19007465.67489541"
      ]
     },
     "execution_count": 154,
     "metadata": {},
     "output_type": "execute_result"
    }
   ],
   "source": [
    "# 절편이 없는 겨우, MSE 의 실제 계산\n",
    "res = (((y_pred_nointer - y_test)**2).mean())\n",
    "res"
   ]
  },
  {
   "attachments": {},
   "cell_type": "markdown",
   "id": "56a32386",
   "metadata": {},
   "source": [
    "- coefficient 의 의미"
   ]
  },
  {
   "cell_type": "code",
   "execution_count": 155,
   "id": "b1b112fe",
   "metadata": {},
   "outputs": [
    {
     "data": {
      "text/plain": [
       "array([-6.47134835e+02,  8.80496226e+02,  3.50347152e+01,  8.10706193e-01,\n",
       "        2.21214720e+03])"
      ]
     },
     "execution_count": 155,
     "metadata": {},
     "output_type": "execute_result"
    }
   ],
   "source": [
    "real_reg_mo.coef_\n",
    "\n",
    "# 'latitude','longitude','price_per_square_py','dist_from_station','py' 에 대한 기울기."
   ]
  },
  {
   "cell_type": "code",
   "execution_count": 156,
   "id": "daef85da",
   "metadata": {},
   "outputs": [
    {
     "data": {
      "text/plain": [
       "-166330.05711401108"
      ]
     },
     "execution_count": 156,
     "metadata": {},
     "output_type": "execute_result"
    }
   ],
   "source": [
    "real_reg_mo.intercept_"
   ]
  },
  {
   "attachments": {},
   "cell_type": "markdown",
   "id": "d8bb6a0d",
   "metadata": {},
   "source": [
    "### 👉 (다중) 회귀모델 평가\n",
    "1. MAE (Mean Absolute Error) : (실제값과 예측값) 차이의 절대값\n",
    "2. MSE (Mean SquareEd Error) : 차이의 제곱\n",
    "3. RMSE (Root Mean Squared Error) : 차이의 제곱의 루트\n",
    "4. R2 : 결정계수  (1 - SSE/SST)\n",
    "    \n",
    "> R2 는 1에 가까울수록, 나머지는 0에 가까울수록 좋음"
   ]
  },
  {
   "cell_type": "code",
   "execution_count": 157,
   "id": "c6c279be",
   "metadata": {},
   "outputs": [
    {
     "data": {
      "text/plain": [
       "0.953888849310125"
      ]
     },
     "execution_count": 157,
     "metadata": {},
     "output_type": "execute_result"
    }
   ],
   "source": [
    "# 훈련 데이터 평가\n",
    "real_reg_mo.score(X_train,y_train)"
   ]
  },
  {
   "cell_type": "code",
   "execution_count": 158,
   "id": "adf2e5b5",
   "metadata": {},
   "outputs": [
    {
     "data": {
      "text/plain": [
       "0.9689589651349588"
      ]
     },
     "execution_count": 158,
     "metadata": {},
     "output_type": "execute_result"
    }
   ],
   "source": [
    "# 테스트 데이터 평가\n",
    "real_reg_mo.score(X_test,y_test)"
   ]
  },
  {
   "attachments": {},
   "cell_type": "markdown",
   "id": "9f968e2d",
   "metadata": {},
   "source": [
    "1. MAE"
   ]
  },
  {
   "cell_type": "code",
   "execution_count": 159,
   "id": "7d60655f",
   "metadata": {},
   "outputs": [
    {
     "data": {
      "text/plain": [
       "3234.468890751362"
      ]
     },
     "execution_count": 159,
     "metadata": {},
     "output_type": "execute_result"
    }
   ],
   "source": [
    "from sklearn.metrics import mean_absolute_error\n",
    "mean_absolute_error(y_test, y_pred)\n",
    "\n",
    "# y_test : 실제값\n",
    "# y_pred : 모델로 예측한 값"
   ]
  },
  {
   "attachments": {},
   "cell_type": "markdown",
   "id": "b0032613",
   "metadata": {},
   "source": [
    "2. MSE"
   ]
  },
  {
   "cell_type": "code",
   "execution_count": 160,
   "id": "7acc5e62",
   "metadata": {},
   "outputs": [
    {
     "data": {
      "text/plain": [
       "19007139.276858058"
      ]
     },
     "execution_count": 160,
     "metadata": {},
     "output_type": "execute_result"
    }
   ],
   "source": [
    "from sklearn.metrics import mean_squared_error\n",
    "mean_squared_error(y_test,y_pred)"
   ]
  },
  {
   "cell_type": "code",
   "execution_count": 161,
   "id": "e9d5e55c",
   "metadata": {},
   "outputs": [
    {
     "data": {
      "text/plain": [
       "19007465.67489541"
      ]
     },
     "execution_count": 161,
     "metadata": {},
     "output_type": "execute_result"
    }
   ],
   "source": [
    "# 절편이 없는 경우\n",
    "mean_squared_error(y_test,y_pred_nointer)\n",
    "\n",
    "# 실제 계산 값 46159607.7447345 과 동일"
   ]
  },
  {
   "attachments": {},
   "cell_type": "markdown",
   "id": "81b33165",
   "metadata": {},
   "source": [
    "3. RMSE"
   ]
  },
  {
   "cell_type": "code",
   "execution_count": 162,
   "id": "8cade064",
   "metadata": {},
   "outputs": [
    {
     "data": {
      "text/plain": [
       "4359.7177978463305"
      ]
     },
     "execution_count": 162,
     "metadata": {},
     "output_type": "execute_result"
    }
   ],
   "source": [
    "from sklearn.metrics import mean_squared_error\n",
    "mean_squared_error(y_test, y_pred, squared =False)"
   ]
  },
  {
   "attachments": {},
   "cell_type": "markdown",
   "id": "47db4453",
   "metadata": {},
   "source": [
    "4. R2 \n",
    "\n",
    "** 결과 값이 model.score(X_test, y_test) 와 같다. **"
   ]
  },
  {
   "cell_type": "code",
   "execution_count": 163,
   "id": "83642b16",
   "metadata": {},
   "outputs": [
    {
     "data": {
      "text/plain": [
       "0.9689589651349588"
      ]
     },
     "execution_count": 163,
     "metadata": {},
     "output_type": "execute_result"
    }
   ],
   "source": [
    "from sklearn.metrics import r2_score\n",
    "r2_score(y_test,y_pred)"
   ]
  }
 ],
 "metadata": {
  "kernelspec": {
   "display_name": "Python 3.7.6 64-bit ('3.7.6')",
   "language": "python",
   "name": "python3"
  },
  "language_info": {
   "codemirror_mode": {
    "name": "ipython",
    "version": 3
   },
   "file_extension": ".py",
   "mimetype": "text/x-python",
   "name": "python",
   "nbconvert_exporter": "python",
   "pygments_lexer": "ipython3",
   "version": "3.7.6"
  },
  "vscode": {
   "interpreter": {
    "hash": "162ceaf09f938773ad028a3a2ad644135fdbb6560e1ade87eeac244d09a7763d"
   }
  }
 },
 "nbformat": 4,
 "nbformat_minor": 5
}
