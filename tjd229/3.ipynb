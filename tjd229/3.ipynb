{
 "cells": [
  {
   "attachments": {},
   "cell_type": "markdown",
   "id": "9dd0d4a1",
   "metadata": {},
   "source": [
    "## 내 집 마련을 위해, 서울 아파트 매물 데이터를 이용하여 구매 전략을 세우고자 한다."
   ]
  },
  {
   "attachments": {},
   "cell_type": "markdown",
   "id": "7e3f7408",
   "metadata": {},
   "source": [
    "real_estate.csv\n",
    "\n",
    "|컬럼|정의|type|\n",
    "|:---|:---|:---:|\n",
    "|latitude|위도|float64|\n",
    "|longitude|경도|float64|\n",
    "|price_per_square_py|평당가|float64|\n",
    "|py|평수|int64|\n",
    "|apt_code|시공사 코드(길이5 알파벳 대문자)|object|\n",
    "|dist_from_station|인근 지하철역과의 거리|float64|  \n",
    "\n",
    "정답 및 해설 : https://tjd229.tistory.com/22"
   ]
  },
  {
   "cell_type": "code",
   "execution_count": 2,
   "id": "0a87c9cd",
   "metadata": {},
   "outputs": [],
   "source": [
    "import numpy as np\n",
    "import pandas as pd\n",
    "\n",
    "df = pd.read_csv('../content/tjd229/real_estate.csv')"
   ]
  },
  {
   "attachments": {},
   "cell_type": "markdown",
   "id": "b9665581",
   "metadata": {},
   "source": [
    "### Q1. 시공사별 아파트 평수의 평균을 구하려고 한다. 다음 단계에 따라 분석을 수행하고 질문에 답하시오.\n",
    "\n",
    "단계 1 : 데이터의 첫 번째 행부터 열 번째 행까지의 시공사 코드(apt_code) 리스트를 저장한다. 첫 번째 행의 데이터는 위도, 경도, 평당가, 평수, 시공사 코드, 인근 지하철역과의 거리가 각각 37.125541, 126.913776, 2860.053787, 24, GEDAE, 1588.406226이다.  \n",
    "단계 2 : 시공사 코드(apt_code)가 단계 1에서 구한 리스트에 포함되어 있는 데이터를 전부 제거한다.  \n",
    "단계 3 : 시공사 코드(apt_code)별 평수 평균을 구하고 그 중 가장 큰 값을 구하시오  \n",
    "\n",
    "※ 정답은 반올림하여 소수점 둘째 자리까지 출력하시오.\n",
    "(정답 예시: 2.29)"
   ]
  },
  {
   "cell_type": "code",
   "execution_count": 4,
   "id": "9f0afb95",
   "metadata": {},
   "outputs": [
    {
     "data": {
      "text/html": [
       "<div>\n",
       "<style scoped>\n",
       "    .dataframe tbody tr th:only-of-type {\n",
       "        vertical-align: middle;\n",
       "    }\n",
       "\n",
       "    .dataframe tbody tr th {\n",
       "        vertical-align: top;\n",
       "    }\n",
       "\n",
       "    .dataframe thead th {\n",
       "        text-align: right;\n",
       "    }\n",
       "</style>\n",
       "<table border=\"1\" class=\"dataframe\">\n",
       "  <thead>\n",
       "    <tr style=\"text-align: right;\">\n",
       "      <th></th>\n",
       "      <th>latitude</th>\n",
       "      <th>longitude</th>\n",
       "      <th>price_per_square_py</th>\n",
       "      <th>py</th>\n",
       "      <th>apt_code</th>\n",
       "      <th>dist_from_station</th>\n",
       "    </tr>\n",
       "  </thead>\n",
       "  <tbody>\n",
       "    <tr>\n",
       "      <th>0</th>\n",
       "      <td>37.125541</td>\n",
       "      <td>126.913776</td>\n",
       "      <td>2860.053787</td>\n",
       "      <td>24</td>\n",
       "      <td>GEDAE</td>\n",
       "      <td>1588.406226</td>\n",
       "    </tr>\n",
       "    <tr>\n",
       "      <th>1</th>\n",
       "      <td>37.223169</td>\n",
       "      <td>127.026913</td>\n",
       "      <td>1715.073163</td>\n",
       "      <td>59</td>\n",
       "      <td>IHEAD</td>\n",
       "      <td>986.146800</td>\n",
       "    </tr>\n",
       "    <tr>\n",
       "      <th>2</th>\n",
       "      <td>37.239029</td>\n",
       "      <td>126.906303</td>\n",
       "      <td>1780.604630</td>\n",
       "      <td>57</td>\n",
       "      <td>FHIBJ</td>\n",
       "      <td>1492.514512</td>\n",
       "    </tr>\n",
       "    <tr>\n",
       "      <th>3</th>\n",
       "      <td>37.274433</td>\n",
       "      <td>126.737771</td>\n",
       "      <td>1508.814336</td>\n",
       "      <td>42</td>\n",
       "      <td>JBCIJ</td>\n",
       "      <td>1621.602866</td>\n",
       "    </tr>\n",
       "    <tr>\n",
       "      <th>4</th>\n",
       "      <td>37.082670</td>\n",
       "      <td>127.143634</td>\n",
       "      <td>2933.930488</td>\n",
       "      <td>32</td>\n",
       "      <td>EDJCI</td>\n",
       "      <td>945.034519</td>\n",
       "    </tr>\n",
       "    <tr>\n",
       "      <th>5</th>\n",
       "      <td>37.295509</td>\n",
       "      <td>126.825066</td>\n",
       "      <td>1698.052341</td>\n",
       "      <td>32</td>\n",
       "      <td>EHCAD</td>\n",
       "      <td>1565.151207</td>\n",
       "    </tr>\n",
       "    <tr>\n",
       "      <th>6</th>\n",
       "      <td>37.091887</td>\n",
       "      <td>127.124485</td>\n",
       "      <td>1511.888500</td>\n",
       "      <td>24</td>\n",
       "      <td>HEBIA</td>\n",
       "      <td>1212.276382</td>\n",
       "    </tr>\n",
       "    <tr>\n",
       "      <th>7</th>\n",
       "      <td>37.033688</td>\n",
       "      <td>126.996547</td>\n",
       "      <td>1566.233341</td>\n",
       "      <td>24</td>\n",
       "      <td>HEBIA</td>\n",
       "      <td>1550.428144</td>\n",
       "    </tr>\n",
       "    <tr>\n",
       "      <th>8</th>\n",
       "      <td>37.091141</td>\n",
       "      <td>126.978800</td>\n",
       "      <td>3503.553895</td>\n",
       "      <td>24</td>\n",
       "      <td>IIGFI</td>\n",
       "      <td>1656.802969</td>\n",
       "    </tr>\n",
       "    <tr>\n",
       "      <th>9</th>\n",
       "      <td>37.185720</td>\n",
       "      <td>126.876660</td>\n",
       "      <td>3149.065212</td>\n",
       "      <td>24</td>\n",
       "      <td>FHIBJ</td>\n",
       "      <td>1746.977072</td>\n",
       "    </tr>\n",
       "  </tbody>\n",
       "</table>\n",
       "</div>"
      ],
      "text/plain": [
       "    latitude   longitude  price_per_square_py  py apt_code  dist_from_station\n",
       "0  37.125541  126.913776          2860.053787  24    GEDAE        1588.406226\n",
       "1  37.223169  127.026913          1715.073163  59    IHEAD         986.146800\n",
       "2  37.239029  126.906303          1780.604630  57    FHIBJ        1492.514512\n",
       "3  37.274433  126.737771          1508.814336  42    JBCIJ        1621.602866\n",
       "4  37.082670  127.143634          2933.930488  32    EDJCI         945.034519\n",
       "5  37.295509  126.825066          1698.052341  32    EHCAD        1565.151207\n",
       "6  37.091887  127.124485          1511.888500  24    HEBIA        1212.276382\n",
       "7  37.033688  126.996547          1566.233341  24    HEBIA        1550.428144\n",
       "8  37.091141  126.978800          3503.553895  24    IIGFI        1656.802969\n",
       "9  37.185720  126.876660          3149.065212  24    FHIBJ        1746.977072"
      ]
     },
     "execution_count": 4,
     "metadata": {},
     "output_type": "execute_result"
    }
   ],
   "source": [
    "df1 = df.copy()\n",
    "df1.head(10)"
   ]
  },
  {
   "attachments": {},
   "cell_type": "markdown",
   "id": "3ae2a4b2",
   "metadata": {},
   "source": [
    "### Q2. 아파트 매물을 분석하기 위해 군집화를 하려고 한다. 다음 단계에 따라 분석을 수행하고 질문에 답하시오.\n",
    "\n",
    "\n",
    "단계 1 : 독립 변수들에 대해 K-means 군집 분석을 수행한다. 이 때, 군집 수는 2~9개 중 K-means Silhouette 를 통해 구하고, 이 중 첫번째로 높은 score를 최적의 K로 설정한다.  \n",
    "            - 독립 변수(총 5개) : 시공사 코드(apt_code)를 제외한 모든 컬럼  \n",
    "\n",
    "단계 2 : 단계 1에서 최적의 K로 도출한 각 군집의 비율 중, 가장 큰 값을 구하시오  \n",
    "\n",
    "※ 정답은 올림하여 소수점 둘째 자리까지 출력하시오.\n",
    "(정답 예시: 2.29)"
   ]
  },
  {
   "cell_type": "code",
   "execution_count": null,
   "id": "5f75991b",
   "metadata": {},
   "outputs": [],
   "source": []
  },
  {
   "attachments": {},
   "cell_type": "markdown",
   "id": "db0c31dd",
   "metadata": {},
   "source": [
    "#### 필요 라이브러리 함수,클래스 및 설정값 목록  \n",
    "\n",
    "\n",
    "from sklearn.cluster import KMeans  \n",
    "from sklearn.metrics import silhouette_score    \n",
    "random_state = 229  \n",
    "문제 지시 외 Default 값 사용  "
   ]
  },
  {
   "cell_type": "code",
   "execution_count": null,
   "id": "d81a3da1",
   "metadata": {},
   "outputs": [],
   "source": []
  },
  {
   "attachments": {},
   "cell_type": "markdown",
   "id": "d1a65143",
   "metadata": {},
   "source": [
    "### Q3. 아파트 가격을 예측하는 모델을 만드려고 한다. 다음 단계에 따라 분석을 수행하고 질문에 답하시오.\n",
    "\n",
    "단계 1 : 평당가(price_per_square_py)와 평수(py)를 곱하여 실제 가격 변수를 생성한다.  \n",
    "단계 2 : Train Set과 Test Set을 28/30:2/30 비율로 나눈다.  \n",
    "단계 3 : Train Set으로 LinearRegression 모델을 학습하고, Test Set에 적용한다. 이 때, 절편을 포함한 경우와 포함하지 않은 경우 각각에 대하여 수행한다.  \n",
    "            - 독립 변수(총 5개) : 시공사 코드(apt_code)와 총 가격을 제외한 모든 컬럼  \n",
    "            - 종속 변수 : 실제 가격  \n",
    "\n",
    "단계 3에서 학습한 각 모델에 대하여 예측 결과를 아래 정의된 Measure M으로 계산하였을 때 가장 큰 값은?  \n",
    "$$ M = \\biggl(\\frac{1}{n} \\sum_{i=1}^{n}{(y_i - \\hat{y_i})^2}\\biggr), \\quad \\hat{y_i}: 예측값, y_i: 실제값 $$\n",
    "\n",
    "※ 정답은 반올림하여 소수점 둘째 자리까지 출력하시오.\n",
    "(정답 예시: 2.29)"
   ]
  },
  {
   "cell_type": "code",
   "execution_count": null,
   "id": "c6c279be",
   "metadata": {},
   "outputs": [],
   "source": []
  },
  {
   "attachments": {},
   "cell_type": "markdown",
   "id": "07bd0065",
   "metadata": {},
   "source": [
    "#### 필요 라이브러리 함수,클래스 및 설정값 목록  \n",
    "\n",
    "\n",
    "from sklearn.linear_model import LinearRegression  \n",
    "from sklearn.model_selection import train_test_split  \n",
    "모든 random_state = 229  \n",
    "문제 지시 외 Default 값 사용  "
   ]
  }
 ],
 "metadata": {
  "kernelspec": {
   "display_name": "Python 3.7.6 64-bit ('3.7.6')",
   "language": "python",
   "name": "python3"
  },
  "language_info": {
   "codemirror_mode": {
    "name": "ipython",
    "version": 3
   },
   "file_extension": ".py",
   "mimetype": "text/x-python",
   "name": "python",
   "nbconvert_exporter": "python",
   "pygments_lexer": "ipython3",
   "version": "3.7.6"
  },
  "vscode": {
   "interpreter": {
    "hash": "162ceaf09f938773ad028a3a2ad644135fdbb6560e1ade87eeac244d09a7763d"
   }
  }
 },
 "nbformat": 4,
 "nbformat_minor": 5
}
