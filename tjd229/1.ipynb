{
 "cells": [
  {
   "attachments": {},
   "cell_type": "markdown",
   "id": "b6bb781e",
   "metadata": {},
   "source": [
    "## 모의고사 1\n",
    " 학원 규모가 커지면서 시스템을 확장하려 한다. 확장 전 학원의 등록된 학생들의 주요 정보를 파악하려 한다."
   ]
  },
  {
   "attachments": {},
   "cell_type": "markdown",
   "id": "3d916d11",
   "metadata": {},
   "source": [
    "### 사전 정보\n",
    "enrollment_info.csv\n",
    "\n",
    "|컬럼|정의|type|\n",
    "|:---|:---|:---:|\n",
    "|enrollment_code|학생 등록 코드(길이6 알파벳 대문자)|object|\n",
    "|gender|여자면 F, 남자면 M|object|\n",
    "|bonus|상점|float64|\n",
    "|penalty|벌점|float64|\n",
    "|school_code|소속 학교 코드|object|  \n",
    "\n",
    "정답 및 해설 : https://tjd229.tistory.com/20"
   ]
  },
  {
   "cell_type": "code",
   "execution_count": 32,
   "id": "2b858d97",
   "metadata": {},
   "outputs": [],
   "source": [
    "import numpy as np\n",
    "import pandas as pd\n"
   ]
  },
  {
   "cell_type": "code",
   "execution_count": 33,
   "id": "b954913c",
   "metadata": {},
   "outputs": [
    {
     "name": "stdout",
     "output_type": "stream",
     "text": [
      "enrollment_code     object\n",
      "gender              object\n",
      "bonus              float64\n",
      "penalty            float64\n",
      "school_code         object\n",
      "dtype: object\n",
      "(86550, 5)\n"
     ]
    },
    {
     "data": {
      "text/html": [
       "<div>\n",
       "<style scoped>\n",
       "    .dataframe tbody tr th:only-of-type {\n",
       "        vertical-align: middle;\n",
       "    }\n",
       "\n",
       "    .dataframe tbody tr th {\n",
       "        vertical-align: top;\n",
       "    }\n",
       "\n",
       "    .dataframe thead th {\n",
       "        text-align: right;\n",
       "    }\n",
       "</style>\n",
       "<table border=\"1\" class=\"dataframe\">\n",
       "  <thead>\n",
       "    <tr style=\"text-align: right;\">\n",
       "      <th></th>\n",
       "      <th>enrollment_code</th>\n",
       "      <th>gender</th>\n",
       "      <th>bonus</th>\n",
       "      <th>penalty</th>\n",
       "      <th>school_code</th>\n",
       "    </tr>\n",
       "  </thead>\n",
       "  <tbody>\n",
       "    <tr>\n",
       "      <th>0</th>\n",
       "      <td>QEHRNZ</td>\n",
       "      <td>F</td>\n",
       "      <td>0.0</td>\n",
       "      <td>0.0</td>\n",
       "      <td>SWHS</td>\n",
       "    </tr>\n",
       "    <tr>\n",
       "      <th>1</th>\n",
       "      <td>IUGTFR</td>\n",
       "      <td>F</td>\n",
       "      <td>1.6</td>\n",
       "      <td>0.0</td>\n",
       "      <td>PYHS</td>\n",
       "    </tr>\n",
       "    <tr>\n",
       "      <th>2</th>\n",
       "      <td>PWJCQA</td>\n",
       "      <td>M</td>\n",
       "      <td>0.0</td>\n",
       "      <td>0.0</td>\n",
       "      <td>NKHS</td>\n",
       "    </tr>\n",
       "    <tr>\n",
       "      <th>3</th>\n",
       "      <td>ZYFHCX</td>\n",
       "      <td>F</td>\n",
       "      <td>5.5</td>\n",
       "      <td>0.0</td>\n",
       "      <td>NKHS</td>\n",
       "    </tr>\n",
       "    <tr>\n",
       "      <th>4</th>\n",
       "      <td>KIBAHX</td>\n",
       "      <td>M</td>\n",
       "      <td>0.6</td>\n",
       "      <td>0.0</td>\n",
       "      <td>MWHS</td>\n",
       "    </tr>\n",
       "  </tbody>\n",
       "</table>\n",
       "</div>"
      ],
      "text/plain": [
       "  enrollment_code gender  bonus  penalty school_code\n",
       "0          QEHRNZ      F    0.0      0.0        SWHS\n",
       "1          IUGTFR      F    1.6      0.0        PYHS\n",
       "2          PWJCQA      M    0.0      0.0        NKHS\n",
       "3          ZYFHCX      F    5.5      0.0        NKHS\n",
       "4          KIBAHX      M    0.6      0.0        MWHS"
      ]
     },
     "execution_count": 33,
     "metadata": {},
     "output_type": "execute_result"
    }
   ],
   "source": [
    "df = pd.read_csv(\"../content/tjd229/enrollment_info.csv\")\n",
    "print(df.dtypes)\n",
    "print(df.shape)\n",
    "df.head()"
   ]
  },
  {
   "attachments": {},
   "cell_type": "markdown",
   "id": "29749938",
   "metadata": {},
   "source": [
    "### Q1. 다음 단계에 따라 분석을 수행하고 질문에 답하시오.\n",
    "단계 1 : 각 학생들의 상점(bonus)에서 벌점(penalty)을 뺀 값을 합계 점수로 정의한다.  \n",
    "단계 2 : 각 학교 코드(school_code)별 합계 점수 평균을 구하고, 이 중 3번째로 큰 값을 A라고 한다.  \n",
    "단계 3 : 0미만의 합계 점수는 0으로 변경 후, 각 학교 코드(school_code)별 합계 점수 평균을 구하고, 이 중 3번째로 큰 값을 B라고 한다.  \n",
    "\n",
    "단계 2에서 구한 A와 단계 3에서 구한 B의 절대값 차이를 구하시오  \n",
    "※ 결과는 반올림하여 소수점 첫째 자리까지 기술하시오. (답안예시 : 22.9)\n"
   ]
  },
  {
   "cell_type": "code",
   "execution_count": 34,
   "id": "f8408d1d",
   "metadata": {},
   "outputs": [
    {
     "data": {
      "text/plain": [
       "1.8854451935775354"
      ]
     },
     "execution_count": 34,
     "metadata": {},
     "output_type": "execute_result"
    }
   ],
   "source": [
    "df1 = df.copy()\n",
    "df1['total'] = df1['bonus'] - df1.penalty\n",
    "\n",
    "A = df1.groupby('school_code').total.mean().sort_values(ascending=False)[2]     # .iat[2,] 와 같다. \n",
    "A\n",
    "\n"
   ]
  },
  {
   "cell_type": "code",
   "execution_count": 35,
   "id": "42de102f",
   "metadata": {},
   "outputs": [
    {
     "data": {
      "text/plain": [
       "Index(['HJHS', 'MWHS', 'NKHS', 'PYHS', 'SSHS', 'SWHS'], dtype='object', name='school_code')"
      ]
     },
     "execution_count": 35,
     "metadata": {},
     "output_type": "execute_result"
    }
   ],
   "source": [
    "df1.groupby('school_code').total.mean().index\n",
    "\n",
    "# groupby 된 column 명으로 index가 생성된다. "
   ]
  },
  {
   "cell_type": "code",
   "execution_count": 36,
   "id": "217ee012",
   "metadata": {},
   "outputs": [
    {
     "name": "stdout",
     "output_type": "stream",
     "text": [
      "7678\n",
      "(0, 6)\n"
     ]
    }
   ],
   "source": [
    "\n",
    "print(df1.loc[df1['total']<0,:].total.count())\n",
    "\n",
    "df1.loc[df1['total']<0, 'total'] = 0\n",
    "# df1['total'] = np.where(df1['total']<0, 0, df1['total'] )\n",
    "\n",
    "print(df1[df1['total']<0].shape)\n",
    "\n",
    "B = df1.groupby('school_code').total.mean().sort_values(ascending=False)[2]  # .iat[2,] 와 같다.\n"
   ]
  },
  {
   "cell_type": "code",
   "execution_count": 37,
   "id": "93e08928",
   "metadata": {},
   "outputs": [
    {
     "data": {
      "text/plain": [
       "0.1"
      ]
     },
     "execution_count": 37,
     "metadata": {},
     "output_type": "execute_result"
    }
   ],
   "source": [
    "abs(A-B).round(1)"
   ]
  },
  {
   "attachments": {},
   "cell_type": "markdown",
   "id": "b86b45ec",
   "metadata": {},
   "source": [
    "### Q2. 데이터에는 총 6종류의 학교 코드(school_code)가 있다. 학생들의 등록 코드(enrollment_code)에 학교 코드(school_code)가 포함되어 있는 경우, 시스템에 문제가 발생할 수 있어, 이를 사전에 방지하고자 한다. 등록 코드(enrollment_code)에 학교 코드(school_code)가 포함되어 있는 학생들의 수 총합을 구하시오\n",
    "\n",
    "\n",
    "※ 학교 코드(school_code)가 **ZXCV**일 때, 등록 코드(enrollment_code)가 **ZXCV**AB, A**ZXCV**B, CD**ZXCV** 등의 경우는 등록 코드(enrollment_code)에 학교 코드(school_code)가 포함되어 있다고 본다.  \n",
    "※ 학교 코드(school_code)가 **ZXCV**일 때, 등록 코드(enrollment_code)가 **ZX**AB**CV**의 경우는 등록 코드(enrollment_code)에 학교 코드(school_code)가 포함되어 있다고 보지 않는다.  \n",
    "\n"
   ]
  },
  {
   "attachments": {},
   "cell_type": "markdown",
   "id": "9eb01aa7",
   "metadata": {},
   "source": [
    "👉  df.series.str.contains()"
   ]
  },
  {
   "cell_type": "code",
   "execution_count": 38,
   "id": "50280c43",
   "metadata": {},
   "outputs": [
    {
     "name": "stdout",
     "output_type": "stream",
     "text": [
      "3\n",
      "<class 'pandas.core.series.Series'>\n"
     ]
    }
   ],
   "source": [
    "df2 = df.copy()\n",
    "\n",
    "schools = df2['school_code'].unique().tolist()\n",
    "ans = 0\n",
    "\n",
    "\n",
    "for name in schools:\n",
    "    mask = df2['enrollment_code'].str.contains(name)     # 유닉크한 school_code (6개) * enrollment_code의 모든 row (Serise) -> boolean Series 86550개, 6번\n",
    "    ans+=mask.sum()                                      # mask (boolean series) 의 sum() 은 True 갯수\n",
    "print(ans)\n",
    "\n",
    "print(type(df2['enrollment_code'].str.contains(name)))   # boolean series 을 리턴한다. \n",
    "\n",
    "# school_code의 리스트를 만들어 각 행(row) enrollment_code에 리스트 값이 있는지 확인 \n",
    "# 즉, shool_code 중 하나라도 어떤 enrollment_code 에도 포함되지 않아야 한다.  \n",
    "# df2.loc[df2.loc[:,'enrollment_code'].str.contains(schools)] -> contains() 는 리스트를 처리할 수 없다.\n",
    "# True 갯수 : https://stackoverflow.com/questions/53550988/count-occurrences-of-false-or-true-in-a-column-in-pandas\n"
   ]
  },
  {
   "attachments": {},
   "cell_type": "markdown",
   "id": "247ff4d4",
   "metadata": {},
   "source": [
    "- 👉 다른 방식의 문제 대응\n",
    "해당 행의 school_code 의 값만 동일 해당 행의 enrollmetn_code 에 있는지 확인  \n",
    "참고 사이트  \n",
    "http://ltlkodae.tistory.com/10   \n",
    "http://bio-info.tistory.com/149  "
   ]
  },
  {
   "attachments": {},
   "cell_type": "markdown",
   "id": "38d80cb5",
   "metadata": {},
   "source": [
    "- iterrows()  \n",
    "\n",
    "row[0] : index  \n",
    "row[1] : column  \n",
    "\n",
    "for indx, colx in df.iterrow()"
   ]
  },
  {
   "cell_type": "code",
   "execution_count": 39,
   "id": "4ae2f1bb",
   "metadata": {},
   "outputs": [
    {
     "name": "stdout",
     "output_type": "stream",
     "text": [
      "0\n",
      "[]\n"
     ]
    }
   ],
   "source": [
    "\n",
    "df2_1 = df.copy()\n",
    "\n",
    "ans2 = 0\n",
    "ans2_list=[]\n",
    "\n",
    "for indX, colX in df2_1.iterrows():\n",
    "    if colX.school_code in colX.enrollment_code:     # row[1].school_code , row[1].enrollment_code\n",
    "        ans2 = ans2 +1 \n",
    "        ans2_list.append(indX)                       # row[0]\n",
    "print(ans2)\n",
    "print(ans2_list)\n",
    "\n",
    "# itertuples() 에 비해 엄첨느리다. \n",
    "# 더이상 볼일이 없을까? "
   ]
  },
  {
   "attachments": {},
   "cell_type": "markdown",
   "id": "996c806f",
   "metadata": {},
   "source": [
    "- itertuples()  \n",
    "\n",
    "row.Index : 인덱스   \n",
    "row.col   : column  \n",
    "\n",
    "for row in df.itertupes()\n"
   ]
  },
  {
   "cell_type": "code",
   "execution_count": 40,
   "id": "b8c3bd92",
   "metadata": {},
   "outputs": [
    {
     "name": "stdout",
     "output_type": "stream",
     "text": [
      "0\n",
      "0\n",
      "[]\n"
     ]
    },
    {
     "data": {
      "text/html": [
       "<div>\n",
       "<style scoped>\n",
       "    .dataframe tbody tr th:only-of-type {\n",
       "        vertical-align: middle;\n",
       "    }\n",
       "\n",
       "    .dataframe tbody tr th {\n",
       "        vertical-align: top;\n",
       "    }\n",
       "\n",
       "    .dataframe thead th {\n",
       "        text-align: right;\n",
       "    }\n",
       "</style>\n",
       "<table border=\"1\" class=\"dataframe\">\n",
       "  <thead>\n",
       "    <tr style=\"text-align: right;\">\n",
       "      <th></th>\n",
       "      <th>enrollment_code</th>\n",
       "      <th>gender</th>\n",
       "      <th>bonus</th>\n",
       "      <th>penalty</th>\n",
       "      <th>school_code</th>\n",
       "      <th>result</th>\n",
       "    </tr>\n",
       "  </thead>\n",
       "  <tbody>\n",
       "  </tbody>\n",
       "</table>\n",
       "</div>"
      ],
      "text/plain": [
       "Empty DataFrame\n",
       "Columns: [enrollment_code, gender, bonus, penalty, school_code, result]\n",
       "Index: []"
      ]
     },
     "execution_count": 40,
     "metadata": {},
     "output_type": "execute_result"
    }
   ],
   "source": [
    "\n",
    "df2_2 = df.copy()\n",
    "\n",
    "ans3 = 0\n",
    "ans3_list =[]\n",
    "df2_2['result'] = 0\n",
    "\n",
    "for row in df2_2.itertuples():\n",
    "    if row.school_code in row.enrollment_code:  # row.school_code 는 <class 'str'> 타입 이라서 \"in\" 사용 (contains() 못씀)\n",
    "        ans3 = ans3 +1\n",
    "        # ans3_list.append(row.Index)             # 해당 행을 list 에 업데이트 한다. ( index 가 아니다.)\n",
    "        df2_2.loc[row.Index,'result'] = True      # 해당 행 'result' col 에 결과 입력\n",
    "print(ans3)            \n",
    "print(df2_2['result'].sum())\n",
    "\n",
    "print(ans3_list)                                # list 출력\n",
    "df2_2.loc[ans3_list]                            # lsit 을 이용해 df 출력 정답이 0 이라서 출력되는 row 가 없다.\n",
    "\n",
    "# iterrow() 보다 33 배\n",
    "# index 보다 13 배 빠르다."
   ]
  },
  {
   "attachments": {},
   "cell_type": "markdown",
   "id": "4311abe6",
   "metadata": {},
   "source": [
    "- df.index/columns loop\n",
    "\n",
    "```for idx in df.index```                       # index (각 row ) 별 계산   \n",
    "```for idx in df.columns```                      # column 별 계산  \n",
    "```for idx in df.unique_column_values_list```    # colum 값이 동일한 slicing 된 row 별 (그룹) 계산  "
   ]
  },
  {
   "cell_type": "code",
   "execution_count": 41,
   "id": "12e16987",
   "metadata": {},
   "outputs": [
    {
     "name": "stdout",
     "output_type": "stream",
     "text": [
      "0\n"
     ]
    }
   ],
   "source": [
    "\n",
    "df2_3 = df.copy()\n",
    "\n",
    "ans4 = 0\n",
    "\n",
    "for idx in df2_3.index:\n",
    "    if df2_3.at[idx, 'school_code'] in df2_3.at[idx, 'enrollment_code']:\n",
    "        ans4 = ans4 +1\n",
    "print(ans4)\n",
    "\n",
    "# iterrow(), apply() 보다는 빠르지만, itertuples() 보다는 느리다. \n",
    "# loc 보다 at 이 2배 더 빠르다."
   ]
  },
  {
   "attachments": {},
   "cell_type": "markdown",
   "id": "d299d838",
   "metadata": {},
   "source": [
    "- 👉 apply()  \n",
    "```\n",
    "df.apply()        : axix = 0 :  각 열 (columns) 이 전달되어 행(row) 가 계산된다. (default)\n",
    "                    axis = 1 :  각 행 (row) 이 전달되어 열(columns) 가 계산된다. \n",
    "                    \n",
    "df.series.apply() : 행/열의 개별값이 전달된다. \n",
    "```"
   ]
  },
  {
   "cell_type": "code",
   "execution_count": 42,
   "id": "41377f57",
   "metadata": {},
   "outputs": [
    {
     "name": "stdout",
     "output_type": "stream",
     "text": [
      "  enrollment_code gender  bonus  penalty school_code  result\n",
      "0          QEHRNZ      F    0.0      0.0        SWHS   False\n",
      "1          IUGTFR      F    1.6      0.0        PYHS   False\n",
      "2          PWJCQA      M    0.0      0.0        NKHS   False\n",
      "3          ZYFHCX      F    5.5      0.0        NKHS   False\n",
      "4          KIBAHX      M    0.6      0.0        MWHS   False\n",
      "0\n"
     ]
    },
    {
     "data": {
      "text/plain": [
       "[]"
      ]
     },
     "execution_count": 42,
     "metadata": {},
     "output_type": "execute_result"
    }
   ],
   "source": [
    "df2_4 = df.copy()\n",
    "\n",
    "def funX (dfX :pd.DataFrame) -> bool:\n",
    "    if dfX.school_code in dfX.enrollment_code:          # dfX.school_code 의 type 은 serise.school_code 이므로 str 개별값이다. \n",
    "        return True                                     # 전달된 row(행)의 df2_4['result'] 에 리턴할 값\n",
    "    else:\n",
    "        return False\n",
    "        \n",
    "df2_4['result'] = df2_4.apply(funX, axis=1)               # df에 적용되었으로, row (행) 순회하는 것이니까 axis=1 으로 row (행) 전달, column 계산\n",
    "\n",
    "print(df2_4.head())\n",
    "# print(type(df2_4.school_code))                          # df2_4.school_code 는 Series 인데????\n",
    "# print(df2_4.info())\n",
    "print(df2_4['result'].sum())                              # result 의 true 갯수\n",
    "list(df2_4[df2_4['result']== True ].index)"
   ]
  },
  {
   "attachments": {},
   "cell_type": "markdown",
   "id": "13ce5d3d",
   "metadata": {},
   "source": [
    "### Q3. 학생들의 학업성취도를 분석하기 위해 군집화를 하려고 한다. 다음 단계에 따라 분석을 수행하고 질문에 답하시오.\n",
    "\n",
    "단계 1 : 등록 코드(enrollment_code)에 'HS'가 포함되어 있지 않은 학생들을 제거한다. "
   ]
  },
  {
   "attachments": {},
   "cell_type": "markdown",
   "id": "45107457",
   "metadata": {},
   "source": [
    "👉 행 선별 (slicing)\n",
    "\n",
    "drop 보다 slicing 으로 행을 가져오는 것이 더 간단하다."
   ]
  },
  {
   "cell_type": "code",
   "execution_count": 43,
   "id": "502d7d90",
   "metadata": {},
   "outputs": [
    {
     "name": "stdout",
     "output_type": "stream",
     "text": [
      "661\n"
     ]
    }
   ],
   "source": [
    "df3 = df.copy()\n",
    "\n",
    "print(df3.loc[df3.enrollment_code.str.contains('HS'),'enrollment_code'].count())\n",
    "\n",
    "# df3.drop(df3.loc[~(df3.enrollment_code.str.contains('HS')),'enrollment_code'].index,inplace=True)\n",
    "df3 = df3.loc[(df3.enrollment_code.str.contains('HS')),:]"
   ]
  },
  {
   "cell_type": "code",
   "execution_count": 44,
   "id": "52d65f19",
   "metadata": {},
   "outputs": [
    {
     "data": {
      "text/plain": [
       "(661, 5)"
      ]
     },
     "execution_count": 44,
     "metadata": {},
     "output_type": "execute_result"
    }
   ],
   "source": [
    "df3.shape"
   ]
  },
  {
   "attachments": {},
   "cell_type": "markdown",
   "id": "f8aac07b",
   "metadata": {},
   "source": [
    "단계 2 : 성별(gender) 컬럼에서 \"M\"을 0, \"F\"를 1로 변환한다.  "
   ]
  },
  {
   "attachments": {},
   "cell_type": "markdown",
   "id": "39a3e003",
   "metadata": {},
   "source": [
    " 👉 df.serise.replace({ A:B, C:D })  \n",
    "을   \n",
    "df3.gender = np.where((df3.gender == 'M'), 0, 1)  \n",
    "으로 바꿀수 있다.   \n",
    "2개 이상인 경우 replace 사용  "
   ]
  },
  {
   "cell_type": "code",
   "execution_count": 45,
   "id": "128bb0d2",
   "metadata": {},
   "outputs": [
    {
     "name": "stdout",
     "output_type": "stream",
     "text": [
      "<class 'pandas.core.frame.DataFrame'>\n",
      "Int64Index: 661 entries, 212 to 86502\n",
      "Data columns (total 5 columns):\n",
      " #   Column           Non-Null Count  Dtype  \n",
      "---  ------           --------------  -----  \n",
      " 0   enrollment_code  661 non-null    object \n",
      " 1   gender           661 non-null    object \n",
      " 2   bonus            661 non-null    float64\n",
      " 3   penalty          661 non-null    float64\n",
      " 4   school_code      661 non-null    object \n",
      "dtypes: float64(2), object(3)\n",
      "memory usage: 31.0+ KB\n"
     ]
    }
   ],
   "source": [
    "df3.info()"
   ]
  },
  {
   "attachments": {},
   "cell_type": "markdown",
   "id": "a3bd6930",
   "metadata": {},
   "source": [
    "👉 df.series = np.where(df.series 조건, true, false)\n",
    "\n",
    "repleace, slicing 이 유리할 때도 있다."
   ]
  },
  {
   "cell_type": "code",
   "execution_count": 46,
   "id": "1600d87e",
   "metadata": {},
   "outputs": [
    {
     "name": "stdout",
     "output_type": "stream",
     "text": [
      "661\n",
      "0\n"
     ]
    }
   ],
   "source": [
    "print(df3.loc[(df3.gender == 'M') | (df3.gender == \"F\"),'gender'].count())\n",
    "\n",
    "# df3.gender.replace({'M':0, 'F':1},inplace=True) \n",
    "#  \n",
    "# df3.loc[(df3.gender == 'M'),'gender'] = 0\n",
    "# df3.loc[(df3.gender == \"F\"),'gender'] = 1\n",
    "#\n",
    "df3.gender = np.where((df3.gender == 'M'), 0, 1)   # 2개일 경우 유리 \n",
    "print(df3.loc[(df3.gender == 'M') | (df3.gender == \"F\"),'gender'].count())"
   ]
  },
  {
   "attachments": {},
   "cell_type": "markdown",
   "id": "dc066db4",
   "metadata": {},
   "source": [
    "단계 3 : 독립 변수들에 대해 K-means 군집 분석을 수행한다. 이 때, 군집 수는 2~9개 중 K-means Silhouette 를 통해 구하고, 이 중 두 번째로 높은 score를 최적의 K로 설정한다.  \n",
    "- 독립 변수(총 3개) : 성별(gender), 상점(bonus), 벌점(penalty)  \n"
   ]
  },
  {
   "cell_type": "code",
   "execution_count": 47,
   "id": "f47acc04",
   "metadata": {},
   "outputs": [
    {
     "data": {
      "text/html": [
       "<div>\n",
       "<style scoped>\n",
       "    .dataframe tbody tr th:only-of-type {\n",
       "        vertical-align: middle;\n",
       "    }\n",
       "\n",
       "    .dataframe tbody tr th {\n",
       "        vertical-align: top;\n",
       "    }\n",
       "\n",
       "    .dataframe thead th {\n",
       "        text-align: right;\n",
       "    }\n",
       "</style>\n",
       "<table border=\"1\" class=\"dataframe\">\n",
       "  <thead>\n",
       "    <tr style=\"text-align: right;\">\n",
       "      <th></th>\n",
       "      <th>enrollment_code</th>\n",
       "      <th>gender</th>\n",
       "      <th>bonus</th>\n",
       "      <th>penalty</th>\n",
       "      <th>school_code</th>\n",
       "    </tr>\n",
       "  </thead>\n",
       "  <tbody>\n",
       "    <tr>\n",
       "      <th>212</th>\n",
       "      <td>HSJZSV</td>\n",
       "      <td>1</td>\n",
       "      <td>2.7</td>\n",
       "      <td>0.0</td>\n",
       "      <td>NKHS</td>\n",
       "    </tr>\n",
       "    <tr>\n",
       "      <th>352</th>\n",
       "      <td>GHSBRB</td>\n",
       "      <td>0</td>\n",
       "      <td>1.7</td>\n",
       "      <td>0.0</td>\n",
       "      <td>PYHS</td>\n",
       "    </tr>\n",
       "    <tr>\n",
       "      <th>466</th>\n",
       "      <td>QCMHSO</td>\n",
       "      <td>0</td>\n",
       "      <td>1.9</td>\n",
       "      <td>0.0</td>\n",
       "      <td>HJHS</td>\n",
       "    </tr>\n",
       "    <tr>\n",
       "      <th>515</th>\n",
       "      <td>QCUGHS</td>\n",
       "      <td>1</td>\n",
       "      <td>0.6</td>\n",
       "      <td>0.0</td>\n",
       "      <td>PYHS</td>\n",
       "    </tr>\n",
       "    <tr>\n",
       "      <th>825</th>\n",
       "      <td>VFEHSR</td>\n",
       "      <td>1</td>\n",
       "      <td>0.0</td>\n",
       "      <td>1.0</td>\n",
       "      <td>HJHS</td>\n",
       "    </tr>\n",
       "  </tbody>\n",
       "</table>\n",
       "</div>"
      ],
      "text/plain": [
       "    enrollment_code  gender  bonus  penalty school_code\n",
       "212          HSJZSV       1    2.7      0.0        NKHS\n",
       "352          GHSBRB       0    1.7      0.0        PYHS\n",
       "466          QCMHSO       0    1.9      0.0        HJHS\n",
       "515          QCUGHS       1    0.6      0.0        PYHS\n",
       "825          VFEHSR       1    0.0      1.0        HJHS"
      ]
     },
     "execution_count": 47,
     "metadata": {},
     "output_type": "execute_result"
    }
   ],
   "source": [
    "df3.head()"
   ]
  },
  {
   "cell_type": "code",
   "execution_count": 48,
   "id": "aacaca3b",
   "metadata": {},
   "outputs": [],
   "source": [
    "X_train = df3[['gender','bonus','penalty']]"
   ]
  },
  {
   "attachments": {},
   "cell_type": "markdown",
   "id": "85c0d3eb",
   "metadata": {},
   "source": [
    "silhouette_score(df,labels)"
   ]
  },
  {
   "cell_type": "code",
   "execution_count": 49,
   "id": "b1080fc1",
   "metadata": {},
   "outputs": [],
   "source": [
    "from sklearn.cluster import KMeans  \n",
    "from sklearn.metrics import silhouette_score \n",
    "\n",
    "K = range(2,10)     # 2,3,4,5,6,7,8,9\n",
    "si_list =[]\n",
    "\n",
    "for k in K:\n",
    "    my_si = KMeans(n_clusters=k, init='k-means++', n_init=10, random_state=229)\n",
    "    my_si.fit(X_train)\n",
    "    si_list.append(silhouette_score(X=X_train, labels=my_si.labels_))   # my_si.predict(X_train)"
   ]
  },
  {
   "attachments": {},
   "cell_type": "markdown",
   "id": "e136a68b",
   "metadata": {},
   "source": [
    "2번째로 큰 sil_coef 의 k 값을 찾는다. "
   ]
  },
  {
   "cell_type": "code",
   "execution_count": 50,
   "id": "8c0ca0b0",
   "metadata": {},
   "outputs": [
    {
     "data": {
      "text/plain": [
       "8"
      ]
     },
     "execution_count": 50,
     "metadata": {},
     "output_type": "execute_result"
    }
   ],
   "source": [
    "si_df = pd.DataFrame({ \"K\": K,\n",
    "                      \"sil_coef\": si_list})\n",
    "si_df.sort_values(by='sil_coef',ascending=False).iat[1,0]   # 과 iloc[1,0] 은 2번째 row 이지만 loc[1,0] 은  1번 row (3번째) 이다. "
   ]
  },
  {
   "cell_type": "code",
   "execution_count": 51,
   "id": "e6df6940",
   "metadata": {},
   "outputs": [
    {
     "data": {
      "text/html": [
       "<div>\n",
       "<style scoped>\n",
       "    .dataframe tbody tr th:only-of-type {\n",
       "        vertical-align: middle;\n",
       "    }\n",
       "\n",
       "    .dataframe tbody tr th {\n",
       "        vertical-align: top;\n",
       "    }\n",
       "\n",
       "    .dataframe thead th {\n",
       "        text-align: right;\n",
       "    }\n",
       "</style>\n",
       "<table border=\"1\" class=\"dataframe\">\n",
       "  <thead>\n",
       "    <tr style=\"text-align: right;\">\n",
       "      <th></th>\n",
       "      <th>K</th>\n",
       "      <th>sil_coef</th>\n",
       "    </tr>\n",
       "  </thead>\n",
       "  <tbody>\n",
       "    <tr>\n",
       "      <th>0</th>\n",
       "      <td>2</td>\n",
       "      <td>0.492106</td>\n",
       "    </tr>\n",
       "    <tr>\n",
       "      <th>1</th>\n",
       "      <td>3</td>\n",
       "      <td>0.406293</td>\n",
       "    </tr>\n",
       "    <tr>\n",
       "      <th>2</th>\n",
       "      <td>4</td>\n",
       "      <td>0.367341</td>\n",
       "    </tr>\n",
       "    <tr>\n",
       "      <th>3</th>\n",
       "      <td>5</td>\n",
       "      <td>0.378843</td>\n",
       "    </tr>\n",
       "    <tr>\n",
       "      <th>4</th>\n",
       "      <td>6</td>\n",
       "      <td>0.381971</td>\n",
       "    </tr>\n",
       "    <tr>\n",
       "      <th>5</th>\n",
       "      <td>7</td>\n",
       "      <td>0.395668</td>\n",
       "    </tr>\n",
       "    <tr>\n",
       "      <th>6</th>\n",
       "      <td>8</td>\n",
       "      <td>0.408609</td>\n",
       "    </tr>\n",
       "    <tr>\n",
       "      <th>7</th>\n",
       "      <td>9</td>\n",
       "      <td>0.405521</td>\n",
       "    </tr>\n",
       "  </tbody>\n",
       "</table>\n",
       "</div>"
      ],
      "text/plain": [
       "   K  sil_coef\n",
       "0  2  0.492106\n",
       "1  3  0.406293\n",
       "2  4  0.367341\n",
       "3  5  0.378843\n",
       "4  6  0.381971\n",
       "5  7  0.395668\n",
       "6  8  0.408609\n",
       "7  9  0.405521"
      ]
     },
     "execution_count": 51,
     "metadata": {},
     "output_type": "execute_result"
    }
   ],
   "source": [
    "si_df "
   ]
  },
  {
   "attachments": {},
   "cell_type": "markdown",
   "id": "2c1077bb",
   "metadata": {},
   "source": [
    "\n",
    "단계 4 : 단계 3에서 최적의 K로 도출한 각 군집에 소속된 학생 수의 비율 중, 가장 큰 값을 구하시오  \n",
    "\n",
    "※ 결과는 반올림하여 소수점 둘째 자리까지 기술하시오. (답안예시 : 2.29)\n",
    "\n"
   ]
  },
  {
   "attachments": {},
   "cell_type": "markdown",
   "id": "b1d0bdf8",
   "metadata": {},
   "source": [
    "KMean"
   ]
  },
  {
   "cell_type": "code",
   "execution_count": 52,
   "id": "8f051837",
   "metadata": {},
   "outputs": [],
   "source": [
    "my_KM = KMeans(n_clusters=8, init='k-means++', n_init=10, random_state=229)\n",
    "my_KM.fit(X_train)\n",
    "df3['cluster'] = my_KM.labels_"
   ]
  },
  {
   "cell_type": "code",
   "execution_count": 53,
   "id": "69eefb8e",
   "metadata": {},
   "outputs": [
    {
     "data": {
      "text/html": [
       "<div>\n",
       "<style scoped>\n",
       "    .dataframe tbody tr th:only-of-type {\n",
       "        vertical-align: middle;\n",
       "    }\n",
       "\n",
       "    .dataframe tbody tr th {\n",
       "        vertical-align: top;\n",
       "    }\n",
       "\n",
       "    .dataframe thead th {\n",
       "        text-align: right;\n",
       "    }\n",
       "</style>\n",
       "<table border=\"1\" class=\"dataframe\">\n",
       "  <thead>\n",
       "    <tr style=\"text-align: right;\">\n",
       "      <th></th>\n",
       "      <th>enrollment_code</th>\n",
       "      <th>gender</th>\n",
       "      <th>bonus</th>\n",
       "      <th>penalty</th>\n",
       "      <th>school_code</th>\n",
       "      <th>cluster</th>\n",
       "    </tr>\n",
       "  </thead>\n",
       "  <tbody>\n",
       "    <tr>\n",
       "      <th>212</th>\n",
       "      <td>HSJZSV</td>\n",
       "      <td>1</td>\n",
       "      <td>2.7</td>\n",
       "      <td>0.0</td>\n",
       "      <td>NKHS</td>\n",
       "      <td>4</td>\n",
       "    </tr>\n",
       "    <tr>\n",
       "      <th>352</th>\n",
       "      <td>GHSBRB</td>\n",
       "      <td>0</td>\n",
       "      <td>1.7</td>\n",
       "      <td>0.0</td>\n",
       "      <td>PYHS</td>\n",
       "      <td>0</td>\n",
       "    </tr>\n",
       "    <tr>\n",
       "      <th>466</th>\n",
       "      <td>QCMHSO</td>\n",
       "      <td>0</td>\n",
       "      <td>1.9</td>\n",
       "      <td>0.0</td>\n",
       "      <td>HJHS</td>\n",
       "      <td>0</td>\n",
       "    </tr>\n",
       "    <tr>\n",
       "      <th>515</th>\n",
       "      <td>QCUGHS</td>\n",
       "      <td>1</td>\n",
       "      <td>0.6</td>\n",
       "      <td>0.0</td>\n",
       "      <td>PYHS</td>\n",
       "      <td>2</td>\n",
       "    </tr>\n",
       "    <tr>\n",
       "      <th>825</th>\n",
       "      <td>VFEHSR</td>\n",
       "      <td>1</td>\n",
       "      <td>0.0</td>\n",
       "      <td>1.0</td>\n",
       "      <td>HJHS</td>\n",
       "      <td>5</td>\n",
       "    </tr>\n",
       "  </tbody>\n",
       "</table>\n",
       "</div>"
      ],
      "text/plain": [
       "    enrollment_code  gender  bonus  penalty school_code  cluster\n",
       "212          HSJZSV       1    2.7      0.0        NKHS        4\n",
       "352          GHSBRB       0    1.7      0.0        PYHS        0\n",
       "466          QCMHSO       0    1.9      0.0        HJHS        0\n",
       "515          QCUGHS       1    0.6      0.0        PYHS        2\n",
       "825          VFEHSR       1    0.0      1.0        HJHS        5"
      ]
     },
     "execution_count": 53,
     "metadata": {},
     "output_type": "execute_result"
    }
   ],
   "source": [
    "df3.head()"
   ]
  },
  {
   "cell_type": "code",
   "execution_count": 54,
   "id": "74f540f7",
   "metadata": {},
   "outputs": [
    {
     "data": {
      "text/plain": [
       "7    0.157337\n",
       "4    0.154312\n",
       "0    0.148260\n",
       "6    0.142209\n",
       "2    0.127080\n",
       "3    0.122542\n",
       "1    0.093797\n",
       "5    0.054463\n",
       "Name: cluster, dtype: float64"
      ]
     },
     "execution_count": 54,
     "metadata": {},
     "output_type": "execute_result"
    }
   ],
   "source": [
    "df3.cluster.value_counts(normalize=True)#.iat[0].round(2)\n",
    "\n",
    "# reset_index 해서 df[0] 하던가\n",
    "# 바로 iat[0]\n"
   ]
  },
  {
   "attachments": {},
   "cell_type": "markdown",
   "id": "a7be1d64",
   "metadata": {},
   "source": [
    "sort_values(asceding = False).iat[0]  \n",
    "\n",
    "normalize (비율) 는 값을 정렬하여 표시 하므로 첫번째 값을 선택  (0번 at[0], loc[0] 이 아니다.)  \n",
    "가장큰 값 찾기 max() 을 사용하자  \n",
    "3번째로 큰값 찾기 : sort_values(asceding = False).iat[2]"
   ]
  },
  {
   "attachments": {},
   "cell_type": "markdown",
   "id": "2a917eaf",
   "metadata": {},
   "source": [
    "👉 Reset_index(drop=True) 을 이용해서 row 0번을 찾을 수 있다.  \n",
    "```df3['cluster'].value_counts(normalize=True).reset_index(drop=True)[0].round(2)```"
   ]
  },
  {
   "cell_type": "code",
   "execution_count": 56,
   "id": "9c41fb08",
   "metadata": {},
   "outputs": [
    {
     "data": {
      "text/plain": [
       "0    0.157337\n",
       "1    0.154312\n",
       "2    0.148260\n",
       "3    0.142209\n",
       "4    0.127080\n",
       "5    0.122542\n",
       "6    0.093797\n",
       "7    0.054463\n",
       "Name: cluster, dtype: float64"
      ]
     },
     "execution_count": 56,
     "metadata": {},
     "output_type": "execute_result"
    }
   ],
   "source": [
    "df3['cluster'].value_counts(normalize=True).reset_index(drop=True)#[0].round(2)"
   ]
  },
  {
   "attachments": {},
   "cell_type": "markdown",
   "id": "fbebe5d6",
   "metadata": {},
   "source": [
    "#### 필요 라이브러리 함수,클래스 및 설정값 목록  \n",
    "\n",
    "from sklearn.cluster import KMeans  \n",
    "from sklearn.metrics import silhouette_score  \n",
    "random_state = 229  \n",
    "문제 지시 외 Default 값 사용  "
   ]
  }
 ],
 "metadata": {
  "kernelspec": {
   "display_name": "Python 3.7.6 64-bit ('3.7.6')",
   "language": "python",
   "name": "python3"
  },
  "language_info": {
   "codemirror_mode": {
    "name": "ipython",
    "version": 3
   },
   "file_extension": ".py",
   "mimetype": "text/x-python",
   "name": "python",
   "nbconvert_exporter": "python",
   "pygments_lexer": "ipython3",
   "version": "3.7.6"
  },
  "vscode": {
   "interpreter": {
    "hash": "162ceaf09f938773ad028a3a2ad644135fdbb6560e1ade87eeac244d09a7763d"
   }
  }
 },
 "nbformat": 4,
 "nbformat_minor": 5
}
