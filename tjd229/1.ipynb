{
 "cells": [
  {
   "attachments": {},
   "cell_type": "markdown",
   "id": "b6bb781e",
   "metadata": {},
   "source": [
    "## 모의고사 1\n",
    " 학원 규모가 커지면서 시스템을 확장하려 한다. 확장 전 학원의 등록된 학생들의 주요 정보를 파악하려 한다."
   ]
  },
  {
   "attachments": {},
   "cell_type": "markdown",
   "id": "3d916d11",
   "metadata": {},
   "source": [
    "### 사전 정보\n",
    "enrollment_info.csv\n",
    "\n",
    "|컬럼|정의|type|\n",
    "|:---|:---|:---:|\n",
    "|enrollment_code|학생 등록 코드(길이6 알파벳 대문자)|object|\n",
    "|gender|여자면 F, 남자면 M|object|\n",
    "|bonus|상점|float64|\n",
    "|penalty|벌점|float64|\n",
    "|school_code|소속 학교 코드|object|  \n",
    "\n",
    "정답 및 해설 : https://tjd229.tistory.com/20"
   ]
  },
  {
   "cell_type": "code",
   "execution_count": 1,
   "id": "2b858d97",
   "metadata": {},
   "outputs": [],
   "source": [
    "import numpy as np\n",
    "import pandas as pd\n"
   ]
  },
  {
   "cell_type": "code",
   "execution_count": 3,
   "id": "b954913c",
   "metadata": {},
   "outputs": [
    {
     "name": "stdout",
     "output_type": "stream",
     "text": [
      "enrollment_code     object\n",
      "gender              object\n",
      "bonus              float64\n",
      "penalty            float64\n",
      "school_code         object\n",
      "dtype: object\n",
      "(86550, 5)\n"
     ]
    },
    {
     "data": {
      "text/html": [
       "<div>\n",
       "<style scoped>\n",
       "    .dataframe tbody tr th:only-of-type {\n",
       "        vertical-align: middle;\n",
       "    }\n",
       "\n",
       "    .dataframe tbody tr th {\n",
       "        vertical-align: top;\n",
       "    }\n",
       "\n",
       "    .dataframe thead th {\n",
       "        text-align: right;\n",
       "    }\n",
       "</style>\n",
       "<table border=\"1\" class=\"dataframe\">\n",
       "  <thead>\n",
       "    <tr style=\"text-align: right;\">\n",
       "      <th></th>\n",
       "      <th>enrollment_code</th>\n",
       "      <th>gender</th>\n",
       "      <th>bonus</th>\n",
       "      <th>penalty</th>\n",
       "      <th>school_code</th>\n",
       "    </tr>\n",
       "  </thead>\n",
       "  <tbody>\n",
       "    <tr>\n",
       "      <th>0</th>\n",
       "      <td>QEHRNZ</td>\n",
       "      <td>F</td>\n",
       "      <td>0.0</td>\n",
       "      <td>0.0</td>\n",
       "      <td>SWHS</td>\n",
       "    </tr>\n",
       "    <tr>\n",
       "      <th>1</th>\n",
       "      <td>IUGTFR</td>\n",
       "      <td>F</td>\n",
       "      <td>1.6</td>\n",
       "      <td>0.0</td>\n",
       "      <td>PYHS</td>\n",
       "    </tr>\n",
       "    <tr>\n",
       "      <th>2</th>\n",
       "      <td>PWJCQA</td>\n",
       "      <td>M</td>\n",
       "      <td>0.0</td>\n",
       "      <td>0.0</td>\n",
       "      <td>NKHS</td>\n",
       "    </tr>\n",
       "    <tr>\n",
       "      <th>3</th>\n",
       "      <td>ZYFHCX</td>\n",
       "      <td>F</td>\n",
       "      <td>5.5</td>\n",
       "      <td>0.0</td>\n",
       "      <td>NKHS</td>\n",
       "    </tr>\n",
       "    <tr>\n",
       "      <th>4</th>\n",
       "      <td>KIBAHX</td>\n",
       "      <td>M</td>\n",
       "      <td>0.6</td>\n",
       "      <td>0.0</td>\n",
       "      <td>MWHS</td>\n",
       "    </tr>\n",
       "  </tbody>\n",
       "</table>\n",
       "</div>"
      ],
      "text/plain": [
       "  enrollment_code gender  bonus  penalty school_code\n",
       "0          QEHRNZ      F    0.0      0.0        SWHS\n",
       "1          IUGTFR      F    1.6      0.0        PYHS\n",
       "2          PWJCQA      M    0.0      0.0        NKHS\n",
       "3          ZYFHCX      F    5.5      0.0        NKHS\n",
       "4          KIBAHX      M    0.6      0.0        MWHS"
      ]
     },
     "execution_count": 3,
     "metadata": {},
     "output_type": "execute_result"
    }
   ],
   "source": [
    "df = pd.read_csv(\"../content/tjd229/enrollment_info.csv\")\n",
    "print(df.dtypes)\n",
    "print(df.shape)\n",
    "df.head()"
   ]
  },
  {
   "attachments": {},
   "cell_type": "markdown",
   "id": "29749938",
   "metadata": {},
   "source": [
    "### Q1. 다음 단계에 따라 분석을 수행하고 질문에 답하시오.\n",
    "단계 1 : 각 학생들의 상점(bonus)에서 벌점(penalty)을 뺀 값을 합계 점수로 정의한다.  \n",
    "단계 2 : 각 학교 코드(school_code)별 합계 점수 평균을 구하고, 이 중 3번째로 큰 값을 A라고 한다.  \n",
    "단계 3 : 0미만의 합계 점수는 0으로 변경 후, 각 학교 코드(school_code)별 합계 점수 평균을 구하고, 이 중 3번째로 큰 값을 B라고 한다.  \n",
    "\n",
    "단계 2에서 구한 A와 단계 3에서 구한 B의 절대값 차이를 구하시오  \n",
    "※ 결과는 반올림하여 소수점 첫째 자리까지 기술하시오. (답안예시 : 22.9)\n"
   ]
  },
  {
   "cell_type": "code",
   "execution_count": 4,
   "id": "f8408d1d",
   "metadata": {},
   "outputs": [
    {
     "data": {
      "text/plain": [
       "1.8854451935775354"
      ]
     },
     "execution_count": 4,
     "metadata": {},
     "output_type": "execute_result"
    }
   ],
   "source": [
    "df1 = df.copy()\n",
    "df1['total'] = df1['bonus'] - df1.penalty\n",
    "\n",
    "A = df1.groupby('school_code').total.mean().sort_values(ascending=False)[2]\n",
    "A\n",
    "\n"
   ]
  },
  {
   "cell_type": "code",
   "execution_count": 5,
   "id": "217ee012",
   "metadata": {},
   "outputs": [],
   "source": [
    "\n",
    "# print(df1.loc[df1['total']<0,:].total.count())\n",
    "\n",
    "df1.loc[df1['total']<0, 'total'] = 0\n",
    "\n",
    "# print(df1.loc[df1['total']<0,:].total.count()) \n",
    "\n",
    "B = df1.groupby('school_code').total.mean().sort_values(ascending=False)[2]\n"
   ]
  },
  {
   "cell_type": "code",
   "execution_count": 6,
   "id": "93e08928",
   "metadata": {},
   "outputs": [
    {
     "data": {
      "text/plain": [
       "0.1"
      ]
     },
     "execution_count": 6,
     "metadata": {},
     "output_type": "execute_result"
    }
   ],
   "source": [
    "round(abs(A-B),1)"
   ]
  },
  {
   "attachments": {},
   "cell_type": "markdown",
   "id": "b86b45ec",
   "metadata": {},
   "source": [
    "### Q2. 데이터에는 총 6종류의 학교 코드(school_code)가 있다. 학생들의 등록 코드(enrollment_code)에 학교 코드(school_code)가 포함되어 있는 경우, 시스템에 문제가 발생할 수 있어, 이를 사전에 방지하고자 한다. 등록 코드(enrollment_code)에 학교 코드(school_code)가 포함되어 있는 학생들의 수 총합을 구하시오\n",
    "\n",
    "\n",
    "※ 학교 코드(school_code)가 **ZXCV**일 때, 등록 코드(enrollment_code)가 **ZXCV**AB, A**ZXCV**B, CD**ZXCV** 등의 경우는 등록 코드(enrollment_code)에 학교 코드(school_code)가 포함되어 있다고 본다.  \n",
    "※ 학교 코드(school_code)가 **ZXCV**일 때, 등록 코드(enrollment_code)가 **ZX**AB**CV**의 경우는 등록 코드(enrollment_code)에 학교 코드(school_code)가 포함되어 있다고 보지 않는다.  \n",
    "\n"
   ]
  },
  {
   "attachments": {},
   "cell_type": "markdown",
   "id": "9eb01aa7",
   "metadata": {},
   "source": [
    " 👉 df.series.str.contains()"
   ]
  },
  {
   "cell_type": "code",
   "execution_count": 7,
   "id": "50280c43",
   "metadata": {},
   "outputs": [
    {
     "name": "stdout",
     "output_type": "stream",
     "text": [
      "3\n",
      "<class 'pandas.core.series.Series'>\n"
     ]
    }
   ],
   "source": [
    "df2 = df.copy()\n",
    "\n",
    "schools = df2['school_code'].unique().tolist()\n",
    "ans = 0\n",
    "\n",
    "\n",
    "for name in schools:\n",
    "    mask = df2['enrollment_code'].str.contains(name)     # 유닉크한 school_code (6개) * 모든 행 (Serise) -> boolean Series 6 개\n",
    "    ans+=mask.sum()                                      # mask (boolean series) 의 sum() 은 True 갯수\n",
    "print(ans)\n",
    "\n",
    "print(type(df2['enrollment_code'].str.contains(name)))   # boolean series 을 리턴한다. \n",
    "\n",
    "# school_code의 리스트를 만들어 각 행(row) enrollment_code에 리스트 값이 있는지 확인 \n",
    "# 즉, shool_code 중 하나라도 어떤 enrollment_code 에 포함되지 않아야 한다.. \n",
    "# df2.loc[df2.loc[:,'enrollment_code'].str.contains(schools)] -> contains() 는 리스트를 처리할 수 없다.\n",
    "# True 갯수 : https://stackoverflow.com/questions/53550988/count-occurrences-of-false-or-true-in-a-column-in-pandas\n"
   ]
  },
  {
   "attachments": {},
   "cell_type": "markdown",
   "id": "247ff4d4",
   "metadata": {},
   "source": [
    "- 👉 다른 방식의 문제 대응\n",
    "해당 행의 school_code 의 값만 동일 해당 행의 enrollmetn_code 에 있는지 확인  \n",
    "참고 사이트  \n",
    "http://ltlkodae.tistory.com/10   \n",
    "http://bio-info.tistory.com/149  "
   ]
  },
  {
   "attachments": {},
   "cell_type": "markdown",
   "id": "38d80cb5",
   "metadata": {},
   "source": [
    "- iterrows()"
   ]
  },
  {
   "cell_type": "code",
   "execution_count": 8,
   "id": "4ae2f1bb",
   "metadata": {},
   "outputs": [
    {
     "name": "stdout",
     "output_type": "stream",
     "text": [
      "0\n",
      "[]\n"
     ]
    }
   ],
   "source": [
    "\n",
    "df2_1 = df.copy()\n",
    "\n",
    "ans2 = 0\n",
    "ans2_list=[]\n",
    "\n",
    "for indX, colX in df2_1.iterrows():\n",
    "    if colX.school_code in colX.enrollment_code:     # row[1].school_code , row[1].enrollment_code\n",
    "        ans2 = ans2 +1 \n",
    "        ans2_list.append(indX)                       # row[0]\n",
    "print(ans2)\n",
    "print(ans2_list)\n",
    "\n",
    "# itertuples() 에 비해 엄첨느리다. \n",
    "# 더이상 볼일이 없을까? "
   ]
  },
  {
   "attachments": {},
   "cell_type": "markdown",
   "id": "996c806f",
   "metadata": {},
   "source": [
    "- itertuples()"
   ]
  },
  {
   "cell_type": "code",
   "execution_count": 9,
   "id": "b8c3bd92",
   "metadata": {},
   "outputs": [
    {
     "name": "stdout",
     "output_type": "stream",
     "text": [
      "0\n",
      "[]\n"
     ]
    },
    {
     "data": {
      "text/html": [
       "<div>\n",
       "<style scoped>\n",
       "    .dataframe tbody tr th:only-of-type {\n",
       "        vertical-align: middle;\n",
       "    }\n",
       "\n",
       "    .dataframe tbody tr th {\n",
       "        vertical-align: top;\n",
       "    }\n",
       "\n",
       "    .dataframe thead th {\n",
       "        text-align: right;\n",
       "    }\n",
       "</style>\n",
       "<table border=\"1\" class=\"dataframe\">\n",
       "  <thead>\n",
       "    <tr style=\"text-align: right;\">\n",
       "      <th></th>\n",
       "      <th>enrollment_code</th>\n",
       "      <th>gender</th>\n",
       "      <th>bonus</th>\n",
       "      <th>penalty</th>\n",
       "      <th>school_code</th>\n",
       "    </tr>\n",
       "  </thead>\n",
       "  <tbody>\n",
       "  </tbody>\n",
       "</table>\n",
       "</div>"
      ],
      "text/plain": [
       "Empty DataFrame\n",
       "Columns: [enrollment_code, gender, bonus, penalty, school_code]\n",
       "Index: []"
      ]
     },
     "execution_count": 9,
     "metadata": {},
     "output_type": "execute_result"
    }
   ],
   "source": [
    "\n",
    "df2_2 = df.copy()\n",
    "\n",
    "ans3 = 0\n",
    "ans3_list =[]\n",
    "\n",
    "for row in df2_2.itertuples():\n",
    "    if row.school_code in row.enrollment_code:  # row.school_code 는 <class 'str'> 타입 이라서 \"in\" 사용 (contains() 못씀)\n",
    "        ans3 = ans3 +1\n",
    "        ans3_list.append(row.Index)             # 해당 행을 list 에 업데이트 한다. ( index 가 아니다.)\n",
    "print(ans3)\n",
    "print(ans3_list)                                # list 출력\n",
    "\n",
    "df2_2.loc[ans3_list]                            # lsit 을 이용해 df 출력\n",
    "\n",
    "# iterrow() 보다 33 배\n",
    "# index 보다 13 배 빠르다."
   ]
  },
  {
   "attachments": {},
   "cell_type": "markdown",
   "id": "4311abe6",
   "metadata": {},
   "source": [
    "- df.index loop"
   ]
  },
  {
   "cell_type": "code",
   "execution_count": 32,
   "id": "12e16987",
   "metadata": {},
   "outputs": [
    {
     "name": "stdout",
     "output_type": "stream",
     "text": [
      "0\n"
     ]
    }
   ],
   "source": [
    "\n",
    "df2_3 = df.copy()\n",
    "\n",
    "ans4 = 0\n",
    "\n",
    "for idx in df2_3.index:\n",
    "    if df2_3.at[idx, 'school_code'] in df2_3.at[idx, 'enrollment_code']:\n",
    "        ans4 = ans4 +1\n",
    "print(ans4)\n",
    "\n",
    "# iterrow() 보다는 빠르지만, itertuples() 보다는 느리다. \n",
    "# loc 보다 at 이 2배 더 빠르다."
   ]
  },
  {
   "attachments": {},
   "cell_type": "markdown",
   "id": "d299d838",
   "metadata": {},
   "source": [
    "- 👉 apply()  \n",
    "```\n",
    "df.apply()        : axis = 1 :  각 행이 전달되어 열(columns) 가 계산된다. \n",
    "                    axix = 0 :  각 열이 전달되어 행(row) 가 계산된다.\n",
    "df.series.apply() : 행/열의 개별값이 전달된다. \n",
    "```"
   ]
  },
  {
   "cell_type": "code",
   "execution_count": 33,
   "id": "41377f57",
   "metadata": {},
   "outputs": [
    {
     "name": "stdout",
     "output_type": "stream",
     "text": [
      "  enrollment_code gender  bonus  penalty school_code  result\n",
      "0          QEHRNZ      F    0.0      0.0        SWHS   False\n",
      "1          IUGTFR      F    1.6      0.0        PYHS   False\n",
      "2          PWJCQA      M    0.0      0.0        NKHS   False\n",
      "3          ZYFHCX      F    5.5      0.0        NKHS   False\n",
      "4          KIBAHX      M    0.6      0.0        MWHS   False\n",
      "0\n"
     ]
    },
    {
     "data": {
      "text/plain": [
       "[]"
      ]
     },
     "execution_count": 33,
     "metadata": {},
     "output_type": "execute_result"
    }
   ],
   "source": [
    "df2_4 = df.copy()\n",
    "\n",
    "def funX (dfX):\n",
    "    if dfX.school_code in dfX.enrollment_code:          # dfX.school_code 의 type 은 serise.school_code 이므로 str 개별값이다. \n",
    "        return True\n",
    "    else:\n",
    "        return False\n",
    "        \n",
    "df2_4['result'] = df2_4.apply(funX, axis=1)               # df에 적용되었으로, 각 행(series) 가 dfX 로 전달된다. column 추가 하는 것이니까 axis=1\n",
    "print(df2_4.head())\n",
    "# print(type(df2_4.school_code))                          # df2_4.school_code 는 Series 인데????\n",
    "# print(df2_4.info())\n",
    "print(df2_4['result'].sum())                              # result 의 true 갯수\n",
    "list(df2_4[df2_4['result']== True ].index)"
   ]
  },
  {
   "attachments": {},
   "cell_type": "markdown",
   "id": "13ce5d3d",
   "metadata": {},
   "source": [
    "### Q3. 학생들의 학업성취도를 분석하기 위해 군집화를 하려고 한다. 다음 단계에 따라 분석을 수행하고 질문에 답하시오.\n",
    "\n",
    "단계 1 : 등록 코드(enrollment_code)에 'HS'가 포함되어 있지 않은 학생들을 제거한다. "
   ]
  },
  {
   "cell_type": "code",
   "execution_count": 66,
   "id": "502d7d90",
   "metadata": {},
   "outputs": [
    {
     "name": "stdout",
     "output_type": "stream",
     "text": [
      "661\n"
     ]
    }
   ],
   "source": [
    "df3 = df.copy()\n",
    "\n",
    "print(df3.loc[df3.enrollment_code.str.contains('HS'),'enrollment_code'].count())\n",
    "df3.drop(df3.loc[df3.enrollment_code.str.contains('HS'),'enrollment_code'].index,inplace=True)"
   ]
  },
  {
   "cell_type": "code",
   "execution_count": 64,
   "id": "52d65f19",
   "metadata": {},
   "outputs": [
    {
     "name": "stdout",
     "output_type": "stream",
     "text": [
      "0\n"
     ]
    }
   ],
   "source": [
    "print(df3.loc[df3.enrollment_code.str.contains('HS'),'enrollment_code'].count())"
   ]
  },
  {
   "attachments": {},
   "cell_type": "markdown",
   "id": "f8aac07b",
   "metadata": {},
   "source": [
    "단계 2 : 성별(gender) 컬럼에서 \"M\"을 0, \"F\"를 1로 변환한다.  "
   ]
  },
  {
   "attachments": {},
   "cell_type": "markdown",
   "id": "39a3e003",
   "metadata": {},
   "source": [
    " 👉 df.serise.replace({ A:B, C:D })"
   ]
  },
  {
   "cell_type": "code",
   "execution_count": 76,
   "id": "1600d87e",
   "metadata": {},
   "outputs": [
    {
     "name": "stdout",
     "output_type": "stream",
     "text": [
      "85889\n",
      "0\n"
     ]
    }
   ],
   "source": [
    "print(df3.loc[(df3.gender == 'M') | (df3.gender == \"F\"),'gender'].count())\n",
    "df3.gender.replace({'M':0, 'F':1},inplace=True)\n",
    "print(df3.loc[(df3.gender == 'M') | (df3.gender == \"F\"),'gender'].count())"
   ]
  },
  {
   "cell_type": "code",
   "execution_count": 78,
   "id": "346ffa08",
   "metadata": {},
   "outputs": [
    {
     "name": "stdout",
     "output_type": "stream",
     "text": [
      "<class 'pandas.core.frame.DataFrame'>\n",
      "Int64Index: 85889 entries, 0 to 86549\n",
      "Data columns (total 5 columns):\n",
      " #   Column           Non-Null Count  Dtype  \n",
      "---  ------           --------------  -----  \n",
      " 0   enrollment_code  85889 non-null  object \n",
      " 1   gender           85889 non-null  int64  \n",
      " 2   bonus            85889 non-null  float64\n",
      " 3   penalty          85889 non-null  float64\n",
      " 4   school_code      85889 non-null  object \n",
      "dtypes: float64(2), int64(1), object(2)\n",
      "memory usage: 3.9+ MB\n"
     ]
    }
   ],
   "source": [
    "df3.info()"
   ]
  },
  {
   "attachments": {},
   "cell_type": "markdown",
   "id": "dc066db4",
   "metadata": {},
   "source": [
    "단계 3 : 독립 변수들에 대해 K-means 군집 분석을 수행한다. 이 때, 군집 수는 2~9개 중 K-means Silhouette 를 통해 구하고, 이 중 두 번째로 높은 score를 최적의 K로 설정한다.  \n",
    "- 독립 변수(총 3개) : 성별(gender), 상점(bonus), 벌점(penalty)  \n"
   ]
  },
  {
   "cell_type": "code",
   "execution_count": 77,
   "id": "f47acc04",
   "metadata": {},
   "outputs": [
    {
     "data": {
      "text/html": [
       "<div>\n",
       "<style scoped>\n",
       "    .dataframe tbody tr th:only-of-type {\n",
       "        vertical-align: middle;\n",
       "    }\n",
       "\n",
       "    .dataframe tbody tr th {\n",
       "        vertical-align: top;\n",
       "    }\n",
       "\n",
       "    .dataframe thead th {\n",
       "        text-align: right;\n",
       "    }\n",
       "</style>\n",
       "<table border=\"1\" class=\"dataframe\">\n",
       "  <thead>\n",
       "    <tr style=\"text-align: right;\">\n",
       "      <th></th>\n",
       "      <th>enrollment_code</th>\n",
       "      <th>gender</th>\n",
       "      <th>bonus</th>\n",
       "      <th>penalty</th>\n",
       "      <th>school_code</th>\n",
       "    </tr>\n",
       "  </thead>\n",
       "  <tbody>\n",
       "    <tr>\n",
       "      <th>0</th>\n",
       "      <td>QEHRNZ</td>\n",
       "      <td>1</td>\n",
       "      <td>0.0</td>\n",
       "      <td>0.0</td>\n",
       "      <td>SWHS</td>\n",
       "    </tr>\n",
       "    <tr>\n",
       "      <th>1</th>\n",
       "      <td>IUGTFR</td>\n",
       "      <td>1</td>\n",
       "      <td>1.6</td>\n",
       "      <td>0.0</td>\n",
       "      <td>PYHS</td>\n",
       "    </tr>\n",
       "    <tr>\n",
       "      <th>2</th>\n",
       "      <td>PWJCQA</td>\n",
       "      <td>0</td>\n",
       "      <td>0.0</td>\n",
       "      <td>0.0</td>\n",
       "      <td>NKHS</td>\n",
       "    </tr>\n",
       "    <tr>\n",
       "      <th>3</th>\n",
       "      <td>ZYFHCX</td>\n",
       "      <td>1</td>\n",
       "      <td>5.5</td>\n",
       "      <td>0.0</td>\n",
       "      <td>NKHS</td>\n",
       "    </tr>\n",
       "    <tr>\n",
       "      <th>4</th>\n",
       "      <td>KIBAHX</td>\n",
       "      <td>0</td>\n",
       "      <td>0.6</td>\n",
       "      <td>0.0</td>\n",
       "      <td>MWHS</td>\n",
       "    </tr>\n",
       "  </tbody>\n",
       "</table>\n",
       "</div>"
      ],
      "text/plain": [
       "  enrollment_code  gender  bonus  penalty school_code\n",
       "0          QEHRNZ       1    0.0      0.0        SWHS\n",
       "1          IUGTFR       1    1.6      0.0        PYHS\n",
       "2          PWJCQA       0    0.0      0.0        NKHS\n",
       "3          ZYFHCX       1    5.5      0.0        NKHS\n",
       "4          KIBAHX       0    0.6      0.0        MWHS"
      ]
     },
     "execution_count": 77,
     "metadata": {},
     "output_type": "execute_result"
    }
   ],
   "source": [
    "df3.head()"
   ]
  },
  {
   "attachments": {},
   "cell_type": "markdown",
   "id": "2c1077bb",
   "metadata": {},
   "source": [
    "\n",
    "단계 4 : 단계 3에서 최적의 K로 도출한 각 군집에 소속된 학생 수의 비율 중, 가장 큰 값을 구하시오  \n",
    "\n",
    "※ 결과는 반올림하여 소수점 둘째 자리까지 기술하시오. (답안예시 : 2.29)\n",
    "\n"
   ]
  },
  {
   "cell_type": "code",
   "execution_count": null,
   "id": "74f540f7",
   "metadata": {},
   "outputs": [],
   "source": []
  },
  {
   "attachments": {},
   "cell_type": "markdown",
   "id": "fbebe5d6",
   "metadata": {},
   "source": [
    "#### 필요 라이브러리 함수,클래스 및 설정값 목록  \n",
    "\n",
    "from sklearn.cluster import KMeans  \n",
    "from sklearn.metrics import silhouette_score  \n",
    "random_state = 229  \n",
    "문제 지시 외 Default 값 사용  "
   ]
  }
 ],
 "metadata": {
  "kernelspec": {
   "display_name": "Python 3.7.6 64-bit ('3.7.6')",
   "language": "python",
   "name": "python3"
  },
  "language_info": {
   "codemirror_mode": {
    "name": "ipython",
    "version": 3
   },
   "file_extension": ".py",
   "mimetype": "text/x-python",
   "name": "python",
   "nbconvert_exporter": "python",
   "pygments_lexer": "ipython3",
   "version": "3.7.6"
  },
  "vscode": {
   "interpreter": {
    "hash": "162ceaf09f938773ad028a3a2ad644135fdbb6560e1ade87eeac244d09a7763d"
   }
  }
 },
 "nbformat": 4,
 "nbformat_minor": 5
}
