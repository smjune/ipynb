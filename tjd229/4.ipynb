{
 "cells": [
  {
   "attachments": {},
   "cell_type": "markdown",
   "id": "3456d7ec",
   "metadata": {},
   "source": [
    "## 스트리밍 서비스를 제공하는 스타트업 metflix에서 10개월 이상 가입 중인 고객 정보를 이용하여 마케팅 전략을 수립하려한다."
   ]
  },
  {
   "attachments": {},
   "cell_type": "markdown",
   "id": "acc43c03",
   "metadata": {},
   "source": [
    "metflix.csv\n",
    "\n",
    "|컬럼|정의|type|\n",
    "|:---|:---|:---:|\n",
    "|ids|식별 번호|int64|\n",
    "|ages|나이|int64|\n",
    "|bookmarks|즐겨찾기 수|int64|\n",
    "|replies|답글 수|int64|\n",
    "|ratings|별점 수|int64|\n",
    "|watches|시청 횟수|int64|\n",
    "|period|가입 기간([가입 후 경과한 월 수]M)|object|  \n",
    "\n",
    "정답 및 해설 : https://tjd229.tistory.com/23"
   ]
  },
  {
   "cell_type": "code",
   "execution_count": 2,
   "id": "ee1da374",
   "metadata": {},
   "outputs": [
    {
     "data": {
      "text/plain": [
       "(540, 7)"
      ]
     },
     "execution_count": 2,
     "metadata": {},
     "output_type": "execute_result"
    }
   ],
   "source": [
    "import numpy as np\n",
    "import pandas as pd\n",
    "\n",
    "df = pd.read_csv('../content/tjd229/metflix.csv')\n",
    "\n",
    "df.shape"
   ]
  },
  {
   "attachments": {},
   "cell_type": "markdown",
   "id": "140d9a1d",
   "metadata": {},
   "source": [
    "### 분석을 수행하기 전, 아래의 전처리를 수행하시오.\n",
    "\n",
    "단계 1 : 가입 기간(period) 컬럼에서 문자 M을 제거한 후 정수형으로 변경하시오\n",
    "\n",
    "상기 전처리를 완료한 데이터셋(데이터셋명: <span style=\"color:skyblue\">customer</span>)을 이용하여 다음 1~3번 문제에 답하시오."
   ]
  },
  {
   "cell_type": "code",
   "execution_count": 3,
   "id": "71d8131e",
   "metadata": {},
   "outputs": [
    {
     "data": {
      "text/plain": [
       "array(['16M', '10M', '21M', '22M', '24M', '13M', '27M', '19M', '17M',\n",
       "       '15M', '18M', '36M', '34M', '12M', '31M', '11M', '33M', '20M',\n",
       "       '32M', '25M', '14M', '30M', '26M', '23M', '35M', '29M', '28M'],\n",
       "      dtype=object)"
      ]
     },
     "execution_count": 3,
     "metadata": {},
     "output_type": "execute_result"
    }
   ],
   "source": [
    "df.period.unique()"
   ]
  },
  {
   "attachments": {},
   "cell_type": "markdown",
   "id": "5e510dc1",
   "metadata": {},
   "source": [
    " 👉 df.series.str.replace({'A':'B', 'C':'D'})\n",
    "\n",
    "  relace 은 2개 이상 \n",
    "  where 은 조건으로 2개로 분류"
   ]
  },
  {
   "cell_type": "code",
   "execution_count": 4,
   "id": "880eeed1",
   "metadata": {},
   "outputs": [
    {
     "name": "stdout",
     "output_type": "stream",
     "text": [
      "<class 'pandas.core.frame.DataFrame'>\n",
      "RangeIndex: 540 entries, 0 to 539\n",
      "Data columns (total 7 columns):\n",
      " #   Column     Non-Null Count  Dtype\n",
      "---  ------     --------------  -----\n",
      " 0   ids        540 non-null    int64\n",
      " 1   ages       540 non-null    int64\n",
      " 2   bookmarks  540 non-null    int64\n",
      " 3   replies    540 non-null    int64\n",
      " 4   ratings    540 non-null    int64\n",
      " 5   watches    540 non-null    int64\n",
      " 6   period     540 non-null    int64\n",
      "dtypes: int64(7)\n",
      "memory usage: 29.7 KB\n"
     ]
    }
   ],
   "source": [
    "df.period = df.period.str.replace('M','').astype(int)\n",
    "df.info()\n",
    "\n",
    "# df['period'] = df['period'].str.slice(0,2)\n"
   ]
  },
  {
   "cell_type": "code",
   "execution_count": 5,
   "id": "55ff8746",
   "metadata": {},
   "outputs": [],
   "source": [
    "customer = df.copy()"
   ]
  },
  {
   "attachments": {},
   "cell_type": "markdown",
   "id": "5f86dc21",
   "metadata": {},
   "source": [
    "### Q1. (<span style=\"color:skyblue\">customer</span>를 이용하여)별점 수(ratings) 컬럼에서 이상치를 제외한 별점 수(ratings) 평균을 구하시오.  \n",
    "이상치는 아래 구간에 포함되지 않은 데이터로 간주한다.\n",
    "\n",
    "$ [ Median - 2.3 \\times IQR , Median + 2.3 \\times IQR ]  $\n",
    "\n",
    "※ 정답은 반올림하여 소수점 둘째 자리까지 출력하시오.\n",
    "(정답 예시: 2.29)"
   ]
  },
  {
   "attachments": {},
   "cell_type": "markdown",
   "id": "a06bd0cd",
   "metadata": {},
   "source": [
    " 👉 IQR : quantile(0.25, 0.75)"
   ]
  },
  {
   "cell_type": "code",
   "execution_count": 6,
   "id": "060a030c",
   "metadata": {},
   "outputs": [
    {
     "data": {
      "text/plain": [
       "190.5"
      ]
     },
     "execution_count": 6,
     "metadata": {},
     "output_type": "execute_result"
    }
   ],
   "source": [
    "# IQR = Q3 - Q1 \n",
    "Q1 = customer.ratings.quantile(0.25)\n",
    "Q3 = customer.ratings.quantile(0.75)\n",
    "IQR = Q3-Q1\n",
    "IQR\n",
    "\n"
   ]
  },
  {
   "cell_type": "code",
   "execution_count": 7,
   "id": "961ce569",
   "metadata": {},
   "outputs": [
    {
     "data": {
      "text/plain": [
       "(537.65, -338.65)"
      ]
     },
     "execution_count": 7,
     "metadata": {},
     "output_type": "execute_result"
    }
   ],
   "source": [
    "uplimit = customer.ratings.median()+(2.3*IQR)\n",
    "underlimit = customer.ratings.median()-(2.3*IQR)\n",
    "uplimit, underlimit"
   ]
  },
  {
   "cell_type": "code",
   "execution_count": 8,
   "id": "3c5b4369",
   "metadata": {},
   "outputs": [
    {
     "data": {
      "text/plain": [
       "126.77"
      ]
     },
     "execution_count": 8,
     "metadata": {},
     "output_type": "execute_result"
    }
   ],
   "source": [
    "rating_1 = customer.loc[(customer.ratings > underlimit) & (customer.ratings < uplimit), 'ratings' ]\n",
    "rating_1.mean().round(2)"
   ]
  },
  {
   "cell_type": "code",
   "execution_count": 9,
   "id": "83796642",
   "metadata": {},
   "outputs": [],
   "source": [
    "# customer.reset_index(inplace=True)\n",
    "# customer.info()"
   ]
  },
  {
   "attachments": {},
   "cell_type": "markdown",
   "id": "04e5edef",
   "metadata": {},
   "source": [
    "### Q2. (<span style=\"color:skyblue\">customer</span>를 이용하여)고객 나이대 별 활동 빈도를 분석하려고 한다. 다음 단계에 따라 분석을 수행하고 질문에 답하시오.\n",
    "\n",
    "단계 1 : 고객 데이터의 ages 컬럼을 이용하여 아래 규칙에 따라 age_cls 컬럼을 새로 생성한다.\n",
    "- ages가 10이상 19이하인 경우 age_cls는 10s가 된다.  \n",
    "- ages가 20이상 29이하인 경우 age_cls는 20s가 된다.  \n",
    "- ages가 30이상 39이하인 경우 age_cls는 30s가 된다.  \n",
    "- ages가 40이상 49이하인 경우 age_cls는 40s가 된다.  \n",
    "- ages가 50이상인 경우 age_cls는 50s가 된다.  \n",
    "\n",
    "단계 2 : age_cls별 답글 수(replies)의 평균을 구한다.  \n",
    "단계 3 : 단계 2에서 구한 age_cls별 답글 수(replies)의 평균에서 최대값을 A, 최소값을 B라고 할 때, A+B를 구하시오 \n",
    "\n",
    "\n",
    "※ 정답은 반올림하여 소수점 둘째 자리까지 출력하시오.\n",
    "(정답 예시: 2.29)"
   ]
  },
  {
   "cell_type": "code",
   "execution_count": 10,
   "id": "f171ee5c",
   "metadata": {},
   "outputs": [],
   "source": [
    "# default 값을 셋팅한다.\n",
    "customer['age_cls'] = np.nan"
   ]
  },
  {
   "attachments": {},
   "cell_type": "markdown",
   "id": "73f9f582",
   "metadata": {},
   "source": [
    " 👉 cut() / where()\n",
    "\n",
    " cut 은 여러개가 있을때,\n",
    " where 은 2개가 있을때, "
   ]
  },
  {
   "cell_type": "code",
   "execution_count": 11,
   "id": "e2f72a3a",
   "metadata": {},
   "outputs": [
    {
     "data": {
      "text/html": [
       "<div>\n",
       "<style scoped>\n",
       "    .dataframe tbody tr th:only-of-type {\n",
       "        vertical-align: middle;\n",
       "    }\n",
       "\n",
       "    .dataframe tbody tr th {\n",
       "        vertical-align: top;\n",
       "    }\n",
       "\n",
       "    .dataframe thead th {\n",
       "        text-align: right;\n",
       "    }\n",
       "</style>\n",
       "<table border=\"1\" class=\"dataframe\">\n",
       "  <thead>\n",
       "    <tr style=\"text-align: right;\">\n",
       "      <th></th>\n",
       "      <th>ages</th>\n",
       "      <th>age_cls</th>\n",
       "    </tr>\n",
       "  </thead>\n",
       "  <tbody>\n",
       "    <tr>\n",
       "      <th>154</th>\n",
       "      <td>50</td>\n",
       "      <td>50s</td>\n",
       "    </tr>\n",
       "    <tr>\n",
       "      <th>200</th>\n",
       "      <td>50</td>\n",
       "      <td>50s</td>\n",
       "    </tr>\n",
       "    <tr>\n",
       "      <th>268</th>\n",
       "      <td>50</td>\n",
       "      <td>50s</td>\n",
       "    </tr>\n",
       "    <tr>\n",
       "      <th>358</th>\n",
       "      <td>50</td>\n",
       "      <td>50s</td>\n",
       "    </tr>\n",
       "    <tr>\n",
       "      <th>487</th>\n",
       "      <td>50</td>\n",
       "      <td>50s</td>\n",
       "    </tr>\n",
       "  </tbody>\n",
       "</table>\n",
       "</div>"
      ],
      "text/plain": [
       "     ages age_cls\n",
       "154    50     50s\n",
       "200    50     50s\n",
       "268    50     50s\n",
       "358    50     50s\n",
       "487    50     50s"
      ]
     },
     "execution_count": 11,
     "metadata": {},
     "output_type": "execute_result"
    }
   ],
   "source": [
    "\n",
    "customer['age_cls'] = pd.cut(customer.ages, \n",
    "                             bins = [10,19,29,39,49,100],\n",
    "                             labels= ['10s','20s','30s','40s','50s'])\n",
    "customer.loc[customer.ages ==50,['ages','age_cls']]"
   ]
  },
  {
   "cell_type": "code",
   "execution_count": 12,
   "id": "d8e33965",
   "metadata": {},
   "outputs": [
    {
     "data": {
      "text/plain": [
       "age_cls\n",
       "40s     6.482456\n",
       "50s     7.416667\n",
       "10s    68.135135\n",
       "20s    69.344086\n",
       "30s    75.804469\n",
       "Name: replies, dtype: float64"
      ]
     },
     "execution_count": 12,
     "metadata": {},
     "output_type": "execute_result"
    }
   ],
   "source": [
    "# print(customer.groupby('age_cls').mean()) \n",
    "customer.groupby('age_cls').replies.mean().sort_values()\n",
    "\n",
    "#customer.groupby('age_cls').replies 는 series 라서 sort_values() 을 사용"
   ]
  },
  {
   "cell_type": "code",
   "execution_count": 13,
   "id": "e1328e92",
   "metadata": {},
   "outputs": [
    {
     "data": {
      "text/html": [
       "<div>\n",
       "<style scoped>\n",
       "    .dataframe tbody tr th:only-of-type {\n",
       "        vertical-align: middle;\n",
       "    }\n",
       "\n",
       "    .dataframe tbody tr th {\n",
       "        vertical-align: top;\n",
       "    }\n",
       "\n",
       "    .dataframe thead th {\n",
       "        text-align: right;\n",
       "    }\n",
       "</style>\n",
       "<table border=\"1\" class=\"dataframe\">\n",
       "  <thead>\n",
       "    <tr style=\"text-align: right;\">\n",
       "      <th></th>\n",
       "      <th>replies</th>\n",
       "    </tr>\n",
       "    <tr>\n",
       "      <th>age_cls</th>\n",
       "      <th></th>\n",
       "    </tr>\n",
       "  </thead>\n",
       "  <tbody>\n",
       "    <tr>\n",
       "      <th>40s</th>\n",
       "      <td>6.482456</td>\n",
       "    </tr>\n",
       "    <tr>\n",
       "      <th>50s</th>\n",
       "      <td>7.416667</td>\n",
       "    </tr>\n",
       "    <tr>\n",
       "      <th>10s</th>\n",
       "      <td>68.135135</td>\n",
       "    </tr>\n",
       "    <tr>\n",
       "      <th>20s</th>\n",
       "      <td>69.344086</td>\n",
       "    </tr>\n",
       "    <tr>\n",
       "      <th>30s</th>\n",
       "      <td>75.804469</td>\n",
       "    </tr>\n",
       "  </tbody>\n",
       "</table>\n",
       "</div>"
      ],
      "text/plain": [
       "           replies\n",
       "age_cls           \n",
       "40s       6.482456\n",
       "50s       7.416667\n",
       "10s      68.135135\n",
       "20s      69.344086\n",
       "30s      75.804469"
      ]
     },
     "execution_count": 13,
     "metadata": {},
     "output_type": "execute_result"
    }
   ],
   "source": [
    "customer.groupby('age_cls')[['replies']].mean().sort_values(by='replies')\n",
    "\n",
    "#customer.groupby('age_cls')[['replies']] 는 df type 이라서 sort_values(by='replies') 을 사용 "
   ]
  },
  {
   "cell_type": "code",
   "execution_count": 14,
   "id": "88f26536",
   "metadata": {},
   "outputs": [
    {
     "data": {
      "text/html": [
       "<div>\n",
       "<style scoped>\n",
       "    .dataframe tbody tr th:only-of-type {\n",
       "        vertical-align: middle;\n",
       "    }\n",
       "\n",
       "    .dataframe tbody tr th {\n",
       "        vertical-align: top;\n",
       "    }\n",
       "\n",
       "    .dataframe thead th {\n",
       "        text-align: right;\n",
       "    }\n",
       "</style>\n",
       "<table border=\"1\" class=\"dataframe\">\n",
       "  <thead>\n",
       "    <tr style=\"text-align: right;\">\n",
       "      <th></th>\n",
       "      <th>replies</th>\n",
       "    </tr>\n",
       "    <tr>\n",
       "      <th>age_cls</th>\n",
       "      <th></th>\n",
       "    </tr>\n",
       "  </thead>\n",
       "  <tbody>\n",
       "    <tr>\n",
       "      <th>40s</th>\n",
       "      <td>6.482456</td>\n",
       "    </tr>\n",
       "    <tr>\n",
       "      <th>50s</th>\n",
       "      <td>7.416667</td>\n",
       "    </tr>\n",
       "    <tr>\n",
       "      <th>10s</th>\n",
       "      <td>68.135135</td>\n",
       "    </tr>\n",
       "    <tr>\n",
       "      <th>20s</th>\n",
       "      <td>69.344086</td>\n",
       "    </tr>\n",
       "    <tr>\n",
       "      <th>30s</th>\n",
       "      <td>75.804469</td>\n",
       "    </tr>\n",
       "  </tbody>\n",
       "</table>\n",
       "</div>"
      ],
      "text/plain": [
       "           replies\n",
       "age_cls           \n",
       "40s       6.482456\n",
       "50s       7.416667\n",
       "10s      68.135135\n",
       "20s      69.344086\n",
       "30s      75.804469"
      ]
     },
     "execution_count": 14,
     "metadata": {},
     "output_type": "execute_result"
    }
   ],
   "source": [
    "customer.loc[:,['replies','age_cls']].groupby('age_cls').mean().sort_values('replies')"
   ]
  },
  {
   "cell_type": "code",
   "execution_count": 15,
   "id": "ceb2fa89",
   "metadata": {},
   "outputs": [
    {
     "data": {
      "text/plain": [
       "(75.80446927374301, 6.482456140350878)"
      ]
     },
     "execution_count": 15,
     "metadata": {},
     "output_type": "execute_result"
    }
   ],
   "source": [
    "rep_max = customer.groupby('age_cls').replies.mean().max()\n",
    "rep_min = customer.groupby('age_cls').replies.mean().min()\n",
    "rep_max,rep_min\n"
   ]
  },
  {
   "cell_type": "code",
   "execution_count": 16,
   "id": "45cb8263",
   "metadata": {},
   "outputs": [
    {
     "data": {
      "text/plain": [
       "82.29"
      ]
     },
     "execution_count": 16,
     "metadata": {},
     "output_type": "execute_result"
    }
   ],
   "source": [
    "\n",
    "round(rep_max+rep_min,2)"
   ]
  },
  {
   "cell_type": "code",
   "execution_count": 17,
   "id": "aceee138",
   "metadata": {},
   "outputs": [
    {
     "name": "stdout",
     "output_type": "stream",
     "text": [
      "<class 'pandas.core.frame.DataFrame'>\n",
      "RangeIndex: 540 entries, 0 to 539\n",
      "Data columns (total 8 columns):\n",
      " #   Column     Non-Null Count  Dtype   \n",
      "---  ------     --------------  -----   \n",
      " 0   ids        540 non-null    int64   \n",
      " 1   ages       540 non-null    int64   \n",
      " 2   bookmarks  540 non-null    int64   \n",
      " 3   replies    540 non-null    int64   \n",
      " 4   ratings    540 non-null    int64   \n",
      " 5   watches    540 non-null    int64   \n",
      " 6   period     540 non-null    int64   \n",
      " 7   age_cls    540 non-null    category\n",
      "dtypes: category(1), int64(7)\n",
      "memory usage: 30.4 KB\n"
     ]
    }
   ],
   "source": [
    "customer.info()"
   ]
  },
  {
   "attachments": {},
   "cell_type": "markdown",
   "id": "aa80731f",
   "metadata": {},
   "source": [
    "### Q3. (<span style=\"color:skyblue\">customer</span>를 이용하여)고객 나이대를 예측하기 위한 모델을 만드려고 한다. 다음 단계에 따라 분석을 수행하고 질문에 답하시오.\n",
    "\n",
    "단계 1 : 고객 데이터의 ages 컬럼을 이용하여 아래 규칙에 따라 age_cls 컬럼을 새로 생성한다.  \n",
    "- ages가 40이상인 경우 age_cls는 1이 되고, 그 외에는 0이 된다. \n"
   ]
  },
  {
   "cell_type": "code",
   "execution_count": 35,
   "id": "26f23249",
   "metadata": {},
   "outputs": [],
   "source": [
    "df3 = customer.copy()"
   ]
  },
  {
   "cell_type": "code",
   "execution_count": 19,
   "id": "e061317a",
   "metadata": {},
   "outputs": [
    {
     "data": {
      "text/html": [
       "<div>\n",
       "<style scoped>\n",
       "    .dataframe tbody tr th:only-of-type {\n",
       "        vertical-align: middle;\n",
       "    }\n",
       "\n",
       "    .dataframe tbody tr th {\n",
       "        vertical-align: top;\n",
       "    }\n",
       "\n",
       "    .dataframe thead th {\n",
       "        text-align: right;\n",
       "    }\n",
       "</style>\n",
       "<table border=\"1\" class=\"dataframe\">\n",
       "  <thead>\n",
       "    <tr style=\"text-align: right;\">\n",
       "      <th></th>\n",
       "      <th>ids</th>\n",
       "      <th>ages</th>\n",
       "      <th>bookmarks</th>\n",
       "      <th>replies</th>\n",
       "      <th>ratings</th>\n",
       "      <th>watches</th>\n",
       "      <th>period</th>\n",
       "      <th>age_cls</th>\n",
       "    </tr>\n",
       "  </thead>\n",
       "  <tbody>\n",
       "    <tr>\n",
       "      <th>0</th>\n",
       "      <td>912.0</td>\n",
       "      <td>47.0</td>\n",
       "      <td>5.0</td>\n",
       "      <td>11.0</td>\n",
       "      <td>23.0</td>\n",
       "      <td>74.0</td>\n",
       "      <td>16.0</td>\n",
       "      <td>40s</td>\n",
       "    </tr>\n",
       "    <tr>\n",
       "      <th>1</th>\n",
       "      <td>325.0</td>\n",
       "      <td>44.0</td>\n",
       "      <td>6.0</td>\n",
       "      <td>4.0</td>\n",
       "      <td>11.0</td>\n",
       "      <td>90.0</td>\n",
       "      <td>10.0</td>\n",
       "      <td>40s</td>\n",
       "    </tr>\n",
       "    <tr>\n",
       "      <th>2</th>\n",
       "      <td>282.0</td>\n",
       "      <td>49.0</td>\n",
       "      <td>6.0</td>\n",
       "      <td>12.0</td>\n",
       "      <td>38.0</td>\n",
       "      <td>188.0</td>\n",
       "      <td>10.0</td>\n",
       "      <td>40s</td>\n",
       "    </tr>\n",
       "    <tr>\n",
       "      <th>3</th>\n",
       "      <td>NaN</td>\n",
       "      <td>NaN</td>\n",
       "      <td>NaN</td>\n",
       "      <td>NaN</td>\n",
       "      <td>NaN</td>\n",
       "      <td>NaN</td>\n",
       "      <td>NaN</td>\n",
       "      <td>NaN</td>\n",
       "    </tr>\n",
       "    <tr>\n",
       "      <th>4</th>\n",
       "      <td>NaN</td>\n",
       "      <td>NaN</td>\n",
       "      <td>NaN</td>\n",
       "      <td>NaN</td>\n",
       "      <td>NaN</td>\n",
       "      <td>NaN</td>\n",
       "      <td>NaN</td>\n",
       "      <td>NaN</td>\n",
       "    </tr>\n",
       "  </tbody>\n",
       "</table>\n",
       "</div>"
      ],
      "text/plain": [
       "     ids  ages  bookmarks  replies  ratings  watches  period age_cls\n",
       "0  912.0  47.0        5.0     11.0     23.0     74.0    16.0     40s\n",
       "1  325.0  44.0        6.0      4.0     11.0     90.0    10.0     40s\n",
       "2  282.0  49.0        6.0     12.0     38.0    188.0    10.0     40s\n",
       "3    NaN   NaN        NaN      NaN      NaN      NaN     NaN     NaN\n",
       "4    NaN   NaN        NaN      NaN      NaN      NaN     NaN     NaN"
      ]
     },
     "execution_count": 19,
     "metadata": {},
     "output_type": "execute_result"
    }
   ],
   "source": [
    "df3.where(df3.ages >= 40).head()\n",
    "\n",
    "# 40 큰 값은 그대로 유지되어 가져오고, 그외 값은 NaN"
   ]
  },
  {
   "attachments": {},
   "cell_type": "markdown",
   "id": "0e5f1ef8",
   "metadata": {},
   "source": [
    "👉 np.where\n",
    "\n",
    "df.where, series.where 은 필터링한 값을 가져온다.\n",
    "\n",
    "np.where은 해당 원소 값 대신 위치를 가져온다는 점과 값이 True인 위치에도 대치할 값 지정이 가능하다는 점\n",
    "\n",
    "```df.series = np.where(df.series 조건, true, false)```"
   ]
  },
  {
   "cell_type": "code",
   "execution_count": 36,
   "id": "5f14ebb7",
   "metadata": {},
   "outputs": [
    {
     "data": {
      "text/html": [
       "<div>\n",
       "<style scoped>\n",
       "    .dataframe tbody tr th:only-of-type {\n",
       "        vertical-align: middle;\n",
       "    }\n",
       "\n",
       "    .dataframe tbody tr th {\n",
       "        vertical-align: top;\n",
       "    }\n",
       "\n",
       "    .dataframe thead th {\n",
       "        text-align: right;\n",
       "    }\n",
       "</style>\n",
       "<table border=\"1\" class=\"dataframe\">\n",
       "  <thead>\n",
       "    <tr style=\"text-align: right;\">\n",
       "      <th></th>\n",
       "      <th>ids</th>\n",
       "      <th>ages</th>\n",
       "      <th>bookmarks</th>\n",
       "      <th>replies</th>\n",
       "      <th>ratings</th>\n",
       "      <th>watches</th>\n",
       "      <th>period</th>\n",
       "      <th>age_cls</th>\n",
       "    </tr>\n",
       "  </thead>\n",
       "  <tbody>\n",
       "    <tr>\n",
       "      <th>0</th>\n",
       "      <td>912</td>\n",
       "      <td>47</td>\n",
       "      <td>5</td>\n",
       "      <td>11</td>\n",
       "      <td>23</td>\n",
       "      <td>74</td>\n",
       "      <td>16</td>\n",
       "      <td>1</td>\n",
       "    </tr>\n",
       "    <tr>\n",
       "      <th>1</th>\n",
       "      <td>325</td>\n",
       "      <td>44</td>\n",
       "      <td>6</td>\n",
       "      <td>4</td>\n",
       "      <td>11</td>\n",
       "      <td>90</td>\n",
       "      <td>10</td>\n",
       "      <td>1</td>\n",
       "    </tr>\n",
       "    <tr>\n",
       "      <th>2</th>\n",
       "      <td>282</td>\n",
       "      <td>49</td>\n",
       "      <td>6</td>\n",
       "      <td>12</td>\n",
       "      <td>38</td>\n",
       "      <td>188</td>\n",
       "      <td>10</td>\n",
       "      <td>1</td>\n",
       "    </tr>\n",
       "    <tr>\n",
       "      <th>3</th>\n",
       "      <td>1234</td>\n",
       "      <td>21</td>\n",
       "      <td>13</td>\n",
       "      <td>53</td>\n",
       "      <td>89</td>\n",
       "      <td>766</td>\n",
       "      <td>21</td>\n",
       "      <td>0</td>\n",
       "    </tr>\n",
       "    <tr>\n",
       "      <th>4</th>\n",
       "      <td>1279</td>\n",
       "      <td>25</td>\n",
       "      <td>40</td>\n",
       "      <td>73</td>\n",
       "      <td>186</td>\n",
       "      <td>736</td>\n",
       "      <td>22</td>\n",
       "      <td>0</td>\n",
       "    </tr>\n",
       "  </tbody>\n",
       "</table>\n",
       "</div>"
      ],
      "text/plain": [
       "    ids  ages  bookmarks  replies  ratings  watches  period  age_cls\n",
       "0   912    47          5       11       23       74      16        1\n",
       "1   325    44          6        4       11       90      10        1\n",
       "2   282    49          6       12       38      188      10        1\n",
       "3  1234    21         13       53       89      766      21        0\n",
       "4  1279    25         40       73      186      736      22        0"
      ]
     },
     "execution_count": 36,
     "metadata": {},
     "output_type": "execute_result"
    }
   ],
   "source": [
    "df3.age_cls = np.where(df3.ages >= 40,1,0)\n",
    "df3.head()\n",
    "# df3.where(df3.ages >= 40,1)   # -> 40 큰 값은 그대로 유지되어 가져오고, 그외 값은 (NaN) 은 1로 대체 됨\n",
    "# df3 = np.where(df3.ages >= 40,1,0) # -> 0,1 이 채워진 리스트로 df3 가 업데이트 됨.\n"
   ]
  },
  {
   "attachments": {},
   "cell_type": "markdown",
   "id": "422efee6",
   "metadata": {},
   "source": [
    "단계 2 : Train Set과 Test Set을 99:1 비율로 나눈다.  \n",
    "- Train Set에서 답글 수(replies)가 0인 데이터는 총 13개이다.\n",
    "- Test Set에서 답글 수(replies)가 0인 데이터는 존재하지 않는다."
   ]
  },
  {
   "cell_type": "code",
   "execution_count": 37,
   "id": "715591ee",
   "metadata": {},
   "outputs": [],
   "source": [
    "from sklearn.model_selection import train_test_split  \n",
    "\n",
    "Train, test = train_test_split(df3,test_size=0.01,random_state=229)\n"
   ]
  },
  {
   "cell_type": "code",
   "execution_count": 38,
   "id": "8420457d",
   "metadata": {},
   "outputs": [
    {
     "data": {
      "text/plain": [
       "41    1\n",
       "94    1\n",
       "22    1\n",
       "68    1\n",
       "91    1\n",
       "8     1\n",
       "Name: replies, dtype: int64"
      ]
     },
     "execution_count": 38,
     "metadata": {},
     "output_type": "execute_result"
    }
   ],
   "source": [
    "test.replies.value_counts()"
   ]
  },
  {
   "cell_type": "code",
   "execution_count": 39,
   "id": "11831d09",
   "metadata": {},
   "outputs": [
    {
     "data": {
      "text/html": [
       "<div>\n",
       "<style scoped>\n",
       "    .dataframe tbody tr th:only-of-type {\n",
       "        vertical-align: middle;\n",
       "    }\n",
       "\n",
       "    .dataframe tbody tr th {\n",
       "        vertical-align: top;\n",
       "    }\n",
       "\n",
       "    .dataframe thead th {\n",
       "        text-align: right;\n",
       "    }\n",
       "</style>\n",
       "<table border=\"1\" class=\"dataframe\">\n",
       "  <thead>\n",
       "    <tr style=\"text-align: right;\">\n",
       "      <th></th>\n",
       "      <th>ids</th>\n",
       "      <th>ages</th>\n",
       "      <th>bookmarks</th>\n",
       "      <th>replies</th>\n",
       "      <th>ratings</th>\n",
       "      <th>watches</th>\n",
       "      <th>period</th>\n",
       "      <th>age_cls</th>\n",
       "    </tr>\n",
       "  </thead>\n",
       "  <tbody>\n",
       "    <tr>\n",
       "      <th>336</th>\n",
       "      <td>195</td>\n",
       "      <td>48</td>\n",
       "      <td>2</td>\n",
       "      <td>7</td>\n",
       "      <td>20</td>\n",
       "      <td>190</td>\n",
       "      <td>10</td>\n",
       "      <td>1</td>\n",
       "    </tr>\n",
       "    <tr>\n",
       "      <th>278</th>\n",
       "      <td>1334</td>\n",
       "      <td>24</td>\n",
       "      <td>15</td>\n",
       "      <td>0</td>\n",
       "      <td>0</td>\n",
       "      <td>647</td>\n",
       "      <td>23</td>\n",
       "      <td>0</td>\n",
       "    </tr>\n",
       "    <tr>\n",
       "      <th>149</th>\n",
       "      <td>500</td>\n",
       "      <td>49</td>\n",
       "      <td>0</td>\n",
       "      <td>4</td>\n",
       "      <td>6</td>\n",
       "      <td>84</td>\n",
       "      <td>10</td>\n",
       "      <td>1</td>\n",
       "    </tr>\n",
       "    <tr>\n",
       "      <th>241</th>\n",
       "      <td>2130</td>\n",
       "      <td>23</td>\n",
       "      <td>46</td>\n",
       "      <td>102</td>\n",
       "      <td>103</td>\n",
       "      <td>716</td>\n",
       "      <td>36</td>\n",
       "      <td>0</td>\n",
       "    </tr>\n",
       "    <tr>\n",
       "      <th>413</th>\n",
       "      <td>2140</td>\n",
       "      <td>42</td>\n",
       "      <td>2</td>\n",
       "      <td>1</td>\n",
       "      <td>3</td>\n",
       "      <td>80</td>\n",
       "      <td>36</td>\n",
       "      <td>1</td>\n",
       "    </tr>\n",
       "    <tr>\n",
       "      <th>...</th>\n",
       "      <td>...</td>\n",
       "      <td>...</td>\n",
       "      <td>...</td>\n",
       "      <td>...</td>\n",
       "      <td>...</td>\n",
       "      <td>...</td>\n",
       "      <td>...</td>\n",
       "      <td>...</td>\n",
       "    </tr>\n",
       "    <tr>\n",
       "      <th>50</th>\n",
       "      <td>182</td>\n",
       "      <td>37</td>\n",
       "      <td>6</td>\n",
       "      <td>81</td>\n",
       "      <td>234</td>\n",
       "      <td>841</td>\n",
       "      <td>10</td>\n",
       "      <td>0</td>\n",
       "    </tr>\n",
       "    <tr>\n",
       "      <th>501</th>\n",
       "      <td>406</td>\n",
       "      <td>24</td>\n",
       "      <td>26</td>\n",
       "      <td>71</td>\n",
       "      <td>81</td>\n",
       "      <td>309</td>\n",
       "      <td>10</td>\n",
       "      <td>0</td>\n",
       "    </tr>\n",
       "    <tr>\n",
       "      <th>112</th>\n",
       "      <td>360</td>\n",
       "      <td>42</td>\n",
       "      <td>5</td>\n",
       "      <td>11</td>\n",
       "      <td>36</td>\n",
       "      <td>181</td>\n",
       "      <td>10</td>\n",
       "      <td>1</td>\n",
       "    </tr>\n",
       "    <tr>\n",
       "      <th>476</th>\n",
       "      <td>621</td>\n",
       "      <td>33</td>\n",
       "      <td>6</td>\n",
       "      <td>139</td>\n",
       "      <td>388</td>\n",
       "      <td>53</td>\n",
       "      <td>11</td>\n",
       "      <td>0</td>\n",
       "    </tr>\n",
       "    <tr>\n",
       "      <th>345</th>\n",
       "      <td>1475</td>\n",
       "      <td>38</td>\n",
       "      <td>19</td>\n",
       "      <td>40</td>\n",
       "      <td>71</td>\n",
       "      <td>353</td>\n",
       "      <td>10</td>\n",
       "      <td>0</td>\n",
       "    </tr>\n",
       "  </tbody>\n",
       "</table>\n",
       "<p>534 rows × 8 columns</p>\n",
       "</div>"
      ],
      "text/plain": [
       "      ids  ages  bookmarks  replies  ratings  watches  period  age_cls\n",
       "336   195    48          2        7       20      190      10        1\n",
       "278  1334    24         15        0        0      647      23        0\n",
       "149   500    49          0        4        6       84      10        1\n",
       "241  2130    23         46      102      103      716      36        0\n",
       "413  2140    42          2        1        3       80      36        1\n",
       "..    ...   ...        ...      ...      ...      ...     ...      ...\n",
       "50    182    37          6       81      234      841      10        0\n",
       "501   406    24         26       71       81      309      10        0\n",
       "112   360    42          5       11       36      181      10        1\n",
       "476   621    33          6      139      388       53      11        0\n",
       "345  1475    38         19       40       71      353      10        0\n",
       "\n",
       "[534 rows x 8 columns]"
      ]
     },
     "execution_count": 39,
     "metadata": {},
     "output_type": "execute_result"
    }
   ],
   "source": [
    "Train"
   ]
  },
  {
   "cell_type": "code",
   "execution_count": 40,
   "id": "c1e78467",
   "metadata": {},
   "outputs": [],
   "source": [
    "\n",
    "from sklearn.neighbors import KNeighborsClassifier"
   ]
  },
  {
   "attachments": {},
   "cell_type": "markdown",
   "id": "065b039c",
   "metadata": {},
   "source": [
    "단계 3 : Train Set을 이용하여 KNeighborsClassifier를 학습한다. \n",
    "- 독립 변수 : 가입 기간(period)을 (replies+0.01)로 나눈 값\n",
    "- 종속 변수 : age_cls\n"
   ]
  },
  {
   "attachments": {},
   "cell_type": "markdown",
   "id": "36535e5a",
   "metadata": {},
   "source": [
    "👉 Series.to_frame()"
   ]
  },
  {
   "cell_type": "code",
   "execution_count": 41,
   "id": "0e8d8e74",
   "metadata": {},
   "outputs": [],
   "source": [
    "X_train_3 = (Train.period/(Train.replies+0.01)).to_frame()\n",
    "X_test_3  = (test['period']/(test['replies']+0.01)).to_frame()\n",
    "\n",
    "y_train_3 = Train['age_cls']\n",
    "y_test_3 = test['age_cls']"
   ]
  },
  {
   "attachments": {},
   "cell_type": "markdown",
   "id": "6ec19f22",
   "metadata": {},
   "source": [
    "👉 KNeighborsClassifier\n",
    "\n",
    ">n_neighborsint (default=5)  \n",
    "p (default=2) :  1 - manhattan_distance, 2 - euclidean_distance  \n",
    "weights(default='uniform'): 'distance'로 설정하면, 분류할 때 인접한 샘플의 거리에 따라 다른 가중치 부여 (가까울수록 큰 가중치, 거리역순)\n",
    "\n",
    ">knn.predict: 예측한 클래스 번호를 반환  \n",
    "knn.predict_proba: 클래스 별 확률 값을 반환  \n",
    "knn.kneighbors: 인접한 k개의 sample에 대해 거리, index를 반환  \n",
    "\n"
   ]
  },
  {
   "attachments": {},
   "cell_type": "markdown",
   "id": "e98a5981",
   "metadata": {},
   "source": [
    "KNeighborsRegressor"
   ]
  },
  {
   "cell_type": "code",
   "execution_count": 43,
   "id": "7bfeb645",
   "metadata": {},
   "outputs": [
    {
     "data": {
      "text/html": [
       "<div>\n",
       "<style scoped>\n",
       "    .dataframe tbody tr th:only-of-type {\n",
       "        vertical-align: middle;\n",
       "    }\n",
       "\n",
       "    .dataframe tbody tr th {\n",
       "        vertical-align: top;\n",
       "    }\n",
       "\n",
       "    .dataframe thead th {\n",
       "        text-align: right;\n",
       "    }\n",
       "</style>\n",
       "<table border=\"1\" class=\"dataframe\">\n",
       "  <thead>\n",
       "    <tr style=\"text-align: right;\">\n",
       "      <th></th>\n",
       "      <th>ids</th>\n",
       "      <th>ages</th>\n",
       "      <th>bookmarks</th>\n",
       "      <th>replies</th>\n",
       "      <th>ratings</th>\n",
       "      <th>watches</th>\n",
       "      <th>period</th>\n",
       "      <th>age_cls</th>\n",
       "      <th>pred</th>\n",
       "    </tr>\n",
       "  </thead>\n",
       "  <tbody>\n",
       "    <tr>\n",
       "      <th>503</th>\n",
       "      <td>2145</td>\n",
       "      <td>37</td>\n",
       "      <td>34</td>\n",
       "      <td>41</td>\n",
       "      <td>50</td>\n",
       "      <td>123</td>\n",
       "      <td>36</td>\n",
       "      <td>0</td>\n",
       "      <td>0</td>\n",
       "    </tr>\n",
       "    <tr>\n",
       "      <th>397</th>\n",
       "      <td>95</td>\n",
       "      <td>26</td>\n",
       "      <td>19</td>\n",
       "      <td>94</td>\n",
       "      <td>161</td>\n",
       "      <td>782</td>\n",
       "      <td>10</td>\n",
       "      <td>0</td>\n",
       "      <td>0</td>\n",
       "    </tr>\n",
       "    <tr>\n",
       "      <th>524</th>\n",
       "      <td>1241</td>\n",
       "      <td>35</td>\n",
       "      <td>20</td>\n",
       "      <td>22</td>\n",
       "      <td>70</td>\n",
       "      <td>831</td>\n",
       "      <td>21</td>\n",
       "      <td>0</td>\n",
       "      <td>0</td>\n",
       "    </tr>\n",
       "    <tr>\n",
       "      <th>32</th>\n",
       "      <td>635</td>\n",
       "      <td>24</td>\n",
       "      <td>49</td>\n",
       "      <td>68</td>\n",
       "      <td>187</td>\n",
       "      <td>430</td>\n",
       "      <td>12</td>\n",
       "      <td>0</td>\n",
       "      <td>0</td>\n",
       "    </tr>\n",
       "    <tr>\n",
       "      <th>341</th>\n",
       "      <td>855</td>\n",
       "      <td>21</td>\n",
       "      <td>26</td>\n",
       "      <td>91</td>\n",
       "      <td>303</td>\n",
       "      <td>456</td>\n",
       "      <td>15</td>\n",
       "      <td>0</td>\n",
       "      <td>0</td>\n",
       "    </tr>\n",
       "    <tr>\n",
       "      <th>225</th>\n",
       "      <td>513</td>\n",
       "      <td>52</td>\n",
       "      <td>0</td>\n",
       "      <td>8</td>\n",
       "      <td>29</td>\n",
       "      <td>74</td>\n",
       "      <td>10</td>\n",
       "      <td>1</td>\n",
       "      <td>1</td>\n",
       "    </tr>\n",
       "  </tbody>\n",
       "</table>\n",
       "</div>"
      ],
      "text/plain": [
       "      ids  ages  bookmarks  replies  ratings  watches  period  age_cls  pred\n",
       "503  2145    37         34       41       50      123      36        0     0\n",
       "397    95    26         19       94      161      782      10        0     0\n",
       "524  1241    35         20       22       70      831      21        0     0\n",
       "32    635    24         49       68      187      430      12        0     0\n",
       "341   855    21         26       91      303      456      15        0     0\n",
       "225   513    52          0        8       29       74      10        1     1"
      ]
     },
     "execution_count": 43,
     "metadata": {},
     "output_type": "execute_result"
    }
   ],
   "source": [
    "my_knn = KNeighborsClassifier(p=1,weights='distance')\n",
    "my_knn.fit(X_train_3, y_train_3)\n",
    "y_pred_3 = my_knn.predict(X_test_3)\n",
    "\n",
    "test['pred'] = y_pred_3\n",
    "\n",
    "test"
   ]
  },
  {
   "cell_type": "code",
   "execution_count": 60,
   "id": "0d546080",
   "metadata": {},
   "outputs": [],
   "source": [
    "A1 = test.loc[(test.age_cls == 0) & (test.pred == 0) , ['age_cls','pred']].shape[0]\n"
   ]
  },
  {
   "cell_type": "code",
   "execution_count": 61,
   "id": "39304eec",
   "metadata": {},
   "outputs": [],
   "source": [
    "B1 =test.loc[(test.age_cls == 1) & (test.pred == 0) , ['age_cls','pred']].shape[0]"
   ]
  },
  {
   "cell_type": "code",
   "execution_count": 62,
   "id": "c01ccd99",
   "metadata": {},
   "outputs": [
    {
     "data": {
      "text/plain": [
       "1.0"
      ]
     },
     "execution_count": 62,
     "metadata": {},
     "output_type": "execute_result"
    }
   ],
   "source": [
    "answer1 = A1/A1+B1\n",
    "answer1\n"
   ]
  },
  {
   "attachments": {},
   "cell_type": "markdown",
   "id": "c24ad145",
   "metadata": {},
   "source": [
    "👉 precision_score"
   ]
  },
  {
   "cell_type": "code",
   "execution_count": 70,
   "id": "773e6257",
   "metadata": {},
   "outputs": [
    {
     "data": {
      "text/plain": [
       "1.0"
      ]
     },
     "execution_count": 70,
     "metadata": {},
     "output_type": "execute_result"
    }
   ],
   "source": [
    "from sklearn.metrics import precision_score, classification_report\n",
    "\n",
    "precision_score(test.age_cls,test.pred,pos_label=0)"
   ]
  },
  {
   "cell_type": "code",
   "execution_count": 73,
   "metadata": {},
   "outputs": [
    {
     "name": "stdout",
     "output_type": "stream",
     "text": [
      "              precision    recall  f1-score   support\n",
      "\n",
      "           0       1.00      1.00      1.00         5\n",
      "           1       1.00      1.00      1.00         1\n",
      "\n",
      "    accuracy                           1.00         6\n",
      "   macro avg       1.00      1.00      1.00         6\n",
      "weighted avg       1.00      1.00      1.00         6\n",
      "\n"
     ]
    }
   ],
   "source": [
    "print(classification_report(test.age_cls,test.pred))\n"
   ]
  },
  {
   "attachments": {},
   "cell_type": "markdown",
   "id": "45169608",
   "metadata": {},
   "source": [
    "단계 4 : Train Set을 이용하여 KNeighborsClassifier를 새로 학습한다. \n",
    "- 독립 변수 : 가입 기간(period)을 답글 수(replies)로 나눈 값, 나누기 전 답글 수(replies)가 0인 데이터는 제거한다.\n",
    "- 종속 변수 : age_cls\n"
   ]
  },
  {
   "cell_type": "code",
   "execution_count": 44,
   "id": "11ab01a2",
   "metadata": {},
   "outputs": [],
   "source": [
    "Train2 = Train.loc[Train.replies != 0,].copy()"
   ]
  },
  {
   "cell_type": "code",
   "execution_count": 45,
   "id": "4d923810",
   "metadata": {},
   "outputs": [],
   "source": [
    "X_train_4 = (Train2.period/(Train2.replies)).to_frame()\n",
    "X_test_4  = (test['period']/(test['replies'])).to_frame()\n",
    "\n",
    "y_train_4 = Train2['age_cls']\n",
    "y_test_4 = test['age_cls']"
   ]
  },
  {
   "cell_type": "code",
   "execution_count": 46,
   "id": "4c70c038",
   "metadata": {},
   "outputs": [
    {
     "data": {
      "text/html": [
       "<div>\n",
       "<style scoped>\n",
       "    .dataframe tbody tr th:only-of-type {\n",
       "        vertical-align: middle;\n",
       "    }\n",
       "\n",
       "    .dataframe tbody tr th {\n",
       "        vertical-align: top;\n",
       "    }\n",
       "\n",
       "    .dataframe thead th {\n",
       "        text-align: right;\n",
       "    }\n",
       "</style>\n",
       "<table border=\"1\" class=\"dataframe\">\n",
       "  <thead>\n",
       "    <tr style=\"text-align: right;\">\n",
       "      <th></th>\n",
       "      <th>ids</th>\n",
       "      <th>ages</th>\n",
       "      <th>bookmarks</th>\n",
       "      <th>replies</th>\n",
       "      <th>ratings</th>\n",
       "      <th>watches</th>\n",
       "      <th>period</th>\n",
       "      <th>age_cls</th>\n",
       "      <th>pred</th>\n",
       "      <th>pred2</th>\n",
       "    </tr>\n",
       "  </thead>\n",
       "  <tbody>\n",
       "    <tr>\n",
       "      <th>503</th>\n",
       "      <td>2145</td>\n",
       "      <td>37</td>\n",
       "      <td>34</td>\n",
       "      <td>41</td>\n",
       "      <td>50</td>\n",
       "      <td>123</td>\n",
       "      <td>36</td>\n",
       "      <td>0</td>\n",
       "      <td>0</td>\n",
       "      <td>0</td>\n",
       "    </tr>\n",
       "    <tr>\n",
       "      <th>397</th>\n",
       "      <td>95</td>\n",
       "      <td>26</td>\n",
       "      <td>19</td>\n",
       "      <td>94</td>\n",
       "      <td>161</td>\n",
       "      <td>782</td>\n",
       "      <td>10</td>\n",
       "      <td>0</td>\n",
       "      <td>0</td>\n",
       "      <td>0</td>\n",
       "    </tr>\n",
       "    <tr>\n",
       "      <th>524</th>\n",
       "      <td>1241</td>\n",
       "      <td>35</td>\n",
       "      <td>20</td>\n",
       "      <td>22</td>\n",
       "      <td>70</td>\n",
       "      <td>831</td>\n",
       "      <td>21</td>\n",
       "      <td>0</td>\n",
       "      <td>0</td>\n",
       "      <td>0</td>\n",
       "    </tr>\n",
       "    <tr>\n",
       "      <th>32</th>\n",
       "      <td>635</td>\n",
       "      <td>24</td>\n",
       "      <td>49</td>\n",
       "      <td>68</td>\n",
       "      <td>187</td>\n",
       "      <td>430</td>\n",
       "      <td>12</td>\n",
       "      <td>0</td>\n",
       "      <td>0</td>\n",
       "      <td>0</td>\n",
       "    </tr>\n",
       "    <tr>\n",
       "      <th>341</th>\n",
       "      <td>855</td>\n",
       "      <td>21</td>\n",
       "      <td>26</td>\n",
       "      <td>91</td>\n",
       "      <td>303</td>\n",
       "      <td>456</td>\n",
       "      <td>15</td>\n",
       "      <td>0</td>\n",
       "      <td>0</td>\n",
       "      <td>0</td>\n",
       "    </tr>\n",
       "    <tr>\n",
       "      <th>225</th>\n",
       "      <td>513</td>\n",
       "      <td>52</td>\n",
       "      <td>0</td>\n",
       "      <td>8</td>\n",
       "      <td>29</td>\n",
       "      <td>74</td>\n",
       "      <td>10</td>\n",
       "      <td>1</td>\n",
       "      <td>1</td>\n",
       "      <td>1</td>\n",
       "    </tr>\n",
       "  </tbody>\n",
       "</table>\n",
       "</div>"
      ],
      "text/plain": [
       "      ids  ages  bookmarks  replies  ratings  watches  period  age_cls  pred  \\\n",
       "503  2145    37         34       41       50      123      36        0     0   \n",
       "397    95    26         19       94      161      782      10        0     0   \n",
       "524  1241    35         20       22       70      831      21        0     0   \n",
       "32    635    24         49       68      187      430      12        0     0   \n",
       "341   855    21         26       91      303      456      15        0     0   \n",
       "225   513    52          0        8       29       74      10        1     1   \n",
       "\n",
       "     pred2  \n",
       "503      0  \n",
       "397      0  \n",
       "524      0  \n",
       "32       0  \n",
       "341      0  \n",
       "225      1  "
      ]
     },
     "execution_count": 46,
     "metadata": {},
     "output_type": "execute_result"
    }
   ],
   "source": [
    "my_knn = KNeighborsClassifier(p=1,weights='distance')\n",
    "my_knn.fit(X_train_4, y_train_4)\n",
    "y_pred_4 = my_knn.predict(X_test_4)\n",
    "test['pred2'] = y_pred_4\n",
    "test"
   ]
  },
  {
   "cell_type": "code",
   "execution_count": 63,
   "id": "1d0bd3f6",
   "metadata": {},
   "outputs": [],
   "source": [
    "A2 = test.loc[(test.age_cls == 0) & (test.pred2 == 0) , ['age_cls','pred2']].shape[0]"
   ]
  },
  {
   "cell_type": "code",
   "execution_count": 67,
   "id": "ce165ecd",
   "metadata": {},
   "outputs": [
    {
     "data": {
      "text/html": [
       "<div>\n",
       "<style scoped>\n",
       "    .dataframe tbody tr th:only-of-type {\n",
       "        vertical-align: middle;\n",
       "    }\n",
       "\n",
       "    .dataframe tbody tr th {\n",
       "        vertical-align: top;\n",
       "    }\n",
       "\n",
       "    .dataframe thead th {\n",
       "        text-align: right;\n",
       "    }\n",
       "</style>\n",
       "<table border=\"1\" class=\"dataframe\">\n",
       "  <thead>\n",
       "    <tr style=\"text-align: right;\">\n",
       "      <th></th>\n",
       "      <th>age_cls</th>\n",
       "      <th>pred2</th>\n",
       "    </tr>\n",
       "  </thead>\n",
       "  <tbody>\n",
       "  </tbody>\n",
       "</table>\n",
       "</div>"
      ],
      "text/plain": [
       "Empty DataFrame\n",
       "Columns: [age_cls, pred2]\n",
       "Index: []"
      ]
     },
     "execution_count": 67,
     "metadata": {},
     "output_type": "execute_result"
    }
   ],
   "source": [
    "B2 =test.loc[(test.age_cls == 1) & (test.pred2 == 0) , ['age_cls','pred2']].shape[0]"
   ]
  },
  {
   "cell_type": "code",
   "execution_count": 65,
   "id": "229910f2",
   "metadata": {},
   "outputs": [
    {
     "data": {
      "text/plain": [
       "1.0"
      ]
     },
     "execution_count": 65,
     "metadata": {},
     "output_type": "execute_result"
    }
   ],
   "source": [
    "answer2 = A2/A2+B2\n",
    "answer2"
   ]
  },
  {
   "cell_type": "code",
   "execution_count": 75,
   "id": "86efb2e9",
   "metadata": {},
   "outputs": [
    {
     "name": "stdout",
     "output_type": "stream",
     "text": [
      "              precision    recall  f1-score   support\n",
      "\n",
      "           0       1.00      1.00      1.00         5\n",
      "           1       1.00      1.00      1.00         1\n",
      "\n",
      "    accuracy                           1.00         6\n",
      "   macro avg       1.00      1.00      1.00         6\n",
      "weighted avg       1.00      1.00      1.00         6\n",
      "\n"
     ]
    }
   ],
   "source": [
    "print(classification_report(test.age_cls,test.pred2))"
   ]
  },
  {
   "attachments": {},
   "cell_type": "markdown",
   "id": "80e82c8e",
   "metadata": {},
   "source": [
    "classification_report"
   ]
  },
  {
   "attachments": {},
   "cell_type": "markdown",
   "id": "ce430405",
   "metadata": {},
   "source": [
    "\n",
    "단계 5 : 단계 4와 단계 5에서 학습한 두 모델을 각각 Test Set에 적용하여 age_cls를 예측한다. Test Set에 주어진 종속 변수를 활용하여 아래 정의된 지표 P를 각각 구하고, 두 값중 가장 큰 값을 구하시오\n",
    "- 예측값 $ \\hat{y_i} $도 0이고 실제값 $ y_i $도 0인 경우를 A라고 한다. \n",
    "- 예측값 $ \\hat{y_i} $도 0이고 실제값 $ y_i $도 1인 경우를 B라고 한다. \n",
    "\n",
    "$$ P={A \\over (A+B)} $$\n",
    "\n",
    "※ 정답은 반올림하여 소수점 둘째 자리까지 출력하시오.\n",
    "(정답 예시: 2.29)"
   ]
  },
  {
   "attachments": {},
   "cell_type": "markdown",
   "id": "9ea536fa",
   "metadata": {},
   "source": [
    "👉 분류 성능평가  \n",
    "https://datascienceschool.net/03%20machine%20learning/09.04%20%EB%B6%84%EB%A5%98%20%EC%84%B1%EB%8A%A5%ED%8F%89%EA%B0%80.html"
   ]
  },
  {
   "attachments": {},
   "cell_type": "markdown",
   "id": "4587f3fd",
   "metadata": {},
   "source": [
    "#### 필요 라이브러리 함수,클래스 및 설정값 목록  \n",
    "\n",
    "\n",
    "from sklearn.model_selection import train_test_split  \n",
    "from sklearn.neighbors import KNeighborsClassifier    \n",
    "KNeighborsClassifier의 거리는 Manhattan Distance 사용, 가중치는 거리 역순으로 설정  \n",
    "모든 random_state = 229  \n",
    "문제 지시 외 Default 값 사용  "
   ]
  },
  {
   "cell_type": "code",
   "execution_count": null,
   "id": "3f654741",
   "metadata": {},
   "outputs": [],
   "source": []
  }
 ],
 "metadata": {
  "kernelspec": {
   "display_name": "Python 3.7.6 64-bit ('3.7.6')",
   "language": "python",
   "name": "python3"
  },
  "language_info": {
   "codemirror_mode": {
    "name": "ipython",
    "version": 3
   },
   "file_extension": ".py",
   "mimetype": "text/x-python",
   "name": "python",
   "nbconvert_exporter": "python",
   "pygments_lexer": "ipython3",
   "version": "3.7.6"
  },
  "vscode": {
   "interpreter": {
    "hash": "162ceaf09f938773ad028a3a2ad644135fdbb6560e1ade87eeac244d09a7763d"
   }
  }
 },
 "nbformat": 4,
 "nbformat_minor": 5
}
