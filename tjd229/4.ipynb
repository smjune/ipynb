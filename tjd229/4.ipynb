{
 "cells": [
  {
   "attachments": {},
   "cell_type": "markdown",
   "id": "3456d7ec",
   "metadata": {},
   "source": [
    "## 스트리밍 서비스를 제공하는 스타트업 metflix에서 10개월 이상 가입 중인 고객 정보를 이용하여 마케팅 전략을 수립하려한다."
   ]
  },
  {
   "attachments": {},
   "cell_type": "markdown",
   "id": "acc43c03",
   "metadata": {},
   "source": [
    "metflix.csv\n",
    "\n",
    "|컬럼|정의|type|\n",
    "|:---|:---|:---:|\n",
    "|ids|식별 번호|int64|\n",
    "|ages|나이|int64|\n",
    "|bookmarks|즐겨찾기 수|int64|\n",
    "|replies|답글 수|int64|\n",
    "|ratings|별점 수|int64|\n",
    "|watches|시청 횟수|int64|\n",
    "|period|가입 기간([가입 후 경과한 월 수]M)|object|  \n",
    "\n",
    "정답 및 해설 : https://tjd229.tistory.com/23"
   ]
  },
  {
   "cell_type": "code",
   "execution_count": 107,
   "id": "ee1da374",
   "metadata": {},
   "outputs": [
    {
     "data": {
      "text/plain": [
       "(540, 7)"
      ]
     },
     "execution_count": 107,
     "metadata": {},
     "output_type": "execute_result"
    }
   ],
   "source": [
    "import numpy as np\n",
    "import pandas as pd\n",
    "\n",
    "df = pd.read_csv('../content/tjd229/metflix.csv')\n",
    "\n",
    "df.shape"
   ]
  },
  {
   "attachments": {},
   "cell_type": "markdown",
   "id": "140d9a1d",
   "metadata": {},
   "source": [
    "### 분석을 수행하기 전, 아래의 전처리를 수행하시오.\n",
    "\n",
    "단계 1 : 가입 기간(period) 컬럼에서 문자 M을 제거한 후 정수형으로 변경하시오\n",
    "\n",
    "상기 전처리를 완료한 데이터셋(데이터셋명: <span style=\"color:skyblue\">customer</span>)을 이용하여 다음 1~3번 문제에 답하시오."
   ]
  },
  {
   "cell_type": "code",
   "execution_count": 108,
   "id": "71d8131e",
   "metadata": {},
   "outputs": [
    {
     "data": {
      "text/plain": [
       "array(['16M', '10M', '21M', '22M', '24M', '13M', '27M', '19M', '17M',\n",
       "       '15M', '18M', '36M', '34M', '12M', '31M', '11M', '33M', '20M',\n",
       "       '32M', '25M', '14M', '30M', '26M', '23M', '35M', '29M', '28M'],\n",
       "      dtype=object)"
      ]
     },
     "execution_count": 108,
     "metadata": {},
     "output_type": "execute_result"
    }
   ],
   "source": [
    "df.period.unique()"
   ]
  },
  {
   "attachments": {},
   "cell_type": "markdown",
   "id": "5e510dc1",
   "metadata": {},
   "source": [
    " 👉 df.series.str.replace(,)"
   ]
  },
  {
   "cell_type": "code",
   "execution_count": 109,
   "id": "880eeed1",
   "metadata": {},
   "outputs": [
    {
     "name": "stdout",
     "output_type": "stream",
     "text": [
      "<class 'pandas.core.frame.DataFrame'>\n",
      "RangeIndex: 540 entries, 0 to 539\n",
      "Data columns (total 7 columns):\n",
      " #   Column     Non-Null Count  Dtype\n",
      "---  ------     --------------  -----\n",
      " 0   ids        540 non-null    int64\n",
      " 1   ages       540 non-null    int64\n",
      " 2   bookmarks  540 non-null    int64\n",
      " 3   replies    540 non-null    int64\n",
      " 4   ratings    540 non-null    int64\n",
      " 5   watches    540 non-null    int64\n",
      " 6   period     540 non-null    int64\n",
      "dtypes: int64(7)\n",
      "memory usage: 29.7 KB\n"
     ]
    }
   ],
   "source": [
    "df.period = df.period.str.replace('M','').astype(int)\n",
    "df.info()\n",
    "\n",
    "# df['period'] = df['period'].str.slice(0,2)\n"
   ]
  },
  {
   "cell_type": "code",
   "execution_count": 110,
   "id": "55ff8746",
   "metadata": {},
   "outputs": [],
   "source": [
    "customer = df.copy()"
   ]
  },
  {
   "attachments": {},
   "cell_type": "markdown",
   "id": "5f86dc21",
   "metadata": {},
   "source": [
    "### Q1. (<span style=\"color:skyblue\">customer</span>를 이용하여)별점 수(ratings) 컬럼에서 이상치를 제외한 별점 수(ratings) 평균을 구하시오.  \n",
    "이상치는 아래 구간에 포함되지 않은 데이터로 간주한다.\n",
    "\n",
    "$ [ Median - 2.3 \\times IQR , Median + 2.3 \\times IQR ]  $\n",
    "\n",
    "※ 정답은 반올림하여 소수점 둘째 자리까지 출력하시오.\n",
    "(정답 예시: 2.29)"
   ]
  },
  {
   "attachments": {},
   "cell_type": "markdown",
   "id": "a06bd0cd",
   "metadata": {},
   "source": [
    " 👉 IQR : quantile(0.25, 0.75)"
   ]
  },
  {
   "cell_type": "code",
   "execution_count": 111,
   "id": "060a030c",
   "metadata": {},
   "outputs": [
    {
     "data": {
      "text/plain": [
       "190.5"
      ]
     },
     "execution_count": 111,
     "metadata": {},
     "output_type": "execute_result"
    }
   ],
   "source": [
    "# IQR = Q3 - Q1 \n",
    "Q1 = customer.ratings.quantile(0.25)\n",
    "Q3 = customer.ratings.quantile(0.75)\n",
    "IQR = Q3-Q1\n",
    "IQR\n",
    "\n"
   ]
  },
  {
   "cell_type": "code",
   "execution_count": 112,
   "id": "961ce569",
   "metadata": {},
   "outputs": [
    {
     "data": {
      "text/plain": [
       "(537.65, -338.65)"
      ]
     },
     "execution_count": 112,
     "metadata": {},
     "output_type": "execute_result"
    }
   ],
   "source": [
    "uplimit = customer.ratings.median()+(2.3*IQR)\n",
    "underlimit = customer.ratings.median()-(2.3*IQR)\n",
    "uplimit, underlimit"
   ]
  },
  {
   "cell_type": "code",
   "execution_count": 113,
   "id": "3c5b4369",
   "metadata": {},
   "outputs": [
    {
     "data": {
      "text/plain": [
       "126.77"
      ]
     },
     "execution_count": 113,
     "metadata": {},
     "output_type": "execute_result"
    }
   ],
   "source": [
    "rating_1 = customer.loc[(customer.ratings > underlimit) & (customer.ratings < uplimit), 'ratings' ]\n",
    "round(rating_1.mean(),2)"
   ]
  },
  {
   "cell_type": "code",
   "execution_count": 114,
   "id": "83796642",
   "metadata": {},
   "outputs": [],
   "source": [
    "# customer.reset_index(inplace=True)\n",
    "# customer.info()"
   ]
  },
  {
   "attachments": {},
   "cell_type": "markdown",
   "id": "04e5edef",
   "metadata": {},
   "source": [
    "### Q2. (<span style=\"color:skyblue\">customer</span>를 이용하여)고객 나이대 별 활동 빈도를 분석하려고 한다. 다음 단계에 따라 분석을 수행하고 질문에 답하시오.\n",
    "\n",
    "단계 1 : 고객 데이터의 ages 컬럼을 이용하여 아래 규칙에 따라 age_cls 컬럼을 새로 생성한다.\n",
    "- ages가 10이상 19이하인 경우 age_cls는 10s가 된다.  \n",
    "- ages가 20이상 29이하인 경우 age_cls는 20s가 된다.  \n",
    "- ages가 30이상 39이하인 경우 age_cls는 30s가 된다.  \n",
    "- ages가 40이상 49이하인 경우 age_cls는 40s가 된다.  \n",
    "- ages가 50이상인 경우 age_cls는 50s가 된다.  \n",
    "\n",
    "단계 2 : age_cls별 답글 수(replies)의 평균을 구한다.  \n",
    "단계 3 : 단계 2에서 구한 age_cls별 답글 수(replies)의 평균에서 최대값을 A, 최소값을 B라고 할 때, A+B를 구하시오 \n",
    "\n",
    "\n",
    "※ 정답은 반올림하여 소수점 둘째 자리까지 출력하시오.\n",
    "(정답 예시: 2.29)"
   ]
  },
  {
   "cell_type": "code",
   "execution_count": 130,
   "id": "f171ee5c",
   "metadata": {},
   "outputs": [],
   "source": [
    "# default 값을 셋팅한다.\n",
    "customer['age_cls'] = np.nan"
   ]
  },
  {
   "attachments": {},
   "cell_type": "markdown",
   "id": "73f9f582",
   "metadata": {},
   "source": [
    " 👉 cut() / where()"
   ]
  },
  {
   "cell_type": "code",
   "execution_count": 131,
   "id": "e2f72a3a",
   "metadata": {},
   "outputs": [
    {
     "data": {
      "text/html": [
       "<div>\n",
       "<style scoped>\n",
       "    .dataframe tbody tr th:only-of-type {\n",
       "        vertical-align: middle;\n",
       "    }\n",
       "\n",
       "    .dataframe tbody tr th {\n",
       "        vertical-align: top;\n",
       "    }\n",
       "\n",
       "    .dataframe thead th {\n",
       "        text-align: right;\n",
       "    }\n",
       "</style>\n",
       "<table border=\"1\" class=\"dataframe\">\n",
       "  <thead>\n",
       "    <tr style=\"text-align: right;\">\n",
       "      <th></th>\n",
       "      <th>ages</th>\n",
       "      <th>age_cls</th>\n",
       "    </tr>\n",
       "  </thead>\n",
       "  <tbody>\n",
       "    <tr>\n",
       "      <th>154</th>\n",
       "      <td>50</td>\n",
       "      <td>50s</td>\n",
       "    </tr>\n",
       "    <tr>\n",
       "      <th>200</th>\n",
       "      <td>50</td>\n",
       "      <td>50s</td>\n",
       "    </tr>\n",
       "    <tr>\n",
       "      <th>268</th>\n",
       "      <td>50</td>\n",
       "      <td>50s</td>\n",
       "    </tr>\n",
       "    <tr>\n",
       "      <th>358</th>\n",
       "      <td>50</td>\n",
       "      <td>50s</td>\n",
       "    </tr>\n",
       "    <tr>\n",
       "      <th>487</th>\n",
       "      <td>50</td>\n",
       "      <td>50s</td>\n",
       "    </tr>\n",
       "  </tbody>\n",
       "</table>\n",
       "</div>"
      ],
      "text/plain": [
       "     ages age_cls\n",
       "154    50     50s\n",
       "200    50     50s\n",
       "268    50     50s\n",
       "358    50     50s\n",
       "487    50     50s"
      ]
     },
     "execution_count": 131,
     "metadata": {},
     "output_type": "execute_result"
    }
   ],
   "source": [
    "\n",
    "customer['age_cls'] = pd.cut(customer.ages, \n",
    "                             bins = [10,19,29,39,49,100],\n",
    "                             labels= ['10s','20s','30s','40s','50s'])\n",
    "customer.loc[customer.ages ==50,['ages','age_cls']]"
   ]
  },
  {
   "cell_type": "code",
   "execution_count": 147,
   "id": "d8e33965",
   "metadata": {},
   "outputs": [
    {
     "data": {
      "text/plain": [
       "age_cls\n",
       "40s     6.482456\n",
       "50s     7.416667\n",
       "10s    68.135135\n",
       "20s    69.344086\n",
       "30s    75.804469\n",
       "Name: replies, dtype: float64"
      ]
     },
     "execution_count": 147,
     "metadata": {},
     "output_type": "execute_result"
    }
   ],
   "source": [
    "# print(customer.groupby('age_cls').mean()) \n",
    "customer.groupby('age_cls').replies.mean().sort_values()\n",
    "\n",
    "#customer.groupby('age_cls').replies 는 series 라서 sort_values() 을 사용"
   ]
  },
  {
   "cell_type": "code",
   "execution_count": 154,
   "id": "e1328e92",
   "metadata": {},
   "outputs": [
    {
     "data": {
      "text/html": [
       "<div>\n",
       "<style scoped>\n",
       "    .dataframe tbody tr th:only-of-type {\n",
       "        vertical-align: middle;\n",
       "    }\n",
       "\n",
       "    .dataframe tbody tr th {\n",
       "        vertical-align: top;\n",
       "    }\n",
       "\n",
       "    .dataframe thead th {\n",
       "        text-align: right;\n",
       "    }\n",
       "</style>\n",
       "<table border=\"1\" class=\"dataframe\">\n",
       "  <thead>\n",
       "    <tr style=\"text-align: right;\">\n",
       "      <th></th>\n",
       "      <th>replies</th>\n",
       "    </tr>\n",
       "    <tr>\n",
       "      <th>age_cls</th>\n",
       "      <th></th>\n",
       "    </tr>\n",
       "  </thead>\n",
       "  <tbody>\n",
       "    <tr>\n",
       "      <th>40s</th>\n",
       "      <td>6.482456</td>\n",
       "    </tr>\n",
       "    <tr>\n",
       "      <th>50s</th>\n",
       "      <td>7.416667</td>\n",
       "    </tr>\n",
       "    <tr>\n",
       "      <th>10s</th>\n",
       "      <td>68.135135</td>\n",
       "    </tr>\n",
       "    <tr>\n",
       "      <th>20s</th>\n",
       "      <td>69.344086</td>\n",
       "    </tr>\n",
       "    <tr>\n",
       "      <th>30s</th>\n",
       "      <td>75.804469</td>\n",
       "    </tr>\n",
       "  </tbody>\n",
       "</table>\n",
       "</div>"
      ],
      "text/plain": [
       "           replies\n",
       "age_cls           \n",
       "40s       6.482456\n",
       "50s       7.416667\n",
       "10s      68.135135\n",
       "20s      69.344086\n",
       "30s      75.804469"
      ]
     },
     "execution_count": 154,
     "metadata": {},
     "output_type": "execute_result"
    }
   ],
   "source": [
    "customer.groupby('age_cls')[['replies']].mean().sort_values(by='replies')\n",
    "\n",
    "#customer.groupby('age_cls')[['replies']] 는 df type 이라서 sort_values(by='replies') 을 사용 "
   ]
  },
  {
   "cell_type": "code",
   "execution_count": 158,
   "id": "88f26536",
   "metadata": {},
   "outputs": [
    {
     "data": {
      "text/html": [
       "<div>\n",
       "<style scoped>\n",
       "    .dataframe tbody tr th:only-of-type {\n",
       "        vertical-align: middle;\n",
       "    }\n",
       "\n",
       "    .dataframe tbody tr th {\n",
       "        vertical-align: top;\n",
       "    }\n",
       "\n",
       "    .dataframe thead th {\n",
       "        text-align: right;\n",
       "    }\n",
       "</style>\n",
       "<table border=\"1\" class=\"dataframe\">\n",
       "  <thead>\n",
       "    <tr style=\"text-align: right;\">\n",
       "      <th></th>\n",
       "      <th>replies</th>\n",
       "    </tr>\n",
       "    <tr>\n",
       "      <th>age_cls</th>\n",
       "      <th></th>\n",
       "    </tr>\n",
       "  </thead>\n",
       "  <tbody>\n",
       "    <tr>\n",
       "      <th>40s</th>\n",
       "      <td>6.482456</td>\n",
       "    </tr>\n",
       "    <tr>\n",
       "      <th>50s</th>\n",
       "      <td>7.416667</td>\n",
       "    </tr>\n",
       "    <tr>\n",
       "      <th>10s</th>\n",
       "      <td>68.135135</td>\n",
       "    </tr>\n",
       "    <tr>\n",
       "      <th>20s</th>\n",
       "      <td>69.344086</td>\n",
       "    </tr>\n",
       "    <tr>\n",
       "      <th>30s</th>\n",
       "      <td>75.804469</td>\n",
       "    </tr>\n",
       "  </tbody>\n",
       "</table>\n",
       "</div>"
      ],
      "text/plain": [
       "           replies\n",
       "age_cls           \n",
       "40s       6.482456\n",
       "50s       7.416667\n",
       "10s      68.135135\n",
       "20s      69.344086\n",
       "30s      75.804469"
      ]
     },
     "execution_count": 158,
     "metadata": {},
     "output_type": "execute_result"
    }
   ],
   "source": [
    "customer.loc[:,['replies','age_cls']].groupby('age_cls').mean().sort_values('replies')"
   ]
  },
  {
   "cell_type": "code",
   "execution_count": 148,
   "id": "ceb2fa89",
   "metadata": {},
   "outputs": [
    {
     "data": {
      "text/plain": [
       "(75.80446927374301, 6.482456140350878)"
      ]
     },
     "execution_count": 148,
     "metadata": {},
     "output_type": "execute_result"
    }
   ],
   "source": [
    "rep_max = customer.groupby('age_cls').replies.mean().max()\n",
    "rep_min = customer.groupby('age_cls').replies.mean().min()\n",
    "rep_max,rep_min\n"
   ]
  },
  {
   "cell_type": "code",
   "execution_count": 149,
   "id": "45cb8263",
   "metadata": {},
   "outputs": [
    {
     "data": {
      "text/plain": [
       "82.29"
      ]
     },
     "execution_count": 149,
     "metadata": {},
     "output_type": "execute_result"
    }
   ],
   "source": [
    "\n",
    "round(rep_max+rep_min,2)"
   ]
  },
  {
   "cell_type": "code",
   "execution_count": 136,
   "id": "aceee138",
   "metadata": {},
   "outputs": [
    {
     "name": "stdout",
     "output_type": "stream",
     "text": [
      "<class 'pandas.core.frame.DataFrame'>\n",
      "RangeIndex: 540 entries, 0 to 539\n",
      "Data columns (total 8 columns):\n",
      " #   Column     Non-Null Count  Dtype   \n",
      "---  ------     --------------  -----   \n",
      " 0   ids        540 non-null    int64   \n",
      " 1   ages       540 non-null    int64   \n",
      " 2   bookmarks  540 non-null    int64   \n",
      " 3   replies    540 non-null    int64   \n",
      " 4   ratings    540 non-null    int64   \n",
      " 5   watches    540 non-null    int64   \n",
      " 6   period     540 non-null    int64   \n",
      " 7   age_cls    540 non-null    category\n",
      "dtypes: category(1), int64(7)\n",
      "memory usage: 30.4 KB\n"
     ]
    }
   ],
   "source": [
    "customer.info()"
   ]
  },
  {
   "attachments": {},
   "cell_type": "markdown",
   "id": "aa80731f",
   "metadata": {},
   "source": [
    "### Q3. (<span style=\"color:skyblue\">customer</span>를 이용하여)고객 나이대를 예측하기 위한 모델을 만드려고 한다. 다음 단계에 따라 분석을 수행하고 질문에 답하시오.\n",
    "\n",
    "단계 1 : 고객 데이터의 ages 컬럼을 이용하여 아래 규칙에 따라 age_cls 컬럼을 새로 생성한다.  \n",
    "- ages가 40이상인 경우 age_cls는 1이 되고, 그 외에는 0이 된다. \n",
    "\n",
    "단계 2 : Train Set과 Test Set을 99:1 비율로 나눈다.  \n",
    "- Train Set에서 답글 수(replies)가 0인 데이터는 총 13개이다.\n",
    "- Test Set에서 답글 수(replies)가 0인 데이터는 존재하지 않는다.\n",
    "        \n",
    "단계 3 : Train Set을 이용하여 KNeighborsClassifier를 학습한다. \n",
    "- 독립 변수 : 가입 기간(period)을 (replies+0.01)로 나눈 값\n",
    "- 종속 변수 : age_cls\n",
    "\n",
    "단계 4 : Train Set을 이용하여 KNeighborsClassifier를 새로 학습한다. \n",
    "- 독립 변수 : 가입 기간(period)을 답글 수(replies)로 나눈 값, 나누기 전 답글 수(replies)가 0인 데이터는 제거한다.\n",
    "- 종속 변수 : age_cls\n",
    "\n",
    "단계 5 : 단계 4와 단계 5에서 학습한 두 모델을 각각 Test Set에 적용하여 age_cls를 예측한다. Test Set에 주어진 종속 변수를 활용하여 아래 정의된 지표 P를 각각 구하고, 두 값중 가장 큰 값을 구하시오\n",
    "- 예측값 $ \\hat{y_i} $도 0이고 실제값 $ y_i $도 0인 경우를 A라고 한다. \n",
    "- 예측값 $ \\hat{y_i} $도 0이고 실제값 $ y_i $도 1인 경우를 B라고 한다. \n",
    "\n",
    "$$ P={A \\over (A+B)} $$\n",
    "\n",
    "※ 정답은 반올림하여 소수점 둘째 자리까지 출력하시오.\n",
    "(정답 예시: 2.29)"
   ]
  },
  {
   "cell_type": "code",
   "execution_count": null,
   "id": "c1e78467",
   "metadata": {},
   "outputs": [],
   "source": []
  },
  {
   "attachments": {},
   "cell_type": "markdown",
   "id": "4587f3fd",
   "metadata": {},
   "source": [
    "#### 필요 라이브러리 함수,클래스 및 설정값 목록  \n",
    "\n",
    "\n",
    "from sklearn.model_selection import train_test_split  \n",
    "from sklearn.neighbors import KNeighborsClassifier    \n",
    "KNeighborsClassifier의 거리는 Manhattan Distance 사용, 가중치는 거리 역순으로 설정  \n",
    "모든 random_state = 229  \n",
    "문제 지시 외 Default 값 사용  "
   ]
  },
  {
   "cell_type": "code",
   "execution_count": null,
   "id": "3f654741",
   "metadata": {},
   "outputs": [],
   "source": []
  }
 ],
 "metadata": {
  "kernelspec": {
   "display_name": "Python 3.7.6 64-bit ('3.7.6')",
   "language": "python",
   "name": "python3"
  },
  "language_info": {
   "codemirror_mode": {
    "name": "ipython",
    "version": 3
   },
   "file_extension": ".py",
   "mimetype": "text/x-python",
   "name": "python",
   "nbconvert_exporter": "python",
   "pygments_lexer": "ipython3",
   "version": "3.7.6"
  },
  "vscode": {
   "interpreter": {
    "hash": "162ceaf09f938773ad028a3a2ad644135fdbb6560e1ade87eeac244d09a7763d"
   }
  }
 },
 "nbformat": 4,
 "nbformat_minor": 5
}
