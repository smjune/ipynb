{
 "cells": [
  {
   "cell_type": "markdown",
   "id": "3456d7ec",
   "metadata": {},
   "source": [
    "## 스트리밍 서비스를 제공하는 스타트업 metflix에서 10개월 이상 가입 중인 고객 정보를 이용하여 마케팅 전략을 수립하려한다."
   ]
  },
  {
   "cell_type": "markdown",
   "id": "acc43c03",
   "metadata": {},
   "source": [
    "metflix.csv\n",
    "\n",
    "|컬럼|정의|type|\n",
    "|:---|:---|:---:|\n",
    "|ids|식별 번호|int64|\n",
    "|ages|나이|int64|\n",
    "|bookmarks|즐겨찾기 수|int64|\n",
    "|replies|답글 수|int64|\n",
    "|ratings|별점 수|int64|\n",
    "|watches|시청 횟수|int64|\n",
    "|period|가입 기간([가입 후 경과한 월 수]M)|object|  \n",
    "\n",
    "정답 및 해설 : https://tjd229.tistory.com/23"
   ]
  },
  {
   "cell_type": "code",
   "execution_count": null,
   "id": "ee1da374",
   "metadata": {},
   "outputs": [],
   "source": []
  },
  {
   "cell_type": "markdown",
   "id": "140d9a1d",
   "metadata": {},
   "source": [
    "### 분석을 수행하기 전, 아래의 전처리를 수행하시오.\n",
    "\n",
    "단계 1 : 가입 기간(period) 컬럼에서 문자 M을 제거한 후 정수형으로 변경하시오\n",
    "\n",
    "상기 전처리를 완료한 데이터셋(데이터셋명: <span style=\"color:skyblue\">customer</span>)을 이용하여 다음 1~3번 문제에 답하시오."
   ]
  },
  {
   "cell_type": "code",
   "execution_count": null,
   "id": "880eeed1",
   "metadata": {},
   "outputs": [],
   "source": []
  },
  {
   "cell_type": "markdown",
   "id": "5f86dc21",
   "metadata": {},
   "source": [
    "### Q1. (<span style=\"color:skyblue\">customer</span>를 이용하여)별점 수(ratings) 컬럼에서 이상치를 제외한 별점 수(ratings) 평균을 구하시오. 이상치는 아래 구간에 포함되지 않은 데이터로 간주한다.\n",
    "\n",
    "$$ [ Median - 2.3 \\times IQR , Median + 2.3 \\times IQR ]  $$\n",
    "\n",
    "※ 정답은 반올림하여 소수점 둘째 자리까지 출력하시오.\n",
    "(정답 예시: 2.29)"
   ]
  },
  {
   "cell_type": "code",
   "execution_count": null,
   "id": "060a030c",
   "metadata": {},
   "outputs": [],
   "source": []
  },
  {
   "cell_type": "markdown",
   "id": "04e5edef",
   "metadata": {},
   "source": [
    "### Q2. (<span style=\"color:skyblue\">customer</span>를 이용하여)고객 나이대 별 활동 빈도를 분석하려고 한다. 다음 단계에 따라 분석을 수행하고 질문에 답하시오.\n",
    "\n",
    "단계 1 : 고객 데이터의 ages 컬럼을 이용하여 아래 규칙에 따라 age_cls 컬럼을 새로 생성한다.\n",
    "- ages가 10이상 19이하인 경우 age_cls는 10s가 된다.  \n",
    "- ages가 20이상 29이하인 경우 age_cls는 20s가 된다.  \n",
    "- ages가 30이상 39이하인 경우 age_cls는 30s가 된다.  \n",
    "- ages가 40이상 49이하인 경우 age_cls는 40s가 된다.  \n",
    "- ages가 50이상인 경우 age_cls는 50s가 된다.  \n",
    "\n",
    "단계 2 : age_cls별 답글 수(replies)의 평균을 구한다.  \n",
    "단계 3 : 단계 2에서 구한 age_cls별 답글 수(replies)의 평균에서 최대값을 A, 최소값을 B라고 할 때, A+B를 구하시오 \n",
    "\n",
    "\n",
    "※ 정답은 반올림하여 소수점 둘째 자리까지 출력하시오.\n",
    "(정답 예시: 2.29)"
   ]
  },
  {
   "cell_type": "code",
   "execution_count": null,
   "id": "e2f72a3a",
   "metadata": {},
   "outputs": [],
   "source": []
  },
  {
   "cell_type": "markdown",
   "id": "aa80731f",
   "metadata": {},
   "source": [
    "### Q3. (<span style=\"color:skyblue\">customer</span>를 이용하여)고객 나이대를 예측하기 위한 모델을 만드려고 한다. 다음 단계에 따라 분석을 수행하고 질문에 답하시오.\n",
    "\n",
    "단계 1 : 고객 데이터의 ages 컬럼을 이용하여 아래 규칙에 따라 age_cls 컬럼을 새로 생성한다.  \n",
    "- ages가 40이상인 경우 age_cls는 1이 되고, 그 외에는 0이 된다. \n",
    "\n",
    "단계 2 : Train Set과 Test Set을 99:1 비율로 나눈다.  \n",
    "- Train Set에서 답글 수(replies)가 0인 데이터는 총 13개이다.\n",
    "- Test Set에서 답글 수(replies)가 0인 데이터는 존재하지 않는다.\n",
    "        \n",
    "단계 3 : Train Set을 이용하여 KNeighborsClassifier를 학습한다. \n",
    "- 독립 변수 : 가입 기간(period)을 (replies+0.01)로 나눈 값\n",
    "- 종속 변수 : age_cls\n",
    "\n",
    "단계 4 : Train Set을 이용하여 KNeighborsClassifier를 새로 학습한다. \n",
    "- 독립 변수 : 가입 기간(period)을 답글 수(replies)로 나눈 값, 나누기 전 답글 수(replies)가 0인 데이터는 제거한다.\n",
    "- 종속 변수 : age_cls\n",
    "\n",
    "단계 5 : 단계 4와 단계 5에서 학습한 두 모델을 각각 Test Set에 적용하여 age_cls를 예측한다. Test Set에 주어진 종속 변수를 활용하여 아래 정의된 지표 P를 각각 구하고, 두 값중 가장 큰 값을 구하시오\n",
    "- 예측값 $ \\hat{y_i} $도 0이고 실제값 $ y_i $도 0인 경우를 A라고 한다. \n",
    "- 예측값 $ \\hat{y_i} $도 0이고 실제값 $ y_i $도 1인 경우를 B라고 한다. \n",
    "\n",
    "$$ P={A \\over (A+B)} $$\n",
    "\n",
    "※ 정답은 반올림하여 소수점 둘째 자리까지 출력하시오.\n",
    "(정답 예시: 2.29)"
   ]
  },
  {
   "cell_type": "code",
   "execution_count": null,
   "id": "c1e78467",
   "metadata": {},
   "outputs": [],
   "source": []
  },
  {
   "cell_type": "markdown",
   "id": "4587f3fd",
   "metadata": {},
   "source": [
    "#### 필요 라이브러리 함수,클래스 및 설정값 목록  \n",
    "\n",
    "\n",
    "from sklearn.model_selection import train_test_split  \n",
    "from sklearn.neighbors import KNeighborsClassifier    \n",
    "KNeighborsClassifier의 거리는 Manhattan Distance 사용, 가중치는 거리 역순으로 설정  \n",
    "모든 random_state = 229  \n",
    "문제 지시 외 Default 값 사용  "
   ]
  },
  {
   "cell_type": "code",
   "execution_count": null,
   "id": "3f654741",
   "metadata": {},
   "outputs": [],
   "source": []
  }
 ],
 "metadata": {
  "kernelspec": {
   "display_name": "ds",
   "language": "python",
   "name": "ds"
  },
  "language_info": {
   "codemirror_mode": {
    "name": "ipython",
    "version": 3
   },
   "file_extension": ".py",
   "mimetype": "text/x-python",
   "name": "python",
   "nbconvert_exporter": "python",
   "pygments_lexer": "ipython3",
   "version": "3.9.7"
  }
 },
 "nbformat": 4,
 "nbformat_minor": 5
}
