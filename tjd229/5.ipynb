{
 "cells": [
  {
   "cell_type": "markdown",
   "id": "0db7e90e",
   "metadata": {},
   "source": [
    "## 가상현실RPG게임 라플라스의 악마는 날씨가 큰 변수를 차지하는 게임이다. 게임 밸런스 조정을 위해 한달 간의 날씨 데이터를 분석하려고 한다."
   ]
  },
  {
   "cell_type": "markdown",
   "id": "004f544d",
   "metadata": {},
   "source": [
    "Laplace's Demon.csv\n",
    "\n",
    "|컬럼|정의|type|\n",
    "|:---|:---|:---:|\n",
    "|date|날짜|object|\n",
    "|area|지역명|object|\n",
    "|temp|온도|float64|\n",
    "|atemp|체감온도|float64|\n",
    "|humidity|습도|float64|\n",
    "|windspeed|풍속|float64|\n",
    "|rain|날씨(값이 0이면 맑음, 1이면 비가 내림)|int64|  \n",
    "\n",
    "정답 및 해설 : https://tjd229.tistory.com/24"
   ]
  },
  {
   "cell_type": "code",
   "execution_count": null,
   "id": "a7a3f0ec",
   "metadata": {},
   "outputs": [],
   "source": []
  },
  {
   "cell_type": "markdown",
   "id": "a3415ba7",
   "metadata": {},
   "source": [
    "### Q1. 체감온도(atemp)가 정규분포와의 관계를 분석하려 한다. 다음 단계에 따라 분석을 수행하고 질문에 답하시오.\n",
    "\n",
    "단계 1 : 체감온도(atemp)가 0보다 큰 데이터를 Train Set으로, 체감온도(atemp)가 0이하인 데이터를 Test Set으로 분할한다.  \n",
    "단계 2 : Train Set을 이용하여 LinearRegression을 학습하고, Test Set에 적용한다. \n",
    "- 독립 변수(총 4개) : 온도(temp), 습도(humidity), 풍속(windspeed), 날씨(rain)\n",
    "- 종속 변수 : 체감온도(atemp)\n",
    "        \n",
    "단계 3 : Train Set에서 체감온도(atemp)의 평균과 표준편차를 구하고, 해당 평균과 표준편차를 가지는 정규 분포를 구한다.\n",
    "\n",
    "단계 4 : 단계 2에서 구한 Test Set의 예측값 $ \\hat{y_i} $와 단계 3에서 구한 정규 분포의 0.25 분위수에 해당하는 값 $ y $에 대하여 아래 정의된 Measure M을 계산한 값은?  \n",
    "$$ M = \\biggl(\\frac{1}{n} \\sum_{i=1}^{n}{(y - \\hat{y_i})^2}\\biggr)^{\\frac{1}{2}}, \\quad \\hat{y_i}: 예측값, y: 실제값 $$\n",
    "\n",
    "\n",
    "※ 정답은 반올림하여 소수점 둘째 자리까지 출력하시오.\n",
    "(정답 예시: 2.29)"
   ]
  },
  {
   "cell_type": "code",
   "execution_count": null,
   "id": "5c67f6bc",
   "metadata": {},
   "outputs": [],
   "source": []
  },
  {
   "cell_type": "markdown",
   "id": "93bb3b5f",
   "metadata": {},
   "source": [
    "#### 필요 라이브러리 함수,클래스 및 설정값 목록  \n",
    "\n",
    "\n",
    "from sklearn.linear_model import LinearRegression  \n",
    "from scipy.stats import norm  \n",
    "문제 지시 외 Default 값 사용  "
   ]
  },
  {
   "cell_type": "code",
   "execution_count": null,
   "id": "1b53f982",
   "metadata": {},
   "outputs": [],
   "source": []
  },
  {
   "cell_type": "markdown",
   "id": "c61a770a",
   "metadata": {},
   "source": [
    "### Q2. 지역별 강수량을 확인하려 한다.  다음 단계에 따라 분석을 수행하고 질문에 답하시오.\n",
    "\n",
    "\n",
    "단계 1 : 날씨(rain) 컬럼에서 값이 0인 데이터를 -1로 바꾼다.\n",
    "\n",
    "단계 2 : 32종류의 area별로, 아래의 단계 3을 수행하여, cum_precipitation 컬럼의 최대값과 최소값 차이가 가장 큰 값을 구하시오 \n",
    "\n",
    "단계 3 : 각 area별로 날짜순으로 정렬 후, 아래 규칙에 따라 cum_precipitation 컬럼을 생성한다.  \n",
    "- $z$를 cum_precipitation, $ x $를 rain이라 할 때, $ z_1 = x_1 $ 이고,  \n",
    "- j>1에 대하여, $ z_j = \\sum_{i=1}^{j}{x_i} $ 이다.  \n",
    "\n"
   ]
  },
  {
   "cell_type": "code",
   "execution_count": null,
   "id": "ec63d0f5",
   "metadata": {},
   "outputs": [],
   "source": []
  },
  {
   "cell_type": "markdown",
   "id": "02154256",
   "metadata": {},
   "source": [
    "### Q3. 날씨에 따른 게임 밸런스를 확인하기 위해 군집화를 하려 한다. 다음 단계에 따라 분석을 수행하고 질문에 답하시오.\n",
    "\n",
    "\n",
    "단계 1 : 온도, 체감온도, 습도, 풍속을 Z-score 표준화(Standardization) 한다.  \n",
    "단계 2 : 독립 변수들에 대해 K-means 군집 분석을 수행한다. 이 때, 군집 수는 2개로 한다.  \n",
    "- 독립 변수(총 5개) : 온도(temp), 체감온도(atemp), 습도(humidity), 풍속(windspeed), 날씨(rain)  \n",
    "\n",
    "단계 3 : 군집 별 체감온도(atemp) 평균을 구하고 두 평균을 모두 더한 값을 구하시오  \n",
    "            \n",
    "※ 정답은 내림하여 소수점 둘째 자리까지 출력하시오.\n",
    "(정답 예시: 2.29)"
   ]
  },
  {
   "cell_type": "code",
   "execution_count": null,
   "id": "e2b18b95",
   "metadata": {},
   "outputs": [],
   "source": []
  },
  {
   "cell_type": "markdown",
   "id": "7252d70c",
   "metadata": {},
   "source": [
    "#### 필요 라이브러리 함수,클래스 및 설정값 목록  \n",
    "\n",
    "\n",
    "from sklearn.cluster import KMeans  \n",
    "from sklearn.preprocessing import StandardScaler  \n",
    "random_state=229  \n",
    "문제 지시 외 Default 값 사용  "
   ]
  },
  {
   "cell_type": "code",
   "execution_count": null,
   "id": "ea4d3f66",
   "metadata": {},
   "outputs": [],
   "source": []
  }
 ],
 "metadata": {
  "kernelspec": {
   "display_name": "ds",
   "language": "python",
   "name": "ds"
  },
  "language_info": {
   "codemirror_mode": {
    "name": "ipython",
    "version": 3
   },
   "file_extension": ".py",
   "mimetype": "text/x-python",
   "name": "python",
   "nbconvert_exporter": "python",
   "pygments_lexer": "ipython3",
   "version": "3.9.7"
  }
 },
 "nbformat": 4,
 "nbformat_minor": 5
}
