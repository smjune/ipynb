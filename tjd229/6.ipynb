{
 "cells": [
  {
   "cell_type": "markdown",
   "id": "072bbffb",
   "metadata": {},
   "source": [
    "## 배달 서비스를 제공하는 스타트업 VberEats에서 고객 정보를 이용하여 마케팅 전략을 수립하려한다."
   ]
  },
  {
   "cell_type": "markdown",
   "id": "555b7e55",
   "metadata": {},
   "source": [
    "VberEats.csv\n",
    "\n",
    "|컬럼|정의|type|\n",
    "|:---|:---|:---:|\n",
    "|ids|식별 번호|int64|\n",
    "|ages|나이|int64|\n",
    "|orders|주문 수|int64|\n",
    "|purchases|결제 총 금액|float64|\n",
    "|bookmarks|즐겨찾기 수|int64|\n",
    "|replies|답글 수|int64|\n",
    "|ratings|별점 수|int64|\n",
    "|period|가입 기간|int64|  \n",
    "\n",
    "정답 및 해설 : https://tjd229.tistory.com/25"
   ]
  },
  {
   "cell_type": "code",
   "execution_count": null,
   "id": "c9c07980",
   "metadata": {},
   "outputs": [],
   "source": []
  },
  {
   "cell_type": "markdown",
   "id": "4032af17",
   "metadata": {},
   "source": [
    "### 분석을 수행하기 전, 아래의 전처리를 수행하시오.\n",
    "\n",
    "단계 1 : 결제 총 금액(purchases)에 결측값(Null)이 포함된 데이터를 Test Set으로, 그 외 데이터는 Train Set으로 분할한다.  \n",
    "- Test Set의 데이터 수는 203개이다.  \n",
    "\n",
    "단계 2 : 식별 번호(ids)와 결제 총 금액(purchases) 컬럼을 제외한 모든 컬럼에 대해 Train Set을 기준으로 MinMax 표준화(Standardization) 한다.  \n",
    "\n",
    "단계 3 : Train Set으로 DecisionTreeRegressor 모델을 학습하고, Test Set에 적용하여 VberEats 데이터의 결측값을 모델의 예측값으로 대체한다.  \n",
    "- 독립 변수(총 6개, 모델 적용시 반드시 컬럼 순서를 지킬 것) : ages, orders, bookmarks, replies, ratings, period  \n",
    "- 결측값을 채운 후, purchases 컬럼의 평균값은 2666251.4393435703이다.\n",
    "\n",
    "상기 전처리를 완료한 데이터셋(데이터셋명: <span style=\"color:skyblue\">customer</span>)을 이용하여 다음 1~3번 문제에 답하시오."
   ]
  },
  {
   "cell_type": "code",
   "execution_count": null,
   "id": "ddec6bfd",
   "metadata": {},
   "outputs": [],
   "source": []
  },
  {
   "cell_type": "markdown",
   "id": "6f621689",
   "metadata": {},
   "source": [
    "#### 필요 라이브러리 함수,클래스 및 설정값 목록  \n",
    "\n",
    "\n",
    "from sklearn.tree import DecisionTreeRegressor  \n",
    "from sklearn.preprocessing import MinMaxScaler  \n",
    "random_state=229  \n",
    "문제 지시 외 Default 값 사용  "
   ]
  },
  {
   "cell_type": "code",
   "execution_count": null,
   "id": "30fe4ac8",
   "metadata": {},
   "outputs": [],
   "source": []
  },
  {
   "cell_type": "markdown",
   "id": "52fc0d91",
   "metadata": {},
   "source": [
    "### Q1. (<span style=\"color:skyblue\">customer</span>를 이용하여)마케팅 전략을 수립하기 위해 군집화하려 한다. 다음 단계에 따라 분석을 수행하고 질문에 답하시오.\n",
    "\n",
    "\n",
    "단계 1 : 데이터의 25%를 샘플링한다.  \n",
    "단계 2 : 고객 데이터의 ages 컬럼을 이용하여 아래 규칙에 따라 age_cls 컬럼을 새로 생성한다.\n",
    "- ages가 10이상 19이하인 경우 age_cls는 10s가 된다.  \n",
    "- ages가 20이상 29이하인 경우 age_cls는 20s가 된다.  \n",
    "- ages가 30이상 39이하인 경우 age_cls는 30s가 된다.  \n",
    "- ages가 40이상 49이하인 경우 age_cls는 40s가 된다.  \n",
    "- ages가 50이상인 경우 age_cls는 50s가 된다. \n",
    "\n",
    "단계 3 : 나이(ages), 주문 수(orders), 즐겨찾기 수(bookmarks), 답글 수(replies), 별점 수(ratings), 가입 기간(period) 컬럼을 MinMax 표준화(Standardization) 한다.       \n",
    "단계 4 : 독립 변수들에 대해 K-means 군집 분석을 수행한다. 이 때, 군집 수는 2~5개 중 K-means Silhouette 를 통해 구하고, 이 중 첫 번째로 높은 score를 최적의 K로 설정한다.  \n",
    "- 독립 변수(총 6개) : 나이(ages), 주문 수(orders), 즐겨찾기 수(bookmarks), 답글 수(replies), 별점 수(ratings), 가입 기간(period)  \n",
    "            \n",
    "단계 5 : 최적의 K로 K-means 군집 분석 수행 후, age_cls별 가장 큰 군집 비율을 구한다. 그 중에서 최대값을 구하시오  \n",
    "\n",
    "※ 정답은 반올림하여 소수점 둘째 자리까지 출력하시오.\n",
    "(정답 예시: 2.29)"
   ]
  },
  {
   "cell_type": "code",
   "execution_count": null,
   "id": "4bc4f319",
   "metadata": {},
   "outputs": [],
   "source": []
  },
  {
   "cell_type": "markdown",
   "id": "81edd7b0",
   "metadata": {},
   "source": [
    "#### 필요 라이브러리 함수,클래스 및 설정값 목록  \n",
    "\n",
    "\n",
    "from sklearn.preprocessing import MinMaxScaler  \n",
    "from sklearn.cluster import KMeans  \n",
    "from sklearn.metrics import silhouette_score  \n",
    "random_state=229  \n",
    "문제 지시 외 Default 값 사용  "
   ]
  },
  {
   "cell_type": "code",
   "execution_count": null,
   "id": "1c8998bf",
   "metadata": {},
   "outputs": [],
   "source": []
  },
  {
   "cell_type": "markdown",
   "id": "74246df6",
   "metadata": {},
   "source": [
    "### Q2. (<span style=\"color:skyblue\">customer</span>를 이용하여)주문 수(orders), 즐겨찾기 수(bookmarks), 답글 수(replies), 별점 수(ratings), 가입 기간(period) 5개 독립 변수에 대하여 다중공선성(variance inflation factor)를 구하고 그 중 값이 가장 큰 변수 명의 컬럼 명을 구하시오.\n",
    "\n",
    "\n",
    "※ 다중공선성 계산시, 절편은 제외한다.\n",
    "정답 예시: ids"
   ]
  },
  {
   "cell_type": "code",
   "execution_count": null,
   "id": "adf6a952",
   "metadata": {},
   "outputs": [],
   "source": []
  },
  {
   "cell_type": "markdown",
   "id": "5cdf1844",
   "metadata": {},
   "source": [
    "#### 필요 라이브러리 함수,클래스 및 설정값 목록  \n",
    "from statsmodels.stats.outliers_influence import variance_inflation_factor"
   ]
  },
  {
   "cell_type": "code",
   "execution_count": null,
   "id": "dacdf774",
   "metadata": {},
   "outputs": [],
   "source": []
  },
  {
   "cell_type": "markdown",
   "id": "7b440f91",
   "metadata": {},
   "source": [
    "### Q3 (<span style=\"color:skyblue\">customer</span>를 이용하여)마케팅 전략을 수립하기 위해 군집화하려 한다. 다음 단계에 따라 분석을 수행하고 질문에 답하시오.\n",
    "\n",
    "\n",
    "단계 1 : 주문 수(orders) 컬럼을 이용하여 아래 규칙에 따라 regular 컬럼을 새로 생성한다.    \n",
    "- orders가 평균보다 큰 경우 1이 되고, 그 외에는 0이 된다.\n",
    "\n",
    "단계 2 : Train Set과 Test Set을 2:8 비율로 나눈다.     \n",
    "단계 3 : Train Set으로 나이브 베이즈 분류 모델을 학습한다.  \n",
    "- 독립 변수(총 6개) : 나이(ages), 결제 총 금액(purchases), 즐겨찾기 수(bookmarks), 답글 수(replies), 별점 수(ratings), 가입 기간(period)  \n",
    "- 종속 변수 : regular\n",
    "            \n",
    "단계 4 : 단계 3에서 학습한 모델을 Test Set에 적용한다. 모델의 예측 확률값이 threshold보다 큰 경우를 positive로 정의한다. threshold는 0.4, 0.5, 0.6 세 경우에 대하여 recall_score를 계산하고 그 중 최대값을 구하시오\n",
    "- 분류된 라벨 1이 positive이다.\n",
    "\n",
    "※ 정답은 반올림하여 소수점 첫째 자리까지 출력하시오.\n",
    "(정답 예시: 22.9)"
   ]
  },
  {
   "cell_type": "code",
   "execution_count": null,
   "id": "9c21999b",
   "metadata": {},
   "outputs": [],
   "source": []
  },
  {
   "cell_type": "markdown",
   "id": "131fcbd5",
   "metadata": {},
   "source": [
    "#### 필요 라이브러리 함수,클래스 및 설정값 목록  \n",
    "\n",
    "\n",
    "from sklearn.naive_bayes import GaussianNB  \n",
    "from sklearn.model_selection import train_test_split  \n",
    "from sklearn.metrics import recall_score  \n",
    "random_state=229  \n",
    "문제 지시 외 Default 값 사용  "
   ]
  },
  {
   "cell_type": "code",
   "execution_count": null,
   "id": "5b5c95f4",
   "metadata": {},
   "outputs": [],
   "source": []
  }
 ],
 "metadata": {
  "kernelspec": {
   "display_name": "ds",
   "language": "python",
   "name": "ds"
  },
  "language_info": {
   "codemirror_mode": {
    "name": "ipython",
    "version": 3
   },
   "file_extension": ".py",
   "mimetype": "text/x-python",
   "name": "python",
   "nbconvert_exporter": "python",
   "pygments_lexer": "ipython3",
   "version": "3.9.7"
  }
 },
 "nbformat": 4,
 "nbformat_minor": 5
}
