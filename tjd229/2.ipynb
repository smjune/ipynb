{
 "cells": [
  {
   "attachments": {},
   "cell_type": "markdown",
   "id": "52066804",
   "metadata": {},
   "source": [
    "## 4개월 간 s-마트의 영수증 데이터를 이용하여 마케팅 전략을 수립하려 한다."
   ]
  },
  {
   "attachments": {},
   "cell_type": "markdown",
   "id": "3aaf223e",
   "metadata": {},
   "source": [
    "s_mart.csv\n",
    "\n",
    "|컬럼|정의|type|\n",
    "|:---|:---|:---:|\n",
    "|goods|상품 구매 수|int64|\n",
    "|purchases|결제 총 금액|float64|\n",
    "|parking|주차 여부 (값이 0이면 주차하지 않음, 1이면 주차하였음)|int64|\n",
    "|rental_bag|장바구니 대여 여부(값이 0이면 대여하지 않음, 1이면 소형 사이즈 대여, 2면 대형 사이즈 대여)|int64|\n",
    "|date|결제 날짜|object|  \n",
    "\n",
    "정답 및 해설 : https://tjd229.tistory.com/21"
   ]
  },
  {
   "cell_type": "code",
   "execution_count": 1,
   "id": "9a5a114d",
   "metadata": {},
   "outputs": [
    {
     "name": "stdout",
     "output_type": "stream",
     "text": [
      "<class 'pandas.core.frame.DataFrame'>\n",
      "RangeIndex: 8043 entries, 0 to 8042\n",
      "Data columns (total 5 columns):\n",
      " #   Column      Non-Null Count  Dtype  \n",
      "---  ------      --------------  -----  \n",
      " 0   goods       8043 non-null   int64  \n",
      " 1   purchases   6654 non-null   float64\n",
      " 2   parking     8043 non-null   int64  \n",
      " 3   rental_bag  8043 non-null   int64  \n",
      " 4   date        8043 non-null   object \n",
      "dtypes: float64(1), int64(3), object(1)\n",
      "memory usage: 314.3+ KB\n"
     ]
    }
   ],
   "source": [
    "import pandas as pd\n",
    "import numpy as np\n",
    "\n",
    "df = pd.read_csv('../content/tjd229/s_mart.csv')\n",
    "df.info()"
   ]
  },
  {
   "cell_type": "code",
   "execution_count": 2,
   "id": "15e36df7",
   "metadata": {},
   "outputs": [
    {
     "data": {
      "text/plain": [
       "(8043, 5)"
      ]
     },
     "execution_count": 2,
     "metadata": {},
     "output_type": "execute_result"
    }
   ],
   "source": [
    "df.shape"
   ]
  },
  {
   "cell_type": "code",
   "execution_count": 3,
   "id": "14162e37",
   "metadata": {},
   "outputs": [
    {
     "data": {
      "text/html": [
       "<div>\n",
       "<style scoped>\n",
       "    .dataframe tbody tr th:only-of-type {\n",
       "        vertical-align: middle;\n",
       "    }\n",
       "\n",
       "    .dataframe tbody tr th {\n",
       "        vertical-align: top;\n",
       "    }\n",
       "\n",
       "    .dataframe thead th {\n",
       "        text-align: right;\n",
       "    }\n",
       "</style>\n",
       "<table border=\"1\" class=\"dataframe\">\n",
       "  <thead>\n",
       "    <tr style=\"text-align: right;\">\n",
       "      <th></th>\n",
       "      <th>goods</th>\n",
       "      <th>purchases</th>\n",
       "      <th>parking</th>\n",
       "      <th>rental_bag</th>\n",
       "    </tr>\n",
       "  </thead>\n",
       "  <tbody>\n",
       "    <tr>\n",
       "      <th>count</th>\n",
       "      <td>8043.000000</td>\n",
       "      <td>6.654000e+03</td>\n",
       "      <td>8043.000000</td>\n",
       "      <td>8043.000000</td>\n",
       "    </tr>\n",
       "    <tr>\n",
       "      <th>mean</th>\n",
       "      <td>15.474326</td>\n",
       "      <td>1.548129e+05</td>\n",
       "      <td>0.486137</td>\n",
       "      <td>1.202785</td>\n",
       "    </tr>\n",
       "    <tr>\n",
       "      <th>std</th>\n",
       "      <td>9.249488</td>\n",
       "      <td>1.675084e+05</td>\n",
       "      <td>0.499839</td>\n",
       "      <td>0.872374</td>\n",
       "    </tr>\n",
       "    <tr>\n",
       "      <th>min</th>\n",
       "      <td>0.000000</td>\n",
       "      <td>0.000000e+00</td>\n",
       "      <td>0.000000</td>\n",
       "      <td>0.000000</td>\n",
       "    </tr>\n",
       "    <tr>\n",
       "      <th>25%</th>\n",
       "      <td>7.000000</td>\n",
       "      <td>5.190750e+04</td>\n",
       "      <td>0.000000</td>\n",
       "      <td>0.000000</td>\n",
       "    </tr>\n",
       "    <tr>\n",
       "      <th>50%</th>\n",
       "      <td>15.000000</td>\n",
       "      <td>1.080450e+05</td>\n",
       "      <td>0.000000</td>\n",
       "      <td>2.000000</td>\n",
       "    </tr>\n",
       "    <tr>\n",
       "      <th>75%</th>\n",
       "      <td>23.000000</td>\n",
       "      <td>1.858050e+05</td>\n",
       "      <td>1.000000</td>\n",
       "      <td>2.000000</td>\n",
       "    </tr>\n",
       "    <tr>\n",
       "      <th>max</th>\n",
       "      <td>31.000000</td>\n",
       "      <td>1.430040e+06</td>\n",
       "      <td>1.000000</td>\n",
       "      <td>2.000000</td>\n",
       "    </tr>\n",
       "  </tbody>\n",
       "</table>\n",
       "</div>"
      ],
      "text/plain": [
       "             goods     purchases      parking   rental_bag\n",
       "count  8043.000000  6.654000e+03  8043.000000  8043.000000\n",
       "mean     15.474326  1.548129e+05     0.486137     1.202785\n",
       "std       9.249488  1.675084e+05     0.499839     0.872374\n",
       "min       0.000000  0.000000e+00     0.000000     0.000000\n",
       "25%       7.000000  5.190750e+04     0.000000     0.000000\n",
       "50%      15.000000  1.080450e+05     0.000000     2.000000\n",
       "75%      23.000000  1.858050e+05     1.000000     2.000000\n",
       "max      31.000000  1.430040e+06     1.000000     2.000000"
      ]
     },
     "execution_count": 3,
     "metadata": {},
     "output_type": "execute_result"
    }
   ],
   "source": [
    "df.describe()"
   ]
  },
  {
   "cell_type": "code",
   "execution_count": 4,
   "id": "147b1f21",
   "metadata": {},
   "outputs": [
    {
     "data": {
      "text/html": [
       "<div>\n",
       "<style scoped>\n",
       "    .dataframe tbody tr th:only-of-type {\n",
       "        vertical-align: middle;\n",
       "    }\n",
       "\n",
       "    .dataframe tbody tr th {\n",
       "        vertical-align: top;\n",
       "    }\n",
       "\n",
       "    .dataframe thead th {\n",
       "        text-align: right;\n",
       "    }\n",
       "</style>\n",
       "<table border=\"1\" class=\"dataframe\">\n",
       "  <thead>\n",
       "    <tr style=\"text-align: right;\">\n",
       "      <th></th>\n",
       "      <th>goods</th>\n",
       "      <th>purchases</th>\n",
       "      <th>parking</th>\n",
       "      <th>rental_bag</th>\n",
       "      <th>date</th>\n",
       "    </tr>\n",
       "  </thead>\n",
       "  <tbody>\n",
       "    <tr>\n",
       "      <th>0</th>\n",
       "      <td>25</td>\n",
       "      <td>96120.0</td>\n",
       "      <td>0</td>\n",
       "      <td>2</td>\n",
       "      <td>2023-02-07</td>\n",
       "    </tr>\n",
       "    <tr>\n",
       "      <th>1</th>\n",
       "      <td>13</td>\n",
       "      <td>49710.0</td>\n",
       "      <td>0</td>\n",
       "      <td>2</td>\n",
       "      <td>2022-11-18</td>\n",
       "    </tr>\n",
       "    <tr>\n",
       "      <th>2</th>\n",
       "      <td>28</td>\n",
       "      <td>247380.0</td>\n",
       "      <td>1</td>\n",
       "      <td>2</td>\n",
       "      <td>2023-02-20</td>\n",
       "    </tr>\n",
       "    <tr>\n",
       "      <th>3</th>\n",
       "      <td>3</td>\n",
       "      <td>174430.0</td>\n",
       "      <td>1</td>\n",
       "      <td>0</td>\n",
       "      <td>2022-12-10</td>\n",
       "    </tr>\n",
       "    <tr>\n",
       "      <th>4</th>\n",
       "      <td>8</td>\n",
       "      <td>35510.0</td>\n",
       "      <td>0</td>\n",
       "      <td>1</td>\n",
       "      <td>2022-11-19</td>\n",
       "    </tr>\n",
       "  </tbody>\n",
       "</table>\n",
       "</div>"
      ],
      "text/plain": [
       "   goods  purchases  parking  rental_bag        date\n",
       "0     25    96120.0        0           2  2023-02-07\n",
       "1     13    49710.0        0           2  2022-11-18\n",
       "2     28   247380.0        1           2  2023-02-20\n",
       "3      3   174430.0        1           0  2022-12-10\n",
       "4      8    35510.0        0           1  2022-11-19"
      ]
     },
     "execution_count": 4,
     "metadata": {},
     "output_type": "execute_result"
    }
   ],
   "source": [
    "df.head()"
   ]
  },
  {
   "attachments": {},
   "cell_type": "markdown",
   "id": "2f9de35f",
   "metadata": {},
   "source": [
    "### Q1. 여러 변수간 상관관계를 확인하고자 한다. 상품 구매 수(goods), 결제 총 금액(purchases), 주차 여부(parking), 장바구니 대여 여부(rental_bag)간 피어슨 상관분석을 수행하고 그 결과 중 상관계수 절대값이 가장 큰 값을 구하시오\n",
    "※ 결측값이 포함된 데이터는 제거한 후에 상관분석을 수행하시오  \n",
    "※ 정답은 반올림하여 소수점 첫째 자리까지 출력하시오.\n",
    "(정답 예시: 22.9)"
   ]
  },
  {
   "cell_type": "code",
   "execution_count": 5,
   "id": "031c2146",
   "metadata": {},
   "outputs": [
    {
     "data": {
      "text/plain": [
       "Index(['goods', 'purchases', 'parking', 'rental_bag', 'date'], dtype='object')"
      ]
     },
     "execution_count": 5,
     "metadata": {},
     "output_type": "execute_result"
    }
   ],
   "source": [
    "df.columns"
   ]
  },
  {
   "attachments": {},
   "cell_type": "markdown",
   "id": "dfd6b3ac",
   "metadata": {},
   "source": [
    " 👉 df.corr()"
   ]
  },
  {
   "cell_type": "code",
   "execution_count": 6,
   "id": "aaed7a0e",
   "metadata": {},
   "outputs": [
    {
     "data": {
      "text/html": [
       "<div>\n",
       "<style scoped>\n",
       "    .dataframe tbody tr th:only-of-type {\n",
       "        vertical-align: middle;\n",
       "    }\n",
       "\n",
       "    .dataframe tbody tr th {\n",
       "        vertical-align: top;\n",
       "    }\n",
       "\n",
       "    .dataframe thead th {\n",
       "        text-align: right;\n",
       "    }\n",
       "</style>\n",
       "<table border=\"1\" class=\"dataframe\">\n",
       "  <thead>\n",
       "    <tr style=\"text-align: right;\">\n",
       "      <th></th>\n",
       "      <th>goods</th>\n",
       "      <th>purchases</th>\n",
       "      <th>parking</th>\n",
       "      <th>rental_bag</th>\n",
       "    </tr>\n",
       "  </thead>\n",
       "  <tbody>\n",
       "    <tr>\n",
       "      <th>goods</th>\n",
       "      <td>1.000000</td>\n",
       "      <td>0.305037</td>\n",
       "      <td>-0.001237</td>\n",
       "      <td>0.466990</td>\n",
       "    </tr>\n",
       "    <tr>\n",
       "      <th>purchases</th>\n",
       "      <td>0.305037</td>\n",
       "      <td>1.000000</td>\n",
       "      <td>0.006664</td>\n",
       "      <td>0.162369</td>\n",
       "    </tr>\n",
       "    <tr>\n",
       "      <th>parking</th>\n",
       "      <td>-0.001237</td>\n",
       "      <td>0.006664</td>\n",
       "      <td>1.000000</td>\n",
       "      <td>-0.005597</td>\n",
       "    </tr>\n",
       "    <tr>\n",
       "      <th>rental_bag</th>\n",
       "      <td>0.466990</td>\n",
       "      <td>0.162369</td>\n",
       "      <td>-0.005597</td>\n",
       "      <td>1.000000</td>\n",
       "    </tr>\n",
       "  </tbody>\n",
       "</table>\n",
       "</div>"
      ],
      "text/plain": [
       "               goods  purchases   parking  rental_bag\n",
       "goods       1.000000   0.305037 -0.001237    0.466990\n",
       "purchases   0.305037   1.000000  0.006664    0.162369\n",
       "parking    -0.001237   0.006664  1.000000   -0.005597\n",
       "rental_bag  0.466990   0.162369 -0.005597    1.000000"
      ]
     },
     "execution_count": 6,
     "metadata": {},
     "output_type": "execute_result"
    }
   ],
   "source": [
    "df_corr = df[['goods', 'purchases', 'parking', 'rental_bag']].dropna().corr()\n",
    "df_corr"
   ]
  },
  {
   "attachments": {},
   "cell_type": "markdown",
   "id": "6bd3d92a",
   "metadata": {},
   "source": [
    "이 중에서  세번째로 큰값을 찾으려면,  \n",
    "pd.Series(df_corr.values.reshape(-1)).sort_values(ascending=False).unique()[3]"
   ]
  },
  {
   "cell_type": "code",
   "execution_count": 69,
   "id": "7e92da09",
   "metadata": {},
   "outputs": [
    {
     "data": {
      "text/plain": [
       "array([ 1.        ,  0.46698983,  0.30503692,  0.16236871,  0.00666422,\n",
       "       -0.00123745, -0.00559709])"
      ]
     },
     "execution_count": 69,
     "metadata": {},
     "output_type": "execute_result"
    }
   ],
   "source": [
    "pd.Series(df_corr.values.reshape(-1)).sort_values(ascending=False).unique()#[3]"
   ]
  },
  {
   "cell_type": "code",
   "execution_count": 71,
   "id": "76744f91",
   "metadata": {},
   "outputs": [
    {
     "data": {
      "text/plain": [
       "goods         0\n",
       "purchases     1\n",
       "parking       0\n",
       "rental_bag    1\n",
       "dtype: int64"
      ]
     },
     "execution_count": 71,
     "metadata": {},
     "output_type": "execute_result"
    }
   ],
   "source": [
    "# 그 값을 featrue 을 찾으려면?\n",
    "# 그 값이 true 인 것을 찾으면 된다???\n",
    "\n",
    "(df_corr==0.16236871280817758).sum()\n"
   ]
  },
  {
   "cell_type": "code",
   "execution_count": 59,
   "metadata": {},
   "outputs": [
    {
     "data": {
      "text/html": [
       "<div>\n",
       "<style scoped>\n",
       "    .dataframe tbody tr th:only-of-type {\n",
       "        vertical-align: middle;\n",
       "    }\n",
       "\n",
       "    .dataframe tbody tr th {\n",
       "        vertical-align: top;\n",
       "    }\n",
       "\n",
       "    .dataframe thead th {\n",
       "        text-align: right;\n",
       "    }\n",
       "</style>\n",
       "<table border=\"1\" class=\"dataframe\">\n",
       "  <thead>\n",
       "    <tr style=\"text-align: right;\">\n",
       "      <th></th>\n",
       "      <th>goods</th>\n",
       "      <th>purchases</th>\n",
       "      <th>parking</th>\n",
       "      <th>rental_bag</th>\n",
       "    </tr>\n",
       "  </thead>\n",
       "  <tbody>\n",
       "    <tr>\n",
       "      <th>goods</th>\n",
       "      <td>False</td>\n",
       "      <td>False</td>\n",
       "      <td>False</td>\n",
       "      <td>False</td>\n",
       "    </tr>\n",
       "    <tr>\n",
       "      <th>purchases</th>\n",
       "      <td>False</td>\n",
       "      <td>False</td>\n",
       "      <td>False</td>\n",
       "      <td>True</td>\n",
       "    </tr>\n",
       "    <tr>\n",
       "      <th>parking</th>\n",
       "      <td>False</td>\n",
       "      <td>False</td>\n",
       "      <td>False</td>\n",
       "      <td>False</td>\n",
       "    </tr>\n",
       "    <tr>\n",
       "      <th>rental_bag</th>\n",
       "      <td>False</td>\n",
       "      <td>True</td>\n",
       "      <td>False</td>\n",
       "      <td>False</td>\n",
       "    </tr>\n",
       "  </tbody>\n",
       "</table>\n",
       "</div>"
      ],
      "text/plain": [
       "            goods  purchases  parking  rental_bag\n",
       "goods       False      False    False       False\n",
       "purchases   False      False    False        True\n",
       "parking     False      False    False       False\n",
       "rental_bag  False       True    False       False"
      ]
     },
     "execution_count": 59,
     "metadata": {},
     "output_type": "execute_result"
    }
   ],
   "source": [
    "df_corr == 0.16236871280817758\n",
    "\n",
    "# 이값을 갖는 feature 는 뭐야?"
   ]
  },
  {
   "attachments": {},
   "cell_type": "markdown",
   "id": "a0b7a766",
   "metadata": {},
   "source": [
    "sns.heatmap(df_corr,annot=True)"
   ]
  },
  {
   "cell_type": "code",
   "execution_count": 8,
   "id": "1141aaf0",
   "metadata": {},
   "outputs": [
    {
     "data": {
      "text/plain": [
       "<AxesSubplot:>"
      ]
     },
     "execution_count": 8,
     "metadata": {},
     "output_type": "execute_result"
    },
    {
     "data": {
      "image/png": "[encoded data removed]",
      "text/plain": [
       "<Figure size 640x480 with 2 Axes>"
      ]
     },
     "metadata": {},
     "output_type": "display_data"
    }
   ],
   "source": [
    "import seaborn as sns\n",
    "sns.heatmap(df_corr, annot=True )"
   ]
  },
  {
   "attachments": {},
   "cell_type": "markdown",
   "id": "b8e6e178",
   "metadata": {},
   "source": [
    "df.isna().sum()\n",
    "\n",
    "df 의 결측값 갯수 확인"
   ]
  },
  {
   "cell_type": "code",
   "execution_count": 9,
   "id": "a09670d6",
   "metadata": {},
   "outputs": [
    {
     "data": {
      "text/plain": [
       "goods            0\n",
       "purchases     1389\n",
       "parking          0\n",
       "rental_bag       0\n",
       "date             0\n",
       "dtype: int64"
      ]
     },
     "execution_count": 9,
     "metadata": {},
     "output_type": "execute_result"
    }
   ],
   "source": [
    "df1 = df.copy()\n",
    "\n",
    "df1.isna().sum()   \n",
    "\n",
    "# purchases 에만 결측 존재\n"
   ]
  },
  {
   "cell_type": "code",
   "execution_count": 10,
   "id": "81d66692",
   "metadata": {},
   "outputs": [
    {
     "name": "stdout",
     "output_type": "stream",
     "text": [
      "(6654, 5)\n"
     ]
    },
    {
     "data": {
      "text/plain": [
       "goods         0\n",
       "purchases     0\n",
       "parking       0\n",
       "rental_bag    0\n",
       "date          0\n",
       "dtype: int64"
      ]
     },
     "execution_count": 10,
     "metadata": {},
     "output_type": "execute_result"
    }
   ],
   "source": [
    "df1_null = df1.loc[df1.purchases.notnull(),]   # null 값 제외 : null 이 아니값만 slicing\n",
    "\n",
    "print(df1_null.shape)\n",
    "df1_null.isna().sum()"
   ]
  },
  {
   "attachments": {},
   "cell_type": "markdown",
   "id": "63bdfeb8",
   "metadata": {},
   "source": [
    "Series.corr(method)"
   ]
  },
  {
   "cell_type": "code",
   "execution_count": 11,
   "id": "b5fddb04",
   "metadata": {},
   "outputs": [
    {
     "data": {
      "text/plain": [
       "0.5"
      ]
     },
     "execution_count": 11,
     "metadata": {},
     "output_type": "execute_result"
    }
   ],
   "source": [
    "df1_null.corr(method='pearson').abs().round(1).goods.sort_values(ascending = False)[1]\n",
    "\n",
    "# df1_null.corr(method='pearson').abs().round(1).sort_values(by='goods',ascending = False).iat[1,0]\n",
    "\n",
    "# goods 기준으로 sort 해서 제일 큰수 \n"
   ]
  },
  {
   "cell_type": "code",
   "execution_count": 12,
   "id": "789a8833",
   "metadata": {},
   "outputs": [
    {
     "data": {
      "text/plain": [
       "'rental_bag'"
      ]
     },
     "execution_count": 12,
     "metadata": {},
     "output_type": "execute_result"
    }
   ],
   "source": [
    "# (abs(df1_null.corr(method='pearson')).goods.sort_values(ascending = False)).index.values[1]\n",
    "df1_null.corr(method='pearson').abs().round(1).sort_values(by='goods',ascending = False).index[1]\n",
    "# goods 와 상관관계가 제일 큰수를 갖은 column "
   ]
  },
  {
   "attachments": {},
   "cell_type": "markdown",
   "id": "658acebb",
   "metadata": {},
   "source": [
    "👉 series.iat[1], index[1]\n",
    "\n",
    "2번째값, 2번째 인텍스"
   ]
  },
  {
   "cell_type": "code",
   "execution_count": 13,
   "id": "6c28fb06",
   "metadata": {},
   "outputs": [
    {
     "data": {
      "text/plain": [
       "0.5"
      ]
     },
     "execution_count": 13,
     "metadata": {},
     "output_type": "execute_result"
    }
   ],
   "source": [
    "df1_null.corr(method='pearson').goods.abs().sort_values( ascending =False).iat[1].round(1)"
   ]
  },
  {
   "cell_type": "code",
   "execution_count": 14,
   "metadata": {},
   "outputs": [
    {
     "data": {
      "text/plain": [
       "'rental_bag'"
      ]
     },
     "execution_count": 14,
     "metadata": {},
     "output_type": "execute_result"
    }
   ],
   "source": [
    "df1_null.corr(method='pearson').goods.abs().sort_values( ascending =False).index[1]"
   ]
  },
  {
   "attachments": {},
   "cell_type": "markdown",
   "id": "35e135a8",
   "metadata": {},
   "source": [
    "### Q2. 특정 날짜 사이의 결제 총 금액(purchases) 평균을 구하려고 한다. 다음 단계에 따라 분석을 수행하고 질문에 답하시오.\n",
    "\n",
    "단계 1 : 결측값(Null)이 포함된 모든 행을 제거하시오  \n",
    "단계 2 : 단계 1을 수행한 데이터에서 결제 총 금액(purchases)이 49710인 날짜 st, 결제 총 금액(purchases)이 96120인 날짜 ed를 구한다.  \n",
    "- st와 ed 조건을 만족하는 데이터는 유일하다.\n",
    "\n",
    "단계 3 : 단계 2에서 구한 st와 ed 날짜 사이의 결제 총 금액(purchases) 평균을 구하시오(st와 ed 날도 포함한다.)  \n",
    "  \n",
    "※ 정답은 반올림하여 소수점 셋째 자리까지 출력하시오.\n",
    "(정답 예시: 0.229)"
   ]
  },
  {
   "attachments": {},
   "cell_type": "markdown",
   "id": "aaf7a18c",
   "metadata": {},
   "source": [
    " 👉 df.dropna(how / inplace)  \n",
    "\n",
    " axis = 0/1 or 'index'/'columns'\n",
    "\n",
    "0 or 'index' -> NaN 값이 포함된 row를 drop (default 값입니다.)  \n",
    "1 or 'columns' -> NaN 값이 포함된 column을 drop   \n",
    "\n",
    "how = 'any'/'all'  \n",
    "any -> row 또는 column에 NaN값이 1개만 있어도 drop (default 값입니다.)  \n",
    "all -> row 또는 column에 있는 모든 값이 NaN이어야 drop   \n",
    "\n",
    "inplace = True/False  \n",
    "True -> dropna가 적용된 DataFrame 자체에 dropna를 적용  \n",
    "False -> dropna가 적용된 DataFrame는 그대로 두고 dropna를 적용한 DataFrame을 return   \n",
    "\n",
    "subset = [col1, col2, ...]  \n",
    "subset을 명시하지 않으면 DataFrame 전체(모든 column & 모든 row)에 대해 dropna를 진행  \n",
    "subset을 명시하면 subset에 적힌 column값에 대해서만 dropna를 진행  \n",
    "\n",
    "df2 = df2.loc[df2.notnull(),:] "
   ]
  },
  {
   "cell_type": "code",
   "execution_count": 15,
   "id": "4107274d",
   "metadata": {},
   "outputs": [
    {
     "data": {
      "text/plain": [
       "goods         0\n",
       "purchases     0\n",
       "parking       0\n",
       "rental_bag    0\n",
       "date          0\n",
       "dtype: int64"
      ]
     },
     "execution_count": 15,
     "metadata": {},
     "output_type": "execute_result"
    }
   ],
   "source": [
    "df2 =df.copy()\n",
    "df2.dropna(how ='any',inplace=True)     # 결측값 하나라도 있으면 제거 \n",
    "df2.isnull().sum()\n",
    "\n",
    "# df2 = df2.loc[df2.notnull(),:]        # 결측값이 아니값만 취합"
   ]
  },
  {
   "cell_type": "code",
   "execution_count": 16,
   "id": "92f332bc",
   "metadata": {},
   "outputs": [
    {
     "data": {
      "text/html": [
       "<div>\n",
       "<style scoped>\n",
       "    .dataframe tbody tr th:only-of-type {\n",
       "        vertical-align: middle;\n",
       "    }\n",
       "\n",
       "    .dataframe tbody tr th {\n",
       "        vertical-align: top;\n",
       "    }\n",
       "\n",
       "    .dataframe thead th {\n",
       "        text-align: right;\n",
       "    }\n",
       "</style>\n",
       "<table border=\"1\" class=\"dataframe\">\n",
       "  <thead>\n",
       "    <tr style=\"text-align: right;\">\n",
       "      <th></th>\n",
       "      <th>goods</th>\n",
       "      <th>purchases</th>\n",
       "      <th>parking</th>\n",
       "      <th>rental_bag</th>\n",
       "      <th>date</th>\n",
       "    </tr>\n",
       "  </thead>\n",
       "  <tbody>\n",
       "    <tr>\n",
       "      <th>8037</th>\n",
       "      <td>22</td>\n",
       "      <td>95230.0</td>\n",
       "      <td>1</td>\n",
       "      <td>2</td>\n",
       "      <td>2022-12-08</td>\n",
       "    </tr>\n",
       "    <tr>\n",
       "      <th>8038</th>\n",
       "      <td>9</td>\n",
       "      <td>75870.0</td>\n",
       "      <td>0</td>\n",
       "      <td>1</td>\n",
       "      <td>2022-11-28</td>\n",
       "    </tr>\n",
       "    <tr>\n",
       "      <th>8039</th>\n",
       "      <td>21</td>\n",
       "      <td>159070.0</td>\n",
       "      <td>1</td>\n",
       "      <td>2</td>\n",
       "      <td>2022-12-20</td>\n",
       "    </tr>\n",
       "    <tr>\n",
       "      <th>8040</th>\n",
       "      <td>10</td>\n",
       "      <td>92720.0</td>\n",
       "      <td>0</td>\n",
       "      <td>0</td>\n",
       "      <td>2023-01-18</td>\n",
       "    </tr>\n",
       "    <tr>\n",
       "      <th>8041</th>\n",
       "      <td>13</td>\n",
       "      <td>764510.0</td>\n",
       "      <td>1</td>\n",
       "      <td>0</td>\n",
       "      <td>2023-01-05</td>\n",
       "    </tr>\n",
       "  </tbody>\n",
       "</table>\n",
       "</div>"
      ],
      "text/plain": [
       "      goods  purchases  parking  rental_bag        date\n",
       "8037     22    95230.0        1           2  2022-12-08\n",
       "8038      9    75870.0        0           1  2022-11-28\n",
       "8039     21   159070.0        1           2  2022-12-20\n",
       "8040     10    92720.0        0           0  2023-01-18\n",
       "8041     13   764510.0        1           0  2023-01-05"
      ]
     },
     "execution_count": 16,
     "metadata": {},
     "output_type": "execute_result"
    }
   ],
   "source": [
    "df2.tail()"
   ]
  },
  {
   "cell_type": "code",
   "execution_count": 17,
   "id": "14980631",
   "metadata": {},
   "outputs": [
    {
     "name": "stdout",
     "output_type": "stream",
     "text": [
      "<class 'pandas.core.frame.DataFrame'>\n",
      "Int64Index: 6654 entries, 0 to 8041\n",
      "Data columns (total 5 columns):\n",
      " #   Column      Non-Null Count  Dtype  \n",
      "---  ------      --------------  -----  \n",
      " 0   goods       6654 non-null   int64  \n",
      " 1   purchases   6654 non-null   float64\n",
      " 2   parking     6654 non-null   int64  \n",
      " 3   rental_bag  6654 non-null   int64  \n",
      " 4   date        6654 non-null   object \n",
      "dtypes: float64(1), int64(3), object(1)\n",
      "memory usage: 311.9+ KB\n"
     ]
    }
   ],
   "source": [
    "df2.info()\n",
    "\n",
    "# 중간에 drop 된 index 가 있어서 \n",
    "# Int64Index: 6654 entries, 0 to 8041 \n",
    "# 으로 표시 된다."
   ]
  },
  {
   "attachments": {},
   "cell_type": "markdown",
   "id": "353b90c3",
   "metadata": {},
   "source": [
    "loc / iloc"
   ]
  },
  {
   "cell_type": "code",
   "execution_count": 18,
   "id": "c9ccba5e",
   "metadata": {},
   "outputs": [
    {
     "name": "stdout",
     "output_type": "stream",
     "text": [
      "goods                 13\n",
      "purchases       764510.0\n",
      "parking                1\n",
      "rental_bag             0\n",
      "date          2023-01-05\n",
      "Name: 8041, dtype: object\n",
      "goods                 13\n",
      "purchases       764510.0\n",
      "parking                1\n",
      "rental_bag             0\n",
      "date          2023-01-05\n",
      "Name: 8041, dtype: object\n"
     ]
    }
   ],
   "source": [
    "# drop 을 실행한 후 location index 와 lable index 가 트러졌다. (그래서 reset_index가 필요함.)\n",
    "\n",
    "print(df2.iloc[6653,])  # 6654 번째 location index \n",
    "print(df2.loc[8041,])   # reset index 을 해서 아직 8041 label index 가 살아 있다."
   ]
  },
  {
   "attachments": {},
   "cell_type": "markdown",
   "id": "bf54b4f3",
   "metadata": {},
   "source": [
    "👉 reset_index(inplace, drop)\n",
    "\n",
    "reset index 이후 labe index 가 position index 로 맞워저서   \n",
    "df2.loc[8041,] 는 오류가 남"
   ]
  },
  {
   "cell_type": "code",
   "execution_count": 19,
   "id": "a5319133",
   "metadata": {},
   "outputs": [
    {
     "name": "stdout",
     "output_type": "stream",
     "text": [
      "<class 'pandas.core.frame.DataFrame'>\n",
      "RangeIndex: 6654 entries, 0 to 6653\n",
      "Data columns (total 5 columns):\n",
      " #   Column      Non-Null Count  Dtype  \n",
      "---  ------      --------------  -----  \n",
      " 0   goods       6654 non-null   int64  \n",
      " 1   purchases   6654 non-null   float64\n",
      " 2   parking     6654 non-null   int64  \n",
      " 3   rental_bag  6654 non-null   int64  \n",
      " 4   date        6654 non-null   object \n",
      "dtypes: float64(1), int64(3), object(1)\n",
      "memory usage: 260.0+ KB\n"
     ]
    }
   ],
   "source": [
    "df2.reset_index(inplace = True ,drop = True)\n",
    "df2.info()\n",
    "\n",
    "# 인텍스를 다시 설정 0 ~ 6654\n",
    "# print(df2.loc[8041,]) 는 오류 발생"
   ]
  },
  {
   "cell_type": "code",
   "execution_count": 20,
   "id": "aae1ef0d",
   "metadata": {},
   "outputs": [
    {
     "data": {
      "text/html": [
       "<div>\n",
       "<style scoped>\n",
       "    .dataframe tbody tr th:only-of-type {\n",
       "        vertical-align: middle;\n",
       "    }\n",
       "\n",
       "    .dataframe tbody tr th {\n",
       "        vertical-align: top;\n",
       "    }\n",
       "\n",
       "    .dataframe thead th {\n",
       "        text-align: right;\n",
       "    }\n",
       "</style>\n",
       "<table border=\"1\" class=\"dataframe\">\n",
       "  <thead>\n",
       "    <tr style=\"text-align: right;\">\n",
       "      <th></th>\n",
       "      <th>goods</th>\n",
       "      <th>purchases</th>\n",
       "      <th>parking</th>\n",
       "      <th>rental_bag</th>\n",
       "      <th>date</th>\n",
       "    </tr>\n",
       "  </thead>\n",
       "  <tbody>\n",
       "    <tr>\n",
       "      <th>6649</th>\n",
       "      <td>22</td>\n",
       "      <td>95230.0</td>\n",
       "      <td>1</td>\n",
       "      <td>2</td>\n",
       "      <td>2022-12-08</td>\n",
       "    </tr>\n",
       "    <tr>\n",
       "      <th>6650</th>\n",
       "      <td>9</td>\n",
       "      <td>75870.0</td>\n",
       "      <td>0</td>\n",
       "      <td>1</td>\n",
       "      <td>2022-11-28</td>\n",
       "    </tr>\n",
       "    <tr>\n",
       "      <th>6651</th>\n",
       "      <td>21</td>\n",
       "      <td>159070.0</td>\n",
       "      <td>1</td>\n",
       "      <td>2</td>\n",
       "      <td>2022-12-20</td>\n",
       "    </tr>\n",
       "    <tr>\n",
       "      <th>6652</th>\n",
       "      <td>10</td>\n",
       "      <td>92720.0</td>\n",
       "      <td>0</td>\n",
       "      <td>0</td>\n",
       "      <td>2023-01-18</td>\n",
       "    </tr>\n",
       "    <tr>\n",
       "      <th>6653</th>\n",
       "      <td>13</td>\n",
       "      <td>764510.0</td>\n",
       "      <td>1</td>\n",
       "      <td>0</td>\n",
       "      <td>2023-01-05</td>\n",
       "    </tr>\n",
       "  </tbody>\n",
       "</table>\n",
       "</div>"
      ],
      "text/plain": [
       "      goods  purchases  parking  rental_bag        date\n",
       "6649     22    95230.0        1           2  2022-12-08\n",
       "6650      9    75870.0        0           1  2022-11-28\n",
       "6651     21   159070.0        1           2  2022-12-20\n",
       "6652     10    92720.0        0           0  2023-01-18\n",
       "6653     13   764510.0        1           0  2023-01-05"
      ]
     },
     "execution_count": 20,
     "metadata": {},
     "output_type": "execute_result"
    }
   ],
   "source": [
    "df2.tail()"
   ]
  },
  {
   "cell_type": "code",
   "execution_count": 21,
   "id": "e9be7081",
   "metadata": {},
   "outputs": [
    {
     "data": {
      "text/html": [
       "<div>\n",
       "<style scoped>\n",
       "    .dataframe tbody tr th:only-of-type {\n",
       "        vertical-align: middle;\n",
       "    }\n",
       "\n",
       "    .dataframe tbody tr th {\n",
       "        vertical-align: top;\n",
       "    }\n",
       "\n",
       "    .dataframe thead th {\n",
       "        text-align: right;\n",
       "    }\n",
       "</style>\n",
       "<table border=\"1\" class=\"dataframe\">\n",
       "  <thead>\n",
       "    <tr style=\"text-align: right;\">\n",
       "      <th></th>\n",
       "      <th>goods</th>\n",
       "      <th>purchases</th>\n",
       "      <th>parking</th>\n",
       "      <th>rental_bag</th>\n",
       "      <th>date</th>\n",
       "    </tr>\n",
       "  </thead>\n",
       "  <tbody>\n",
       "    <tr>\n",
       "      <th>1</th>\n",
       "      <td>13</td>\n",
       "      <td>49710.0</td>\n",
       "      <td>0</td>\n",
       "      <td>2</td>\n",
       "      <td>2022-11-18</td>\n",
       "    </tr>\n",
       "  </tbody>\n",
       "</table>\n",
       "</div>"
      ],
      "text/plain": [
       "   goods  purchases  parking  rental_bag        date\n",
       "1     13    49710.0        0           2  2022-11-18"
      ]
     },
     "execution_count": 21,
     "metadata": {},
     "output_type": "execute_result"
    }
   ],
   "source": [
    "df2.loc[df2.purchases == 49710, ]\n",
    "\n",
    "# 원래부터가 index 가 1 이였네."
   ]
  },
  {
   "attachments": {},
   "cell_type": "markdown",
   "id": "2d61f721",
   "metadata": {},
   "source": [
    "😂 label vs position indexing\n",
    "```\n",
    "label    : loc, 명시적, 몇번 df, series 로 반환, at : 값을 가져온다\n",
    "position : iloc, 암묵적, 몇번째 (추가/삭제에 따라 변화) df,series 로 반환 , iat : 값만 을 가져온다\n",
    "```"
   ]
  },
  {
   "cell_type": "code",
   "execution_count": 22,
   "id": "4c27001a",
   "metadata": {},
   "outputs": [
    {
     "data": {
      "text/plain": [
       "'2022-11-18'"
      ]
     },
     "execution_count": 22,
     "metadata": {},
     "output_type": "execute_result"
    }
   ],
   "source": [
    "\n",
    "# st = df2.loc[df2.purchases == 49710, 'date'][1]      \n",
    "# df 때부터 있던 원래 label 인덱스 [1] 를 넣어야 한다. 여기서는 우연히 0, 1 이라서 혼동됨\n",
    "# [int] 인경우 lable (명목적) 인덱스로 간주한다. \n",
    "\n",
    "st = df2.loc[df2.purchases == 49710, 'date'].values[0]\n",
    "st\n",
    "\n",
    "# df2.loc[df2.purchases == 49710, 'date'] 은 왜 안될까?  Serise 라서\n",
    "# 와\n",
    "# df2.loc[df2.purchases == 49710, 'date'][0] 은 왜 안될까? [1] 이여만 할까? --> df 에서부터 갖고 있는 원래 label 인덱스[1] 를 넣어야 한다."
   ]
  },
  {
   "cell_type": "code",
   "execution_count": 23,
   "id": "659c8369",
   "metadata": {},
   "outputs": [
    {
     "data": {
      "text/plain": [
       "'2022-11-18'"
      ]
     },
     "execution_count": 23,
     "metadata": {},
     "output_type": "execute_result"
    }
   ],
   "source": [
    "# position을 사용하기 위해서는 iloc 을 사용해야 한다. \n",
    "\n",
    "df2.loc[df2.purchases == 49710, 'date'].iloc[0]"
   ]
  },
  {
   "cell_type": "code",
   "execution_count": 24,
   "id": "8d428d98",
   "metadata": {},
   "outputs": [
    {
     "name": "stdout",
     "output_type": "stream",
     "text": [
      "         date\n",
      "0  2023-02-07\n"
     ]
    },
    {
     "data": {
      "text/plain": [
       "'2023-02-07'"
      ]
     },
     "execution_count": 24,
     "metadata": {},
     "output_type": "execute_result"
    }
   ],
   "source": [
    "print(df2.loc[df2.purchases == 96120, ['date']])\n",
    "ed = df2.loc[df2.purchases == 96120, 'date'].values[0]\n",
    "ed\n",
    "\n",
    "# ed = df2.loc[df2.purchases == 96120, 'date'][1] 여기는 왜 이게 안될까? --> lable index 1 인 값이 없기 때문에 "
   ]
  },
  {
   "cell_type": "code",
   "execution_count": 25,
   "id": "ef50e48e",
   "metadata": {},
   "outputs": [
    {
     "data": {
      "text/plain": [
       "'2023-02-07'"
      ]
     },
     "execution_count": 25,
     "metadata": {},
     "output_type": "execute_result"
    }
   ],
   "source": [
    "df2.loc[df2.purchases == 96120, 'date'].iloc[0]"
   ]
  },
  {
   "cell_type": "code",
   "execution_count": 26,
   "id": "6fb80fdc",
   "metadata": {},
   "outputs": [
    {
     "data": {
      "text/plain": [
       "0        96120.0\n",
       "1        49710.0\n",
       "3       174430.0\n",
       "4        35510.0\n",
       "5        90330.0\n",
       "          ...   \n",
       "6649     95230.0\n",
       "6650     75870.0\n",
       "6651    159070.0\n",
       "6652     92720.0\n",
       "6653    764510.0\n",
       "Name: purchases, Length: 4609, dtype: float64"
      ]
     },
     "execution_count": 26,
     "metadata": {},
     "output_type": "execute_result"
    }
   ],
   "source": [
    "mask = (df2['date'] >= st) & (df2['date'] <= ed)\n",
    "df2.loc[mask,'purchases']"
   ]
  },
  {
   "attachments": {},
   "cell_type": "markdown",
   "id": "66ad0a65",
   "metadata": {},
   "source": [
    "### Q3. 데이터를 바탕으로 장바구니 대여 여부(rental_bag)를 예측하는 모델을 만드려고 한다. 다음 단계에 따라 분석을 수행하고 질문에 답하시오.\n",
    "\n",
    "단계 1 : 결제 총 금액(purchases)의 결측 값(Null)을 결제 총 금액(purchases)의 평균값으로 대체한다.  \n",
    "단계 2 : 장바구니 대여 여부(rental_bag) 컬럼 값을 대여하지 않은 경우는 0, 대여한 경우는 종류에 상관없이 1로 변환한다.  \n"
   ]
  },
  {
   "cell_type": "code",
   "execution_count": 27,
   "id": "461f2109",
   "metadata": {},
   "outputs": [
    {
     "data": {
      "text/plain": [
       "goods            0\n",
       "purchases     1389\n",
       "parking          0\n",
       "rental_bag       0\n",
       "date             0\n",
       "dtype: int64"
      ]
     },
     "execution_count": 27,
     "metadata": {},
     "output_type": "execute_result"
    }
   ],
   "source": [
    "df3 = df.copy()\n",
    "df3.isna().sum()"
   ]
  },
  {
   "attachments": {},
   "cell_type": "markdown",
   "id": "9e2d04ff",
   "metadata": {},
   "source": [
    "df.fillna(method)\n",
    "\n",
    "method = ffill, bfill  / limit = 갯수 만큼만 채우기  \n",
    "\n",
    "df.fillna(df.mean()['C1'])       : C1 평균으로 모든 결측값 채우기  \n",
    "\n",
    "df.fillna(df.mean()['C1':'C2'])  : C1, C2  각각의 평균값으로 각각의 컬럼의 결측값 채우기  \n",
    "```\n",
    "df_2['C2_New'] = np.where(pd.notnull(df_2['C2']) == True,       C2에 값이 있으면,   \n",
    "                          df_2['C2'], df_2['C1'])               C2값을, 값이 없을때 C1 값으로 C2_New 을 채움  \n",
    "```\n"
   ]
  },
  {
   "cell_type": "code",
   "execution_count": 28,
   "id": "f44f8738",
   "metadata": {},
   "outputs": [],
   "source": [
    "df3.fillna(df3.purchases.mean(), inplace=True)"
   ]
  },
  {
   "cell_type": "code",
   "execution_count": 29,
   "id": "b00614bb",
   "metadata": {},
   "outputs": [
    {
     "data": {
      "text/plain": [
       "goods         0\n",
       "purchases     0\n",
       "parking       0\n",
       "rental_bag    0\n",
       "date          0\n",
       "dtype: int64"
      ]
     },
     "execution_count": 29,
     "metadata": {},
     "output_type": "execute_result"
    }
   ],
   "source": [
    "df3.isna().sum()"
   ]
  },
  {
   "cell_type": "code",
   "execution_count": 30,
   "id": "56e9b0f0",
   "metadata": {},
   "outputs": [
    {
     "data": {
      "text/plain": [
       "array([2, 0, 1])"
      ]
     },
     "execution_count": 30,
     "metadata": {},
     "output_type": "execute_result"
    }
   ],
   "source": [
    "df3.rental_bag.unique()"
   ]
  },
  {
   "cell_type": "code",
   "execution_count": 31,
   "id": "ae0567f8",
   "metadata": {},
   "outputs": [],
   "source": [
    "df3.loc[df3.rental_bag == 2,'rental_bag'] = 1"
   ]
  },
  {
   "cell_type": "code",
   "execution_count": 32,
   "id": "59a858bc",
   "metadata": {},
   "outputs": [
    {
     "data": {
      "text/plain": [
       "array([1, 0])"
      ]
     },
     "execution_count": 32,
     "metadata": {},
     "output_type": "execute_result"
    }
   ],
   "source": [
    "df3.rental_bag.unique()"
   ]
  },
  {
   "cell_type": "code",
   "execution_count": 33,
   "id": "53d5366a",
   "metadata": {},
   "outputs": [
    {
     "data": {
      "text/html": [
       "<div>\n",
       "<style scoped>\n",
       "    .dataframe tbody tr th:only-of-type {\n",
       "        vertical-align: middle;\n",
       "    }\n",
       "\n",
       "    .dataframe tbody tr th {\n",
       "        vertical-align: top;\n",
       "    }\n",
       "\n",
       "    .dataframe thead th {\n",
       "        text-align: right;\n",
       "    }\n",
       "</style>\n",
       "<table border=\"1\" class=\"dataframe\">\n",
       "  <thead>\n",
       "    <tr style=\"text-align: right;\">\n",
       "      <th></th>\n",
       "      <th>goods</th>\n",
       "      <th>purchases</th>\n",
       "      <th>parking</th>\n",
       "      <th>rental_bag</th>\n",
       "      <th>date</th>\n",
       "    </tr>\n",
       "  </thead>\n",
       "  <tbody>\n",
       "    <tr>\n",
       "      <th>0</th>\n",
       "      <td>25</td>\n",
       "      <td>96120.0</td>\n",
       "      <td>0</td>\n",
       "      <td>1</td>\n",
       "      <td>2023-02-07</td>\n",
       "    </tr>\n",
       "    <tr>\n",
       "      <th>1</th>\n",
       "      <td>13</td>\n",
       "      <td>49710.0</td>\n",
       "      <td>0</td>\n",
       "      <td>1</td>\n",
       "      <td>2022-11-18</td>\n",
       "    </tr>\n",
       "    <tr>\n",
       "      <th>2</th>\n",
       "      <td>28</td>\n",
       "      <td>247380.0</td>\n",
       "      <td>1</td>\n",
       "      <td>1</td>\n",
       "      <td>2023-02-20</td>\n",
       "    </tr>\n",
       "    <tr>\n",
       "      <th>3</th>\n",
       "      <td>3</td>\n",
       "      <td>174430.0</td>\n",
       "      <td>1</td>\n",
       "      <td>0</td>\n",
       "      <td>2022-12-10</td>\n",
       "    </tr>\n",
       "    <tr>\n",
       "      <th>4</th>\n",
       "      <td>8</td>\n",
       "      <td>35510.0</td>\n",
       "      <td>0</td>\n",
       "      <td>1</td>\n",
       "      <td>2022-11-19</td>\n",
       "    </tr>\n",
       "  </tbody>\n",
       "</table>\n",
       "</div>"
      ],
      "text/plain": [
       "   goods  purchases  parking  rental_bag        date\n",
       "0     25    96120.0        0           1  2023-02-07\n",
       "1     13    49710.0        0           1  2022-11-18\n",
       "2     28   247380.0        1           1  2023-02-20\n",
       "3      3   174430.0        1           0  2022-12-10\n",
       "4      8    35510.0        0           1  2022-11-19"
      ]
     },
     "execution_count": 33,
     "metadata": {},
     "output_type": "execute_result"
    }
   ],
   "source": [
    "df3.head()"
   ]
  },
  {
   "attachments": {},
   "cell_type": "markdown",
   "id": "cfd3db6c",
   "metadata": {},
   "source": [
    "단계 3 : 날짜가 2월이 아닌 데이터를 Train Set으로, 2월인 데이터를 Test Set으로 분할한다.  \n"
   ]
  },
  {
   "attachments": {},
   "cell_type": "markdown",
   "id": "23e92006",
   "metadata": {},
   "source": [
    "pd.to_datetime"
   ]
  },
  {
   "cell_type": "code",
   "execution_count": 42,
   "id": "c1ea07ef",
   "metadata": {},
   "outputs": [],
   "source": [
    "# Test_d = df3.loc[df3.date.str[5:7] == '02',]\n",
    "# Train_d = df3.loc[df3.date.str[5:7] != '02',]\n",
    "\n",
    "df3['date'] = pd.to_datetime(df3['date'])\n",
    "Train_d = df3.loc[df3['date'].dt.month!=2,].copy()\n",
    "Test_d = df3.loc[df3['date'].dt.month==2,].copy()"
   ]
  },
  {
   "attachments": {},
   "cell_type": "markdown",
   "id": "8be1d4fe",
   "metadata": {},
   "source": [
    "😂 SettingWithCopyWarning\n",
    "\n",
    "기존 데이터의 일부를 새로운 데이터를 사용할때는 copy 을 해서 사용해야 한다. \n",
    "Train_d = df3.loc[df3['date'].dt.month!=2].copy() \n",
    "\n",
    "이후 Train_d 의 수정이 필요하게 될때, copy을 하지 않은 경우 원본까지 수정을 해야 하는지 애매해서 경고 SettingWithCopyWarning 가 발생한다.\n",
    "```\n",
    "Train_d = df3.loc[df3['date'].dt.month!=2]   일 경우,  \n",
    "...\n",
    "std_train = StandardScaler()\n",
    "Train_d.loc[:,['goods','purchases']] = std_train.fit_transform(Train_d.loc[:,['goods','purchases']])  <-- 경고 발생\n",
    "```"
   ]
  },
  {
   "cell_type": "code",
   "execution_count": 35,
   "id": "de7eaa68",
   "metadata": {},
   "outputs": [
    {
     "data": {
      "text/plain": [
       "(goods         6248\n",
       " purchases     6248\n",
       " parking       6248\n",
       " rental_bag    6248\n",
       " date          6248\n",
       " dtype: int64,\n",
       " goods         1795\n",
       " purchases     1795\n",
       " parking       1795\n",
       " rental_bag    1795\n",
       " date          1795\n",
       " dtype: int64)"
      ]
     },
     "execution_count": 35,
     "metadata": {},
     "output_type": "execute_result"
    }
   ],
   "source": [
    "# Train_d.loc[Train_d.date.str[5:7]=='02',]\n",
    "Train_d.count(), Test_d.count()"
   ]
  },
  {
   "attachments": {},
   "cell_type": "markdown",
   "id": "ad7dbd1c",
   "metadata": {},
   "source": [
    "단계 4 : 상품 구매 수(goods)와 결제 총 금액(purchases) 컬럼에 대해 Train Set을 기준으로 Z-score 표준화(Standardization) 한다.  \n"
   ]
  },
  {
   "cell_type": "code",
   "execution_count": 1,
   "id": "9474f136",
   "metadata": {},
   "outputs": [],
   "source": [
    "from sklearn.linear_model import LogisticRegression  \n",
    "from sklearn.preprocessing import StandardScaler  \n",
    "from sklearn.metrics import f1_score"
   ]
  },
  {
   "attachments": {},
   "cell_type": "markdown",
   "id": "5192ec44",
   "metadata": {},
   "source": [
    "👉 data scaling : StandardScaler"
   ]
  },
  {
   "cell_type": "code",
   "execution_count": 36,
   "id": "48695970",
   "metadata": {},
   "outputs": [
    {
     "data": {
      "text/plain": [
       "(         goods  purchases  parking  rental_bag       date\n",
       " 1    -0.274207  -0.692843        0           1 2022-11-18\n",
       " 3    -1.353346   0.140439        1           0 2022-12-10\n",
       " 4    -0.813776  -0.787716        0           1 2022-11-19\n",
       " 5     0.049535  -0.421452        0           0 2022-12-21\n",
       " 6     0.157449  -0.464746        1           1 2022-12-02\n",
       " ...        ...        ...      ...         ...        ...\n",
       " 8038 -0.705863  -0.518062        0           1 2022-11-28\n",
       " 8039  0.589105   0.037816        1           1 2022-12-20\n",
       " 8040 -0.597949  -0.405483        0           0 2023-01-18\n",
       " 8041 -0.274207   4.082896        1           0 2023-01-05\n",
       " 8042  0.373277   0.009373        0           1 2023-01-11\n",
       " \n",
       " [6248 rows x 5 columns],\n",
       "          goods  purchases  parking  rental_bag       date\n",
       " 0     1.020761  -0.382767        0           1 2023-02-07\n",
       " 2     1.344503   0.627835        1           1 2023-02-20\n",
       " 7     1.560331   0.405684        0           1 2023-02-21\n",
       " 8     0.589105  -0.476839        1           1 2023-02-13\n",
       " 9     0.265363  -0.135161        0           1 2023-02-21\n",
       " ...        ...        ...      ...         ...        ...\n",
       " 8005 -0.382121  -0.422454        0           0 2023-02-17\n",
       " 8008 -1.353346  -0.877311        0           0 2023-02-07\n",
       " 8020  1.668245   0.416775        1           1 2023-02-04\n",
       " 8022 -1.029604  -0.867022        1           1 2023-02-27\n",
       " 8028 -1.677088  -1.024966        0           1 2023-02-26\n",
       " \n",
       " [1795 rows x 5 columns])"
      ]
     },
     "execution_count": 36,
     "metadata": {},
     "output_type": "execute_result"
    }
   ],
   "source": [
    "std_train = StandardScaler()\n",
    "Train_d.loc[:,['goods','purchases']] = std_train.fit_transform(Train_d.loc[:,['goods','purchases']])\n",
    "\n",
    "# test 는  train 기준 StandardScaler fit 을 이용하여 transform 만 한다. \n",
    "Test_d.loc[:,['goods','purchases']] = std_train.transform(Test_d.loc[:,['goods','purchases']])\n",
    "Train_d, Test_d"
   ]
  },
  {
   "attachments": {},
   "cell_type": "markdown",
   "id": "13522344",
   "metadata": {},
   "source": [
    "단계 5 : Train Set으로 아래 조건에 따라 로지스틱 회귀분석을 학습한다.  \n",
    "- 독립 변수 : 상품 구매 수(goods), 결제 총 금액(purchases), 주차 여부(parking)  \n",
    "- 종속 변수 : 장바구니 대여 여부(rental_bag)  \n"
   ]
  },
  {
   "attachments": {},
   "cell_type": "markdown",
   "id": "40ede800",
   "metadata": {},
   "source": [
    "👉 LogisticRegression"
   ]
  },
  {
   "cell_type": "code",
   "execution_count": 37,
   "id": "cdec84ce",
   "metadata": {},
   "outputs": [],
   "source": [
    "X_train = Train_d[['goods','purchases','parking']]   # 독립변수는 1개라도 [[ ]] 이다.\n",
    "X_test = Test_d[['goods','purchases','parking']] \n",
    "\n",
    "y_train = Train_d['rental_bag']                      # 종속변수는 1개라서 [[ ]] 가 아니다\n",
    "y_test = Test_d['rental_bag']\n",
    "\n",
    "Log_model = LogisticRegression(random_state=229)\n",
    "Log_model.fit(X_train, y_train)\n",
    "\n",
    "y_pred = Log_model.predict(X_test)\n"
   ]
  },
  {
   "cell_type": "code",
   "execution_count": 38,
   "id": "f915d1a3",
   "metadata": {},
   "outputs": [
    {
     "data": {
      "text/plain": [
       "0.822771941714673"
      ]
     },
     "execution_count": 38,
     "metadata": {},
     "output_type": "execute_result"
    }
   ],
   "source": [
    "score = f1_score(y_test, y_pred)\n",
    "\n",
    "score"
   ]
  },
  {
   "attachments": {},
   "cell_type": "markdown",
   "id": "3db6c412",
   "metadata": {},
   "source": [
    "\n",
    "단계 6 : 단계 5에서 학습한 모델을 Test Set에 적용하여 장바구니 대여 여부(rental_bag)를 예측한다. Test Set에 주어진 종속 변수를 활용하여 F1-score로 모델을 평가하시오  \n",
    "            \n",
    "※ 정답은 반올림하여 소수점 둘째 자리까지 출력하시오.  \n",
    "(정답 예시: 2.29)"
   ]
  },
  {
   "attachments": {},
   "cell_type": "markdown",
   "id": "5c3524a0",
   "metadata": {},
   "source": [
    "#### 필요 라이브러리 함수,클래스 및 설정값 목록  \n",
    "\n",
    "\n",
    "from sklearn.linear_model import LogisticRegression  \n",
    "from sklearn.preprocessing import StandardScaler  \n",
    "from sklearn.metrics import f1_score  \n",
    "random_state = 229  \n",
    "문제 지시 외 Default 값 사용  "
   ]
  },
  {
   "cell_type": "code",
   "execution_count": null,
   "id": "9847a85c",
   "metadata": {},
   "outputs": [],
   "source": []
  }
 ],
 "metadata": {
  "kernelspec": {
   "display_name": "Python 3.7.6 64-bit ('3.7.6')",
   "language": "python",
   "name": "python3"
  },
  "language_info": {
   "codemirror_mode": {
    "name": "ipython",
    "version": 3
   },
   "file_extension": ".py",
   "mimetype": "text/x-python",
   "name": "python",
   "nbconvert_exporter": "python",
   "pygments_lexer": "ipython3",
   "version": "3.7.6"
  },
  "vscode": {
   "interpreter": {
    "hash": "162ceaf09f938773ad028a3a2ad644135fdbb6560e1ade87eeac244d09a7763d"
   }
  }
 },
 "nbformat": 4,
 "nbformat_minor": 5
}
