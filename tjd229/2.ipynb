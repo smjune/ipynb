{
 "cells": [
  {
   "cell_type": "markdown",
   "id": "52066804",
   "metadata": {},
   "source": [
    "## 4개월 간 s-마트의 영수증 데이터를 이용하여 마케팅 전략을 수립하려 한다."
   ]
  },
  {
   "cell_type": "markdown",
   "id": "3aaf223e",
   "metadata": {},
   "source": [
    "s_mart.csv\n",
    "\n",
    "|컬럼|정의|type|\n",
    "|:---|:---|:---:|\n",
    "|goods|상품 구매 수|int64|\n",
    "|purchases|결제 총 금액|float64|\n",
    "|parking|주차 여부 (값이 0이면 주차하지 않음, 1이면 주차하였음)|int64|\n",
    "|rental_bag|장바구니 대여 여부(값이 0이면 대여하지 않음, 1이면 소형 사이즈 대여, 2면 대형 사이즈 대여)|int64|\n",
    "|date|결제 날짜|object|  \n",
    "\n",
    "정답 및 해설 : https://tjd229.tistory.com/21"
   ]
  },
  {
   "cell_type": "code",
   "execution_count": null,
   "id": "9a5a114d",
   "metadata": {},
   "outputs": [],
   "source": []
  },
  {
   "cell_type": "markdown",
   "id": "2f9de35f",
   "metadata": {},
   "source": [
    "### Q1. 여러 변수간 상관관계를 확인하고자 한다. 상품 구매 수(goods), 결제 총 금액(purchases), 주차 여부(parking), 장바구니 대여 여부(rental_bag)간 피어슨 상관분석을 수행하고 그 결과 중 상관계수 절대값이 가장 큰 값을 구하시오\n",
    "※ 결측값이 포함된 데이터는 제거한 후에 상관분석을 수행하시오  \n",
    "※ 정답은 반올림하여 소수점 첫째 자리까지 출력하시오.\n",
    "(정답 예시: 22.9)"
   ]
  },
  {
   "cell_type": "code",
   "execution_count": null,
   "id": "a09670d6",
   "metadata": {},
   "outputs": [],
   "source": []
  },
  {
   "cell_type": "markdown",
   "id": "35e135a8",
   "metadata": {},
   "source": [
    "### Q2. 특정 날짜 사이의 결제 총 금액(purchases) 평균을 구하려고 한다. 다음 단계에 따라 분석을 수행하고 질문에 답하시오.\n",
    "\n",
    "단계 1 : 결측값(Null)이 포함된 모든 행을 제거하시오  \n",
    "단계 2 : 단계 1을 수행한 데이터에서 결제 총 금액(purchases)이 49710인 날짜 st, 결제 총 금액(purchases)이 96120인 날짜 ed를 구한다.  \n",
    "- st와 ed 조건을 만족하는 데이터는 유일하다.\n",
    "\n",
    "단계 3 : 단계 2에서 구한 st와 ed 날짜 사이의 결제 총 금액(purchases) 평균을 구하시오(st와 ed 날도 포함한다.)  \n",
    "  \n",
    "※ 정답은 반올림하여 소수점 셋째 자리까지 출력하시오.\n",
    "(정답 예시: 0.229)"
   ]
  },
  {
   "cell_type": "code",
   "execution_count": null,
   "id": "4107274d",
   "metadata": {},
   "outputs": [],
   "source": []
  },
  {
   "cell_type": "markdown",
   "id": "66ad0a65",
   "metadata": {},
   "source": [
    "### Q3. 데이터를 바탕으로 장바구니 대여 여부(rental_bag)를 예측하는 모델을 만드려고 한다. 다음 단계에 따라 분석을 수행하고 질문에 답하시오.\n",
    "\n",
    "단계 1 : 결제 총 금액(purchases)의 결측 값(Null)을 결제 총 금액(purchases)의 평균값으로 대체한다.  \n",
    "단계 2 : 장바구니 대여 여부(rental_bag) 컬럼 값을 대여하지 않은 경우는 0, 대여한 경우는 종류에 상관없이 1로 변환한다.  \n",
    "단계 3 : 날짜가 2월이 아닌 데이터를 Train Set으로, 2월인 데이터를 Test Set으로 분할한다.  \n",
    "단계 4 : 상품 구매 수(goods)와 결제 총 금액(purchases) 컬럼에 대해 Train Set을 기준으로 Z-score 표준화(Standardization) 한다.  \n",
    "단계 5 : Train Set으로 아래 조건에 따라 로지스틱 회귀분석을 학습한다.  \n",
    "- 독립 변수 : 상품 구매 수(goods), 결제 총 금액(purchases), 주차 여부(parking)  \n",
    "- 종속 변수 : 장바구니 대여 여부(rental_bag)  \n",
    "\n",
    "단계 6 : 단계 5에서 학습한 모델을 Test Set에 적용하여 장바구니 대여 여부(rental_bag)를 예측한다. Test Set에 주어진 종속 변수를 활용하여 F1-score로 모델을 평가하시오  \n",
    "            \n",
    "※ 정답은 반올림하여 소수점 둘째 자리까지 출력하시오.  \n",
    "(정답 예시: 2.29)"
   ]
  },
  {
   "cell_type": "code",
   "execution_count": null,
   "id": "461f2109",
   "metadata": {},
   "outputs": [],
   "source": []
  },
  {
   "cell_type": "markdown",
   "id": "5c3524a0",
   "metadata": {},
   "source": [
    "#### 필요 라이브러리 함수,클래스 및 설정값 목록  \n",
    "\n",
    "\n",
    "from sklearn.linear_model import LogisticRegression  \n",
    "from sklearn.preprocessing import StandardScaler  \n",
    "from sklearn.metrics import f1_score  \n",
    "random_state = 229  \n",
    "문제 지시 외 Default 값 사용  "
   ]
  },
  {
   "cell_type": "code",
   "execution_count": null,
   "id": "9847a85c",
   "metadata": {},
   "outputs": [],
   "source": []
  }
 ],
 "metadata": {
  "kernelspec": {
   "display_name": "ds",
   "language": "python",
   "name": "ds"
  },
  "language_info": {
   "codemirror_mode": {
    "name": "ipython",
    "version": 3
   },
   "file_extension": ".py",
   "mimetype": "text/x-python",
   "name": "python",
   "nbconvert_exporter": "python",
   "pygments_lexer": "ipython3",
   "version": "3.9.7"
  }
 },
 "nbformat": 4,
 "nbformat_minor": 5
}
