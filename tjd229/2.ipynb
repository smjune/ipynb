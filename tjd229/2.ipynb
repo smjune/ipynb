{
 "cells": [
  {
   "attachments": {},
   "cell_type": "markdown",
   "id": "52066804",
   "metadata": {},
   "source": [
    "## 4개월 간 s-마트의 영수증 데이터를 이용하여 마케팅 전략을 수립하려 한다."
   ]
  },
  {
   "attachments": {},
   "cell_type": "markdown",
   "id": "3aaf223e",
   "metadata": {},
   "source": [
    "s_mart.csv\n",
    "\n",
    "|컬럼|정의|type|\n",
    "|:---|:---|:---:|\n",
    "|goods|상품 구매 수|int64|\n",
    "|purchases|결제 총 금액|float64|\n",
    "|parking|주차 여부 (값이 0이면 주차하지 않음, 1이면 주차하였음)|int64|\n",
    "|rental_bag|장바구니 대여 여부(값이 0이면 대여하지 않음, 1이면 소형 사이즈 대여, 2면 대형 사이즈 대여)|int64|\n",
    "|date|결제 날짜|object|  \n",
    "\n",
    "정답 및 해설 : https://tjd229.tistory.com/21"
   ]
  },
  {
   "cell_type": "code",
   "execution_count": 238,
   "id": "9a5a114d",
   "metadata": {},
   "outputs": [
    {
     "name": "stdout",
     "output_type": "stream",
     "text": [
      "<class 'pandas.core.frame.DataFrame'>\n",
      "RangeIndex: 8043 entries, 0 to 8042\n",
      "Data columns (total 5 columns):\n",
      " #   Column      Non-Null Count  Dtype  \n",
      "---  ------      --------------  -----  \n",
      " 0   goods       8043 non-null   int64  \n",
      " 1   purchases   6654 non-null   float64\n",
      " 2   parking     8043 non-null   int64  \n",
      " 3   rental_bag  8043 non-null   int64  \n",
      " 4   date        8043 non-null   object \n",
      "dtypes: float64(1), int64(3), object(1)\n",
      "memory usage: 314.3+ KB\n"
     ]
    }
   ],
   "source": [
    "import pandas as pd\n",
    "import numpy as np\n",
    "\n",
    "df = pd.read_csv('../content/tjd229/s_mart.csv')\n",
    "df.info()"
   ]
  },
  {
   "cell_type": "code",
   "execution_count": 239,
   "id": "15e36df7",
   "metadata": {},
   "outputs": [
    {
     "data": {
      "text/plain": [
       "(8043, 5)"
      ]
     },
     "execution_count": 239,
     "metadata": {},
     "output_type": "execute_result"
    }
   ],
   "source": [
    "df.shape"
   ]
  },
  {
   "cell_type": "code",
   "execution_count": 240,
   "id": "14162e37",
   "metadata": {},
   "outputs": [
    {
     "data": {
      "text/html": [
       "<div>\n",
       "<style scoped>\n",
       "    .dataframe tbody tr th:only-of-type {\n",
       "        vertical-align: middle;\n",
       "    }\n",
       "\n",
       "    .dataframe tbody tr th {\n",
       "        vertical-align: top;\n",
       "    }\n",
       "\n",
       "    .dataframe thead th {\n",
       "        text-align: right;\n",
       "    }\n",
       "</style>\n",
       "<table border=\"1\" class=\"dataframe\">\n",
       "  <thead>\n",
       "    <tr style=\"text-align: right;\">\n",
       "      <th></th>\n",
       "      <th>goods</th>\n",
       "      <th>purchases</th>\n",
       "      <th>parking</th>\n",
       "      <th>rental_bag</th>\n",
       "    </tr>\n",
       "  </thead>\n",
       "  <tbody>\n",
       "    <tr>\n",
       "      <th>count</th>\n",
       "      <td>8043.000000</td>\n",
       "      <td>6.654000e+03</td>\n",
       "      <td>8043.000000</td>\n",
       "      <td>8043.000000</td>\n",
       "    </tr>\n",
       "    <tr>\n",
       "      <th>mean</th>\n",
       "      <td>15.474326</td>\n",
       "      <td>1.548129e+05</td>\n",
       "      <td>0.486137</td>\n",
       "      <td>1.202785</td>\n",
       "    </tr>\n",
       "    <tr>\n",
       "      <th>std</th>\n",
       "      <td>9.249488</td>\n",
       "      <td>1.675084e+05</td>\n",
       "      <td>0.499839</td>\n",
       "      <td>0.872374</td>\n",
       "    </tr>\n",
       "    <tr>\n",
       "      <th>min</th>\n",
       "      <td>0.000000</td>\n",
       "      <td>0.000000e+00</td>\n",
       "      <td>0.000000</td>\n",
       "      <td>0.000000</td>\n",
       "    </tr>\n",
       "    <tr>\n",
       "      <th>25%</th>\n",
       "      <td>7.000000</td>\n",
       "      <td>5.190750e+04</td>\n",
       "      <td>0.000000</td>\n",
       "      <td>0.000000</td>\n",
       "    </tr>\n",
       "    <tr>\n",
       "      <th>50%</th>\n",
       "      <td>15.000000</td>\n",
       "      <td>1.080450e+05</td>\n",
       "      <td>0.000000</td>\n",
       "      <td>2.000000</td>\n",
       "    </tr>\n",
       "    <tr>\n",
       "      <th>75%</th>\n",
       "      <td>23.000000</td>\n",
       "      <td>1.858050e+05</td>\n",
       "      <td>1.000000</td>\n",
       "      <td>2.000000</td>\n",
       "    </tr>\n",
       "    <tr>\n",
       "      <th>max</th>\n",
       "      <td>31.000000</td>\n",
       "      <td>1.430040e+06</td>\n",
       "      <td>1.000000</td>\n",
       "      <td>2.000000</td>\n",
       "    </tr>\n",
       "  </tbody>\n",
       "</table>\n",
       "</div>"
      ],
      "text/plain": [
       "             goods     purchases      parking   rental_bag\n",
       "count  8043.000000  6.654000e+03  8043.000000  8043.000000\n",
       "mean     15.474326  1.548129e+05     0.486137     1.202785\n",
       "std       9.249488  1.675084e+05     0.499839     0.872374\n",
       "min       0.000000  0.000000e+00     0.000000     0.000000\n",
       "25%       7.000000  5.190750e+04     0.000000     0.000000\n",
       "50%      15.000000  1.080450e+05     0.000000     2.000000\n",
       "75%      23.000000  1.858050e+05     1.000000     2.000000\n",
       "max      31.000000  1.430040e+06     1.000000     2.000000"
      ]
     },
     "execution_count": 240,
     "metadata": {},
     "output_type": "execute_result"
    }
   ],
   "source": [
    "df.describe()"
   ]
  },
  {
   "cell_type": "code",
   "execution_count": 241,
   "id": "147b1f21",
   "metadata": {},
   "outputs": [
    {
     "data": {
      "text/html": [
       "<div>\n",
       "<style scoped>\n",
       "    .dataframe tbody tr th:only-of-type {\n",
       "        vertical-align: middle;\n",
       "    }\n",
       "\n",
       "    .dataframe tbody tr th {\n",
       "        vertical-align: top;\n",
       "    }\n",
       "\n",
       "    .dataframe thead th {\n",
       "        text-align: right;\n",
       "    }\n",
       "</style>\n",
       "<table border=\"1\" class=\"dataframe\">\n",
       "  <thead>\n",
       "    <tr style=\"text-align: right;\">\n",
       "      <th></th>\n",
       "      <th>goods</th>\n",
       "      <th>purchases</th>\n",
       "      <th>parking</th>\n",
       "      <th>rental_bag</th>\n",
       "      <th>date</th>\n",
       "    </tr>\n",
       "  </thead>\n",
       "  <tbody>\n",
       "    <tr>\n",
       "      <th>0</th>\n",
       "      <td>25</td>\n",
       "      <td>96120.0</td>\n",
       "      <td>0</td>\n",
       "      <td>2</td>\n",
       "      <td>2023-02-07</td>\n",
       "    </tr>\n",
       "    <tr>\n",
       "      <th>1</th>\n",
       "      <td>13</td>\n",
       "      <td>49710.0</td>\n",
       "      <td>0</td>\n",
       "      <td>2</td>\n",
       "      <td>2022-11-18</td>\n",
       "    </tr>\n",
       "    <tr>\n",
       "      <th>2</th>\n",
       "      <td>28</td>\n",
       "      <td>247380.0</td>\n",
       "      <td>1</td>\n",
       "      <td>2</td>\n",
       "      <td>2023-02-20</td>\n",
       "    </tr>\n",
       "    <tr>\n",
       "      <th>3</th>\n",
       "      <td>3</td>\n",
       "      <td>174430.0</td>\n",
       "      <td>1</td>\n",
       "      <td>0</td>\n",
       "      <td>2022-12-10</td>\n",
       "    </tr>\n",
       "    <tr>\n",
       "      <th>4</th>\n",
       "      <td>8</td>\n",
       "      <td>35510.0</td>\n",
       "      <td>0</td>\n",
       "      <td>1</td>\n",
       "      <td>2022-11-19</td>\n",
       "    </tr>\n",
       "  </tbody>\n",
       "</table>\n",
       "</div>"
      ],
      "text/plain": [
       "   goods  purchases  parking  rental_bag        date\n",
       "0     25    96120.0        0           2  2023-02-07\n",
       "1     13    49710.0        0           2  2022-11-18\n",
       "2     28   247380.0        1           2  2023-02-20\n",
       "3      3   174430.0        1           0  2022-12-10\n",
       "4      8    35510.0        0           1  2022-11-19"
      ]
     },
     "execution_count": 241,
     "metadata": {},
     "output_type": "execute_result"
    }
   ],
   "source": [
    "df.head()"
   ]
  },
  {
   "attachments": {},
   "cell_type": "markdown",
   "id": "2f9de35f",
   "metadata": {},
   "source": [
    "### Q1. 여러 변수간 상관관계를 확인하고자 한다. 상품 구매 수(goods), 결제 총 금액(purchases), 주차 여부(parking), 장바구니 대여 여부(rental_bag)간 피어슨 상관분석을 수행하고 그 결과 중 상관계수 절대값이 가장 큰 값을 구하시오\n",
    "※ 결측값이 포함된 데이터는 제거한 후에 상관분석을 수행하시오  \n",
    "※ 정답은 반올림하여 소수점 첫째 자리까지 출력하시오.\n",
    "(정답 예시: 22.9)"
   ]
  },
  {
   "cell_type": "code",
   "execution_count": 242,
   "id": "a09670d6",
   "metadata": {},
   "outputs": [
    {
     "data": {
      "text/plain": [
       "goods            0\n",
       "purchases     1389\n",
       "parking          0\n",
       "rental_bag       0\n",
       "date             0\n",
       "dtype: int64"
      ]
     },
     "execution_count": 242,
     "metadata": {},
     "output_type": "execute_result"
    }
   ],
   "source": [
    "df1 = df.copy()\n",
    "\n",
    "df1.isna().sum()   \n",
    "\n",
    "# purchases 에만 결측 존재\n"
   ]
  },
  {
   "cell_type": "code",
   "execution_count": 243,
   "id": "81d66692",
   "metadata": {},
   "outputs": [
    {
     "name": "stdout",
     "output_type": "stream",
     "text": [
      "(6654, 5)\n"
     ]
    },
    {
     "data": {
      "text/plain": [
       "goods         0\n",
       "purchases     0\n",
       "parking       0\n",
       "rental_bag    0\n",
       "date          0\n",
       "dtype: int64"
      ]
     },
     "execution_count": 243,
     "metadata": {},
     "output_type": "execute_result"
    }
   ],
   "source": [
    "df1_null = df1.loc[df1.purchases.notnull(),]\n",
    "\n",
    "print(df1_null.shape)\n",
    "df1_null.isna().sum()"
   ]
  },
  {
   "cell_type": "code",
   "execution_count": 244,
   "id": "b5fddb04",
   "metadata": {},
   "outputs": [
    {
     "data": {
      "text/plain": [
       "0.5"
      ]
     },
     "execution_count": 244,
     "metadata": {},
     "output_type": "execute_result"
    }
   ],
   "source": [
    "round(abs(df1_null.corr(method='pearson')).goods.sort_values(ascending = False)[1],1)\n",
    "\n",
    "# goods 기준으로 sort 해서 제일 큰수 \n"
   ]
  },
  {
   "cell_type": "code",
   "execution_count": 245,
   "id": "789a8833",
   "metadata": {},
   "outputs": [
    {
     "data": {
      "text/plain": [
       "'rental_bag'"
      ]
     },
     "execution_count": 245,
     "metadata": {},
     "output_type": "execute_result"
    }
   ],
   "source": [
    "(abs(df1_null.corr(method='pearson')).goods.sort_values(ascending = False)).index.values[1]\n",
    "\n",
    "# goods 와 상관관계가 제일 큰수를 갖은 column "
   ]
  },
  {
   "attachments": {},
   "cell_type": "markdown",
   "id": "35e135a8",
   "metadata": {},
   "source": [
    "### Q2. 특정 날짜 사이의 결제 총 금액(purchases) 평균을 구하려고 한다. 다음 단계에 따라 분석을 수행하고 질문에 답하시오.\n",
    "\n",
    "단계 1 : 결측값(Null)이 포함된 모든 행을 제거하시오  \n",
    "단계 2 : 단계 1을 수행한 데이터에서 결제 총 금액(purchases)이 49710인 날짜 st, 결제 총 금액(purchases)이 96120인 날짜 ed를 구한다.  \n",
    "- st와 ed 조건을 만족하는 데이터는 유일하다.\n",
    "\n",
    "단계 3 : 단계 2에서 구한 st와 ed 날짜 사이의 결제 총 금액(purchases) 평균을 구하시오(st와 ed 날도 포함한다.)  \n",
    "  \n",
    "※ 정답은 반올림하여 소수점 셋째 자리까지 출력하시오.\n",
    "(정답 예시: 0.229)"
   ]
  },
  {
   "cell_type": "code",
   "execution_count": 321,
   "id": "4107274d",
   "metadata": {},
   "outputs": [
    {
     "data": {
      "text/plain": [
       "goods         0\n",
       "purchases     0\n",
       "parking       0\n",
       "rental_bag    0\n",
       "date          0\n",
       "dtype: int64"
      ]
     },
     "execution_count": 321,
     "metadata": {},
     "output_type": "execute_result"
    }
   ],
   "source": [
    "df2 =df.copy()\n",
    "df2.dropna(how ='any',inplace=True)\n",
    "df2.isnull().sum()"
   ]
  },
  {
   "cell_type": "code",
   "execution_count": 322,
   "id": "92f332bc",
   "metadata": {},
   "outputs": [
    {
     "data": {
      "text/html": [
       "<div>\n",
       "<style scoped>\n",
       "    .dataframe tbody tr th:only-of-type {\n",
       "        vertical-align: middle;\n",
       "    }\n",
       "\n",
       "    .dataframe tbody tr th {\n",
       "        vertical-align: top;\n",
       "    }\n",
       "\n",
       "    .dataframe thead th {\n",
       "        text-align: right;\n",
       "    }\n",
       "</style>\n",
       "<table border=\"1\" class=\"dataframe\">\n",
       "  <thead>\n",
       "    <tr style=\"text-align: right;\">\n",
       "      <th></th>\n",
       "      <th>goods</th>\n",
       "      <th>purchases</th>\n",
       "      <th>parking</th>\n",
       "      <th>rental_bag</th>\n",
       "      <th>date</th>\n",
       "    </tr>\n",
       "  </thead>\n",
       "  <tbody>\n",
       "    <tr>\n",
       "      <th>8037</th>\n",
       "      <td>22</td>\n",
       "      <td>95230.0</td>\n",
       "      <td>1</td>\n",
       "      <td>2</td>\n",
       "      <td>2022-12-08</td>\n",
       "    </tr>\n",
       "    <tr>\n",
       "      <th>8038</th>\n",
       "      <td>9</td>\n",
       "      <td>75870.0</td>\n",
       "      <td>0</td>\n",
       "      <td>1</td>\n",
       "      <td>2022-11-28</td>\n",
       "    </tr>\n",
       "    <tr>\n",
       "      <th>8039</th>\n",
       "      <td>21</td>\n",
       "      <td>159070.0</td>\n",
       "      <td>1</td>\n",
       "      <td>2</td>\n",
       "      <td>2022-12-20</td>\n",
       "    </tr>\n",
       "    <tr>\n",
       "      <th>8040</th>\n",
       "      <td>10</td>\n",
       "      <td>92720.0</td>\n",
       "      <td>0</td>\n",
       "      <td>0</td>\n",
       "      <td>2023-01-18</td>\n",
       "    </tr>\n",
       "    <tr>\n",
       "      <th>8041</th>\n",
       "      <td>13</td>\n",
       "      <td>764510.0</td>\n",
       "      <td>1</td>\n",
       "      <td>0</td>\n",
       "      <td>2023-01-05</td>\n",
       "    </tr>\n",
       "  </tbody>\n",
       "</table>\n",
       "</div>"
      ],
      "text/plain": [
       "      goods  purchases  parking  rental_bag        date\n",
       "8037     22    95230.0        1           2  2022-12-08\n",
       "8038      9    75870.0        0           1  2022-11-28\n",
       "8039     21   159070.0        1           2  2022-12-20\n",
       "8040     10    92720.0        0           0  2023-01-18\n",
       "8041     13   764510.0        1           0  2023-01-05"
      ]
     },
     "execution_count": 322,
     "metadata": {},
     "output_type": "execute_result"
    }
   ],
   "source": [
    "df2.tail()"
   ]
  },
  {
   "cell_type": "code",
   "execution_count": 323,
   "id": "14980631",
   "metadata": {},
   "outputs": [
    {
     "name": "stdout",
     "output_type": "stream",
     "text": [
      "<class 'pandas.core.frame.DataFrame'>\n",
      "Int64Index: 6654 entries, 0 to 8041\n",
      "Data columns (total 5 columns):\n",
      " #   Column      Non-Null Count  Dtype  \n",
      "---  ------      --------------  -----  \n",
      " 0   goods       6654 non-null   int64  \n",
      " 1   purchases   6654 non-null   float64\n",
      " 2   parking     6654 non-null   int64  \n",
      " 3   rental_bag  6654 non-null   int64  \n",
      " 4   date        6654 non-null   object \n",
      "dtypes: float64(1), int64(3), object(1)\n",
      "memory usage: 311.9+ KB\n"
     ]
    }
   ],
   "source": [
    "df2.info()\n",
    "\n",
    "# 중간에 drop 된 index 가 있어서 \n",
    "# Int64Index: 6654 entries, 0 to 8041 \n",
    "# 으로 표시 된다."
   ]
  },
  {
   "cell_type": "code",
   "execution_count": 324,
   "id": "a5319133",
   "metadata": {},
   "outputs": [
    {
     "name": "stdout",
     "output_type": "stream",
     "text": [
      "<class 'pandas.core.frame.DataFrame'>\n",
      "RangeIndex: 6654 entries, 0 to 6653\n",
      "Data columns (total 5 columns):\n",
      " #   Column      Non-Null Count  Dtype  \n",
      "---  ------      --------------  -----  \n",
      " 0   goods       6654 non-null   int64  \n",
      " 1   purchases   6654 non-null   float64\n",
      " 2   parking     6654 non-null   int64  \n",
      " 3   rental_bag  6654 non-null   int64  \n",
      " 4   date        6654 non-null   object \n",
      "dtypes: float64(1), int64(3), object(1)\n",
      "memory usage: 260.0+ KB\n"
     ]
    }
   ],
   "source": [
    "df2.reset_index(inplace = True ,drop = True)\n",
    "df2.info()\n",
    "\n",
    "# 인텍스를 다시 설정 0 ~ 6654"
   ]
  },
  {
   "cell_type": "code",
   "execution_count": 325,
   "id": "aae1ef0d",
   "metadata": {},
   "outputs": [
    {
     "data": {
      "text/html": [
       "<div>\n",
       "<style scoped>\n",
       "    .dataframe tbody tr th:only-of-type {\n",
       "        vertical-align: middle;\n",
       "    }\n",
       "\n",
       "    .dataframe tbody tr th {\n",
       "        vertical-align: top;\n",
       "    }\n",
       "\n",
       "    .dataframe thead th {\n",
       "        text-align: right;\n",
       "    }\n",
       "</style>\n",
       "<table border=\"1\" class=\"dataframe\">\n",
       "  <thead>\n",
       "    <tr style=\"text-align: right;\">\n",
       "      <th></th>\n",
       "      <th>goods</th>\n",
       "      <th>purchases</th>\n",
       "      <th>parking</th>\n",
       "      <th>rental_bag</th>\n",
       "      <th>date</th>\n",
       "    </tr>\n",
       "  </thead>\n",
       "  <tbody>\n",
       "    <tr>\n",
       "      <th>6649</th>\n",
       "      <td>22</td>\n",
       "      <td>95230.0</td>\n",
       "      <td>1</td>\n",
       "      <td>2</td>\n",
       "      <td>2022-12-08</td>\n",
       "    </tr>\n",
       "    <tr>\n",
       "      <th>6650</th>\n",
       "      <td>9</td>\n",
       "      <td>75870.0</td>\n",
       "      <td>0</td>\n",
       "      <td>1</td>\n",
       "      <td>2022-11-28</td>\n",
       "    </tr>\n",
       "    <tr>\n",
       "      <th>6651</th>\n",
       "      <td>21</td>\n",
       "      <td>159070.0</td>\n",
       "      <td>1</td>\n",
       "      <td>2</td>\n",
       "      <td>2022-12-20</td>\n",
       "    </tr>\n",
       "    <tr>\n",
       "      <th>6652</th>\n",
       "      <td>10</td>\n",
       "      <td>92720.0</td>\n",
       "      <td>0</td>\n",
       "      <td>0</td>\n",
       "      <td>2023-01-18</td>\n",
       "    </tr>\n",
       "    <tr>\n",
       "      <th>6653</th>\n",
       "      <td>13</td>\n",
       "      <td>764510.0</td>\n",
       "      <td>1</td>\n",
       "      <td>0</td>\n",
       "      <td>2023-01-05</td>\n",
       "    </tr>\n",
       "  </tbody>\n",
       "</table>\n",
       "</div>"
      ],
      "text/plain": [
       "      goods  purchases  parking  rental_bag        date\n",
       "6649     22    95230.0        1           2  2022-12-08\n",
       "6650      9    75870.0        0           1  2022-11-28\n",
       "6651     21   159070.0        1           2  2022-12-20\n",
       "6652     10    92720.0        0           0  2023-01-18\n",
       "6653     13   764510.0        1           0  2023-01-05"
      ]
     },
     "execution_count": 325,
     "metadata": {},
     "output_type": "execute_result"
    }
   ],
   "source": [
    "df2.tail()"
   ]
  },
  {
   "cell_type": "code",
   "execution_count": 326,
   "id": "e9be7081",
   "metadata": {},
   "outputs": [
    {
     "data": {
      "text/html": [
       "<div>\n",
       "<style scoped>\n",
       "    .dataframe tbody tr th:only-of-type {\n",
       "        vertical-align: middle;\n",
       "    }\n",
       "\n",
       "    .dataframe tbody tr th {\n",
       "        vertical-align: top;\n",
       "    }\n",
       "\n",
       "    .dataframe thead th {\n",
       "        text-align: right;\n",
       "    }\n",
       "</style>\n",
       "<table border=\"1\" class=\"dataframe\">\n",
       "  <thead>\n",
       "    <tr style=\"text-align: right;\">\n",
       "      <th></th>\n",
       "      <th>goods</th>\n",
       "      <th>purchases</th>\n",
       "      <th>parking</th>\n",
       "      <th>rental_bag</th>\n",
       "      <th>date</th>\n",
       "    </tr>\n",
       "  </thead>\n",
       "  <tbody>\n",
       "    <tr>\n",
       "      <th>1</th>\n",
       "      <td>13</td>\n",
       "      <td>49710.0</td>\n",
       "      <td>0</td>\n",
       "      <td>2</td>\n",
       "      <td>2022-11-18</td>\n",
       "    </tr>\n",
       "  </tbody>\n",
       "</table>\n",
       "</div>"
      ],
      "text/plain": [
       "   goods  purchases  parking  rental_bag        date\n",
       "1     13    49710.0        0           2  2022-11-18"
      ]
     },
     "execution_count": 326,
     "metadata": {},
     "output_type": "execute_result"
    }
   ],
   "source": [
    "df2.loc[df2.purchases == 49710, ]\n",
    "\n",
    "# 원래부터가 index 가 1 이였네."
   ]
  },
  {
   "attachments": {},
   "cell_type": "markdown",
   "id": "2d61f721",
   "metadata": {},
   "source": [
    "😂 정수형 명목적 묵시적 인덱스의 구분"
   ]
  },
  {
   "cell_type": "code",
   "execution_count": 291,
   "id": "4c27001a",
   "metadata": {},
   "outputs": [
    {
     "data": {
      "text/plain": [
       "'2022-11-18'"
      ]
     },
     "execution_count": 291,
     "metadata": {},
     "output_type": "execute_result"
    }
   ],
   "source": [
    "\n",
    "# st = df2.loc[df2.purchases == 49710, 'date'][1]      \n",
    "# df 때부터 있던 원래 인덱스 [1] 를 넣어야 한다. 여기서는 우연히 0, 1 이라서 혼동됨\n",
    "# [int] 인경우 명목적 인덱스로 간주한다. \n",
    "\n",
    "st = df2.loc[df2.purchases == 49710, 'date'].values[0]\n",
    "st\n",
    "\n",
    "# df2.loc[df2.purchases == 49710, 'date'] 은 왜 안될까?  Serise 라서\n",
    "# 와\n",
    "# df2.loc[df2.purchases == 49710, 'date'][0] 은 왜 안될까? [1] 이여만 할까? --> df 에서부터 갖고 있는 원래 인덱스[1] 를 넣어야 한다."
   ]
  },
  {
   "cell_type": "code",
   "execution_count": 289,
   "id": "8d428d98",
   "metadata": {},
   "outputs": [
    {
     "name": "stdout",
     "output_type": "stream",
     "text": [
      "         date\n",
      "0  2023-02-07\n"
     ]
    },
    {
     "data": {
      "text/plain": [
       "'2023-02-07'"
      ]
     },
     "execution_count": 289,
     "metadata": {},
     "output_type": "execute_result"
    }
   ],
   "source": [
    "print(df2.loc[df2.purchases == 96120, ['date']])\n",
    "ed = df2.loc[df2.purchases == 96120, 'date'].values[0]\n",
    "ed\n",
    "\n",
    "# ed = df2.loc[df2.purchases == 96120, 'date'][1] 여기는 왜 이게 안될까?"
   ]
  },
  {
   "cell_type": "code",
   "execution_count": 292,
   "id": "6fb80fdc",
   "metadata": {},
   "outputs": [
    {
     "data": {
      "text/plain": [
       "0        96120.0\n",
       "1        49710.0\n",
       "3       174430.0\n",
       "4        35510.0\n",
       "5        90330.0\n",
       "          ...   \n",
       "8037     95230.0\n",
       "8038     75870.0\n",
       "8039    159070.0\n",
       "8040     92720.0\n",
       "8041    764510.0\n",
       "Name: purchases, Length: 4609, dtype: float64"
      ]
     },
     "execution_count": 292,
     "metadata": {},
     "output_type": "execute_result"
    }
   ],
   "source": [
    "mask = (df2['date'] >= st) & (df2['date'] <= ed)\n",
    "df2.loc[mask,'purchases']"
   ]
  },
  {
   "attachments": {},
   "cell_type": "markdown",
   "id": "66ad0a65",
   "metadata": {},
   "source": [
    "### Q3. 데이터를 바탕으로 장바구니 대여 여부(rental_bag)를 예측하는 모델을 만드려고 한다. 다음 단계에 따라 분석을 수행하고 질문에 답하시오.\n",
    "\n",
    "단계 1 : 결제 총 금액(purchases)의 결측 값(Null)을 결제 총 금액(purchases)의 평균값으로 대체한다.  \n",
    "단계 2 : 장바구니 대여 여부(rental_bag) 컬럼 값을 대여하지 않은 경우는 0, 대여한 경우는 종류에 상관없이 1로 변환한다.  \n",
    "단계 3 : 날짜가 2월이 아닌 데이터를 Train Set으로, 2월인 데이터를 Test Set으로 분할한다.  \n",
    "단계 4 : 상품 구매 수(goods)와 결제 총 금액(purchases) 컬럼에 대해 Train Set을 기준으로 Z-score 표준화(Standardization) 한다.  \n",
    "단계 5 : Train Set으로 아래 조건에 따라 로지스틱 회귀분석을 학습한다.  \n",
    "- 독립 변수 : 상품 구매 수(goods), 결제 총 금액(purchases), 주차 여부(parking)  \n",
    "- 종속 변수 : 장바구니 대여 여부(rental_bag)  \n",
    "\n",
    "단계 6 : 단계 5에서 학습한 모델을 Test Set에 적용하여 장바구니 대여 여부(rental_bag)를 예측한다. Test Set에 주어진 종속 변수를 활용하여 F1-score로 모델을 평가하시오  \n",
    "            \n",
    "※ 정답은 반올림하여 소수점 둘째 자리까지 출력하시오.  \n",
    "(정답 예시: 2.29)"
   ]
  },
  {
   "cell_type": "code",
   "execution_count": 257,
   "id": "461f2109",
   "metadata": {},
   "outputs": [
    {
     "data": {
      "text/plain": [
       "goods            0\n",
       "purchases     1389\n",
       "parking          0\n",
       "rental_bag       0\n",
       "date             0\n",
       "dtype: int64"
      ]
     },
     "execution_count": 257,
     "metadata": {},
     "output_type": "execute_result"
    }
   ],
   "source": [
    "df3 = df.copy()\n",
    "df3.isna().sum()"
   ]
  },
  {
   "cell_type": "code",
   "execution_count": 260,
   "id": "f44f8738",
   "metadata": {},
   "outputs": [],
   "source": [
    "df3.fillna(df3.purchases.mean(), inplace=True)"
   ]
  },
  {
   "cell_type": "code",
   "execution_count": 261,
   "id": "b00614bb",
   "metadata": {},
   "outputs": [
    {
     "data": {
      "text/plain": [
       "goods         0\n",
       "purchases     0\n",
       "parking       0\n",
       "rental_bag    0\n",
       "date          0\n",
       "dtype: int64"
      ]
     },
     "execution_count": 261,
     "metadata": {},
     "output_type": "execute_result"
    }
   ],
   "source": [
    "df3.isna().sum()"
   ]
  },
  {
   "cell_type": "code",
   "execution_count": 262,
   "id": "56e9b0f0",
   "metadata": {},
   "outputs": [
    {
     "data": {
      "text/plain": [
       "array([2, 0, 1])"
      ]
     },
     "execution_count": 262,
     "metadata": {},
     "output_type": "execute_result"
    }
   ],
   "source": [
    "df3.rental_bag.unique()"
   ]
  },
  {
   "cell_type": "code",
   "execution_count": 264,
   "id": "ae0567f8",
   "metadata": {},
   "outputs": [],
   "source": [
    "df3[df3.rental_bag == 2] = 1"
   ]
  },
  {
   "cell_type": "code",
   "execution_count": 265,
   "id": "59a858bc",
   "metadata": {},
   "outputs": [
    {
     "data": {
      "text/plain": [
       "array([1, 0])"
      ]
     },
     "execution_count": 265,
     "metadata": {},
     "output_type": "execute_result"
    }
   ],
   "source": [
    "df3.rental_bag.unique()"
   ]
  },
  {
   "attachments": {},
   "cell_type": "markdown",
   "id": "5c3524a0",
   "metadata": {},
   "source": [
    "#### 필요 라이브러리 함수,클래스 및 설정값 목록  \n",
    "\n",
    "\n",
    "from sklearn.linear_model import LogisticRegression  \n",
    "from sklearn.preprocessing import StandardScaler  \n",
    "from sklearn.metrics import f1_score  \n",
    "random_state = 229  \n",
    "문제 지시 외 Default 값 사용  "
   ]
  },
  {
   "cell_type": "code",
   "execution_count": null,
   "id": "9847a85c",
   "metadata": {},
   "outputs": [],
   "source": []
  }
 ],
 "metadata": {
  "kernelspec": {
   "display_name": "Python 3.7.6 64-bit ('3.7.6')",
   "language": "python",
   "name": "python3"
  },
  "language_info": {
   "codemirror_mode": {
    "name": "ipython",
    "version": 3
   },
   "file_extension": ".py",
   "mimetype": "text/x-python",
   "name": "python",
   "nbconvert_exporter": "python",
   "pygments_lexer": "ipython3",
   "version": "3.7.6"
  },
  "vscode": {
   "interpreter": {
    "hash": "162ceaf09f938773ad028a3a2ad644135fdbb6560e1ade87eeac244d09a7763d"
   }
  }
 },
 "nbformat": 4,
 "nbformat_minor": 5
}
